{
 "cells": [
  {
   "cell_type": "markdown",
   "id": "90b36561",
   "metadata": {},
   "source": [
    "# Reliability of Borrowers: Hypothesis Testing"
   ]
  },
  {
   "cell_type": "markdown",
   "id": "987fdf8d-1aad-411f-a0dc-6c3cb9a04100",
   "metadata": {},
   "source": [
    "Credit Department Project: Loan Repayment Analysis\n",
    "\n",
    "The project involves analyzing the relationship between various factors, including marital status, number of children, income level, and loan objectives, with the timely repayment of loans. The credit department of the bank has assigned the task to determine the impact of these factors on loan repayment.\n",
    "\n",
    "The project will include the following steps:\n",
    "\n",
    "- Hypothesis Testing: Testing the hypotheses related to the interconnection between the presence and number of children, marital status, income level, and loan objectives with loan repayment on time.\n",
    "- Data Analysis: Analyzing the available data to identify patterns and trends related to loan repayment and the factors under consideration.\n",
    "- Data Preprocessing: Preprocessing the data, including cleaning, organizing, and transforming the data into a suitable format for statistical analysis.\n",
    "- Statistical Analysis: Applying appropriate statistical techniques to analyze the data and draw conclusions about the interconnection between the factors and loan repayment.\n",
    "- Results Interpretation: Interpreting the results of the statistical analysis and drawing meaningful conclusions to guide decision-making in the credit department.\n",
    "\n",
    "Libraries: Pandas, NumPy, Matplotlib, Scikit-learn, Statsmodels."
   ]
  },
  {
   "cell_type": "markdown",
   "id": "ac7fcf79",
   "metadata": {},
   "source": [
    "### Data Review"
   ]
  },
  {
   "cell_type": "code",
   "execution_count": 1,
   "id": "ab33924c",
   "metadata": {
    "tags": []
   },
   "outputs": [],
   "source": [
    "import pandas as pd\n",
    "import matplotlib.pyplot as plt\n",
    "import numpy as np\n",
    "import seaborn as sns"
   ]
  },
  {
   "cell_type": "code",
   "execution_count": 2,
   "id": "d38438f0",
   "metadata": {
    "tags": []
   },
   "outputs": [],
   "source": [
    "data = pd.read_csv('data.csv')"
   ]
  },
  {
   "cell_type": "code",
   "execution_count": 3,
   "id": "6f5e0b75",
   "metadata": {},
   "outputs": [
    {
     "data": {
      "text/html": [
       "<div>\n",
       "<style scoped>\n",
       "    .dataframe tbody tr th:only-of-type {\n",
       "        vertical-align: middle;\n",
       "    }\n",
       "\n",
       "    .dataframe tbody tr th {\n",
       "        vertical-align: top;\n",
       "    }\n",
       "\n",
       "    .dataframe thead th {\n",
       "        text-align: right;\n",
       "    }\n",
       "</style>\n",
       "<table border=\"1\" class=\"dataframe\">\n",
       "  <thead>\n",
       "    <tr style=\"text-align: right;\">\n",
       "      <th></th>\n",
       "      <th>children</th>\n",
       "      <th>days_employed</th>\n",
       "      <th>dob_years</th>\n",
       "      <th>education</th>\n",
       "      <th>education_id</th>\n",
       "      <th>family_status</th>\n",
       "      <th>family_status_id</th>\n",
       "      <th>gender</th>\n",
       "      <th>income_type</th>\n",
       "      <th>debt</th>\n",
       "      <th>total_income</th>\n",
       "      <th>purpose</th>\n",
       "    </tr>\n",
       "  </thead>\n",
       "  <tbody>\n",
       "    <tr>\n",
       "      <th>0</th>\n",
       "      <td>1</td>\n",
       "      <td>-8437.673028</td>\n",
       "      <td>42</td>\n",
       "      <td>высшее</td>\n",
       "      <td>0</td>\n",
       "      <td>женат / замужем</td>\n",
       "      <td>0</td>\n",
       "      <td>F</td>\n",
       "      <td>сотрудник</td>\n",
       "      <td>0</td>\n",
       "      <td>253875.639453</td>\n",
       "      <td>покупка жилья</td>\n",
       "    </tr>\n",
       "    <tr>\n",
       "      <th>1</th>\n",
       "      <td>1</td>\n",
       "      <td>-4024.803754</td>\n",
       "      <td>36</td>\n",
       "      <td>среднее</td>\n",
       "      <td>1</td>\n",
       "      <td>женат / замужем</td>\n",
       "      <td>0</td>\n",
       "      <td>F</td>\n",
       "      <td>сотрудник</td>\n",
       "      <td>0</td>\n",
       "      <td>112080.014102</td>\n",
       "      <td>приобретение автомобиля</td>\n",
       "    </tr>\n",
       "    <tr>\n",
       "      <th>2</th>\n",
       "      <td>0</td>\n",
       "      <td>-5623.422610</td>\n",
       "      <td>33</td>\n",
       "      <td>Среднее</td>\n",
       "      <td>1</td>\n",
       "      <td>женат / замужем</td>\n",
       "      <td>0</td>\n",
       "      <td>M</td>\n",
       "      <td>сотрудник</td>\n",
       "      <td>0</td>\n",
       "      <td>145885.952297</td>\n",
       "      <td>покупка жилья</td>\n",
       "    </tr>\n",
       "    <tr>\n",
       "      <th>3</th>\n",
       "      <td>3</td>\n",
       "      <td>-4124.747207</td>\n",
       "      <td>32</td>\n",
       "      <td>среднее</td>\n",
       "      <td>1</td>\n",
       "      <td>женат / замужем</td>\n",
       "      <td>0</td>\n",
       "      <td>M</td>\n",
       "      <td>сотрудник</td>\n",
       "      <td>0</td>\n",
       "      <td>267628.550329</td>\n",
       "      <td>дополнительное образование</td>\n",
       "    </tr>\n",
       "    <tr>\n",
       "      <th>4</th>\n",
       "      <td>0</td>\n",
       "      <td>340266.072047</td>\n",
       "      <td>53</td>\n",
       "      <td>среднее</td>\n",
       "      <td>1</td>\n",
       "      <td>гражданский брак</td>\n",
       "      <td>1</td>\n",
       "      <td>F</td>\n",
       "      <td>пенсионер</td>\n",
       "      <td>0</td>\n",
       "      <td>158616.077870</td>\n",
       "      <td>сыграть свадьбу</td>\n",
       "    </tr>\n",
       "  </tbody>\n",
       "</table>\n",
       "</div>"
      ],
      "text/plain": [
       "   children  days_employed  dob_years education  education_id  \\\n",
       "0         1   -8437.673028         42    высшее             0   \n",
       "1         1   -4024.803754         36   среднее             1   \n",
       "2         0   -5623.422610         33   Среднее             1   \n",
       "3         3   -4124.747207         32   среднее             1   \n",
       "4         0  340266.072047         53   среднее             1   \n",
       "\n",
       "      family_status  family_status_id gender income_type  debt   total_income  \\\n",
       "0   женат / замужем                 0      F   сотрудник     0  253875.639453   \n",
       "1   женат / замужем                 0      F   сотрудник     0  112080.014102   \n",
       "2   женат / замужем                 0      M   сотрудник     0  145885.952297   \n",
       "3   женат / замужем                 0      M   сотрудник     0  267628.550329   \n",
       "4  гражданский брак                 1      F   пенсионер     0  158616.077870   \n",
       "\n",
       "                      purpose  \n",
       "0               покупка жилья  \n",
       "1     приобретение автомобиля  \n",
       "2               покупка жилья  \n",
       "3  дополнительное образование  \n",
       "4             сыграть свадьбу  "
      ]
     },
     "execution_count": 3,
     "metadata": {},
     "output_type": "execute_result"
    }
   ],
   "source": [
    "data.head(5)"
   ]
  },
  {
   "cell_type": "code",
   "execution_count": 4,
   "id": "b32ec59a",
   "metadata": {
    "scrolled": true,
    "tags": []
   },
   "outputs": [
    {
     "name": "stdout",
     "output_type": "stream",
     "text": [
      "<class 'pandas.core.frame.DataFrame'>\n",
      "RangeIndex: 21525 entries, 0 to 21524\n",
      "Data columns (total 12 columns):\n",
      " #   Column            Non-Null Count  Dtype  \n",
      "---  ------            --------------  -----  \n",
      " 0   children          21525 non-null  int64  \n",
      " 1   days_employed     19351 non-null  float64\n",
      " 2   dob_years         21525 non-null  int64  \n",
      " 3   education         21525 non-null  object \n",
      " 4   education_id      21525 non-null  int64  \n",
      " 5   family_status     21525 non-null  object \n",
      " 6   family_status_id  21525 non-null  int64  \n",
      " 7   gender            21525 non-null  object \n",
      " 8   income_type       21525 non-null  object \n",
      " 9   debt              21525 non-null  int64  \n",
      " 10  total_income      19351 non-null  float64\n",
      " 11  purpose           21525 non-null  object \n",
      "dtypes: float64(2), int64(5), object(5)\n",
      "memory usage: 2.0+ MB\n"
     ]
    }
   ],
   "source": [
    "data.info()"
   ]
  },
  {
   "cell_type": "code",
   "execution_count": 5,
   "id": "42b73457-040a-44ae-9dcb-f468aa5cd893",
   "metadata": {},
   "outputs": [
    {
     "data": {
      "text/html": [
       "<div>\n",
       "<style scoped>\n",
       "    .dataframe tbody tr th:only-of-type {\n",
       "        vertical-align: middle;\n",
       "    }\n",
       "\n",
       "    .dataframe tbody tr th {\n",
       "        vertical-align: top;\n",
       "    }\n",
       "\n",
       "    .dataframe thead th {\n",
       "        text-align: right;\n",
       "    }\n",
       "</style>\n",
       "<table border=\"1\" class=\"dataframe\">\n",
       "  <thead>\n",
       "    <tr style=\"text-align: right;\">\n",
       "      <th></th>\n",
       "      <th>count</th>\n",
       "      <th>mean</th>\n",
       "      <th>std</th>\n",
       "      <th>min</th>\n",
       "      <th>25%</th>\n",
       "      <th>50%</th>\n",
       "      <th>75%</th>\n",
       "      <th>max</th>\n",
       "    </tr>\n",
       "  </thead>\n",
       "  <tbody>\n",
       "    <tr>\n",
       "      <th>children</th>\n",
       "      <td>21525.0</td>\n",
       "      <td>0.538908</td>\n",
       "      <td>1.381587</td>\n",
       "      <td>-1.000000</td>\n",
       "      <td>0.000000</td>\n",
       "      <td>0.000000</td>\n",
       "      <td>1.000000</td>\n",
       "      <td>2.000000e+01</td>\n",
       "    </tr>\n",
       "    <tr>\n",
       "      <th>days_employed</th>\n",
       "      <td>19351.0</td>\n",
       "      <td>63046.497661</td>\n",
       "      <td>140827.311974</td>\n",
       "      <td>-18388.949901</td>\n",
       "      <td>-2747.423625</td>\n",
       "      <td>-1203.369529</td>\n",
       "      <td>-291.095954</td>\n",
       "      <td>4.017554e+05</td>\n",
       "    </tr>\n",
       "    <tr>\n",
       "      <th>dob_years</th>\n",
       "      <td>21525.0</td>\n",
       "      <td>43.293380</td>\n",
       "      <td>12.574584</td>\n",
       "      <td>0.000000</td>\n",
       "      <td>33.000000</td>\n",
       "      <td>42.000000</td>\n",
       "      <td>53.000000</td>\n",
       "      <td>7.500000e+01</td>\n",
       "    </tr>\n",
       "    <tr>\n",
       "      <th>education_id</th>\n",
       "      <td>21525.0</td>\n",
       "      <td>0.817236</td>\n",
       "      <td>0.548138</td>\n",
       "      <td>0.000000</td>\n",
       "      <td>1.000000</td>\n",
       "      <td>1.000000</td>\n",
       "      <td>1.000000</td>\n",
       "      <td>4.000000e+00</td>\n",
       "    </tr>\n",
       "    <tr>\n",
       "      <th>family_status_id</th>\n",
       "      <td>21525.0</td>\n",
       "      <td>0.972544</td>\n",
       "      <td>1.420324</td>\n",
       "      <td>0.000000</td>\n",
       "      <td>0.000000</td>\n",
       "      <td>0.000000</td>\n",
       "      <td>1.000000</td>\n",
       "      <td>4.000000e+00</td>\n",
       "    </tr>\n",
       "    <tr>\n",
       "      <th>debt</th>\n",
       "      <td>21525.0</td>\n",
       "      <td>0.080883</td>\n",
       "      <td>0.272661</td>\n",
       "      <td>0.000000</td>\n",
       "      <td>0.000000</td>\n",
       "      <td>0.000000</td>\n",
       "      <td>0.000000</td>\n",
       "      <td>1.000000e+00</td>\n",
       "    </tr>\n",
       "    <tr>\n",
       "      <th>total_income</th>\n",
       "      <td>19351.0</td>\n",
       "      <td>167422.302208</td>\n",
       "      <td>102971.566448</td>\n",
       "      <td>20667.263793</td>\n",
       "      <td>103053.152913</td>\n",
       "      <td>145017.937533</td>\n",
       "      <td>203435.067663</td>\n",
       "      <td>2.265604e+06</td>\n",
       "    </tr>\n",
       "  </tbody>\n",
       "</table>\n",
       "</div>"
      ],
      "text/plain": [
       "                    count           mean            std           min  \\\n",
       "children          21525.0       0.538908       1.381587     -1.000000   \n",
       "days_employed     19351.0   63046.497661  140827.311974 -18388.949901   \n",
       "dob_years         21525.0      43.293380      12.574584      0.000000   \n",
       "education_id      21525.0       0.817236       0.548138      0.000000   \n",
       "family_status_id  21525.0       0.972544       1.420324      0.000000   \n",
       "debt              21525.0       0.080883       0.272661      0.000000   \n",
       "total_income      19351.0  167422.302208  102971.566448  20667.263793   \n",
       "\n",
       "                            25%            50%            75%           max  \n",
       "children               0.000000       0.000000       1.000000  2.000000e+01  \n",
       "days_employed      -2747.423625   -1203.369529    -291.095954  4.017554e+05  \n",
       "dob_years             33.000000      42.000000      53.000000  7.500000e+01  \n",
       "education_id           1.000000       1.000000       1.000000  4.000000e+00  \n",
       "family_status_id       0.000000       0.000000       1.000000  4.000000e+00  \n",
       "debt                   0.000000       0.000000       0.000000  1.000000e+00  \n",
       "total_income      103053.152913  145017.937533  203435.067663  2.265604e+06  "
      ]
     },
     "execution_count": 5,
     "metadata": {},
     "output_type": "execute_result"
    }
   ],
   "source": [
    "data.describe().T"
   ]
  },
  {
   "cell_type": "markdown",
   "id": "dbca4eff",
   "metadata": {},
   "source": [
    "**Data Description**\n",
    "- **children** - number of children in the family\n",
    "- **days_employed** — total work experience in days\n",
    "- **dob_years** — client's age in years\n",
    "- **education** — the level of education of the client\n",
    "- **education_id** — education level identifier\n",
    "- **family_status** - marital status\n",
    "- **family_status_id** — marital status identifier\n",
    "- **gender** — gender of the client\n",
    "- **income_type** — employment type\n",
    "- **debt** — whether he had a debt to repay loans\n",
    "- **total_income** — monthly income\n",
    "- **purpose** — the purpose of the loan"
   ]
  },
  {
   "cell_type": "markdown",
   "id": "d4e37ba1",
   "metadata": {},
   "source": [
    "**Conclusions**\n",
    "\n",
    "Each line of the table contains the personal data of the clients of the bank's credit department. Some of the columns provide us with socio-demographic data. The other part is data about the loan itself, namely the purpose of obtaining a loan, information about debts for repayment of loans in the past.\n",
    "\n",
    "Preliminarily, it can be argued that there is enough data to test hypotheses. But there are gaps in the data, style discrepancies are found, which lead to the spread of duplicates.\n",
    "\n",
    "To move forward, you need to fix problems in the data."
   ]
  },
  {
   "cell_type": "markdown",
   "id": "7b85ac2d",
   "metadata": {},
   "source": [
    "### Step 2.2 Fill in the gaps"
   ]
  },
  {
   "cell_type": "code",
   "execution_count": 6,
   "id": "0c7b1f11",
   "metadata": {
    "scrolled": true
   },
   "outputs": [
    {
     "name": "stdout",
     "output_type": "stream",
     "text": [
      "Na quantity:\n"
     ]
    },
    {
     "data": {
      "text/plain": [
       "children             0.000000\n",
       "days_employed       10.099884\n",
       "dob_years            0.000000\n",
       "education            0.000000\n",
       "education_id         0.000000\n",
       "family_status        0.000000\n",
       "family_status_id     0.000000\n",
       "gender               0.000000\n",
       "income_type          0.000000\n",
       "debt                 0.000000\n",
       "total_income        10.099884\n",
       "purpose              0.000000\n",
       "dtype: float64"
      ]
     },
     "execution_count": 6,
     "metadata": {},
     "output_type": "execute_result"
    }
   ],
   "source": [
    "print('Na quantity:')\n",
    "data.isna().mean()*100"
   ]
  },
  {
   "cell_type": "markdown",
   "id": "1d209480",
   "metadata": {},
   "source": [
    "Gaps were found in the days_employed and total_income columns."
   ]
  },
  {
   "cell_type": "markdown",
   "id": "558ff5fc",
   "metadata": {},
   "source": [
    "- Data gaps in the **days_employed** and **total_income** columns are the same proportion, and they are also quantitatively identical. From this we can conclude that they have a common nature, and probably they were formed due to the systematic non-inclusion / non-inclusion of data; for clarification, it is necessary to refer to the source of the unloading.\n",
    "\n",
    "- Their percentage is too large to delete rows, otherwise a significant amount of data will be lost.\n",
    "\n",
    "- They must be filled. It is worth filling in the median values ​​in order to minimally affect the results. This way we avoid deleting lines with potentially important information. The **days_employed** column needs to be converted because there is quantitative data with a negative value, which cannot be true."
   ]
  },
  {
   "cell_type": "markdown",
   "id": "d4eb9d12",
   "metadata": {},
   "source": [
    "### Step 2.1 Checking data for anomalies and corrections."
   ]
  },
  {
   "cell_type": "code",
   "execution_count": 7,
   "id": "0cd23054",
   "metadata": {},
   "outputs": [
    {
     "data": {
      "text/plain": [
       "2174"
      ]
     },
     "execution_count": 7,
     "metadata": {},
     "output_type": "execute_result"
    }
   ],
   "source": [
    "data[\"days_employed\"] = data[\"days_employed\"].abs()\n",
    "data[\"days_employed\"].isna().sum()"
   ]
  },
  {
   "cell_type": "markdown",
   "id": "24fdc68e",
   "metadata": {},
   "source": [
    "Negative values could be the result of a data entry error.\n",
    "- Negative values have been inverted"
   ]
  },
  {
   "cell_type": "markdown",
   "id": "9016faad",
   "metadata": {},
   "source": [
    "### Step 2.2 Checking data for anomalies and corrections."
   ]
  },
  {
   "cell_type": "markdown",
   "id": "ea92700e",
   "metadata": {},
   "source": [
    "In addition to negative values in the **days_employed** column, there are unrealistically large values that need to be changed, otherwise the data will be inconclusive."
   ]
  },
  {
   "cell_type": "markdown",
   "id": "ff6f13d3",
   "metadata": {},
   "source": [
    "First, let's look at the spread of values on the graph."
   ]
  },
  {
   "cell_type": "code",
   "execution_count": 8,
   "id": "6fb57dc7",
   "metadata": {},
   "outputs": [
    {
     "data": {
      "text/plain": [
       "Text(0.5, 1.0, 'days_employed values distribution')"
      ]
     },
     "execution_count": 8,
     "metadata": {},
     "output_type": "execute_result"
    },
    {
     "data": {
      "image/png": "[encoded data removed]",
      "text/plain": [
       "<Figure size 640x480 with 1 Axes>"
      ]
     },
     "metadata": {},
     "output_type": "display_data"
    }
   ],
   "source": [
    "sns.barplot(x= 'dob_years', y=\"days_employed\", data=data)\n",
    "plt.xticks(rotation=45)\n",
    "plt.title('days_employed values distribution')\n"
   ]
  },
  {
   "cell_type": "code",
   "execution_count": 9,
   "id": "a6bbe8db",
   "metadata": {},
   "outputs": [
    {
     "data": {
      "text/plain": [
       "75"
      ]
     },
     "execution_count": 9,
     "metadata": {},
     "output_type": "execute_result"
    }
   ],
   "source": [
    "data['dob_years'].max()"
   ]
  },
  {
   "cell_type": "markdown",
   "id": "4c5a24f5",
   "metadata": {},
   "source": [
    "The maximum age is 75 years. Accordingly, it is necessary to calculate the maximum possible length of service from 18 years."
   ]
  },
  {
   "cell_type": "code",
   "execution_count": 10,
   "id": "5796943b",
   "metadata": {},
   "outputs": [
    {
     "data": {
      "text/plain": [
       "20805"
      ]
     },
     "execution_count": 10,
     "metadata": {},
     "output_type": "execute_result"
    }
   ],
   "source": [
    "(data['dob_years'].max() - 18) * 365"
   ]
  },
  {
   "cell_type": "markdown",
   "id": "1db18312",
   "metadata": {},
   "source": [
    "The maximum possible length of service is 20805 working days. Find out the number of abnormally high values of experience."
   ]
  },
  {
   "cell_type": "code",
   "execution_count": 11,
   "id": "068e368c",
   "metadata": {},
   "outputs": [
    {
     "data": {
      "text/plain": [
       "children            3445\n",
       "days_employed       3445\n",
       "dob_years           3445\n",
       "education           3445\n",
       "education_id        3445\n",
       "family_status       3445\n",
       "family_status_id    3445\n",
       "gender              3445\n",
       "income_type         3445\n",
       "debt                3445\n",
       "total_income        3445\n",
       "purpose             3445\n",
       "dtype: int64"
      ]
     },
     "execution_count": 11,
     "metadata": {},
     "output_type": "execute_result"
    }
   ],
   "source": [
    "data[data['days_employed'] > 20805].count()"
   ]
  },
  {
   "cell_type": "code",
   "execution_count": 12,
   "id": "82a95d7f",
   "metadata": {},
   "outputs": [],
   "source": [
    "data.loc[data['days_employed'] > 20805, 'days_employed'] = data['days_employed'].median()"
   ]
  },
  {
   "cell_type": "code",
   "execution_count": 13,
   "id": "95b45195",
   "metadata": {},
   "outputs": [
    {
     "data": {
      "text/plain": [
       "2194.220566878695"
      ]
     },
     "execution_count": 13,
     "metadata": {},
     "output_type": "execute_result"
    }
   ],
   "source": [
    "data['days_employed'].median()"
   ]
  },
  {
   "cell_type": "code",
   "execution_count": 14,
   "id": "767f798f",
   "metadata": {},
   "outputs": [
    {
     "data": {
      "text/plain": [
       "18388.949900568383"
      ]
     },
     "execution_count": 14,
     "metadata": {},
     "output_type": "execute_result"
    }
   ],
   "source": [
    "data['days_employed'].max()"
   ]
  },
  {
   "cell_type": "code",
   "execution_count": 15,
   "id": "15b476ae",
   "metadata": {},
   "outputs": [
    {
     "data": {
      "text/plain": [
       "children            0\n",
       "days_employed       0\n",
       "dob_years           0\n",
       "education           0\n",
       "education_id        0\n",
       "family_status       0\n",
       "family_status_id    0\n",
       "gender              0\n",
       "income_type         0\n",
       "debt                0\n",
       "total_income        0\n",
       "purpose             0\n",
       "dtype: int64"
      ]
     },
     "execution_count": 15,
     "metadata": {},
     "output_type": "execute_result"
    }
   ],
   "source": [
    "data[data['days_employed'] > 20805].count()"
   ]
  },
  {
   "cell_type": "markdown",
   "id": "eca107ef",
   "metadata": {},
   "source": [
    "All abnormally high values are replaced by medians."
   ]
  },
  {
   "cell_type": "code",
   "execution_count": 16,
   "id": "8e6685e4",
   "metadata": {},
   "outputs": [],
   "source": [
    "data_days_employed_median = data[\"days_employed\"].median()\n",
    "data[\"days_employed\"] = data[\"days_employed\"].fillna(data_days_employed_median)"
   ]
  },
  {
   "cell_type": "markdown",
   "id": "dd7b000d",
   "metadata": {},
   "source": [
    "All empty values are also replaced with medians."
   ]
  },
  {
   "cell_type": "code",
   "execution_count": 17,
   "id": "7f9f8a38",
   "metadata": {},
   "outputs": [
    {
     "data": {
      "text/plain": [
       "children            101\n",
       "days_employed       101\n",
       "dob_years           101\n",
       "education           101\n",
       "education_id        101\n",
       "family_status       101\n",
       "family_status_id    101\n",
       "gender              101\n",
       "income_type         101\n",
       "debt                101\n",
       "total_income         91\n",
       "purpose             101\n",
       "dtype: int64"
      ]
     },
     "execution_count": 17,
     "metadata": {},
     "output_type": "execute_result"
    }
   ],
   "source": [
    "data[data['dob_years'] < 18].count()"
   ]
  },
  {
   "cell_type": "markdown",
   "id": "f1a32973",
   "metadata": {},
   "source": [
    "The proportion of values less than 18 years old is small, so you can delete these rows."
   ]
  },
  {
   "cell_type": "code",
   "execution_count": 18,
   "id": "9095fabb",
   "metadata": {
    "scrolled": true
   },
   "outputs": [],
   "source": [
    "data = data.drop(np.where(data['dob_years'] < 18)[0])"
   ]
  },
  {
   "cell_type": "markdown",
   "id": "5a8c4a05",
   "metadata": {},
   "source": [
    "Removed rows less than 18 years old."
   ]
  },
  {
   "cell_type": "markdown",
   "id": "8181efd4",
   "metadata": {},
   "source": [
    "Next, you need to get rid of the negative values in the **children** column."
   ]
  },
  {
   "cell_type": "code",
   "execution_count": 19,
   "id": "a5e8edef",
   "metadata": {},
   "outputs": [
    {
     "data": {
      "text/plain": [
       "children            47\n",
       "days_employed       47\n",
       "dob_years           47\n",
       "education           47\n",
       "education_id        47\n",
       "family_status       47\n",
       "family_status_id    47\n",
       "gender              47\n",
       "income_type         47\n",
       "debt                47\n",
       "total_income        44\n",
       "purpose             47\n",
       "dtype: int64"
      ]
     },
     "execution_count": 19,
     "metadata": {},
     "output_type": "execute_result"
    }
   ],
   "source": [
    "data[data['children'] < 0].count()"
   ]
  },
  {
   "cell_type": "code",
   "execution_count": 20,
   "id": "879c5f8f",
   "metadata": {},
   "outputs": [
    {
     "data": {
      "text/plain": [
       "-1"
      ]
     },
     "execution_count": 20,
     "metadata": {},
     "output_type": "execute_result"
    }
   ],
   "source": [
    "data['children'].min()"
   ]
  },
  {
   "cell_type": "markdown",
   "id": "f7fa55ed",
   "metadata": {},
   "source": [
    "The smallest value is -1. Probably their presence is an input error. Let's change them to positive values."
   ]
  },
  {
   "cell_type": "code",
   "execution_count": 21,
   "id": "b74cdac2",
   "metadata": {},
   "outputs": [],
   "source": [
    "data.loc[data['children'] == -1, 'children'] = 1"
   ]
  },
  {
   "cell_type": "code",
   "execution_count": 22,
   "id": "0d4a8619",
   "metadata": {},
   "outputs": [
    {
     "data": {
      "text/plain": [
       "children            0\n",
       "days_employed       0\n",
       "dob_years           0\n",
       "education           0\n",
       "education_id        0\n",
       "family_status       0\n",
       "family_status_id    0\n",
       "gender              0\n",
       "income_type         0\n",
       "debt                0\n",
       "total_income        0\n",
       "purpose             0\n",
       "dtype: int64"
      ]
     },
     "execution_count": 22,
     "metadata": {},
     "output_type": "execute_result"
    }
   ],
   "source": [
    "data[data['children'] < 0].count()"
   ]
  },
  {
   "cell_type": "code",
   "execution_count": 23,
   "id": "82438cce",
   "metadata": {},
   "outputs": [
    {
     "data": {
      "text/plain": [
       "20"
      ]
     },
     "execution_count": 23,
     "metadata": {},
     "output_type": "execute_result"
    }
   ],
   "source": [
    "data['children'].max()"
   ]
  },
  {
   "cell_type": "code",
   "execution_count": 24,
   "id": "30838903",
   "metadata": {},
   "outputs": [
    {
     "data": {
      "text/plain": [
       "children            75\n",
       "days_employed       75\n",
       "dob_years           75\n",
       "education           75\n",
       "education_id        75\n",
       "family_status       75\n",
       "family_status_id    75\n",
       "gender              75\n",
       "income_type         75\n",
       "debt                75\n",
       "total_income        66\n",
       "purpose             75\n",
       "dtype: int64"
      ]
     },
     "execution_count": 24,
     "metadata": {},
     "output_type": "execute_result"
    }
   ],
   "source": [
    "data[data['children'] == 20].count()"
   ]
  },
  {
   "cell_type": "code",
   "execution_count": 25,
   "id": "6fd949ff",
   "metadata": {},
   "outputs": [
    {
     "data": {
      "text/plain": [
       "children            75\n",
       "days_employed       75\n",
       "dob_years           75\n",
       "education           75\n",
       "education_id        75\n",
       "family_status       75\n",
       "family_status_id    75\n",
       "gender              75\n",
       "income_type         75\n",
       "debt                75\n",
       "total_income        66\n",
       "purpose             75\n",
       "dtype: int64"
      ]
     },
     "execution_count": 25,
     "metadata": {},
     "output_type": "execute_result"
    }
   ],
   "source": [
    "data[data['children'] > 5].count()"
   ]
  },
  {
   "cell_type": "markdown",
   "id": "4d3c5290",
   "metadata": {},
   "source": [
    "The number of children equal to 20 is an anomaly. The proportion of rows is small, you can delete the data."
   ]
  },
  {
   "cell_type": "code",
   "execution_count": 26,
   "id": "11a34b62",
   "metadata": {
    "scrolled": true
   },
   "outputs": [],
   "source": [
    "data = data.drop(np.where(data['children'] > 5)[0])"
   ]
  },
  {
   "cell_type": "code",
   "execution_count": 27,
   "id": "6b79a919",
   "metadata": {
    "scrolled": true
   },
   "outputs": [
    {
     "data": {
      "text/html": [
       "<div>\n",
       "<style scoped>\n",
       "    .dataframe tbody tr th:only-of-type {\n",
       "        vertical-align: middle;\n",
       "    }\n",
       "\n",
       "    .dataframe tbody tr th {\n",
       "        vertical-align: top;\n",
       "    }\n",
       "\n",
       "    .dataframe thead th {\n",
       "        text-align: right;\n",
       "    }\n",
       "</style>\n",
       "<table border=\"1\" class=\"dataframe\">\n",
       "  <thead>\n",
       "    <tr style=\"text-align: right;\">\n",
       "      <th></th>\n",
       "      <th>children</th>\n",
       "      <th>days_employed</th>\n",
       "      <th>dob_years</th>\n",
       "      <th>education</th>\n",
       "      <th>education_id</th>\n",
       "      <th>family_status</th>\n",
       "      <th>family_status_id</th>\n",
       "      <th>gender</th>\n",
       "      <th>income_type</th>\n",
       "      <th>debt</th>\n",
       "      <th>total_income</th>\n",
       "      <th>purpose</th>\n",
       "    </tr>\n",
       "  </thead>\n",
       "  <tbody>\n",
       "    <tr>\n",
       "      <th>0</th>\n",
       "      <td>1</td>\n",
       "      <td>8437.673028</td>\n",
       "      <td>42</td>\n",
       "      <td>высшее</td>\n",
       "      <td>0</td>\n",
       "      <td>женат / замужем</td>\n",
       "      <td>0</td>\n",
       "      <td>F</td>\n",
       "      <td>сотрудник</td>\n",
       "      <td>0</td>\n",
       "      <td>253875.639453</td>\n",
       "      <td>покупка жилья</td>\n",
       "    </tr>\n",
       "    <tr>\n",
       "      <th>1</th>\n",
       "      <td>1</td>\n",
       "      <td>4024.803754</td>\n",
       "      <td>36</td>\n",
       "      <td>среднее</td>\n",
       "      <td>1</td>\n",
       "      <td>женат / замужем</td>\n",
       "      <td>0</td>\n",
       "      <td>F</td>\n",
       "      <td>сотрудник</td>\n",
       "      <td>0</td>\n",
       "      <td>112080.014102</td>\n",
       "      <td>приобретение автомобиля</td>\n",
       "    </tr>\n",
       "    <tr>\n",
       "      <th>2</th>\n",
       "      <td>0</td>\n",
       "      <td>5623.422610</td>\n",
       "      <td>33</td>\n",
       "      <td>Среднее</td>\n",
       "      <td>1</td>\n",
       "      <td>женат / замужем</td>\n",
       "      <td>0</td>\n",
       "      <td>M</td>\n",
       "      <td>сотрудник</td>\n",
       "      <td>0</td>\n",
       "      <td>145885.952297</td>\n",
       "      <td>покупка жилья</td>\n",
       "    </tr>\n",
       "    <tr>\n",
       "      <th>3</th>\n",
       "      <td>3</td>\n",
       "      <td>4124.747207</td>\n",
       "      <td>32</td>\n",
       "      <td>среднее</td>\n",
       "      <td>1</td>\n",
       "      <td>женат / замужем</td>\n",
       "      <td>0</td>\n",
       "      <td>M</td>\n",
       "      <td>сотрудник</td>\n",
       "      <td>0</td>\n",
       "      <td>267628.550329</td>\n",
       "      <td>дополнительное образование</td>\n",
       "    </tr>\n",
       "    <tr>\n",
       "      <th>4</th>\n",
       "      <td>0</td>\n",
       "      <td>2194.220567</td>\n",
       "      <td>53</td>\n",
       "      <td>среднее</td>\n",
       "      <td>1</td>\n",
       "      <td>гражданский брак</td>\n",
       "      <td>1</td>\n",
       "      <td>F</td>\n",
       "      <td>пенсионер</td>\n",
       "      <td>0</td>\n",
       "      <td>158616.077870</td>\n",
       "      <td>сыграть свадьбу</td>\n",
       "    </tr>\n",
       "  </tbody>\n",
       "</table>\n",
       "</div>"
      ],
      "text/plain": [
       "   children  days_employed  dob_years education  education_id  \\\n",
       "0         1    8437.673028         42    высшее             0   \n",
       "1         1    4024.803754         36   среднее             1   \n",
       "2         0    5623.422610         33   Среднее             1   \n",
       "3         3    4124.747207         32   среднее             1   \n",
       "4         0    2194.220567         53   среднее             1   \n",
       "\n",
       "      family_status  family_status_id gender income_type  debt   total_income  \\\n",
       "0   женат / замужем                 0      F   сотрудник     0  253875.639453   \n",
       "1   женат / замужем                 0      F   сотрудник     0  112080.014102   \n",
       "2   женат / замужем                 0      M   сотрудник     0  145885.952297   \n",
       "3   женат / замужем                 0      M   сотрудник     0  267628.550329   \n",
       "4  гражданский брак                 1      F   пенсионер     0  158616.077870   \n",
       "\n",
       "                      purpose  \n",
       "0               покупка жилья  \n",
       "1     приобретение автомобиля  \n",
       "2               покупка жилья  \n",
       "3  дополнительное образование  \n",
       "4             сыграть свадьбу  "
      ]
     },
     "execution_count": 27,
     "metadata": {},
     "output_type": "execute_result"
    }
   ],
   "source": [
    "data.head(5)"
   ]
  },
  {
   "cell_type": "code",
   "execution_count": 28,
   "id": "6af9704f",
   "metadata": {},
   "outputs": [
    {
     "data": {
      "text/plain": [
       "children            74\n",
       "days_employed       74\n",
       "dob_years           74\n",
       "education           74\n",
       "education_id        74\n",
       "family_status       74\n",
       "family_status_id    74\n",
       "gender              74\n",
       "income_type         74\n",
       "debt                74\n",
       "total_income        66\n",
       "purpose             74\n",
       "dtype: int64"
      ]
     },
     "execution_count": 28,
     "metadata": {},
     "output_type": "execute_result"
    }
   ],
   "source": [
    "data[data['children'] > 5].count()"
   ]
  },
  {
   "cell_type": "markdown",
   "id": "230173db",
   "metadata": {},
   "source": [
    "**children** column cleared of anomalies."
   ]
  },
  {
   "cell_type": "markdown",
   "id": "a4328940",
   "metadata": {
    "tags": []
   },
   "source": [
    "### Step 2.3. Changing data types."
   ]
  },
  {
   "cell_type": "code",
   "execution_count": 29,
   "id": "c2ea210d",
   "metadata": {
    "scrolled": true
   },
   "outputs": [
    {
     "data": {
      "text/plain": [
       "145011.70929552132"
      ]
     },
     "execution_count": 29,
     "metadata": {},
     "output_type": "execute_result"
    }
   ],
   "source": [
    "data_total_income_median = data[\"total_income\"].median()\n",
    "data_total_income_median"
   ]
  },
  {
   "cell_type": "code",
   "execution_count": 30,
   "id": "dbaba550",
   "metadata": {},
   "outputs": [],
   "source": [
    "data[\"total_income\"] = data[\"total_income\"].fillna(data_total_income_median)"
   ]
  },
  {
   "cell_type": "code",
   "execution_count": 31,
   "id": "6bee810c",
   "metadata": {},
   "outputs": [
    {
     "data": {
      "text/plain": [
       "0"
      ]
     },
     "execution_count": 31,
     "metadata": {},
     "output_type": "execute_result"
    }
   ],
   "source": [
    "data[\"total_income\"].isna().sum()"
   ]
  },
  {
   "cell_type": "code",
   "execution_count": 32,
   "id": "ccbb108d",
   "metadata": {},
   "outputs": [],
   "source": [
    "data['total_income'] = data['total_income'].astype(int)"
   ]
  },
  {
   "cell_type": "code",
   "execution_count": 33,
   "id": "a5661638",
   "metadata": {
    "scrolled": true
   },
   "outputs": [
    {
     "name": "stdout",
     "output_type": "stream",
     "text": [
      "<class 'pandas.core.frame.DataFrame'>\n",
      "Int64Index: 21349 entries, 0 to 21524\n",
      "Data columns (total 12 columns):\n",
      " #   Column            Non-Null Count  Dtype  \n",
      "---  ------            --------------  -----  \n",
      " 0   children          21349 non-null  int64  \n",
      " 1   days_employed     21349 non-null  float64\n",
      " 2   dob_years         21349 non-null  int64  \n",
      " 3   education         21349 non-null  object \n",
      " 4   education_id      21349 non-null  int64  \n",
      " 5   family_status     21349 non-null  object \n",
      " 6   family_status_id  21349 non-null  int64  \n",
      " 7   gender            21349 non-null  object \n",
      " 8   income_type       21349 non-null  object \n",
      " 9   debt              21349 non-null  int64  \n",
      " 10  total_income      21349 non-null  int64  \n",
      " 11  purpose           21349 non-null  object \n",
      "dtypes: float64(1), int64(6), object(5)\n",
      "memory usage: 2.1+ MB\n"
     ]
    }
   ],
   "source": [
    "data.info()"
   ]
  },
  {
   "cell_type": "markdown",
   "id": "54d1ece0",
   "metadata": {},
   "source": [
    "- Gaps were filled with median values;\n",
    "- The float data type in the total_income column has been changed to integer using the astype() method."
   ]
  },
  {
   "cell_type": "markdown",
   "id": "202340d3",
   "metadata": {},
   "source": [
    "### Step 2.4. Removing duplicates."
   ]
  },
  {
   "cell_type": "markdown",
   "id": "5f31a974",
   "metadata": {},
   "source": [
    "To find and remove duplicates, we will use the **duplicated()** and **drop_duplicates()** methods."
   ]
  },
  {
   "cell_type": "code",
   "execution_count": 34,
   "id": "1bd5ed4f",
   "metadata": {},
   "outputs": [
    {
     "data": {
      "text/plain": [
       "53"
      ]
     },
     "execution_count": 34,
     "metadata": {},
     "output_type": "execute_result"
    }
   ],
   "source": [
    "data.duplicated().sum()"
   ]
  },
  {
   "cell_type": "code",
   "execution_count": 35,
   "id": "bbccfb06",
   "metadata": {},
   "outputs": [],
   "source": [
    "data = data.drop_duplicates().reset_index(drop=True)"
   ]
  },
  {
   "cell_type": "code",
   "execution_count": 36,
   "id": "8a443066",
   "metadata": {},
   "outputs": [
    {
     "data": {
      "text/plain": [
       "0"
      ]
     },
     "execution_count": 36,
     "metadata": {},
     "output_type": "execute_result"
    }
   ],
   "source": [
    "data.duplicated().sum()"
   ]
  },
  {
   "cell_type": "markdown",
   "id": "ee3bcccb",
   "metadata": {},
   "source": [
    "To search for implicit duplicates, we will find unique values using the **value_counts()** method, which we will subsequently eliminate in case of unwanted repetitions."
   ]
  },
  {
   "cell_type": "code",
   "execution_count": 37,
   "id": "77f67e96",
   "metadata": {},
   "outputs": [
    {
     "data": {
      "text/plain": [
       "среднее                13605\n",
       "высшее                  4657\n",
       "СРЕДНЕЕ                  769\n",
       "Среднее                  707\n",
       "неоконченное высшее      660\n",
       "ВЫСШЕЕ                   270\n",
       "Высшее                   265\n",
       "начальное                250\n",
       "Неоконченное высшее       47\n",
       "НЕОКОНЧЕННОЕ ВЫСШЕЕ       28\n",
       "НАЧАЛЬНОЕ                 17\n",
       "Начальное                 15\n",
       "ученая степень             4\n",
       "Ученая степень             1\n",
       "УЧЕНАЯ СТЕПЕНЬ             1\n",
       "Name: education, dtype: int64"
      ]
     },
     "execution_count": 37,
     "metadata": {},
     "output_type": "execute_result"
    }
   ],
   "source": [
    "data['education'].value_counts()"
   ]
  },
  {
   "cell_type": "code",
   "execution_count": 38,
   "id": "d6b67b4f",
   "metadata": {},
   "outputs": [],
   "source": [
    "data['education'] = data['education'].str.lower()"
   ]
  },
  {
   "cell_type": "code",
   "execution_count": 39,
   "id": "0e2c5230",
   "metadata": {},
   "outputs": [
    {
     "data": {
      "text/plain": [
       "среднее                15081\n",
       "высшее                  5192\n",
       "неоконченное высшее      735\n",
       "начальное                282\n",
       "ученая степень             6\n",
       "Name: education, dtype: int64"
      ]
     },
     "execution_count": 39,
     "metadata": {},
     "output_type": "execute_result"
    }
   ],
   "source": [
    "data['education'].value_counts()"
   ]
  },
  {
   "cell_type": "markdown",
   "id": "4d2258b8",
   "metadata": {},
   "source": [
    "The case issue is resolved by converting all variables to the same case of lowercase letters."
   ]
  },
  {
   "cell_type": "markdown",
   "id": "567e0827",
   "metadata": {},
   "source": [
    "### Step 2.5. Formation of additional dataframes of dictionaries, decomposition of the original dataframe."
   ]
  },
  {
   "cell_type": "code",
   "execution_count": 40,
   "id": "32e2b488",
   "metadata": {
    "scrolled": true
   },
   "outputs": [
    {
     "data": {
      "text/html": [
       "<div>\n",
       "<style scoped>\n",
       "    .dataframe tbody tr th:only-of-type {\n",
       "        vertical-align: middle;\n",
       "    }\n",
       "\n",
       "    .dataframe tbody tr th {\n",
       "        vertical-align: top;\n",
       "    }\n",
       "\n",
       "    .dataframe thead th {\n",
       "        text-align: right;\n",
       "    }\n",
       "</style>\n",
       "<table border=\"1\" class=\"dataframe\">\n",
       "  <thead>\n",
       "    <tr style=\"text-align: right;\">\n",
       "      <th></th>\n",
       "      <th>education_id</th>\n",
       "      <th>education</th>\n",
       "    </tr>\n",
       "  </thead>\n",
       "  <tbody>\n",
       "    <tr>\n",
       "      <th>0</th>\n",
       "      <td>0</td>\n",
       "      <td>высшее</td>\n",
       "    </tr>\n",
       "    <tr>\n",
       "      <th>1</th>\n",
       "      <td>1</td>\n",
       "      <td>среднее</td>\n",
       "    </tr>\n",
       "    <tr>\n",
       "      <th>2</th>\n",
       "      <td>2</td>\n",
       "      <td>неоконченное высшее</td>\n",
       "    </tr>\n",
       "    <tr>\n",
       "      <th>3</th>\n",
       "      <td>3</td>\n",
       "      <td>начальное</td>\n",
       "    </tr>\n",
       "    <tr>\n",
       "      <th>4</th>\n",
       "      <td>4</td>\n",
       "      <td>ученая степень</td>\n",
       "    </tr>\n",
       "  </tbody>\n",
       "</table>\n",
       "</div>"
      ],
      "text/plain": [
       "   education_id            education\n",
       "0             0               высшее\n",
       "1             1              среднее\n",
       "2             2  неоконченное высшее\n",
       "3             3            начальное\n",
       "4             4       ученая степень"
      ]
     },
     "execution_count": 40,
     "metadata": {},
     "output_type": "execute_result"
    }
   ],
   "source": [
    "education_df = data[['education_id', 'education']].copy()\n",
    "education_df = education_df.drop_duplicates().reset_index(drop=True)\n",
    "education_df"
   ]
  },
  {
   "cell_type": "code",
   "execution_count": 41,
   "id": "4c071684",
   "metadata": {},
   "outputs": [
    {
     "data": {
      "text/html": [
       "<div>\n",
       "<style scoped>\n",
       "    .dataframe tbody tr th:only-of-type {\n",
       "        vertical-align: middle;\n",
       "    }\n",
       "\n",
       "    .dataframe tbody tr th {\n",
       "        vertical-align: top;\n",
       "    }\n",
       "\n",
       "    .dataframe thead th {\n",
       "        text-align: right;\n",
       "    }\n",
       "</style>\n",
       "<table border=\"1\" class=\"dataframe\">\n",
       "  <thead>\n",
       "    <tr style=\"text-align: right;\">\n",
       "      <th></th>\n",
       "      <th>family_status_id</th>\n",
       "      <th>family_status</th>\n",
       "    </tr>\n",
       "  </thead>\n",
       "  <tbody>\n",
       "    <tr>\n",
       "      <th>0</th>\n",
       "      <td>0</td>\n",
       "      <td>женат / замужем</td>\n",
       "    </tr>\n",
       "    <tr>\n",
       "      <th>1</th>\n",
       "      <td>1</td>\n",
       "      <td>гражданский брак</td>\n",
       "    </tr>\n",
       "    <tr>\n",
       "      <th>2</th>\n",
       "      <td>2</td>\n",
       "      <td>вдовец / вдова</td>\n",
       "    </tr>\n",
       "    <tr>\n",
       "      <th>3</th>\n",
       "      <td>3</td>\n",
       "      <td>в разводе</td>\n",
       "    </tr>\n",
       "    <tr>\n",
       "      <th>4</th>\n",
       "      <td>4</td>\n",
       "      <td>Не женат / не замужем</td>\n",
       "    </tr>\n",
       "  </tbody>\n",
       "</table>\n",
       "</div>"
      ],
      "text/plain": [
       "   family_status_id          family_status\n",
       "0                 0        женат / замужем\n",
       "1                 1       гражданский брак\n",
       "2                 2         вдовец / вдова\n",
       "3                 3              в разводе\n",
       "4                 4  Не женат / не замужем"
      ]
     },
     "execution_count": 41,
     "metadata": {},
     "output_type": "execute_result"
    }
   ],
   "source": [
    "family_status_df = data[['family_status_id', 'family_status']].copy()\n",
    "family_status_df = family_status_df.drop_duplicates().reset_index(drop=True)\n",
    "family_status_df"
   ]
  },
  {
   "cell_type": "code",
   "execution_count": 42,
   "id": "f7d1e61a",
   "metadata": {},
   "outputs": [],
   "source": [
    "data = data.drop(columns=['education', 'family_status'])"
   ]
  },
  {
   "cell_type": "code",
   "execution_count": 43,
   "id": "fba01ff7-6f14-49ae-8626-0a6980f2b418",
   "metadata": {},
   "outputs": [
    {
     "data": {
      "text/html": [
       "<div>\n",
       "<style scoped>\n",
       "    .dataframe tbody tr th:only-of-type {\n",
       "        vertical-align: middle;\n",
       "    }\n",
       "\n",
       "    .dataframe tbody tr th {\n",
       "        vertical-align: top;\n",
       "    }\n",
       "\n",
       "    .dataframe thead th {\n",
       "        text-align: right;\n",
       "    }\n",
       "</style>\n",
       "<table border=\"1\" class=\"dataframe\">\n",
       "  <thead>\n",
       "    <tr style=\"text-align: right;\">\n",
       "      <th></th>\n",
       "      <th>children</th>\n",
       "      <th>days_employed</th>\n",
       "      <th>dob_years</th>\n",
       "      <th>education_id</th>\n",
       "      <th>family_status_id</th>\n",
       "      <th>gender</th>\n",
       "      <th>income_type</th>\n",
       "      <th>debt</th>\n",
       "      <th>total_income</th>\n",
       "      <th>purpose</th>\n",
       "    </tr>\n",
       "  </thead>\n",
       "  <tbody>\n",
       "    <tr>\n",
       "      <th>0</th>\n",
       "      <td>1</td>\n",
       "      <td>8437.673028</td>\n",
       "      <td>42</td>\n",
       "      <td>0</td>\n",
       "      <td>0</td>\n",
       "      <td>F</td>\n",
       "      <td>сотрудник</td>\n",
       "      <td>0</td>\n",
       "      <td>253875</td>\n",
       "      <td>покупка жилья</td>\n",
       "    </tr>\n",
       "    <tr>\n",
       "      <th>1</th>\n",
       "      <td>1</td>\n",
       "      <td>4024.803754</td>\n",
       "      <td>36</td>\n",
       "      <td>1</td>\n",
       "      <td>0</td>\n",
       "      <td>F</td>\n",
       "      <td>сотрудник</td>\n",
       "      <td>0</td>\n",
       "      <td>112080</td>\n",
       "      <td>приобретение автомобиля</td>\n",
       "    </tr>\n",
       "    <tr>\n",
       "      <th>2</th>\n",
       "      <td>0</td>\n",
       "      <td>5623.422610</td>\n",
       "      <td>33</td>\n",
       "      <td>1</td>\n",
       "      <td>0</td>\n",
       "      <td>M</td>\n",
       "      <td>сотрудник</td>\n",
       "      <td>0</td>\n",
       "      <td>145885</td>\n",
       "      <td>покупка жилья</td>\n",
       "    </tr>\n",
       "    <tr>\n",
       "      <th>3</th>\n",
       "      <td>3</td>\n",
       "      <td>4124.747207</td>\n",
       "      <td>32</td>\n",
       "      <td>1</td>\n",
       "      <td>0</td>\n",
       "      <td>M</td>\n",
       "      <td>сотрудник</td>\n",
       "      <td>0</td>\n",
       "      <td>267628</td>\n",
       "      <td>дополнительное образование</td>\n",
       "    </tr>\n",
       "    <tr>\n",
       "      <th>4</th>\n",
       "      <td>0</td>\n",
       "      <td>2194.220567</td>\n",
       "      <td>53</td>\n",
       "      <td>1</td>\n",
       "      <td>1</td>\n",
       "      <td>F</td>\n",
       "      <td>пенсионер</td>\n",
       "      <td>0</td>\n",
       "      <td>158616</td>\n",
       "      <td>сыграть свадьбу</td>\n",
       "    </tr>\n",
       "  </tbody>\n",
       "</table>\n",
       "</div>"
      ],
      "text/plain": [
       "   children  days_employed  dob_years  education_id  family_status_id gender  \\\n",
       "0         1    8437.673028         42             0                 0      F   \n",
       "1         1    4024.803754         36             1                 0      F   \n",
       "2         0    5623.422610         33             1                 0      M   \n",
       "3         3    4124.747207         32             1                 0      M   \n",
       "4         0    2194.220567         53             1                 1      F   \n",
       "\n",
       "  income_type  debt  total_income                     purpose  \n",
       "0   сотрудник     0        253875               покупка жилья  \n",
       "1   сотрудник     0        112080     приобретение автомобиля  \n",
       "2   сотрудник     0        145885               покупка жилья  \n",
       "3   сотрудник     0        267628  дополнительное образование  \n",
       "4   пенсионер     0        158616             сыграть свадьбу  "
      ]
     },
     "execution_count": 43,
     "metadata": {},
     "output_type": "execute_result"
    }
   ],
   "source": [
    "data.head(5)"
   ]
  },
  {
   "cell_type": "markdown",
   "id": "bbd985cb",
   "metadata": {},
   "source": [
    "New dataframes were created - the same \"dictionaries\" that can be accessed by identifier."
   ]
  },
  {
   "cell_type": "markdown",
   "id": "842472a7",
   "metadata": {},
   "source": [
    "### Step 2.6. income categorization."
   ]
  },
  {
   "cell_type": "markdown",
   "id": "7e41e43f",
   "metadata": {},
   "source": [
    "Let's categorize income by creating a **total_income_category** column with categories based on the ranges below:\n",
    "- 0–30000 - 'E';\n",
    "- 30001–50000 - 'D';\n",
    "- 50001–200000 - 'C';\n",
    "- 200001–1000000 - 'B';\n",
    "- 1000001 and above - 'A'."
   ]
  },
  {
   "cell_type": "code",
   "execution_count": 44,
   "id": "0ceec5ee",
   "metadata": {},
   "outputs": [],
   "source": [
    "data.loc[data['total_income'] > 1000000, 'total_income_category'] = 'A'\n",
    "data.loc[(data['total_income'] >= 200001) & (data['total_income'] <= 1000000), 'total_income_category'] = 'B'\n",
    "data.loc[(data['total_income'] >= 50001) & (data['total_income'] <= 200000), 'total_income_category'] = 'C'\n",
    "data.loc[(data['total_income'] >= 30001) & (data['total_income'] <= 50000), 'total_income_category'] = 'D'\n",
    "data.loc[data['total_income'] <= 30000, 'total_income_category'] = 'E'"
   ]
  },
  {
   "cell_type": "code",
   "execution_count": 45,
   "id": "329c86d4",
   "metadata": {},
   "outputs": [
    {
     "data": {
      "text/html": [
       "<div>\n",
       "<style scoped>\n",
       "    .dataframe tbody tr th:only-of-type {\n",
       "        vertical-align: middle;\n",
       "    }\n",
       "\n",
       "    .dataframe tbody tr th {\n",
       "        vertical-align: top;\n",
       "    }\n",
       "\n",
       "    .dataframe thead th {\n",
       "        text-align: right;\n",
       "    }\n",
       "</style>\n",
       "<table border=\"1\" class=\"dataframe\">\n",
       "  <thead>\n",
       "    <tr style=\"text-align: right;\">\n",
       "      <th></th>\n",
       "      <th>children</th>\n",
       "      <th>days_employed</th>\n",
       "      <th>dob_years</th>\n",
       "      <th>education_id</th>\n",
       "      <th>family_status_id</th>\n",
       "      <th>gender</th>\n",
       "      <th>income_type</th>\n",
       "      <th>debt</th>\n",
       "      <th>total_income</th>\n",
       "      <th>purpose</th>\n",
       "      <th>total_income_category</th>\n",
       "    </tr>\n",
       "  </thead>\n",
       "  <tbody>\n",
       "    <tr>\n",
       "      <th>0</th>\n",
       "      <td>1</td>\n",
       "      <td>8437.673028</td>\n",
       "      <td>42</td>\n",
       "      <td>0</td>\n",
       "      <td>0</td>\n",
       "      <td>F</td>\n",
       "      <td>сотрудник</td>\n",
       "      <td>0</td>\n",
       "      <td>253875</td>\n",
       "      <td>покупка жилья</td>\n",
       "      <td>B</td>\n",
       "    </tr>\n",
       "    <tr>\n",
       "      <th>1</th>\n",
       "      <td>1</td>\n",
       "      <td>4024.803754</td>\n",
       "      <td>36</td>\n",
       "      <td>1</td>\n",
       "      <td>0</td>\n",
       "      <td>F</td>\n",
       "      <td>сотрудник</td>\n",
       "      <td>0</td>\n",
       "      <td>112080</td>\n",
       "      <td>приобретение автомобиля</td>\n",
       "      <td>C</td>\n",
       "    </tr>\n",
       "    <tr>\n",
       "      <th>2</th>\n",
       "      <td>0</td>\n",
       "      <td>5623.422610</td>\n",
       "      <td>33</td>\n",
       "      <td>1</td>\n",
       "      <td>0</td>\n",
       "      <td>M</td>\n",
       "      <td>сотрудник</td>\n",
       "      <td>0</td>\n",
       "      <td>145885</td>\n",
       "      <td>покупка жилья</td>\n",
       "      <td>C</td>\n",
       "    </tr>\n",
       "    <tr>\n",
       "      <th>3</th>\n",
       "      <td>3</td>\n",
       "      <td>4124.747207</td>\n",
       "      <td>32</td>\n",
       "      <td>1</td>\n",
       "      <td>0</td>\n",
       "      <td>M</td>\n",
       "      <td>сотрудник</td>\n",
       "      <td>0</td>\n",
       "      <td>267628</td>\n",
       "      <td>дополнительное образование</td>\n",
       "      <td>B</td>\n",
       "    </tr>\n",
       "    <tr>\n",
       "      <th>4</th>\n",
       "      <td>0</td>\n",
       "      <td>2194.220567</td>\n",
       "      <td>53</td>\n",
       "      <td>1</td>\n",
       "      <td>1</td>\n",
       "      <td>F</td>\n",
       "      <td>пенсионер</td>\n",
       "      <td>0</td>\n",
       "      <td>158616</td>\n",
       "      <td>сыграть свадьбу</td>\n",
       "      <td>C</td>\n",
       "    </tr>\n",
       "  </tbody>\n",
       "</table>\n",
       "</div>"
      ],
      "text/plain": [
       "   children  days_employed  dob_years  education_id  family_status_id gender  \\\n",
       "0         1    8437.673028         42             0                 0      F   \n",
       "1         1    4024.803754         36             1                 0      F   \n",
       "2         0    5623.422610         33             1                 0      M   \n",
       "3         3    4124.747207         32             1                 0      M   \n",
       "4         0    2194.220567         53             1                 1      F   \n",
       "\n",
       "  income_type  debt  total_income                     purpose  \\\n",
       "0   сотрудник     0        253875               покупка жилья   \n",
       "1   сотрудник     0        112080     приобретение автомобиля   \n",
       "2   сотрудник     0        145885               покупка жилья   \n",
       "3   сотрудник     0        267628  дополнительное образование   \n",
       "4   пенсионер     0        158616             сыграть свадьбу   \n",
       "\n",
       "  total_income_category  \n",
       "0                     B  \n",
       "1                     C  \n",
       "2                     C  \n",
       "3                     B  \n",
       "4                     C  "
      ]
     },
     "execution_count": 45,
     "metadata": {},
     "output_type": "execute_result"
    }
   ],
   "source": [
    "data.head(5)"
   ]
  },
  {
   "cell_type": "markdown",
   "id": "fd3e97d1",
   "metadata": {},
   "source": [
    "### Step 2.7. Categorization of loan purposes."
   ]
  },
  {
   "cell_type": "markdown",
   "id": "174dfe3e",
   "metadata": {},
   "source": [
    "Using the function, we will create a purpose_category column, which will include the following categories:\n",
    "- 'car operations',\n",
    "- 'real estate transactions',\n",
    "- 'holding a wedding',\n",
    "- 'getting an education'."
   ]
  },
  {
   "cell_type": "code",
   "execution_count": 46,
   "id": "2e1d6771",
   "metadata": {},
   "outputs": [
    {
     "data": {
      "text/html": [
       "<div>\n",
       "<style scoped>\n",
       "    .dataframe tbody tr th:only-of-type {\n",
       "        vertical-align: middle;\n",
       "    }\n",
       "\n",
       "    .dataframe tbody tr th {\n",
       "        vertical-align: top;\n",
       "    }\n",
       "\n",
       "    .dataframe thead th {\n",
       "        text-align: right;\n",
       "    }\n",
       "</style>\n",
       "<table border=\"1\" class=\"dataframe\">\n",
       "  <thead>\n",
       "    <tr style=\"text-align: right;\">\n",
       "      <th></th>\n",
       "      <th>children</th>\n",
       "      <th>days_employed</th>\n",
       "      <th>dob_years</th>\n",
       "      <th>education_id</th>\n",
       "      <th>family_status_id</th>\n",
       "      <th>gender</th>\n",
       "      <th>income_type</th>\n",
       "      <th>debt</th>\n",
       "      <th>total_income</th>\n",
       "      <th>purpose</th>\n",
       "      <th>total_income_category</th>\n",
       "      <th>purpose_category</th>\n",
       "    </tr>\n",
       "  </thead>\n",
       "  <tbody>\n",
       "    <tr>\n",
       "      <th>0</th>\n",
       "      <td>1</td>\n",
       "      <td>8437.673028</td>\n",
       "      <td>42</td>\n",
       "      <td>0</td>\n",
       "      <td>0</td>\n",
       "      <td>F</td>\n",
       "      <td>сотрудник</td>\n",
       "      <td>0</td>\n",
       "      <td>253875</td>\n",
       "      <td>покупка жилья</td>\n",
       "      <td>B</td>\n",
       "      <td>операции с недвижимостью</td>\n",
       "    </tr>\n",
       "    <tr>\n",
       "      <th>1</th>\n",
       "      <td>1</td>\n",
       "      <td>4024.803754</td>\n",
       "      <td>36</td>\n",
       "      <td>1</td>\n",
       "      <td>0</td>\n",
       "      <td>F</td>\n",
       "      <td>сотрудник</td>\n",
       "      <td>0</td>\n",
       "      <td>112080</td>\n",
       "      <td>приобретение автомобиля</td>\n",
       "      <td>C</td>\n",
       "      <td>операции с автомобилем</td>\n",
       "    </tr>\n",
       "    <tr>\n",
       "      <th>2</th>\n",
       "      <td>0</td>\n",
       "      <td>5623.422610</td>\n",
       "      <td>33</td>\n",
       "      <td>1</td>\n",
       "      <td>0</td>\n",
       "      <td>M</td>\n",
       "      <td>сотрудник</td>\n",
       "      <td>0</td>\n",
       "      <td>145885</td>\n",
       "      <td>покупка жилья</td>\n",
       "      <td>C</td>\n",
       "      <td>операции с недвижимостью</td>\n",
       "    </tr>\n",
       "    <tr>\n",
       "      <th>3</th>\n",
       "      <td>3</td>\n",
       "      <td>4124.747207</td>\n",
       "      <td>32</td>\n",
       "      <td>1</td>\n",
       "      <td>0</td>\n",
       "      <td>M</td>\n",
       "      <td>сотрудник</td>\n",
       "      <td>0</td>\n",
       "      <td>267628</td>\n",
       "      <td>дополнительное образование</td>\n",
       "      <td>B</td>\n",
       "      <td>получение образования</td>\n",
       "    </tr>\n",
       "    <tr>\n",
       "      <th>4</th>\n",
       "      <td>0</td>\n",
       "      <td>2194.220567</td>\n",
       "      <td>53</td>\n",
       "      <td>1</td>\n",
       "      <td>1</td>\n",
       "      <td>F</td>\n",
       "      <td>пенсионер</td>\n",
       "      <td>0</td>\n",
       "      <td>158616</td>\n",
       "      <td>сыграть свадьбу</td>\n",
       "      <td>C</td>\n",
       "      <td>проведение свадьбы</td>\n",
       "    </tr>\n",
       "  </tbody>\n",
       "</table>\n",
       "</div>"
      ],
      "text/plain": [
       "   children  days_employed  dob_years  education_id  family_status_id gender  \\\n",
       "0         1    8437.673028         42             0                 0      F   \n",
       "1         1    4024.803754         36             1                 0      F   \n",
       "2         0    5623.422610         33             1                 0      M   \n",
       "3         3    4124.747207         32             1                 0      M   \n",
       "4         0    2194.220567         53             1                 1      F   \n",
       "\n",
       "  income_type  debt  total_income                     purpose  \\\n",
       "0   сотрудник     0        253875               покупка жилья   \n",
       "1   сотрудник     0        112080     приобретение автомобиля   \n",
       "2   сотрудник     0        145885               покупка жилья   \n",
       "3   сотрудник     0        267628  дополнительное образование   \n",
       "4   пенсионер     0        158616             сыграть свадьбу   \n",
       "\n",
       "  total_income_category          purpose_category  \n",
       "0                     B  операции с недвижимостью  \n",
       "1                     C    операции с автомобилем  \n",
       "2                     C  операции с недвижимостью  \n",
       "3                     B     получение образования  \n",
       "4                     C        проведение свадьбы  "
      ]
     },
     "execution_count": 46,
     "metadata": {},
     "output_type": "execute_result"
    }
   ],
   "source": [
    "def purpose_cat(cell):\n",
    "    if 'жил' in cell or 'недвиж' in cell:\n",
    "        return 'операции с недвижимостью'\n",
    "    elif 'свадьб' in cell:\n",
    "        return 'проведение свадьбы'\n",
    "    elif 'образ' in cell:\n",
    "        return 'получение образования'\n",
    "    elif 'автомоб' in cell:\n",
    "        return 'операции с автомобилем'\n",
    "data['purpose_category'] = data['purpose'].apply(purpose_cat)\n",
    "data.head(5)"
   ]
  },
  {
   "cell_type": "markdown",
   "id": "907bbd99",
   "metadata": {},
   "source": [
    "### Answers on questions."
   ]
  },
  {
   "cell_type": "markdown",
   "id": "621d20e5",
   "metadata": {},
   "source": [
    "##### Question 1:"
   ]
  },
  {
   "cell_type": "markdown",
   "id": "e8713444",
   "metadata": {},
   "source": [
    "Is there a relationship between the number of children and loan repayment on time?"
   ]
  },
  {
   "cell_type": "code",
   "execution_count": 47,
   "id": "18418ab0",
   "metadata": {},
   "outputs": [
    {
     "data": {
      "text/plain": [
       "<Axes: xlabel='children', ylabel='debt'>"
      ]
     },
     "execution_count": 47,
     "metadata": {},
     "output_type": "execute_result"
    },
    {
     "data": {
      "image/png": "[encoded data removed]",
      "text/plain": [
       "<Figure size 640x480 with 1 Axes>"
      ]
     },
     "metadata": {},
     "output_type": "display_data"
    }
   ],
   "source": [
    "sns.barplot(x = 'children', y = 'debt', data=data)"
   ]
  },
  {
   "cell_type": "markdown",
   "id": "2c1ce53e",
   "metadata": {},
   "source": [
    "##### Output 1:"
   ]
  },
  {
   "cell_type": "markdown",
   "id": "0a721ae2",
   "metadata": {},
   "source": [
    "As can be seen from the graph, clients with 1,2 and 4 children more often than others had arrears in payments."
   ]
  },
  {
   "cell_type": "markdown",
   "id": "a7559d36",
   "metadata": {},
   "source": [
    "##### Question 2:"
   ]
  },
  {
   "cell_type": "markdown",
   "id": "db32804b",
   "metadata": {},
   "source": [
    "Is there a relationship between marital status and loan repayment on time?"
   ]
  },
  {
   "cell_type": "code",
   "execution_count": 48,
   "id": "abf59baf",
   "metadata": {},
   "outputs": [],
   "source": [
    "data = data.merge(family_status_df)"
   ]
  },
  {
   "cell_type": "code",
   "execution_count": 49,
   "id": "e2b8f3c2",
   "metadata": {
    "scrolled": true
   },
   "outputs": [
    {
     "data": {
      "text/plain": [
       "<Axes: xlabel='family_status', ylabel='debt'>"
      ]
     },
     "execution_count": 49,
     "metadata": {},
     "output_type": "execute_result"
    },
    {
     "data": {
      "image/png": "[encoded data removed]",
      "text/plain": [
       "<Figure size 640x480 with 1 Axes>"
      ]
     },
     "metadata": {},
     "output_type": "display_data"
    }
   ],
   "source": [
    "sns.barplot(x = 'family_status', y = 'debt', data=data)"
   ]
  },
  {
   "cell_type": "markdown",
   "id": "5aa40903",
   "metadata": {},
   "source": [
    "##### Conclusion 2:"
   ]
  },
  {
   "cell_type": "markdown",
   "id": "d72e6856",
   "metadata": {},
   "source": [
    "The graph shows that clients in a civil marriage, and clients not in marriage, have the greatest tendency to have the fact of late payments."
   ]
  },
  {
   "cell_type": "markdown",
   "id": "192f61c1",
   "metadata": {},
   "source": [
    "##### Question 3:"
   ]
  },
  {
   "cell_type": "markdown",
   "id": "a73582bb",
   "metadata": {},
   "source": [
    "Is there a relationship between income level and loan repayment on time?"
   ]
  },
  {
   "cell_type": "code",
   "execution_count": 50,
   "id": "34021a1a",
   "metadata": {
    "scrolled": true
   },
   "outputs": [
    {
     "data": {
      "text/plain": [
       "<Axes: xlabel='total_income_category', ylabel='debt'>"
      ]
     },
     "execution_count": 50,
     "metadata": {},
     "output_type": "execute_result"
    },
    {
     "data": {
      "image/png": "[encoded data removed]",
      "text/plain": [
       "<Figure size 640x480 with 1 Axes>"
      ]
     },
     "metadata": {},
     "output_type": "display_data"
    }
   ],
   "source": [
    "sns.barplot(x = 'total_income_category', y = 'debt', data=data)"
   ]
  },
  {
   "cell_type": "markdown",
   "id": "266669ae",
   "metadata": {},
   "source": [
    "##### Conclusion 3:"
   ]
  },
  {
   "cell_type": "markdown",
   "id": "6a2305f5",
   "metadata": {},
   "source": [
    "The graph shows that customers from categories E, C, A have the greatest tendency to have the fact of late payments."
   ]
  },
  {
   "cell_type": "markdown",
   "id": "e5dc1083",
   "metadata": {},
   "source": [
    "As indicated earlier, these categories imply the income specified in the paragraphs below:\n",
    "- 0–30000 - 'E';\n",
    "- 50001–200000 - 'C';\n",
    "- 1000001 and above - 'A'."
   ]
  },
  {
   "cell_type": "markdown",
   "id": "8dffbdea",
   "metadata": {},
   "source": [
    "##### Question 4:"
   ]
  },
  {
   "cell_type": "markdown",
   "id": "c2d1b84e",
   "metadata": {},
   "source": [
    "Is there a relationship between the purpose of the loan and its repayment on time?"
   ]
  },
  {
   "cell_type": "code",
   "execution_count": 51,
   "id": "2add718a",
   "metadata": {},
   "outputs": [
    {
     "data": {
      "text/plain": [
       "<Axes: xlabel='purpose_category', ylabel='debt'>"
      ]
     },
     "execution_count": 51,
     "metadata": {},
     "output_type": "execute_result"
    },
    {
     "data": {
      "image/png": "[encoded data removed]",
      "text/plain": [
       "<Figure size 640x480 with 1 Axes>"
      ]
     },
     "metadata": {},
     "output_type": "display_data"
    }
   ],
   "source": [
    "sns.barplot(x = 'purpose_category', y = 'debt', data=data)"
   ]
  },
  {
   "cell_type": "markdown",
   "id": "e21620fa",
   "metadata": {},
   "source": [
    "##### Conclusion 4:"
   ]
  },
  {
   "cell_type": "markdown",
   "id": "b9a1df65",
   "metadata": {},
   "source": [
    "The graph shows that the goals of customer purchases in the form of car transactions and education are associated with the highest risk of debt."
   ]
  },
  {
   "cell_type": "markdown",
   "id": "4f770339",
   "metadata": {},
   "source": [
    "## General conclusion:"
   ]
  },
  {
   "cell_type": "markdown",
   "id": "bf593e63",
   "metadata": {},
   "source": [
    "The result of the study was the logical conclusions:\n",
    "- clients with 1,2 and 4 children more often than others had arrears in payments;\n",
    "- clients in a civil marriage, and clients not in marriage, have the greatest tendency to have the fact of late payments;\n",
    "- customers with an income of up to 30,000 rubles/month, from 50,001 rubles/month to 200,000 rubles/month and more than 1,000,000 rubles/month have the greatest tendency to have the fact of untimely payments;\n",
    "- Purchasing goals of customers in the form of car transactions and education are associated with the highest risk of debt."
   ]
  }
 ],
 "metadata": {
  "ExecuteTimeLog": [
   {
    "duration": 434,
    "start_time": "2022-04-18T11:46:32.875Z"
   },
   {
    "duration": 65,
    "start_time": "2022-04-18T11:46:33.311Z"
   },
   {
    "duration": 20,
    "start_time": "2022-04-18T11:46:34.765Z"
   },
   {
    "duration": 15,
    "start_time": "2022-04-18T11:46:55.187Z"
   },
   {
    "duration": 20,
    "start_time": "2022-04-18T12:01:37.674Z"
   },
   {
    "duration": 10,
    "start_time": "2022-04-18T12:01:44.074Z"
   },
   {
    "duration": 61,
    "start_time": "2022-04-18T14:14:17.161Z"
   },
   {
    "duration": 5,
    "start_time": "2022-04-18T14:14:28.681Z"
   },
   {
    "duration": 5,
    "start_time": "2022-04-18T14:14:53.255Z"
   },
   {
    "duration": 5,
    "start_time": "2022-04-18T14:14:57.518Z"
   },
   {
    "duration": 5,
    "start_time": "2022-04-18T14:14:59.554Z"
   },
   {
    "duration": 4,
    "start_time": "2022-04-18T14:15:06.730Z"
   },
   {
    "duration": 4,
    "start_time": "2022-04-18T14:15:20.155Z"
   },
   {
    "duration": 4,
    "start_time": "2022-04-18T14:15:31.093Z"
   },
   {
    "duration": 5,
    "start_time": "2022-04-18T14:15:38.521Z"
   },
   {
    "duration": 6,
    "start_time": "2022-04-18T14:17:38.298Z"
   },
   {
    "duration": 9,
    "start_time": "2022-04-18T14:17:49.967Z"
   },
   {
    "duration": 9,
    "start_time": "2022-04-18T14:18:05.224Z"
   },
   {
    "duration": 4,
    "start_time": "2022-04-18T14:18:12.474Z"
   },
   {
    "duration": 4,
    "start_time": "2022-04-18T14:18:19.839Z"
   },
   {
    "duration": 3,
    "start_time": "2022-04-18T14:18:29.910Z"
   },
   {
    "duration": 10,
    "start_time": "2022-04-18T14:20:30.099Z"
   },
   {
    "duration": 9,
    "start_time": "2022-04-18T14:20:33.363Z"
   },
   {
    "duration": 12,
    "start_time": "2022-04-18T14:20:40.119Z"
   },
   {
    "duration": 10,
    "start_time": "2022-04-18T14:21:21.898Z"
   },
   {
    "duration": 9,
    "start_time": "2022-04-18T14:21:26.223Z"
   },
   {
    "duration": 8,
    "start_time": "2022-04-18T14:21:42.802Z"
   },
   {
    "duration": 8,
    "start_time": "2022-04-18T14:22:05.944Z"
   },
   {
    "duration": 7,
    "start_time": "2022-04-18T14:22:16.335Z"
   },
   {
    "duration": 8,
    "start_time": "2022-04-18T14:22:27.448Z"
   },
   {
    "duration": 6,
    "start_time": "2022-04-18T14:22:44.934Z"
   },
   {
    "duration": 9,
    "start_time": "2022-04-18T14:23:02.145Z"
   },
   {
    "duration": 0,
    "start_time": "2022-04-18T14:33:27.129Z"
   },
   {
    "duration": 3,
    "start_time": "2022-04-18T14:34:03.352Z"
   },
   {
    "duration": 2028,
    "start_time": "2022-04-18T14:34:11.341Z"
   },
   {
    "duration": 1809,
    "start_time": "2022-04-18T14:34:17.980Z"
   },
   {
    "duration": 0,
    "start_time": "2022-04-18T14:35:07.569Z"
   },
   {
    "duration": 2047,
    "start_time": "2022-04-18T14:35:36.331Z"
   },
   {
    "duration": 6,
    "start_time": "2022-04-18T14:35:54.559Z"
   },
   {
    "duration": 2141,
    "start_time": "2022-04-18T14:36:09.100Z"
   },
   {
    "duration": 0,
    "start_time": "2022-04-18T14:36:11.243Z"
   },
   {
    "duration": 222,
    "start_time": "2022-04-18T14:36:53.393Z"
   },
   {
    "duration": 5,
    "start_time": "2022-04-18T14:36:58.332Z"
   },
   {
    "duration": 0,
    "start_time": "2022-04-18T14:37:06.058Z"
   },
   {
    "duration": 2108,
    "start_time": "2022-04-18T14:37:07.262Z"
   },
   {
    "duration": 490,
    "start_time": "2022-04-20T08:13:17.801Z"
   },
   {
    "duration": 77,
    "start_time": "2022-04-20T08:13:18.293Z"
   },
   {
    "duration": 30,
    "start_time": "2022-04-20T08:13:18.372Z"
   },
   {
    "duration": 22,
    "start_time": "2022-04-20T08:13:18.404Z"
   },
   {
    "duration": 14,
    "start_time": "2022-04-20T08:13:18.428Z"
   },
   {
    "duration": 44,
    "start_time": "2022-04-20T08:13:18.444Z"
   },
   {
    "duration": 7,
    "start_time": "2022-04-20T08:13:20.656Z"
   },
   {
    "duration": 1742,
    "start_time": "2022-04-20T08:13:31.896Z"
   },
   {
    "duration": 8,
    "start_time": "2022-04-20T08:13:39.345Z"
   },
   {
    "duration": 5,
    "start_time": "2022-04-20T08:13:44.904Z"
   },
   {
    "duration": 7,
    "start_time": "2022-04-20T08:14:27.166Z"
   },
   {
    "duration": 6,
    "start_time": "2022-04-20T08:14:41.671Z"
   },
   {
    "duration": 7,
    "start_time": "2022-04-20T08:14:59.728Z"
   },
   {
    "duration": 6,
    "start_time": "2022-04-20T08:15:10.871Z"
   },
   {
    "duration": 7,
    "start_time": "2022-04-20T08:16:16.246Z"
   },
   {
    "duration": 7,
    "start_time": "2022-04-20T08:16:16.413Z"
   },
   {
    "duration": 4,
    "start_time": "2022-04-20T08:16:27.643Z"
   },
   {
    "duration": 91,
    "start_time": "2022-04-20T08:16:27.649Z"
   },
   {
    "duration": 19,
    "start_time": "2022-04-20T08:16:27.743Z"
   },
   {
    "duration": 26,
    "start_time": "2022-04-20T08:16:27.764Z"
   },
   {
    "duration": 13,
    "start_time": "2022-04-20T08:16:27.793Z"
   },
   {
    "duration": 11,
    "start_time": "2022-04-20T08:16:27.808Z"
   },
   {
    "duration": 9,
    "start_time": "2022-04-20T08:16:27.821Z"
   },
   {
    "duration": 9,
    "start_time": "2022-04-20T08:16:30.398Z"
   },
   {
    "duration": 7,
    "start_time": "2022-04-20T08:16:33.309Z"
   },
   {
    "duration": 5,
    "start_time": "2022-04-20T08:25:17.113Z"
   },
   {
    "duration": 5,
    "start_time": "2022-04-20T08:25:24.937Z"
   },
   {
    "duration": 6,
    "start_time": "2022-04-20T08:25:27.545Z"
   },
   {
    "duration": 3,
    "start_time": "2022-04-20T08:25:33.527Z"
   },
   {
    "duration": 75,
    "start_time": "2022-04-20T08:25:33.533Z"
   },
   {
    "duration": 19,
    "start_time": "2022-04-20T08:25:33.610Z"
   },
   {
    "duration": 21,
    "start_time": "2022-04-20T08:25:33.631Z"
   },
   {
    "duration": 32,
    "start_time": "2022-04-20T08:25:33.655Z"
   },
   {
    "duration": 16,
    "start_time": "2022-04-20T08:25:33.690Z"
   },
   {
    "duration": 8,
    "start_time": "2022-04-20T08:25:33.708Z"
   },
   {
    "duration": 6,
    "start_time": "2022-04-20T08:25:33.718Z"
   },
   {
    "duration": 6,
    "start_time": "2022-04-20T08:25:35.945Z"
   },
   {
    "duration": 4,
    "start_time": "2022-04-20T08:32:26.958Z"
   },
   {
    "duration": 31,
    "start_time": "2022-04-20T08:32:33.203Z"
   },
   {
    "duration": 8,
    "start_time": "2022-04-20T08:32:58.093Z"
   },
   {
    "duration": 4,
    "start_time": "2022-04-20T08:34:33.488Z"
   },
   {
    "duration": 7,
    "start_time": "2022-04-20T08:34:33.494Z"
   },
   {
    "duration": 79,
    "start_time": "2022-04-20T08:34:33.504Z"
   },
   {
    "duration": 22,
    "start_time": "2022-04-20T08:34:33.585Z"
   },
   {
    "duration": 20,
    "start_time": "2022-04-20T08:34:33.611Z"
   },
   {
    "duration": 15,
    "start_time": "2022-04-20T08:34:33.633Z"
   },
   {
    "duration": 11,
    "start_time": "2022-04-20T08:34:33.681Z"
   },
   {
    "duration": 6,
    "start_time": "2022-04-20T08:34:33.694Z"
   },
   {
    "duration": 6,
    "start_time": "2022-04-20T08:34:33.702Z"
   },
   {
    "duration": 11,
    "start_time": "2022-04-20T08:34:33.709Z"
   },
   {
    "duration": 8,
    "start_time": "2022-04-20T08:34:36.651Z"
   },
   {
    "duration": 13,
    "start_time": "2022-04-20T08:34:41.787Z"
   },
   {
    "duration": 11,
    "start_time": "2022-04-20T08:34:49.113Z"
   },
   {
    "duration": 9,
    "start_time": "2022-04-20T08:34:57.834Z"
   },
   {
    "duration": 7,
    "start_time": "2022-04-20T08:37:55.054Z"
   },
   {
    "duration": 8,
    "start_time": "2022-04-20T08:37:59.433Z"
   },
   {
    "duration": 7,
    "start_time": "2022-04-20T08:38:07.288Z"
   },
   {
    "duration": 8,
    "start_time": "2022-04-20T08:38:10.232Z"
   },
   {
    "duration": 3,
    "start_time": "2022-04-20T08:38:15.071Z"
   },
   {
    "duration": 14,
    "start_time": "2022-04-20T08:38:15.076Z"
   },
   {
    "duration": 72,
    "start_time": "2022-04-20T08:38:15.093Z"
   },
   {
    "duration": 19,
    "start_time": "2022-04-20T08:38:15.167Z"
   },
   {
    "duration": 24,
    "start_time": "2022-04-20T08:38:15.189Z"
   },
   {
    "duration": 14,
    "start_time": "2022-04-20T08:38:15.215Z"
   },
   {
    "duration": 14,
    "start_time": "2022-04-20T08:38:15.231Z"
   },
   {
    "duration": 41,
    "start_time": "2022-04-20T08:38:15.248Z"
   },
   {
    "duration": 6,
    "start_time": "2022-04-20T08:38:15.291Z"
   },
   {
    "duration": 7,
    "start_time": "2022-04-20T08:38:16.769Z"
   },
   {
    "duration": 10,
    "start_time": "2022-04-20T08:39:08.319Z"
   },
   {
    "duration": 6919,
    "start_time": "2022-04-20T08:40:58.935Z"
   },
   {
    "duration": 136,
    "start_time": "2022-04-20T08:41:30.703Z"
   },
   {
    "duration": 4,
    "start_time": "2022-04-20T08:41:42.281Z"
   },
   {
    "duration": 9,
    "start_time": "2022-04-20T08:41:42.287Z"
   },
   {
    "duration": 3459,
    "start_time": "2022-04-20T08:41:42.298Z"
   },
   {
    "duration": 7,
    "start_time": "2022-04-20T08:41:45.760Z"
   },
   {
    "duration": 76,
    "start_time": "2022-04-20T08:41:45.770Z"
   },
   {
    "duration": 22,
    "start_time": "2022-04-20T08:41:45.848Z"
   },
   {
    "duration": 23,
    "start_time": "2022-04-20T08:41:45.882Z"
   },
   {
    "duration": 14,
    "start_time": "2022-04-20T08:41:45.908Z"
   },
   {
    "duration": 19,
    "start_time": "2022-04-20T08:41:45.925Z"
   },
   {
    "duration": 43,
    "start_time": "2022-04-20T08:41:45.946Z"
   },
   {
    "duration": 7,
    "start_time": "2022-04-20T08:41:45.991Z"
   },
   {
    "duration": 9,
    "start_time": "2022-04-20T08:41:46.001Z"
   },
   {
    "duration": 20,
    "start_time": "2022-04-20T08:43:14.782Z"
   },
   {
    "duration": 20,
    "start_time": "2022-04-20T08:43:15.685Z"
   },
   {
    "duration": 19,
    "start_time": "2022-04-20T08:43:17.206Z"
   },
   {
    "duration": 4,
    "start_time": "2022-04-20T08:43:28.778Z"
   },
   {
    "duration": 7,
    "start_time": "2022-04-20T08:43:28.785Z"
   },
   {
    "duration": 3604,
    "start_time": "2022-04-20T08:43:28.794Z"
   },
   {
    "duration": 7,
    "start_time": "2022-04-20T08:43:32.401Z"
   },
   {
    "duration": 73,
    "start_time": "2022-04-20T08:43:32.413Z"
   },
   {
    "duration": 23,
    "start_time": "2022-04-20T08:43:32.488Z"
   },
   {
    "duration": 25,
    "start_time": "2022-04-20T08:43:32.513Z"
   },
   {
    "duration": 48,
    "start_time": "2022-04-20T08:43:32.541Z"
   },
   {
    "duration": 18,
    "start_time": "2022-04-20T08:43:32.591Z"
   },
   {
    "duration": 10,
    "start_time": "2022-04-20T08:43:32.612Z"
   },
   {
    "duration": 7,
    "start_time": "2022-04-20T08:43:32.624Z"
   },
   {
    "duration": 53,
    "start_time": "2022-04-20T08:43:32.634Z"
   },
   {
    "duration": 16,
    "start_time": "2022-04-20T08:43:32.690Z"
   },
   {
    "duration": 21,
    "start_time": "2022-04-20T08:43:34.709Z"
   },
   {
    "duration": 20,
    "start_time": "2022-04-20T08:43:35.230Z"
   },
   {
    "duration": 21,
    "start_time": "2022-04-20T08:43:35.989Z"
   },
   {
    "duration": 21,
    "start_time": "2022-04-20T08:43:36.301Z"
   },
   {
    "duration": 21,
    "start_time": "2022-04-20T08:43:37.389Z"
   },
   {
    "duration": 23,
    "start_time": "2022-04-20T08:43:50.733Z"
   },
   {
    "duration": 5,
    "start_time": "2022-04-20T08:44:10.408Z"
   },
   {
    "duration": 8,
    "start_time": "2022-04-20T08:44:10.417Z"
   },
   {
    "duration": 3462,
    "start_time": "2022-04-20T08:44:10.428Z"
   },
   {
    "duration": 71,
    "start_time": "2022-04-20T08:44:13.892Z"
   },
   {
    "duration": 22,
    "start_time": "2022-04-20T08:44:13.966Z"
   },
   {
    "duration": 26,
    "start_time": "2022-04-20T08:44:13.990Z"
   },
   {
    "duration": 15,
    "start_time": "2022-04-20T08:44:14.018Z"
   },
   {
    "duration": 53,
    "start_time": "2022-04-20T08:44:14.036Z"
   },
   {
    "duration": 9,
    "start_time": "2022-04-20T08:44:14.091Z"
   },
   {
    "duration": 6,
    "start_time": "2022-04-20T08:44:14.102Z"
   },
   {
    "duration": 8,
    "start_time": "2022-04-20T08:44:14.110Z"
   },
   {
    "duration": 17,
    "start_time": "2022-04-20T08:44:14.119Z"
   },
   {
    "duration": 4,
    "start_time": "2022-04-20T08:44:19.407Z"
   },
   {
    "duration": 8,
    "start_time": "2022-04-20T08:44:19.413Z"
   },
   {
    "duration": 75,
    "start_time": "2022-04-20T08:44:19.423Z"
   },
   {
    "duration": 20,
    "start_time": "2022-04-20T08:44:19.500Z"
   },
   {
    "duration": 23,
    "start_time": "2022-04-20T08:44:19.523Z"
   },
   {
    "duration": 39,
    "start_time": "2022-04-20T08:44:19.549Z"
   },
   {
    "duration": 14,
    "start_time": "2022-04-20T08:44:19.590Z"
   },
   {
    "duration": 9,
    "start_time": "2022-04-20T08:44:19.606Z"
   },
   {
    "duration": 6,
    "start_time": "2022-04-20T08:44:19.617Z"
   },
   {
    "duration": 8,
    "start_time": "2022-04-20T08:44:19.626Z"
   },
   {
    "duration": 55,
    "start_time": "2022-04-20T08:44:19.636Z"
   },
   {
    "duration": 5,
    "start_time": "2022-04-20T08:44:24.418Z"
   },
   {
    "duration": 4,
    "start_time": "2022-04-20T08:44:29.221Z"
   },
   {
    "duration": 68,
    "start_time": "2022-04-20T08:44:31.220Z"
   },
   {
    "duration": 63,
    "start_time": "2022-04-20T08:44:31.667Z"
   },
   {
    "duration": 65,
    "start_time": "2022-04-20T08:44:31.987Z"
   },
   {
    "duration": 68,
    "start_time": "2022-04-20T08:44:32.277Z"
   },
   {
    "duration": 66,
    "start_time": "2022-04-20T08:44:32.556Z"
   },
   {
    "duration": 20,
    "start_time": "2022-04-20T08:44:34.868Z"
   },
   {
    "duration": 21,
    "start_time": "2022-04-20T08:44:35.454Z"
   },
   {
    "duration": 21,
    "start_time": "2022-04-20T08:44:35.959Z"
   },
   {
    "duration": 21,
    "start_time": "2022-04-20T08:44:36.156Z"
   },
   {
    "duration": 5,
    "start_time": "2022-04-20T08:44:42.101Z"
   },
   {
    "duration": 6,
    "start_time": "2022-04-20T08:44:42.108Z"
   },
   {
    "duration": 72,
    "start_time": "2022-04-20T08:44:42.116Z"
   },
   {
    "duration": 19,
    "start_time": "2022-04-20T08:44:42.191Z"
   },
   {
    "duration": 21,
    "start_time": "2022-04-20T08:44:42.213Z"
   },
   {
    "duration": 14,
    "start_time": "2022-04-20T08:44:42.236Z"
   },
   {
    "duration": 39,
    "start_time": "2022-04-20T08:44:42.253Z"
   },
   {
    "duration": 8,
    "start_time": "2022-04-20T08:44:42.294Z"
   },
   {
    "duration": 9,
    "start_time": "2022-04-20T08:44:42.304Z"
   },
   {
    "duration": 39,
    "start_time": "2022-04-20T08:44:42.315Z"
   },
   {
    "duration": 4,
    "start_time": "2022-04-20T08:44:54.484Z"
   },
   {
    "duration": 4,
    "start_time": "2022-04-20T08:44:56.883Z"
   },
   {
    "duration": 4,
    "start_time": "2022-04-20T08:45:00.664Z"
   },
   {
    "duration": 71,
    "start_time": "2022-04-20T08:45:01.819Z"
   },
   {
    "duration": 22,
    "start_time": "2022-04-20T08:45:02.229Z"
   },
   {
    "duration": 14,
    "start_time": "2022-04-20T08:45:04.207Z"
   },
   {
    "duration": 15,
    "start_time": "2022-04-20T08:45:05.108Z"
   },
   {
    "duration": 8,
    "start_time": "2022-04-20T08:45:07.285Z"
   },
   {
    "duration": 6,
    "start_time": "2022-04-20T08:45:07.636Z"
   },
   {
    "duration": 7,
    "start_time": "2022-04-20T08:45:07.848Z"
   },
   {
    "duration": 14,
    "start_time": "2022-04-20T08:45:08.299Z"
   },
   {
    "duration": 514,
    "start_time": "2022-04-20T08:45:40.674Z"
   },
   {
    "duration": 4,
    "start_time": "2022-04-20T08:45:41.190Z"
   },
   {
    "duration": 109,
    "start_time": "2022-04-20T08:45:41.196Z"
   },
   {
    "duration": 0,
    "start_time": "2022-04-20T08:45:41.307Z"
   },
   {
    "duration": 0,
    "start_time": "2022-04-20T08:45:41.309Z"
   },
   {
    "duration": 0,
    "start_time": "2022-04-20T08:45:41.310Z"
   },
   {
    "duration": 0,
    "start_time": "2022-04-20T08:45:41.312Z"
   },
   {
    "duration": 0,
    "start_time": "2022-04-20T08:45:41.313Z"
   },
   {
    "duration": 0,
    "start_time": "2022-04-20T08:45:41.315Z"
   },
   {
    "duration": 0,
    "start_time": "2022-04-20T08:45:41.316Z"
   },
   {
    "duration": 0,
    "start_time": "2022-04-20T08:45:41.317Z"
   },
   {
    "duration": 79,
    "start_time": "2022-04-20T08:46:51.345Z"
   },
   {
    "duration": 30,
    "start_time": "2022-04-20T08:46:54.930Z"
   },
   {
    "duration": 3,
    "start_time": "2022-04-20T08:46:59.667Z"
   },
   {
    "duration": 6,
    "start_time": "2022-04-20T08:46:59.673Z"
   },
   {
    "duration": 70,
    "start_time": "2022-04-20T08:46:59.682Z"
   },
   {
    "duration": 19,
    "start_time": "2022-04-20T08:46:59.755Z"
   },
   {
    "duration": 21,
    "start_time": "2022-04-20T08:46:59.781Z"
   },
   {
    "duration": 13,
    "start_time": "2022-04-20T08:46:59.805Z"
   },
   {
    "duration": 10,
    "start_time": "2022-04-20T08:46:59.820Z"
   },
   {
    "duration": 7,
    "start_time": "2022-04-20T08:46:59.831Z"
   },
   {
    "duration": 6,
    "start_time": "2022-04-20T08:46:59.881Z"
   },
   {
    "duration": 6,
    "start_time": "2022-04-20T08:46:59.890Z"
   },
   {
    "duration": 10,
    "start_time": "2022-04-20T08:46:59.898Z"
   },
   {
    "duration": 15,
    "start_time": "2022-04-20T08:52:33.568Z"
   },
   {
    "duration": 13,
    "start_time": "2022-04-20T08:52:38.726Z"
   },
   {
    "duration": 3,
    "start_time": "2022-04-20T08:52:43.056Z"
   },
   {
    "duration": 7,
    "start_time": "2022-04-20T08:52:43.062Z"
   },
   {
    "duration": 75,
    "start_time": "2022-04-20T08:52:43.071Z"
   },
   {
    "duration": 20,
    "start_time": "2022-04-20T08:52:43.149Z"
   },
   {
    "duration": 25,
    "start_time": "2022-04-20T08:52:43.181Z"
   },
   {
    "duration": 14,
    "start_time": "2022-04-20T08:52:44.719Z"
   },
   {
    "duration": 11,
    "start_time": "2022-04-20T08:52:52.048Z"
   },
   {
    "duration": 5,
    "start_time": "2022-04-20T09:01:25.814Z"
   },
   {
    "duration": 14,
    "start_time": "2022-04-20T09:01:25.822Z"
   },
   {
    "duration": 87,
    "start_time": "2022-04-20T09:01:25.838Z"
   },
   {
    "duration": 21,
    "start_time": "2022-04-20T09:01:25.927Z"
   },
   {
    "duration": 38,
    "start_time": "2022-04-20T09:01:25.952Z"
   },
   {
    "duration": 15,
    "start_time": "2022-04-20T09:01:25.993Z"
   },
   {
    "duration": 13,
    "start_time": "2022-04-20T09:01:26.010Z"
   },
   {
    "duration": 4,
    "start_time": "2022-04-20T09:01:26.025Z"
   },
   {
    "duration": 4,
    "start_time": "2022-04-20T09:01:26.032Z"
   },
   {
    "duration": 4,
    "start_time": "2022-04-20T09:01:26.081Z"
   },
   {
    "duration": 9,
    "start_time": "2022-04-20T09:01:29.932Z"
   },
   {
    "duration": 7,
    "start_time": "2022-04-20T09:01:52.170Z"
   },
   {
    "duration": 21,
    "start_time": "2022-04-20T09:03:50.585Z"
   },
   {
    "duration": 3,
    "start_time": "2022-04-20T09:05:09.220Z"
   },
   {
    "duration": 9,
    "start_time": "2022-04-20T09:05:09.226Z"
   },
   {
    "duration": 75,
    "start_time": "2022-04-20T09:05:09.237Z"
   },
   {
    "duration": 21,
    "start_time": "2022-04-20T09:05:09.314Z"
   },
   {
    "duration": 43,
    "start_time": "2022-04-20T09:05:09.339Z"
   },
   {
    "duration": 16,
    "start_time": "2022-04-20T09:05:09.384Z"
   },
   {
    "duration": 11,
    "start_time": "2022-04-20T09:05:09.403Z"
   },
   {
    "duration": 17,
    "start_time": "2022-04-20T09:05:11.530Z"
   },
   {
    "duration": 6,
    "start_time": "2022-04-20T09:05:28.720Z"
   },
   {
    "duration": 7,
    "start_time": "2022-04-20T09:05:31.605Z"
   },
   {
    "duration": 4,
    "start_time": "2022-04-20T09:05:33.197Z"
   },
   {
    "duration": 6,
    "start_time": "2022-04-20T09:05:34.936Z"
   },
   {
    "duration": 9,
    "start_time": "2022-04-20T09:05:37.317Z"
   },
   {
    "duration": 5,
    "start_time": "2022-04-20T09:05:39.533Z"
   },
   {
    "duration": 3,
    "start_time": "2022-04-20T09:06:37.059Z"
   },
   {
    "duration": 6,
    "start_time": "2022-04-20T09:06:37.065Z"
   },
   {
    "duration": 69,
    "start_time": "2022-04-20T09:06:37.073Z"
   },
   {
    "duration": 18,
    "start_time": "2022-04-20T09:06:37.145Z"
   },
   {
    "duration": 32,
    "start_time": "2022-04-20T09:06:37.165Z"
   },
   {
    "duration": 12,
    "start_time": "2022-04-20T09:06:37.199Z"
   },
   {
    "duration": 10,
    "start_time": "2022-04-20T09:06:37.213Z"
   },
   {
    "duration": 10,
    "start_time": "2022-04-20T09:06:37.225Z"
   },
   {
    "duration": 7,
    "start_time": "2022-04-20T09:06:39.439Z"
   },
   {
    "duration": 8,
    "start_time": "2022-04-20T09:06:41.705Z"
   },
   {
    "duration": 5,
    "start_time": "2022-04-20T09:06:42.602Z"
   },
   {
    "duration": 7,
    "start_time": "2022-04-20T09:06:43.076Z"
   },
   {
    "duration": 5,
    "start_time": "2022-04-20T09:06:44.217Z"
   },
   {
    "duration": 11,
    "start_time": "2022-04-20T09:10:08.641Z"
   },
   {
    "duration": 11,
    "start_time": "2022-04-20T09:10:12.577Z"
   },
   {
    "duration": 21,
    "start_time": "2022-04-20T09:10:18.666Z"
   },
   {
    "duration": 1701,
    "start_time": "2022-04-20T09:17:16.765Z"
   },
   {
    "duration": 12,
    "start_time": "2022-04-20T09:17:24.173Z"
   },
   {
    "duration": 9,
    "start_time": "2022-04-20T09:17:57.701Z"
   },
   {
    "duration": 6,
    "start_time": "2022-04-20T09:18:11.708Z"
   },
   {
    "duration": 9,
    "start_time": "2022-04-20T09:19:29.414Z"
   },
   {
    "duration": 25,
    "start_time": "2022-04-20T09:22:06.682Z"
   },
   {
    "duration": 29,
    "start_time": "2022-04-20T09:22:20.793Z"
   },
   {
    "duration": 27,
    "start_time": "2022-04-20T09:22:27.332Z"
   },
   {
    "duration": 10,
    "start_time": "2022-04-20T09:24:29.110Z"
   },
   {
    "duration": 11,
    "start_time": "2022-04-20T09:24:53.892Z"
   },
   {
    "duration": 10,
    "start_time": "2022-04-20T09:25:51.211Z"
   },
   {
    "duration": 11,
    "start_time": "2022-04-20T09:25:52.049Z"
   },
   {
    "duration": 15,
    "start_time": "2022-04-20T09:26:08.876Z"
   },
   {
    "duration": 10,
    "start_time": "2022-04-20T09:26:28.678Z"
   },
   {
    "duration": 8,
    "start_time": "2022-04-20T09:29:37.577Z"
   },
   {
    "duration": 9,
    "start_time": "2022-04-20T09:30:40.607Z"
   },
   {
    "duration": 9,
    "start_time": "2022-04-20T09:31:17.260Z"
   },
   {
    "duration": 5,
    "start_time": "2022-04-20T09:31:29.564Z"
   },
   {
    "duration": 4,
    "start_time": "2022-04-20T09:31:44.167Z"
   },
   {
    "duration": 6,
    "start_time": "2022-04-20T09:31:48.491Z"
   },
   {
    "duration": 28,
    "start_time": "2022-04-20T09:32:22.752Z"
   },
   {
    "duration": 30,
    "start_time": "2022-04-20T09:32:46.380Z"
   },
   {
    "duration": 48,
    "start_time": "2022-04-20T09:33:02.834Z"
   },
   {
    "duration": 32,
    "start_time": "2022-04-20T09:33:06.909Z"
   },
   {
    "duration": 15,
    "start_time": "2022-04-20T09:33:45.554Z"
   },
   {
    "duration": 11,
    "start_time": "2022-04-20T09:34:25.833Z"
   },
   {
    "duration": 104,
    "start_time": "2022-04-20T09:34:38.465Z"
   },
   {
    "duration": 111,
    "start_time": "2022-04-20T09:34:53.839Z"
   },
   {
    "duration": 35,
    "start_time": "2022-04-20T09:35:06.807Z"
   },
   {
    "duration": 377,
    "start_time": "2022-04-20T09:36:04.521Z"
   },
   {
    "duration": 523,
    "start_time": "2022-04-20T09:36:19.167Z"
   },
   {
    "duration": 58,
    "start_time": "2022-04-20T09:36:47.209Z"
   },
   {
    "duration": 10,
    "start_time": "2022-04-20T09:39:36.893Z"
   },
   {
    "duration": 12,
    "start_time": "2022-04-20T09:39:47.038Z"
   },
   {
    "duration": 11,
    "start_time": "2022-04-20T09:40:23.443Z"
   },
   {
    "duration": 8,
    "start_time": "2022-04-20T09:40:32.562Z"
   },
   {
    "duration": 7,
    "start_time": "2022-04-20T09:40:37.213Z"
   },
   {
    "duration": 7,
    "start_time": "2022-04-20T09:41:37.497Z"
   },
   {
    "duration": 17,
    "start_time": "2022-04-20T09:41:44.394Z"
   },
   {
    "duration": 16,
    "start_time": "2022-04-20T09:42:09.370Z"
   },
   {
    "duration": 10,
    "start_time": "2022-04-20T09:43:01.908Z"
   },
   {
    "duration": 17,
    "start_time": "2022-04-20T09:43:10.222Z"
   },
   {
    "duration": 17,
    "start_time": "2022-04-20T09:43:17.704Z"
   },
   {
    "duration": 11,
    "start_time": "2022-04-20T09:45:25.419Z"
   },
   {
    "duration": 12,
    "start_time": "2022-04-20T09:45:33.132Z"
   },
   {
    "duration": 13,
    "start_time": "2022-04-20T09:45:52.501Z"
   },
   {
    "duration": 122,
    "start_time": "2022-04-20T09:48:30.248Z"
   },
   {
    "duration": 118,
    "start_time": "2022-04-20T09:49:50.192Z"
   },
   {
    "duration": 30,
    "start_time": "2022-04-20T09:58:45.250Z"
   },
   {
    "duration": 29,
    "start_time": "2022-04-20T09:59:24.441Z"
   },
   {
    "duration": 31,
    "start_time": "2022-04-20T09:59:36.543Z"
   },
   {
    "duration": 508,
    "start_time": "2022-04-20T13:16:22.382Z"
   },
   {
    "duration": 3,
    "start_time": "2022-04-20T13:16:22.893Z"
   },
   {
    "duration": 1475,
    "start_time": "2022-04-20T13:16:22.898Z"
   },
   {
    "duration": 84,
    "start_time": "2022-04-20T13:16:24.376Z"
   },
   {
    "duration": 26,
    "start_time": "2022-04-20T13:16:24.464Z"
   },
   {
    "duration": 51,
    "start_time": "2022-04-20T13:16:24.492Z"
   },
   {
    "duration": 14,
    "start_time": "2022-04-20T13:16:24.546Z"
   },
   {
    "duration": 10,
    "start_time": "2022-04-20T13:16:24.563Z"
   },
   {
    "duration": 212,
    "start_time": "2022-04-20T13:16:24.575Z"
   },
   {
    "duration": 0,
    "start_time": "2022-04-20T13:16:24.790Z"
   },
   {
    "duration": 0,
    "start_time": "2022-04-20T13:16:24.792Z"
   },
   {
    "duration": 0,
    "start_time": "2022-04-20T13:16:24.793Z"
   },
   {
    "duration": 0,
    "start_time": "2022-04-20T13:16:24.794Z"
   },
   {
    "duration": 0,
    "start_time": "2022-04-20T13:16:24.796Z"
   },
   {
    "duration": 0,
    "start_time": "2022-04-20T13:16:24.798Z"
   },
   {
    "duration": 1,
    "start_time": "2022-04-20T13:16:24.799Z"
   },
   {
    "duration": 0,
    "start_time": "2022-04-20T13:16:24.801Z"
   },
   {
    "duration": 0,
    "start_time": "2022-04-20T13:16:24.827Z"
   },
   {
    "duration": 0,
    "start_time": "2022-04-20T13:16:24.829Z"
   },
   {
    "duration": 1,
    "start_time": "2022-04-20T13:16:24.832Z"
   },
   {
    "duration": 0,
    "start_time": "2022-04-20T13:16:24.834Z"
   },
   {
    "duration": 0,
    "start_time": "2022-04-20T13:16:24.840Z"
   },
   {
    "duration": 0,
    "start_time": "2022-04-20T13:16:24.841Z"
   },
   {
    "duration": 0,
    "start_time": "2022-04-20T13:16:24.845Z"
   },
   {
    "duration": 0,
    "start_time": "2022-04-20T13:16:24.847Z"
   },
   {
    "duration": 0,
    "start_time": "2022-04-20T13:16:24.848Z"
   },
   {
    "duration": 11,
    "start_time": "2022-04-20T13:16:59.556Z"
   },
   {
    "duration": 581,
    "start_time": "2022-04-20T13:26:07.894Z"
   },
   {
    "duration": 4,
    "start_time": "2022-04-20T13:26:08.478Z"
   },
   {
    "duration": 1119,
    "start_time": "2022-04-20T13:26:08.484Z"
   },
   {
    "duration": 81,
    "start_time": "2022-04-20T13:26:09.606Z"
   },
   {
    "duration": 42,
    "start_time": "2022-04-20T13:26:09.689Z"
   },
   {
    "duration": 32,
    "start_time": "2022-04-20T13:26:09.744Z"
   },
   {
    "duration": 20,
    "start_time": "2022-04-20T13:26:09.779Z"
   },
   {
    "duration": 33,
    "start_time": "2022-04-20T13:26:09.802Z"
   },
   {
    "duration": 171,
    "start_time": "2022-04-20T13:26:09.838Z"
   },
   {
    "duration": 0,
    "start_time": "2022-04-20T13:26:10.012Z"
   },
   {
    "duration": 0,
    "start_time": "2022-04-20T13:26:10.014Z"
   },
   {
    "duration": 0,
    "start_time": "2022-04-20T13:26:10.015Z"
   },
   {
    "duration": 0,
    "start_time": "2022-04-20T13:26:10.025Z"
   },
   {
    "duration": 0,
    "start_time": "2022-04-20T13:26:10.027Z"
   },
   {
    "duration": 0,
    "start_time": "2022-04-20T13:26:10.030Z"
   },
   {
    "duration": 0,
    "start_time": "2022-04-20T13:26:10.032Z"
   },
   {
    "duration": 0,
    "start_time": "2022-04-20T13:26:10.033Z"
   },
   {
    "duration": 0,
    "start_time": "2022-04-20T13:26:10.035Z"
   },
   {
    "duration": 0,
    "start_time": "2022-04-20T13:26:10.037Z"
   },
   {
    "duration": 0,
    "start_time": "2022-04-20T13:26:10.041Z"
   },
   {
    "duration": 0,
    "start_time": "2022-04-20T13:26:10.043Z"
   },
   {
    "duration": 0,
    "start_time": "2022-04-20T13:26:10.045Z"
   },
   {
    "duration": 0,
    "start_time": "2022-04-20T13:26:10.047Z"
   },
   {
    "duration": 0,
    "start_time": "2022-04-20T13:26:10.050Z"
   },
   {
    "duration": 0,
    "start_time": "2022-04-20T13:26:10.051Z"
   },
   {
    "duration": 0,
    "start_time": "2022-04-20T13:26:10.054Z"
   },
   {
    "duration": 0,
    "start_time": "2022-04-20T13:26:10.056Z"
   },
   {
    "duration": 16,
    "start_time": "2022-04-20T13:27:04.302Z"
   },
   {
    "duration": 10,
    "start_time": "2022-04-20T13:27:27.880Z"
   },
   {
    "duration": 8,
    "start_time": "2022-04-20T13:27:58.210Z"
   },
   {
    "duration": 8,
    "start_time": "2022-04-20T13:28:01.006Z"
   },
   {
    "duration": 11,
    "start_time": "2022-04-20T13:28:10.860Z"
   },
   {
    "duration": 9,
    "start_time": "2022-04-20T13:28:19.487Z"
   },
   {
    "duration": 102,
    "start_time": "2022-04-20T13:28:52.694Z"
   },
   {
    "duration": 105,
    "start_time": "2022-04-20T13:28:58.284Z"
   },
   {
    "duration": 25,
    "start_time": "2022-04-20T13:29:06.094Z"
   },
   {
    "duration": 545,
    "start_time": "2022-04-20T13:37:46.582Z"
   },
   {
    "duration": 4,
    "start_time": "2022-04-20T13:37:47.131Z"
   },
   {
    "duration": 1099,
    "start_time": "2022-04-20T13:37:47.138Z"
   },
   {
    "duration": 82,
    "start_time": "2022-04-20T13:37:48.242Z"
   },
   {
    "duration": 30,
    "start_time": "2022-04-20T13:37:48.328Z"
   },
   {
    "duration": 33,
    "start_time": "2022-04-20T13:37:48.361Z"
   },
   {
    "duration": 40,
    "start_time": "2022-04-20T13:37:48.397Z"
   },
   {
    "duration": 17,
    "start_time": "2022-04-20T13:37:48.440Z"
   },
   {
    "duration": 9,
    "start_time": "2022-04-20T13:37:48.460Z"
   },
   {
    "duration": 682,
    "start_time": "2022-04-20T13:40:25.821Z"
   },
   {
    "duration": 4,
    "start_time": "2022-04-20T13:40:26.507Z"
   },
   {
    "duration": 1096,
    "start_time": "2022-04-20T13:40:26.528Z"
   },
   {
    "duration": 79,
    "start_time": "2022-04-20T13:40:27.629Z"
   },
   {
    "duration": 30,
    "start_time": "2022-04-20T13:40:27.728Z"
   },
   {
    "duration": 23,
    "start_time": "2022-04-20T13:40:27.760Z"
   },
   {
    "duration": 39,
    "start_time": "2022-04-20T13:40:27.785Z"
   },
   {
    "duration": 15,
    "start_time": "2022-04-20T13:40:27.828Z"
   },
   {
    "duration": 10,
    "start_time": "2022-04-20T13:40:27.846Z"
   },
   {
    "duration": 412,
    "start_time": "2022-04-20T13:40:27.858Z"
   },
   {
    "duration": 8,
    "start_time": "2022-04-20T13:40:28.272Z"
   },
   {
    "duration": 24,
    "start_time": "2022-04-20T13:40:28.282Z"
   },
   {
    "duration": 57,
    "start_time": "2022-04-20T13:40:28.308Z"
   },
   {
    "duration": 20,
    "start_time": "2022-04-20T13:40:28.370Z"
   },
   {
    "duration": 54,
    "start_time": "2022-04-20T13:40:28.392Z"
   },
   {
    "duration": 39,
    "start_time": "2022-04-20T13:40:28.448Z"
   },
   {
    "duration": 41,
    "start_time": "2022-04-20T13:40:28.489Z"
   },
   {
    "duration": 31,
    "start_time": "2022-04-20T13:40:28.533Z"
   },
   {
    "duration": 11,
    "start_time": "2022-04-20T13:40:28.566Z"
   },
   {
    "duration": 66,
    "start_time": "2022-04-20T13:40:28.580Z"
   },
   {
    "duration": 13,
    "start_time": "2022-04-20T13:40:28.649Z"
   },
   {
    "duration": 22,
    "start_time": "2022-04-20T13:40:28.665Z"
   },
   {
    "duration": 48,
    "start_time": "2022-04-20T13:40:28.690Z"
   },
   {
    "duration": 19,
    "start_time": "2022-04-20T13:40:28.741Z"
   },
   {
    "duration": 15,
    "start_time": "2022-04-20T13:40:28.763Z"
   },
   {
    "duration": 116,
    "start_time": "2022-04-20T13:40:28.781Z"
   },
   {
    "duration": 0,
    "start_time": "2022-04-20T13:40:28.900Z"
   },
   {
    "duration": 822,
    "start_time": "2022-04-20T13:41:30.817Z"
   },
   {
    "duration": 151,
    "start_time": "2022-04-20T13:41:53.541Z"
   },
   {
    "duration": 21,
    "start_time": "2022-04-20T13:42:01.038Z"
   },
   {
    "duration": 519,
    "start_time": "2022-04-20T13:43:09.528Z"
   },
   {
    "duration": 12,
    "start_time": "2022-04-20T13:47:04.426Z"
   },
   {
    "duration": 600,
    "start_time": "2022-04-20T13:47:37.000Z"
   },
   {
    "duration": 5,
    "start_time": "2022-04-20T13:47:37.603Z"
   },
   {
    "duration": 1067,
    "start_time": "2022-04-20T13:47:37.631Z"
   },
   {
    "duration": 87,
    "start_time": "2022-04-20T13:47:38.701Z"
   },
   {
    "duration": 40,
    "start_time": "2022-04-20T13:47:38.791Z"
   },
   {
    "duration": 34,
    "start_time": "2022-04-20T13:47:38.833Z"
   },
   {
    "duration": 16,
    "start_time": "2022-04-20T13:47:38.869Z"
   },
   {
    "duration": 47,
    "start_time": "2022-04-20T13:47:38.887Z"
   },
   {
    "duration": 20,
    "start_time": "2022-04-20T13:47:38.942Z"
   },
   {
    "duration": 7,
    "start_time": "2022-04-20T13:55:39.630Z"
   },
   {
    "duration": 9,
    "start_time": "2022-04-20T13:55:39.639Z"
   },
   {
    "duration": 9,
    "start_time": "2022-04-20T13:55:39.650Z"
   },
   {
    "duration": 11,
    "start_time": "2022-04-20T13:55:39.661Z"
   },
   {
    "duration": 68,
    "start_time": "2022-04-20T13:55:39.674Z"
   },
   {
    "duration": 37,
    "start_time": "2022-04-20T13:55:39.745Z"
   },
   {
    "duration": 65,
    "start_time": "2022-04-20T13:55:39.784Z"
   },
   {
    "duration": 40,
    "start_time": "2022-04-20T13:55:39.852Z"
   },
   {
    "duration": 29,
    "start_time": "2022-04-20T13:55:39.895Z"
   },
   {
    "duration": 17,
    "start_time": "2022-04-20T13:55:39.927Z"
   },
   {
    "duration": 20,
    "start_time": "2022-04-20T13:55:39.947Z"
   },
   {
    "duration": 19,
    "start_time": "2022-04-20T13:55:39.969Z"
   },
   {
    "duration": 45,
    "start_time": "2022-04-20T13:55:39.991Z"
   },
   {
    "duration": 29,
    "start_time": "2022-04-20T13:55:40.039Z"
   },
   {
    "duration": 17,
    "start_time": "2022-04-20T13:55:40.070Z"
   },
   {
    "duration": 105,
    "start_time": "2022-04-20T13:55:40.089Z"
   },
   {
    "duration": 0,
    "start_time": "2022-04-20T13:55:40.197Z"
   },
   {
    "duration": 0,
    "start_time": "2022-04-20T13:55:40.200Z"
   },
   {
    "duration": 3229,
    "start_time": "2022-04-20T13:56:01.769Z"
   },
   {
    "duration": 18,
    "start_time": "2022-04-20T13:58:22.425Z"
   },
   {
    "duration": 59,
    "start_time": "2022-04-20T13:58:35.160Z"
   },
   {
    "duration": 61,
    "start_time": "2022-04-20T13:58:46.199Z"
   },
   {
    "duration": 57,
    "start_time": "2022-04-20T13:58:50.782Z"
   },
   {
    "duration": 157,
    "start_time": "2022-04-20T13:58:54.849Z"
   },
   {
    "duration": 60,
    "start_time": "2022-04-20T13:59:03.378Z"
   },
   {
    "duration": 15,
    "start_time": "2022-04-20T13:59:13.895Z"
   },
   {
    "duration": 18,
    "start_time": "2022-04-20T13:59:23.365Z"
   },
   {
    "duration": 6,
    "start_time": "2022-04-20T14:00:03.247Z"
   },
   {
    "duration": 14,
    "start_time": "2022-04-20T14:00:48.349Z"
   },
   {
    "duration": 7,
    "start_time": "2022-04-20T14:01:22.036Z"
   },
   {
    "duration": 4,
    "start_time": "2022-04-20T14:05:48.900Z"
   },
   {
    "duration": 10,
    "start_time": "2022-04-20T14:05:48.907Z"
   },
   {
    "duration": 13,
    "start_time": "2022-04-20T14:05:48.920Z"
   },
   {
    "duration": 77,
    "start_time": "2022-04-20T14:05:48.935Z"
   },
   {
    "duration": 26,
    "start_time": "2022-04-20T14:05:49.016Z"
   },
   {
    "duration": 24,
    "start_time": "2022-04-20T14:05:49.045Z"
   },
   {
    "duration": 17,
    "start_time": "2022-04-20T14:05:49.072Z"
   },
   {
    "duration": 42,
    "start_time": "2022-04-20T14:05:49.092Z"
   },
   {
    "duration": 10,
    "start_time": "2022-04-20T14:05:49.137Z"
   },
   {
    "duration": 4979,
    "start_time": "2022-04-20T14:05:49.149Z"
   },
   {
    "duration": 17,
    "start_time": "2022-04-20T14:05:54.133Z"
   },
   {
    "duration": 7,
    "start_time": "2022-04-20T14:05:54.153Z"
   },
   {
    "duration": 31,
    "start_time": "2022-04-20T14:05:54.163Z"
   },
   {
    "duration": 13,
    "start_time": "2022-04-20T14:05:54.197Z"
   },
   {
    "duration": 19,
    "start_time": "2022-04-20T14:05:54.213Z"
   },
   {
    "duration": 6,
    "start_time": "2022-04-20T14:05:54.234Z"
   },
   {
    "duration": 8,
    "start_time": "2022-04-20T14:05:54.243Z"
   },
   {
    "duration": 6,
    "start_time": "2022-04-20T14:05:54.253Z"
   },
   {
    "duration": 65,
    "start_time": "2022-04-20T14:05:54.261Z"
   },
   {
    "duration": 27,
    "start_time": "2022-04-20T14:05:54.329Z"
   },
   {
    "duration": 32,
    "start_time": "2022-04-20T14:05:54.358Z"
   },
   {
    "duration": 56,
    "start_time": "2022-04-20T14:05:54.393Z"
   },
   {
    "duration": 10,
    "start_time": "2022-04-20T14:05:54.452Z"
   },
   {
    "duration": 18,
    "start_time": "2022-04-20T14:05:54.464Z"
   },
   {
    "duration": 42,
    "start_time": "2022-04-20T14:05:54.484Z"
   },
   {
    "duration": 18,
    "start_time": "2022-04-20T14:05:54.529Z"
   },
   {
    "duration": 16,
    "start_time": "2022-04-20T14:05:54.550Z"
   },
   {
    "duration": 17,
    "start_time": "2022-04-20T14:05:54.568Z"
   },
   {
    "duration": 43,
    "start_time": "2022-04-20T14:05:54.590Z"
   },
   {
    "duration": 124,
    "start_time": "2022-04-20T14:05:54.635Z"
   },
   {
    "duration": 0,
    "start_time": "2022-04-20T14:05:54.761Z"
   },
   {
    "duration": 31,
    "start_time": "2022-04-20T14:06:10.358Z"
   },
   {
    "duration": 15,
    "start_time": "2022-04-20T14:06:38.585Z"
   },
   {
    "duration": 7,
    "start_time": "2022-04-20T14:06:45.904Z"
   },
   {
    "duration": 9,
    "start_time": "2022-04-20T14:06:48.040Z"
   },
   {
    "duration": 11,
    "start_time": "2022-04-20T14:07:03.039Z"
   },
   {
    "duration": 4,
    "start_time": "2022-04-20T14:07:08.898Z"
   },
   {
    "duration": 6,
    "start_time": "2022-04-20T14:07:08.905Z"
   },
   {
    "duration": 7,
    "start_time": "2022-04-20T14:07:08.913Z"
   },
   {
    "duration": 89,
    "start_time": "2022-04-20T14:07:08.923Z"
   },
   {
    "duration": 22,
    "start_time": "2022-04-20T14:07:09.014Z"
   },
   {
    "duration": 23,
    "start_time": "2022-04-20T14:07:09.039Z"
   },
   {
    "duration": 15,
    "start_time": "2022-04-20T14:07:09.065Z"
   },
   {
    "duration": 46,
    "start_time": "2022-04-20T14:07:09.083Z"
   },
   {
    "duration": 9,
    "start_time": "2022-04-20T14:07:09.131Z"
   },
   {
    "duration": 14,
    "start_time": "2022-04-20T14:07:11.441Z"
   },
   {
    "duration": 105,
    "start_time": "2022-04-20T14:09:28.314Z"
   },
   {
    "duration": 6,
    "start_time": "2022-04-20T14:12:21.798Z"
   },
   {
    "duration": 10,
    "start_time": "2022-04-20T14:13:00.092Z"
   },
   {
    "duration": 12,
    "start_time": "2022-04-20T14:13:05.781Z"
   },
   {
    "duration": 4,
    "start_time": "2022-04-20T14:17:06.466Z"
   },
   {
    "duration": 8,
    "start_time": "2022-04-20T14:17:06.473Z"
   },
   {
    "duration": 10,
    "start_time": "2022-04-20T14:17:06.484Z"
   },
   {
    "duration": 113,
    "start_time": "2022-04-20T14:17:06.500Z"
   },
   {
    "duration": 29,
    "start_time": "2022-04-20T14:17:06.616Z"
   },
   {
    "duration": 36,
    "start_time": "2022-04-20T14:17:06.647Z"
   },
   {
    "duration": 14,
    "start_time": "2022-04-20T14:17:06.686Z"
   },
   {
    "duration": 14,
    "start_time": "2022-04-20T14:17:06.725Z"
   },
   {
    "duration": 8,
    "start_time": "2022-04-20T14:17:06.742Z"
   },
   {
    "duration": 3510,
    "start_time": "2022-04-20T14:17:06.756Z"
   },
   {
    "duration": 6,
    "start_time": "2022-04-20T14:17:10.269Z"
   },
   {
    "duration": 9,
    "start_time": "2022-04-20T14:17:10.278Z"
   },
   {
    "duration": 40,
    "start_time": "2022-04-20T14:17:10.290Z"
   },
   {
    "duration": 7,
    "start_time": "2022-04-20T14:17:10.332Z"
   },
   {
    "duration": 9,
    "start_time": "2022-04-20T14:17:10.341Z"
   },
   {
    "duration": 7,
    "start_time": "2022-04-20T14:22:02.074Z"
   },
   {
    "duration": 6,
    "start_time": "2022-04-20T14:25:38.695Z"
   },
   {
    "duration": 9,
    "start_time": "2022-04-20T14:25:53.233Z"
   },
   {
    "duration": 18,
    "start_time": "2022-04-20T14:26:12.384Z"
   },
   {
    "duration": 69,
    "start_time": "2022-04-20T14:27:32.533Z"
   },
   {
    "duration": 33,
    "start_time": "2022-04-20T14:27:44.176Z"
   },
   {
    "duration": 5,
    "start_time": "2022-04-20T14:27:49.303Z"
   },
   {
    "duration": 13,
    "start_time": "2022-04-20T14:27:58.375Z"
   },
   {
    "duration": 12,
    "start_time": "2022-04-20T14:28:07.805Z"
   },
   {
    "duration": 42,
    "start_time": "2022-04-20T14:32:24.381Z"
   },
   {
    "duration": 12,
    "start_time": "2022-04-20T14:34:58.096Z"
   },
   {
    "duration": 8,
    "start_time": "2022-04-20T14:35:21.640Z"
   },
   {
    "duration": 6,
    "start_time": "2022-04-20T14:36:50.342Z"
   },
   {
    "duration": 9,
    "start_time": "2022-04-20T14:36:58.488Z"
   },
   {
    "duration": 8,
    "start_time": "2022-04-20T14:40:10.544Z"
   },
   {
    "duration": 18,
    "start_time": "2022-04-20T14:41:20.995Z"
   },
   {
    "duration": 7,
    "start_time": "2022-04-20T14:41:26.592Z"
   },
   {
    "duration": 153,
    "start_time": "2022-04-20T14:41:44.801Z"
   },
   {
    "duration": 3,
    "start_time": "2022-04-20T14:41:51.510Z"
   },
   {
    "duration": 18,
    "start_time": "2022-04-20T14:41:51.516Z"
   },
   {
    "duration": 14,
    "start_time": "2022-04-20T14:41:51.537Z"
   },
   {
    "duration": 86,
    "start_time": "2022-04-20T14:41:51.554Z"
   },
   {
    "duration": 22,
    "start_time": "2022-04-20T14:41:51.643Z"
   },
   {
    "duration": 25,
    "start_time": "2022-04-20T14:41:51.668Z"
   },
   {
    "duration": 41,
    "start_time": "2022-04-20T14:41:51.695Z"
   },
   {
    "duration": 14,
    "start_time": "2022-04-20T14:41:51.740Z"
   },
   {
    "duration": 86,
    "start_time": "2022-04-20T14:41:51.757Z"
   },
   {
    "duration": 3336,
    "start_time": "2022-04-20T14:41:51.848Z"
   },
   {
    "duration": 7,
    "start_time": "2022-04-20T14:41:55.186Z"
   },
   {
    "duration": 30,
    "start_time": "2022-04-20T14:41:55.195Z"
   },
   {
    "duration": 40,
    "start_time": "2022-04-20T14:41:55.229Z"
   },
   {
    "duration": 8,
    "start_time": "2022-04-20T14:41:55.271Z"
   },
   {
    "duration": 13,
    "start_time": "2022-04-20T14:41:55.281Z"
   },
   {
    "duration": 12,
    "start_time": "2022-04-20T14:41:55.296Z"
   },
   {
    "duration": 13,
    "start_time": "2022-04-20T14:41:55.333Z"
   },
   {
    "duration": 12,
    "start_time": "2022-04-20T14:41:55.349Z"
   },
   {
    "duration": 13,
    "start_time": "2022-04-20T14:42:07.708Z"
   },
   {
    "duration": 37,
    "start_time": "2022-04-20T14:42:09.971Z"
   },
   {
    "duration": 15,
    "start_time": "2022-04-20T14:42:22.723Z"
   },
   {
    "duration": 6,
    "start_time": "2022-04-20T14:42:23.531Z"
   },
   {
    "duration": 7,
    "start_time": "2022-04-20T14:42:26.191Z"
   },
   {
    "duration": 10,
    "start_time": "2022-04-20T14:42:26.786Z"
   },
   {
    "duration": 3,
    "start_time": "2022-04-20T18:18:16.612Z"
   },
   {
    "duration": 9,
    "start_time": "2022-04-20T18:18:16.618Z"
   },
   {
    "duration": 7,
    "start_time": "2022-04-20T18:18:16.630Z"
   },
   {
    "duration": 80,
    "start_time": "2022-04-20T18:18:16.640Z"
   },
   {
    "duration": 20,
    "start_time": "2022-04-20T18:18:16.723Z"
   },
   {
    "duration": 26,
    "start_time": "2022-04-20T18:18:16.746Z"
   },
   {
    "duration": 13,
    "start_time": "2022-04-20T18:18:16.774Z"
   },
   {
    "duration": 34,
    "start_time": "2022-04-20T18:18:16.790Z"
   },
   {
    "duration": 9,
    "start_time": "2022-04-20T18:18:16.826Z"
   },
   {
    "duration": 3083,
    "start_time": "2022-04-20T18:18:16.837Z"
   },
   {
    "duration": 7,
    "start_time": "2022-04-20T18:18:19.925Z"
   },
   {
    "duration": 10,
    "start_time": "2022-04-20T18:18:19.934Z"
   },
   {
    "duration": 13,
    "start_time": "2022-04-20T18:18:19.946Z"
   },
   {
    "duration": 6,
    "start_time": "2022-04-20T18:18:19.964Z"
   },
   {
    "duration": 8,
    "start_time": "2022-04-20T18:18:19.972Z"
   },
   {
    "duration": 8,
    "start_time": "2022-04-20T18:18:20.026Z"
   },
   {
    "duration": 13,
    "start_time": "2022-04-20T18:18:20.037Z"
   },
   {
    "duration": 11,
    "start_time": "2022-04-20T18:18:20.052Z"
   },
   {
    "duration": 14,
    "start_time": "2022-04-20T18:18:20.065Z"
   },
   {
    "duration": 71,
    "start_time": "2022-04-20T18:18:20.081Z"
   },
   {
    "duration": 12,
    "start_time": "2022-04-20T18:18:25.711Z"
   },
   {
    "duration": 6,
    "start_time": "2022-04-20T18:18:26.560Z"
   },
   {
    "duration": 6,
    "start_time": "2022-04-20T18:18:29.227Z"
   },
   {
    "duration": 10,
    "start_time": "2022-04-20T18:18:29.774Z"
   },
   {
    "duration": 9,
    "start_time": "2022-04-20T18:18:39.018Z"
   },
   {
    "duration": 5,
    "start_time": "2022-04-20T18:18:39.417Z"
   },
   {
    "duration": 7,
    "start_time": "2022-04-20T18:18:40.195Z"
   },
   {
    "duration": 6,
    "start_time": "2022-04-20T18:18:40.814Z"
   },
   {
    "duration": 23,
    "start_time": "2022-04-20T18:18:43.032Z"
   },
   {
    "duration": 30,
    "start_time": "2022-04-20T18:18:50.894Z"
   },
   {
    "duration": 31,
    "start_time": "2022-04-20T18:18:52.787Z"
   },
   {
    "duration": 28,
    "start_time": "2022-04-20T18:18:53.535Z"
   },
   {
    "duration": 10,
    "start_time": "2022-04-20T18:18:54.216Z"
   },
   {
    "duration": 18,
    "start_time": "2022-04-20T18:18:56.010Z"
   },
   {
    "duration": 12,
    "start_time": "2022-04-20T18:18:56.760Z"
   },
   {
    "duration": 18,
    "start_time": "2022-04-20T18:18:59.920Z"
   },
   {
    "duration": 19,
    "start_time": "2022-04-20T18:19:00.500Z"
   },
   {
    "duration": 14,
    "start_time": "2022-04-20T18:19:01.244Z"
   },
   {
    "duration": 14,
    "start_time": "2022-04-20T18:19:02.743Z"
   },
   {
    "duration": 106,
    "start_time": "2022-04-20T18:19:17.592Z"
   },
   {
    "duration": 34,
    "start_time": "2022-04-20T18:19:33.903Z"
   },
   {
    "duration": 193,
    "start_time": "2022-04-21T18:57:28.329Z"
   },
   {
    "duration": 183,
    "start_time": "2022-04-21T18:57:55.232Z"
   },
   {
    "duration": 197,
    "start_time": "2022-04-21T18:58:17.743Z"
   },
   {
    "duration": 194,
    "start_time": "2022-04-21T18:58:59.813Z"
   },
   {
    "duration": 195,
    "start_time": "2022-04-21T18:59:05.209Z"
   },
   {
    "duration": 182,
    "start_time": "2022-04-21T18:59:08.263Z"
   },
   {
    "duration": 5,
    "start_time": "2022-04-21T19:01:16.724Z"
   },
   {
    "duration": 47,
    "start_time": "2022-04-21T19:04:40.872Z"
   },
   {
    "duration": 9,
    "start_time": "2022-04-21T19:05:17.310Z"
   },
   {
    "duration": 528,
    "start_time": "2022-04-21T19:05:24.017Z"
   },
   {
    "duration": 3,
    "start_time": "2022-04-21T19:05:24.548Z"
   },
   {
    "duration": 994,
    "start_time": "2022-04-21T19:05:24.553Z"
   },
   {
    "duration": 66,
    "start_time": "2022-04-21T19:05:25.549Z"
   },
   {
    "duration": 18,
    "start_time": "2022-04-21T19:05:25.617Z"
   },
   {
    "duration": 17,
    "start_time": "2022-04-21T19:05:25.637Z"
   },
   {
    "duration": 16,
    "start_time": "2022-04-21T19:05:25.656Z"
   },
   {
    "duration": 17,
    "start_time": "2022-04-21T19:05:25.674Z"
   },
   {
    "duration": 24,
    "start_time": "2022-04-21T19:05:25.693Z"
   },
   {
    "duration": 1944,
    "start_time": "2022-04-21T19:05:25.718Z"
   },
   {
    "duration": 4,
    "start_time": "2022-04-21T19:05:27.664Z"
   },
   {
    "duration": 9,
    "start_time": "2022-04-21T19:05:27.670Z"
   },
   {
    "duration": 11,
    "start_time": "2022-04-21T19:05:27.680Z"
   },
   {
    "duration": 28,
    "start_time": "2022-04-21T19:05:27.694Z"
   },
   {
    "duration": 6,
    "start_time": "2022-04-21T19:05:27.725Z"
   },
   {
    "duration": 7,
    "start_time": "2022-04-21T19:05:27.733Z"
   },
   {
    "duration": 10,
    "start_time": "2022-04-21T19:05:27.742Z"
   },
   {
    "duration": 9,
    "start_time": "2022-04-21T19:05:27.754Z"
   },
   {
    "duration": 10,
    "start_time": "2022-04-21T19:05:27.764Z"
   },
   {
    "duration": 55,
    "start_time": "2022-04-21T19:05:27.775Z"
   },
   {
    "duration": 7,
    "start_time": "2022-04-21T19:05:27.831Z"
   },
   {
    "duration": 9,
    "start_time": "2022-04-21T19:05:27.839Z"
   },
   {
    "duration": 5,
    "start_time": "2022-04-21T19:05:27.849Z"
   },
   {
    "duration": 13,
    "start_time": "2022-04-21T19:05:27.856Z"
   },
   {
    "duration": 11,
    "start_time": "2022-04-21T19:05:27.871Z"
   },
   {
    "duration": 6,
    "start_time": "2022-04-21T19:05:27.884Z"
   },
   {
    "duration": 10,
    "start_time": "2022-04-21T19:05:27.891Z"
   },
   {
    "duration": 20,
    "start_time": "2022-04-21T19:05:27.902Z"
   },
   {
    "duration": 19,
    "start_time": "2022-04-21T19:05:27.924Z"
   },
   {
    "duration": 18,
    "start_time": "2022-04-21T19:05:27.945Z"
   },
   {
    "duration": 22,
    "start_time": "2022-04-21T19:05:27.965Z"
   },
   {
    "duration": 43,
    "start_time": "2022-04-21T19:05:27.989Z"
   },
   {
    "duration": 8,
    "start_time": "2022-04-21T19:05:28.034Z"
   },
   {
    "duration": 13,
    "start_time": "2022-04-21T19:05:28.044Z"
   },
   {
    "duration": 17,
    "start_time": "2022-04-21T19:05:28.059Z"
   },
   {
    "duration": 15,
    "start_time": "2022-04-21T19:05:28.078Z"
   },
   {
    "duration": 37,
    "start_time": "2022-04-21T19:05:28.094Z"
   },
   {
    "duration": 10,
    "start_time": "2022-04-21T19:05:28.133Z"
   },
   {
    "duration": 9,
    "start_time": "2022-04-21T19:05:39.489Z"
   },
   {
    "duration": 3,
    "start_time": "2022-04-21T19:05:42.467Z"
   },
   {
    "duration": 12,
    "start_time": "2022-04-21T19:05:43.843Z"
   },
   {
    "duration": 20,
    "start_time": "2022-04-21T19:05:57.725Z"
   },
   {
    "duration": 35,
    "start_time": "2022-04-21T19:06:16.871Z"
   },
   {
    "duration": 257,
    "start_time": "2022-04-21T19:10:13.835Z"
   },
   {
    "duration": 619,
    "start_time": "2022-04-21T19:11:06.129Z"
   },
   {
    "duration": 6,
    "start_time": "2022-04-21T19:11:48.765Z"
   },
   {
    "duration": 11,
    "start_time": "2022-04-21T19:12:37.393Z"
   },
   {
    "duration": 8,
    "start_time": "2022-04-21T19:12:56.781Z"
   },
   {
    "duration": 24,
    "start_time": "2022-04-21T19:14:04.870Z"
   },
   {
    "duration": 418,
    "start_time": "2022-04-25T13:14:28.078Z"
   },
   {
    "duration": 3,
    "start_time": "2022-04-25T13:14:28.499Z"
   },
   {
    "duration": 982,
    "start_time": "2022-04-25T13:14:28.503Z"
   },
   {
    "duration": 61,
    "start_time": "2022-04-25T13:14:29.487Z"
   },
   {
    "duration": 19,
    "start_time": "2022-04-25T13:14:29.552Z"
   },
   {
    "duration": 15,
    "start_time": "2022-04-25T13:14:29.572Z"
   },
   {
    "duration": 9,
    "start_time": "2022-04-25T13:14:29.589Z"
   },
   {
    "duration": 7,
    "start_time": "2022-04-25T13:14:29.599Z"
   },
   {
    "duration": 5,
    "start_time": "2022-04-25T13:14:29.607Z"
   },
   {
    "duration": 1781,
    "start_time": "2022-04-25T13:14:29.615Z"
   },
   {
    "duration": 4,
    "start_time": "2022-04-25T13:14:31.398Z"
   },
   {
    "duration": 5,
    "start_time": "2022-04-25T13:14:31.404Z"
   },
   {
    "duration": 9,
    "start_time": "2022-04-25T13:14:31.410Z"
   },
   {
    "duration": 30,
    "start_time": "2022-04-25T13:14:31.421Z"
   },
   {
    "duration": 8,
    "start_time": "2022-04-25T13:14:31.453Z"
   },
   {
    "duration": 7,
    "start_time": "2022-04-25T13:14:31.462Z"
   },
   {
    "duration": 14,
    "start_time": "2022-04-25T13:14:31.470Z"
   },
   {
    "duration": 6,
    "start_time": "2022-04-25T13:14:31.486Z"
   },
   {
    "duration": 7,
    "start_time": "2022-04-25T13:14:31.493Z"
   },
   {
    "duration": 19,
    "start_time": "2022-04-25T13:14:31.501Z"
   },
   {
    "duration": 7,
    "start_time": "2022-04-25T13:14:31.522Z"
   },
   {
    "duration": 10,
    "start_time": "2022-04-25T13:14:31.547Z"
   },
   {
    "duration": 8,
    "start_time": "2022-04-25T13:14:31.561Z"
   },
   {
    "duration": 8,
    "start_time": "2022-04-25T13:14:31.571Z"
   },
   {
    "duration": 5,
    "start_time": "2022-04-25T13:14:31.580Z"
   },
   {
    "duration": 12,
    "start_time": "2022-04-25T13:14:31.587Z"
   },
   {
    "duration": 20,
    "start_time": "2022-04-25T13:14:32.378Z"
   },
   {
    "duration": 22,
    "start_time": "2022-04-25T13:15:02.088Z"
   },
   {
    "duration": 23,
    "start_time": "2022-04-25T13:27:17.765Z"
   },
   {
    "duration": 9,
    "start_time": "2022-04-25T13:27:29.534Z"
   },
   {
    "duration": 10,
    "start_time": "2022-04-25T13:27:32.645Z"
   },
   {
    "duration": 7,
    "start_time": "2022-04-25T13:27:45.029Z"
   },
   {
    "duration": 3,
    "start_time": "2022-04-25T13:27:51.640Z"
   },
   {
    "duration": 4,
    "start_time": "2022-04-25T13:27:51.646Z"
   },
   {
    "duration": 5,
    "start_time": "2022-04-25T13:27:51.653Z"
   },
   {
    "duration": 88,
    "start_time": "2022-04-25T13:27:51.660Z"
   },
   {
    "duration": 17,
    "start_time": "2022-04-25T13:27:51.750Z"
   },
   {
    "duration": 21,
    "start_time": "2022-04-25T13:27:51.768Z"
   },
   {
    "duration": 11,
    "start_time": "2022-04-25T13:27:51.791Z"
   },
   {
    "duration": 9,
    "start_time": "2022-04-25T13:27:51.804Z"
   },
   {
    "duration": 37,
    "start_time": "2022-04-25T13:27:51.815Z"
   },
   {
    "duration": 1832,
    "start_time": "2022-04-25T13:27:51.854Z"
   },
   {
    "duration": 5,
    "start_time": "2022-04-25T13:27:53.688Z"
   },
   {
    "duration": 6,
    "start_time": "2022-04-25T13:27:53.695Z"
   },
   {
    "duration": 11,
    "start_time": "2022-04-25T13:27:53.705Z"
   },
   {
    "duration": 30,
    "start_time": "2022-04-25T13:27:53.718Z"
   },
   {
    "duration": 7,
    "start_time": "2022-04-25T13:27:53.750Z"
   },
   {
    "duration": 5,
    "start_time": "2022-04-25T13:27:53.758Z"
   },
   {
    "duration": 8,
    "start_time": "2022-04-25T13:27:53.765Z"
   },
   {
    "duration": 6,
    "start_time": "2022-04-25T13:27:53.775Z"
   },
   {
    "duration": 10,
    "start_time": "2022-04-25T13:27:53.783Z"
   },
   {
    "duration": 63,
    "start_time": "2022-04-25T13:27:53.795Z"
   },
   {
    "duration": 11,
    "start_time": "2022-04-25T13:27:53.860Z"
   },
   {
    "duration": 6,
    "start_time": "2022-04-25T13:27:53.872Z"
   },
   {
    "duration": 6,
    "start_time": "2022-04-25T13:27:53.880Z"
   },
   {
    "duration": 7,
    "start_time": "2022-04-25T13:27:53.887Z"
   },
   {
    "duration": 5,
    "start_time": "2022-04-25T13:27:53.896Z"
   },
   {
    "duration": 5,
    "start_time": "2022-04-25T13:27:54.445Z"
   },
   {
    "duration": 5,
    "start_time": "2022-04-25T13:27:55.080Z"
   },
   {
    "duration": 4,
    "start_time": "2022-04-25T13:27:56.899Z"
   },
   {
    "duration": 4,
    "start_time": "2022-04-25T13:27:58.755Z"
   },
   {
    "duration": 7,
    "start_time": "2022-04-25T13:27:59.641Z"
   },
   {
    "duration": 8,
    "start_time": "2022-04-25T13:28:02.129Z"
   },
   {
    "duration": 8,
    "start_time": "2022-04-25T13:28:04.666Z"
   },
   {
    "duration": 12,
    "start_time": "2022-04-25T13:28:12.183Z"
   },
   {
    "duration": 8,
    "start_time": "2022-04-25T13:28:25.775Z"
   },
   {
    "duration": 6,
    "start_time": "2022-04-25T13:28:32.813Z"
   },
   {
    "duration": 4,
    "start_time": "2022-04-25T13:28:33.332Z"
   },
   {
    "duration": 5,
    "start_time": "2022-04-25T13:28:33.732Z"
   },
   {
    "duration": 4,
    "start_time": "2022-04-25T13:28:34.076Z"
   },
   {
    "duration": 16,
    "start_time": "2022-04-25T13:28:34.412Z"
   },
   {
    "duration": 14,
    "start_time": "2022-04-25T13:28:37.580Z"
   },
   {
    "duration": 17,
    "start_time": "2022-04-25T13:28:37.796Z"
   },
   {
    "duration": 13,
    "start_time": "2022-04-25T13:28:38.004Z"
   },
   {
    "duration": 7,
    "start_time": "2022-04-25T13:28:40.467Z"
   },
   {
    "duration": 21,
    "start_time": "2022-04-25T13:28:42.268Z"
   },
   {
    "duration": 8,
    "start_time": "2022-04-25T13:28:42.612Z"
   },
   {
    "duration": 3,
    "start_time": "2022-04-25T13:29:13.791Z"
   },
   {
    "duration": 8,
    "start_time": "2022-04-25T13:29:13.795Z"
   },
   {
    "duration": 6,
    "start_time": "2022-04-25T13:29:13.805Z"
   },
   {
    "duration": 54,
    "start_time": "2022-04-25T13:29:13.813Z"
   },
   {
    "duration": 12,
    "start_time": "2022-04-25T13:29:13.868Z"
   },
   {
    "duration": 17,
    "start_time": "2022-04-25T13:29:13.882Z"
   },
   {
    "duration": 9,
    "start_time": "2022-04-25T13:29:13.901Z"
   },
   {
    "duration": 7,
    "start_time": "2022-04-25T13:29:13.912Z"
   },
   {
    "duration": 6,
    "start_time": "2022-04-25T13:29:13.948Z"
   },
   {
    "duration": 1722,
    "start_time": "2022-04-25T13:29:13.957Z"
   },
   {
    "duration": 4,
    "start_time": "2022-04-25T13:29:15.681Z"
   },
   {
    "duration": 5,
    "start_time": "2022-04-25T13:29:15.687Z"
   },
   {
    "duration": 9,
    "start_time": "2022-04-25T13:29:15.693Z"
   },
   {
    "duration": 4,
    "start_time": "2022-04-25T13:29:15.704Z"
   },
   {
    "duration": 4,
    "start_time": "2022-04-25T13:29:15.710Z"
   },
   {
    "duration": 33,
    "start_time": "2022-04-25T13:29:15.715Z"
   },
   {
    "duration": 6,
    "start_time": "2022-04-25T13:29:15.749Z"
   },
   {
    "duration": 5,
    "start_time": "2022-04-25T13:29:15.757Z"
   },
   {
    "duration": 9,
    "start_time": "2022-04-25T13:29:15.763Z"
   },
   {
    "duration": 24,
    "start_time": "2022-04-25T13:29:15.773Z"
   },
   {
    "duration": 7,
    "start_time": "2022-04-25T13:29:15.798Z"
   },
   {
    "duration": 8,
    "start_time": "2022-04-25T13:29:15.806Z"
   },
   {
    "duration": 32,
    "start_time": "2022-04-25T13:29:15.815Z"
   },
   {
    "duration": 6,
    "start_time": "2022-04-25T13:29:15.849Z"
   },
   {
    "duration": 8,
    "start_time": "2022-04-25T13:29:15.857Z"
   },
   {
    "duration": 88,
    "start_time": "2022-04-25T13:29:15.867Z"
   },
   {
    "duration": 12,
    "start_time": "2022-04-25T13:29:15.956Z"
   },
   {
    "duration": 14,
    "start_time": "2022-04-25T13:29:15.971Z"
   },
   {
    "duration": 9,
    "start_time": "2022-04-25T13:29:15.987Z"
   },
   {
    "duration": 12,
    "start_time": "2022-04-25T13:29:15.997Z"
   },
   {
    "duration": 8,
    "start_time": "2022-04-25T13:29:16.010Z"
   },
   {
    "duration": 7,
    "start_time": "2022-04-25T13:29:16.019Z"
   },
   {
    "duration": 21,
    "start_time": "2022-04-25T13:29:16.027Z"
   },
   {
    "duration": 14,
    "start_time": "2022-04-25T13:29:16.050Z"
   },
   {
    "duration": 14,
    "start_time": "2022-04-25T13:29:16.066Z"
   },
   {
    "duration": 12,
    "start_time": "2022-04-25T13:29:16.082Z"
   },
   {
    "duration": 6,
    "start_time": "2022-04-25T13:29:16.096Z"
   },
   {
    "duration": 44,
    "start_time": "2022-04-25T13:29:16.104Z"
   },
   {
    "duration": 8,
    "start_time": "2022-04-25T13:29:16.149Z"
   },
   {
    "duration": 20,
    "start_time": "2022-04-25T13:29:16.159Z"
   },
   {
    "duration": 21,
    "start_time": "2022-04-25T13:29:16.181Z"
   },
   {
    "duration": 14,
    "start_time": "2022-04-25T13:29:16.205Z"
   },
   {
    "duration": 16,
    "start_time": "2022-04-25T13:29:16.221Z"
   },
   {
    "duration": 21,
    "start_time": "2022-04-25T13:29:16.238Z"
   },
   {
    "duration": 21,
    "start_time": "2022-04-25T13:29:16.261Z"
   },
   {
    "duration": 550,
    "start_time": "2022-04-25T13:29:16.284Z"
   },
   {
    "duration": 328,
    "start_time": "2022-04-25T13:29:22.029Z"
   },
   {
    "duration": 292,
    "start_time": "2022-04-25T13:29:56.422Z"
   },
   {
    "duration": 492,
    "start_time": "2022-04-25T13:30:08.489Z"
   },
   {
    "duration": 3,
    "start_time": "2022-04-25T13:32:04.245Z"
   },
   {
    "duration": 10,
    "start_time": "2022-04-25T13:32:04.250Z"
   },
   {
    "duration": 6,
    "start_time": "2022-04-25T13:32:04.261Z"
   },
   {
    "duration": 93,
    "start_time": "2022-04-25T13:32:04.269Z"
   },
   {
    "duration": 17,
    "start_time": "2022-04-25T13:32:04.364Z"
   },
   {
    "duration": 17,
    "start_time": "2022-04-25T13:32:04.383Z"
   },
   {
    "duration": 10,
    "start_time": "2022-04-25T13:32:04.402Z"
   },
   {
    "duration": 36,
    "start_time": "2022-04-25T13:32:04.414Z"
   },
   {
    "duration": 5,
    "start_time": "2022-04-25T13:32:04.452Z"
   },
   {
    "duration": 1811,
    "start_time": "2022-04-25T13:32:04.460Z"
   },
   {
    "duration": 5,
    "start_time": "2022-04-25T13:32:06.272Z"
   },
   {
    "duration": 6,
    "start_time": "2022-04-25T13:32:06.278Z"
   },
   {
    "duration": 11,
    "start_time": "2022-04-25T13:32:06.286Z"
   },
   {
    "duration": 6,
    "start_time": "2022-04-25T13:32:06.299Z"
   },
   {
    "duration": 6,
    "start_time": "2022-04-25T13:32:06.307Z"
   },
   {
    "duration": 5,
    "start_time": "2022-04-25T13:32:06.348Z"
   },
   {
    "duration": 10,
    "start_time": "2022-04-25T13:32:06.355Z"
   },
   {
    "duration": 11,
    "start_time": "2022-04-25T13:32:06.367Z"
   },
   {
    "duration": 10,
    "start_time": "2022-04-25T13:32:06.380Z"
   },
   {
    "duration": 29,
    "start_time": "2022-04-25T13:32:06.392Z"
   },
   {
    "duration": 9,
    "start_time": "2022-04-25T13:32:06.448Z"
   },
   {
    "duration": 6,
    "start_time": "2022-04-25T13:32:06.459Z"
   },
   {
    "duration": 18,
    "start_time": "2022-04-25T13:32:06.466Z"
   },
   {
    "duration": 8,
    "start_time": "2022-04-25T13:32:06.485Z"
   },
   {
    "duration": 6,
    "start_time": "2022-04-25T13:32:06.495Z"
   },
   {
    "duration": 9,
    "start_time": "2022-04-25T13:32:06.503Z"
   },
   {
    "duration": 37,
    "start_time": "2022-04-25T13:32:06.514Z"
   },
   {
    "duration": 9,
    "start_time": "2022-04-25T13:32:06.555Z"
   },
   {
    "duration": 5,
    "start_time": "2022-04-25T13:32:06.565Z"
   },
   {
    "duration": 4,
    "start_time": "2022-04-25T13:32:06.571Z"
   },
   {
    "duration": 7,
    "start_time": "2022-04-25T13:32:06.577Z"
   },
   {
    "duration": 5,
    "start_time": "2022-04-25T13:32:06.585Z"
   },
   {
    "duration": 14,
    "start_time": "2022-04-25T13:32:06.592Z"
   },
   {
    "duration": 43,
    "start_time": "2022-04-25T13:32:06.608Z"
   },
   {
    "duration": 17,
    "start_time": "2022-04-25T13:32:06.653Z"
   },
   {
    "duration": 17,
    "start_time": "2022-04-25T13:32:06.672Z"
   },
   {
    "duration": 7,
    "start_time": "2022-04-25T13:32:06.691Z"
   },
   {
    "duration": 14,
    "start_time": "2022-04-25T13:32:06.699Z"
   },
   {
    "duration": 39,
    "start_time": "2022-04-25T13:32:06.715Z"
   },
   {
    "duration": 16,
    "start_time": "2022-04-25T13:32:06.756Z"
   },
   {
    "duration": 14,
    "start_time": "2022-04-25T13:32:06.774Z"
   },
   {
    "duration": 10,
    "start_time": "2022-04-25T13:32:06.789Z"
   },
   {
    "duration": 14,
    "start_time": "2022-04-25T13:32:06.800Z"
   },
   {
    "duration": 40,
    "start_time": "2022-04-25T13:32:06.815Z"
   },
   {
    "duration": 446,
    "start_time": "2022-04-25T13:32:12.382Z"
   },
   {
    "duration": 6,
    "start_time": "2022-04-25T13:33:12.034Z"
   },
   {
    "duration": 20,
    "start_time": "2022-04-25T13:33:22.310Z"
   },
   {
    "duration": 16,
    "start_time": "2022-04-25T13:33:41.818Z"
   },
   {
    "duration": 19,
    "start_time": "2022-04-25T13:33:43.828Z"
   },
   {
    "duration": 16,
    "start_time": "2022-04-25T13:33:45.443Z"
   },
   {
    "duration": 7,
    "start_time": "2022-04-25T13:33:47.986Z"
   },
   {
    "duration": 12,
    "start_time": "2022-04-25T13:33:51.071Z"
   },
   {
    "duration": 8,
    "start_time": "2022-04-25T13:33:52.734Z"
   },
   {
    "duration": 2,
    "start_time": "2022-04-25T13:33:56.189Z"
   },
   {
    "duration": 8,
    "start_time": "2022-04-25T13:33:56.193Z"
   },
   {
    "duration": 11,
    "start_time": "2022-04-25T13:33:56.202Z"
   },
   {
    "duration": 54,
    "start_time": "2022-04-25T13:33:56.214Z"
   },
   {
    "duration": 12,
    "start_time": "2022-04-25T13:33:56.269Z"
   },
   {
    "duration": 16,
    "start_time": "2022-04-25T13:33:56.283Z"
   },
   {
    "duration": 10,
    "start_time": "2022-04-25T13:33:56.300Z"
   },
   {
    "duration": 8,
    "start_time": "2022-04-25T13:33:56.311Z"
   },
   {
    "duration": 28,
    "start_time": "2022-04-25T13:33:56.320Z"
   },
   {
    "duration": 1745,
    "start_time": "2022-04-25T13:33:56.351Z"
   },
   {
    "duration": 4,
    "start_time": "2022-04-25T13:33:58.098Z"
   },
   {
    "duration": 6,
    "start_time": "2022-04-25T13:33:58.103Z"
   },
   {
    "duration": 11,
    "start_time": "2022-04-25T13:33:58.111Z"
   },
   {
    "duration": 24,
    "start_time": "2022-04-25T13:33:58.124Z"
   },
   {
    "duration": 6,
    "start_time": "2022-04-25T13:33:58.149Z"
   },
   {
    "duration": 5,
    "start_time": "2022-04-25T13:33:58.156Z"
   },
   {
    "duration": 7,
    "start_time": "2022-04-25T13:33:58.162Z"
   },
   {
    "duration": 11,
    "start_time": "2022-04-25T13:33:58.170Z"
   },
   {
    "duration": 10,
    "start_time": "2022-04-25T13:33:58.182Z"
   },
   {
    "duration": 21,
    "start_time": "2022-04-25T13:33:58.194Z"
   },
   {
    "duration": 33,
    "start_time": "2022-04-25T13:33:58.216Z"
   },
   {
    "duration": 6,
    "start_time": "2022-04-25T13:33:58.250Z"
   },
   {
    "duration": 5,
    "start_time": "2022-04-25T13:33:58.258Z"
   },
   {
    "duration": 8,
    "start_time": "2022-04-25T13:33:58.264Z"
   },
   {
    "duration": 5,
    "start_time": "2022-04-25T13:33:58.273Z"
   },
   {
    "duration": 8,
    "start_time": "2022-04-25T13:33:58.280Z"
   },
   {
    "duration": 8,
    "start_time": "2022-04-25T13:33:58.290Z"
   },
   {
    "duration": 10,
    "start_time": "2022-04-25T13:33:58.301Z"
   },
   {
    "duration": 19,
    "start_time": "2022-04-25T13:33:58.348Z"
   },
   {
    "duration": 6,
    "start_time": "2022-04-25T13:33:58.369Z"
   },
   {
    "duration": 3,
    "start_time": "2022-04-25T13:33:58.377Z"
   },
   {
    "duration": 8,
    "start_time": "2022-04-25T13:33:58.381Z"
   },
   {
    "duration": 17,
    "start_time": "2022-04-25T13:33:58.390Z"
   },
   {
    "duration": 15,
    "start_time": "2022-04-25T13:33:58.409Z"
   },
   {
    "duration": 35,
    "start_time": "2022-04-25T13:33:58.425Z"
   },
   {
    "duration": 15,
    "start_time": "2022-04-25T13:33:58.461Z"
   },
   {
    "duration": 13,
    "start_time": "2022-04-25T13:33:58.477Z"
   },
   {
    "duration": 7,
    "start_time": "2022-04-25T13:33:58.881Z"
   },
   {
    "duration": 12,
    "start_time": "2022-04-25T13:34:00.917Z"
   },
   {
    "duration": 8,
    "start_time": "2022-04-25T13:34:02.452Z"
   },
   {
    "duration": 11,
    "start_time": "2022-04-25T13:34:07.361Z"
   },
   {
    "duration": 12,
    "start_time": "2022-04-25T13:34:09.753Z"
   },
   {
    "duration": 9,
    "start_time": "2022-04-25T13:34:11.386Z"
   },
   {
    "duration": 9,
    "start_time": "2022-04-25T13:34:13.325Z"
   },
   {
    "duration": 13,
    "start_time": "2022-04-25T13:34:16.477Z"
   },
   {
    "duration": 18,
    "start_time": "2022-04-25T13:34:18.234Z"
   },
   {
    "duration": 485,
    "start_time": "2022-04-25T13:34:22.874Z"
   },
   {
    "duration": 53,
    "start_time": "2022-04-25T13:41:34.822Z"
   },
   {
    "duration": 48,
    "start_time": "2022-04-25T13:41:44.758Z"
   },
   {
    "duration": 456,
    "start_time": "2022-04-25T13:41:47.715Z"
   },
   {
    "duration": 3,
    "start_time": "2022-04-25T13:41:48.174Z"
   },
   {
    "duration": 804,
    "start_time": "2022-04-25T13:41:48.179Z"
   },
   {
    "duration": 114,
    "start_time": "2022-04-25T13:41:48.986Z"
   },
   {
    "duration": 33,
    "start_time": "2022-04-25T13:41:49.102Z"
   },
   {
    "duration": 19,
    "start_time": "2022-04-25T13:41:49.138Z"
   },
   {
    "duration": 11,
    "start_time": "2022-04-25T13:41:49.158Z"
   },
   {
    "duration": 14,
    "start_time": "2022-04-25T13:41:49.171Z"
   },
   {
    "duration": 11,
    "start_time": "2022-04-25T13:41:49.188Z"
   },
   {
    "duration": 2531,
    "start_time": "2022-04-25T13:41:49.205Z"
   },
   {
    "duration": 9,
    "start_time": "2022-04-25T13:41:51.739Z"
   },
   {
    "duration": 7,
    "start_time": "2022-04-25T13:41:51.750Z"
   },
   {
    "duration": 14,
    "start_time": "2022-04-25T13:41:51.759Z"
   },
   {
    "duration": 5,
    "start_time": "2022-04-25T13:41:51.775Z"
   },
   {
    "duration": 8,
    "start_time": "2022-04-25T13:41:51.782Z"
   },
   {
    "duration": 18,
    "start_time": "2022-04-25T13:41:51.791Z"
   },
   {
    "duration": 11,
    "start_time": "2022-04-25T13:41:51.811Z"
   },
   {
    "duration": 28,
    "start_time": "2022-04-25T13:41:51.824Z"
   },
   {
    "duration": 13,
    "start_time": "2022-04-25T13:41:51.854Z"
   },
   {
    "duration": 29,
    "start_time": "2022-04-25T13:41:51.869Z"
   },
   {
    "duration": 9,
    "start_time": "2022-04-25T13:41:51.900Z"
   },
   {
    "duration": 11,
    "start_time": "2022-04-25T13:41:51.911Z"
   },
   {
    "duration": 8,
    "start_time": "2022-04-25T13:41:51.952Z"
   },
   {
    "duration": 15,
    "start_time": "2022-04-25T13:41:51.962Z"
   },
   {
    "duration": 7,
    "start_time": "2022-04-25T13:41:51.980Z"
   },
   {
    "duration": 19,
    "start_time": "2022-04-25T13:41:51.989Z"
   },
   {
    "duration": 22,
    "start_time": "2022-04-25T13:41:52.010Z"
   },
   {
    "duration": 24,
    "start_time": "2022-04-25T13:41:52.037Z"
   },
   {
    "duration": 31,
    "start_time": "2022-04-25T13:41:52.064Z"
   },
   {
    "duration": 5,
    "start_time": "2022-04-25T13:41:52.097Z"
   },
   {
    "duration": 10,
    "start_time": "2022-04-25T13:41:52.105Z"
   },
   {
    "duration": 33,
    "start_time": "2022-04-25T13:41:52.117Z"
   },
   {
    "duration": 11,
    "start_time": "2022-04-25T13:41:52.154Z"
   },
   {
    "duration": 28,
    "start_time": "2022-04-25T13:41:52.167Z"
   },
   {
    "duration": 20,
    "start_time": "2022-04-25T13:41:52.198Z"
   },
   {
    "duration": 36,
    "start_time": "2022-04-25T13:41:52.220Z"
   },
   {
    "duration": 15,
    "start_time": "2022-04-25T13:41:52.259Z"
   },
   {
    "duration": 18,
    "start_time": "2022-04-25T13:41:52.276Z"
   },
   {
    "duration": 20,
    "start_time": "2022-04-25T13:41:52.295Z"
   },
   {
    "duration": 13,
    "start_time": "2022-04-25T13:41:52.317Z"
   },
   {
    "duration": 28,
    "start_time": "2022-04-25T13:41:52.331Z"
   },
   {
    "duration": 20,
    "start_time": "2022-04-25T13:41:52.362Z"
   },
   {
    "duration": 18,
    "start_time": "2022-04-25T13:41:52.384Z"
   },
   {
    "duration": 13,
    "start_time": "2022-04-25T13:41:55.743Z"
   },
   {
    "duration": 51,
    "start_time": "2022-04-25T13:42:18.247Z"
   },
   {
    "duration": 9,
    "start_time": "2022-04-25T13:45:30.808Z"
   },
   {
    "duration": 395,
    "start_time": "2022-04-25T13:46:50.106Z"
   },
   {
    "duration": 3,
    "start_time": "2022-04-25T13:46:50.503Z"
   },
   {
    "duration": 749,
    "start_time": "2022-04-25T13:46:50.508Z"
   },
   {
    "duration": 85,
    "start_time": "2022-04-25T13:46:51.259Z"
   },
   {
    "duration": 16,
    "start_time": "2022-04-25T13:46:51.346Z"
   },
   {
    "duration": 15,
    "start_time": "2022-04-25T13:46:51.364Z"
   },
   {
    "duration": 9,
    "start_time": "2022-04-25T13:46:51.381Z"
   },
   {
    "duration": 7,
    "start_time": "2022-04-25T13:46:51.392Z"
   },
   {
    "duration": 5,
    "start_time": "2022-04-25T13:46:51.400Z"
   },
   {
    "duration": 1776,
    "start_time": "2022-04-25T13:46:51.406Z"
   },
   {
    "duration": 4,
    "start_time": "2022-04-25T13:46:53.184Z"
   },
   {
    "duration": 6,
    "start_time": "2022-04-25T13:46:53.190Z"
   },
   {
    "duration": 10,
    "start_time": "2022-04-25T13:46:53.197Z"
   },
   {
    "duration": 4,
    "start_time": "2022-04-25T13:46:53.210Z"
   },
   {
    "duration": 34,
    "start_time": "2022-04-25T13:46:53.216Z"
   },
   {
    "duration": 5,
    "start_time": "2022-04-25T13:46:53.251Z"
   },
   {
    "duration": 6,
    "start_time": "2022-04-25T13:46:53.257Z"
   },
   {
    "duration": 8,
    "start_time": "2022-04-25T13:46:53.265Z"
   },
   {
    "duration": 13,
    "start_time": "2022-04-25T13:46:53.275Z"
   },
   {
    "duration": 25,
    "start_time": "2022-04-25T13:46:53.290Z"
   },
   {
    "duration": 32,
    "start_time": "2022-04-25T13:46:53.317Z"
   },
   {
    "duration": 5,
    "start_time": "2022-04-25T13:46:53.350Z"
   },
   {
    "duration": 5,
    "start_time": "2022-04-25T13:46:53.357Z"
   },
   {
    "duration": 8,
    "start_time": "2022-04-25T13:46:53.364Z"
   },
   {
    "duration": 5,
    "start_time": "2022-04-25T13:46:53.374Z"
   },
   {
    "duration": 8,
    "start_time": "2022-04-25T13:46:53.380Z"
   },
   {
    "duration": 6,
    "start_time": "2022-04-25T13:46:53.390Z"
   },
   {
    "duration": 21,
    "start_time": "2022-04-25T13:49:25.913Z"
   },
   {
    "duration": 20,
    "start_time": "2022-04-25T13:49:31.359Z"
   },
   {
    "duration": 87,
    "start_time": "2022-04-25T13:50:15.554Z"
   },
   {
    "duration": 11,
    "start_time": "2022-04-25T13:50:47.205Z"
   },
   {
    "duration": 8,
    "start_time": "2022-04-25T13:50:53.543Z"
   },
   {
    "duration": 11,
    "start_time": "2022-04-25T13:51:12.730Z"
   },
   {
    "duration": 3,
    "start_time": "2022-04-25T13:51:37.938Z"
   },
   {
    "duration": 7,
    "start_time": "2022-04-25T13:51:37.943Z"
   },
   {
    "duration": 7,
    "start_time": "2022-04-25T13:51:37.951Z"
   },
   {
    "duration": 56,
    "start_time": "2022-04-25T13:51:37.960Z"
   },
   {
    "duration": 36,
    "start_time": "2022-04-25T13:51:38.017Z"
   },
   {
    "duration": 14,
    "start_time": "2022-04-25T13:51:38.055Z"
   },
   {
    "duration": 9,
    "start_time": "2022-04-25T13:51:38.070Z"
   },
   {
    "duration": 6,
    "start_time": "2022-04-25T13:51:38.081Z"
   },
   {
    "duration": 5,
    "start_time": "2022-04-25T13:51:38.089Z"
   },
   {
    "duration": 1871,
    "start_time": "2022-04-25T13:51:38.096Z"
   },
   {
    "duration": 5,
    "start_time": "2022-04-25T13:51:39.969Z"
   },
   {
    "duration": 8,
    "start_time": "2022-04-25T13:51:39.975Z"
   },
   {
    "duration": 11,
    "start_time": "2022-04-25T13:51:39.985Z"
   },
   {
    "duration": 4,
    "start_time": "2022-04-25T13:51:39.998Z"
   },
   {
    "duration": 5,
    "start_time": "2022-04-25T13:51:40.004Z"
   },
   {
    "duration": 40,
    "start_time": "2022-04-25T13:51:40.011Z"
   },
   {
    "duration": 12,
    "start_time": "2022-04-25T13:51:40.052Z"
   },
   {
    "duration": 6,
    "start_time": "2022-04-25T13:51:40.065Z"
   },
   {
    "duration": 12,
    "start_time": "2022-04-25T13:51:40.073Z"
   },
   {
    "duration": 22,
    "start_time": "2022-04-25T13:51:40.087Z"
   },
   {
    "duration": 41,
    "start_time": "2022-04-25T13:51:40.111Z"
   },
   {
    "duration": 7,
    "start_time": "2022-04-25T13:51:40.154Z"
   },
   {
    "duration": 6,
    "start_time": "2022-04-25T13:51:40.162Z"
   },
   {
    "duration": 9,
    "start_time": "2022-04-25T13:51:40.170Z"
   },
   {
    "duration": 5,
    "start_time": "2022-04-25T13:51:40.181Z"
   },
   {
    "duration": 12,
    "start_time": "2022-04-25T13:51:40.188Z"
   },
   {
    "duration": 10,
    "start_time": "2022-04-25T13:51:40.201Z"
   },
   {
    "duration": 12,
    "start_time": "2022-04-25T13:51:40.248Z"
   },
   {
    "duration": 27,
    "start_time": "2022-04-25T13:51:40.261Z"
   },
   {
    "duration": 7,
    "start_time": "2022-04-25T13:51:40.290Z"
   },
   {
    "duration": 4,
    "start_time": "2022-04-25T13:51:40.299Z"
   },
   {
    "duration": 6,
    "start_time": "2022-04-25T13:51:40.305Z"
   },
   {
    "duration": 38,
    "start_time": "2022-04-25T13:51:40.312Z"
   },
   {
    "duration": 24,
    "start_time": "2022-04-25T13:51:40.353Z"
   },
   {
    "duration": 19,
    "start_time": "2022-04-25T13:51:40.379Z"
   },
   {
    "duration": 27,
    "start_time": "2022-04-25T13:51:40.400Z"
   },
   {
    "duration": 15,
    "start_time": "2022-04-25T13:51:40.449Z"
   },
   {
    "duration": 8,
    "start_time": "2022-04-25T13:51:40.465Z"
   },
   {
    "duration": 17,
    "start_time": "2022-04-25T13:51:40.474Z"
   },
   {
    "duration": 10,
    "start_time": "2022-04-25T13:51:40.493Z"
   },
   {
    "duration": 43,
    "start_time": "2022-04-25T13:51:40.505Z"
   },
   {
    "duration": 15,
    "start_time": "2022-04-25T13:51:40.550Z"
   },
   {
    "duration": 32,
    "start_time": "2022-04-25T13:51:40.567Z"
   },
   {
    "duration": 20,
    "start_time": "2022-04-25T13:51:40.600Z"
   },
   {
    "duration": 30,
    "start_time": "2022-04-25T13:51:47.304Z"
   },
   {
    "duration": 12,
    "start_time": "2022-04-25T13:51:58.539Z"
   },
   {
    "duration": 399,
    "start_time": "2022-04-25T13:52:12.983Z"
   },
   {
    "duration": 3,
    "start_time": "2022-04-25T13:52:13.386Z"
   },
   {
    "duration": 763,
    "start_time": "2022-04-25T13:52:13.391Z"
   },
   {
    "duration": 63,
    "start_time": "2022-04-25T13:52:14.156Z"
   },
   {
    "duration": 18,
    "start_time": "2022-04-25T13:52:14.221Z"
   },
   {
    "duration": 21,
    "start_time": "2022-04-25T13:52:14.240Z"
   },
   {
    "duration": 10,
    "start_time": "2022-04-25T13:52:14.262Z"
   },
   {
    "duration": 11,
    "start_time": "2022-04-25T13:52:14.274Z"
   },
   {
    "duration": 13,
    "start_time": "2022-04-25T13:52:14.286Z"
   },
   {
    "duration": 1866,
    "start_time": "2022-04-25T13:52:14.302Z"
   },
   {
    "duration": 6,
    "start_time": "2022-04-25T13:52:16.170Z"
   },
   {
    "duration": 9,
    "start_time": "2022-04-25T13:52:16.177Z"
   },
   {
    "duration": 12,
    "start_time": "2022-04-25T13:52:16.188Z"
   },
   {
    "duration": 5,
    "start_time": "2022-04-25T13:52:16.202Z"
   },
   {
    "duration": 10,
    "start_time": "2022-04-25T13:52:16.209Z"
   },
   {
    "duration": 29,
    "start_time": "2022-04-25T13:52:16.220Z"
   },
   {
    "duration": 7,
    "start_time": "2022-04-25T13:52:16.250Z"
   },
   {
    "duration": 10,
    "start_time": "2022-04-25T13:52:16.259Z"
   },
   {
    "duration": 10,
    "start_time": "2022-04-25T13:52:16.271Z"
   },
   {
    "duration": 24,
    "start_time": "2022-04-25T13:52:16.284Z"
   },
   {
    "duration": 39,
    "start_time": "2022-04-25T13:52:16.311Z"
   },
   {
    "duration": 4,
    "start_time": "2022-04-25T13:52:16.352Z"
   },
   {
    "duration": 4,
    "start_time": "2022-04-25T13:52:16.358Z"
   },
   {
    "duration": 9,
    "start_time": "2022-04-25T13:52:16.363Z"
   },
   {
    "duration": 6,
    "start_time": "2022-04-25T13:52:16.373Z"
   },
   {
    "duration": 8,
    "start_time": "2022-04-25T13:52:16.381Z"
   },
   {
    "duration": 8,
    "start_time": "2022-04-25T13:52:16.391Z"
   },
   {
    "duration": 46,
    "start_time": "2022-04-25T13:52:16.402Z"
   },
   {
    "duration": 17,
    "start_time": "2022-04-25T13:52:16.450Z"
   },
   {
    "duration": 9,
    "start_time": "2022-04-25T13:52:16.469Z"
   },
   {
    "duration": 4,
    "start_time": "2022-04-25T13:52:16.480Z"
   },
   {
    "duration": 7,
    "start_time": "2022-04-25T13:52:16.486Z"
   },
   {
    "duration": 5,
    "start_time": "2022-04-25T13:52:16.495Z"
   },
   {
    "duration": 46,
    "start_time": "2022-04-25T13:52:16.502Z"
   },
   {
    "duration": 14,
    "start_time": "2022-04-25T13:52:16.550Z"
   },
   {
    "duration": 18,
    "start_time": "2022-04-25T13:52:16.565Z"
   },
   {
    "duration": 14,
    "start_time": "2022-04-25T13:52:16.585Z"
   },
   {
    "duration": 7,
    "start_time": "2022-04-25T13:52:16.601Z"
   },
   {
    "duration": 43,
    "start_time": "2022-04-25T13:52:16.610Z"
   },
   {
    "duration": 14,
    "start_time": "2022-04-25T13:52:16.655Z"
   },
   {
    "duration": 14,
    "start_time": "2022-04-25T13:52:16.671Z"
   },
   {
    "duration": 13,
    "start_time": "2022-04-25T13:52:16.687Z"
   },
   {
    "duration": 23,
    "start_time": "2022-04-25T13:52:16.702Z"
   },
   {
    "duration": 41,
    "start_time": "2022-04-25T13:52:16.726Z"
   },
   {
    "duration": 14,
    "start_time": "2022-04-25T13:52:16.769Z"
   },
   {
    "duration": 16,
    "start_time": "2022-04-25T13:52:16.786Z"
   },
   {
    "duration": 571,
    "start_time": "2022-04-25T13:52:16.804Z"
   },
   {
    "duration": 0,
    "start_time": "2022-04-25T13:52:17.377Z"
   },
   {
    "duration": 505,
    "start_time": "2022-04-25T13:59:05.260Z"
   },
   {
    "duration": 455,
    "start_time": "2022-04-25T14:02:03.888Z"
   },
   {
    "duration": 288,
    "start_time": "2022-04-25T14:03:21.135Z"
   },
   {
    "duration": 322,
    "start_time": "2022-04-25T14:04:57.947Z"
   },
   {
    "duration": 112,
    "start_time": "2022-04-25T14:06:02.875Z"
   },
   {
    "duration": 302,
    "start_time": "2022-04-25T14:07:04.694Z"
   },
   {
    "duration": 13,
    "start_time": "2022-04-25T14:07:35.937Z"
   },
   {
    "duration": 295,
    "start_time": "2022-04-25T14:07:39.967Z"
   },
   {
    "duration": 1696,
    "start_time": "2022-04-25T14:08:42.748Z"
   },
   {
    "duration": 1837,
    "start_time": "2022-04-25T14:08:57.138Z"
   },
   {
    "duration": 1823,
    "start_time": "2022-04-25T14:09:06.311Z"
   },
   {
    "duration": 1914,
    "start_time": "2022-04-25T14:09:15.226Z"
   },
   {
    "duration": 2018,
    "start_time": "2022-04-25T14:09:44.774Z"
   },
   {
    "duration": 422,
    "start_time": "2022-04-25T14:09:55.848Z"
   },
   {
    "duration": 3,
    "start_time": "2022-04-25T14:09:56.271Z"
   },
   {
    "duration": 784,
    "start_time": "2022-04-25T14:09:56.275Z"
   },
   {
    "duration": 77,
    "start_time": "2022-04-25T14:09:57.062Z"
   },
   {
    "duration": 24,
    "start_time": "2022-04-25T14:09:57.141Z"
   },
   {
    "duration": 22,
    "start_time": "2022-04-25T14:09:57.167Z"
   },
   {
    "duration": 14,
    "start_time": "2022-04-25T14:09:57.191Z"
   },
   {
    "duration": 9,
    "start_time": "2022-04-25T14:09:57.206Z"
   },
   {
    "duration": 32,
    "start_time": "2022-04-25T14:09:57.217Z"
   },
   {
    "duration": 1700,
    "start_time": "2022-04-25T14:09:57.251Z"
   },
   {
    "duration": 5,
    "start_time": "2022-04-25T14:09:58.953Z"
   },
   {
    "duration": 10,
    "start_time": "2022-04-25T14:09:58.960Z"
   },
   {
    "duration": 20,
    "start_time": "2022-04-25T14:09:58.972Z"
   },
   {
    "duration": 6,
    "start_time": "2022-04-25T14:09:58.994Z"
   },
   {
    "duration": 6,
    "start_time": "2022-04-25T14:09:59.002Z"
   },
   {
    "duration": 4,
    "start_time": "2022-04-25T14:09:59.010Z"
   },
   {
    "duration": 33,
    "start_time": "2022-04-25T14:09:59.016Z"
   },
   {
    "duration": 9,
    "start_time": "2022-04-25T14:09:59.050Z"
   },
   {
    "duration": 9,
    "start_time": "2022-04-25T14:09:59.061Z"
   },
   {
    "duration": 29,
    "start_time": "2022-04-25T14:09:59.072Z"
   },
   {
    "duration": 9,
    "start_time": "2022-04-25T14:09:59.103Z"
   },
   {
    "duration": 7,
    "start_time": "2022-04-25T14:09:59.114Z"
   },
   {
    "duration": 4,
    "start_time": "2022-04-25T14:09:59.147Z"
   },
   {
    "duration": 7,
    "start_time": "2022-04-25T14:09:59.153Z"
   },
   {
    "duration": 8,
    "start_time": "2022-04-25T14:09:59.162Z"
   },
   {
    "duration": 10,
    "start_time": "2022-04-25T14:09:59.171Z"
   },
   {
    "duration": 9,
    "start_time": "2022-04-25T14:09:59.182Z"
   },
   {
    "duration": 8,
    "start_time": "2022-04-25T14:09:59.194Z"
   },
   {
    "duration": 50,
    "start_time": "2022-04-25T14:09:59.204Z"
   },
   {
    "duration": 5,
    "start_time": "2022-04-25T14:09:59.255Z"
   },
   {
    "duration": 6,
    "start_time": "2022-04-25T14:09:59.261Z"
   },
   {
    "duration": 7,
    "start_time": "2022-04-25T14:09:59.268Z"
   },
   {
    "duration": 7,
    "start_time": "2022-04-25T14:09:59.277Z"
   },
   {
    "duration": 15,
    "start_time": "2022-04-25T14:09:59.286Z"
   },
   {
    "duration": 45,
    "start_time": "2022-04-25T14:09:59.303Z"
   },
   {
    "duration": 19,
    "start_time": "2022-04-25T14:09:59.349Z"
   },
   {
    "duration": 14,
    "start_time": "2022-04-25T14:09:59.369Z"
   },
   {
    "duration": 6,
    "start_time": "2022-04-25T14:09:59.385Z"
   },
   {
    "duration": 18,
    "start_time": "2022-04-25T14:09:59.393Z"
   },
   {
    "duration": 11,
    "start_time": "2022-04-25T14:09:59.413Z"
   },
   {
    "duration": 31,
    "start_time": "2022-04-25T14:09:59.426Z"
   },
   {
    "duration": 17,
    "start_time": "2022-04-25T14:09:59.459Z"
   },
   {
    "duration": 22,
    "start_time": "2022-04-25T14:09:59.478Z"
   },
   {
    "duration": 16,
    "start_time": "2022-04-25T14:09:59.501Z"
   },
   {
    "duration": 32,
    "start_time": "2022-04-25T14:09:59.518Z"
   },
   {
    "duration": 15,
    "start_time": "2022-04-25T14:09:59.552Z"
   },
   {
    "duration": 640,
    "start_time": "2022-04-25T14:09:59.568Z"
   },
   {
    "duration": 0,
    "start_time": "2022-04-25T14:10:00.209Z"
   },
   {
    "duration": 0,
    "start_time": "2022-04-25T14:10:00.211Z"
   },
   {
    "duration": 426,
    "start_time": "2022-04-25T14:10:10.605Z"
   },
   {
    "duration": 337,
    "start_time": "2022-04-25T14:10:20.156Z"
   },
   {
    "duration": 7,
    "start_time": "2022-04-25T14:10:45.060Z"
   },
   {
    "duration": 6,
    "start_time": "2022-04-25T14:10:57.944Z"
   },
   {
    "duration": 3,
    "start_time": "2022-04-25T14:11:31.707Z"
   },
   {
    "duration": 6,
    "start_time": "2022-04-25T14:11:31.712Z"
   },
   {
    "duration": 5,
    "start_time": "2022-04-25T14:11:31.719Z"
   },
   {
    "duration": 69,
    "start_time": "2022-04-25T14:11:31.727Z"
   },
   {
    "duration": 16,
    "start_time": "2022-04-25T14:11:31.798Z"
   },
   {
    "duration": 36,
    "start_time": "2022-04-25T14:11:31.815Z"
   },
   {
    "duration": 9,
    "start_time": "2022-04-25T14:11:31.853Z"
   },
   {
    "duration": 12,
    "start_time": "2022-04-25T14:11:31.864Z"
   },
   {
    "duration": 9,
    "start_time": "2022-04-25T14:11:31.877Z"
   },
   {
    "duration": 1769,
    "start_time": "2022-04-25T14:11:31.888Z"
   },
   {
    "duration": 4,
    "start_time": "2022-04-25T14:11:33.659Z"
   },
   {
    "duration": 7,
    "start_time": "2022-04-25T14:11:33.664Z"
   },
   {
    "duration": 10,
    "start_time": "2022-04-25T14:11:33.672Z"
   },
   {
    "duration": 5,
    "start_time": "2022-04-25T14:11:33.684Z"
   },
   {
    "duration": 5,
    "start_time": "2022-04-25T14:11:33.690Z"
   },
   {
    "duration": 6,
    "start_time": "2022-04-25T14:11:33.697Z"
   },
   {
    "duration": 44,
    "start_time": "2022-04-25T14:11:33.705Z"
   },
   {
    "duration": 6,
    "start_time": "2022-04-25T14:11:33.750Z"
   },
   {
    "duration": 10,
    "start_time": "2022-04-25T14:11:33.757Z"
   },
   {
    "duration": 24,
    "start_time": "2022-04-25T14:11:33.769Z"
   },
   {
    "duration": 7,
    "start_time": "2022-04-25T14:11:33.794Z"
   },
   {
    "duration": 11,
    "start_time": "2022-04-25T14:11:33.802Z"
   },
   {
    "duration": 8,
    "start_time": "2022-04-25T14:11:33.815Z"
   },
   {
    "duration": 27,
    "start_time": "2022-04-25T14:11:33.824Z"
   },
   {
    "duration": 3,
    "start_time": "2022-04-25T14:11:33.853Z"
   },
   {
    "duration": 8,
    "start_time": "2022-04-25T14:11:33.858Z"
   },
   {
    "duration": 7,
    "start_time": "2022-04-25T14:11:33.867Z"
   },
   {
    "duration": 9,
    "start_time": "2022-04-25T14:11:33.877Z"
   },
   {
    "duration": 19,
    "start_time": "2022-04-25T14:11:33.887Z"
   },
   {
    "duration": 41,
    "start_time": "2022-04-25T14:11:33.907Z"
   },
   {
    "duration": 4,
    "start_time": "2022-04-25T14:11:33.950Z"
   },
   {
    "duration": 6,
    "start_time": "2022-04-25T14:11:33.955Z"
   },
   {
    "duration": 5,
    "start_time": "2022-04-25T14:11:33.963Z"
   },
   {
    "duration": 15,
    "start_time": "2022-04-25T14:11:33.969Z"
   },
   {
    "duration": 14,
    "start_time": "2022-04-25T14:11:33.985Z"
   },
   {
    "duration": 53,
    "start_time": "2022-04-25T14:11:34.000Z"
   },
   {
    "duration": 13,
    "start_time": "2022-04-25T14:11:34.055Z"
   },
   {
    "duration": 7,
    "start_time": "2022-04-25T14:11:34.070Z"
   },
   {
    "duration": 13,
    "start_time": "2022-04-25T14:11:34.079Z"
   },
   {
    "duration": 8,
    "start_time": "2022-04-25T14:11:34.093Z"
   },
   {
    "duration": 16,
    "start_time": "2022-04-25T14:11:44.331Z"
   },
   {
    "duration": 12,
    "start_time": "2022-04-25T14:11:55.674Z"
   },
   {
    "duration": 7,
    "start_time": "2022-04-25T14:12:16.170Z"
   },
   {
    "duration": 13,
    "start_time": "2022-04-25T14:13:22.936Z"
   },
   {
    "duration": 67,
    "start_time": "2022-04-25T18:45:51.004Z"
   },
   {
    "duration": 8,
    "start_time": "2022-04-25T18:45:56.043Z"
   },
   {
    "duration": 8,
    "start_time": "2022-04-25T18:46:00.604Z"
   },
   {
    "duration": 8,
    "start_time": "2022-04-25T18:46:07.478Z"
   },
   {
    "duration": 9,
    "start_time": "2022-04-25T18:47:14.931Z"
   },
   {
    "duration": 511,
    "start_time": "2022-04-25T18:47:30.690Z"
   },
   {
    "duration": 4,
    "start_time": "2022-04-25T18:47:31.203Z"
   },
   {
    "duration": 1361,
    "start_time": "2022-04-25T18:47:31.209Z"
   },
   {
    "duration": 77,
    "start_time": "2022-04-25T18:47:32.573Z"
   },
   {
    "duration": 24,
    "start_time": "2022-04-25T18:47:32.654Z"
   },
   {
    "duration": 31,
    "start_time": "2022-04-25T18:47:32.680Z"
   },
   {
    "duration": 30,
    "start_time": "2022-04-25T18:47:32.714Z"
   },
   {
    "duration": 12,
    "start_time": "2022-04-25T18:47:32.747Z"
   },
   {
    "duration": 32,
    "start_time": "2022-04-25T18:47:32.762Z"
   },
   {
    "duration": 3130,
    "start_time": "2022-04-25T18:47:32.796Z"
   },
   {
    "duration": 6,
    "start_time": "2022-04-25T18:47:35.929Z"
   },
   {
    "duration": 8,
    "start_time": "2022-04-25T18:47:35.937Z"
   },
   {
    "duration": 15,
    "start_time": "2022-04-25T18:47:35.948Z"
   },
   {
    "duration": 8,
    "start_time": "2022-04-25T18:47:35.997Z"
   },
   {
    "duration": 9,
    "start_time": "2022-04-25T18:47:36.007Z"
   },
   {
    "duration": 7,
    "start_time": "2022-04-25T18:47:36.019Z"
   },
   {
    "duration": 10,
    "start_time": "2022-04-25T18:47:36.027Z"
   },
   {
    "duration": 54,
    "start_time": "2022-04-25T18:47:36.039Z"
   },
   {
    "duration": 15,
    "start_time": "2022-04-25T18:47:36.095Z"
   },
   {
    "duration": 38,
    "start_time": "2022-04-25T18:47:36.112Z"
   },
   {
    "duration": 11,
    "start_time": "2022-04-25T18:47:36.152Z"
   },
   {
    "duration": 6,
    "start_time": "2022-04-25T18:47:36.193Z"
   },
   {
    "duration": 7,
    "start_time": "2022-04-25T18:47:36.201Z"
   },
   {
    "duration": 13,
    "start_time": "2022-04-25T18:47:36.210Z"
   },
   {
    "duration": 12,
    "start_time": "2022-04-25T18:47:36.225Z"
   },
   {
    "duration": 13,
    "start_time": "2022-04-25T18:47:36.239Z"
   },
   {
    "duration": 49,
    "start_time": "2022-04-25T18:47:36.255Z"
   },
   {
    "duration": 34,
    "start_time": "2022-04-25T18:47:45.103Z"
   },
   {
    "duration": 105,
    "start_time": "2022-04-25T18:48:12.611Z"
   },
   {
    "duration": 9,
    "start_time": "2022-04-25T18:48:21.790Z"
   },
   {
    "duration": 31,
    "start_time": "2022-04-25T18:48:25.711Z"
   },
   {
    "duration": 7,
    "start_time": "2022-04-25T18:48:41.160Z"
   },
   {
    "duration": 11,
    "start_time": "2022-04-25T18:48:42.731Z"
   },
   {
    "duration": 11,
    "start_time": "2022-04-25T18:49:16.333Z"
   },
   {
    "duration": 3,
    "start_time": "2022-04-25T18:49:22.887Z"
   },
   {
    "duration": 10,
    "start_time": "2022-04-25T18:49:22.893Z"
   },
   {
    "duration": 7,
    "start_time": "2022-04-25T18:49:22.905Z"
   },
   {
    "duration": 90,
    "start_time": "2022-04-25T18:49:22.915Z"
   },
   {
    "duration": 18,
    "start_time": "2022-04-25T18:49:23.008Z"
   },
   {
    "duration": 25,
    "start_time": "2022-04-25T18:49:23.029Z"
   },
   {
    "duration": 37,
    "start_time": "2022-04-25T18:49:23.056Z"
   },
   {
    "duration": 10,
    "start_time": "2022-04-25T18:49:23.095Z"
   },
   {
    "duration": 6,
    "start_time": "2022-04-25T18:49:23.107Z"
   },
   {
    "duration": 3081,
    "start_time": "2022-04-25T18:49:23.117Z"
   },
   {
    "duration": 7,
    "start_time": "2022-04-25T18:49:26.200Z"
   },
   {
    "duration": 7,
    "start_time": "2022-04-25T18:49:26.209Z"
   },
   {
    "duration": 13,
    "start_time": "2022-04-25T18:49:26.219Z"
   },
   {
    "duration": 5,
    "start_time": "2022-04-25T18:49:26.234Z"
   },
   {
    "duration": 6,
    "start_time": "2022-04-25T18:49:26.242Z"
   },
   {
    "duration": 6,
    "start_time": "2022-04-25T18:49:26.293Z"
   },
   {
    "duration": 10,
    "start_time": "2022-04-25T18:49:26.302Z"
   },
   {
    "duration": 5,
    "start_time": "2022-04-25T18:49:26.314Z"
   },
   {
    "duration": 12,
    "start_time": "2022-04-25T18:49:26.321Z"
   },
   {
    "duration": 78,
    "start_time": "2022-04-25T18:49:26.335Z"
   },
   {
    "duration": 10,
    "start_time": "2022-04-25T18:49:26.415Z"
   },
   {
    "duration": 10,
    "start_time": "2022-04-25T18:49:26.427Z"
   },
   {
    "duration": 6,
    "start_time": "2022-04-25T18:49:26.439Z"
   },
   {
    "duration": 14,
    "start_time": "2022-04-25T18:49:26.447Z"
   },
   {
    "duration": 34,
    "start_time": "2022-04-25T18:49:26.463Z"
   },
   {
    "duration": 13,
    "start_time": "2022-04-25T18:49:26.499Z"
   },
   {
    "duration": 10,
    "start_time": "2022-04-25T18:49:26.514Z"
   },
   {
    "duration": 36,
    "start_time": "2022-04-25T18:49:32.240Z"
   },
   {
    "duration": 9,
    "start_time": "2022-04-25T18:49:47.654Z"
   },
   {
    "duration": 33,
    "start_time": "2022-04-25T18:49:49.983Z"
   },
   {
    "duration": 4,
    "start_time": "2022-04-25T18:50:08.244Z"
   },
   {
    "duration": 7,
    "start_time": "2022-04-25T18:50:08.251Z"
   },
   {
    "duration": 7,
    "start_time": "2022-04-25T18:50:08.260Z"
   },
   {
    "duration": 82,
    "start_time": "2022-04-25T18:50:08.269Z"
   },
   {
    "duration": 20,
    "start_time": "2022-04-25T18:50:08.355Z"
   },
   {
    "duration": 34,
    "start_time": "2022-04-25T18:50:08.377Z"
   },
   {
    "duration": 14,
    "start_time": "2022-04-25T18:50:08.413Z"
   },
   {
    "duration": 11,
    "start_time": "2022-04-25T18:50:08.429Z"
   },
   {
    "duration": 10,
    "start_time": "2022-04-25T18:50:08.442Z"
   },
   {
    "duration": 3031,
    "start_time": "2022-04-25T18:50:08.455Z"
   },
   {
    "duration": 7,
    "start_time": "2022-04-25T18:50:11.488Z"
   },
   {
    "duration": 7,
    "start_time": "2022-04-25T18:50:11.497Z"
   },
   {
    "duration": 17,
    "start_time": "2022-04-25T18:50:11.506Z"
   },
   {
    "duration": 5,
    "start_time": "2022-04-25T18:50:11.527Z"
   },
   {
    "duration": 8,
    "start_time": "2022-04-25T18:50:11.534Z"
   },
   {
    "duration": 10,
    "start_time": "2022-04-25T18:50:11.544Z"
   },
   {
    "duration": 13,
    "start_time": "2022-04-25T18:50:11.556Z"
   },
   {
    "duration": 7,
    "start_time": "2022-04-25T18:50:11.571Z"
   },
   {
    "duration": 14,
    "start_time": "2022-04-25T18:50:11.580Z"
   },
   {
    "duration": 10,
    "start_time": "2022-04-25T18:50:11.596Z"
   },
   {
    "duration": 10,
    "start_time": "2022-04-25T18:50:11.608Z"
   },
   {
    "duration": 8,
    "start_time": "2022-04-25T18:50:11.621Z"
   },
   {
    "duration": 7,
    "start_time": "2022-04-25T18:50:11.631Z"
   },
   {
    "duration": 14,
    "start_time": "2022-04-25T18:50:11.640Z"
   },
   {
    "duration": 11,
    "start_time": "2022-04-25T18:50:11.656Z"
   },
   {
    "duration": 12,
    "start_time": "2022-04-25T18:50:11.669Z"
   },
   {
    "duration": 12,
    "start_time": "2022-04-25T18:50:11.683Z"
   },
   {
    "duration": 12,
    "start_time": "2022-04-25T18:50:11.697Z"
   },
   {
    "duration": 35,
    "start_time": "2022-04-25T18:50:16.656Z"
   },
   {
    "duration": 4,
    "start_time": "2022-04-25T18:50:51.600Z"
   },
   {
    "duration": 16,
    "start_time": "2022-04-25T18:50:51.607Z"
   },
   {
    "duration": 8,
    "start_time": "2022-04-25T18:50:51.625Z"
   },
   {
    "duration": 94,
    "start_time": "2022-04-25T18:50:51.636Z"
   },
   {
    "duration": 20,
    "start_time": "2022-04-25T18:50:51.732Z"
   },
   {
    "duration": 38,
    "start_time": "2022-04-25T18:50:51.754Z"
   },
   {
    "duration": 13,
    "start_time": "2022-04-25T18:50:51.795Z"
   },
   {
    "duration": 103,
    "start_time": "2022-04-25T18:50:51.810Z"
   },
   {
    "duration": 8,
    "start_time": "2022-04-25T18:50:51.915Z"
   },
   {
    "duration": 2993,
    "start_time": "2022-04-25T18:50:51.927Z"
   },
   {
    "duration": 6,
    "start_time": "2022-04-25T18:50:54.922Z"
   },
   {
    "duration": 7,
    "start_time": "2022-04-25T18:50:54.930Z"
   },
   {
    "duration": 12,
    "start_time": "2022-04-25T18:50:54.939Z"
   },
   {
    "duration": 40,
    "start_time": "2022-04-25T18:50:54.953Z"
   },
   {
    "duration": 6,
    "start_time": "2022-04-25T18:50:54.995Z"
   },
   {
    "duration": 6,
    "start_time": "2022-04-25T18:50:55.003Z"
   },
   {
    "duration": 9,
    "start_time": "2022-04-25T18:50:55.011Z"
   },
   {
    "duration": 10,
    "start_time": "2022-04-25T18:50:55.022Z"
   },
   {
    "duration": 11,
    "start_time": "2022-04-25T18:50:55.034Z"
   },
   {
    "duration": 51,
    "start_time": "2022-04-25T18:50:55.047Z"
   },
   {
    "duration": 11,
    "start_time": "2022-04-25T18:50:55.100Z"
   },
   {
    "duration": 7,
    "start_time": "2022-04-25T18:50:55.113Z"
   },
   {
    "duration": 6,
    "start_time": "2022-04-25T18:50:55.123Z"
   },
   {
    "duration": 10,
    "start_time": "2022-04-25T18:50:55.131Z"
   },
   {
    "duration": 7,
    "start_time": "2022-04-25T18:50:55.143Z"
   },
   {
    "duration": 49,
    "start_time": "2022-04-25T18:50:55.151Z"
   },
   {
    "duration": 12,
    "start_time": "2022-04-25T18:50:55.202Z"
   },
   {
    "duration": 10,
    "start_time": "2022-04-25T18:50:55.219Z"
   },
   {
    "duration": 72,
    "start_time": "2022-04-25T18:50:55.231Z"
   },
   {
    "duration": 9,
    "start_time": "2022-04-25T18:50:55.305Z"
   },
   {
    "duration": 14,
    "start_time": "2022-04-25T18:50:55.316Z"
   },
   {
    "duration": 9,
    "start_time": "2022-04-25T18:50:55.332Z"
   },
   {
    "duration": 7,
    "start_time": "2022-04-25T18:50:55.343Z"
   },
   {
    "duration": 46,
    "start_time": "2022-04-25T18:50:55.352Z"
   },
   {
    "duration": 25,
    "start_time": "2022-04-25T18:50:55.400Z"
   },
   {
    "duration": 28,
    "start_time": "2022-04-25T18:50:55.427Z"
   },
   {
    "duration": 54,
    "start_time": "2022-04-25T18:50:55.458Z"
   },
   {
    "duration": 9,
    "start_time": "2022-04-25T18:50:55.514Z"
   },
   {
    "duration": 17,
    "start_time": "2022-04-25T18:50:55.525Z"
   },
   {
    "duration": 10,
    "start_time": "2022-04-25T18:50:55.544Z"
   },
   {
    "duration": 48,
    "start_time": "2022-04-25T18:50:55.556Z"
   },
   {
    "duration": 16,
    "start_time": "2022-04-25T18:50:55.606Z"
   },
   {
    "duration": 32,
    "start_time": "2022-04-25T18:50:55.624Z"
   },
   {
    "duration": 54,
    "start_time": "2022-04-25T18:50:55.658Z"
   },
   {
    "duration": 18,
    "start_time": "2022-04-25T18:50:55.714Z"
   },
   {
    "duration": 24,
    "start_time": "2022-04-25T18:50:55.733Z"
   },
   {
    "duration": 29,
    "start_time": "2022-04-25T18:51:00.945Z"
   },
   {
    "duration": 466,
    "start_time": "2022-04-26T07:50:20.350Z"
   },
   {
    "duration": 2,
    "start_time": "2022-04-26T07:50:20.818Z"
   },
   {
    "duration": 995,
    "start_time": "2022-04-26T07:50:20.822Z"
   },
   {
    "duration": 60,
    "start_time": "2022-04-26T07:50:21.819Z"
   },
   {
    "duration": 17,
    "start_time": "2022-04-26T07:50:21.881Z"
   },
   {
    "duration": 15,
    "start_time": "2022-04-26T07:50:21.899Z"
   },
   {
    "duration": 9,
    "start_time": "2022-04-26T07:50:21.923Z"
   },
   {
    "duration": 7,
    "start_time": "2022-04-26T07:50:21.933Z"
   },
   {
    "duration": 6,
    "start_time": "2022-04-26T07:50:21.942Z"
   },
   {
    "duration": 1762,
    "start_time": "2022-04-26T07:50:21.950Z"
   },
   {
    "duration": 11,
    "start_time": "2022-04-26T07:50:23.714Z"
   },
   {
    "duration": 10,
    "start_time": "2022-04-26T07:50:23.727Z"
   },
   {
    "duration": 11,
    "start_time": "2022-04-26T07:50:23.739Z"
   },
   {
    "duration": 5,
    "start_time": "2022-04-26T07:50:23.754Z"
   },
   {
    "duration": 6,
    "start_time": "2022-04-26T07:50:23.761Z"
   },
   {
    "duration": 7,
    "start_time": "2022-04-26T07:50:23.769Z"
   },
   {
    "duration": 8,
    "start_time": "2022-04-26T07:50:23.778Z"
   },
   {
    "duration": 37,
    "start_time": "2022-04-26T07:50:23.788Z"
   },
   {
    "duration": 8,
    "start_time": "2022-04-26T07:50:23.827Z"
   },
   {
    "duration": 7,
    "start_time": "2022-04-26T07:50:23.837Z"
   },
   {
    "duration": 9,
    "start_time": "2022-04-26T07:50:23.845Z"
   },
   {
    "duration": 5,
    "start_time": "2022-04-26T07:50:23.855Z"
   },
   {
    "duration": 6,
    "start_time": "2022-04-26T07:50:23.862Z"
   },
   {
    "duration": 10,
    "start_time": "2022-04-26T07:50:23.869Z"
   },
   {
    "duration": 44,
    "start_time": "2022-04-26T07:50:23.880Z"
   },
   {
    "duration": 8,
    "start_time": "2022-04-26T07:50:23.927Z"
   },
   {
    "duration": 9,
    "start_time": "2022-04-26T07:50:23.936Z"
   },
   {
    "duration": 6,
    "start_time": "2022-04-26T07:50:23.947Z"
   },
   {
    "duration": 20,
    "start_time": "2022-04-26T07:50:23.954Z"
   },
   {
    "duration": 6,
    "start_time": "2022-04-26T07:50:23.975Z"
   },
   {
    "duration": 3,
    "start_time": "2022-04-26T07:50:23.982Z"
   },
   {
    "duration": 38,
    "start_time": "2022-04-26T07:50:23.987Z"
   },
   {
    "duration": 8,
    "start_time": "2022-04-26T07:50:24.027Z"
   },
   {
    "duration": 19,
    "start_time": "2022-04-26T07:50:24.036Z"
   },
   {
    "duration": 16,
    "start_time": "2022-04-26T07:50:24.057Z"
   },
   {
    "duration": 18,
    "start_time": "2022-04-26T07:50:24.075Z"
   },
   {
    "duration": 38,
    "start_time": "2022-04-26T07:50:24.095Z"
   },
   {
    "duration": 8,
    "start_time": "2022-04-26T07:50:24.135Z"
   },
   {
    "duration": 13,
    "start_time": "2022-04-26T07:50:24.145Z"
   },
   {
    "duration": 10,
    "start_time": "2022-04-26T07:50:24.160Z"
   },
   {
    "duration": 12,
    "start_time": "2022-04-26T07:50:24.175Z"
   },
   {
    "duration": 44,
    "start_time": "2022-04-26T07:50:24.189Z"
   },
   {
    "duration": 18,
    "start_time": "2022-04-26T07:50:24.235Z"
   },
   {
    "duration": 19,
    "start_time": "2022-04-26T07:50:24.256Z"
   },
   {
    "duration": 20,
    "start_time": "2022-04-26T07:50:24.277Z"
   },
   {
    "duration": 39,
    "start_time": "2022-04-26T07:50:24.299Z"
   },
   {
    "duration": 21,
    "start_time": "2022-04-26T07:50:24.339Z"
   },
   {
    "duration": 367,
    "start_time": "2022-04-26T07:50:24.362Z"
   },
   {
    "duration": 301,
    "start_time": "2022-04-26T07:50:24.730Z"
   },
   {
    "duration": 5,
    "start_time": "2022-04-26T07:50:25.033Z"
   },
   {
    "duration": 355,
    "start_time": "2022-04-26T07:53:17.385Z"
   },
   {
    "duration": 10,
    "start_time": "2022-04-26T07:53:36.364Z"
   },
   {
    "duration": 7,
    "start_time": "2022-04-26T07:53:40.831Z"
   },
   {
    "duration": 7,
    "start_time": "2022-04-26T07:53:43.894Z"
   },
   {
    "duration": 17,
    "start_time": "2022-04-26T07:53:44.368Z"
   },
   {
    "duration": 7,
    "start_time": "2022-04-26T07:53:45.294Z"
   },
   {
    "duration": 2,
    "start_time": "2022-04-26T07:53:50.357Z"
   },
   {
    "duration": 6,
    "start_time": "2022-04-26T07:53:50.361Z"
   },
   {
    "duration": 6,
    "start_time": "2022-04-26T07:53:50.369Z"
   },
   {
    "duration": 60,
    "start_time": "2022-04-26T07:53:50.378Z"
   },
   {
    "duration": 12,
    "start_time": "2022-04-26T07:53:50.439Z"
   },
   {
    "duration": 14,
    "start_time": "2022-04-26T07:53:50.453Z"
   },
   {
    "duration": 10,
    "start_time": "2022-04-26T07:53:50.468Z"
   },
   {
    "duration": 7,
    "start_time": "2022-04-26T07:53:50.479Z"
   },
   {
    "duration": 6,
    "start_time": "2022-04-26T07:53:50.487Z"
   },
   {
    "duration": 1765,
    "start_time": "2022-04-26T07:53:50.522Z"
   },
   {
    "duration": 5,
    "start_time": "2022-04-26T07:53:52.288Z"
   },
   {
    "duration": 6,
    "start_time": "2022-04-26T07:53:52.294Z"
   },
   {
    "duration": 27,
    "start_time": "2022-04-26T07:53:52.302Z"
   },
   {
    "duration": 5,
    "start_time": "2022-04-26T07:53:52.330Z"
   },
   {
    "duration": 7,
    "start_time": "2022-04-26T07:53:52.336Z"
   },
   {
    "duration": 5,
    "start_time": "2022-04-26T07:53:52.345Z"
   },
   {
    "duration": 7,
    "start_time": "2022-04-26T07:53:52.351Z"
   },
   {
    "duration": 10,
    "start_time": "2022-04-26T07:53:52.360Z"
   },
   {
    "duration": 12,
    "start_time": "2022-04-26T07:53:52.372Z"
   },
   {
    "duration": 7,
    "start_time": "2022-04-26T07:53:52.385Z"
   },
   {
    "duration": 9,
    "start_time": "2022-04-26T07:53:52.394Z"
   },
   {
    "duration": 4,
    "start_time": "2022-04-26T07:53:52.422Z"
   },
   {
    "duration": 7,
    "start_time": "2022-04-26T07:53:52.427Z"
   },
   {
    "duration": 10,
    "start_time": "2022-04-26T07:53:52.435Z"
   },
   {
    "duration": 10,
    "start_time": "2022-04-26T07:53:52.446Z"
   },
   {
    "duration": 12,
    "start_time": "2022-04-26T07:53:52.457Z"
   },
   {
    "duration": 85,
    "start_time": "2022-04-26T07:53:52.470Z"
   },
   {
    "duration": 7,
    "start_time": "2022-04-26T07:53:52.558Z"
   },
   {
    "duration": 19,
    "start_time": "2022-04-26T07:53:52.566Z"
   },
   {
    "duration": 7,
    "start_time": "2022-04-26T07:53:52.586Z"
   },
   {
    "duration": 8,
    "start_time": "2022-04-26T07:53:55.283Z"
   },
   {
    "duration": 5,
    "start_time": "2022-04-26T07:53:56.241Z"
   },
   {
    "duration": 4,
    "start_time": "2022-04-26T07:53:56.424Z"
   },
   {
    "duration": 6,
    "start_time": "2022-04-26T07:53:56.624Z"
   },
   {
    "duration": 4,
    "start_time": "2022-04-26T07:53:56.824Z"
   },
   {
    "duration": 13,
    "start_time": "2022-04-26T07:53:57.032Z"
   },
   {
    "duration": 16,
    "start_time": "2022-04-26T07:53:57.831Z"
   },
   {
    "duration": 19,
    "start_time": "2022-04-26T07:53:58.032Z"
   },
   {
    "duration": 18,
    "start_time": "2022-04-26T07:53:58.225Z"
   },
   {
    "duration": 7,
    "start_time": "2022-04-26T07:53:58.624Z"
   },
   {
    "duration": 11,
    "start_time": "2022-04-26T07:53:58.824Z"
   },
   {
    "duration": 8,
    "start_time": "2022-04-26T07:53:59.049Z"
   },
   {
    "duration": 12,
    "start_time": "2022-04-26T07:53:59.720Z"
   },
   {
    "duration": 11,
    "start_time": "2022-04-26T07:53:59.944Z"
   },
   {
    "duration": 18,
    "start_time": "2022-04-26T07:54:00.147Z"
   },
   {
    "duration": 18,
    "start_time": "2022-04-26T07:54:00.368Z"
   },
   {
    "duration": 11,
    "start_time": "2022-04-26T07:54:01.376Z"
   },
   {
    "duration": 16,
    "start_time": "2022-04-26T07:54:01.609Z"
   },
   {
    "duration": 19,
    "start_time": "2022-04-26T07:54:02.492Z"
   },
   {
    "duration": 359,
    "start_time": "2022-04-26T07:54:04.027Z"
   },
   {
    "duration": 293,
    "start_time": "2022-04-26T07:54:06.250Z"
   },
   {
    "duration": 6,
    "start_time": "2022-04-26T07:54:06.672Z"
   },
   {
    "duration": 8,
    "start_time": "2022-04-26T07:54:55.021Z"
   },
   {
    "duration": 6,
    "start_time": "2022-04-26T07:54:57.789Z"
   },
   {
    "duration": 7,
    "start_time": "2022-04-26T07:55:00.287Z"
   },
   {
    "duration": 17,
    "start_time": "2022-04-26T07:55:01.892Z"
   },
   {
    "duration": 6,
    "start_time": "2022-04-26T07:55:02.613Z"
   },
   {
    "duration": 326,
    "start_time": "2022-04-26T07:55:08.421Z"
   },
   {
    "duration": 3,
    "start_time": "2022-04-26T08:04:41.666Z"
   },
   {
    "duration": 12,
    "start_time": "2022-04-26T08:04:41.671Z"
   },
   {
    "duration": 17,
    "start_time": "2022-04-26T08:04:41.685Z"
   },
   {
    "duration": 731,
    "start_time": "2022-04-26T08:04:41.704Z"
   },
   {
    "duration": 14,
    "start_time": "2022-04-26T08:04:42.437Z"
   },
   {
    "duration": 15,
    "start_time": "2022-04-26T08:04:42.452Z"
   },
   {
    "duration": 9,
    "start_time": "2022-04-26T08:04:42.468Z"
   },
   {
    "duration": 9,
    "start_time": "2022-04-26T08:04:42.479Z"
   },
   {
    "duration": 37,
    "start_time": "2022-04-26T08:04:42.489Z"
   },
   {
    "duration": 1775,
    "start_time": "2022-04-26T08:04:42.530Z"
   },
   {
    "duration": 5,
    "start_time": "2022-04-26T08:04:44.307Z"
   },
   {
    "duration": 19,
    "start_time": "2022-04-26T08:04:44.323Z"
   },
   {
    "duration": 12,
    "start_time": "2022-04-26T08:04:44.343Z"
   },
   {
    "duration": 5,
    "start_time": "2022-04-26T08:04:44.357Z"
   },
   {
    "duration": 8,
    "start_time": "2022-04-26T08:04:44.364Z"
   },
   {
    "duration": 8,
    "start_time": "2022-04-26T08:04:44.373Z"
   },
   {
    "duration": 10,
    "start_time": "2022-04-26T08:04:44.382Z"
   },
   {
    "duration": 12,
    "start_time": "2022-04-26T08:04:44.393Z"
   },
   {
    "duration": 16,
    "start_time": "2022-04-26T08:04:44.407Z"
   },
   {
    "duration": 6,
    "start_time": "2022-04-26T08:04:44.424Z"
   },
   {
    "duration": 8,
    "start_time": "2022-04-26T08:04:44.431Z"
   },
   {
    "duration": 8,
    "start_time": "2022-04-26T08:04:44.440Z"
   },
   {
    "duration": 8,
    "start_time": "2022-04-26T08:04:44.449Z"
   },
   {
    "duration": 10,
    "start_time": "2022-04-26T08:04:44.459Z"
   },
   {
    "duration": 10,
    "start_time": "2022-04-26T08:04:44.471Z"
   },
   {
    "duration": 10,
    "start_time": "2022-04-26T08:04:44.482Z"
   },
   {
    "duration": 11,
    "start_time": "2022-04-26T08:04:44.494Z"
   },
   {
    "duration": 6,
    "start_time": "2022-04-26T08:04:44.525Z"
   },
   {
    "duration": 18,
    "start_time": "2022-04-26T08:04:44.532Z"
   },
   {
    "duration": 11,
    "start_time": "2022-04-26T08:04:44.552Z"
   },
   {
    "duration": 8,
    "start_time": "2022-04-26T08:04:44.564Z"
   },
   {
    "duration": 6,
    "start_time": "2022-04-26T08:04:44.574Z"
   },
   {
    "duration": 13,
    "start_time": "2022-04-26T08:04:44.581Z"
   },
   {
    "duration": 7,
    "start_time": "2022-04-26T08:04:44.595Z"
   },
   {
    "duration": 28,
    "start_time": "2022-04-26T08:04:44.604Z"
   },
   {
    "duration": 16,
    "start_time": "2022-04-26T08:04:44.633Z"
   },
   {
    "duration": 18,
    "start_time": "2022-04-26T08:04:44.651Z"
   },
   {
    "duration": 17,
    "start_time": "2022-04-26T08:04:44.670Z"
   },
   {
    "duration": 7,
    "start_time": "2022-04-26T08:04:44.688Z"
   },
   {
    "duration": 11,
    "start_time": "2022-04-26T08:04:44.721Z"
   },
   {
    "duration": 10,
    "start_time": "2022-04-26T08:04:44.734Z"
   },
   {
    "duration": 13,
    "start_time": "2022-04-26T08:04:48.493Z"
   },
   {
    "duration": 7,
    "start_time": "2022-04-26T08:04:56.962Z"
   },
   {
    "duration": 12,
    "start_time": "2022-04-26T08:05:09.822Z"
   },
   {
    "duration": 5,
    "start_time": "2022-04-26T08:07:18.100Z"
   },
   {
    "duration": 102,
    "start_time": "2022-04-26T08:07:22.752Z"
   },
   {
    "duration": 3,
    "start_time": "2022-04-26T08:07:33.438Z"
   },
   {
    "duration": 4,
    "start_time": "2022-04-26T08:07:33.443Z"
   },
   {
    "duration": 11,
    "start_time": "2022-04-26T08:07:33.448Z"
   },
   {
    "duration": 78,
    "start_time": "2022-04-26T08:07:33.461Z"
   },
   {
    "duration": 13,
    "start_time": "2022-04-26T08:07:33.542Z"
   },
   {
    "duration": 47,
    "start_time": "2022-04-26T08:07:33.556Z"
   },
   {
    "duration": 12,
    "start_time": "2022-04-26T08:07:33.605Z"
   },
   {
    "duration": 9,
    "start_time": "2022-04-26T08:07:33.619Z"
   },
   {
    "duration": 21,
    "start_time": "2022-04-26T08:07:33.629Z"
   },
   {
    "duration": 1727,
    "start_time": "2022-04-26T08:07:33.651Z"
   },
   {
    "duration": 4,
    "start_time": "2022-04-26T08:07:35.380Z"
   },
   {
    "duration": 29,
    "start_time": "2022-04-26T08:07:35.386Z"
   },
   {
    "duration": 16,
    "start_time": "2022-04-26T08:07:35.417Z"
   },
   {
    "duration": 15,
    "start_time": "2022-04-26T08:07:35.437Z"
   },
   {
    "duration": 12,
    "start_time": "2022-04-26T08:07:35.453Z"
   },
   {
    "duration": 21,
    "start_time": "2022-04-26T08:07:35.466Z"
   },
   {
    "duration": 22,
    "start_time": "2022-04-26T08:07:35.489Z"
   },
   {
    "duration": 10,
    "start_time": "2022-04-26T08:07:35.513Z"
   },
   {
    "duration": 28,
    "start_time": "2022-04-26T08:07:35.525Z"
   },
   {
    "duration": 17,
    "start_time": "2022-04-26T08:07:35.554Z"
   },
   {
    "duration": 23,
    "start_time": "2022-04-26T08:07:35.573Z"
   },
   {
    "duration": 10,
    "start_time": "2022-04-26T08:07:35.597Z"
   },
   {
    "duration": 10,
    "start_time": "2022-04-26T08:07:35.609Z"
   },
   {
    "duration": 30,
    "start_time": "2022-04-26T08:07:35.621Z"
   },
   {
    "duration": 18,
    "start_time": "2022-04-26T08:07:35.652Z"
   },
   {
    "duration": 24,
    "start_time": "2022-04-26T08:07:35.672Z"
   },
   {
    "duration": 10,
    "start_time": "2022-04-26T08:07:35.698Z"
   },
   {
    "duration": 16,
    "start_time": "2022-04-26T08:07:35.709Z"
   },
   {
    "duration": 30,
    "start_time": "2022-04-26T08:07:35.726Z"
   },
   {
    "duration": 18,
    "start_time": "2022-04-26T08:07:35.758Z"
   },
   {
    "duration": 14,
    "start_time": "2022-04-26T08:07:35.778Z"
   },
   {
    "duration": 9,
    "start_time": "2022-04-26T08:07:35.794Z"
   },
   {
    "duration": 22,
    "start_time": "2022-04-26T08:07:35.804Z"
   },
   {
    "duration": 23,
    "start_time": "2022-04-26T08:07:35.828Z"
   },
   {
    "duration": 25,
    "start_time": "2022-04-26T08:07:35.852Z"
   },
   {
    "duration": 35,
    "start_time": "2022-04-26T08:07:35.879Z"
   },
   {
    "duration": 28,
    "start_time": "2022-04-26T08:07:35.916Z"
   },
   {
    "duration": 16,
    "start_time": "2022-04-26T08:07:35.946Z"
   },
   {
    "duration": 18,
    "start_time": "2022-04-26T08:07:35.963Z"
   },
   {
    "duration": 26,
    "start_time": "2022-04-26T08:07:35.982Z"
   },
   {
    "duration": 15,
    "start_time": "2022-04-26T08:07:36.012Z"
   },
   {
    "duration": 13,
    "start_time": "2022-04-26T08:07:39.460Z"
   },
   {
    "duration": 11,
    "start_time": "2022-04-26T08:07:40.149Z"
   },
   {
    "duration": 17,
    "start_time": "2022-04-26T08:07:42.576Z"
   },
   {
    "duration": 3,
    "start_time": "2022-04-26T08:09:30.128Z"
   },
   {
    "duration": 14,
    "start_time": "2022-04-26T08:09:30.132Z"
   },
   {
    "duration": 21,
    "start_time": "2022-04-26T08:09:30.148Z"
   },
   {
    "duration": 89,
    "start_time": "2022-04-26T08:09:30.170Z"
   },
   {
    "duration": 13,
    "start_time": "2022-04-26T08:09:30.261Z"
   },
   {
    "duration": 18,
    "start_time": "2022-04-26T08:09:30.276Z"
   },
   {
    "duration": 27,
    "start_time": "2022-04-26T08:09:30.296Z"
   },
   {
    "duration": 18,
    "start_time": "2022-04-26T08:09:30.325Z"
   },
   {
    "duration": 20,
    "start_time": "2022-04-26T08:09:30.344Z"
   },
   {
    "duration": 1911,
    "start_time": "2022-04-26T08:09:30.365Z"
   },
   {
    "duration": 4,
    "start_time": "2022-04-26T08:09:32.278Z"
   },
   {
    "duration": 6,
    "start_time": "2022-04-26T08:09:32.283Z"
   },
   {
    "duration": 9,
    "start_time": "2022-04-26T08:09:32.290Z"
   },
   {
    "duration": 5,
    "start_time": "2022-04-26T08:09:32.323Z"
   },
   {
    "duration": 10,
    "start_time": "2022-04-26T08:09:32.329Z"
   },
   {
    "duration": 4,
    "start_time": "2022-04-26T08:09:32.341Z"
   },
   {
    "duration": 6,
    "start_time": "2022-04-26T08:09:32.347Z"
   },
   {
    "duration": 9,
    "start_time": "2022-04-26T08:09:32.355Z"
   },
   {
    "duration": 11,
    "start_time": "2022-04-26T08:09:32.366Z"
   },
   {
    "duration": 7,
    "start_time": "2022-04-26T08:09:32.378Z"
   },
   {
    "duration": 8,
    "start_time": "2022-04-26T08:09:32.387Z"
   },
   {
    "duration": 5,
    "start_time": "2022-04-26T08:09:32.422Z"
   },
   {
    "duration": 7,
    "start_time": "2022-04-26T08:09:32.428Z"
   },
   {
    "duration": 10,
    "start_time": "2022-04-26T08:09:32.436Z"
   },
   {
    "duration": 10,
    "start_time": "2022-04-26T08:09:32.448Z"
   },
   {
    "duration": 11,
    "start_time": "2022-04-26T08:09:32.460Z"
   },
   {
    "duration": 11,
    "start_time": "2022-04-26T08:09:32.472Z"
   },
   {
    "duration": 7,
    "start_time": "2022-04-26T08:09:32.485Z"
   },
   {
    "duration": 36,
    "start_time": "2022-04-26T08:09:32.493Z"
   },
   {
    "duration": 7,
    "start_time": "2022-04-26T08:09:32.530Z"
   },
   {
    "duration": 8,
    "start_time": "2022-04-26T08:09:32.538Z"
   },
   {
    "duration": 5,
    "start_time": "2022-04-26T08:09:32.547Z"
   },
   {
    "duration": 8,
    "start_time": "2022-04-26T08:09:32.554Z"
   },
   {
    "duration": 6,
    "start_time": "2022-04-26T08:09:32.564Z"
   },
   {
    "duration": 19,
    "start_time": "2022-04-26T08:09:32.572Z"
   },
   {
    "duration": 36,
    "start_time": "2022-04-26T08:09:32.593Z"
   },
   {
    "duration": 19,
    "start_time": "2022-04-26T08:09:32.631Z"
   },
   {
    "duration": 18,
    "start_time": "2022-04-26T08:09:32.651Z"
   },
   {
    "duration": 7,
    "start_time": "2022-04-26T08:09:32.670Z"
   },
   {
    "duration": 13,
    "start_time": "2022-04-26T08:09:32.679Z"
   },
   {
    "duration": 33,
    "start_time": "2022-04-26T08:09:32.696Z"
   },
   {
    "duration": 13,
    "start_time": "2022-04-26T08:09:41.080Z"
   },
   {
    "duration": 13,
    "start_time": "2022-04-26T08:09:43.668Z"
   },
   {
    "duration": 13,
    "start_time": "2022-04-26T08:09:52.377Z"
   },
   {
    "duration": 11,
    "start_time": "2022-04-26T08:09:54.938Z"
   },
   {
    "duration": 18,
    "start_time": "2022-04-26T08:09:59.085Z"
   },
   {
    "duration": 13,
    "start_time": "2022-04-26T08:10:51.180Z"
   },
   {
    "duration": 17,
    "start_time": "2022-04-26T08:10:51.378Z"
   },
   {
    "duration": 19,
    "start_time": "2022-04-26T08:10:52.178Z"
   },
   {
    "duration": 343,
    "start_time": "2022-04-26T08:10:53.400Z"
   },
   {
    "duration": 16,
    "start_time": "2022-04-26T08:11:39.485Z"
   },
   {
    "duration": 6,
    "start_time": "2022-04-26T08:11:47.241Z"
   },
   {
    "duration": 17,
    "start_time": "2022-04-26T08:11:50.300Z"
   },
   {
    "duration": 6,
    "start_time": "2022-04-26T08:11:54.886Z"
   },
   {
    "duration": 336,
    "start_time": "2022-04-26T08:12:01.682Z"
   },
   {
    "duration": 299,
    "start_time": "2022-04-26T08:12:10.251Z"
   },
   {
    "duration": 27,
    "start_time": "2022-04-26T08:14:01.130Z"
   },
   {
    "duration": 17,
    "start_time": "2022-04-26T08:14:19.754Z"
   },
   {
    "duration": 14,
    "start_time": "2022-04-26T08:14:42.939Z"
   },
   {
    "duration": 29,
    "start_time": "2022-04-26T08:15:30.599Z"
   },
   {
    "duration": 12,
    "start_time": "2022-04-26T08:15:36.695Z"
   },
   {
    "duration": 327,
    "start_time": "2022-04-26T08:15:40.785Z"
   },
   {
    "duration": 3,
    "start_time": "2022-04-26T08:17:17.398Z"
   },
   {
    "duration": 3,
    "start_time": "2022-04-26T08:17:18.716Z"
   },
   {
    "duration": 317,
    "start_time": "2022-04-26T08:18:24.105Z"
   },
   {
    "duration": 228,
    "start_time": "2022-04-26T08:19:09.300Z"
   },
   {
    "duration": 299,
    "start_time": "2022-04-26T08:22:20.036Z"
   },
   {
    "duration": 12,
    "start_time": "2022-04-26T08:23:23.670Z"
   },
   {
    "duration": 297,
    "start_time": "2022-04-26T08:23:27.587Z"
   },
   {
    "duration": 300,
    "start_time": "2022-04-26T08:23:31.211Z"
   }
  ],
  "kernelspec": {
   "display_name": "Python 3 (ipykernel)",
   "language": "python",
   "name": "python3"
  },
  "language_info": {
   "codemirror_mode": {
    "name": "ipython",
    "version": 3
   },
   "file_extension": ".py",
   "mimetype": "text/x-python",
   "name": "python",
   "nbconvert_exporter": "python",
   "pygments_lexer": "ipython3",
   "version": "3.8.16"
  },
  "toc": {
   "base_numbering": 1,
   "nav_menu": {},
   "number_sections": true,
   "sideBar": true,
   "skip_h1_title": true,
   "title_cell": "Table of Contents",
   "title_sidebar": "Contents",
   "toc_cell": false,
   "toc_position": {},
   "toc_section_display": true,
   "toc_window_display": false
  }
 },
 "nbformat": 4,
 "nbformat_minor": 5
}
