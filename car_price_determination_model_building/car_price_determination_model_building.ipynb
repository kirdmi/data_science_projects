{
 "cells": [
  {
   "cell_type": "markdown",
   "metadata": {},
   "source": [
    "# Determining the cost of cars"
   ]
  },
  {
   "cell_type": "markdown",
   "metadata": {},
   "source": [
    "A car sales service is currently in the process of developing an application with the goal of attracting customers. This application will allow users to easily determine the market value of their cars. The application will provide access to historical data, including technical specifications and prices, which will be used to build a predictive model capable of accurately estimating the cost of a car.\n",
    "\n",
    "Key considerations for the development of this application include ensuring the quality of the predictions, optimizing prediction speed, and minimizing the amount of time needed for model training and study. These factors will be crucial in creating an efficient and user-friendly application that provides accurate and timely information to potential customers.\n"
   ]
  },
  {
   "cell_type": "markdown",
   "metadata": {},
   "source": [
    "## Data preparation"
   ]
  },
  {
   "cell_type": "code",
   "execution_count": 1,
   "metadata": {},
   "outputs": [],
   "source": [
    "import pandas as pd\n",
    "import seaborn as sns\n",
    "import numpy as np\n",
    "import matplotlib.pyplot as plt\n",
    "import math\n",
    "from sklearn.metrics import fbeta_score, make_scorer\n",
    "from sklearn.model_selection import train_test_split\n",
    "from sklearn.preprocessing import StandardScaler\n",
    "from sklearn.tree import DecisionTreeRegressor\n",
    "from sklearn.ensemble import RandomForestRegressor\n",
    "from sklearn.linear_model import LinearRegression\n",
    "import lightgbm as lgb\n",
    "from sklearn.metrics import mean_squared_error as mse\n",
    "from sklearn.model_selection import GridSearchCV\n",
    "from sklearn.preprocessing import OrdinalEncoder"
   ]
  },
  {
   "cell_type": "code",
   "execution_count": 2,
   "metadata": {},
   "outputs": [],
   "source": [
    "data = pd.read_csv(\"autos.csv\")"
   ]
  },
  {
   "cell_type": "code",
   "execution_count": 3,
   "metadata": {
    "scrolled": true
   },
   "outputs": [
    {
     "data": {
      "text/html": [
       "<div>\n",
       "<style scoped>\n",
       "    .dataframe tbody tr th:only-of-type {\n",
       "        vertical-align: middle;\n",
       "    }\n",
       "\n",
       "    .dataframe tbody tr th {\n",
       "        vertical-align: top;\n",
       "    }\n",
       "\n",
       "    .dataframe thead th {\n",
       "        text-align: right;\n",
       "    }\n",
       "</style>\n",
       "<table border=\"1\" class=\"dataframe\">\n",
       "  <thead>\n",
       "    <tr style=\"text-align: right;\">\n",
       "      <th></th>\n",
       "      <th>DateCrawled</th>\n",
       "      <th>Price</th>\n",
       "      <th>VehicleType</th>\n",
       "      <th>RegistrationYear</th>\n",
       "      <th>Gearbox</th>\n",
       "      <th>Power</th>\n",
       "      <th>Model</th>\n",
       "      <th>Kilometer</th>\n",
       "      <th>RegistrationMonth</th>\n",
       "      <th>FuelType</th>\n",
       "      <th>Brand</th>\n",
       "      <th>Repaired</th>\n",
       "      <th>DateCreated</th>\n",
       "      <th>NumberOfPictures</th>\n",
       "      <th>PostalCode</th>\n",
       "      <th>LastSeen</th>\n",
       "    </tr>\n",
       "  </thead>\n",
       "  <tbody>\n",
       "    <tr>\n",
       "      <th>0</th>\n",
       "      <td>2016-03-24 11:52:17</td>\n",
       "      <td>480</td>\n",
       "      <td>NaN</td>\n",
       "      <td>1993</td>\n",
       "      <td>manual</td>\n",
       "      <td>0</td>\n",
       "      <td>golf</td>\n",
       "      <td>150000</td>\n",
       "      <td>0</td>\n",
       "      <td>petrol</td>\n",
       "      <td>volkswagen</td>\n",
       "      <td>NaN</td>\n",
       "      <td>2016-03-24 00:00:00</td>\n",
       "      <td>0</td>\n",
       "      <td>70435</td>\n",
       "      <td>2016-04-07 03:16:57</td>\n",
       "    </tr>\n",
       "    <tr>\n",
       "      <th>1</th>\n",
       "      <td>2016-03-24 10:58:45</td>\n",
       "      <td>18300</td>\n",
       "      <td>coupe</td>\n",
       "      <td>2011</td>\n",
       "      <td>manual</td>\n",
       "      <td>190</td>\n",
       "      <td>NaN</td>\n",
       "      <td>125000</td>\n",
       "      <td>5</td>\n",
       "      <td>gasoline</td>\n",
       "      <td>audi</td>\n",
       "      <td>yes</td>\n",
       "      <td>2016-03-24 00:00:00</td>\n",
       "      <td>0</td>\n",
       "      <td>66954</td>\n",
       "      <td>2016-04-07 01:46:50</td>\n",
       "    </tr>\n",
       "    <tr>\n",
       "      <th>2</th>\n",
       "      <td>2016-03-14 12:52:21</td>\n",
       "      <td>9800</td>\n",
       "      <td>suv</td>\n",
       "      <td>2004</td>\n",
       "      <td>auto</td>\n",
       "      <td>163</td>\n",
       "      <td>grand</td>\n",
       "      <td>125000</td>\n",
       "      <td>8</td>\n",
       "      <td>gasoline</td>\n",
       "      <td>jeep</td>\n",
       "      <td>NaN</td>\n",
       "      <td>2016-03-14 00:00:00</td>\n",
       "      <td>0</td>\n",
       "      <td>90480</td>\n",
       "      <td>2016-04-05 12:47:46</td>\n",
       "    </tr>\n",
       "    <tr>\n",
       "      <th>3</th>\n",
       "      <td>2016-03-17 16:54:04</td>\n",
       "      <td>1500</td>\n",
       "      <td>small</td>\n",
       "      <td>2001</td>\n",
       "      <td>manual</td>\n",
       "      <td>75</td>\n",
       "      <td>golf</td>\n",
       "      <td>150000</td>\n",
       "      <td>6</td>\n",
       "      <td>petrol</td>\n",
       "      <td>volkswagen</td>\n",
       "      <td>no</td>\n",
       "      <td>2016-03-17 00:00:00</td>\n",
       "      <td>0</td>\n",
       "      <td>91074</td>\n",
       "      <td>2016-03-17 17:40:17</td>\n",
       "    </tr>\n",
       "    <tr>\n",
       "      <th>4</th>\n",
       "      <td>2016-03-31 17:25:20</td>\n",
       "      <td>3600</td>\n",
       "      <td>small</td>\n",
       "      <td>2008</td>\n",
       "      <td>manual</td>\n",
       "      <td>69</td>\n",
       "      <td>fabia</td>\n",
       "      <td>90000</td>\n",
       "      <td>7</td>\n",
       "      <td>gasoline</td>\n",
       "      <td>skoda</td>\n",
       "      <td>no</td>\n",
       "      <td>2016-03-31 00:00:00</td>\n",
       "      <td>0</td>\n",
       "      <td>60437</td>\n",
       "      <td>2016-04-06 10:17:21</td>\n",
       "    </tr>\n",
       "  </tbody>\n",
       "</table>\n",
       "</div>"
      ],
      "text/plain": [
       "           DateCrawled  Price VehicleType  RegistrationYear Gearbox  Power  \\\n",
       "0  2016-03-24 11:52:17    480         NaN              1993  manual      0   \n",
       "1  2016-03-24 10:58:45  18300       coupe              2011  manual    190   \n",
       "2  2016-03-14 12:52:21   9800         suv              2004    auto    163   \n",
       "3  2016-03-17 16:54:04   1500       small              2001  manual     75   \n",
       "4  2016-03-31 17:25:20   3600       small              2008  manual     69   \n",
       "\n",
       "   Model  Kilometer  RegistrationMonth  FuelType       Brand Repaired  \\\n",
       "0   golf     150000                  0    petrol  volkswagen      NaN   \n",
       "1    NaN     125000                  5  gasoline        audi      yes   \n",
       "2  grand     125000                  8  gasoline        jeep      NaN   \n",
       "3   golf     150000                  6    petrol  volkswagen       no   \n",
       "4  fabia      90000                  7  gasoline       skoda       no   \n",
       "\n",
       "           DateCreated  NumberOfPictures  PostalCode             LastSeen  \n",
       "0  2016-03-24 00:00:00                 0       70435  2016-04-07 03:16:57  \n",
       "1  2016-03-24 00:00:00                 0       66954  2016-04-07 01:46:50  \n",
       "2  2016-03-14 00:00:00                 0       90480  2016-04-05 12:47:46  \n",
       "3  2016-03-17 00:00:00                 0       91074  2016-03-17 17:40:17  \n",
       "4  2016-03-31 00:00:00                 0       60437  2016-04-06 10:17:21  "
      ]
     },
     "execution_count": 3,
     "metadata": {},
     "output_type": "execute_result"
    }
   ],
   "source": [
    "data.head(5)"
   ]
  },
  {
   "cell_type": "code",
   "execution_count": 4,
   "metadata": {},
   "outputs": [],
   "source": [
    "data.columns = [x.lower() for x in data.columns]"
   ]
  },
  {
   "cell_type": "markdown",
   "metadata": {},
   "source": [
    "Irrelevant features in the dataset include datecrawled, registrationmonth, datecreated, numberofpictures, postalcode, lastseen. These features do not have any impact on pricing and solely serve as indicators associated with the users who post the data. Therefore, it is safe to remove these columns and proceed with further exploration of the dataset."
   ]
  },
  {
   "cell_type": "code",
   "execution_count": 5,
   "metadata": {},
   "outputs": [],
   "source": [
    "data = data.drop(\n",
    "    columns=[\n",
    "        \"datecrawled\",\n",
    "        \"registrationmonth\",\n",
    "        \"datecreated\",\n",
    "        \"numberofpictures\",\n",
    "        \"postalcode\",\n",
    "        \"lastseen\",\n",
    "    ],\n",
    "    axis=1,\n",
    ")"
   ]
  },
  {
   "cell_type": "code",
   "execution_count": 6,
   "metadata": {},
   "outputs": [
    {
     "name": "stdout",
     "output_type": "stream",
     "text": [
      "<class 'pandas.core.frame.DataFrame'>\n",
      "RangeIndex: 354369 entries, 0 to 354368\n",
      "Data columns (total 10 columns):\n",
      " #   Column            Non-Null Count   Dtype \n",
      "---  ------            --------------   ----- \n",
      " 0   price             354369 non-null  int64 \n",
      " 1   vehicletype       316879 non-null  object\n",
      " 2   registrationyear  354369 non-null  int64 \n",
      " 3   gearbox           334536 non-null  object\n",
      " 4   power             354369 non-null  int64 \n",
      " 5   model             334664 non-null  object\n",
      " 6   kilometer         354369 non-null  int64 \n",
      " 7   fueltype          321474 non-null  object\n",
      " 8   brand             354369 non-null  object\n",
      " 9   repaired          283215 non-null  object\n",
      "dtypes: int64(4), object(6)\n",
      "memory usage: 27.0+ MB\n"
     ]
    }
   ],
   "source": [
    "data.info()"
   ]
  },
  {
   "cell_type": "code",
   "execution_count": 7,
   "metadata": {},
   "outputs": [
    {
     "data": {
      "text/plain": [
       "45040"
      ]
     },
     "execution_count": 7,
     "metadata": {},
     "output_type": "execute_result"
    }
   ],
   "source": [
    "data.duplicated().sum()"
   ]
  },
  {
   "cell_type": "markdown",
   "metadata": {},
   "source": [
    "Getting rid of duplicates."
   ]
  },
  {
   "cell_type": "code",
   "execution_count": 8,
   "metadata": {},
   "outputs": [],
   "source": [
    "data = data.drop_duplicates().sort_index(ascending=True)"
   ]
  },
  {
   "cell_type": "markdown",
   "metadata": {},
   "source": [
    "We examine the dataset for NaN."
   ]
  },
  {
   "cell_type": "code",
   "execution_count": 9,
   "metadata": {
    "scrolled": true
   },
   "outputs": [
    {
     "data": {
      "text/plain": [
       "price                0.000000\n",
       "vehicletype         11.172247\n",
       "registrationyear     0.000000\n",
       "gearbox              5.562686\n",
       "power                0.000000\n",
       "model                5.935751\n",
       "kilometer            0.000000\n",
       "fueltype             9.945398\n",
       "brand                0.000000\n",
       "repaired            20.870335\n",
       "dtype: float64"
      ]
     },
     "execution_count": 9,
     "metadata": {},
     "output_type": "execute_result"
    }
   ],
   "source": [
    "data.isna().mean() * 100"
   ]
  },
  {
   "cell_type": "markdown",
   "metadata": {},
   "source": [
    "The percentage of gaps is high, they must be filled."
   ]
  },
  {
   "cell_type": "code",
   "execution_count": 10,
   "metadata": {},
   "outputs": [],
   "source": [
    "data = data.fillna(\"unknown\").copy()"
   ]
  },
  {
   "cell_type": "code",
   "execution_count": 11,
   "metadata": {},
   "outputs": [
    {
     "data": {
      "text/plain": [
       "<Axes: >"
      ]
     },
     "execution_count": 11,
     "metadata": {},
     "output_type": "execute_result"
    },
    {
     "data": {
      "image/png": "[encoded data removed]",
      "text/plain": [
       "<Figure size 640x480 with 1 Axes>"
      ]
     },
     "metadata": {},
     "output_type": "display_data"
    }
   ],
   "source": [
    "data[\"price\"].hist()"
   ]
  },
  {
   "cell_type": "code",
   "execution_count": 12,
   "metadata": {
    "scrolled": true
   },
   "outputs": [
    {
     "data": {
      "text/plain": [
       "price               12220\n",
       "vehicletype         12220\n",
       "registrationyear    12220\n",
       "gearbox             12220\n",
       "power               12220\n",
       "model               12220\n",
       "kilometer           12220\n",
       "fueltype            12220\n",
       "brand               12220\n",
       "repaired            12220\n",
       "dtype: int64"
      ]
     },
     "execution_count": 12,
     "metadata": {},
     "output_type": "execute_result"
    }
   ],
   "source": [
    "data.loc[data[\"price\"] <= 100].count()"
   ]
  },
  {
   "cell_type": "code",
   "execution_count": 13,
   "metadata": {},
   "outputs": [
    {
     "data": {
      "text/plain": [
       "price               10122\n",
       "vehicletype         10122\n",
       "registrationyear    10122\n",
       "gearbox             10122\n",
       "power               10122\n",
       "model               10122\n",
       "kilometer           10122\n",
       "fueltype            10122\n",
       "brand               10122\n",
       "repaired            10122\n",
       "dtype: int64"
      ]
     },
     "execution_count": 13,
     "metadata": {},
     "output_type": "execute_result"
    }
   ],
   "source": [
    "data.loc[data[\"price\"] <= 10].count()"
   ]
  },
  {
   "cell_type": "code",
   "execution_count": 14,
   "metadata": {},
   "outputs": [],
   "source": [
    "data = data.loc[data[\"price\"] >= 10]"
   ]
  },
  {
   "cell_type": "code",
   "execution_count": 15,
   "metadata": {},
   "outputs": [
    {
     "data": {
      "text/html": [
       "<div>\n",
       "<style scoped>\n",
       "    .dataframe tbody tr th:only-of-type {\n",
       "        vertical-align: middle;\n",
       "    }\n",
       "\n",
       "    .dataframe tbody tr th {\n",
       "        vertical-align: top;\n",
       "    }\n",
       "\n",
       "    .dataframe thead th {\n",
       "        text-align: right;\n",
       "    }\n",
       "</style>\n",
       "<table border=\"1\" class=\"dataframe\">\n",
       "  <thead>\n",
       "    <tr style=\"text-align: right;\">\n",
       "      <th></th>\n",
       "      <th>price</th>\n",
       "      <th>vehicletype</th>\n",
       "      <th>registrationyear</th>\n",
       "      <th>gearbox</th>\n",
       "      <th>power</th>\n",
       "      <th>model</th>\n",
       "      <th>kilometer</th>\n",
       "      <th>fueltype</th>\n",
       "      <th>brand</th>\n",
       "      <th>repaired</th>\n",
       "    </tr>\n",
       "  </thead>\n",
       "  <tbody>\n",
       "    <tr>\n",
       "      <th>0</th>\n",
       "      <td>480</td>\n",
       "      <td>unknown</td>\n",
       "      <td>1993</td>\n",
       "      <td>manual</td>\n",
       "      <td>0</td>\n",
       "      <td>golf</td>\n",
       "      <td>150000</td>\n",
       "      <td>petrol</td>\n",
       "      <td>volkswagen</td>\n",
       "      <td>unknown</td>\n",
       "    </tr>\n",
       "    <tr>\n",
       "      <th>1</th>\n",
       "      <td>18300</td>\n",
       "      <td>coupe</td>\n",
       "      <td>2011</td>\n",
       "      <td>manual</td>\n",
       "      <td>190</td>\n",
       "      <td>unknown</td>\n",
       "      <td>125000</td>\n",
       "      <td>gasoline</td>\n",
       "      <td>audi</td>\n",
       "      <td>yes</td>\n",
       "    </tr>\n",
       "    <tr>\n",
       "      <th>2</th>\n",
       "      <td>9800</td>\n",
       "      <td>suv</td>\n",
       "      <td>2004</td>\n",
       "      <td>auto</td>\n",
       "      <td>163</td>\n",
       "      <td>grand</td>\n",
       "      <td>125000</td>\n",
       "      <td>gasoline</td>\n",
       "      <td>jeep</td>\n",
       "      <td>unknown</td>\n",
       "    </tr>\n",
       "    <tr>\n",
       "      <th>3</th>\n",
       "      <td>1500</td>\n",
       "      <td>small</td>\n",
       "      <td>2001</td>\n",
       "      <td>manual</td>\n",
       "      <td>75</td>\n",
       "      <td>golf</td>\n",
       "      <td>150000</td>\n",
       "      <td>petrol</td>\n",
       "      <td>volkswagen</td>\n",
       "      <td>no</td>\n",
       "    </tr>\n",
       "    <tr>\n",
       "      <th>4</th>\n",
       "      <td>3600</td>\n",
       "      <td>small</td>\n",
       "      <td>2008</td>\n",
       "      <td>manual</td>\n",
       "      <td>69</td>\n",
       "      <td>fabia</td>\n",
       "      <td>90000</td>\n",
       "      <td>gasoline</td>\n",
       "      <td>skoda</td>\n",
       "      <td>no</td>\n",
       "    </tr>\n",
       "  </tbody>\n",
       "</table>\n",
       "</div>"
      ],
      "text/plain": [
       "   price vehicletype  registrationyear gearbox  power    model  kilometer  \\\n",
       "0    480     unknown              1993  manual      0     golf     150000   \n",
       "1  18300       coupe              2011  manual    190  unknown     125000   \n",
       "2   9800         suv              2004    auto    163    grand     125000   \n",
       "3   1500       small              2001  manual     75     golf     150000   \n",
       "4   3600       small              2008  manual     69    fabia      90000   \n",
       "\n",
       "   fueltype       brand repaired  \n",
       "0    petrol  volkswagen  unknown  \n",
       "1  gasoline        audi      yes  \n",
       "2  gasoline        jeep  unknown  \n",
       "3    petrol  volkswagen       no  \n",
       "4  gasoline       skoda       no  "
      ]
     },
     "execution_count": 15,
     "metadata": {},
     "output_type": "execute_result"
    }
   ],
   "source": [
    "data.head(5)"
   ]
  },
  {
   "cell_type": "code",
   "execution_count": 16,
   "metadata": {
    "scrolled": true,
    "tags": []
   },
   "outputs": [],
   "source": [
    "data = data.loc[(data[\"power\"] >= 50) & (data[\"power\"] <= 400)]"
   ]
  },
  {
   "cell_type": "code",
   "execution_count": 17,
   "metadata": {},
   "outputs": [],
   "source": [
    "data = data.loc[(data[\"registrationyear\"] >= 1965) & (data[\"registrationyear\"] <= 2016)]"
   ]
  },
  {
   "cell_type": "markdown",
   "metadata": {},
   "source": [
    "Let's convert the data to numeric form."
   ]
  },
  {
   "cell_type": "markdown",
   "metadata": {},
   "source": [
    "Separate dataset for linear regression."
   ]
  },
  {
   "cell_type": "code",
   "execution_count": 18,
   "metadata": {},
   "outputs": [],
   "source": [
    "data_ohe = pd.get_dummies(data, drop_first=True)"
   ]
  },
  {
   "cell_type": "markdown",
   "metadata": {},
   "source": [
    "Another dataset for tree systems."
   ]
  },
  {
   "cell_type": "code",
   "execution_count": 19,
   "metadata": {},
   "outputs": [],
   "source": [
    "encoder = OrdinalEncoder()"
   ]
  },
  {
   "cell_type": "code",
   "execution_count": 20,
   "metadata": {},
   "outputs": [],
   "source": [
    "ordinal_columns = [\n",
    "    \"vehicletype\",\n",
    "    \"gearbox\",\n",
    "    \"model\",\n",
    "    \"fueltype\",\n",
    "    \"brand\",\n",
    "    \"repaired\",\n",
    "]\n",
    "\n",
    "data_ord = data.copy()\n",
    "\n",
    "data_ord[ordinal_columns] = encoder.fit_transform(data_ord[ordinal_columns])"
   ]
  },
  {
   "cell_type": "markdown",
   "metadata": {},
   "source": [
    "Pre-processing completed, duplicates and omissions removed. We are present for training models."
   ]
  },
  {
   "cell_type": "markdown",
   "metadata": {},
   "source": [
    "## Model training"
   ]
  },
  {
   "cell_type": "markdown",
   "metadata": {},
   "source": [
    "Let's divide the dataset into features and targets."
   ]
  },
  {
   "cell_type": "markdown",
   "metadata": {},
   "source": [
    "**For linear regression**"
   ]
  },
  {
   "cell_type": "code",
   "execution_count": 21,
   "metadata": {},
   "outputs": [],
   "source": [
    "target_ohe = data_ohe[\"price\"]\n",
    "features_ohe = data_ohe.drop(\"price\", axis=1)"
   ]
  },
  {
   "cell_type": "code",
   "execution_count": 22,
   "metadata": {},
   "outputs": [],
   "source": [
    "(\n",
    "    features_train_ohe,\n",
    "    features_test,\n",
    "    target_train_ohe,\n",
    "    target_test,\n",
    ") = train_test_split(features_ohe, target_ohe, test_size=0.4, random_state=12345)\n",
    "\n",
    "(\n",
    "    features_test_ohe,\n",
    "    features_valid_ohe,\n",
    "    target_test_ohe,\n",
    "    target_valid_ohe,\n",
    ") = train_test_split(features_test, target_test, test_size=0.5, random_state=12345)"
   ]
  },
  {
   "cell_type": "markdown",
   "metadata": {},
   "source": [
    "We scale indicators."
   ]
  },
  {
   "cell_type": "code",
   "execution_count": 23,
   "metadata": {
    "scrolled": true
   },
   "outputs": [],
   "source": [
    "numeric = [\"registrationyear\", \"power\", \"kilometer\"]\n",
    "\n",
    "scaler = StandardScaler()\n",
    "scaler.fit(features_train_ohe[numeric])\n",
    "features_train_ohe[numeric] = scaler.transform(features_train_ohe[numeric])\n",
    "features_valid_ohe[numeric] = scaler.transform(features_valid_ohe[numeric])\n",
    "features_test_ohe[numeric] = scaler.transform(features_test_ohe[numeric])"
   ]
  },
  {
   "cell_type": "markdown",
   "metadata": {},
   "source": [
    "**For tree solutions**"
   ]
  },
  {
   "cell_type": "code",
   "execution_count": 24,
   "metadata": {},
   "outputs": [],
   "source": [
    "target_ord = data_ord[\"price\"]\n",
    "features_ord = data_ord.drop(\"price\", axis=1)"
   ]
  },
  {
   "cell_type": "code",
   "execution_count": 25,
   "metadata": {},
   "outputs": [],
   "source": [
    "(\n",
    "    features_train_ord,\n",
    "    features_test,\n",
    "    target_train_ord,\n",
    "    target_test,\n",
    ") = train_test_split(features_ord, target_ord, test_size=0.4, random_state=12345)\n",
    "\n",
    "(\n",
    "    features_test_ord,\n",
    "    features_valid_ord,\n",
    "    target_test_ord,\n",
    "    target_valid_ord,\n",
    ") = train_test_split(features_test, target_test, test_size=0.5, random_state=12345)"
   ]
  },
  {
   "cell_type": "markdown",
   "metadata": {},
   "source": [
    "Create models and select using the **GridSearch** method"
   ]
  },
  {
   "cell_type": "code",
   "execution_count": 26,
   "metadata": {
    "scrolled": true
   },
   "outputs": [],
   "source": [
    "def rmse(X, y):\n",
    "    return math.sqrt(mse(X, y))"
   ]
  },
  {
   "cell_type": "code",
   "execution_count": 27,
   "metadata": {
    "scrolled": true
   },
   "outputs": [],
   "source": [
    "rmse = make_scorer(rmse, greater_is_better=False)"
   ]
  },
  {
   "cell_type": "markdown",
   "metadata": {},
   "source": [
    "**Decision Tree**\n"
   ]
  },
  {
   "cell_type": "code",
   "execution_count": 28,
   "metadata": {},
   "outputs": [],
   "source": [
    "STATE = 12345"
   ]
  },
  {
   "cell_type": "code",
   "execution_count": 29,
   "metadata": {
    "scrolled": false
   },
   "outputs": [
    {
     "data": {
      "text/html": [
       "<style>#sk-container-id-1 {color: black;background-color: white;}#sk-container-id-1 pre{padding: 0;}#sk-container-id-1 div.sk-toggleable {background-color: white;}#sk-container-id-1 label.sk-toggleable__label {cursor: pointer;display: block;width: 100%;margin-bottom: 0;padding: 0.3em;box-sizing: border-box;text-align: center;}#sk-container-id-1 label.sk-toggleable__label-arrow:before {content: \"▸\";float: left;margin-right: 0.25em;color: #696969;}#sk-container-id-1 label.sk-toggleable__label-arrow:hover:before {color: black;}#sk-container-id-1 div.sk-estimator:hover label.sk-toggleable__label-arrow:before {color: black;}#sk-container-id-1 div.sk-toggleable__content {max-height: 0;max-width: 0;overflow: hidden;text-align: left;background-color: #f0f8ff;}#sk-container-id-1 div.sk-toggleable__content pre {margin: 0.2em;color: black;border-radius: 0.25em;background-color: #f0f8ff;}#sk-container-id-1 input.sk-toggleable__control:checked~div.sk-toggleable__content {max-height: 200px;max-width: 100%;overflow: auto;}#sk-container-id-1 input.sk-toggleable__control:checked~label.sk-toggleable__label-arrow:before {content: \"▾\";}#sk-container-id-1 div.sk-estimator input.sk-toggleable__control:checked~label.sk-toggleable__label {background-color: #d4ebff;}#sk-container-id-1 div.sk-label input.sk-toggleable__control:checked~label.sk-toggleable__label {background-color: #d4ebff;}#sk-container-id-1 input.sk-hidden--visually {border: 0;clip: rect(1px 1px 1px 1px);clip: rect(1px, 1px, 1px, 1px);height: 1px;margin: -1px;overflow: hidden;padding: 0;position: absolute;width: 1px;}#sk-container-id-1 div.sk-estimator {font-family: monospace;background-color: #f0f8ff;border: 1px dotted black;border-radius: 0.25em;box-sizing: border-box;margin-bottom: 0.5em;}#sk-container-id-1 div.sk-estimator:hover {background-color: #d4ebff;}#sk-container-id-1 div.sk-parallel-item::after {content: \"\";width: 100%;border-bottom: 1px solid gray;flex-grow: 1;}#sk-container-id-1 div.sk-label:hover label.sk-toggleable__label {background-color: #d4ebff;}#sk-container-id-1 div.sk-serial::before {content: \"\";position: absolute;border-left: 1px solid gray;box-sizing: border-box;top: 0;bottom: 0;left: 50%;z-index: 0;}#sk-container-id-1 div.sk-serial {display: flex;flex-direction: column;align-items: center;background-color: white;padding-right: 0.2em;padding-left: 0.2em;position: relative;}#sk-container-id-1 div.sk-item {position: relative;z-index: 1;}#sk-container-id-1 div.sk-parallel {display: flex;align-items: stretch;justify-content: center;background-color: white;position: relative;}#sk-container-id-1 div.sk-item::before, #sk-container-id-1 div.sk-parallel-item::before {content: \"\";position: absolute;border-left: 1px solid gray;box-sizing: border-box;top: 0;bottom: 0;left: 50%;z-index: -1;}#sk-container-id-1 div.sk-parallel-item {display: flex;flex-direction: column;z-index: 1;position: relative;background-color: white;}#sk-container-id-1 div.sk-parallel-item:first-child::after {align-self: flex-end;width: 50%;}#sk-container-id-1 div.sk-parallel-item:last-child::after {align-self: flex-start;width: 50%;}#sk-container-id-1 div.sk-parallel-item:only-child::after {width: 0;}#sk-container-id-1 div.sk-dashed-wrapped {border: 1px dashed gray;margin: 0 0.4em 0.5em 0.4em;box-sizing: border-box;padding-bottom: 0.4em;background-color: white;}#sk-container-id-1 div.sk-label label {font-family: monospace;font-weight: bold;display: inline-block;line-height: 1.2em;}#sk-container-id-1 div.sk-label-container {text-align: center;}#sk-container-id-1 div.sk-container {/* jupyter's `normalize.less` sets `[hidden] { display: none; }` but bootstrap.min.css set `[hidden] { display: none !important; }` so we also need the `!important` here to be able to override the default hidden behavior on the sphinx rendered scikit-learn.org. See: https://github.com/scikit-learn/scikit-learn/issues/21755 */display: inline-block !important;position: relative;}#sk-container-id-1 div.sk-text-repr-fallback {display: none;}</style><div id=\"sk-container-id-1\" class=\"sk-top-container\"><div class=\"sk-text-repr-fallback\"><pre>DecisionTreeRegressor(max_depth=5, random_state=12345)</pre><b>In a Jupyter environment, please rerun this cell to show the HTML representation or trust the notebook. <br />On GitHub, the HTML representation is unable to render, please try loading this page with nbviewer.org.</b></div><div class=\"sk-container\" hidden><div class=\"sk-item\"><div class=\"sk-estimator sk-toggleable\"><input class=\"sk-toggleable__control sk-hidden--visually\" id=\"sk-estimator-id-1\" type=\"checkbox\" checked><label for=\"sk-estimator-id-1\" class=\"sk-toggleable__label sk-toggleable__label-arrow\">DecisionTreeRegressor</label><div class=\"sk-toggleable__content\"><pre>DecisionTreeRegressor(max_depth=5, random_state=12345)</pre></div></div></div></div></div>"
      ],
      "text/plain": [
       "DecisionTreeRegressor(max_depth=5, random_state=12345)"
      ]
     },
     "execution_count": 29,
     "metadata": {},
     "output_type": "execute_result"
    }
   ],
   "source": [
    "params_dtr = {\"max_depth\": range(1, 6)}\n",
    "\n",
    "model_dtr = DecisionTreeRegressor(random_state=STATE)\n",
    "\n",
    "grid_dtr = GridSearchCV(\n",
    "    model_dtr, param_grid=params_dtr, cv=5, scoring=rmse, refit=True\n",
    ")\n",
    "grid_dtr.fit(features_train_ord, target_train_ord)\n",
    "params_dtr = grid_dtr.best_params_\n",
    "grid_dtr_best = DecisionTreeRegressor(**params_dtr, random_state=STATE)\n",
    "grid_dtr_best"
   ]
  },
  {
   "cell_type": "markdown",
   "metadata": {},
   "source": [
    "**Random Forest**"
   ]
  },
  {
   "cell_type": "code",
   "execution_count": 30,
   "metadata": {},
   "outputs": [
    {
     "name": "stdout",
     "output_type": "stream",
     "text": [
      "Fitting 3 folds for each of 4 candidates, totalling 12 fits\n"
     ]
    },
    {
     "data": {
      "text/html": [
       "<style>#sk-container-id-2 {color: black;background-color: white;}#sk-container-id-2 pre{padding: 0;}#sk-container-id-2 div.sk-toggleable {background-color: white;}#sk-container-id-2 label.sk-toggleable__label {cursor: pointer;display: block;width: 100%;margin-bottom: 0;padding: 0.3em;box-sizing: border-box;text-align: center;}#sk-container-id-2 label.sk-toggleable__label-arrow:before {content: \"▸\";float: left;margin-right: 0.25em;color: #696969;}#sk-container-id-2 label.sk-toggleable__label-arrow:hover:before {color: black;}#sk-container-id-2 div.sk-estimator:hover label.sk-toggleable__label-arrow:before {color: black;}#sk-container-id-2 div.sk-toggleable__content {max-height: 0;max-width: 0;overflow: hidden;text-align: left;background-color: #f0f8ff;}#sk-container-id-2 div.sk-toggleable__content pre {margin: 0.2em;color: black;border-radius: 0.25em;background-color: #f0f8ff;}#sk-container-id-2 input.sk-toggleable__control:checked~div.sk-toggleable__content {max-height: 200px;max-width: 100%;overflow: auto;}#sk-container-id-2 input.sk-toggleable__control:checked~label.sk-toggleable__label-arrow:before {content: \"▾\";}#sk-container-id-2 div.sk-estimator input.sk-toggleable__control:checked~label.sk-toggleable__label {background-color: #d4ebff;}#sk-container-id-2 div.sk-label input.sk-toggleable__control:checked~label.sk-toggleable__label {background-color: #d4ebff;}#sk-container-id-2 input.sk-hidden--visually {border: 0;clip: rect(1px 1px 1px 1px);clip: rect(1px, 1px, 1px, 1px);height: 1px;margin: -1px;overflow: hidden;padding: 0;position: absolute;width: 1px;}#sk-container-id-2 div.sk-estimator {font-family: monospace;background-color: #f0f8ff;border: 1px dotted black;border-radius: 0.25em;box-sizing: border-box;margin-bottom: 0.5em;}#sk-container-id-2 div.sk-estimator:hover {background-color: #d4ebff;}#sk-container-id-2 div.sk-parallel-item::after {content: \"\";width: 100%;border-bottom: 1px solid gray;flex-grow: 1;}#sk-container-id-2 div.sk-label:hover label.sk-toggleable__label {background-color: #d4ebff;}#sk-container-id-2 div.sk-serial::before {content: \"\";position: absolute;border-left: 1px solid gray;box-sizing: border-box;top: 0;bottom: 0;left: 50%;z-index: 0;}#sk-container-id-2 div.sk-serial {display: flex;flex-direction: column;align-items: center;background-color: white;padding-right: 0.2em;padding-left: 0.2em;position: relative;}#sk-container-id-2 div.sk-item {position: relative;z-index: 1;}#sk-container-id-2 div.sk-parallel {display: flex;align-items: stretch;justify-content: center;background-color: white;position: relative;}#sk-container-id-2 div.sk-item::before, #sk-container-id-2 div.sk-parallel-item::before {content: \"\";position: absolute;border-left: 1px solid gray;box-sizing: border-box;top: 0;bottom: 0;left: 50%;z-index: -1;}#sk-container-id-2 div.sk-parallel-item {display: flex;flex-direction: column;z-index: 1;position: relative;background-color: white;}#sk-container-id-2 div.sk-parallel-item:first-child::after {align-self: flex-end;width: 50%;}#sk-container-id-2 div.sk-parallel-item:last-child::after {align-self: flex-start;width: 50%;}#sk-container-id-2 div.sk-parallel-item:only-child::after {width: 0;}#sk-container-id-2 div.sk-dashed-wrapped {border: 1px dashed gray;margin: 0 0.4em 0.5em 0.4em;box-sizing: border-box;padding-bottom: 0.4em;background-color: white;}#sk-container-id-2 div.sk-label label {font-family: monospace;font-weight: bold;display: inline-block;line-height: 1.2em;}#sk-container-id-2 div.sk-label-container {text-align: center;}#sk-container-id-2 div.sk-container {/* jupyter's `normalize.less` sets `[hidden] { display: none; }` but bootstrap.min.css set `[hidden] { display: none !important; }` so we also need the `!important` here to be able to override the default hidden behavior on the sphinx rendered scikit-learn.org. See: https://github.com/scikit-learn/scikit-learn/issues/21755 */display: inline-block !important;position: relative;}#sk-container-id-2 div.sk-text-repr-fallback {display: none;}</style><div id=\"sk-container-id-2\" class=\"sk-top-container\"><div class=\"sk-text-repr-fallback\"><pre>RandomForestRegressor(max_depth=16, random_state=12345)</pre><b>In a Jupyter environment, please rerun this cell to show the HTML representation or trust the notebook. <br />On GitHub, the HTML representation is unable to render, please try loading this page with nbviewer.org.</b></div><div class=\"sk-container\" hidden><div class=\"sk-item\"><div class=\"sk-estimator sk-toggleable\"><input class=\"sk-toggleable__control sk-hidden--visually\" id=\"sk-estimator-id-2\" type=\"checkbox\" checked><label for=\"sk-estimator-id-2\" class=\"sk-toggleable__label sk-toggleable__label-arrow\">RandomForestRegressor</label><div class=\"sk-toggleable__content\"><pre>RandomForestRegressor(max_depth=16, random_state=12345)</pre></div></div></div></div></div>"
      ],
      "text/plain": [
       "RandomForestRegressor(max_depth=16, random_state=12345)"
      ]
     },
     "execution_count": 30,
     "metadata": {},
     "output_type": "execute_result"
    }
   ],
   "source": [
    "params_rfr = {\"max_depth\": range(1, 20, 5)}\n",
    "\n",
    "model_rfr = RandomForestRegressor(random_state=STATE)\n",
    "\n",
    "grid_rfr = GridSearchCV(model_rfr, params_rfr, cv=3, n_jobs=-1, verbose=2, scoring=rmse)\n",
    "grid_rfr.fit(features_train_ord, target_train_ord)\n",
    "params_rfr = grid_rfr.best_params_\n",
    "grid_rfr_best = RandomForestRegressor(**params_rfr, random_state=STATE)\n",
    "grid_rfr_best"
   ]
  },
  {
   "cell_type": "markdown",
   "metadata": {},
   "source": [
    "**Linear Regression**"
   ]
  },
  {
   "cell_type": "code",
   "execution_count": 31,
   "metadata": {},
   "outputs": [
    {
     "data": {
      "text/html": [
       "<style>#sk-container-id-3 {color: black;background-color: white;}#sk-container-id-3 pre{padding: 0;}#sk-container-id-3 div.sk-toggleable {background-color: white;}#sk-container-id-3 label.sk-toggleable__label {cursor: pointer;display: block;width: 100%;margin-bottom: 0;padding: 0.3em;box-sizing: border-box;text-align: center;}#sk-container-id-3 label.sk-toggleable__label-arrow:before {content: \"▸\";float: left;margin-right: 0.25em;color: #696969;}#sk-container-id-3 label.sk-toggleable__label-arrow:hover:before {color: black;}#sk-container-id-3 div.sk-estimator:hover label.sk-toggleable__label-arrow:before {color: black;}#sk-container-id-3 div.sk-toggleable__content {max-height: 0;max-width: 0;overflow: hidden;text-align: left;background-color: #f0f8ff;}#sk-container-id-3 div.sk-toggleable__content pre {margin: 0.2em;color: black;border-radius: 0.25em;background-color: #f0f8ff;}#sk-container-id-3 input.sk-toggleable__control:checked~div.sk-toggleable__content {max-height: 200px;max-width: 100%;overflow: auto;}#sk-container-id-3 input.sk-toggleable__control:checked~label.sk-toggleable__label-arrow:before {content: \"▾\";}#sk-container-id-3 div.sk-estimator input.sk-toggleable__control:checked~label.sk-toggleable__label {background-color: #d4ebff;}#sk-container-id-3 div.sk-label input.sk-toggleable__control:checked~label.sk-toggleable__label {background-color: #d4ebff;}#sk-container-id-3 input.sk-hidden--visually {border: 0;clip: rect(1px 1px 1px 1px);clip: rect(1px, 1px, 1px, 1px);height: 1px;margin: -1px;overflow: hidden;padding: 0;position: absolute;width: 1px;}#sk-container-id-3 div.sk-estimator {font-family: monospace;background-color: #f0f8ff;border: 1px dotted black;border-radius: 0.25em;box-sizing: border-box;margin-bottom: 0.5em;}#sk-container-id-3 div.sk-estimator:hover {background-color: #d4ebff;}#sk-container-id-3 div.sk-parallel-item::after {content: \"\";width: 100%;border-bottom: 1px solid gray;flex-grow: 1;}#sk-container-id-3 div.sk-label:hover label.sk-toggleable__label {background-color: #d4ebff;}#sk-container-id-3 div.sk-serial::before {content: \"\";position: absolute;border-left: 1px solid gray;box-sizing: border-box;top: 0;bottom: 0;left: 50%;z-index: 0;}#sk-container-id-3 div.sk-serial {display: flex;flex-direction: column;align-items: center;background-color: white;padding-right: 0.2em;padding-left: 0.2em;position: relative;}#sk-container-id-3 div.sk-item {position: relative;z-index: 1;}#sk-container-id-3 div.sk-parallel {display: flex;align-items: stretch;justify-content: center;background-color: white;position: relative;}#sk-container-id-3 div.sk-item::before, #sk-container-id-3 div.sk-parallel-item::before {content: \"\";position: absolute;border-left: 1px solid gray;box-sizing: border-box;top: 0;bottom: 0;left: 50%;z-index: -1;}#sk-container-id-3 div.sk-parallel-item {display: flex;flex-direction: column;z-index: 1;position: relative;background-color: white;}#sk-container-id-3 div.sk-parallel-item:first-child::after {align-self: flex-end;width: 50%;}#sk-container-id-3 div.sk-parallel-item:last-child::after {align-self: flex-start;width: 50%;}#sk-container-id-3 div.sk-parallel-item:only-child::after {width: 0;}#sk-container-id-3 div.sk-dashed-wrapped {border: 1px dashed gray;margin: 0 0.4em 0.5em 0.4em;box-sizing: border-box;padding-bottom: 0.4em;background-color: white;}#sk-container-id-3 div.sk-label label {font-family: monospace;font-weight: bold;display: inline-block;line-height: 1.2em;}#sk-container-id-3 div.sk-label-container {text-align: center;}#sk-container-id-3 div.sk-container {/* jupyter's `normalize.less` sets `[hidden] { display: none; }` but bootstrap.min.css set `[hidden] { display: none !important; }` so we also need the `!important` here to be able to override the default hidden behavior on the sphinx rendered scikit-learn.org. See: https://github.com/scikit-learn/scikit-learn/issues/21755 */display: inline-block !important;position: relative;}#sk-container-id-3 div.sk-text-repr-fallback {display: none;}</style><div id=\"sk-container-id-3\" class=\"sk-top-container\"><div class=\"sk-text-repr-fallback\"><pre>LinearRegression(fit_intercept=False)</pre><b>In a Jupyter environment, please rerun this cell to show the HTML representation or trust the notebook. <br />On GitHub, the HTML representation is unable to render, please try loading this page with nbviewer.org.</b></div><div class=\"sk-container\" hidden><div class=\"sk-item\"><div class=\"sk-estimator sk-toggleable\"><input class=\"sk-toggleable__control sk-hidden--visually\" id=\"sk-estimator-id-3\" type=\"checkbox\" checked><label for=\"sk-estimator-id-3\" class=\"sk-toggleable__label sk-toggleable__label-arrow\">LinearRegression</label><div class=\"sk-toggleable__content\"><pre>LinearRegression(fit_intercept=False)</pre></div></div></div></div></div>"
      ],
      "text/plain": [
       "LinearRegression(fit_intercept=False)"
      ]
     },
     "execution_count": 31,
     "metadata": {},
     "output_type": "execute_result"
    }
   ],
   "source": [
    "model_lr = LinearRegression()\n",
    "parameters = {\"fit_intercept\": [True, False], \"copy_X\": [True, False]}\n",
    "grid_lr = GridSearchCV(model_lr, param_grid=parameters, cv=5, scoring=rmse, refit=True)\n",
    "grid_lr.fit(features_train_ohe, target_train_ohe)\n",
    "params_lr = grid_lr.best_params_\n",
    "grid_lr_best = LinearRegression(**params_lr)\n",
    "grid_lr_best"
   ]
  },
  {
   "cell_type": "markdown",
   "metadata": {},
   "source": [
    "**Gradient boosting**"
   ]
  },
  {
   "cell_type": "code",
   "execution_count": 32,
   "metadata": {},
   "outputs": [
    {
     "data": {
      "text/html": [
       "<style>#sk-container-id-4 {color: black;background-color: white;}#sk-container-id-4 pre{padding: 0;}#sk-container-id-4 div.sk-toggleable {background-color: white;}#sk-container-id-4 label.sk-toggleable__label {cursor: pointer;display: block;width: 100%;margin-bottom: 0;padding: 0.3em;box-sizing: border-box;text-align: center;}#sk-container-id-4 label.sk-toggleable__label-arrow:before {content: \"▸\";float: left;margin-right: 0.25em;color: #696969;}#sk-container-id-4 label.sk-toggleable__label-arrow:hover:before {color: black;}#sk-container-id-4 div.sk-estimator:hover label.sk-toggleable__label-arrow:before {color: black;}#sk-container-id-4 div.sk-toggleable__content {max-height: 0;max-width: 0;overflow: hidden;text-align: left;background-color: #f0f8ff;}#sk-container-id-4 div.sk-toggleable__content pre {margin: 0.2em;color: black;border-radius: 0.25em;background-color: #f0f8ff;}#sk-container-id-4 input.sk-toggleable__control:checked~div.sk-toggleable__content {max-height: 200px;max-width: 100%;overflow: auto;}#sk-container-id-4 input.sk-toggleable__control:checked~label.sk-toggleable__label-arrow:before {content: \"▾\";}#sk-container-id-4 div.sk-estimator input.sk-toggleable__control:checked~label.sk-toggleable__label {background-color: #d4ebff;}#sk-container-id-4 div.sk-label input.sk-toggleable__control:checked~label.sk-toggleable__label {background-color: #d4ebff;}#sk-container-id-4 input.sk-hidden--visually {border: 0;clip: rect(1px 1px 1px 1px);clip: rect(1px, 1px, 1px, 1px);height: 1px;margin: -1px;overflow: hidden;padding: 0;position: absolute;width: 1px;}#sk-container-id-4 div.sk-estimator {font-family: monospace;background-color: #f0f8ff;border: 1px dotted black;border-radius: 0.25em;box-sizing: border-box;margin-bottom: 0.5em;}#sk-container-id-4 div.sk-estimator:hover {background-color: #d4ebff;}#sk-container-id-4 div.sk-parallel-item::after {content: \"\";width: 100%;border-bottom: 1px solid gray;flex-grow: 1;}#sk-container-id-4 div.sk-label:hover label.sk-toggleable__label {background-color: #d4ebff;}#sk-container-id-4 div.sk-serial::before {content: \"\";position: absolute;border-left: 1px solid gray;box-sizing: border-box;top: 0;bottom: 0;left: 50%;z-index: 0;}#sk-container-id-4 div.sk-serial {display: flex;flex-direction: column;align-items: center;background-color: white;padding-right: 0.2em;padding-left: 0.2em;position: relative;}#sk-container-id-4 div.sk-item {position: relative;z-index: 1;}#sk-container-id-4 div.sk-parallel {display: flex;align-items: stretch;justify-content: center;background-color: white;position: relative;}#sk-container-id-4 div.sk-item::before, #sk-container-id-4 div.sk-parallel-item::before {content: \"\";position: absolute;border-left: 1px solid gray;box-sizing: border-box;top: 0;bottom: 0;left: 50%;z-index: -1;}#sk-container-id-4 div.sk-parallel-item {display: flex;flex-direction: column;z-index: 1;position: relative;background-color: white;}#sk-container-id-4 div.sk-parallel-item:first-child::after {align-self: flex-end;width: 50%;}#sk-container-id-4 div.sk-parallel-item:last-child::after {align-self: flex-start;width: 50%;}#sk-container-id-4 div.sk-parallel-item:only-child::after {width: 0;}#sk-container-id-4 div.sk-dashed-wrapped {border: 1px dashed gray;margin: 0 0.4em 0.5em 0.4em;box-sizing: border-box;padding-bottom: 0.4em;background-color: white;}#sk-container-id-4 div.sk-label label {font-family: monospace;font-weight: bold;display: inline-block;line-height: 1.2em;}#sk-container-id-4 div.sk-label-container {text-align: center;}#sk-container-id-4 div.sk-container {/* jupyter's `normalize.less` sets `[hidden] { display: none; }` but bootstrap.min.css set `[hidden] { display: none !important; }` so we also need the `!important` here to be able to override the default hidden behavior on the sphinx rendered scikit-learn.org. See: https://github.com/scikit-learn/scikit-learn/issues/21755 */display: inline-block !important;position: relative;}#sk-container-id-4 div.sk-text-repr-fallback {display: none;}</style><div id=\"sk-container-id-4\" class=\"sk-top-container\"><div class=\"sk-text-repr-fallback\"><pre>LGBMRegressor(learning_rate=0.15, max_depth=15)</pre><b>In a Jupyter environment, please rerun this cell to show the HTML representation or trust the notebook. <br />On GitHub, the HTML representation is unable to render, please try loading this page with nbviewer.org.</b></div><div class=\"sk-container\" hidden><div class=\"sk-item\"><div class=\"sk-estimator sk-toggleable\"><input class=\"sk-toggleable__control sk-hidden--visually\" id=\"sk-estimator-id-4\" type=\"checkbox\" checked><label for=\"sk-estimator-id-4\" class=\"sk-toggleable__label sk-toggleable__label-arrow\">LGBMRegressor</label><div class=\"sk-toggleable__content\"><pre>LGBMRegressor(learning_rate=0.15, max_depth=15)</pre></div></div></div></div></div>"
      ],
      "text/plain": [
       "LGBMRegressor(learning_rate=0.15, max_depth=15)"
      ]
     },
     "execution_count": 32,
     "metadata": {},
     "output_type": "execute_result"
    }
   ],
   "source": [
    "parameters = {\n",
    "    \"max_depth\": [15, 25, 35],\n",
    "    \"learning_rate\": [0.01, 0.05, 0.15],\n",
    "}\n",
    "model_lgb = lgb.LGBMRegressor()\n",
    "grid_lgb = GridSearchCV(model_lgb, param_grid=parameters, scoring=rmse, cv=3)\n",
    "grid_lgb.fit(features_train_ohe, target_train_ohe)\n",
    "params_lgb = grid_lgb.best_params_\n",
    "grid_lgb_best = lgb.LGBMRegressor(**params_lgb)\n",
    "grid_lgb_best"
   ]
  },
  {
   "cell_type": "markdown",
   "metadata": {},
   "source": [
    "## Analysis of models"
   ]
  },
  {
   "cell_type": "markdown",
   "metadata": {},
   "source": [
    "Let's take measurements of training and prediction time."
   ]
  },
  {
   "cell_type": "markdown",
   "metadata": {},
   "source": [
    "**Decision Tree**"
   ]
  },
  {
   "cell_type": "code",
   "execution_count": 33,
   "metadata": {},
   "outputs": [
    {
     "name": "stdout",
     "output_type": "stream",
     "text": [
      "CPU times: user 98 ms, sys: 4.47 ms, total: 102 ms\n",
      "Wall time: 95 ms\n",
      "CPU times: user 2.98 ms, sys: 0 ns, total: 2.98 ms\n",
      "Wall time: 2.77 ms\n"
     ]
    }
   ],
   "source": [
    "%time grid_dtr_best.fit(features_train_ord, target_train_ord)\n",
    "%time predicted_valid_dtr = grid_dtr_best.predict(features_valid_ord)"
   ]
  },
  {
   "cell_type": "code",
   "execution_count": 34,
   "metadata": {},
   "outputs": [
    {
     "name": "stdout",
     "output_type": "stream",
     "text": [
      "RMSE DTR: 2437.0630508688632\n"
     ]
    }
   ],
   "source": [
    "print(\"RMSE DTR:\", math.sqrt(mse(target_valid_ord, predicted_valid_dtr)))"
   ]
  },
  {
   "cell_type": "markdown",
   "metadata": {},
   "source": [
    "**Random Forest**"
   ]
  },
  {
   "cell_type": "code",
   "execution_count": 35,
   "metadata": {},
   "outputs": [
    {
     "name": "stdout",
     "output_type": "stream",
     "text": [
      "CPU times: user 17.1 s, sys: 71.3 ms, total: 17.1 s\n",
      "Wall time: 17.1 s\n",
      "CPU times: user 548 ms, sys: 466 µs, total: 549 ms\n",
      "Wall time: 548 ms\n"
     ]
    }
   ],
   "source": [
    "%time grid_rfr_best.fit(features_train_ord, target_train_ord)\n",
    "%time predicted_valid_rfr = grid_rfr_best.predict(features_valid_ord)"
   ]
  },
  {
   "cell_type": "code",
   "execution_count": 36,
   "metadata": {
    "scrolled": true
   },
   "outputs": [
    {
     "name": "stdout",
     "output_type": "stream",
     "text": [
      "RMSE RFR: 1670.9583167824987\n"
     ]
    }
   ],
   "source": [
    "print(\"RMSE RFR:\", math.sqrt(mse(target_valid_ord, predicted_valid_rfr)))"
   ]
  },
  {
   "cell_type": "markdown",
   "metadata": {},
   "source": [
    "**Linear Regression**"
   ]
  },
  {
   "cell_type": "code",
   "execution_count": 37,
   "metadata": {},
   "outputs": [
    {
     "name": "stdout",
     "output_type": "stream",
     "text": [
      "CPU times: user 16.6 s, sys: 5.51 s, total: 22.1 s\n",
      "Wall time: 3.9 s\n",
      "CPU times: user 93.9 ms, sys: 282 ms, total: 375 ms\n",
      "Wall time: 48.3 ms\n"
     ]
    }
   ],
   "source": [
    "%time grid_lr_best.fit(features_train_ohe, target_train_ohe)\n",
    "%time predicted_valid_lr = grid_lr_best.predict(features_valid_ohe)"
   ]
  },
  {
   "cell_type": "code",
   "execution_count": 38,
   "metadata": {},
   "outputs": [
    {
     "name": "stdout",
     "output_type": "stream",
     "text": [
      "RMSE LR: 2547.5481551905546\n"
     ]
    }
   ],
   "source": [
    "print(\"RMSE LR:\", math.sqrt(mse(target_valid_ohe, predicted_valid_lr)))"
   ]
  },
  {
   "cell_type": "markdown",
   "metadata": {},
   "source": [
    "**LightGBM**"
   ]
  },
  {
   "cell_type": "code",
   "execution_count": 39,
   "metadata": {},
   "outputs": [
    {
     "name": "stdout",
     "output_type": "stream",
     "text": [
      "CPU times: user 2.63 s, sys: 409 ms, total: 3.04 s\n",
      "Wall time: 633 ms\n",
      "CPU times: user 414 ms, sys: 19.9 ms, total: 434 ms\n",
      "Wall time: 101 ms\n"
     ]
    }
   ],
   "source": [
    "%time grid_lgb_best.fit(features_train_ohe, target_train_ohe)\n",
    "%time predicted_valid_lgb = grid_lgb_best.predict(features_valid_ohe)"
   ]
  },
  {
   "cell_type": "code",
   "execution_count": 40,
   "metadata": {
    "scrolled": true
   },
   "outputs": [
    {
     "name": "stdout",
     "output_type": "stream",
     "text": [
      "RMSE LGB: 1653.9804003077002\n"
     ]
    }
   ],
   "source": [
    "print(\"RMSE LGB:\", math.sqrt(mse(target_valid_ohe, predicted_valid_lgb)))"
   ]
  },
  {
   "cell_type": "code",
   "execution_count": 41,
   "metadata": {
    "scrolled": true
   },
   "outputs": [
    {
     "data": {
      "text/html": [
       "<div>\n",
       "<style scoped>\n",
       "    .dataframe tbody tr th:only-of-type {\n",
       "        vertical-align: middle;\n",
       "    }\n",
       "\n",
       "    .dataframe tbody tr th {\n",
       "        vertical-align: top;\n",
       "    }\n",
       "\n",
       "    .dataframe thead th {\n",
       "        text-align: right;\n",
       "    }\n",
       "</style>\n",
       "<table border=\"1\" class=\"dataframe\">\n",
       "  <thead>\n",
       "    <tr style=\"text-align: right;\">\n",
       "      <th></th>\n",
       "      <th>dtr</th>\n",
       "      <th>rfr</th>\n",
       "      <th>lr</th>\n",
       "      <th>lgb</th>\n",
       "    </tr>\n",
       "  </thead>\n",
       "  <tbody>\n",
       "    <tr>\n",
       "      <th>RMSE</th>\n",
       "      <td>2437.063051</td>\n",
       "      <td>1670.958317</td>\n",
       "      <td>2547.548155</td>\n",
       "      <td>1653.9804</td>\n",
       "    </tr>\n",
       "    <tr>\n",
       "      <th>fit_time</th>\n",
       "      <td>211 ms</td>\n",
       "      <td>28.9 s</td>\n",
       "      <td>35.5 ms</td>\n",
       "      <td>38,9 s</td>\n",
       "    </tr>\n",
       "    <tr>\n",
       "      <th>predict_time</th>\n",
       "      <td>4.99 ms</td>\n",
       "      <td>1,06 s</td>\n",
       "      <td>3,29 ms</td>\n",
       "      <td>597 ms</td>\n",
       "    </tr>\n",
       "  </tbody>\n",
       "</table>\n",
       "</div>"
      ],
      "text/plain": [
       "                      dtr          rfr           lr        lgb\n",
       "RMSE          2437.063051  1670.958317  2547.548155  1653.9804\n",
       "fit_time           211 ms       28.9 s      35.5 ms     38,9 s\n",
       "predict_time      4.99 ms       1,06 s      3,29 ms     597 ms"
      ]
     },
     "metadata": {},
     "output_type": "display_data"
    }
   ],
   "source": [
    "table = [\n",
    "    [\n",
    "        math.sqrt(mse(target_valid_ord, predicted_valid_dtr)),\n",
    "        math.sqrt(mse(target_valid_ord, predicted_valid_rfr)),\n",
    "        math.sqrt(mse(target_valid_ohe, predicted_valid_lr)),\n",
    "        math.sqrt(mse(target_valid_ohe, predicted_valid_lgb)),\n",
    "    ],\n",
    "    [\"211 ms\", \"28.9 s\", \"35.5 ms\", \"38,9 s\"],\n",
    "    [\"4.99 ms\", \"1,06 s\", \"3,29 ms\", \"597 ms\"],\n",
    "]\n",
    "columns = [\"dtr\", \"rfr\", \"lr\", \"lgb\"]\n",
    "index = [\"RMSE\", \"fit_time\", \"predict_time\"]\n",
    "table_1 = pd.DataFrame(table, index, columns)\n",
    "display(table_1)"
   ]
  },
  {
   "cell_type": "markdown",
   "metadata": {},
   "source": [
    "As can be seen from the table, the method showing the most appropriate RMSE values and fit_time calues is **LR**. The second after it is **DTR**."
   ]
  },
  {
   "cell_type": "markdown",
   "metadata": {},
   "source": [
    "## Model testing"
   ]
  },
  {
   "cell_type": "markdown",
   "metadata": {},
   "source": [
    "**Linear Regression**"
   ]
  },
  {
   "cell_type": "code",
   "execution_count": 42,
   "metadata": {
    "scrolled": true
   },
   "outputs": [
    {
     "name": "stdout",
     "output_type": "stream",
     "text": [
      "RMSE LR: 5324935236668.029\n"
     ]
    }
   ],
   "source": [
    "predicted_test_lr = grid_lr_best.predict(features_test_ohe)\n",
    "print(\"RMSE LR:\", math.sqrt(mse(target_test_ohe, predicted_test_lr)))"
   ]
  },
  {
   "cell_type": "markdown",
   "metadata": {},
   "source": [
    "**Decision Tree Classifier**"
   ]
  },
  {
   "cell_type": "code",
   "execution_count": 43,
   "metadata": {},
   "outputs": [
    {
     "name": "stdout",
     "output_type": "stream",
     "text": [
      "RMSE DTR: 2434.6830159169\n"
     ]
    }
   ],
   "source": [
    "predicted_test_dtr = grid_dtr_best.predict(features_test_ord)\n",
    "print(\"RMSE DTR:\", math.sqrt(mse(target_test_ord, predicted_test_dtr)))"
   ]
  },
  {
   "cell_type": "code",
   "execution_count": 44,
   "metadata": {},
   "outputs": [
    {
     "data": {
      "text/html": [
       "<div>\n",
       "<style scoped>\n",
       "    .dataframe tbody tr th:only-of-type {\n",
       "        vertical-align: middle;\n",
       "    }\n",
       "\n",
       "    .dataframe tbody tr th {\n",
       "        vertical-align: top;\n",
       "    }\n",
       "\n",
       "    .dataframe thead th {\n",
       "        text-align: right;\n",
       "    }\n",
       "</style>\n",
       "<table border=\"1\" class=\"dataframe\">\n",
       "  <thead>\n",
       "    <tr style=\"text-align: right;\">\n",
       "      <th></th>\n",
       "      <th>LR</th>\n",
       "      <th>DTR</th>\n",
       "    </tr>\n",
       "  </thead>\n",
       "  <tbody>\n",
       "    <tr>\n",
       "      <th>RMSE</th>\n",
       "      <td>5.324935e+12</td>\n",
       "      <td>2434.683016</td>\n",
       "    </tr>\n",
       "  </tbody>\n",
       "</table>\n",
       "</div>"
      ],
      "text/plain": [
       "                LR          DTR\n",
       "RMSE  5.324935e+12  2434.683016"
      ]
     },
     "metadata": {},
     "output_type": "display_data"
    }
   ],
   "source": [
    "table_1 = [\n",
    "    [\n",
    "        math.sqrt(mse(target_test_ohe, predicted_test_lr)),\n",
    "        math.sqrt(mse(target_test_ord, predicted_test_dtr)),\n",
    "    ]\n",
    "]\n",
    "columns = [\"LR\", \"DTR\"]\n",
    "index = [\"RMSE\"]\n",
    "table_2 = pd.DataFrame(table_1, index, columns)\n",
    "display(table_2)"
   ]
  },
  {
   "cell_type": "markdown",
   "metadata": {},
   "source": [
    "The intermediate conclusions were validated on the test sample, affirming the findings.\n",
    "\n",
    "In terms of results, LR (Linear Regression) is considerably more advantageous.\n",
    "\n",
    "This conclusion is based on the criteria specified by the customer, which include:\n",
    "\n",
    "    Prediction accuracy\n",
    "    Model training time\n",
    "    Model prediction time"
   ]
  }
 ],
 "metadata": {
  "ExecuteTimeLog": [
   {
    "duration": 1325,
    "start_time": "2022-08-23T10:44:19.058Z"
   },
   {
    "duration": 49,
    "start_time": "2022-08-23T10:44:41.872Z"
   },
   {
    "duration": 954,
    "start_time": "2022-08-23T10:44:46.279Z"
   },
   {
    "duration": 21,
    "start_time": "2022-08-23T10:44:55.110Z"
   },
   {
    "duration": 22,
    "start_time": "2022-08-23T10:49:07.930Z"
   },
   {
    "duration": 9,
    "start_time": "2022-08-23T10:49:26.400Z"
   },
   {
    "duration": 82,
    "start_time": "2022-08-23T10:49:35.860Z"
   },
   {
    "duration": 108,
    "start_time": "2022-08-23T11:25:11.192Z"
   },
   {
    "duration": 8,
    "start_time": "2022-08-23T11:25:13.705Z"
   },
   {
    "duration": 180,
    "start_time": "2022-08-23T11:25:16.453Z"
   },
   {
    "duration": 177,
    "start_time": "2022-08-23T11:25:21.595Z"
   },
   {
    "duration": 173,
    "start_time": "2022-08-23T11:26:01.200Z"
   },
   {
    "duration": 2,
    "start_time": "2022-08-23T11:26:15.360Z"
   },
   {
    "duration": 727,
    "start_time": "2022-08-23T11:26:15.364Z"
   },
   {
    "duration": 12,
    "start_time": "2022-08-23T11:26:16.093Z"
   },
   {
    "duration": 24,
    "start_time": "2022-08-23T11:26:16.110Z"
   },
   {
    "duration": 72,
    "start_time": "2022-08-23T11:26:17.790Z"
   },
   {
    "duration": 171,
    "start_time": "2022-08-23T11:26:20.957Z"
   },
   {
    "duration": 169,
    "start_time": "2022-08-23T11:26:39.749Z"
   },
   {
    "duration": 173,
    "start_time": "2022-08-23T11:26:45.225Z"
   },
   {
    "duration": 169,
    "start_time": "2022-08-23T11:34:53.558Z"
   },
   {
    "duration": 169,
    "start_time": "2022-08-23T11:35:00.908Z"
   },
   {
    "duration": 170,
    "start_time": "2022-08-23T11:35:10.457Z"
   },
   {
    "duration": 23395,
    "start_time": "2022-08-23T11:35:49.191Z"
   },
   {
    "duration": 0,
    "start_time": "2022-08-23T11:36:12.588Z"
   },
   {
    "duration": 233,
    "start_time": "2022-08-23T11:36:13.933Z"
   },
   {
    "duration": 245,
    "start_time": "2022-08-23T11:36:28.632Z"
   },
   {
    "duration": 230,
    "start_time": "2022-08-23T11:36:58.106Z"
   },
   {
    "duration": 214,
    "start_time": "2022-08-23T11:37:35.558Z"
   },
   {
    "duration": 211,
    "start_time": "2022-08-23T11:37:41.398Z"
   },
   {
    "duration": 70,
    "start_time": "2022-08-23T11:38:03.774Z"
   },
   {
    "duration": 67,
    "start_time": "2022-08-23T11:38:06.882Z"
   },
   {
    "duration": 60,
    "start_time": "2022-08-23T11:38:17.236Z"
   },
   {
    "duration": 61,
    "start_time": "2022-08-23T11:38:22.964Z"
   },
   {
    "duration": 118,
    "start_time": "2022-08-23T11:38:31.648Z"
   },
   {
    "duration": 118,
    "start_time": "2022-08-23T11:38:47.642Z"
   },
   {
    "duration": 92,
    "start_time": "2022-08-23T11:39:55.851Z"
   },
   {
    "duration": 80,
    "start_time": "2022-08-23T11:40:02.067Z"
   },
   {
    "duration": 8,
    "start_time": "2022-08-23T11:41:28.903Z"
   },
   {
    "duration": 208,
    "start_time": "2022-08-23T11:43:34.757Z"
   },
   {
    "duration": 695,
    "start_time": "2022-08-23T11:43:34.967Z"
   },
   {
    "duration": 12,
    "start_time": "2022-08-23T11:43:35.663Z"
   },
   {
    "duration": 19,
    "start_time": "2022-08-23T11:43:35.677Z"
   },
   {
    "duration": 80,
    "start_time": "2022-08-23T11:43:35.697Z"
   },
   {
    "duration": 232,
    "start_time": "2022-08-23T11:43:35.779Z"
   },
   {
    "duration": 194,
    "start_time": "2022-08-23T11:43:36.012Z"
   },
   {
    "duration": 121,
    "start_time": "2022-08-23T11:43:36.210Z"
   },
   {
    "duration": 83,
    "start_time": "2022-08-23T11:43:36.333Z"
   },
   {
    "duration": 26,
    "start_time": "2022-08-23T11:43:38.194Z"
   },
   {
    "duration": 36,
    "start_time": "2022-08-23T11:43:44.522Z"
   },
   {
    "duration": 6,
    "start_time": "2022-08-23T11:43:49.720Z"
   },
   {
    "duration": 15,
    "start_time": "2022-08-23T11:43:56.555Z"
   },
   {
    "duration": 18,
    "start_time": "2022-08-23T11:44:06.709Z"
   },
   {
    "duration": 5,
    "start_time": "2022-08-23T11:44:10.045Z"
   },
   {
    "duration": 4,
    "start_time": "2022-08-23T11:44:13.193Z"
   },
   {
    "duration": 15,
    "start_time": "2022-08-23T11:45:44.240Z"
   },
   {
    "duration": 2,
    "start_time": "2022-08-23T11:47:00.786Z"
   },
   {
    "duration": 716,
    "start_time": "2022-08-23T11:47:00.790Z"
   },
   {
    "duration": 12,
    "start_time": "2022-08-23T11:47:01.508Z"
   },
   {
    "duration": 29,
    "start_time": "2022-08-23T11:47:01.522Z"
   },
   {
    "duration": 82,
    "start_time": "2022-08-23T11:47:01.553Z"
   },
   {
    "duration": 233,
    "start_time": "2022-08-23T11:47:01.636Z"
   },
   {
    "duration": 193,
    "start_time": "2022-08-23T11:47:01.870Z"
   },
   {
    "duration": 117,
    "start_time": "2022-08-23T11:47:02.064Z"
   },
   {
    "duration": 83,
    "start_time": "2022-08-23T11:47:02.182Z"
   },
   {
    "duration": 337,
    "start_time": "2022-08-23T11:47:42.442Z"
   },
   {
    "duration": 14,
    "start_time": "2022-08-23T11:47:54.660Z"
   },
   {
    "duration": 211,
    "start_time": "2022-08-23T11:48:07.637Z"
   },
   {
    "duration": 20,
    "start_time": "2022-08-23T11:48:09.325Z"
   },
   {
    "duration": 2,
    "start_time": "2022-08-23T11:49:11.385Z"
   },
   {
    "duration": 745,
    "start_time": "2022-08-23T11:49:11.389Z"
   },
   {
    "duration": 11,
    "start_time": "2022-08-23T11:49:14.426Z"
   },
   {
    "duration": 7,
    "start_time": "2022-08-23T11:49:21.257Z"
   },
   {
    "duration": 8,
    "start_time": "2022-08-23T11:49:24.728Z"
   },
   {
    "duration": 4,
    "start_time": "2022-08-23T11:50:12.773Z"
   },
   {
    "duration": 12,
    "start_time": "2022-08-23T11:50:18.789Z"
   },
   {
    "duration": 17,
    "start_time": "2022-08-23T11:51:14.178Z"
   },
   {
    "duration": 72,
    "start_time": "2022-08-23T11:51:15.353Z"
   },
   {
    "duration": 231,
    "start_time": "2022-08-23T11:51:18.217Z"
   },
   {
    "duration": 194,
    "start_time": "2022-08-23T11:51:19.058Z"
   },
   {
    "duration": 120,
    "start_time": "2022-08-23T11:51:20.027Z"
   },
   {
    "duration": 95,
    "start_time": "2022-08-23T11:51:21.794Z"
   },
   {
    "duration": 312,
    "start_time": "2022-08-23T11:51:23.354Z"
   },
   {
    "duration": 14,
    "start_time": "2022-08-23T11:51:25.330Z"
   },
   {
    "duration": 234,
    "start_time": "2022-08-23T11:51:34.377Z"
   },
   {
    "duration": 21,
    "start_time": "2022-08-23T11:51:36.939Z"
   },
   {
    "duration": 2,
    "start_time": "2022-08-23T11:52:56.264Z"
   },
   {
    "duration": 694,
    "start_time": "2022-08-23T11:52:56.268Z"
   },
   {
    "duration": 11,
    "start_time": "2022-08-23T11:52:56.964Z"
   },
   {
    "duration": 15,
    "start_time": "2022-08-23T11:52:56.977Z"
   },
   {
    "duration": 30,
    "start_time": "2022-08-23T11:52:56.994Z"
   },
   {
    "duration": 71,
    "start_time": "2022-08-23T11:52:57.026Z"
   },
   {
    "duration": 218,
    "start_time": "2022-08-23T11:52:57.099Z"
   },
   {
    "duration": 191,
    "start_time": "2022-08-23T11:52:57.319Z"
   },
   {
    "duration": 122,
    "start_time": "2022-08-23T11:52:57.512Z"
   },
   {
    "duration": 80,
    "start_time": "2022-08-23T11:52:57.636Z"
   },
   {
    "duration": 312,
    "start_time": "2022-08-23T11:52:57.717Z"
   },
   {
    "duration": 223,
    "start_time": "2022-08-23T11:52:58.030Z"
   },
   {
    "duration": 22,
    "start_time": "2022-08-23T11:52:59.814Z"
   },
   {
    "duration": 2,
    "start_time": "2022-08-23T11:53:19.363Z"
   },
   {
    "duration": 697,
    "start_time": "2022-08-23T11:53:19.367Z"
   },
   {
    "duration": 12,
    "start_time": "2022-08-23T11:53:20.066Z"
   },
   {
    "duration": 12,
    "start_time": "2022-08-23T11:53:20.079Z"
   },
   {
    "duration": 21,
    "start_time": "2022-08-23T11:53:20.093Z"
   },
   {
    "duration": 74,
    "start_time": "2022-08-23T11:53:20.116Z"
   },
   {
    "duration": 239,
    "start_time": "2022-08-23T11:53:20.192Z"
   },
   {
    "duration": 193,
    "start_time": "2022-08-23T11:53:20.432Z"
   },
   {
    "duration": 130,
    "start_time": "2022-08-23T11:53:20.627Z"
   },
   {
    "duration": 76,
    "start_time": "2022-08-23T11:53:20.758Z"
   },
   {
    "duration": 16,
    "start_time": "2022-08-23T11:53:25.307Z"
   },
   {
    "duration": 2,
    "start_time": "2022-08-23T11:53:51.322Z"
   },
   {
    "duration": 686,
    "start_time": "2022-08-23T11:53:51.325Z"
   },
   {
    "duration": 12,
    "start_time": "2022-08-23T11:53:54.053Z"
   },
   {
    "duration": 3,
    "start_time": "2022-08-23T11:53:57.473Z"
   },
   {
    "duration": 2,
    "start_time": "2022-08-23T11:54:19.031Z"
   },
   {
    "duration": 724,
    "start_time": "2022-08-23T11:54:19.035Z"
   },
   {
    "duration": 12,
    "start_time": "2022-08-23T11:54:19.760Z"
   },
   {
    "duration": 3,
    "start_time": "2022-08-23T11:54:19.774Z"
   },
   {
    "duration": 20,
    "start_time": "2022-08-23T11:54:22.546Z"
   },
   {
    "duration": 77,
    "start_time": "2022-08-23T11:54:23.784Z"
   },
   {
    "duration": 72,
    "start_time": "2022-08-23T11:54:28.342Z"
   },
   {
    "duration": 234,
    "start_time": "2022-08-23T11:54:28.749Z"
   },
   {
    "duration": 201,
    "start_time": "2022-08-23T11:54:29.788Z"
   },
   {
    "duration": 116,
    "start_time": "2022-08-23T11:54:30.121Z"
   },
   {
    "duration": 74,
    "start_time": "2022-08-23T11:54:31.840Z"
   },
   {
    "duration": 14,
    "start_time": "2022-08-23T11:54:32.207Z"
   },
   {
    "duration": 280,
    "start_time": "2022-08-23T11:54:34.081Z"
   },
   {
    "duration": 203,
    "start_time": "2022-08-23T11:54:37.168Z"
   },
   {
    "duration": 21,
    "start_time": "2022-08-23T11:54:39.142Z"
   },
   {
    "duration": 8,
    "start_time": "2022-08-23T11:56:23.836Z"
   },
   {
    "duration": 138,
    "start_time": "2022-08-23T11:58:44.173Z"
   },
   {
    "duration": 664,
    "start_time": "2022-08-23T11:58:44.313Z"
   },
   {
    "duration": 12,
    "start_time": "2022-08-23T11:58:44.979Z"
   },
   {
    "duration": 4,
    "start_time": "2022-08-23T11:58:44.992Z"
   },
   {
    "duration": 24,
    "start_time": "2022-08-23T11:58:44.998Z"
   },
   {
    "duration": 79,
    "start_time": "2022-08-23T11:58:45.023Z"
   },
   {
    "duration": 218,
    "start_time": "2022-08-23T11:58:45.104Z"
   },
   {
    "duration": 175,
    "start_time": "2022-08-23T11:58:45.323Z"
   },
   {
    "duration": 126,
    "start_time": "2022-08-23T11:58:45.499Z"
   },
   {
    "duration": 84,
    "start_time": "2022-08-23T11:58:45.627Z"
   },
   {
    "duration": 14,
    "start_time": "2022-08-23T11:58:45.713Z"
   },
   {
    "duration": 293,
    "start_time": "2022-08-23T11:58:45.729Z"
   },
   {
    "duration": 216,
    "start_time": "2022-08-23T11:58:46.024Z"
   },
   {
    "duration": 19,
    "start_time": "2022-08-23T11:58:46.242Z"
   },
   {
    "duration": 88,
    "start_time": "2022-08-23T11:58:48.130Z"
   },
   {
    "duration": 24,
    "start_time": "2022-08-23T11:58:59.103Z"
   },
   {
    "duration": 3,
    "start_time": "2022-08-23T12:00:36.131Z"
   },
   {
    "duration": 4,
    "start_time": "2022-08-23T12:00:42.127Z"
   },
   {
    "duration": 758,
    "start_time": "2022-08-23T12:00:42.132Z"
   },
   {
    "duration": 11,
    "start_time": "2022-08-23T12:00:42.892Z"
   },
   {
    "duration": 24,
    "start_time": "2022-08-23T12:00:42.904Z"
   },
   {
    "duration": 25,
    "start_time": "2022-08-23T12:00:42.930Z"
   },
   {
    "duration": 72,
    "start_time": "2022-08-23T12:00:42.956Z"
   },
   {
    "duration": 216,
    "start_time": "2022-08-23T12:00:43.030Z"
   },
   {
    "duration": 185,
    "start_time": "2022-08-23T12:00:43.247Z"
   },
   {
    "duration": 139,
    "start_time": "2022-08-23T12:00:43.434Z"
   },
   {
    "duration": 94,
    "start_time": "2022-08-23T12:00:43.575Z"
   },
   {
    "duration": 17,
    "start_time": "2022-08-23T12:00:43.670Z"
   },
   {
    "duration": 321,
    "start_time": "2022-08-23T12:00:43.688Z"
   },
   {
    "duration": 239,
    "start_time": "2022-08-23T12:00:44.011Z"
   },
   {
    "duration": 106,
    "start_time": "2022-08-23T12:00:44.252Z"
   },
   {
    "duration": 3,
    "start_time": "2022-08-23T12:02:04.803Z"
   },
   {
    "duration": 3,
    "start_time": "2022-08-23T12:02:10.720Z"
   },
   {
    "duration": 685,
    "start_time": "2022-08-23T12:02:10.724Z"
   },
   {
    "duration": 14,
    "start_time": "2022-08-23T12:02:11.410Z"
   },
   {
    "duration": 17,
    "start_time": "2022-08-23T12:02:11.425Z"
   },
   {
    "duration": 64,
    "start_time": "2022-08-23T12:02:11.445Z"
   },
   {
    "duration": 94,
    "start_time": "2022-08-23T12:02:11.511Z"
   },
   {
    "duration": 252,
    "start_time": "2022-08-23T12:02:11.607Z"
   },
   {
    "duration": 167,
    "start_time": "2022-08-23T12:02:11.861Z"
   },
   {
    "duration": 120,
    "start_time": "2022-08-23T12:02:12.029Z"
   },
   {
    "duration": 80,
    "start_time": "2022-08-23T12:02:12.151Z"
   },
   {
    "duration": 15,
    "start_time": "2022-08-23T12:02:12.232Z"
   },
   {
    "duration": 337,
    "start_time": "2022-08-23T12:02:12.248Z"
   },
   {
    "duration": 273,
    "start_time": "2022-08-23T12:02:12.587Z"
   },
   {
    "duration": 87,
    "start_time": "2022-08-23T12:02:12.862Z"
   },
   {
    "duration": 4,
    "start_time": "2022-08-23T12:03:04.365Z"
   },
   {
    "duration": 50,
    "start_time": "2022-08-23T12:03:18.727Z"
   },
   {
    "duration": 1396,
    "start_time": "2022-08-23T12:03:34.270Z"
   },
   {
    "duration": 985,
    "start_time": "2022-08-23T12:03:35.668Z"
   },
   {
    "duration": 16,
    "start_time": "2022-08-23T12:03:36.654Z"
   },
   {
    "duration": 11,
    "start_time": "2022-08-23T12:03:36.671Z"
   },
   {
    "duration": 27,
    "start_time": "2022-08-23T12:03:36.684Z"
   },
   {
    "duration": 80,
    "start_time": "2022-08-23T12:03:36.712Z"
   },
   {
    "duration": 240,
    "start_time": "2022-08-23T12:03:36.794Z"
   },
   {
    "duration": 211,
    "start_time": "2022-08-23T12:03:37.036Z"
   },
   {
    "duration": 126,
    "start_time": "2022-08-23T12:03:37.249Z"
   },
   {
    "duration": 94,
    "start_time": "2022-08-23T12:03:37.376Z"
   },
   {
    "duration": 17,
    "start_time": "2022-08-23T12:03:37.472Z"
   },
   {
    "duration": 327,
    "start_time": "2022-08-23T12:03:37.491Z"
   },
   {
    "duration": 211,
    "start_time": "2022-08-23T12:03:37.820Z"
   },
   {
    "duration": 102,
    "start_time": "2022-08-23T12:03:38.034Z"
   },
   {
    "duration": 1500,
    "start_time": "2022-08-23T12:04:11.645Z"
   },
   {
    "duration": 997,
    "start_time": "2022-08-23T12:04:13.147Z"
   },
   {
    "duration": 16,
    "start_time": "2022-08-23T12:04:14.145Z"
   },
   {
    "duration": 3,
    "start_time": "2022-08-23T12:04:14.162Z"
   },
   {
    "duration": 22,
    "start_time": "2022-08-23T12:04:14.167Z"
   },
   {
    "duration": 81,
    "start_time": "2022-08-23T12:04:14.190Z"
   },
   {
    "duration": 238,
    "start_time": "2022-08-23T12:04:14.273Z"
   },
   {
    "duration": 203,
    "start_time": "2022-08-23T12:04:14.513Z"
   },
   {
    "duration": 124,
    "start_time": "2022-08-23T12:04:14.717Z"
   },
   {
    "duration": 84,
    "start_time": "2022-08-23T12:04:14.843Z"
   },
   {
    "duration": 16,
    "start_time": "2022-08-23T12:04:14.928Z"
   },
   {
    "duration": 314,
    "start_time": "2022-08-23T12:04:14.946Z"
   },
   {
    "duration": 222,
    "start_time": "2022-08-23T12:04:15.262Z"
   },
   {
    "duration": 91,
    "start_time": "2022-08-23T12:04:15.486Z"
   },
   {
    "duration": 1510,
    "start_time": "2022-08-23T12:04:52.944Z"
   },
   {
    "duration": 991,
    "start_time": "2022-08-23T12:04:54.456Z"
   },
   {
    "duration": 16,
    "start_time": "2022-08-23T12:04:55.449Z"
   },
   {
    "duration": 5,
    "start_time": "2022-08-23T12:04:55.467Z"
   },
   {
    "duration": 26,
    "start_time": "2022-08-23T12:04:55.475Z"
   },
   {
    "duration": 77,
    "start_time": "2022-08-23T12:04:55.502Z"
   },
   {
    "duration": 237,
    "start_time": "2022-08-23T12:04:55.581Z"
   },
   {
    "duration": 205,
    "start_time": "2022-08-23T12:04:55.819Z"
   },
   {
    "duration": 121,
    "start_time": "2022-08-23T12:04:56.026Z"
   },
   {
    "duration": 82,
    "start_time": "2022-08-23T12:04:56.148Z"
   },
   {
    "duration": 16,
    "start_time": "2022-08-23T12:04:56.231Z"
   },
   {
    "duration": 314,
    "start_time": "2022-08-23T12:04:56.248Z"
   },
   {
    "duration": 220,
    "start_time": "2022-08-23T12:04:56.564Z"
   },
   {
    "duration": 92,
    "start_time": "2022-08-23T12:04:56.786Z"
   },
   {
    "duration": 56,
    "start_time": "2022-08-23T12:05:27.969Z"
   },
   {
    "duration": 1557,
    "start_time": "2022-08-23T12:05:31.244Z"
   },
   {
    "duration": 1013,
    "start_time": "2022-08-23T12:05:32.804Z"
   },
   {
    "duration": 16,
    "start_time": "2022-08-23T12:05:33.818Z"
   },
   {
    "duration": 2,
    "start_time": "2022-08-23T12:05:33.836Z"
   },
   {
    "duration": 25,
    "start_time": "2022-08-23T12:05:33.840Z"
   },
   {
    "duration": 89,
    "start_time": "2022-08-23T12:05:33.867Z"
   },
   {
    "duration": 253,
    "start_time": "2022-08-23T12:05:33.958Z"
   },
   {
    "duration": 210,
    "start_time": "2022-08-23T12:05:34.212Z"
   },
   {
    "duration": 127,
    "start_time": "2022-08-23T12:05:34.424Z"
   },
   {
    "duration": 88,
    "start_time": "2022-08-23T12:05:34.553Z"
   },
   {
    "duration": 17,
    "start_time": "2022-08-23T12:05:34.643Z"
   },
   {
    "duration": 325,
    "start_time": "2022-08-23T12:05:34.662Z"
   },
   {
    "duration": 223,
    "start_time": "2022-08-23T12:05:34.988Z"
   },
   {
    "duration": 87,
    "start_time": "2022-08-23T12:05:35.214Z"
   },
   {
    "duration": 1547,
    "start_time": "2022-08-23T12:06:02.600Z"
   },
   {
    "duration": 1007,
    "start_time": "2022-08-23T12:06:04.149Z"
   },
   {
    "duration": 15,
    "start_time": "2022-08-23T12:06:05.157Z"
   },
   {
    "duration": 6,
    "start_time": "2022-08-23T12:06:05.174Z"
   },
   {
    "duration": 28,
    "start_time": "2022-08-23T12:06:05.182Z"
   },
   {
    "duration": 78,
    "start_time": "2022-08-23T12:06:05.212Z"
   },
   {
    "duration": 258,
    "start_time": "2022-08-23T12:06:05.292Z"
   },
   {
    "duration": 205,
    "start_time": "2022-08-23T12:06:05.552Z"
   },
   {
    "duration": 119,
    "start_time": "2022-08-23T12:06:05.759Z"
   },
   {
    "duration": 89,
    "start_time": "2022-08-23T12:06:05.880Z"
   },
   {
    "duration": 16,
    "start_time": "2022-08-23T12:06:05.971Z"
   },
   {
    "duration": 324,
    "start_time": "2022-08-23T12:06:05.989Z"
   },
   {
    "duration": 227,
    "start_time": "2022-08-23T12:06:06.315Z"
   },
   {
    "duration": 87,
    "start_time": "2022-08-23T12:06:10.037Z"
   },
   {
    "duration": 1570,
    "start_time": "2022-08-23T12:07:24.382Z"
   },
   {
    "duration": 1001,
    "start_time": "2022-08-23T12:07:25.954Z"
   },
   {
    "duration": 16,
    "start_time": "2022-08-23T12:07:26.956Z"
   },
   {
    "duration": 3,
    "start_time": "2022-08-23T12:07:26.973Z"
   },
   {
    "duration": 41,
    "start_time": "2022-08-23T12:07:26.977Z"
   },
   {
    "duration": 89,
    "start_time": "2022-08-23T12:07:27.019Z"
   },
   {
    "duration": 242,
    "start_time": "2022-08-23T12:07:27.109Z"
   },
   {
    "duration": 193,
    "start_time": "2022-08-23T12:07:27.353Z"
   },
   {
    "duration": 127,
    "start_time": "2022-08-23T12:07:27.548Z"
   },
   {
    "duration": 88,
    "start_time": "2022-08-23T12:07:27.678Z"
   },
   {
    "duration": 17,
    "start_time": "2022-08-23T12:07:27.768Z"
   },
   {
    "duration": 314,
    "start_time": "2022-08-23T12:07:27.786Z"
   },
   {
    "duration": 223,
    "start_time": "2022-08-23T12:07:28.101Z"
   },
   {
    "duration": 94,
    "start_time": "2022-08-23T12:07:28.325Z"
   },
   {
    "duration": 1518,
    "start_time": "2022-08-23T12:09:14.015Z"
   },
   {
    "duration": 977,
    "start_time": "2022-08-23T12:09:15.535Z"
   },
   {
    "duration": 17,
    "start_time": "2022-08-23T12:09:16.513Z"
   },
   {
    "duration": 3,
    "start_time": "2022-08-23T12:09:16.532Z"
   },
   {
    "duration": 26,
    "start_time": "2022-08-23T12:09:16.537Z"
   },
   {
    "duration": 96,
    "start_time": "2022-08-23T12:09:16.564Z"
   },
   {
    "duration": 251,
    "start_time": "2022-08-23T12:09:16.662Z"
   },
   {
    "duration": 210,
    "start_time": "2022-08-23T12:09:16.915Z"
   },
   {
    "duration": 121,
    "start_time": "2022-08-23T12:09:17.127Z"
   },
   {
    "duration": 85,
    "start_time": "2022-08-23T12:09:17.250Z"
   },
   {
    "duration": 15,
    "start_time": "2022-08-23T12:09:17.337Z"
   },
   {
    "duration": 316,
    "start_time": "2022-08-23T12:09:17.354Z"
   },
   {
    "duration": 217,
    "start_time": "2022-08-23T12:09:17.672Z"
   },
   {
    "duration": 90,
    "start_time": "2022-08-23T12:09:17.892Z"
   },
   {
    "duration": 2185,
    "start_time": "2022-08-23T12:15:59.912Z"
   },
   {
    "duration": 1060,
    "start_time": "2022-08-23T12:16:02.099Z"
   },
   {
    "duration": 15,
    "start_time": "2022-08-23T12:16:03.161Z"
   },
   {
    "duration": 12,
    "start_time": "2022-08-23T12:16:03.177Z"
   },
   {
    "duration": 38,
    "start_time": "2022-08-23T12:16:03.191Z"
   },
   {
    "duration": 100,
    "start_time": "2022-08-23T12:16:03.231Z"
   },
   {
    "duration": 255,
    "start_time": "2022-08-23T12:16:03.332Z"
   },
   {
    "duration": 209,
    "start_time": "2022-08-23T12:16:03.588Z"
   },
   {
    "duration": 119,
    "start_time": "2022-08-23T12:16:03.798Z"
   },
   {
    "duration": 79,
    "start_time": "2022-08-23T12:16:03.919Z"
   },
   {
    "duration": 23,
    "start_time": "2022-08-23T12:16:04.000Z"
   },
   {
    "duration": 336,
    "start_time": "2022-08-23T12:16:04.025Z"
   },
   {
    "duration": 219,
    "start_time": "2022-08-23T12:16:04.362Z"
   },
   {
    "duration": 94,
    "start_time": "2022-08-23T12:16:04.583Z"
   },
   {
    "duration": 2216,
    "start_time": "2022-08-23T12:16:48.816Z"
   },
   {
    "duration": 996,
    "start_time": "2022-08-23T12:16:51.034Z"
   },
   {
    "duration": 16,
    "start_time": "2022-08-23T12:16:52.031Z"
   },
   {
    "duration": 3,
    "start_time": "2022-08-23T12:16:52.049Z"
   },
   {
    "duration": 26,
    "start_time": "2022-08-23T12:16:52.054Z"
   },
   {
    "duration": 74,
    "start_time": "2022-08-23T12:16:52.082Z"
   },
   {
    "duration": 255,
    "start_time": "2022-08-23T12:16:52.157Z"
   },
   {
    "duration": 251,
    "start_time": "2022-08-23T12:16:52.413Z"
   },
   {
    "duration": 164,
    "start_time": "2022-08-23T12:16:52.666Z"
   },
   {
    "duration": 92,
    "start_time": "2022-08-23T12:16:52.832Z"
   },
   {
    "duration": 18,
    "start_time": "2022-08-23T12:16:52.926Z"
   },
   {
    "duration": 344,
    "start_time": "2022-08-23T12:16:52.945Z"
   },
   {
    "duration": 222,
    "start_time": "2022-08-23T12:16:53.291Z"
   },
   {
    "duration": 95,
    "start_time": "2022-08-23T12:16:53.516Z"
   },
   {
    "duration": 2149,
    "start_time": "2022-08-23T12:17:14.539Z"
   },
   {
    "duration": 1000,
    "start_time": "2022-08-23T12:17:16.690Z"
   },
   {
    "duration": 15,
    "start_time": "2022-08-23T12:17:17.692Z"
   },
   {
    "duration": 4,
    "start_time": "2022-08-23T12:17:17.708Z"
   },
   {
    "duration": 32,
    "start_time": "2022-08-23T12:17:17.714Z"
   },
   {
    "duration": 76,
    "start_time": "2022-08-23T12:17:17.748Z"
   },
   {
    "duration": 244,
    "start_time": "2022-08-23T12:17:17.825Z"
   },
   {
    "duration": 203,
    "start_time": "2022-08-23T12:17:18.070Z"
   },
   {
    "duration": 116,
    "start_time": "2022-08-23T12:17:18.275Z"
   },
   {
    "duration": 86,
    "start_time": "2022-08-23T12:17:18.393Z"
   },
   {
    "duration": 16,
    "start_time": "2022-08-23T12:17:18.480Z"
   },
   {
    "duration": 309,
    "start_time": "2022-08-23T12:17:18.497Z"
   },
   {
    "duration": 223,
    "start_time": "2022-08-23T12:17:18.808Z"
   },
   {
    "duration": 2,
    "start_time": "2022-08-23T12:17:23.195Z"
   },
   {
    "duration": 48,
    "start_time": "2022-08-23T12:18:00.187Z"
   },
   {
    "duration": 2394,
    "start_time": "2022-08-23T12:18:12.412Z"
   },
   {
    "duration": 1006,
    "start_time": "2022-08-23T12:18:14.808Z"
   },
   {
    "duration": 15,
    "start_time": "2022-08-23T12:18:15.816Z"
   },
   {
    "duration": 3,
    "start_time": "2022-08-23T12:18:15.832Z"
   },
   {
    "duration": 29,
    "start_time": "2022-08-23T12:18:15.837Z"
   },
   {
    "duration": 97,
    "start_time": "2022-08-23T12:18:15.868Z"
   },
   {
    "duration": 234,
    "start_time": "2022-08-23T12:18:15.967Z"
   },
   {
    "duration": 199,
    "start_time": "2022-08-23T12:18:16.202Z"
   },
   {
    "duration": 126,
    "start_time": "2022-08-23T12:18:16.402Z"
   },
   {
    "duration": 91,
    "start_time": "2022-08-23T12:18:16.530Z"
   },
   {
    "duration": 15,
    "start_time": "2022-08-23T12:18:16.622Z"
   },
   {
    "duration": 316,
    "start_time": "2022-08-23T12:18:16.639Z"
   },
   {
    "duration": 217,
    "start_time": "2022-08-23T12:18:16.957Z"
   },
   {
    "duration": 2,
    "start_time": "2022-08-23T12:18:17.176Z"
   },
   {
    "duration": 2100,
    "start_time": "2022-08-23T12:20:19.028Z"
   },
   {
    "duration": 1016,
    "start_time": "2022-08-23T12:20:21.130Z"
   },
   {
    "duration": 14,
    "start_time": "2022-08-23T12:20:22.148Z"
   },
   {
    "duration": 2,
    "start_time": "2022-08-23T12:20:22.164Z"
   },
   {
    "duration": 25,
    "start_time": "2022-08-23T12:20:22.168Z"
   },
   {
    "duration": 77,
    "start_time": "2022-08-23T12:20:22.194Z"
   },
   {
    "duration": 269,
    "start_time": "2022-08-23T12:20:22.273Z"
   },
   {
    "duration": 246,
    "start_time": "2022-08-23T12:20:22.544Z"
   },
   {
    "duration": 124,
    "start_time": "2022-08-23T12:20:22.791Z"
   },
   {
    "duration": 79,
    "start_time": "2022-08-23T12:20:22.916Z"
   },
   {
    "duration": 27,
    "start_time": "2022-08-23T12:20:22.997Z"
   },
   {
    "duration": 308,
    "start_time": "2022-08-23T12:20:23.025Z"
   },
   {
    "duration": 5366,
    "start_time": "2022-08-23T12:22:40.611Z"
   },
   {
    "duration": 101,
    "start_time": "2022-08-23T12:22:45.979Z"
   },
   {
    "duration": 7,
    "start_time": "2022-08-23T12:22:46.081Z"
   },
   {
    "duration": 814,
    "start_time": "2022-08-23T12:22:46.090Z"
   },
   {
    "duration": 61,
    "start_time": "2022-08-23T12:22:46.906Z"
   },
   {
    "duration": 36,
    "start_time": "2022-08-23T12:22:46.968Z"
   },
   {
    "duration": 70,
    "start_time": "2022-08-23T12:22:47.006Z"
   },
   {
    "duration": 97,
    "start_time": "2022-08-23T12:22:47.078Z"
   },
   {
    "duration": 236,
    "start_time": "2022-08-23T12:22:47.176Z"
   },
   {
    "duration": 193,
    "start_time": "2022-08-23T12:22:47.414Z"
   },
   {
    "duration": 145,
    "start_time": "2022-08-23T12:22:47.608Z"
   },
   {
    "duration": 103,
    "start_time": "2022-08-23T12:22:47.755Z"
   },
   {
    "duration": 44,
    "start_time": "2022-08-23T12:22:47.860Z"
   },
   {
    "duration": 322,
    "start_time": "2022-08-23T12:22:47.906Z"
   },
   {
    "duration": 117,
    "start_time": "2022-08-23T12:22:51.345Z"
   },
   {
    "duration": 146,
    "start_time": "2022-08-23T12:22:53.221Z"
   },
   {
    "duration": 53,
    "start_time": "2022-08-23T12:23:27.681Z"
   },
   {
    "duration": 53,
    "start_time": "2022-08-23T12:23:39.955Z"
   },
   {
    "duration": 2125,
    "start_time": "2022-08-23T12:24:38.852Z"
   },
   {
    "duration": 37,
    "start_time": "2022-08-23T12:24:40.979Z"
   },
   {
    "duration": 5,
    "start_time": "2022-08-23T12:24:41.018Z"
   },
   {
    "duration": 775,
    "start_time": "2022-08-23T12:24:41.025Z"
   },
   {
    "duration": 47,
    "start_time": "2022-08-23T12:24:41.802Z"
   },
   {
    "duration": 29,
    "start_time": "2022-08-23T12:24:41.850Z"
   },
   {
    "duration": 55,
    "start_time": "2022-08-23T12:24:44.470Z"
   },
   {
    "duration": 96,
    "start_time": "2022-08-23T12:24:46.154Z"
   },
   {
    "duration": 243,
    "start_time": "2022-08-23T12:24:49.101Z"
   },
   {
    "duration": 215,
    "start_time": "2022-08-23T12:24:51.899Z"
   },
   {
    "duration": 141,
    "start_time": "2022-08-23T12:24:54.168Z"
   },
   {
    "duration": 109,
    "start_time": "2022-08-23T12:24:56.456Z"
   },
   {
    "duration": 64,
    "start_time": "2022-08-23T12:24:58.135Z"
   },
   {
    "duration": 2093,
    "start_time": "2022-08-23T12:25:16.195Z"
   },
   {
    "duration": 31,
    "start_time": "2022-08-23T12:25:18.290Z"
   },
   {
    "duration": 6,
    "start_time": "2022-08-23T12:25:18.323Z"
   },
   {
    "duration": 747,
    "start_time": "2022-08-23T12:25:18.331Z"
   },
   {
    "duration": 43,
    "start_time": "2022-08-23T12:25:19.080Z"
   },
   {
    "duration": 30,
    "start_time": "2022-08-23T12:25:19.124Z"
   },
   {
    "duration": 26,
    "start_time": "2022-08-23T12:26:03.645Z"
   },
   {
    "duration": 45,
    "start_time": "2022-08-23T12:26:09.348Z"
   },
   {
    "duration": 185,
    "start_time": "2022-08-23T12:26:25.690Z"
   },
   {
    "duration": 235,
    "start_time": "2022-08-23T12:26:30.921Z"
   },
   {
    "duration": 45,
    "start_time": "2022-08-23T12:26:34.752Z"
   },
   {
    "duration": 2111,
    "start_time": "2022-08-23T12:26:46.634Z"
   },
   {
    "duration": 31,
    "start_time": "2022-08-23T12:26:48.747Z"
   },
   {
    "duration": 8,
    "start_time": "2022-08-23T12:26:48.779Z"
   },
   {
    "duration": 798,
    "start_time": "2022-08-23T12:26:48.788Z"
   },
   {
    "duration": 59,
    "start_time": "2022-08-23T12:26:49.588Z"
   },
   {
    "duration": 34,
    "start_time": "2022-08-23T12:26:49.649Z"
   },
   {
    "duration": 29,
    "start_time": "2022-08-23T12:26:49.685Z"
   },
   {
    "duration": 127,
    "start_time": "2022-08-23T12:26:49.715Z"
   },
   {
    "duration": 251,
    "start_time": "2022-08-23T12:26:49.843Z"
   },
   {
    "duration": 224,
    "start_time": "2022-08-23T12:26:50.095Z"
   },
   {
    "duration": 144,
    "start_time": "2022-08-23T12:26:50.320Z"
   },
   {
    "duration": 57,
    "start_time": "2022-08-23T12:26:55.324Z"
   },
   {
    "duration": 114,
    "start_time": "2022-08-23T12:27:00.030Z"
   },
   {
    "duration": 60,
    "start_time": "2022-08-23T12:27:01.209Z"
   },
   {
    "duration": 98,
    "start_time": "2022-08-23T12:27:12.657Z"
   },
   {
    "duration": 43,
    "start_time": "2022-08-23T12:27:13.995Z"
   },
   {
    "duration": 78,
    "start_time": "2022-08-23T12:27:42.202Z"
   },
   {
    "duration": 51,
    "start_time": "2022-08-23T12:27:43.821Z"
   },
   {
    "duration": 2120,
    "start_time": "2022-08-23T12:27:46.777Z"
   },
   {
    "duration": 35,
    "start_time": "2022-08-23T12:27:48.900Z"
   },
   {
    "duration": 6,
    "start_time": "2022-08-23T12:27:48.936Z"
   },
   {
    "duration": 759,
    "start_time": "2022-08-23T12:27:48.944Z"
   },
   {
    "duration": 37,
    "start_time": "2022-08-23T12:27:49.705Z"
   },
   {
    "duration": 32,
    "start_time": "2022-08-23T12:27:49.744Z"
   },
   {
    "duration": 19,
    "start_time": "2022-08-23T12:27:49.777Z"
   },
   {
    "duration": 123,
    "start_time": "2022-08-23T12:27:49.798Z"
   },
   {
    "duration": 236,
    "start_time": "2022-08-23T12:27:49.923Z"
   },
   {
    "duration": 246,
    "start_time": "2022-08-23T12:27:50.160Z"
   },
   {
    "duration": 239,
    "start_time": "2022-08-23T12:27:50.407Z"
   },
   {
    "duration": 146,
    "start_time": "2022-08-23T12:27:52.495Z"
   },
   {
    "duration": 44,
    "start_time": "2022-08-23T12:27:54.199Z"
   },
   {
    "duration": 97,
    "start_time": "2022-08-23T12:29:17.455Z"
   },
   {
    "duration": 88,
    "start_time": "2022-08-23T12:29:23.792Z"
   },
   {
    "duration": 183,
    "start_time": "2022-08-23T12:29:29.015Z"
   },
   {
    "duration": 63,
    "start_time": "2022-08-23T12:29:30.498Z"
   },
   {
    "duration": 2168,
    "start_time": "2022-08-23T12:30:44.223Z"
   },
   {
    "duration": 30,
    "start_time": "2022-08-23T12:30:46.394Z"
   },
   {
    "duration": 7,
    "start_time": "2022-08-23T12:30:46.426Z"
   },
   {
    "duration": 752,
    "start_time": "2022-08-23T12:30:46.435Z"
   },
   {
    "duration": 45,
    "start_time": "2022-08-23T12:30:47.189Z"
   },
   {
    "duration": 43,
    "start_time": "2022-08-23T12:30:47.235Z"
   },
   {
    "duration": 26,
    "start_time": "2022-08-23T12:30:47.280Z"
   },
   {
    "duration": 115,
    "start_time": "2022-08-23T12:30:47.307Z"
   },
   {
    "duration": 265,
    "start_time": "2022-08-23T12:30:47.423Z"
   },
   {
    "duration": 243,
    "start_time": "2022-08-23T12:30:47.690Z"
   },
   {
    "duration": 147,
    "start_time": "2022-08-23T12:30:47.935Z"
   },
   {
    "duration": 103,
    "start_time": "2022-08-23T12:30:50.840Z"
   },
   {
    "duration": 33,
    "start_time": "2022-08-23T12:30:52.468Z"
   },
   {
    "duration": 28,
    "start_time": "2022-08-23T12:30:56.001Z"
   },
   {
    "duration": 44,
    "start_time": "2022-08-23T12:30:59.387Z"
   },
   {
    "duration": 2173,
    "start_time": "2022-08-23T12:31:18.312Z"
   },
   {
    "duration": 33,
    "start_time": "2022-08-23T12:31:20.488Z"
   },
   {
    "duration": 7,
    "start_time": "2022-08-23T12:31:20.523Z"
   },
   {
    "duration": 786,
    "start_time": "2022-08-23T12:31:20.532Z"
   },
   {
    "duration": 107,
    "start_time": "2022-08-23T12:31:21.320Z"
   },
   {
    "duration": 103,
    "start_time": "2022-08-23T12:31:21.429Z"
   },
   {
    "duration": 19,
    "start_time": "2022-08-23T12:31:21.533Z"
   },
   {
    "duration": 160,
    "start_time": "2022-08-23T12:31:21.554Z"
   },
   {
    "duration": 386,
    "start_time": "2022-08-23T12:31:21.716Z"
   },
   {
    "duration": 263,
    "start_time": "2022-08-23T12:31:22.104Z"
   },
   {
    "duration": 229,
    "start_time": "2022-08-23T12:31:22.369Z"
   },
   {
    "duration": 2043,
    "start_time": "2022-08-23T12:32:30.482Z"
   },
   {
    "duration": 251,
    "start_time": "2022-08-23T12:32:32.528Z"
   },
   {
    "duration": 1476,
    "start_time": "2022-08-23T12:32:32.781Z"
   },
   {
    "duration": 832,
    "start_time": "2022-08-23T12:32:34.259Z"
   },
   {
    "duration": 50,
    "start_time": "2022-08-23T12:32:35.093Z"
   },
   {
    "duration": 36,
    "start_time": "2022-08-23T12:32:35.145Z"
   },
   {
    "duration": 28,
    "start_time": "2022-08-23T12:32:35.182Z"
   },
   {
    "duration": 120,
    "start_time": "2022-08-23T12:32:35.212Z"
   },
   {
    "duration": 276,
    "start_time": "2022-08-23T12:32:35.334Z"
   },
   {
    "duration": 255,
    "start_time": "2022-08-23T12:32:35.612Z"
   },
   {
    "duration": 156,
    "start_time": "2022-08-23T12:32:35.869Z"
   },
   {
    "duration": 107,
    "start_time": "2022-08-23T12:32:38.307Z"
   },
   {
    "duration": 36,
    "start_time": "2022-08-23T12:32:39.922Z"
   },
   {
    "duration": 38,
    "start_time": "2022-08-23T12:32:47.812Z"
   },
   {
    "duration": 98,
    "start_time": "2022-08-23T12:32:50.539Z"
   },
   {
    "duration": 84,
    "start_time": "2022-08-23T12:32:59.009Z"
   },
   {
    "duration": 54,
    "start_time": "2022-08-23T12:33:00.613Z"
   },
   {
    "duration": 63,
    "start_time": "2022-08-23T12:33:05.814Z"
   },
   {
    "duration": 100,
    "start_time": "2022-08-23T12:33:11.493Z"
   },
   {
    "duration": 370,
    "start_time": "2022-08-23T12:33:11.921Z"
   },
   {
    "duration": 120,
    "start_time": "2022-08-23T12:33:12.924Z"
   },
   {
    "duration": 33,
    "start_time": "2022-08-23T12:33:13.328Z"
   },
   {
    "duration": 141,
    "start_time": "2022-08-23T12:33:14.585Z"
   },
   {
    "duration": 106,
    "start_time": "2022-08-23T12:33:29.613Z"
   },
   {
    "duration": 74,
    "start_time": "2022-08-23T12:34:03.629Z"
   },
   {
    "duration": 59,
    "start_time": "2022-08-23T12:34:07.776Z"
   },
   {
    "duration": 43,
    "start_time": "2022-08-23T12:34:29.687Z"
   },
   {
    "duration": 140,
    "start_time": "2022-08-23T12:34:36.127Z"
   },
   {
    "duration": 33,
    "start_time": "2022-08-23T12:34:40.226Z"
   },
   {
    "duration": 36,
    "start_time": "2022-08-23T12:34:48.645Z"
   },
   {
    "duration": 5577,
    "start_time": "2022-08-25T11:27:51.680Z"
   },
   {
    "duration": 215,
    "start_time": "2022-08-25T11:27:57.260Z"
   },
   {
    "duration": 1856,
    "start_time": "2022-08-25T11:27:57.477Z"
   },
   {
    "duration": 3956,
    "start_time": "2022-08-25T11:27:59.335Z"
   },
   {
    "duration": 57,
    "start_time": "2022-08-25T11:28:03.294Z"
   },
   {
    "duration": 59,
    "start_time": "2022-08-25T11:28:03.353Z"
   },
   {
    "duration": 27,
    "start_time": "2022-08-25T11:28:03.414Z"
   },
   {
    "duration": 210,
    "start_time": "2022-08-25T11:28:03.442Z"
   },
   {
    "duration": 394,
    "start_time": "2022-08-25T11:28:03.655Z"
   },
   {
    "duration": 315,
    "start_time": "2022-08-25T11:28:04.050Z"
   },
   {
    "duration": 196,
    "start_time": "2022-08-25T11:28:04.367Z"
   },
   {
    "duration": 182,
    "start_time": "2022-08-25T11:28:04.565Z"
   },
   {
    "duration": 80,
    "start_time": "2022-08-25T11:28:04.748Z"
   },
   {
    "duration": 512,
    "start_time": "2022-08-25T11:28:04.832Z"
   },
   {
    "duration": 196,
    "start_time": "2022-08-25T11:28:05.346Z"
   },
   {
    "duration": 166,
    "start_time": "2022-08-25T11:28:21.296Z"
   },
   {
    "duration": 293,
    "start_time": "2022-08-25T11:35:49.286Z"
   },
   {
    "duration": 93,
    "start_time": "2022-08-25T11:35:55.646Z"
   },
   {
    "duration": 77,
    "start_time": "2022-08-25T11:36:01.766Z"
   },
   {
    "duration": 142,
    "start_time": "2022-08-25T11:36:38.627Z"
   },
   {
    "duration": 2694,
    "start_time": "2022-08-25T11:42:24.979Z"
   },
   {
    "duration": 45,
    "start_time": "2022-08-25T11:42:27.676Z"
   },
   {
    "duration": 11,
    "start_time": "2022-08-25T11:42:27.723Z"
   },
   {
    "duration": 935,
    "start_time": "2022-08-25T11:42:27.736Z"
   },
   {
    "duration": 64,
    "start_time": "2022-08-25T11:42:28.675Z"
   },
   {
    "duration": 44,
    "start_time": "2022-08-25T11:42:28.741Z"
   },
   {
    "duration": 20,
    "start_time": "2022-08-25T11:42:28.788Z"
   },
   {
    "duration": 121,
    "start_time": "2022-08-25T11:42:28.810Z"
   },
   {
    "duration": 277,
    "start_time": "2022-08-25T11:42:28.933Z"
   },
   {
    "duration": 248,
    "start_time": "2022-08-25T11:42:29.212Z"
   },
   {
    "duration": 189,
    "start_time": "2022-08-25T11:42:29.462Z"
   },
   {
    "duration": 122,
    "start_time": "2022-08-25T11:42:29.652Z"
   },
   {
    "duration": 65,
    "start_time": "2022-08-25T11:42:29.776Z"
   },
   {
    "duration": 584,
    "start_time": "2022-08-25T11:42:29.845Z"
   },
   {
    "duration": 212,
    "start_time": "2022-08-25T11:42:30.431Z"
   },
   {
    "duration": 252,
    "start_time": "2022-08-25T11:42:30.645Z"
   },
   {
    "duration": 121,
    "start_time": "2022-08-25T11:42:30.899Z"
   },
   {
    "duration": 2421,
    "start_time": "2022-08-25T11:45:53.690Z"
   },
   {
    "duration": 52,
    "start_time": "2022-08-25T11:45:56.114Z"
   },
   {
    "duration": 16,
    "start_time": "2022-08-25T11:45:56.168Z"
   },
   {
    "duration": 1018,
    "start_time": "2022-08-25T11:45:56.189Z"
   },
   {
    "duration": 52,
    "start_time": "2022-08-25T11:45:57.210Z"
   },
   {
    "duration": 57,
    "start_time": "2022-08-25T11:45:57.264Z"
   },
   {
    "duration": 21,
    "start_time": "2022-08-25T11:45:57.323Z"
   },
   {
    "duration": 136,
    "start_time": "2022-08-25T11:45:57.346Z"
   },
   {
    "duration": 306,
    "start_time": "2022-08-25T11:45:57.484Z"
   },
   {
    "duration": 259,
    "start_time": "2022-08-25T11:45:57.792Z"
   },
   {
    "duration": 198,
    "start_time": "2022-08-25T11:45:58.053Z"
   },
   {
    "duration": 129,
    "start_time": "2022-08-25T11:45:58.253Z"
   },
   {
    "duration": 59,
    "start_time": "2022-08-25T11:45:58.383Z"
   },
   {
    "duration": 447,
    "start_time": "2022-08-25T11:45:58.444Z"
   },
   {
    "duration": 165,
    "start_time": "2022-08-25T11:45:58.892Z"
   },
   {
    "duration": 254,
    "start_time": "2022-08-25T11:45:59.058Z"
   },
   {
    "duration": 124,
    "start_time": "2022-08-25T11:45:59.314Z"
   },
   {
    "duration": 25,
    "start_time": "2022-08-25T11:46:56.426Z"
   },
   {
    "duration": 2637,
    "start_time": "2022-08-25T11:47:56.397Z"
   },
   {
    "duration": 68,
    "start_time": "2022-08-25T11:47:59.037Z"
   },
   {
    "duration": 102,
    "start_time": "2022-08-25T11:47:59.106Z"
   },
   {
    "duration": 939,
    "start_time": "2022-08-25T11:47:59.211Z"
   },
   {
    "duration": 87,
    "start_time": "2022-08-25T11:48:00.154Z"
   },
   {
    "duration": 113,
    "start_time": "2022-08-25T11:48:00.242Z"
   },
   {
    "duration": 32,
    "start_time": "2022-08-25T11:48:00.357Z"
   },
   {
    "duration": 139,
    "start_time": "2022-08-25T11:48:00.391Z"
   },
   {
    "duration": 307,
    "start_time": "2022-08-25T11:48:00.532Z"
   },
   {
    "duration": 304,
    "start_time": "2022-08-25T11:48:00.841Z"
   },
   {
    "duration": 218,
    "start_time": "2022-08-25T11:48:01.147Z"
   },
   {
    "duration": 182,
    "start_time": "2022-08-25T11:48:01.367Z"
   },
   {
    "duration": 75,
    "start_time": "2022-08-25T11:48:01.551Z"
   },
   {
    "duration": 567,
    "start_time": "2022-08-25T11:48:01.630Z"
   },
   {
    "duration": 228,
    "start_time": "2022-08-25T11:48:02.200Z"
   },
   {
    "duration": 278,
    "start_time": "2022-08-25T11:48:02.430Z"
   },
   {
    "duration": 132,
    "start_time": "2022-08-25T11:48:02.710Z"
   },
   {
    "duration": 74,
    "start_time": "2022-08-25T11:48:02.844Z"
   },
   {
    "duration": 15,
    "start_time": "2022-08-25T11:48:36.460Z"
   },
   {
    "duration": 56,
    "start_time": "2022-08-25T11:48:41.107Z"
   },
   {
    "duration": 63,
    "start_time": "2022-08-25T11:49:11.952Z"
   },
   {
    "duration": 17,
    "start_time": "2022-08-25T11:49:15.449Z"
   },
   {
    "duration": 24,
    "start_time": "2022-08-25T11:49:31.100Z"
   },
   {
    "duration": 19302,
    "start_time": "2022-08-25T11:49:55.117Z"
   },
   {
    "duration": 19111,
    "start_time": "2022-08-25T11:50:27.030Z"
   },
   {
    "duration": 48,
    "start_time": "2022-08-25T11:50:50.301Z"
   },
   {
    "duration": 19314,
    "start_time": "2022-08-25T11:50:51.789Z"
   },
   {
    "duration": 19481,
    "start_time": "2022-08-25T11:51:32.523Z"
   },
   {
    "duration": 19863,
    "start_time": "2022-08-25T11:52:25.027Z"
   },
   {
    "duration": 46,
    "start_time": "2022-08-25T11:52:46.605Z"
   },
   {
    "duration": 80,
    "start_time": "2022-08-25T11:52:48.141Z"
   },
   {
    "duration": 74,
    "start_time": "2022-08-25T11:53:14.762Z"
   },
   {
    "duration": 2596,
    "start_time": "2022-08-25T11:53:19.199Z"
   },
   {
    "duration": 46,
    "start_time": "2022-08-25T11:53:21.801Z"
   },
   {
    "duration": 51,
    "start_time": "2022-08-25T11:53:21.849Z"
   },
   {
    "duration": 957,
    "start_time": "2022-08-25T11:53:21.901Z"
   },
   {
    "duration": 67,
    "start_time": "2022-08-25T11:53:22.860Z"
   },
   {
    "duration": 53,
    "start_time": "2022-08-25T11:53:22.929Z"
   },
   {
    "duration": 23,
    "start_time": "2022-08-25T11:53:22.985Z"
   },
   {
    "duration": 144,
    "start_time": "2022-08-25T11:53:23.010Z"
   },
   {
    "duration": 299,
    "start_time": "2022-08-25T11:53:23.156Z"
   },
   {
    "duration": 290,
    "start_time": "2022-08-25T11:53:23.456Z"
   },
   {
    "duration": 201,
    "start_time": "2022-08-25T11:53:23.748Z"
   },
   {
    "duration": 146,
    "start_time": "2022-08-25T11:53:23.951Z"
   },
   {
    "duration": 210,
    "start_time": "2022-08-25T11:53:24.099Z"
   },
   {
    "duration": 448,
    "start_time": "2022-08-25T11:53:24.313Z"
   },
   {
    "duration": 187,
    "start_time": "2022-08-25T11:53:24.763Z"
   },
   {
    "duration": 265,
    "start_time": "2022-08-25T11:53:24.951Z"
   },
   {
    "duration": 129,
    "start_time": "2022-08-25T11:53:25.217Z"
   },
   {
    "duration": 93,
    "start_time": "2022-08-25T11:53:25.348Z"
   },
   {
    "duration": 60,
    "start_time": "2022-08-25T11:53:42.189Z"
   },
   {
    "duration": 21324,
    "start_time": "2022-08-25T11:53:43.623Z"
   },
   {
    "duration": 22492,
    "start_time": "2022-08-25T11:54:21.903Z"
   },
   {
    "duration": 22092,
    "start_time": "2022-08-25T11:54:52.039Z"
   },
   {
    "duration": 22410,
    "start_time": "2022-08-25T11:56:25.696Z"
   },
   {
    "duration": 22995,
    "start_time": "2022-08-25T11:58:19.747Z"
   },
   {
    "duration": 22070,
    "start_time": "2022-08-25T11:59:05.811Z"
   },
   {
    "duration": 137,
    "start_time": "2022-08-25T11:59:37.060Z"
   },
   {
    "duration": 138,
    "start_time": "2022-08-25T12:00:17.826Z"
   },
   {
    "duration": 132,
    "start_time": "2022-08-25T12:01:54.830Z"
   },
   {
    "duration": 150,
    "start_time": "2022-08-25T12:02:09.121Z"
   },
   {
    "duration": 22087,
    "start_time": "2022-08-25T12:02:22.035Z"
   },
   {
    "duration": 330,
    "start_time": "2022-08-25T12:03:01.093Z"
   },
   {
    "duration": 21816,
    "start_time": "2022-08-25T12:03:06.213Z"
   },
   {
    "duration": 26,
    "start_time": "2022-08-25T12:04:21.553Z"
   },
   {
    "duration": 45,
    "start_time": "2022-08-25T12:04:24.699Z"
   },
   {
    "duration": 21508,
    "start_time": "2022-08-25T12:04:25.893Z"
   },
   {
    "duration": 8825,
    "start_time": "2022-08-25T12:05:44.395Z"
   },
   {
    "duration": 129658,
    "start_time": "2022-08-25T12:06:26.060Z"
   },
   {
    "duration": 1943517,
    "start_time": "2022-08-25T12:08:42.541Z"
   },
   {
    "duration": 41647,
    "start_time": "2022-08-25T12:41:50.168Z"
   },
   {
    "duration": 16441,
    "start_time": "2022-08-25T12:42:36.362Z"
   },
   {
    "duration": 1498,
    "start_time": "2022-08-25T12:45:20.262Z"
   },
   {
    "duration": 2414,
    "start_time": "2022-08-25T12:45:35.865Z"
   },
   {
    "duration": 281,
    "start_time": "2022-08-25T12:45:38.281Z"
   },
   {
    "duration": 15,
    "start_time": "2022-08-25T12:45:38.564Z"
   },
   {
    "duration": 961,
    "start_time": "2022-08-25T12:45:38.581Z"
   },
   {
    "duration": 150,
    "start_time": "2022-08-25T12:45:39.545Z"
   },
   {
    "duration": 48,
    "start_time": "2022-08-25T12:45:39.697Z"
   },
   {
    "duration": 31,
    "start_time": "2022-08-25T12:45:39.747Z"
   },
   {
    "duration": 130,
    "start_time": "2022-08-25T12:45:39.780Z"
   },
   {
    "duration": 371,
    "start_time": "2022-08-25T12:45:39.912Z"
   },
   {
    "duration": 297,
    "start_time": "2022-08-25T12:45:40.285Z"
   },
   {
    "duration": 172,
    "start_time": "2022-08-25T12:45:40.584Z"
   },
   {
    "duration": 144,
    "start_time": "2022-08-25T12:45:40.758Z"
   },
   {
    "duration": 708,
    "start_time": "2022-08-25T12:46:22.035Z"
   },
   {
    "duration": 599,
    "start_time": "2022-08-25T12:46:29.600Z"
   },
   {
    "duration": 8,
    "start_time": "2022-08-25T12:50:40.517Z"
   },
   {
    "duration": 203,
    "start_time": "2022-08-25T12:56:00.048Z"
   },
   {
    "duration": 52,
    "start_time": "2022-08-25T12:56:30.592Z"
   },
   {
    "duration": 61,
    "start_time": "2022-08-25T12:56:38.641Z"
   },
   {
    "duration": 63,
    "start_time": "2022-08-25T12:56:44.596Z"
   },
   {
    "duration": 9,
    "start_time": "2022-08-25T12:56:59.202Z"
   },
   {
    "duration": 54,
    "start_time": "2022-08-25T12:57:13.244Z"
   },
   {
    "duration": 129,
    "start_time": "2022-08-25T12:57:15.917Z"
   },
   {
    "duration": 492,
    "start_time": "2022-08-25T12:57:24.857Z"
   },
   {
    "duration": 94,
    "start_time": "2022-08-25T12:57:30.100Z"
   },
   {
    "duration": 171,
    "start_time": "2022-08-25T12:58:58.881Z"
   },
   {
    "duration": 286,
    "start_time": "2022-08-25T12:59:00.499Z"
   },
   {
    "duration": 314,
    "start_time": "2022-08-25T12:59:16.496Z"
   },
   {
    "duration": 60,
    "start_time": "2022-08-25T12:59:25.407Z"
   },
   {
    "duration": 18,
    "start_time": "2022-08-25T12:59:53.993Z"
   },
   {
    "duration": 122,
    "start_time": "2022-08-25T13:00:02.322Z"
   },
   {
    "duration": 204,
    "start_time": "2022-08-25T13:00:21.350Z"
   },
   {
    "duration": 332,
    "start_time": "2022-08-25T13:01:47.984Z"
   },
   {
    "duration": 47,
    "start_time": "2022-08-25T13:01:49.244Z"
   },
   {
    "duration": 48,
    "start_time": "2022-08-25T13:01:53.522Z"
   },
   {
    "duration": 44,
    "start_time": "2022-08-25T13:01:59.214Z"
   },
   {
    "duration": 70,
    "start_time": "2022-08-25T13:02:02.412Z"
   },
   {
    "duration": 19,
    "start_time": "2022-08-25T13:02:35.135Z"
   },
   {
    "duration": 52,
    "start_time": "2022-08-25T13:02:38.158Z"
   },
   {
    "duration": 58,
    "start_time": "2022-08-25T13:02:42.260Z"
   },
   {
    "duration": 40,
    "start_time": "2022-08-25T13:02:42.676Z"
   },
   {
    "duration": 38,
    "start_time": "2022-08-25T13:02:44.473Z"
   },
   {
    "duration": 2238,
    "start_time": "2022-08-25T13:02:45.021Z"
   },
   {
    "duration": 2246,
    "start_time": "2022-08-25T13:04:50.486Z"
   },
   {
    "duration": 84,
    "start_time": "2022-08-25T13:05:04.601Z"
   },
   {
    "duration": 61,
    "start_time": "2022-08-25T13:05:08.945Z"
   },
   {
    "duration": 74,
    "start_time": "2022-08-25T13:05:29.820Z"
   },
   {
    "duration": 55,
    "start_time": "2022-08-25T13:05:34.682Z"
   },
   {
    "duration": 48,
    "start_time": "2022-08-25T13:05:39.987Z"
   },
   {
    "duration": 57,
    "start_time": "2022-08-25T13:05:48.555Z"
   },
   {
    "duration": 48,
    "start_time": "2022-08-25T13:05:55.191Z"
   },
   {
    "duration": 55,
    "start_time": "2022-08-25T13:05:58.861Z"
   },
   {
    "duration": 48,
    "start_time": "2022-08-25T13:06:03.951Z"
   },
   {
    "duration": 58,
    "start_time": "2022-08-25T13:06:11.699Z"
   },
   {
    "duration": 41,
    "start_time": "2022-08-25T13:06:34.799Z"
   },
   {
    "duration": 52,
    "start_time": "2022-08-25T13:07:20.182Z"
   },
   {
    "duration": 69,
    "start_time": "2022-08-25T13:07:26.454Z"
   },
   {
    "duration": 50,
    "start_time": "2022-08-25T13:07:29.314Z"
   },
   {
    "duration": 78,
    "start_time": "2022-08-25T13:07:42.990Z"
   },
   {
    "duration": 52,
    "start_time": "2022-08-25T13:07:46.785Z"
   },
   {
    "duration": 71,
    "start_time": "2022-08-25T13:08:52.938Z"
   },
   {
    "duration": 4740,
    "start_time": "2022-08-25T15:46:35.067Z"
   },
   {
    "duration": 132,
    "start_time": "2022-08-25T15:46:39.810Z"
   },
   {
    "duration": 1727,
    "start_time": "2022-08-25T15:46:39.944Z"
   },
   {
    "duration": 1157,
    "start_time": "2022-08-25T15:46:41.673Z"
   },
   {
    "duration": 44,
    "start_time": "2022-08-25T15:46:42.831Z"
   },
   {
    "duration": 29,
    "start_time": "2022-08-25T15:46:42.876Z"
   },
   {
    "duration": 29,
    "start_time": "2022-08-25T15:46:42.907Z"
   },
   {
    "duration": 122,
    "start_time": "2022-08-25T15:46:42.937Z"
   },
   {
    "duration": 321,
    "start_time": "2022-08-25T15:46:43.060Z"
   },
   {
    "duration": 297,
    "start_time": "2022-08-25T15:46:43.384Z"
   },
   {
    "duration": 154,
    "start_time": "2022-08-25T15:46:43.683Z"
   },
   {
    "duration": 120,
    "start_time": "2022-08-25T15:46:43.839Z"
   },
   {
    "duration": 491,
    "start_time": "2022-08-25T15:46:43.961Z"
   },
   {
    "duration": 56,
    "start_time": "2022-08-25T15:46:44.453Z"
   },
   {
    "duration": 117,
    "start_time": "2022-08-25T15:46:44.511Z"
   },
   {
    "duration": 537,
    "start_time": "2022-08-25T15:46:44.630Z"
   },
   {
    "duration": 169,
    "start_time": "2022-08-25T15:46:45.169Z"
   },
   {
    "duration": 252,
    "start_time": "2022-08-25T15:46:45.341Z"
   },
   {
    "duration": 95,
    "start_time": "2022-08-25T15:47:15.410Z"
   },
   {
    "duration": 29,
    "start_time": "2022-08-25T15:47:26.820Z"
   },
   {
    "duration": 30,
    "start_time": "2022-08-25T15:47:38.306Z"
   },
   {
    "duration": 111,
    "start_time": "2022-08-25T15:47:47.956Z"
   },
   {
    "duration": 51,
    "start_time": "2022-08-25T15:47:50.796Z"
   },
   {
    "duration": 43,
    "start_time": "2022-08-25T15:47:53.293Z"
   },
   {
    "duration": 36,
    "start_time": "2022-08-25T15:47:59.796Z"
   },
   {
    "duration": 44,
    "start_time": "2022-08-25T15:48:13.282Z"
   },
   {
    "duration": 50,
    "start_time": "2022-08-25T15:48:22.627Z"
   },
   {
    "duration": 2416,
    "start_time": "2022-08-25T15:48:52.894Z"
   },
   {
    "duration": 43,
    "start_time": "2022-08-25T15:48:55.313Z"
   },
   {
    "duration": 9,
    "start_time": "2022-08-25T15:48:55.358Z"
   },
   {
    "duration": 901,
    "start_time": "2022-08-25T15:48:55.369Z"
   },
   {
    "duration": 75,
    "start_time": "2022-08-25T15:48:56.272Z"
   },
   {
    "duration": 29,
    "start_time": "2022-08-25T15:48:56.350Z"
   },
   {
    "duration": 27,
    "start_time": "2022-08-25T15:48:56.380Z"
   },
   {
    "duration": 109,
    "start_time": "2022-08-25T15:48:56.409Z"
   },
   {
    "duration": 302,
    "start_time": "2022-08-25T15:48:56.520Z"
   },
   {
    "duration": 344,
    "start_time": "2022-08-25T15:48:56.825Z"
   },
   {
    "duration": 160,
    "start_time": "2022-08-25T15:48:57.170Z"
   },
   {
    "duration": 121,
    "start_time": "2022-08-25T15:48:57.332Z"
   },
   {
    "duration": 494,
    "start_time": "2022-08-25T15:48:57.455Z"
   },
   {
    "duration": 66,
    "start_time": "2022-08-25T15:48:57.952Z"
   },
   {
    "duration": 117,
    "start_time": "2022-08-25T15:48:58.020Z"
   },
   {
    "duration": 494,
    "start_time": "2022-08-25T15:48:58.139Z"
   },
   {
    "duration": 183,
    "start_time": "2022-08-25T15:48:58.634Z"
   },
   {
    "duration": 333,
    "start_time": "2022-08-25T15:48:58.819Z"
   },
   {
    "duration": 129,
    "start_time": "2022-08-25T15:48:59.154Z"
   },
   {
    "duration": 50,
    "start_time": "2022-08-25T15:48:59.285Z"
   },
   {
    "duration": 41,
    "start_time": "2022-08-25T15:48:59.337Z"
   },
   {
    "duration": 32,
    "start_time": "2022-08-25T15:48:59.380Z"
   },
   {
    "duration": 42,
    "start_time": "2022-08-25T15:48:59.413Z"
   },
   {
    "duration": 28,
    "start_time": "2022-08-25T15:49:02.391Z"
   },
   {
    "duration": 2150,
    "start_time": "2022-08-25T15:49:04.844Z"
   },
   {
    "duration": 31,
    "start_time": "2022-08-25T15:49:15.422Z"
   },
   {
    "duration": 178,
    "start_time": "2022-08-25T15:49:17.411Z"
   },
   {
    "duration": 54,
    "start_time": "2022-08-25T15:49:28.018Z"
   },
   {
    "duration": 34,
    "start_time": "2022-08-25T15:49:32.121Z"
   },
   {
    "duration": 32,
    "start_time": "2022-08-25T15:49:46.105Z"
   },
   {
    "duration": 36,
    "start_time": "2022-08-25T15:50:17.980Z"
   },
   {
    "duration": 33,
    "start_time": "2022-08-25T15:50:25.989Z"
   },
   {
    "duration": 120,
    "start_time": "2022-08-25T15:50:51.978Z"
   },
   {
    "duration": 37,
    "start_time": "2022-08-25T15:50:54.787Z"
   },
   {
    "duration": 2221,
    "start_time": "2022-08-25T15:51:20.428Z"
   },
   {
    "duration": 33,
    "start_time": "2022-08-25T15:51:22.651Z"
   },
   {
    "duration": 9,
    "start_time": "2022-08-25T15:51:22.685Z"
   },
   {
    "duration": 807,
    "start_time": "2022-08-25T15:51:22.695Z"
   },
   {
    "duration": 43,
    "start_time": "2022-08-25T15:51:23.505Z"
   },
   {
    "duration": 36,
    "start_time": "2022-08-25T15:51:23.550Z"
   },
   {
    "duration": 24,
    "start_time": "2022-08-25T15:51:23.588Z"
   },
   {
    "duration": 119,
    "start_time": "2022-08-25T15:51:23.614Z"
   },
   {
    "duration": 300,
    "start_time": "2022-08-25T15:51:23.735Z"
   },
   {
    "duration": 253,
    "start_time": "2022-08-25T15:51:24.037Z"
   },
   {
    "duration": 147,
    "start_time": "2022-08-25T15:51:24.292Z"
   },
   {
    "duration": 105,
    "start_time": "2022-08-25T15:51:24.441Z"
   },
   {
    "duration": 396,
    "start_time": "2022-08-25T15:51:24.548Z"
   },
   {
    "duration": 26,
    "start_time": "2022-08-25T15:51:24.947Z"
   },
   {
    "duration": 106,
    "start_time": "2022-08-25T15:51:24.975Z"
   },
   {
    "duration": 406,
    "start_time": "2022-08-25T15:51:25.082Z"
   },
   {
    "duration": 161,
    "start_time": "2022-08-25T15:51:25.490Z"
   },
   {
    "duration": 262,
    "start_time": "2022-08-25T15:51:25.653Z"
   },
   {
    "duration": 120,
    "start_time": "2022-08-25T15:51:25.917Z"
   },
   {
    "duration": 38,
    "start_time": "2022-08-25T15:51:26.039Z"
   },
   {
    "duration": 46,
    "start_time": "2022-08-25T15:51:26.079Z"
   },
   {
    "duration": 29,
    "start_time": "2022-08-25T15:51:26.127Z"
   },
   {
    "duration": 23,
    "start_time": "2022-08-25T15:51:26.157Z"
   },
   {
    "duration": 19,
    "start_time": "2022-08-25T15:51:26.182Z"
   },
   {
    "duration": 2088,
    "start_time": "2022-08-25T15:51:27.439Z"
   },
   {
    "duration": 20,
    "start_time": "2022-08-25T15:51:42.957Z"
   },
   {
    "duration": 18054,
    "start_time": "2022-08-25T15:52:22.649Z"
   },
   {
    "duration": 145267,
    "start_time": "2022-08-25T15:52:44.301Z"
   },
   {
    "duration": 5425,
    "start_time": "2022-08-25T16:28:14.675Z"
   },
   {
    "duration": 137,
    "start_time": "2022-08-25T16:28:20.103Z"
   },
   {
    "duration": 1613,
    "start_time": "2022-08-25T16:28:20.242Z"
   },
   {
    "duration": 1134,
    "start_time": "2022-08-25T16:28:21.857Z"
   },
   {
    "duration": 44,
    "start_time": "2022-08-25T16:28:22.993Z"
   },
   {
    "duration": 34,
    "start_time": "2022-08-25T16:28:23.039Z"
   },
   {
    "duration": 33,
    "start_time": "2022-08-25T16:28:23.075Z"
   },
   {
    "duration": 131,
    "start_time": "2022-08-25T16:28:23.110Z"
   },
   {
    "duration": 355,
    "start_time": "2022-08-25T16:28:23.243Z"
   },
   {
    "duration": 303,
    "start_time": "2022-08-25T16:28:23.601Z"
   },
   {
    "duration": 167,
    "start_time": "2022-08-25T16:28:23.906Z"
   },
   {
    "duration": 116,
    "start_time": "2022-08-25T16:28:24.074Z"
   },
   {
    "duration": 466,
    "start_time": "2022-08-25T16:28:24.191Z"
   },
   {
    "duration": 36,
    "start_time": "2022-08-25T16:28:24.658Z"
   },
   {
    "duration": 111,
    "start_time": "2022-08-25T16:28:24.695Z"
   },
   {
    "duration": 388,
    "start_time": "2022-08-25T16:28:24.808Z"
   },
   {
    "duration": 165,
    "start_time": "2022-08-25T16:28:25.198Z"
   },
   {
    "duration": 284,
    "start_time": "2022-08-25T16:28:25.365Z"
   },
   {
    "duration": 120,
    "start_time": "2022-08-25T16:28:25.651Z"
   },
   {
    "duration": 33,
    "start_time": "2022-08-25T16:28:25.772Z"
   },
   {
    "duration": 42,
    "start_time": "2022-08-25T16:28:25.807Z"
   },
   {
    "duration": 32,
    "start_time": "2022-08-25T16:28:25.853Z"
   },
   {
    "duration": 103,
    "start_time": "2022-08-25T16:28:25.887Z"
   },
   {
    "duration": 72,
    "start_time": "2022-08-25T16:28:25.993Z"
   },
   {
    "duration": 2029,
    "start_time": "2022-08-25T16:28:26.067Z"
   },
   {
    "duration": 2181,
    "start_time": "2022-08-25T16:28:49.087Z"
   },
   {
    "duration": 19,
    "start_time": "2022-08-25T16:28:55.601Z"
   },
   {
    "duration": 2022,
    "start_time": "2022-08-25T16:31:47.394Z"
   },
   {
    "duration": 90,
    "start_time": "2022-08-25T16:31:49.418Z"
   },
   {
    "duration": 1336,
    "start_time": "2022-08-25T16:31:49.509Z"
   },
   {
    "duration": 802,
    "start_time": "2022-08-25T16:31:50.847Z"
   },
   {
    "duration": 60,
    "start_time": "2022-08-25T16:31:51.652Z"
   },
   {
    "duration": 27,
    "start_time": "2022-08-25T16:31:51.714Z"
   },
   {
    "duration": 20,
    "start_time": "2022-08-25T16:31:51.743Z"
   },
   {
    "duration": 98,
    "start_time": "2022-08-25T16:31:51.765Z"
   },
   {
    "duration": 345,
    "start_time": "2022-08-25T16:31:51.865Z"
   },
   {
    "duration": 369,
    "start_time": "2022-08-25T16:31:52.211Z"
   },
   {
    "duration": 182,
    "start_time": "2022-08-25T16:31:52.581Z"
   },
   {
    "duration": 135,
    "start_time": "2022-08-25T16:31:52.765Z"
   },
   {
    "duration": 404,
    "start_time": "2022-08-25T16:31:52.902Z"
   },
   {
    "duration": 45,
    "start_time": "2022-08-25T16:31:53.309Z"
   },
   {
    "duration": 130,
    "start_time": "2022-08-25T16:31:53.356Z"
   },
   {
    "duration": 390,
    "start_time": "2022-08-25T16:31:53.487Z"
   },
   {
    "duration": 174,
    "start_time": "2022-08-25T16:31:53.879Z"
   },
   {
    "duration": 258,
    "start_time": "2022-08-25T16:31:54.054Z"
   },
   {
    "duration": 108,
    "start_time": "2022-08-25T16:31:54.313Z"
   },
   {
    "duration": 117,
    "start_time": "2022-08-25T16:31:54.423Z"
   },
   {
    "duration": 59,
    "start_time": "2022-08-25T16:31:54.542Z"
   },
   {
    "duration": 56,
    "start_time": "2022-08-25T16:31:54.603Z"
   },
   {
    "duration": 33,
    "start_time": "2022-08-25T16:31:54.661Z"
   },
   {
    "duration": 36,
    "start_time": "2022-08-25T16:31:54.696Z"
   },
   {
    "duration": 2013,
    "start_time": "2022-08-25T16:32:06.507Z"
   },
   {
    "duration": 1961,
    "start_time": "2022-08-25T16:32:24.272Z"
   },
   {
    "duration": 16,
    "start_time": "2022-08-25T16:32:39.404Z"
   },
   {
    "duration": 2143,
    "start_time": "2022-08-25T16:39:16.595Z"
   },
   {
    "duration": 36,
    "start_time": "2022-08-25T16:39:35.584Z"
   },
   {
    "duration": 7,
    "start_time": "2022-08-25T16:39:36.434Z"
   },
   {
    "duration": 718,
    "start_time": "2022-08-25T16:39:36.443Z"
   },
   {
    "duration": 2088,
    "start_time": "2022-08-25T16:39:42.912Z"
   },
   {
    "duration": 43,
    "start_time": "2022-08-25T16:39:45.002Z"
   },
   {
    "duration": 9,
    "start_time": "2022-08-25T16:39:45.048Z"
   },
   {
    "duration": 792,
    "start_time": "2022-08-25T16:39:45.058Z"
   },
   {
    "duration": 45,
    "start_time": "2022-08-25T16:39:45.853Z"
   },
   {
    "duration": 31,
    "start_time": "2022-08-25T16:39:45.900Z"
   },
   {
    "duration": 21,
    "start_time": "2022-08-25T16:39:45.933Z"
   },
   {
    "duration": 98,
    "start_time": "2022-08-25T16:39:45.956Z"
   },
   {
    "duration": 243,
    "start_time": "2022-08-25T16:39:46.057Z"
   },
   {
    "duration": 194,
    "start_time": "2022-08-25T16:39:46.303Z"
   },
   {
    "duration": 132,
    "start_time": "2022-08-25T16:39:46.499Z"
   },
   {
    "duration": 102,
    "start_time": "2022-08-25T16:39:46.633Z"
   },
   {
    "duration": 378,
    "start_time": "2022-08-25T16:39:46.737Z"
   },
   {
    "duration": 60,
    "start_time": "2022-08-25T16:39:47.118Z"
   },
   {
    "duration": 120,
    "start_time": "2022-08-25T16:39:47.180Z"
   },
   {
    "duration": 391,
    "start_time": "2022-08-25T16:39:47.302Z"
   },
   {
    "duration": 162,
    "start_time": "2022-08-25T16:39:47.695Z"
   },
   {
    "duration": 229,
    "start_time": "2022-08-25T16:39:47.859Z"
   },
   {
    "duration": 118,
    "start_time": "2022-08-25T16:39:48.090Z"
   },
   {
    "duration": 39,
    "start_time": "2022-08-25T16:39:48.209Z"
   },
   {
    "duration": 44,
    "start_time": "2022-08-25T16:39:48.250Z"
   },
   {
    "duration": 35,
    "start_time": "2022-08-25T16:39:48.296Z"
   },
   {
    "duration": 45,
    "start_time": "2022-08-25T16:39:48.333Z"
   },
   {
    "duration": 28,
    "start_time": "2022-08-25T16:39:48.380Z"
   },
   {
    "duration": 1861,
    "start_time": "2022-08-25T16:39:48.410Z"
   },
   {
    "duration": 16,
    "start_time": "2022-08-25T16:39:54.011Z"
   },
   {
    "duration": 235006,
    "start_time": "2022-08-25T16:42:02.693Z"
   },
   {
    "duration": 2938,
    "start_time": "2022-08-25T16:53:48.137Z"
   },
   {
    "duration": 2864,
    "start_time": "2022-08-25T16:53:56.866Z"
   },
   {
    "duration": 159809,
    "start_time": "2022-08-25T16:55:02.985Z"
   },
   {
    "duration": 260232,
    "start_time": "2022-08-25T16:57:53.553Z"
   },
   {
    "duration": 254,
    "start_time": "2022-08-25T17:06:12.133Z"
   },
   {
    "duration": 19,
    "start_time": "2022-08-25T17:06:16.356Z"
   },
   {
    "duration": 133331,
    "start_time": "2022-08-25T17:06:21.008Z"
   },
   {
    "duration": 17,
    "start_time": "2022-08-25T17:08:34.341Z"
   },
   {
    "duration": 306502,
    "start_time": "2022-08-25T17:10:38.787Z"
   },
   {
    "duration": 17,
    "start_time": "2022-08-25T17:15:50.427Z"
   },
   {
    "duration": 185,
    "start_time": "2022-08-25T17:16:00.088Z"
   },
   {
    "duration": 32,
    "start_time": "2022-08-25T17:16:03.795Z"
   },
   {
    "duration": 19977,
    "start_time": "2022-08-25T17:16:07.020Z"
   },
   {
    "duration": 29,
    "start_time": "2022-08-25T17:16:26.999Z"
   },
   {
    "duration": 304808,
    "start_time": "2022-08-25T17:16:27.029Z"
   },
   {
    "duration": 31,
    "start_time": "2022-08-25T17:21:31.839Z"
   },
   {
    "duration": 16,
    "start_time": "2022-08-25T17:33:03.275Z"
   },
   {
    "duration": 28,
    "start_time": "2022-08-25T17:33:10.646Z"
   },
   {
    "duration": 23,
    "start_time": "2022-08-25T17:33:36.631Z"
   },
   {
    "duration": 22,
    "start_time": "2022-08-25T17:33:49.154Z"
   },
   {
    "duration": 110,
    "start_time": "2022-08-25T17:34:17.257Z"
   },
   {
    "duration": 17,
    "start_time": "2022-08-25T17:34:34.145Z"
   },
   {
    "duration": 19,
    "start_time": "2022-08-25T17:35:00.985Z"
   },
   {
    "duration": 99742,
    "start_time": "2022-08-25T17:38:36.268Z"
   },
   {
    "duration": 214848,
    "start_time": "2022-08-25T17:40:47.312Z"
   },
   {
    "duration": 613,
    "start_time": "2022-08-25T17:44:22.162Z"
   },
   {
    "duration": 2122,
    "start_time": "2022-08-25T17:44:48.979Z"
   },
   {
    "duration": 809,
    "start_time": "2022-08-25T17:44:51.104Z"
   },
   {
    "duration": 1411,
    "start_time": "2022-08-25T17:44:51.916Z"
   },
   {
    "duration": 889,
    "start_time": "2022-08-25T17:44:53.329Z"
   },
   {
    "duration": 47,
    "start_time": "2022-08-25T17:44:54.220Z"
   },
   {
    "duration": 675,
    "start_time": "2022-08-25T17:44:54.269Z"
   },
   {
    "duration": 28,
    "start_time": "2022-08-25T17:44:54.946Z"
   },
   {
    "duration": 100,
    "start_time": "2022-08-25T17:44:54.976Z"
   },
   {
    "duration": 267,
    "start_time": "2022-08-25T17:44:55.078Z"
   },
   {
    "duration": 239,
    "start_time": "2022-08-25T17:44:55.347Z"
   },
   {
    "duration": 146,
    "start_time": "2022-08-25T17:44:55.587Z"
   },
   {
    "duration": 145,
    "start_time": "2022-08-25T17:44:55.735Z"
   },
   {
    "duration": 405,
    "start_time": "2022-08-25T17:44:55.883Z"
   },
   {
    "duration": 30,
    "start_time": "2022-08-25T17:44:56.290Z"
   },
   {
    "duration": 98,
    "start_time": "2022-08-25T17:44:56.322Z"
   },
   {
    "duration": 375,
    "start_time": "2022-08-25T17:44:56.422Z"
   },
   {
    "duration": 151,
    "start_time": "2022-08-25T17:44:56.798Z"
   },
   {
    "duration": 236,
    "start_time": "2022-08-25T17:44:56.950Z"
   },
   {
    "duration": 111,
    "start_time": "2022-08-25T17:44:57.187Z"
   },
   {
    "duration": 33,
    "start_time": "2022-08-25T17:44:57.300Z"
   },
   {
    "duration": 44,
    "start_time": "2022-08-25T17:44:57.335Z"
   },
   {
    "duration": 29,
    "start_time": "2022-08-25T17:44:57.381Z"
   },
   {
    "duration": 25,
    "start_time": "2022-08-25T17:44:57.412Z"
   },
   {
    "duration": 26,
    "start_time": "2022-08-25T17:44:57.438Z"
   },
   {
    "duration": 1941,
    "start_time": "2022-08-25T17:44:57.466Z"
   },
   {
    "duration": 135399,
    "start_time": "2022-08-25T17:44:59.408Z"
   },
   {
    "duration": 261780,
    "start_time": "2022-08-25T17:47:14.808Z"
   },
   {
    "duration": 196,
    "start_time": "2022-08-25T17:51:36.590Z"
   },
   {
    "duration": 209598,
    "start_time": "2022-08-25T17:51:36.788Z"
   },
   {
    "duration": 547,
    "start_time": "2022-08-25T17:55:06.388Z"
   },
   {
    "duration": 88,
    "start_time": "2022-08-25T17:55:06.936Z"
   },
   {
    "duration": 154,
    "start_time": "2022-08-25T17:55:07.026Z"
   },
   {
    "duration": 33,
    "start_time": "2022-08-25T17:55:07.181Z"
   },
   {
    "duration": 19984,
    "start_time": "2022-08-25T17:55:07.216Z"
   },
   {
    "duration": 46,
    "start_time": "2022-08-25T17:55:27.202Z"
   },
   {
    "duration": 98903,
    "start_time": "2022-08-25T17:55:27.249Z"
   },
   {
    "duration": 33,
    "start_time": "2022-08-25T17:57:06.153Z"
   },
   {
    "duration": 0,
    "start_time": "2022-08-25T17:57:06.188Z"
   },
   {
    "duration": 2850,
    "start_time": "2022-08-25T17:57:38.823Z"
   },
   {
    "duration": 4966,
    "start_time": "2022-08-25T17:58:23.521Z"
   },
   {
    "duration": 33,
    "start_time": "2022-08-25T17:58:36.638Z"
   },
   {
    "duration": 16,
    "start_time": "2022-08-25T18:00:12.573Z"
   },
   {
    "duration": 4,
    "start_time": "2022-08-25T18:42:11.675Z"
   },
   {
    "duration": 3,
    "start_time": "2022-08-30T08:33:05.291Z"
   },
   {
    "duration": 229,
    "start_time": "2022-08-30T08:33:05.296Z"
   },
   {
    "duration": 0,
    "start_time": "2022-08-30T08:33:05.528Z"
   },
   {
    "duration": 0,
    "start_time": "2022-08-30T08:33:05.529Z"
   },
   {
    "duration": 0,
    "start_time": "2022-08-30T08:33:05.530Z"
   },
   {
    "duration": 0,
    "start_time": "2022-08-30T08:33:05.531Z"
   },
   {
    "duration": 0,
    "start_time": "2022-08-30T08:33:05.533Z"
   },
   {
    "duration": 0,
    "start_time": "2022-08-30T08:33:05.534Z"
   },
   {
    "duration": 0,
    "start_time": "2022-08-30T08:33:05.535Z"
   },
   {
    "duration": 0,
    "start_time": "2022-08-30T08:33:05.537Z"
   },
   {
    "duration": 4302,
    "start_time": "2022-08-30T08:33:32.907Z"
   },
   {
    "duration": 108,
    "start_time": "2022-08-30T08:33:37.211Z"
   },
   {
    "duration": 1477,
    "start_time": "2022-08-30T08:33:37.320Z"
   },
   {
    "duration": 1021,
    "start_time": "2022-08-30T08:33:38.798Z"
   },
   {
    "duration": 43,
    "start_time": "2022-08-30T08:33:39.821Z"
   },
   {
    "duration": 31,
    "start_time": "2022-08-30T08:33:39.865Z"
   },
   {
    "duration": 23,
    "start_time": "2022-08-30T08:33:39.898Z"
   },
   {
    "duration": 103,
    "start_time": "2022-08-30T08:33:39.922Z"
   },
   {
    "duration": 262,
    "start_time": "2022-08-30T08:33:40.027Z"
   },
   {
    "duration": 239,
    "start_time": "2022-08-30T08:33:40.291Z"
   },
   {
    "duration": 88,
    "start_time": "2022-08-30T08:34:15.176Z"
   },
   {
    "duration": 83,
    "start_time": "2022-08-30T08:34:21.022Z"
   },
   {
    "duration": 84,
    "start_time": "2022-08-30T08:34:31.081Z"
   },
   {
    "duration": 155,
    "start_time": "2022-08-30T08:34:34.482Z"
   },
   {
    "duration": 134,
    "start_time": "2022-08-30T08:36:15.023Z"
   },
   {
    "duration": 145,
    "start_time": "2022-08-30T08:36:23.287Z"
   },
   {
    "duration": 139,
    "start_time": "2022-08-30T08:38:30.998Z"
   },
   {
    "duration": 36,
    "start_time": "2022-08-30T08:38:41.820Z"
   },
   {
    "duration": 42,
    "start_time": "2022-08-30T08:38:49.350Z"
   },
   {
    "duration": 353,
    "start_time": "2022-08-30T08:38:59.651Z"
   },
   {
    "duration": 801,
    "start_time": "2022-08-30T08:40:16.887Z"
   },
   {
    "duration": 267,
    "start_time": "2022-08-30T08:40:34.147Z"
   },
   {
    "duration": 10,
    "start_time": "2022-08-30T08:44:24.449Z"
   },
   {
    "duration": 53,
    "start_time": "2022-08-30T08:46:19.342Z"
   },
   {
    "duration": 86,
    "start_time": "2022-08-30T08:46:27.952Z"
   },
   {
    "duration": 638,
    "start_time": "2022-08-30T08:46:38.889Z"
   },
   {
    "duration": 68,
    "start_time": "2022-08-30T08:46:43.824Z"
   },
   {
    "duration": 48,
    "start_time": "2022-08-30T08:46:52.519Z"
   },
   {
    "duration": 57,
    "start_time": "2022-08-30T08:46:55.563Z"
   },
   {
    "duration": 41,
    "start_time": "2022-08-30T08:46:57.949Z"
   },
   {
    "duration": 149,
    "start_time": "2022-08-30T08:47:01.185Z"
   },
   {
    "duration": 61,
    "start_time": "2022-08-30T08:47:07.406Z"
   },
   {
    "duration": 100,
    "start_time": "2022-08-30T08:47:11.439Z"
   },
   {
    "duration": 59,
    "start_time": "2022-08-30T08:47:34.981Z"
   },
   {
    "duration": 87,
    "start_time": "2022-08-30T08:47:39.393Z"
   },
   {
    "duration": 50,
    "start_time": "2022-08-30T08:47:42.351Z"
   },
   {
    "duration": 50,
    "start_time": "2022-08-30T08:47:48.298Z"
   },
   {
    "duration": 80,
    "start_time": "2022-08-30T08:47:51.385Z"
   },
   {
    "duration": 37,
    "start_time": "2022-08-30T08:47:54.727Z"
   },
   {
    "duration": 31,
    "start_time": "2022-08-30T08:47:57.881Z"
   },
   {
    "duration": 36,
    "start_time": "2022-08-30T08:48:53.323Z"
   },
   {
    "duration": 68,
    "start_time": "2022-08-30T08:48:58.215Z"
   },
   {
    "duration": 47,
    "start_time": "2022-08-30T08:49:00.877Z"
   },
   {
    "duration": 65,
    "start_time": "2022-08-30T08:49:02.964Z"
   },
   {
    "duration": 47,
    "start_time": "2022-08-30T08:49:05.113Z"
   },
   {
    "duration": 44,
    "start_time": "2022-08-30T08:49:14.698Z"
   },
   {
    "duration": 54,
    "start_time": "2022-08-30T08:49:44.791Z"
   },
   {
    "duration": 83,
    "start_time": "2022-08-30T08:49:49.580Z"
   },
   {
    "duration": 149,
    "start_time": "2022-08-30T08:50:20.446Z"
   },
   {
    "duration": 134,
    "start_time": "2022-08-30T08:50:26.041Z"
   },
   {
    "duration": 44,
    "start_time": "2022-08-30T08:51:30.539Z"
   },
   {
    "duration": 44,
    "start_time": "2022-08-30T08:51:34.565Z"
   },
   {
    "duration": 50,
    "start_time": "2022-08-30T08:51:38.176Z"
   },
   {
    "duration": 61,
    "start_time": "2022-08-30T08:51:40.444Z"
   },
   {
    "duration": 41,
    "start_time": "2022-08-30T08:51:42.762Z"
   },
   {
    "duration": 102,
    "start_time": "2022-08-30T08:52:16.420Z"
   },
   {
    "duration": 33,
    "start_time": "2022-08-30T08:52:28.828Z"
   },
   {
    "duration": 120,
    "start_time": "2022-08-30T08:52:38.017Z"
   },
   {
    "duration": 122,
    "start_time": "2022-08-30T08:52:49.959Z"
   },
   {
    "duration": 48,
    "start_time": "2022-08-30T08:52:59.325Z"
   },
   {
    "duration": 75,
    "start_time": "2022-08-30T08:54:08.411Z"
   },
   {
    "duration": 36,
    "start_time": "2022-08-30T08:54:17.852Z"
   },
   {
    "duration": 41,
    "start_time": "2022-08-30T08:55:11.097Z"
   },
   {
    "duration": 48,
    "start_time": "2022-08-30T08:55:16.740Z"
   },
   {
    "duration": 227,
    "start_time": "2022-08-30T08:55:25.056Z"
   },
   {
    "duration": 48,
    "start_time": "2022-08-30T08:55:31.352Z"
   },
   {
    "duration": 62,
    "start_time": "2022-08-30T08:57:07.086Z"
   },
   {
    "duration": 2162,
    "start_time": "2022-08-30T08:57:36.085Z"
   },
   {
    "duration": 27,
    "start_time": "2022-08-30T08:57:38.250Z"
   },
   {
    "duration": 10,
    "start_time": "2022-08-30T08:57:38.279Z"
   },
   {
    "duration": 812,
    "start_time": "2022-08-30T08:57:38.290Z"
   },
   {
    "duration": 41,
    "start_time": "2022-08-30T08:57:39.104Z"
   },
   {
    "duration": 27,
    "start_time": "2022-08-30T08:57:39.146Z"
   },
   {
    "duration": 22,
    "start_time": "2022-08-30T08:57:39.175Z"
   },
   {
    "duration": 99,
    "start_time": "2022-08-30T08:57:39.198Z"
   },
   {
    "duration": 262,
    "start_time": "2022-08-30T08:57:39.298Z"
   },
   {
    "duration": 258,
    "start_time": "2022-08-30T08:57:39.562Z"
   },
   {
    "duration": 135,
    "start_time": "2022-08-30T08:57:39.822Z"
   },
   {
    "duration": 97,
    "start_time": "2022-08-30T08:57:39.958Z"
   },
   {
    "duration": 231,
    "start_time": "2022-08-30T08:57:40.057Z"
   },
   {
    "duration": 190,
    "start_time": "2022-08-30T08:57:40.291Z"
   },
   {
    "duration": 73,
    "start_time": "2022-08-30T08:57:44.044Z"
   },
   {
    "duration": 2027,
    "start_time": "2022-08-30T08:58:28.784Z"
   },
   {
    "duration": 98,
    "start_time": "2022-08-30T08:58:30.814Z"
   },
   {
    "duration": 1412,
    "start_time": "2022-08-30T08:58:30.913Z"
   },
   {
    "duration": 880,
    "start_time": "2022-08-30T08:58:32.327Z"
   },
   {
    "duration": 39,
    "start_time": "2022-08-30T08:58:33.210Z"
   },
   {
    "duration": 32,
    "start_time": "2022-08-30T08:58:33.250Z"
   },
   {
    "duration": 25,
    "start_time": "2022-08-30T08:58:33.283Z"
   },
   {
    "duration": 107,
    "start_time": "2022-08-30T08:58:33.309Z"
   },
   {
    "duration": 279,
    "start_time": "2022-08-30T08:58:33.418Z"
   },
   {
    "duration": 268,
    "start_time": "2022-08-30T08:58:33.698Z"
   },
   {
    "duration": 183,
    "start_time": "2022-08-30T08:58:33.968Z"
   },
   {
    "duration": 126,
    "start_time": "2022-08-30T08:58:34.152Z"
   },
   {
    "duration": 206,
    "start_time": "2022-08-30T08:58:34.280Z"
   },
   {
    "duration": 307,
    "start_time": "2022-08-30T08:58:34.489Z"
   },
   {
    "duration": 65,
    "start_time": "2022-08-30T08:58:34.798Z"
   },
   {
    "duration": 97,
    "start_time": "2022-08-30T08:58:48.090Z"
   },
   {
    "duration": 2417,
    "start_time": "2022-08-30T08:59:12.267Z"
   },
   {
    "duration": 43,
    "start_time": "2022-08-30T08:59:14.688Z"
   },
   {
    "duration": 9,
    "start_time": "2022-08-30T08:59:14.733Z"
   },
   {
    "duration": 834,
    "start_time": "2022-08-30T08:59:14.744Z"
   },
   {
    "duration": 38,
    "start_time": "2022-08-30T08:59:15.581Z"
   },
   {
    "duration": 23,
    "start_time": "2022-08-30T08:59:15.621Z"
   },
   {
    "duration": 20,
    "start_time": "2022-08-30T08:59:15.646Z"
   },
   {
    "duration": 95,
    "start_time": "2022-08-30T08:59:15.668Z"
   },
   {
    "duration": 240,
    "start_time": "2022-08-30T08:59:15.765Z"
   },
   {
    "duration": 259,
    "start_time": "2022-08-30T08:59:16.007Z"
   },
   {
    "duration": 154,
    "start_time": "2022-08-30T08:59:16.268Z"
   },
   {
    "duration": 161,
    "start_time": "2022-08-30T08:59:23.901Z"
   },
   {
    "duration": 106,
    "start_time": "2022-08-30T08:59:32.827Z"
   },
   {
    "duration": 143,
    "start_time": "2022-08-30T09:00:28.993Z"
   },
   {
    "duration": 2561,
    "start_time": "2022-08-30T09:00:47.371Z"
   },
   {
    "duration": 37,
    "start_time": "2022-08-30T09:00:49.934Z"
   },
   {
    "duration": 10,
    "start_time": "2022-08-30T09:00:49.973Z"
   },
   {
    "duration": 858,
    "start_time": "2022-08-30T09:00:49.984Z"
   },
   {
    "duration": 97,
    "start_time": "2022-08-30T09:00:50.844Z"
   },
   {
    "duration": 93,
    "start_time": "2022-08-30T09:00:50.942Z"
   },
   {
    "duration": 23,
    "start_time": "2022-08-30T09:00:51.037Z"
   },
   {
    "duration": 124,
    "start_time": "2022-08-30T09:00:51.061Z"
   },
   {
    "duration": 256,
    "start_time": "2022-08-30T09:00:53.575Z"
   },
   {
    "duration": 212,
    "start_time": "2022-08-30T09:00:58.332Z"
   },
   {
    "duration": 241,
    "start_time": "2022-08-30T09:01:02.168Z"
   },
   {
    "duration": 271,
    "start_time": "2022-08-30T09:01:30.053Z"
   },
   {
    "duration": 106,
    "start_time": "2022-08-30T09:01:32.094Z"
   },
   {
    "duration": 109,
    "start_time": "2022-08-30T09:01:34.688Z"
   },
   {
    "duration": 111,
    "start_time": "2022-08-30T09:02:52.432Z"
   },
   {
    "duration": 123,
    "start_time": "2022-08-30T09:04:14.262Z"
   },
   {
    "duration": 733,
    "start_time": "2022-08-30T09:05:45.282Z"
   },
   {
    "duration": 122,
    "start_time": "2022-08-30T09:06:10.743Z"
   },
   {
    "duration": 2363,
    "start_time": "2022-08-30T09:07:41.710Z"
   },
   {
    "duration": 30,
    "start_time": "2022-08-30T09:07:44.075Z"
   },
   {
    "duration": 8,
    "start_time": "2022-08-30T09:07:44.107Z"
   },
   {
    "duration": 870,
    "start_time": "2022-08-30T09:07:44.117Z"
   },
   {
    "duration": 76,
    "start_time": "2022-08-30T09:07:44.989Z"
   },
   {
    "duration": 39,
    "start_time": "2022-08-30T09:07:45.067Z"
   },
   {
    "duration": 22,
    "start_time": "2022-08-30T09:07:45.108Z"
   },
   {
    "duration": 112,
    "start_time": "2022-08-30T09:07:45.132Z"
   },
   {
    "duration": 203,
    "start_time": "2022-08-30T09:07:45.246Z"
   },
   {
    "duration": 367,
    "start_time": "2022-08-30T09:07:45.452Z"
   },
   {
    "duration": 93,
    "start_time": "2022-08-30T09:07:45.820Z"
   },
   {
    "duration": 136,
    "start_time": "2022-08-30T09:07:45.915Z"
   },
   {
    "duration": 212,
    "start_time": "2022-08-30T09:07:46.052Z"
   },
   {
    "duration": 207,
    "start_time": "2022-08-30T09:07:46.266Z"
   },
   {
    "duration": 2045,
    "start_time": "2022-08-30T09:08:38.781Z"
   },
   {
    "duration": 129,
    "start_time": "2022-08-30T09:08:40.828Z"
   },
   {
    "duration": 1503,
    "start_time": "2022-08-30T09:08:40.959Z"
   },
   {
    "duration": 869,
    "start_time": "2022-08-30T09:08:42.464Z"
   },
   {
    "duration": 45,
    "start_time": "2022-08-30T09:08:43.336Z"
   },
   {
    "duration": 46,
    "start_time": "2022-08-30T09:08:43.383Z"
   },
   {
    "duration": 31,
    "start_time": "2022-08-30T09:08:43.431Z"
   },
   {
    "duration": 107,
    "start_time": "2022-08-30T09:08:43.464Z"
   },
   {
    "duration": 210,
    "start_time": "2022-08-30T09:08:43.573Z"
   },
   {
    "duration": 296,
    "start_time": "2022-08-30T09:08:43.785Z"
   },
   {
    "duration": 114,
    "start_time": "2022-08-30T09:08:44.084Z"
   },
   {
    "duration": 128,
    "start_time": "2022-08-30T09:08:44.200Z"
   },
   {
    "duration": 239,
    "start_time": "2022-08-30T09:08:44.330Z"
   },
   {
    "duration": 291,
    "start_time": "2022-08-30T09:08:44.573Z"
   },
   {
    "duration": 48,
    "start_time": "2022-08-30T09:08:47.469Z"
   },
   {
    "duration": 42,
    "start_time": "2022-08-30T09:08:55.258Z"
   },
   {
    "duration": 42,
    "start_time": "2022-08-30T09:08:57.945Z"
   },
   {
    "duration": 46,
    "start_time": "2022-08-30T09:09:02.032Z"
   },
   {
    "duration": 64,
    "start_time": "2022-08-30T09:09:05.106Z"
   },
   {
    "duration": 46,
    "start_time": "2022-08-30T09:09:26.504Z"
   },
   {
    "duration": 127,
    "start_time": "2022-08-30T09:09:44.133Z"
   },
   {
    "duration": 89,
    "start_time": "2022-08-30T09:09:51.776Z"
   },
   {
    "duration": 49,
    "start_time": "2022-08-30T09:10:24.136Z"
   },
   {
    "duration": 107,
    "start_time": "2022-08-30T09:10:38.406Z"
   },
   {
    "duration": 53,
    "start_time": "2022-08-30T09:10:46.079Z"
   },
   {
    "duration": 2129,
    "start_time": "2022-08-30T09:10:55.546Z"
   },
   {
    "duration": 54,
    "start_time": "2022-08-30T09:10:57.677Z"
   },
   {
    "duration": 8,
    "start_time": "2022-08-30T09:10:57.733Z"
   },
   {
    "duration": 953,
    "start_time": "2022-08-30T09:10:57.743Z"
   },
   {
    "duration": 148,
    "start_time": "2022-08-30T09:10:58.698Z"
   },
   {
    "duration": 108,
    "start_time": "2022-08-30T09:10:58.848Z"
   },
   {
    "duration": 25,
    "start_time": "2022-08-30T09:10:58.958Z"
   },
   {
    "duration": 169,
    "start_time": "2022-08-30T09:10:58.985Z"
   },
   {
    "duration": 190,
    "start_time": "2022-08-30T09:10:59.156Z"
   },
   {
    "duration": 243,
    "start_time": "2022-08-30T09:10:59.348Z"
   },
   {
    "duration": 80,
    "start_time": "2022-08-30T09:10:59.592Z"
   },
   {
    "duration": 108,
    "start_time": "2022-08-30T09:10:59.673Z"
   },
   {
    "duration": 216,
    "start_time": "2022-08-30T09:10:59.782Z"
   },
   {
    "duration": 211,
    "start_time": "2022-08-30T09:11:00.000Z"
   },
   {
    "duration": 51,
    "start_time": "2022-08-30T09:11:00.214Z"
   },
   {
    "duration": 83,
    "start_time": "2022-08-30T09:11:00.267Z"
   },
   {
    "duration": 126,
    "start_time": "2022-08-30T09:11:00.352Z"
   },
   {
    "duration": 93,
    "start_time": "2022-08-30T09:11:14.697Z"
   },
   {
    "duration": 2176,
    "start_time": "2022-08-30T09:11:29.015Z"
   },
   {
    "duration": 47,
    "start_time": "2022-08-30T09:11:31.193Z"
   },
   {
    "duration": 8,
    "start_time": "2022-08-30T09:11:31.242Z"
   },
   {
    "duration": 837,
    "start_time": "2022-08-30T09:11:31.252Z"
   },
   {
    "duration": 42,
    "start_time": "2022-08-30T09:11:32.091Z"
   },
   {
    "duration": 26,
    "start_time": "2022-08-30T09:11:32.135Z"
   },
   {
    "duration": 21,
    "start_time": "2022-08-30T09:11:32.163Z"
   },
   {
    "duration": 202,
    "start_time": "2022-08-30T09:11:32.185Z"
   },
   {
    "duration": 189,
    "start_time": "2022-08-30T09:11:32.389Z"
   },
   {
    "duration": 230,
    "start_time": "2022-08-30T09:11:32.580Z"
   },
   {
    "duration": 115,
    "start_time": "2022-08-30T09:11:32.812Z"
   },
   {
    "duration": 128,
    "start_time": "2022-08-30T09:11:32.930Z"
   },
   {
    "duration": 251,
    "start_time": "2022-08-30T09:11:33.060Z"
   },
   {
    "duration": 196,
    "start_time": "2022-08-30T09:11:33.313Z"
   },
   {
    "duration": 54,
    "start_time": "2022-08-30T09:11:33.511Z"
   },
   {
    "duration": 127,
    "start_time": "2022-08-30T09:11:33.567Z"
   },
   {
    "duration": 91,
    "start_time": "2022-08-30T09:11:33.696Z"
   },
   {
    "duration": 68,
    "start_time": "2022-08-30T09:11:33.788Z"
   },
   {
    "duration": 114,
    "start_time": "2022-08-30T09:11:57.282Z"
   },
   {
    "duration": 2150,
    "start_time": "2022-08-30T09:12:06.017Z"
   },
   {
    "duration": 56,
    "start_time": "2022-08-30T09:12:08.169Z"
   },
   {
    "duration": 7,
    "start_time": "2022-08-30T09:12:08.226Z"
   },
   {
    "duration": 851,
    "start_time": "2022-08-30T09:12:08.235Z"
   },
   {
    "duration": 53,
    "start_time": "2022-08-30T09:12:09.089Z"
   },
   {
    "duration": 76,
    "start_time": "2022-08-30T09:12:09.144Z"
   },
   {
    "duration": 22,
    "start_time": "2022-08-30T09:12:09.222Z"
   },
   {
    "duration": 143,
    "start_time": "2022-08-30T09:12:09.245Z"
   },
   {
    "duration": 244,
    "start_time": "2022-08-30T09:12:09.390Z"
   },
   {
    "duration": 269,
    "start_time": "2022-08-30T09:12:09.636Z"
   },
   {
    "duration": 96,
    "start_time": "2022-08-30T09:12:09.907Z"
   },
   {
    "duration": 128,
    "start_time": "2022-08-30T09:12:10.005Z"
   },
   {
    "duration": 229,
    "start_time": "2022-08-30T09:12:10.134Z"
   },
   {
    "duration": 197,
    "start_time": "2022-08-30T09:12:10.366Z"
   },
   {
    "duration": 86,
    "start_time": "2022-08-30T09:12:10.564Z"
   },
   {
    "duration": 43,
    "start_time": "2022-08-30T09:12:10.652Z"
   },
   {
    "duration": 49,
    "start_time": "2022-08-30T09:12:10.696Z"
   },
   {
    "duration": 44,
    "start_time": "2022-08-30T09:12:10.747Z"
   },
   {
    "duration": 58,
    "start_time": "2022-08-30T09:12:33.902Z"
   },
   {
    "duration": 162,
    "start_time": "2022-08-30T09:13:59.701Z"
   },
   {
    "duration": 83,
    "start_time": "2022-08-30T09:14:19.129Z"
   },
   {
    "duration": 72,
    "start_time": "2022-08-30T09:14:23.292Z"
   },
   {
    "duration": 70,
    "start_time": "2022-08-30T09:14:34.931Z"
   },
   {
    "duration": 211,
    "start_time": "2022-08-30T09:14:49.365Z"
   },
   {
    "duration": 727,
    "start_time": "2022-08-30T09:15:01.796Z"
   },
   {
    "duration": 209,
    "start_time": "2022-08-30T09:15:09.244Z"
   },
   {
    "duration": 224,
    "start_time": "2022-08-30T09:15:13.860Z"
   },
   {
    "duration": 216,
    "start_time": "2022-08-30T09:15:19.657Z"
   },
   {
    "duration": 46,
    "start_time": "2022-08-30T09:15:39.840Z"
   },
   {
    "duration": 90,
    "start_time": "2022-08-30T09:15:43.275Z"
   },
   {
    "duration": 79,
    "start_time": "2022-08-30T09:15:44.996Z"
   },
   {
    "duration": 106,
    "start_time": "2022-08-30T09:15:47.011Z"
   },
   {
    "duration": 67,
    "start_time": "2022-08-30T09:15:49.080Z"
   },
   {
    "duration": 40,
    "start_time": "2022-08-30T09:15:50.870Z"
   },
   {
    "duration": 41,
    "start_time": "2022-08-30T09:15:53.685Z"
   },
   {
    "duration": 47,
    "start_time": "2022-08-30T09:15:59.411Z"
   },
   {
    "duration": 52,
    "start_time": "2022-08-30T09:16:03.751Z"
   },
   {
    "duration": 50,
    "start_time": "2022-08-30T09:16:08.576Z"
   },
   {
    "duration": 45,
    "start_time": "2022-08-30T09:16:11.551Z"
   },
   {
    "duration": 50,
    "start_time": "2022-08-30T09:16:13.339Z"
   },
   {
    "duration": 73,
    "start_time": "2022-08-30T09:16:15.285Z"
   },
   {
    "duration": 52,
    "start_time": "2022-08-30T09:16:54.846Z"
   },
   {
    "duration": 2177,
    "start_time": "2022-08-30T09:17:02.825Z"
   },
   {
    "duration": 52,
    "start_time": "2022-08-30T09:17:05.004Z"
   },
   {
    "duration": 8,
    "start_time": "2022-08-30T09:17:05.057Z"
   },
   {
    "duration": 826,
    "start_time": "2022-08-30T09:17:05.067Z"
   },
   {
    "duration": 65,
    "start_time": "2022-08-30T09:17:05.895Z"
   },
   {
    "duration": 53,
    "start_time": "2022-08-30T09:17:05.961Z"
   },
   {
    "duration": 25,
    "start_time": "2022-08-30T09:17:06.016Z"
   },
   {
    "duration": 125,
    "start_time": "2022-08-30T09:17:06.042Z"
   },
   {
    "duration": 207,
    "start_time": "2022-08-30T09:17:06.169Z"
   },
   {
    "duration": 252,
    "start_time": "2022-08-30T09:17:06.378Z"
   },
   {
    "duration": 92,
    "start_time": "2022-08-30T09:17:06.632Z"
   },
   {
    "duration": 131,
    "start_time": "2022-08-30T09:17:06.726Z"
   },
   {
    "duration": 215,
    "start_time": "2022-08-30T09:17:06.859Z"
   },
   {
    "duration": 203,
    "start_time": "2022-08-30T09:17:07.075Z"
   },
   {
    "duration": 73,
    "start_time": "2022-08-30T09:17:07.280Z"
   },
   {
    "duration": 88,
    "start_time": "2022-08-30T09:17:07.355Z"
   },
   {
    "duration": 105,
    "start_time": "2022-08-30T09:17:07.445Z"
   },
   {
    "duration": 54,
    "start_time": "2022-08-30T09:17:07.552Z"
   },
   {
    "duration": 106,
    "start_time": "2022-08-30T09:17:17.159Z"
   },
   {
    "duration": 64,
    "start_time": "2022-08-30T09:17:27.317Z"
   },
   {
    "duration": 126,
    "start_time": "2022-08-30T09:17:35.904Z"
   },
   {
    "duration": 5088,
    "start_time": "2022-08-31T08:12:47.250Z"
   },
   {
    "duration": 109,
    "start_time": "2022-08-31T08:12:52.779Z"
   },
   {
    "duration": 1531,
    "start_time": "2022-08-31T08:12:53.527Z"
   },
   {
    "duration": 1127,
    "start_time": "2022-08-31T08:12:55.060Z"
   },
   {
    "duration": 81,
    "start_time": "2022-08-31T08:12:56.188Z"
   },
   {
    "duration": 156,
    "start_time": "2022-08-31T08:12:56.272Z"
   },
   {
    "duration": 22,
    "start_time": "2022-08-31T08:12:56.431Z"
   },
   {
    "duration": 212,
    "start_time": "2022-08-31T08:12:56.455Z"
   },
   {
    "duration": 250,
    "start_time": "2022-08-31T08:12:56.669Z"
   },
   {
    "duration": 299,
    "start_time": "2022-08-31T08:12:56.921Z"
   },
   {
    "duration": 121,
    "start_time": "2022-08-31T08:12:57.222Z"
   },
   {
    "duration": 184,
    "start_time": "2022-08-31T08:13:00.580Z"
   },
   {
    "duration": 408,
    "start_time": "2022-08-31T08:13:01.857Z"
   },
   {
    "duration": 91,
    "start_time": "2022-08-31T08:13:05.359Z"
   },
   {
    "duration": 121,
    "start_time": "2022-08-31T08:13:05.570Z"
   },
   {
    "duration": 62,
    "start_time": "2022-08-31T08:13:05.793Z"
   },
   {
    "duration": 42,
    "start_time": "2022-08-31T08:13:10.202Z"
   },
   {
    "duration": 60,
    "start_time": "2022-08-31T08:13:10.424Z"
   },
   {
    "duration": 508,
    "start_time": "2022-08-31T08:13:15.151Z"
   },
   {
    "duration": 30,
    "start_time": "2022-08-31T08:13:17.860Z"
   },
   {
    "duration": 115,
    "start_time": "2022-08-31T08:13:18.606Z"
   },
   {
    "duration": 16,
    "start_time": "2022-08-31T08:13:26.300Z"
   },
   {
    "duration": 15,
    "start_time": "2022-08-31T08:13:31.944Z"
   },
   {
    "duration": 31,
    "start_time": "2022-08-31T08:13:41.622Z"
   },
   {
    "duration": 742,
    "start_time": "2022-08-31T08:14:25.130Z"
   },
   {
    "duration": 194,
    "start_time": "2022-08-31T08:14:30.205Z"
   },
   {
    "duration": 308,
    "start_time": "2022-08-31T08:14:32.002Z"
   },
   {
    "duration": 126,
    "start_time": "2022-08-31T08:14:34.793Z"
   },
   {
    "duration": 51,
    "start_time": "2022-08-31T08:14:37.733Z"
   },
   {
    "duration": 57,
    "start_time": "2022-08-31T08:14:39.680Z"
   },
   {
    "duration": 30,
    "start_time": "2022-08-31T08:14:42.138Z"
   },
   {
    "duration": 35,
    "start_time": "2022-08-31T08:14:44.072Z"
   },
   {
    "duration": 2358,
    "start_time": "2022-08-31T08:20:44.967Z"
   },
   {
    "duration": 95,
    "start_time": "2022-08-31T08:20:47.328Z"
   },
   {
    "duration": 1435,
    "start_time": "2022-08-31T08:20:47.425Z"
   },
   {
    "duration": 832,
    "start_time": "2022-08-31T08:20:48.861Z"
   },
   {
    "duration": 46,
    "start_time": "2022-08-31T08:20:49.695Z"
   },
   {
    "duration": 44,
    "start_time": "2022-08-31T08:20:49.742Z"
   },
   {
    "duration": 31,
    "start_time": "2022-08-31T08:20:49.788Z"
   },
   {
    "duration": 128,
    "start_time": "2022-08-31T08:20:49.821Z"
   },
   {
    "duration": 212,
    "start_time": "2022-08-31T08:20:49.951Z"
   },
   {
    "duration": 258,
    "start_time": "2022-08-31T08:20:50.165Z"
   },
   {
    "duration": 92,
    "start_time": "2022-08-31T08:20:50.424Z"
   },
   {
    "duration": 149,
    "start_time": "2022-08-31T08:20:50.518Z"
   },
   {
    "duration": 178,
    "start_time": "2022-08-31T08:20:50.669Z"
   },
   {
    "duration": 103,
    "start_time": "2022-08-31T08:20:50.850Z"
   },
   {
    "duration": 113,
    "start_time": "2022-08-31T08:20:50.955Z"
   },
   {
    "duration": 60,
    "start_time": "2022-08-31T08:20:51.070Z"
   },
   {
    "duration": 39,
    "start_time": "2022-08-31T08:20:51.132Z"
   },
   {
    "duration": 51,
    "start_time": "2022-08-31T08:20:51.172Z"
   },
   {
    "duration": 505,
    "start_time": "2022-08-31T08:20:51.225Z"
   },
   {
    "duration": 28,
    "start_time": "2022-08-31T08:20:51.731Z"
   },
   {
    "duration": 770,
    "start_time": "2022-08-31T08:20:51.760Z"
   },
   {
    "duration": 191,
    "start_time": "2022-08-31T08:20:52.532Z"
   },
   {
    "duration": 317,
    "start_time": "2022-08-31T08:20:52.725Z"
   },
   {
    "duration": 134,
    "start_time": "2022-08-31T08:20:53.043Z"
   },
   {
    "duration": 54,
    "start_time": "2022-08-31T08:20:53.179Z"
   },
   {
    "duration": 59,
    "start_time": "2022-08-31T08:20:53.235Z"
   },
   {
    "duration": 32,
    "start_time": "2022-08-31T08:20:53.296Z"
   },
   {
    "duration": 40,
    "start_time": "2022-08-31T08:20:53.330Z"
   },
   {
    "duration": 43,
    "start_time": "2022-08-31T08:20:53.371Z"
   },
   {
    "duration": 2463,
    "start_time": "2022-08-31T08:21:48.951Z"
   },
   {
    "duration": 164327,
    "start_time": "2022-08-31T08:22:06.652Z"
   },
   {
    "duration": 5040,
    "start_time": "2022-08-31T14:04:29.847Z"
   },
   {
    "duration": 113,
    "start_time": "2022-08-31T14:04:34.889Z"
   },
   {
    "duration": 1769,
    "start_time": "2022-08-31T14:04:35.004Z"
   },
   {
    "duration": 3517,
    "start_time": "2022-08-31T14:04:36.775Z"
   },
   {
    "duration": 79,
    "start_time": "2022-08-31T14:04:40.294Z"
   },
   {
    "duration": 55,
    "start_time": "2022-08-31T14:04:40.376Z"
   },
   {
    "duration": 29,
    "start_time": "2022-08-31T14:04:40.433Z"
   },
   {
    "duration": 127,
    "start_time": "2022-08-31T14:04:40.464Z"
   },
   {
    "duration": 232,
    "start_time": "2022-08-31T14:04:40.593Z"
   },
   {
    "duration": 299,
    "start_time": "2022-08-31T14:04:40.827Z"
   },
   {
    "duration": 115,
    "start_time": "2022-08-31T14:04:41.128Z"
   },
   {
    "duration": 154,
    "start_time": "2022-08-31T14:04:41.245Z"
   },
   {
    "duration": 305,
    "start_time": "2022-08-31T14:04:41.401Z"
   },
   {
    "duration": 100,
    "start_time": "2022-08-31T14:04:41.708Z"
   },
   {
    "duration": 53,
    "start_time": "2022-08-31T14:04:41.810Z"
   },
   {
    "duration": 58,
    "start_time": "2022-08-31T14:04:41.865Z"
   },
   {
    "duration": 51,
    "start_time": "2022-08-31T14:04:41.926Z"
   },
   {
    "duration": 63,
    "start_time": "2022-08-31T14:04:41.979Z"
   },
   {
    "duration": 624,
    "start_time": "2022-08-31T14:04:42.044Z"
   },
   {
    "duration": 46,
    "start_time": "2022-08-31T14:04:42.670Z"
   },
   {
    "duration": 734,
    "start_time": "2022-08-31T14:04:42.717Z"
   },
   {
    "duration": 214,
    "start_time": "2022-08-31T14:04:43.452Z"
   },
   {
    "duration": 325,
    "start_time": "2022-08-31T14:04:43.668Z"
   },
   {
    "duration": 126,
    "start_time": "2022-08-31T14:04:43.995Z"
   },
   {
    "duration": 78,
    "start_time": "2022-08-31T14:04:44.123Z"
   },
   {
    "duration": 57,
    "start_time": "2022-08-31T14:04:44.204Z"
   },
   {
    "duration": 43,
    "start_time": "2022-08-31T14:04:44.262Z"
   },
   {
    "duration": 44,
    "start_time": "2022-08-31T14:04:44.306Z"
   },
   {
    "duration": 55,
    "start_time": "2022-08-31T14:04:44.351Z"
   },
   {
    "duration": 2719,
    "start_time": "2022-08-31T14:04:44.408Z"
   },
   {
    "duration": 114301,
    "start_time": "2022-08-31T14:04:47.129Z"
   },
   {
    "duration": 0,
    "start_time": "2022-08-31T14:06:41.434Z"
   },
   {
    "duration": 20,
    "start_time": "2022-08-31T14:07:02.352Z"
   },
   {
    "duration": 1014871,
    "start_time": "2022-08-31T14:07:09.524Z"
   },
   {
    "duration": 2350,
    "start_time": "2022-08-31T14:45:25.084Z"
   },
   {
    "duration": 195,
    "start_time": "2022-08-31T14:45:27.437Z"
   },
   {
    "duration": 1624,
    "start_time": "2022-08-31T14:45:27.634Z"
   },
   {
    "duration": 827,
    "start_time": "2022-08-31T14:45:29.259Z"
   },
   {
    "duration": 58,
    "start_time": "2022-08-31T14:45:30.089Z"
   },
   {
    "duration": 83,
    "start_time": "2022-08-31T14:45:30.149Z"
   },
   {
    "duration": 21,
    "start_time": "2022-08-31T14:45:30.233Z"
   },
   {
    "duration": 142,
    "start_time": "2022-08-31T14:45:30.255Z"
   },
   {
    "duration": 241,
    "start_time": "2022-08-31T14:45:30.399Z"
   },
   {
    "duration": 294,
    "start_time": "2022-08-31T14:45:30.641Z"
   },
   {
    "duration": 106,
    "start_time": "2022-08-31T14:45:30.937Z"
   },
   {
    "duration": 132,
    "start_time": "2022-08-31T14:45:31.045Z"
   },
   {
    "duration": 200,
    "start_time": "2022-08-31T14:45:31.179Z"
   },
   {
    "duration": 165,
    "start_time": "2022-08-31T14:45:31.382Z"
   },
   {
    "duration": 68,
    "start_time": "2022-08-31T14:45:31.549Z"
   },
   {
    "duration": 64,
    "start_time": "2022-08-31T14:45:31.619Z"
   },
   {
    "duration": 54,
    "start_time": "2022-08-31T14:45:31.685Z"
   },
   {
    "duration": 65,
    "start_time": "2022-08-31T14:45:31.741Z"
   },
   {
    "duration": 646,
    "start_time": "2022-08-31T14:45:31.808Z"
   },
   {
    "duration": 47,
    "start_time": "2022-08-31T14:45:32.456Z"
   },
   {
    "duration": 779,
    "start_time": "2022-08-31T14:45:32.505Z"
   },
   {
    "duration": 215,
    "start_time": "2022-08-31T14:45:33.286Z"
   },
   {
    "duration": 367,
    "start_time": "2022-08-31T14:45:33.503Z"
   },
   {
    "duration": 141,
    "start_time": "2022-08-31T14:45:33.872Z"
   },
   {
    "duration": 78,
    "start_time": "2022-08-31T14:45:34.015Z"
   },
   {
    "duration": 87,
    "start_time": "2022-08-31T14:45:34.095Z"
   },
   {
    "duration": 76,
    "start_time": "2022-08-31T14:45:34.184Z"
   },
   {
    "duration": 49,
    "start_time": "2022-08-31T14:45:34.262Z"
   },
   {
    "duration": 48,
    "start_time": "2022-08-31T14:45:34.313Z"
   },
   {
    "duration": 2907,
    "start_time": "2022-08-31T14:45:34.363Z"
   },
   {
    "duration": 161315,
    "start_time": "2022-08-31T14:45:37.272Z"
   },
   {
    "duration": 2138,
    "start_time": "2022-08-31T15:07:23.952Z"
   },
   {
    "duration": 107,
    "start_time": "2022-08-31T15:07:26.093Z"
   },
   {
    "duration": 1489,
    "start_time": "2022-08-31T15:07:26.202Z"
   },
   {
    "duration": 806,
    "start_time": "2022-08-31T15:07:27.693Z"
   },
   {
    "duration": 81,
    "start_time": "2022-08-31T15:07:28.502Z"
   },
   {
    "duration": 41,
    "start_time": "2022-08-31T15:07:28.584Z"
   },
   {
    "duration": 28,
    "start_time": "2022-08-31T15:07:28.626Z"
   },
   {
    "duration": 109,
    "start_time": "2022-08-31T15:07:28.655Z"
   },
   {
    "duration": 320,
    "start_time": "2022-08-31T15:07:28.765Z"
   },
   {
    "duration": 271,
    "start_time": "2022-08-31T15:07:29.086Z"
   },
   {
    "duration": 136,
    "start_time": "2022-08-31T15:07:29.359Z"
   },
   {
    "duration": 159,
    "start_time": "2022-08-31T15:07:29.497Z"
   },
   {
    "duration": 210,
    "start_time": "2022-08-31T15:07:29.658Z"
   },
   {
    "duration": 235,
    "start_time": "2022-08-31T15:07:29.871Z"
   },
   {
    "duration": 127,
    "start_time": "2022-08-31T15:07:30.108Z"
   },
   {
    "duration": 84,
    "start_time": "2022-08-31T15:07:30.236Z"
   },
   {
    "duration": 65,
    "start_time": "2022-08-31T15:07:30.321Z"
   },
   {
    "duration": 57,
    "start_time": "2022-08-31T15:07:30.387Z"
   },
   {
    "duration": 623,
    "start_time": "2022-08-31T15:07:30.446Z"
   },
   {
    "duration": 39,
    "start_time": "2022-08-31T15:07:31.071Z"
   },
   {
    "duration": 797,
    "start_time": "2022-08-31T15:07:31.112Z"
   },
   {
    "duration": 213,
    "start_time": "2022-08-31T15:07:31.911Z"
   },
   {
    "duration": 326,
    "start_time": "2022-08-31T15:07:32.126Z"
   },
   {
    "duration": 151,
    "start_time": "2022-08-31T15:07:32.455Z"
   },
   {
    "duration": 51,
    "start_time": "2022-08-31T15:07:32.608Z"
   },
   {
    "duration": 61,
    "start_time": "2022-08-31T15:07:32.661Z"
   },
   {
    "duration": 42,
    "start_time": "2022-08-31T15:07:32.724Z"
   },
   {
    "duration": 45,
    "start_time": "2022-08-31T15:07:32.768Z"
   },
   {
    "duration": 44,
    "start_time": "2022-08-31T15:07:32.814Z"
   },
   {
    "duration": 2330,
    "start_time": "2022-08-31T15:07:32.860Z"
   },
   {
    "duration": 153545,
    "start_time": "2022-08-31T15:07:35.192Z"
   },
   {
    "duration": 234331,
    "start_time": "2022-08-31T15:10:08.739Z"
   },
   {
    "duration": 420797,
    "start_time": "2022-08-31T15:14:03.072Z"
   },
   {
    "duration": 280,
    "start_time": "2022-08-31T15:21:03.871Z"
   },
   {
    "duration": 66,
    "start_time": "2022-08-31T15:21:04.153Z"
   },
   {
    "duration": 28481,
    "start_time": "2022-08-31T15:21:04.221Z"
   },
   {
    "duration": 52,
    "start_time": "2022-08-31T15:21:32.703Z"
   },
   {
    "duration": 116,
    "start_time": "2022-08-31T15:21:32.756Z"
   },
   {
    "duration": 168,
    "start_time": "2022-08-31T15:21:32.874Z"
   },
   {
    "duration": 7126,
    "start_time": "2022-08-31T15:21:33.043Z"
   },
   {
    "duration": 49,
    "start_time": "2022-08-31T15:21:40.173Z"
   },
   {
    "duration": 25,
    "start_time": "2022-08-31T15:21:40.224Z"
   },
   {
    "duration": 19,
    "start_time": "2022-08-31T15:24:39.001Z"
   },
   {
    "duration": 18,
    "start_time": "2022-08-31T15:25:09.192Z"
   },
   {
    "duration": 687,
    "start_time": "2022-08-31T15:26:26.359Z"
   },
   {
    "duration": 1150,
    "start_time": "2022-08-31T15:26:31.335Z"
   },
   {
    "duration": 17,
    "start_time": "2022-08-31T15:26:34.026Z"
   },
   {
    "duration": 124,
    "start_time": "2022-08-31T15:26:50.433Z"
   },
   {
    "duration": 18,
    "start_time": "2022-08-31T15:27:25.388Z"
   },
   {
    "duration": 640,
    "start_time": "2022-08-31T15:27:33.706Z"
   },
   {
    "duration": 1206,
    "start_time": "2022-08-31T15:27:36.127Z"
   },
   {
    "duration": 15,
    "start_time": "2022-08-31T15:27:56.882Z"
   },
   {
    "duration": 2123,
    "start_time": "2022-08-31T16:13:57.375Z"
   },
   {
    "duration": 137,
    "start_time": "2022-08-31T16:13:59.501Z"
   },
   {
    "duration": 1481,
    "start_time": "2022-08-31T16:13:59.640Z"
   },
   {
    "duration": 933,
    "start_time": "2022-08-31T16:14:01.123Z"
   },
   {
    "duration": 67,
    "start_time": "2022-08-31T16:14:02.058Z"
   },
   {
    "duration": 67,
    "start_time": "2022-08-31T16:14:02.127Z"
   },
   {
    "duration": 30,
    "start_time": "2022-08-31T16:14:02.196Z"
   },
   {
    "duration": 152,
    "start_time": "2022-08-31T16:14:02.227Z"
   },
   {
    "duration": 262,
    "start_time": "2022-08-31T16:14:02.381Z"
   },
   {
    "duration": 340,
    "start_time": "2022-08-31T16:14:02.645Z"
   },
   {
    "duration": 131,
    "start_time": "2022-08-31T16:14:02.987Z"
   },
   {
    "duration": 161,
    "start_time": "2022-08-31T16:14:03.119Z"
   },
   {
    "duration": 249,
    "start_time": "2022-08-31T16:14:03.282Z"
   },
   {
    "duration": 87,
    "start_time": "2022-08-31T16:14:03.535Z"
   },
   {
    "duration": 54,
    "start_time": "2022-08-31T16:14:03.623Z"
   },
   {
    "duration": 137,
    "start_time": "2022-08-31T16:14:03.678Z"
   },
   {
    "duration": 47,
    "start_time": "2022-08-31T16:14:03.817Z"
   },
   {
    "duration": 67,
    "start_time": "2022-08-31T16:14:03.866Z"
   },
   {
    "duration": 185,
    "start_time": "2022-08-31T16:14:21.556Z"
   },
   {
    "duration": 186,
    "start_time": "2022-08-31T16:14:34.297Z"
   },
   {
    "duration": 217,
    "start_time": "2022-08-31T16:14:38.516Z"
   },
   {
    "duration": 175,
    "start_time": "2022-08-31T16:14:51.201Z"
   },
   {
    "duration": 166,
    "start_time": "2022-08-31T16:14:55.578Z"
   },
   {
    "duration": 103,
    "start_time": "2022-08-31T16:15:15.000Z"
   },
   {
    "duration": 71,
    "start_time": "2022-08-31T16:15:31.782Z"
   },
   {
    "duration": 226,
    "start_time": "2022-08-31T16:15:35.140Z"
   },
   {
    "duration": 63,
    "start_time": "2022-08-31T16:15:39.806Z"
   },
   {
    "duration": 83,
    "start_time": "2022-08-31T16:16:14.115Z"
   },
   {
    "duration": 47,
    "start_time": "2022-08-31T16:16:45.082Z"
   },
   {
    "duration": 47,
    "start_time": "2022-08-31T16:16:48.400Z"
   },
   {
    "duration": 54,
    "start_time": "2022-08-31T16:16:52.514Z"
   },
   {
    "duration": 76,
    "start_time": "2022-08-31T16:17:41.080Z"
   },
   {
    "duration": 2034,
    "start_time": "2022-08-31T16:17:48.936Z"
   },
   {
    "duration": 107,
    "start_time": "2022-08-31T16:17:50.973Z"
   },
   {
    "duration": 1416,
    "start_time": "2022-08-31T16:17:51.082Z"
   },
   {
    "duration": 864,
    "start_time": "2022-08-31T16:17:52.499Z"
   },
   {
    "duration": 78,
    "start_time": "2022-08-31T16:17:53.365Z"
   },
   {
    "duration": 43,
    "start_time": "2022-08-31T16:17:53.445Z"
   },
   {
    "duration": 21,
    "start_time": "2022-08-31T16:17:53.490Z"
   },
   {
    "duration": 117,
    "start_time": "2022-08-31T16:17:53.513Z"
   },
   {
    "duration": 227,
    "start_time": "2022-08-31T16:17:53.631Z"
   },
   {
    "duration": 285,
    "start_time": "2022-08-31T16:17:53.860Z"
   },
   {
    "duration": 102,
    "start_time": "2022-08-31T16:17:54.146Z"
   },
   {
    "duration": 141,
    "start_time": "2022-08-31T16:17:54.251Z"
   },
   {
    "duration": 196,
    "start_time": "2022-08-31T16:17:54.393Z"
   },
   {
    "duration": 170,
    "start_time": "2022-08-31T16:17:54.592Z"
   },
   {
    "duration": 61,
    "start_time": "2022-08-31T16:17:54.764Z"
   },
   {
    "duration": 68,
    "start_time": "2022-08-31T16:17:54.827Z"
   },
   {
    "duration": 51,
    "start_time": "2022-08-31T16:17:54.897Z"
   },
   {
    "duration": 71,
    "start_time": "2022-08-31T16:17:54.951Z"
   },
   {
    "duration": 66,
    "start_time": "2022-08-31T16:17:55.024Z"
   },
   {
    "duration": 589,
    "start_time": "2022-08-31T16:17:55.092Z"
   },
   {
    "duration": 43,
    "start_time": "2022-08-31T16:17:55.683Z"
   },
   {
    "duration": 769,
    "start_time": "2022-08-31T16:17:55.728Z"
   },
   {
    "duration": 217,
    "start_time": "2022-08-31T16:17:56.499Z"
   },
   {
    "duration": 324,
    "start_time": "2022-08-31T16:17:56.718Z"
   },
   {
    "duration": 127,
    "start_time": "2022-08-31T16:17:57.044Z"
   },
   {
    "duration": 71,
    "start_time": "2022-08-31T16:17:57.173Z"
   },
   {
    "duration": 69,
    "start_time": "2022-08-31T16:17:57.247Z"
   },
   {
    "duration": 44,
    "start_time": "2022-08-31T16:17:57.318Z"
   },
   {
    "duration": 49,
    "start_time": "2022-08-31T16:17:57.364Z"
   },
   {
    "duration": 40,
    "start_time": "2022-08-31T16:17:57.414Z"
   },
   {
    "duration": 2289,
    "start_time": "2022-08-31T16:17:57.456Z"
   },
   {
    "duration": 152354,
    "start_time": "2022-08-31T16:17:59.747Z"
   },
   {
    "duration": 287876,
    "start_time": "2022-08-31T16:20:32.102Z"
   },
   {
    "duration": 2044,
    "start_time": "2022-08-31T16:54:12.350Z"
   },
   {
    "duration": 103,
    "start_time": "2022-08-31T16:54:14.396Z"
   },
   {
    "duration": 1403,
    "start_time": "2022-08-31T16:54:14.501Z"
   },
   {
    "duration": 905,
    "start_time": "2022-08-31T16:54:15.906Z"
   },
   {
    "duration": 82,
    "start_time": "2022-08-31T16:54:16.813Z"
   },
   {
    "duration": 42,
    "start_time": "2022-08-31T16:54:16.897Z"
   },
   {
    "duration": 29,
    "start_time": "2022-08-31T16:54:16.940Z"
   },
   {
    "duration": 115,
    "start_time": "2022-08-31T16:54:16.970Z"
   },
   {
    "duration": 215,
    "start_time": "2022-08-31T16:54:17.086Z"
   },
   {
    "duration": 270,
    "start_time": "2022-08-31T16:54:17.303Z"
   },
   {
    "duration": 97,
    "start_time": "2022-08-31T16:54:17.574Z"
   },
   {
    "duration": 151,
    "start_time": "2022-08-31T16:54:17.673Z"
   },
   {
    "duration": 201,
    "start_time": "2022-08-31T16:54:17.826Z"
   },
   {
    "duration": 90,
    "start_time": "2022-08-31T16:54:18.029Z"
   },
   {
    "duration": 131,
    "start_time": "2022-08-31T16:54:18.121Z"
   },
   {
    "duration": 69,
    "start_time": "2022-08-31T16:54:18.254Z"
   },
   {
    "duration": 50,
    "start_time": "2022-08-31T16:54:18.325Z"
   },
   {
    "duration": 58,
    "start_time": "2022-08-31T16:54:18.377Z"
   },
   {
    "duration": 61,
    "start_time": "2022-08-31T16:54:18.437Z"
   },
   {
    "duration": 605,
    "start_time": "2022-08-31T16:54:18.499Z"
   },
   {
    "duration": 42,
    "start_time": "2022-08-31T16:54:19.105Z"
   },
   {
    "duration": 759,
    "start_time": "2022-08-31T16:54:19.149Z"
   },
   {
    "duration": 213,
    "start_time": "2022-08-31T16:54:19.909Z"
   },
   {
    "duration": 305,
    "start_time": "2022-08-31T16:54:20.123Z"
   },
   {
    "duration": 128,
    "start_time": "2022-08-31T16:54:20.430Z"
   },
   {
    "duration": 57,
    "start_time": "2022-08-31T16:54:20.559Z"
   },
   {
    "duration": 57,
    "start_time": "2022-08-31T16:54:20.618Z"
   },
   {
    "duration": 43,
    "start_time": "2022-08-31T16:54:20.679Z"
   },
   {
    "duration": 42,
    "start_time": "2022-08-31T16:54:20.724Z"
   },
   {
    "duration": 41,
    "start_time": "2022-08-31T16:54:20.767Z"
   },
   {
    "duration": 2318,
    "start_time": "2022-08-31T16:54:20.810Z"
   },
   {
    "duration": 151422,
    "start_time": "2022-08-31T16:54:23.130Z"
   },
   {
    "duration": 283317,
    "start_time": "2022-08-31T16:56:54.553Z"
   },
   {
    "duration": 2044,
    "start_time": "2022-08-31T17:14:47.390Z"
   },
   {
    "duration": 103,
    "start_time": "2022-08-31T17:14:49.436Z"
   },
   {
    "duration": 1499,
    "start_time": "2022-08-31T17:14:49.541Z"
   },
   {
    "duration": 860,
    "start_time": "2022-08-31T17:14:51.042Z"
   },
   {
    "duration": 59,
    "start_time": "2022-08-31T17:14:51.905Z"
   },
   {
    "duration": 37,
    "start_time": "2022-08-31T17:14:51.966Z"
   },
   {
    "duration": 24,
    "start_time": "2022-08-31T17:14:52.005Z"
   },
   {
    "duration": 112,
    "start_time": "2022-08-31T17:14:52.031Z"
   },
   {
    "duration": 229,
    "start_time": "2022-08-31T17:14:52.145Z"
   },
   {
    "duration": 274,
    "start_time": "2022-08-31T17:14:52.376Z"
   },
   {
    "duration": 111,
    "start_time": "2022-08-31T17:14:52.652Z"
   },
   {
    "duration": 130,
    "start_time": "2022-08-31T17:14:52.764Z"
   },
   {
    "duration": 202,
    "start_time": "2022-08-31T17:14:52.896Z"
   },
   {
    "duration": 167,
    "start_time": "2022-08-31T17:14:53.101Z"
   },
   {
    "duration": 66,
    "start_time": "2022-08-31T17:14:53.270Z"
   },
   {
    "duration": 69,
    "start_time": "2022-08-31T17:14:53.338Z"
   },
   {
    "duration": 49,
    "start_time": "2022-08-31T17:14:53.409Z"
   },
   {
    "duration": 71,
    "start_time": "2022-08-31T17:14:53.460Z"
   },
   {
    "duration": 67,
    "start_time": "2022-08-31T17:14:53.533Z"
   },
   {
    "duration": 535,
    "start_time": "2022-08-31T17:14:53.601Z"
   },
   {
    "duration": 48,
    "start_time": "2022-08-31T17:14:54.138Z"
   },
   {
    "duration": 748,
    "start_time": "2022-08-31T17:14:54.187Z"
   },
   {
    "duration": 216,
    "start_time": "2022-08-31T17:14:54.936Z"
   },
   {
    "duration": 315,
    "start_time": "2022-08-31T17:14:55.154Z"
   },
   {
    "duration": 147,
    "start_time": "2022-08-31T17:14:55.471Z"
   },
   {
    "duration": 67,
    "start_time": "2022-08-31T17:14:55.621Z"
   },
   {
    "duration": 60,
    "start_time": "2022-08-31T17:14:55.689Z"
   },
   {
    "duration": 38,
    "start_time": "2022-08-31T17:14:55.751Z"
   },
   {
    "duration": 36,
    "start_time": "2022-08-31T17:14:55.790Z"
   },
   {
    "duration": 40,
    "start_time": "2022-08-31T17:14:55.828Z"
   },
   {
    "duration": 2318,
    "start_time": "2022-08-31T17:14:55.869Z"
   },
   {
    "duration": 148975,
    "start_time": "2022-08-31T17:14:58.188Z"
   },
   {
    "duration": 296213,
    "start_time": "2022-08-31T17:17:27.167Z"
   },
   {
    "duration": 4795,
    "start_time": "2022-09-01T07:18:10.998Z"
   },
   {
    "duration": 123,
    "start_time": "2022-09-01T07:18:15.796Z"
   },
   {
    "duration": 1627,
    "start_time": "2022-09-01T07:18:15.921Z"
   },
   {
    "duration": 1328,
    "start_time": "2022-09-01T07:18:17.549Z"
   },
   {
    "duration": 69,
    "start_time": "2022-09-01T07:18:18.880Z"
   },
   {
    "duration": 53,
    "start_time": "2022-09-01T07:18:18.950Z"
   },
   {
    "duration": 32,
    "start_time": "2022-09-01T07:18:19.005Z"
   },
   {
    "duration": 195,
    "start_time": "2022-09-01T07:18:19.039Z"
   },
   {
    "duration": 229,
    "start_time": "2022-09-01T07:18:19.235Z"
   },
   {
    "duration": 298,
    "start_time": "2022-09-01T07:18:19.466Z"
   },
   {
    "duration": 200,
    "start_time": "2022-09-01T07:18:19.766Z"
   },
   {
    "duration": 170,
    "start_time": "2022-09-01T07:18:19.969Z"
   },
   {
    "duration": 367,
    "start_time": "2022-09-01T07:18:20.141Z"
   },
   {
    "duration": 314,
    "start_time": "2022-09-01T07:18:20.511Z"
   },
   {
    "duration": 45,
    "start_time": "2022-09-01T07:18:20.827Z"
   },
   {
    "duration": 51,
    "start_time": "2022-09-01T07:18:20.874Z"
   },
   {
    "duration": 58,
    "start_time": "2022-09-01T07:18:20.927Z"
   },
   {
    "duration": 53,
    "start_time": "2022-09-01T07:18:20.987Z"
   },
   {
    "duration": 83,
    "start_time": "2022-09-01T07:18:21.042Z"
   },
   {
    "duration": 760,
    "start_time": "2022-09-01T07:18:21.127Z"
   },
   {
    "duration": 38,
    "start_time": "2022-09-01T07:18:21.889Z"
   },
   {
    "duration": 744,
    "start_time": "2022-09-01T07:18:21.929Z"
   },
   {
    "duration": 221,
    "start_time": "2022-09-01T07:18:22.675Z"
   },
   {
    "duration": 346,
    "start_time": "2022-09-01T07:18:22.898Z"
   },
   {
    "duration": 145,
    "start_time": "2022-09-01T07:18:23.246Z"
   },
   {
    "duration": 48,
    "start_time": "2022-09-01T07:18:23.393Z"
   },
   {
    "duration": 55,
    "start_time": "2022-09-01T07:18:23.443Z"
   },
   {
    "duration": 28,
    "start_time": "2022-09-01T07:18:23.500Z"
   },
   {
    "duration": 35,
    "start_time": "2022-09-01T07:18:23.530Z"
   },
   {
    "duration": 30,
    "start_time": "2022-09-01T07:18:23.567Z"
   },
   {
    "duration": 2426,
    "start_time": "2022-09-01T07:18:23.599Z"
   },
   {
    "duration": 161492,
    "start_time": "2022-09-01T07:18:26.027Z"
   },
   {
    "duration": 301965,
    "start_time": "2022-09-01T07:21:07.521Z"
   },
   {
    "duration": 1568113,
    "start_time": "2022-09-01T07:26:09.487Z"
   },
   {
    "duration": 265,
    "start_time": "2022-09-01T07:52:17.602Z"
   },
   {
    "duration": 29,
    "start_time": "2022-09-01T07:52:17.869Z"
   },
   {
    "duration": 30034,
    "start_time": "2022-09-01T07:52:17.900Z"
   },
   {
    "duration": 31,
    "start_time": "2022-09-01T07:52:47.936Z"
   },
   {
    "duration": 119,
    "start_time": "2022-09-01T07:52:47.969Z"
   },
   {
    "duration": 98,
    "start_time": "2022-09-01T07:52:48.090Z"
   },
   {
    "duration": 39594,
    "start_time": "2022-09-01T07:52:48.192Z"
   },
   {
    "duration": 40,
    "start_time": "2022-09-01T07:53:27.788Z"
   },
   {
    "duration": 20,
    "start_time": "2022-09-01T07:55:09.667Z"
   },
   {
    "duration": 650,
    "start_time": "2022-09-01T07:57:01.254Z"
   },
   {
    "duration": 1120,
    "start_time": "2022-09-01T07:57:04.862Z"
   },
   {
    "duration": 15,
    "start_time": "2022-09-01T07:57:08.240Z"
   }
  ],
  "kernelspec": {
   "display_name": "Python 3 (ipykernel)",
   "language": "python",
   "name": "python3"
  },
  "language_info": {
   "codemirror_mode": {
    "name": "ipython",
    "version": 3
   },
   "file_extension": ".py",
   "mimetype": "text/x-python",
   "name": "python",
   "nbconvert_exporter": "python",
   "pygments_lexer": "ipython3",
   "version": "3.10.7"
  },
  "toc": {
   "base_numbering": 1,
   "nav_menu": {},
   "number_sections": true,
   "sideBar": true,
   "skip_h1_title": true,
   "title_cell": "Table of Contents",
   "title_sidebar": "Contents",
   "toc_cell": false,
   "toc_position": {},
   "toc_section_display": true,
   "toc_window_display": false
  }
 },
 "nbformat": 4,
 "nbformat_minor": 4
}
