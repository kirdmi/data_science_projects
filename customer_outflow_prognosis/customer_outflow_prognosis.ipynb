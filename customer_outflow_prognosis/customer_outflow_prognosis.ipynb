{
 "cells": [
  {
   "cell_type": "markdown",
   "metadata": {},
   "source": [
    "# Customer Churn Prediction"
   ]
  },
  {
   "cell_type": "markdown",
   "metadata": {},
   "source": [
    "The project aims to predict potential customer churn in a bank, as the bank has been experiencing monthly outflow of customers. The goal is to build a predictive model with a high F1-measure value of at least 0.59, and also measure the model's performance using the AUC-ROC metric for improved accuracy.\n",
    "\n",
    "The project will involve the following steps:\n",
    "\n",
    "- Data Exploration: Exploring the provided historical data on customer behavior to understand the patterns and trends associated with customer churn.\n",
    "- Data Preprocessing: Preprocessing the data by handling missing values, encoding categorical variables, and performing feature engineering to prepare the data for model building.\n",
    "- Feature Selection: Selecting the most relevant features that have a significant impact on customer churn.\n",
    "- Model Building: Building predictive models using suitable machine learning algorithms, such as logistic regression, decision trees, or random forests, and optimizing the hyperparameters for maximum F1-measure value.\n",
    "- Model Evaluation: Evaluating the performance of the models using the F1-measure and AUC-ROC metrics, and selecting the model with the highest F1-measure value.\n",
    "- Model Interpretation: Interpreting the results of the chosen model to gain insights into the factors driving customer churn and providing recommendations for retention strategies.\n",
    "\n",
    "Libraries: Pandas, NumPy, Matplotlib, Scikit-learn for model building and evaluation."
   ]
  },
  {
   "cell_type": "markdown",
   "metadata": {},
   "source": [
    "## Data preparation"
   ]
  },
  {
   "cell_type": "code",
   "execution_count": 1,
   "metadata": {},
   "outputs": [],
   "source": [
    "import pandas as pd\n",
    "import seaborn as sns\n",
    "import matplotlib.pyplot as plt\n",
    "import numpy as np\n",
    "from sklearn.model_selection import train_test_split\n",
    "from sklearn.metrics import f1_score\n",
    "from sklearn.tree import DecisionTreeClassifier\n",
    "from sklearn.ensemble import RandomForestClassifier\n",
    "from sklearn.linear_model import LogisticRegression\n",
    "import re\n",
    "from sklearn.dummy import DummyClassifier\n",
    "from sklearn.utils import shuffle\n",
    "from sklearn.metrics import precision_score, recall_score\n",
    "from sklearn.preprocessing import StandardScaler\n",
    "from sklearn.metrics import roc_auc_score\n",
    "from sklearn.metrics import roc_curve"
   ]
  },
  {
   "cell_type": "code",
   "execution_count": 2,
   "metadata": {},
   "outputs": [],
   "source": [
    "df = pd.read_csv('Churn.csv')"
   ]
  },
  {
   "cell_type": "code",
   "execution_count": 3,
   "metadata": {},
   "outputs": [],
   "source": [
    "df.columns = [re.sub(r\"(\\w)([A-Z])\", r\"\\1_\\2\", x, count=5).lower() for x in df.columns]"
   ]
  },
  {
   "cell_type": "code",
   "execution_count": 4,
   "metadata": {
    "scrolled": true
   },
   "outputs": [],
   "source": [
    "df = df.drop(['row_number', 'customer_id', 'surname'], axis = 1)"
   ]
  },
  {
   "cell_type": "markdown",
   "metadata": {},
   "source": [
    "Features have been removed due to the fact that they are unique for each client and will interfere with the construction of a functioning model."
   ]
  },
  {
   "cell_type": "code",
   "execution_count": 5,
   "metadata": {
    "scrolled": true
   },
   "outputs": [
    {
     "name": "stdout",
     "output_type": "stream",
     "text": [
      "<class 'pandas.core.frame.DataFrame'>\n",
      "RangeIndex: 10000 entries, 0 to 9999\n",
      "Data columns (total 11 columns):\n",
      " #   Column            Non-Null Count  Dtype  \n",
      "---  ------            --------------  -----  \n",
      " 0   credit_score      10000 non-null  int64  \n",
      " 1   geography         10000 non-null  object \n",
      " 2   gender            10000 non-null  object \n",
      " 3   age               10000 non-null  int64  \n",
      " 4   tenure            9091 non-null   float64\n",
      " 5   balance           10000 non-null  float64\n",
      " 6   num_of_products   10000 non-null  int64  \n",
      " 7   has_cr_card       10000 non-null  int64  \n",
      " 8   is_active_member  10000 non-null  int64  \n",
      " 9   estimated_salary  10000 non-null  float64\n",
      " 10  exited            10000 non-null  int64  \n",
      "dtypes: float64(3), int64(6), object(2)\n",
      "memory usage: 859.5+ KB\n"
     ]
    }
   ],
   "source": [
    "df.info()"
   ]
  },
  {
   "cell_type": "code",
   "execution_count": 6,
   "metadata": {},
   "outputs": [
    {
     "data": {
      "text/plain": [
       "0"
      ]
     },
     "execution_count": 6,
     "metadata": {},
     "output_type": "execute_result"
    }
   ],
   "source": [
    "df.duplicated().sum()"
   ]
  },
  {
   "cell_type": "code",
   "execution_count": 7,
   "metadata": {
    "scrolled": true
   },
   "outputs": [
    {
     "data": {
      "text/plain": [
       "credit_score          0\n",
       "geography             0\n",
       "gender                0\n",
       "age                   0\n",
       "tenure              909\n",
       "balance               0\n",
       "num_of_products       0\n",
       "has_cr_card           0\n",
       "is_active_member      0\n",
       "estimated_salary      0\n",
       "exited                0\n",
       "dtype: int64"
      ]
     },
     "execution_count": 7,
     "metadata": {},
     "output_type": "execute_result"
    }
   ],
   "source": [
    "df.isna().sum()"
   ]
  },
  {
   "cell_type": "markdown",
   "metadata": {},
   "source": [
    "Column names have been sorted. There was also data analysis for duplicates and NaNs. 909 NaN entries were found in the **tenure** column.\n",
    "\n",
    "What to do with it?\n",
    "\n",
    "**Tenure** is how many years a person has been a client of the bank. In order not to lose the rest of the actual data, these values must be filled in, otherwise it will not be possible to carry out training. Fill in the data with zeros."
   ]
  },
  {
   "cell_type": "code",
   "execution_count": 8,
   "metadata": {},
   "outputs": [
    {
     "data": {
      "text/plain": [
       "array([ 2.,  1.,  8.,  7.,  4.,  6.,  3., 10.,  5.,  9.,  0., nan])"
      ]
     },
     "execution_count": 8,
     "metadata": {},
     "output_type": "execute_result"
    }
   ],
   "source": [
    "df['tenure'].unique()"
   ]
  },
  {
   "cell_type": "markdown",
   "metadata": {},
   "source": [
    "For the purity of the sample, we remove records with gaps."
   ]
  },
  {
   "cell_type": "code",
   "execution_count": 9,
   "metadata": {},
   "outputs": [],
   "source": [
    "df = df.dropna() "
   ]
  },
  {
   "cell_type": "code",
   "execution_count": 10,
   "metadata": {},
   "outputs": [],
   "source": [
    "data = pd.get_dummies(df, drop_first=True)"
   ]
  },
  {
   "cell_type": "code",
   "execution_count": 11,
   "metadata": {},
   "outputs": [
    {
     "data": {
      "text/html": [
       "<div>\n",
       "<style scoped>\n",
       "    .dataframe tbody tr th:only-of-type {\n",
       "        vertical-align: middle;\n",
       "    }\n",
       "\n",
       "    .dataframe tbody tr th {\n",
       "        vertical-align: top;\n",
       "    }\n",
       "\n",
       "    .dataframe thead th {\n",
       "        text-align: right;\n",
       "    }\n",
       "</style>\n",
       "<table border=\"1\" class=\"dataframe\">\n",
       "  <thead>\n",
       "    <tr style=\"text-align: right;\">\n",
       "      <th></th>\n",
       "      <th>credit_score</th>\n",
       "      <th>age</th>\n",
       "      <th>tenure</th>\n",
       "      <th>balance</th>\n",
       "      <th>num_of_products</th>\n",
       "      <th>has_cr_card</th>\n",
       "      <th>is_active_member</th>\n",
       "      <th>estimated_salary</th>\n",
       "      <th>exited</th>\n",
       "      <th>geography_Germany</th>\n",
       "      <th>geography_Spain</th>\n",
       "      <th>gender_Male</th>\n",
       "    </tr>\n",
       "  </thead>\n",
       "  <tbody>\n",
       "    <tr>\n",
       "      <th>0</th>\n",
       "      <td>619</td>\n",
       "      <td>42</td>\n",
       "      <td>2.0</td>\n",
       "      <td>0.00</td>\n",
       "      <td>1</td>\n",
       "      <td>1</td>\n",
       "      <td>1</td>\n",
       "      <td>101348.88</td>\n",
       "      <td>1</td>\n",
       "      <td>0</td>\n",
       "      <td>0</td>\n",
       "      <td>0</td>\n",
       "    </tr>\n",
       "    <tr>\n",
       "      <th>1</th>\n",
       "      <td>608</td>\n",
       "      <td>41</td>\n",
       "      <td>1.0</td>\n",
       "      <td>83807.86</td>\n",
       "      <td>1</td>\n",
       "      <td>0</td>\n",
       "      <td>1</td>\n",
       "      <td>112542.58</td>\n",
       "      <td>0</td>\n",
       "      <td>0</td>\n",
       "      <td>1</td>\n",
       "      <td>0</td>\n",
       "    </tr>\n",
       "    <tr>\n",
       "      <th>2</th>\n",
       "      <td>502</td>\n",
       "      <td>42</td>\n",
       "      <td>8.0</td>\n",
       "      <td>159660.80</td>\n",
       "      <td>3</td>\n",
       "      <td>1</td>\n",
       "      <td>0</td>\n",
       "      <td>113931.57</td>\n",
       "      <td>1</td>\n",
       "      <td>0</td>\n",
       "      <td>0</td>\n",
       "      <td>0</td>\n",
       "    </tr>\n",
       "    <tr>\n",
       "      <th>3</th>\n",
       "      <td>699</td>\n",
       "      <td>39</td>\n",
       "      <td>1.0</td>\n",
       "      <td>0.00</td>\n",
       "      <td>2</td>\n",
       "      <td>0</td>\n",
       "      <td>0</td>\n",
       "      <td>93826.63</td>\n",
       "      <td>0</td>\n",
       "      <td>0</td>\n",
       "      <td>0</td>\n",
       "      <td>0</td>\n",
       "    </tr>\n",
       "    <tr>\n",
       "      <th>4</th>\n",
       "      <td>850</td>\n",
       "      <td>43</td>\n",
       "      <td>2.0</td>\n",
       "      <td>125510.82</td>\n",
       "      <td>1</td>\n",
       "      <td>1</td>\n",
       "      <td>1</td>\n",
       "      <td>79084.10</td>\n",
       "      <td>0</td>\n",
       "      <td>0</td>\n",
       "      <td>1</td>\n",
       "      <td>0</td>\n",
       "    </tr>\n",
       "  </tbody>\n",
       "</table>\n",
       "</div>"
      ],
      "text/plain": [
       "   credit_score  age  tenure    balance  num_of_products  has_cr_card  \\\n",
       "0           619   42     2.0       0.00                1            1   \n",
       "1           608   41     1.0   83807.86                1            0   \n",
       "2           502   42     8.0  159660.80                3            1   \n",
       "3           699   39     1.0       0.00                2            0   \n",
       "4           850   43     2.0  125510.82                1            1   \n",
       "\n",
       "   is_active_member  estimated_salary  exited  geography_Germany  \\\n",
       "0                 1         101348.88       1                  0   \n",
       "1                 1         112542.58       0                  0   \n",
       "2                 0         113931.57       1                  0   \n",
       "3                 0          93826.63       0                  0   \n",
       "4                 1          79084.10       0                  0   \n",
       "\n",
       "   geography_Spain  gender_Male  \n",
       "0                0            0  \n",
       "1                1            0  \n",
       "2                0            0  \n",
       "3                0            0  \n",
       "4                1            0  "
      ]
     },
     "execution_count": 11,
     "metadata": {},
     "output_type": "execute_result"
    }
   ],
   "source": [
    "data.head(5)"
   ]
  },
  {
   "cell_type": "code",
   "execution_count": 12,
   "metadata": {
    "scrolled": true
   },
   "outputs": [
    {
     "name": "stdout",
     "output_type": "stream",
     "text": [
      "<class 'pandas.core.frame.DataFrame'>\n",
      "Int64Index: 9091 entries, 0 to 9998\n",
      "Data columns (total 12 columns):\n",
      " #   Column             Non-Null Count  Dtype  \n",
      "---  ------             --------------  -----  \n",
      " 0   credit_score       9091 non-null   int64  \n",
      " 1   age                9091 non-null   int64  \n",
      " 2   tenure             9091 non-null   float64\n",
      " 3   balance            9091 non-null   float64\n",
      " 4   num_of_products    9091 non-null   int64  \n",
      " 5   has_cr_card        9091 non-null   int64  \n",
      " 6   is_active_member   9091 non-null   int64  \n",
      " 7   estimated_salary   9091 non-null   float64\n",
      " 8   exited             9091 non-null   int64  \n",
      " 9   geography_Germany  9091 non-null   uint8  \n",
      " 10  geography_Spain    9091 non-null   uint8  \n",
      " 11  gender_Male        9091 non-null   uint8  \n",
      "dtypes: float64(3), int64(6), uint8(3)\n",
      "memory usage: 736.9 KB\n"
     ]
    }
   ],
   "source": [
    "data.info()"
   ]
  },
  {
   "cell_type": "markdown",
   "metadata": {},
   "source": [
    "Let's change the data types."
   ]
  },
  {
   "cell_type": "code",
   "execution_count": 13,
   "metadata": {
    "scrolled": true
   },
   "outputs": [],
   "source": [
    "data = data.astype({\"credit_score\":'int32', \"age\":'int32', \"tenure\":'int32', \"balance\":'float32', \"num_of_products\":'int32', \"has_cr_card\":'int32', \"is_active_member\":'int32', \"estimated_salary\":'float32', \"exited\":'int32'})"
   ]
  },
  {
   "cell_type": "code",
   "execution_count": 14,
   "metadata": {
    "scrolled": true
   },
   "outputs": [
    {
     "name": "stdout",
     "output_type": "stream",
     "text": [
      "<class 'pandas.core.frame.DataFrame'>\n",
      "Int64Index: 9091 entries, 0 to 9998\n",
      "Data columns (total 12 columns):\n",
      " #   Column             Non-Null Count  Dtype  \n",
      "---  ------             --------------  -----  \n",
      " 0   credit_score       9091 non-null   int32  \n",
      " 1   age                9091 non-null   int32  \n",
      " 2   tenure             9091 non-null   int32  \n",
      " 3   balance            9091 non-null   float32\n",
      " 4   num_of_products    9091 non-null   int32  \n",
      " 5   has_cr_card        9091 non-null   int32  \n",
      " 6   is_active_member   9091 non-null   int32  \n",
      " 7   estimated_salary   9091 non-null   float32\n",
      " 8   exited             9091 non-null   int32  \n",
      " 9   geography_Germany  9091 non-null   uint8  \n",
      " 10  geography_Spain    9091 non-null   uint8  \n",
      " 11  gender_Male        9091 non-null   uint8  \n",
      "dtypes: float32(2), int32(7), uint8(3)\n",
      "memory usage: 417.3 KB\n"
     ]
    }
   ],
   "source": [
    "data.info()"
   ]
  },
  {
   "cell_type": "markdown",
   "metadata": {},
   "source": [
    "The data is converted, all the necessary values are given in numerical form."
   ]
  },
  {
   "cell_type": "code",
   "execution_count": 15,
   "metadata": {},
   "outputs": [],
   "source": [
    "target = data['exited']\n",
    "features = data.drop('exited', axis=1)"
   ]
  },
  {
   "cell_type": "code",
   "execution_count": 16,
   "metadata": {},
   "outputs": [],
   "source": [
    "features_train, features_test, target_train, target_test = train_test_split(features, target, stratify=target, test_size=0.4, random_state=12345)\n",
    "\n",
    "features_test, features_valid, target_test, target_valid = train_test_split(features_test, target_test, stratify=target_test, test_size=0.5, random_state=12345)"
   ]
  },
  {
   "cell_type": "code",
   "execution_count": 17,
   "metadata": {},
   "outputs": [
    {
     "name": "stdout",
     "output_type": "stream",
     "text": [
      "(5454, 11)\n",
      "(5454,)\n",
      "(1818, 11)\n",
      "(1818,)\n",
      "(1819, 11)\n",
      "(1819,)\n"
     ]
    }
   ],
   "source": [
    "print(np.shape(features_train))\n",
    "print(np.shape(target_train))\n",
    "\n",
    "print(np.shape(features_test))\n",
    "print(np.shape(target_test))\n",
    "\n",
    "print(np.shape(features_valid))\n",
    "print(np.shape(target_valid))"
   ]
  },
  {
   "cell_type": "code",
   "execution_count": 18,
   "metadata": {},
   "outputs": [],
   "source": [
    "numeric = ['credit_score', 'age', 'balance', 'num_of_products', 'estimated_salary']\n",
    "\n",
    "scaler = StandardScaler()\n",
    "scaler.fit(features_train[numeric])\n",
    "features_train[numeric] = scaler.transform(features_train[numeric])\n",
    "features_test[numeric] = scaler.transform(features_test[numeric])\n",
    "features_valid[numeric] = scaler.transform(features_valid[numeric])   "
   ]
  },
  {
   "cell_type": "markdown",
   "metadata": {},
   "source": [
    "The necessary samples have been created."
   ]
  },
  {
   "cell_type": "markdown",
   "metadata": {},
   "source": [
    "## Problem research"
   ]
  },
  {
   "cell_type": "code",
   "execution_count": 19,
   "metadata": {},
   "outputs": [],
   "source": [
    "class_frequency = data['exited'].value_counts(normalize=True)"
   ]
  },
  {
   "cell_type": "code",
   "execution_count": 20,
   "metadata": {},
   "outputs": [
    {
     "name": "stdout",
     "output_type": "stream",
     "text": [
      "0    0.796062\n",
      "1    0.203938\n",
      "Name: exited, dtype: float64\n"
     ]
    },
    {
     "data": {
      "text/plain": [
       "<Axes: >"
      ]
     },
     "execution_count": 20,
     "metadata": {},
     "output_type": "execute_result"
    },
    {
     "data": {
      "image/png": "[encoded data removed]",
      "text/plain": [
       "<Figure size 640x480 with 1 Axes>"
      ]
     },
     "metadata": {},
     "output_type": "display_data"
    }
   ],
   "source": [
    "print(class_frequency)\n",
    "class_frequency.plot(kind='bar')"
   ]
  },
  {
   "cell_type": "markdown",
   "metadata": {},
   "source": [
    "Class imbalance has been objectified."
   ]
  },
  {
   "cell_type": "code",
   "execution_count": 21,
   "metadata": {
    "scrolled": true
   },
   "outputs": [
    {
     "name": "stdout",
     "output_type": "stream",
     "text": [
      "0    0.796113\n",
      "1    0.203887\n",
      "Name: exited, dtype: float64\n"
     ]
    },
    {
     "data": {
      "text/plain": [
       "<Axes: >"
      ]
     },
     "execution_count": 21,
     "metadata": {},
     "output_type": "execute_result"
    },
    {
     "data": {
      "image/png": "[encoded data removed]",
      "text/plain": [
       "<Figure size 640x480 with 1 Axes>"
      ]
     },
     "metadata": {},
     "output_type": "display_data"
    }
   ],
   "source": [
    "print(target_train.value_counts(normalize=True))\n",
    "target_train.value_counts(normalize=True).plot(kind='bar')"
   ]
  },
  {
   "cell_type": "code",
   "execution_count": 22,
   "metadata": {
    "scrolled": true
   },
   "outputs": [
    {
     "name": "stdout",
     "output_type": "stream",
     "text": [
      "0    0.79593\n",
      "1    0.20407\n",
      "Name: exited, dtype: float64\n"
     ]
    },
    {
     "data": {
      "text/plain": [
       "<Axes: >"
      ]
     },
     "execution_count": 22,
     "metadata": {},
     "output_type": "execute_result"
    },
    {
     "data": {
      "image/png": "[encoded data removed]",
      "text/plain": [
       "<Figure size 640x480 with 1 Axes>"
      ]
     },
     "metadata": {},
     "output_type": "display_data"
    }
   ],
   "source": [
    "print(target_test.value_counts(normalize=True))\n",
    "target_test.value_counts(normalize=True).plot(kind='bar')"
   ]
  },
  {
   "cell_type": "code",
   "execution_count": 23,
   "metadata": {
    "scrolled": true
   },
   "outputs": [
    {
     "name": "stdout",
     "output_type": "stream",
     "text": [
      "0    0.796042\n",
      "1    0.203958\n",
      "Name: exited, dtype: float64\n"
     ]
    },
    {
     "data": {
      "text/plain": [
       "<Axes: >"
      ]
     },
     "execution_count": 23,
     "metadata": {},
     "output_type": "execute_result"
    },
    {
     "data": {
      "image/png": "[encoded data removed]",
      "text/plain": [
       "<Figure size 640x480 with 1 Axes>"
      ]
     },
     "metadata": {},
     "output_type": "display_data"
    }
   ],
   "source": [
    "print(target_valid.value_counts(normalize=True))\n",
    "target_valid.value_counts(normalize=True).plot(kind='bar')"
   ]
  },
  {
   "cell_type": "markdown",
   "metadata": {},
   "source": [
    "The ratio of classes is the same in all samples."
   ]
  },
  {
   "cell_type": "code",
   "execution_count": 24,
   "metadata": {},
   "outputs": [],
   "source": [
    "def roc_auc_graph(model, features, target):\n",
    "    probabilities_valid = model.predict_proba(features)\n",
    "    probabilities_one_valid = probabilities_valid[:, 1]\n",
    "\n",
    "    fpr, tpr, thresholds = roc_curve(target, probabilities_one_valid) # < напишите код здесь >\n",
    "\n",
    "    plt.figure()\n",
    "    plt.plot(fpr, tpr, linestyle='--')\n",
    "    plt.ylim([0.0, 1.0])\n",
    "    plt.xlim([0.0, 1.0])\n",
    "    plt.xlabel('False Positive Rate')\n",
    "    plt.ylabel('True Positive Rate')\n",
    "    plt.title('ROC-curve')\n",
    "    plt.show()"
   ]
  },
  {
   "cell_type": "markdown",
   "metadata": {},
   "source": [
    "Let's make a function to visualize the chart **roc_auc**."
   ]
  },
  {
   "cell_type": "code",
   "execution_count": 25,
   "metadata": {},
   "outputs": [],
   "source": [
    "def auc_roc(model, features, target):\n",
    "    probabilities_valid_dt = model.predict_proba(features)\n",
    "    probabilities_one_valid_dt = probabilities_valid_dt[:, 1]\n",
    "\n",
    "    return roc_auc_score(target, probabilities_one_valid_dt)"
   ]
  },
  {
   "cell_type": "markdown",
   "metadata": {},
   "source": [
    "We also create a function to count **roc_auc**."
   ]
  },
  {
   "cell_type": "markdown",
   "metadata": {},
   "source": [
    "Let's take the strongest model for categorical target features and find the optimal hyperparameters."
   ]
  },
  {
   "cell_type": "code",
   "execution_count": 26,
   "metadata": {
    "scrolled": true
   },
   "outputs": [
    {
     "name": "stdout",
     "output_type": "stream",
     "text": [
      "F1: 0.5476603119584055\n",
      "DecisionTreeClassifier(max_depth=5, random_state=12345)\n"
     ]
    },
    {
     "data": {
      "image/png": "[encoded data removed]",
      "text/plain": [
       "<Figure size 640x480 with 1 Axes>"
      ]
     },
     "metadata": {},
     "output_type": "display_data"
    },
    {
     "data": {
      "text/plain": [
       "0.8222224911021428"
      ]
     },
     "execution_count": 26,
     "metadata": {},
     "output_type": "execute_result"
    }
   ],
   "source": [
    "best_model_dt = None\n",
    "best_result_dt = 0\n",
    "for depth in range(1, 6):\n",
    "    model = DecisionTreeClassifier(random_state=12345, max_depth=depth) \n",
    "    model.fit(features_train, target_train)\n",
    "    predicted_valid = model.predict(features_valid)\n",
    "    result = f1_score(target_valid, predicted_valid) \n",
    "    if result > best_result_dt:\n",
    "        best_model_dt = model \n",
    "        best_result_dt = result\n",
    "\n",
    "print('F1:', best_result_dt)\n",
    "print(best_model_dt)\n",
    "\n",
    "roc_auc_graph(best_model_dt, features_valid, target_valid)\n",
    "roc_auc_score_dt = auc_roc(best_model_dt, features_valid, target_valid)\n",
    "roc_auc_score_dt"
   ]
  },
  {
   "cell_type": "markdown",
   "metadata": {},
   "source": [
    "Values close to the target, let's try other models."
   ]
  },
  {
   "cell_type": "code",
   "execution_count": 27,
   "metadata": {},
   "outputs": [
    {
     "name": "stdout",
     "output_type": "stream",
     "text": [
      "F1: 0.35203094777562866\n",
      "LogisticRegression(max_iter=60, random_state=12345)\n"
     ]
    },
    {
     "data": {
      "image/png": "[encoded data removed]",
      "text/plain": [
       "<Figure size 640x480 with 1 Axes>"
      ]
     },
     "metadata": {},
     "output_type": "display_data"
    },
    {
     "data": {
      "text/plain": [
       "0.7745156438474483"
      ]
     },
     "execution_count": 27,
     "metadata": {},
     "output_type": "execute_result"
    }
   ],
   "source": [
    "best_model_lr = None\n",
    "best_result_lr = 0\n",
    "for iter in range(60, 120):\n",
    "    model = LogisticRegression(random_state=12345, solver='lbfgs', max_iter=iter)\n",
    "    model.fit(features_train, target_train)\n",
    "    predicted_valid = model.predict(features_valid)\n",
    "    result = f1_score(target_valid, predicted_valid)\n",
    "    if result > best_result_lr:\n",
    "        best_model_lr = model \n",
    "        best_result_lr = result \n",
    "        \n",
    "print('F1:', best_result_lr)\n",
    "print(best_model_lr)\n",
    "\n",
    "roc_auc_graph(best_model_lr, features_valid, target_valid)\n",
    "roc_auc_score_lr = auc_roc(best_model_lr, features_valid, target_valid)\n",
    "roc_auc_score_lr"
   ]
  },
  {
   "cell_type": "markdown",
   "metadata": {},
   "source": [
    "Too small value."
   ]
  },
  {
   "cell_type": "code",
   "execution_count": 28,
   "metadata": {
    "scrolled": true
   },
   "outputs": [
    {
     "name": "stdout",
     "output_type": "stream",
     "text": [
      "F1: 0.5612903225806452\n",
      "RandomForestClassifier(n_estimators=17, random_state=12345)\n"
     ]
    },
    {
     "data": {
      "image/png": "[encoded data removed]",
      "text/plain": [
       "<Figure size 640x480 with 1 Axes>"
      ]
     },
     "metadata": {},
     "output_type": "display_data"
    },
    {
     "data": {
      "text/plain": [
       "0.8202483954073654"
      ]
     },
     "execution_count": 28,
     "metadata": {},
     "output_type": "execute_result"
    }
   ],
   "source": [
    "best_model_rf = None\n",
    "best_result_rf = 0\n",
    "for est in range(1, 50):\n",
    "    model = RandomForestClassifier(random_state=12345, n_estimators=est)\n",
    "    model.fit(features_train, target_train)\n",
    "    predicted_valid = model.predict(features_valid)\n",
    "    result = f1_score(target_valid, predicted_valid)\n",
    "    if result > best_result_rf:\n",
    "        best_model_rf = model \n",
    "        best_result_rf = result \n",
    "        \n",
    "print('F1:', best_result_rf)\n",
    "print(best_model_rf)\n",
    "\n",
    "roc_auc_graph(best_model_rf, features_valid, target_valid)\n",
    "roc_auc_score_rf = auc_roc(best_model_rf, features_valid, target_valid)\n",
    "roc_auc_score_rf"
   ]
  },
  {
   "cell_type": "code",
   "execution_count": 29,
   "metadata": {
    "scrolled": true
   },
   "outputs": [
    {
     "data": {
      "text/html": [
       "<div>\n",
       "<style scoped>\n",
       "    .dataframe tbody tr th:only-of-type {\n",
       "        vertical-align: middle;\n",
       "    }\n",
       "\n",
       "    .dataframe tbody tr th {\n",
       "        vertical-align: top;\n",
       "    }\n",
       "\n",
       "    .dataframe thead th {\n",
       "        text-align: right;\n",
       "    }\n",
       "</style>\n",
       "<table border=\"1\" class=\"dataframe\">\n",
       "  <thead>\n",
       "    <tr style=\"text-align: right;\">\n",
       "      <th></th>\n",
       "      <th>F1</th>\n",
       "      <th>ROC-AUC</th>\n",
       "    </tr>\n",
       "  </thead>\n",
       "  <tbody>\n",
       "    <tr>\n",
       "      <th>DT</th>\n",
       "      <td>0.547660</td>\n",
       "      <td>0.822222</td>\n",
       "    </tr>\n",
       "    <tr>\n",
       "      <th>LR</th>\n",
       "      <td>0.352031</td>\n",
       "      <td>0.774516</td>\n",
       "    </tr>\n",
       "    <tr>\n",
       "      <th>RF</th>\n",
       "      <td>0.561290</td>\n",
       "      <td>0.820248</td>\n",
       "    </tr>\n",
       "  </tbody>\n",
       "</table>\n",
       "</div>"
      ],
      "text/plain": [
       "          F1   ROC-AUC\n",
       "DT  0.547660  0.822222\n",
       "LR  0.352031  0.774516\n",
       "RF  0.561290  0.820248"
      ]
     },
     "metadata": {},
     "output_type": "display_data"
    }
   ],
   "source": [
    "table = [[best_result_dt, roc_auc_score_dt],\n",
    "        [best_result_lr, roc_auc_score_lr],\n",
    "        [best_result_rf, roc_auc_score_rf]]\n",
    "columns = ['F1', 'ROC-AUC']\n",
    "index = ['DT', 'LR', 'RF'] \n",
    "df = pd.DataFrame(table, index, columns) \n",
    "display(df)"
   ]
  },
  {
   "cell_type": "markdown",
   "metadata": {},
   "source": [
    "The leading model in terms of ROC-AUC - RF."
   ]
  },
  {
   "cell_type": "markdown",
   "metadata": {},
   "source": [
    "## Fighting imbalance"
   ]
  },
  {
   "cell_type": "markdown",
   "metadata": {},
   "source": [
    "Let's try the first method - class weighting."
   ]
  },
  {
   "cell_type": "code",
   "execution_count": 30,
   "metadata": {},
   "outputs": [
    {
     "name": "stdout",
     "output_type": "stream",
     "text": [
      "F1: 0.5570971184631803\n",
      "DecisionTreeClassifier(class_weight='balanced', max_depth=4, random_state=12345)\n"
     ]
    },
    {
     "data": {
      "image/png": "[encoded data removed]",
      "text/plain": [
       "<Figure size 640x480 with 1 Axes>"
      ]
     },
     "metadata": {},
     "output_type": "display_data"
    },
    {
     "data": {
      "text/plain": [
       "0.8136764530684577"
      ]
     },
     "execution_count": 30,
     "metadata": {},
     "output_type": "execute_result"
    }
   ],
   "source": [
    "best_model_dt_balance = None\n",
    "best_result_dt_balance = 0\n",
    "for depth in range(1, 6):\n",
    "    model = DecisionTreeClassifier(random_state=12345, max_depth=depth, class_weight='balanced') \n",
    "    model.fit(features_train, target_train)\n",
    "    predicted_valid = model.predict(features_valid)\n",
    "    result = f1_score(target_valid, predicted_valid) \n",
    "    if result > best_result_dt_balance:\n",
    "        best_model_dt_balance = model \n",
    "        best_result_dt_balance = result\n",
    "\n",
    "print('F1:', best_result_dt_balance)\n",
    "print(best_model_dt_balance)\n",
    "\n",
    "roc_auc_graph(best_model_dt_balance, features_valid, target_valid)\n",
    "roc_auc_score_dt_balance = auc_roc(best_model_dt_balance, features_valid, target_valid)\n",
    "roc_auc_score_dt_balance"
   ]
  },
  {
   "cell_type": "code",
   "execution_count": 31,
   "metadata": {},
   "outputs": [
    {
     "name": "stdout",
     "output_type": "stream",
     "text": [
      "0.5082125603864733\n",
      "LogisticRegression(class_weight='balanced', max_iter=60, random_state=12345)\n"
     ]
    },
    {
     "data": {
      "image/png": "[encoded data removed]",
      "text/plain": [
       "<Figure size 640x480 with 1 Axes>"
      ]
     },
     "metadata": {},
     "output_type": "display_data"
    },
    {
     "data": {
      "text/plain": [
       "0.7781138776786645"
      ]
     },
     "execution_count": 31,
     "metadata": {},
     "output_type": "execute_result"
    }
   ],
   "source": [
    "best_model_lr_balance = None\n",
    "best_result_lr_balance = 0\n",
    "for iter in range(60, 120):\n",
    "    model = LogisticRegression(random_state=12345, solver='lbfgs', max_iter=iter, class_weight='balanced')\n",
    "    model.fit(features_train, target_train)\n",
    "    predicted_valid = model.predict(features_valid)\n",
    "    result = f1_score(target_valid, predicted_valid)\n",
    "    if result > best_result_lr_balance:\n",
    "        best_model_lr_balance = model \n",
    "        best_result_lr_balance = result \n",
    "        \n",
    "\n",
    "print(best_result_lr_balance)\n",
    "print(best_model_lr_balance)\n",
    "\n",
    "roc_auc_graph(best_model_lr_balance, features_valid, target_valid)\n",
    "roc_auc_score_lr_balance = auc_roc(best_model_lr_balance, features_valid, target_valid)\n",
    "roc_auc_score_lr_balance"
   ]
  },
  {
   "cell_type": "code",
   "execution_count": 32,
   "metadata": {
    "scrolled": true
   },
   "outputs": [
    {
     "name": "stdout",
     "output_type": "stream",
     "text": [
      "0.5606837606837606\n",
      "RandomForestClassifier(class_weight='balanced', n_estimators=45,\n",
      "                       random_state=12345)\n"
     ]
    },
    {
     "data": {
      "image/png": "[encoded data removed]",
      "text/plain": [
       "<Figure size 640x480 with 1 Axes>"
      ]
     },
     "metadata": {},
     "output_type": "display_data"
    },
    {
     "data": {
      "text/plain": [
       "0.8316313234352429"
      ]
     },
     "execution_count": 32,
     "metadata": {},
     "output_type": "execute_result"
    }
   ],
   "source": [
    "best_model_rf_balance = None\n",
    "best_result_rf_balance = 0\n",
    "for est in range(1, 50):\n",
    "    model = RandomForestClassifier(random_state=12345, n_estimators=est, class_weight='balanced')\n",
    "    model.fit(features_train, target_train)\n",
    "    predicted_valid = model.predict(features_valid)\n",
    "    result = f1_score(target_valid, predicted_valid)\n",
    "    if result > best_result_rf_balance:\n",
    "        best_model_rf_balance = model \n",
    "        best_result_rf_balance = result \n",
    "        \n",
    "print(best_result_rf_balance)\n",
    "print(best_model_rf_balance)\n",
    "\n",
    "roc_auc_graph(best_model_rf_balance, features_valid, target_valid)\n",
    "roc_auc_score_rf_balance = auc_roc(best_model_rf_balance, features_valid, target_valid)\n",
    "roc_auc_score_rf_balance"
   ]
  },
  {
   "cell_type": "markdown",
   "metadata": {},
   "source": [
    "The changes are minor. We try further - upsampling. Align the ratio 1:4 to 1:1."
   ]
  },
  {
   "cell_type": "code",
   "execution_count": 33,
   "metadata": {
    "scrolled": true
   },
   "outputs": [],
   "source": [
    "def upsample(features, target, repeat):\n",
    "    features_zeros = features[target == 0]\n",
    "    features_ones = features[target == 1]\n",
    "    target_zeros = target[target == 0]\n",
    "    target_ones = target[target == 1]\n",
    "\n",
    "    features_upsampled = pd.concat([features_zeros] + [features_ones] * repeat)\n",
    "    target_upsampled = pd.concat([target_zeros] + [target_ones] * repeat)\n",
    "    \n",
    "    features_upsampled, target_upsampled = shuffle(\n",
    "        features_upsampled, target_upsampled, random_state=12345)\n",
    "    \n",
    "    return features_upsampled, target_upsampled\n",
    "\n",
    "features_upsampled, target_upsampled = upsample(features_train, target_train, 4)"
   ]
  },
  {
   "cell_type": "code",
   "execution_count": 34,
   "metadata": {},
   "outputs": [
    {
     "name": "stdout",
     "output_type": "stream",
     "text": [
      "F1: 0.5570971184631803\n",
      "DecisionTreeClassifier(max_depth=4, random_state=12345)\n"
     ]
    },
    {
     "data": {
      "image/png": "[encoded data removed]",
      "text/plain": [
       "<Figure size 640x480 with 1 Axes>"
      ]
     },
     "metadata": {},
     "output_type": "display_data"
    },
    {
     "data": {
      "text/plain": [
       "0.8136764530684577"
      ]
     },
     "execution_count": 34,
     "metadata": {},
     "output_type": "execute_result"
    }
   ],
   "source": [
    "best_model_dt_up = None\n",
    "best_result_dt_up = 0\n",
    "for depth in range(1, 6):\n",
    "    model = DecisionTreeClassifier(random_state=12345, max_depth=depth) \n",
    "    model.fit(features_upsampled, target_upsampled) \n",
    "    predicted_valid = model.predict(features_valid)\n",
    "    result = f1_score(target_valid, predicted_valid) \n",
    "    if result > best_result_dt_up:\n",
    "        best_model_dt_up = model \n",
    "        best_result_dt_up = result\n",
    "\n",
    "\n",
    "print(\"F1:\", best_result_dt_up)\n",
    "print(best_model_dt_up)\n",
    "\n",
    "roc_auc_graph(best_model_dt_up, features_valid, target_valid)\n",
    "roc_auc_score_dt_up = auc_roc(best_model_dt_up, features_valid, target_valid)\n",
    "roc_auc_score_dt_up"
   ]
  },
  {
   "cell_type": "code",
   "execution_count": 35,
   "metadata": {},
   "outputs": [
    {
     "name": "stdout",
     "output_type": "stream",
     "text": [
      "0.5038022813688213\n",
      "LogisticRegression(max_iter=60, random_state=12345)\n"
     ]
    },
    {
     "data": {
      "image/png": "[encoded data removed]",
      "text/plain": [
       "<Figure size 640x480 with 1 Axes>"
      ]
     },
     "metadata": {},
     "output_type": "display_data"
    },
    {
     "data": {
      "text/plain": [
       "0.7781492457297733"
      ]
     },
     "execution_count": 35,
     "metadata": {},
     "output_type": "execute_result"
    }
   ],
   "source": [
    "best_model_lr_up = None\n",
    "best_result_lr_up = 0\n",
    "for iter in range(60, 120):\n",
    "    model = LogisticRegression(random_state=12345, solver='lbfgs', max_iter=iter)\n",
    "    model.fit(features_upsampled, target_upsampled)\n",
    "    predicted_valid = model.predict(features_valid)\n",
    "    result = f1_score(target_valid, predicted_valid)\n",
    "    if result > best_result_lr_up:\n",
    "        best_model_lr_up = model \n",
    "        best_result_lr_up = result \n",
    "        \n",
    "print(best_result_lr_up)\n",
    "print(best_model_lr_up)\n",
    "\n",
    "roc_auc_graph(best_model_lr_up, features_valid, target_valid)\n",
    "roc_auc_score_lr_up = auc_roc(best_model_lr_up, features_valid, target_valid)\n",
    "roc_auc_score_lr_up"
   ]
  },
  {
   "cell_type": "code",
   "execution_count": 36,
   "metadata": {},
   "outputs": [
    {
     "name": "stdout",
     "output_type": "stream",
     "text": [
      "0.6011904761904762\n",
      "RandomForestClassifier(n_estimators=29, random_state=12345)\n"
     ]
    },
    {
     "data": {
      "image/png": "[encoded data removed]",
      "text/plain": [
       "<Figure size 640x480 with 1 Axes>"
      ]
     },
     "metadata": {},
     "output_type": "display_data"
    },
    {
     "data": {
      "text/plain": [
       "0.835816853062501"
      ]
     },
     "execution_count": 36,
     "metadata": {},
     "output_type": "execute_result"
    }
   ],
   "source": [
    "best_model_rf_up = None\n",
    "best_result_rf_up = 0\n",
    "for est in range(1, 50):\n",
    "    model = RandomForestClassifier(random_state=12345, n_estimators=est)\n",
    "    model.fit(features_upsampled, target_upsampled)\n",
    "    predicted_valid = model.predict(features_valid)\n",
    "    result = f1_score(target_valid, predicted_valid)\n",
    "    if result > best_result_rf_up:\n",
    "        best_model_rf_up = model \n",
    "        best_result_rf_up = result \n",
    "        \n",
    "print(best_result_rf_up)\n",
    "print(best_model_rf_up)\n",
    "\n",
    "roc_auc_graph(best_model_rf_up, features_valid, target_valid)\n",
    "roc_auc_score_rf_up = auc_roc(best_model_rf_up, features_valid, target_valid)\n",
    "roc_auc_score_rf_up"
   ]
  },
  {
   "cell_type": "markdown",
   "metadata": {},
   "source": [
    "There was a comparative increase in F1."
   ]
  },
  {
   "cell_type": "markdown",
   "metadata": {},
   "source": [
    "With the help of upsampling, the required values were achieved. Let's try downsampling just in case."
   ]
  },
  {
   "cell_type": "code",
   "execution_count": 37,
   "metadata": {
    "scrolled": true
   },
   "outputs": [],
   "source": [
    "def downsample(features, target, fraction):\n",
    "    features_zeros = features[target == 0]\n",
    "    features_ones = features[target == 1]\n",
    "    target_zeros = target[target == 0]\n",
    "    target_ones = target[target == 1]\n",
    "\n",
    "    features_downsampled = pd.concat(\n",
    "        [features_zeros.sample(frac=fraction, random_state=12345)] + [features_ones])\n",
    "    target_downsampled = pd.concat(\n",
    "        [target_zeros.sample(frac=fraction, random_state=12345)] + [target_ones])\n",
    "    \n",
    "    features_downsampled, target_downsampled = shuffle(\n",
    "        features_downsampled, target_downsampled, random_state=12345)\n",
    "    \n",
    "    return features_downsampled, target_downsampled\n",
    "\n",
    "features_downsampled, target_downsampled = downsample(features_train, target_train, 0.25)\n",
    "\n"
   ]
  },
  {
   "cell_type": "code",
   "execution_count": 38,
   "metadata": {},
   "outputs": [
    {
     "name": "stdout",
     "output_type": "stream",
     "text": [
      "0.5683060109289617\n",
      "RandomForestClassifier(n_estimators=20, random_state=12345)\n"
     ]
    },
    {
     "data": {
      "image/png": "[encoded data removed]",
      "text/plain": [
       "<Figure size 640x480 with 1 Axes>"
      ]
     },
     "metadata": {},
     "output_type": "display_data"
    },
    {
     "data": {
      "text/plain": [
       "0.830557251567363"
      ]
     },
     "execution_count": 38,
     "metadata": {},
     "output_type": "execute_result"
    }
   ],
   "source": [
    "best_model_rf_down = None\n",
    "best_result_rf_down = 0\n",
    "for est in range(1, 50):\n",
    "    model = RandomForestClassifier(random_state=12345, n_estimators=est)\n",
    "    model.fit(features_downsampled, target_downsampled)\n",
    "    predicted_valid = model.predict(features_valid)\n",
    "    result = f1_score(target_valid, predicted_valid)\n",
    "    if result > best_result_rf_down:\n",
    "        best_model_rf_down = model \n",
    "        best_result_rf_down = result \n",
    "\n",
    "print(best_result_rf_down)\n",
    "print(best_model_rf_down)\n",
    "\n",
    "roc_auc_graph(best_model_rf_down, features_valid, target_valid)\n",
    "roc_auc_score_rf_down = auc_roc(best_model_rf_down, features_valid, target_valid)\n",
    "roc_auc_score_rf_down"
   ]
  },
  {
   "cell_type": "code",
   "execution_count": 39,
   "metadata": {},
   "outputs": [
    {
     "name": "stdout",
     "output_type": "stream",
     "text": [
      "F1: 0.55779427359491\n",
      "DecisionTreeClassifier(max_depth=4, random_state=12345)\n"
     ]
    },
    {
     "data": {
      "image/png": "[encoded data removed]",
      "text/plain": [
       "<Figure size 640x480 with 1 Axes>"
      ]
     },
     "metadata": {},
     "output_type": "display_data"
    },
    {
     "data": {
      "text/plain": [
       "0.8110424639990469"
      ]
     },
     "execution_count": 39,
     "metadata": {},
     "output_type": "execute_result"
    }
   ],
   "source": [
    "best_model_dt_down = None\n",
    "best_result_dt_down = 0\n",
    "for depth in range(1, 6):\n",
    "    model = DecisionTreeClassifier(random_state=12345, max_depth=depth) \n",
    "    model.fit(features_downsampled, target_downsampled) \n",
    "    predicted_valid = model.predict(features_valid)\n",
    "    result = f1_score(target_valid, predicted_valid)\n",
    "    if result > best_result_dt_down:\n",
    "        best_model_dt_down = model \n",
    "        best_result_dt_down = result\n",
    "\n",
    "\n",
    "print(\"F1:\", best_result_dt_down)\n",
    "print(best_model_dt_down)\n",
    "\n",
    "roc_auc_graph(best_model_dt_down, features_valid, target_valid)\n",
    "roc_auc_score_dt_down = auc_roc(best_model_dt_down, features_valid, target_valid)\n",
    "roc_auc_score_dt_down"
   ]
  },
  {
   "cell_type": "code",
   "execution_count": 40,
   "metadata": {
    "scrolled": true
   },
   "outputs": [
    {
     "name": "stdout",
     "output_type": "stream",
     "text": [
      "0.5089538171536288\n",
      "LogisticRegression(max_iter=60, random_state=12345)\n"
     ]
    },
    {
     "data": {
      "image/png": "[encoded data removed]",
      "text/plain": [
       "<Figure size 640x480 with 1 Axes>"
      ]
     },
     "metadata": {},
     "output_type": "display_data"
    },
    {
     "data": {
      "text/plain": [
       "0.7793871275185775"
      ]
     },
     "execution_count": 40,
     "metadata": {},
     "output_type": "execute_result"
    }
   ],
   "source": [
    "best_model_lr_down = None\n",
    "best_result_lr_down = 0\n",
    "for iter in range(60, 120):\n",
    "    model = LogisticRegression(random_state=12345, solver='lbfgs', max_iter=iter)\n",
    "    model.fit(features_downsampled, target_downsampled)\n",
    "    predicted_valid = model.predict(features_valid)\n",
    "    result = f1_score(target_valid, predicted_valid)\n",
    "    if result > best_result_lr_down:\n",
    "        best_model_lr_down = model \n",
    "        best_result_lr_down = result \n",
    "        \n",
    "\n",
    "print(best_result_lr_down)\n",
    "print(best_model_lr_down)\n",
    "\n",
    "roc_auc_graph(best_model_lr_down, features_valid, target_valid)\n",
    "roc_auc_score_lr_down = auc_roc(best_model_lr_down, features_valid, target_valid)\n",
    "roc_auc_score_lr_down"
   ]
  },
  {
   "cell_type": "markdown",
   "metadata": {},
   "source": [
    "Very bad result."
   ]
  },
  {
   "cell_type": "code",
   "execution_count": 41,
   "metadata": {
    "scrolled": true
   },
   "outputs": [
    {
     "data": {
      "text/html": [
       "<div>\n",
       "<style scoped>\n",
       "    .dataframe tbody tr th:only-of-type {\n",
       "        vertical-align: middle;\n",
       "    }\n",
       "\n",
       "    .dataframe tbody tr th {\n",
       "        vertical-align: top;\n",
       "    }\n",
       "\n",
       "    .dataframe thead th {\n",
       "        text-align: right;\n",
       "    }\n",
       "</style>\n",
       "<table border=\"1\" class=\"dataframe\">\n",
       "  <thead>\n",
       "    <tr style=\"text-align: right;\">\n",
       "      <th></th>\n",
       "      <th>class_balance</th>\n",
       "      <th>upsampling</th>\n",
       "      <th>downsampling</th>\n",
       "    </tr>\n",
       "  </thead>\n",
       "  <tbody>\n",
       "    <tr>\n",
       "      <th>DT  f-1</th>\n",
       "      <td>0.557097</td>\n",
       "      <td>0.557097</td>\n",
       "      <td>0.557794</td>\n",
       "    </tr>\n",
       "    <tr>\n",
       "      <th>DT roc_auc</th>\n",
       "      <td>0.813676</td>\n",
       "      <td>0.813676</td>\n",
       "      <td>0.811042</td>\n",
       "    </tr>\n",
       "    <tr>\n",
       "      <th>LR  f-1</th>\n",
       "      <td>0.508213</td>\n",
       "      <td>0.503802</td>\n",
       "      <td>0.508954</td>\n",
       "    </tr>\n",
       "    <tr>\n",
       "      <th>LR  roc_auc</th>\n",
       "      <td>0.778114</td>\n",
       "      <td>0.778149</td>\n",
       "      <td>0.779387</td>\n",
       "    </tr>\n",
       "    <tr>\n",
       "      <th>RF  f-1</th>\n",
       "      <td>0.560684</td>\n",
       "      <td>0.601190</td>\n",
       "      <td>0.568306</td>\n",
       "    </tr>\n",
       "    <tr>\n",
       "      <th>RF  roc_auc</th>\n",
       "      <td>0.831631</td>\n",
       "      <td>0.835817</td>\n",
       "      <td>0.830557</td>\n",
       "    </tr>\n",
       "  </tbody>\n",
       "</table>\n",
       "</div>"
      ],
      "text/plain": [
       "             class_balance  upsampling  downsampling\n",
       "DT  f-1           0.557097    0.557097      0.557794\n",
       "DT roc_auc        0.813676    0.813676      0.811042\n",
       "LR  f-1           0.508213    0.503802      0.508954\n",
       "LR  roc_auc       0.778114    0.778149      0.779387\n",
       "RF  f-1           0.560684    0.601190      0.568306\n",
       "RF  roc_auc       0.831631    0.835817      0.830557"
      ]
     },
     "metadata": {},
     "output_type": "display_data"
    }
   ],
   "source": [
    "table = [[best_result_dt_balance, best_result_dt_up, best_result_dt_down],\n",
    "         [roc_auc_score_dt_balance, roc_auc_score_dt_up, roc_auc_score_dt_down],\n",
    "        [best_result_lr_balance, best_result_lr_up, best_result_lr_down],\n",
    "         [roc_auc_score_lr_balance, roc_auc_score_lr_up, roc_auc_score_lr_down],\n",
    "        [best_result_rf_balance, best_result_rf_up, best_result_rf_down],\n",
    "        [roc_auc_score_rf_balance, roc_auc_score_rf_up, roc_auc_score_rf_down]]\n",
    "columns = ['class_balance', 'upsampling', 'downsampling']\n",
    "index = ['DT  f-1', 'DT roc_auc', 'LR  f-1', 'LR  roc_auc', 'RF  f-1', 'RF  roc_auc'] \n",
    "df = pd.DataFrame(table, index, columns) \n",
    "display(df)"
   ]
  },
  {
   "cell_type": "markdown",
   "metadata": {},
   "source": [
    "The best option is RF + upsampling, we will use it to test the model."
   ]
  },
  {
   "cell_type": "markdown",
   "metadata": {},
   "source": [
    "## Model testing"
   ]
  },
  {
   "cell_type": "code",
   "execution_count": 42,
   "metadata": {},
   "outputs": [
    {
     "name": "stdout",
     "output_type": "stream",
     "text": [
      "F1: 0.6213872832369942\n"
     ]
    },
    {
     "data": {
      "image/png": "[encoded data removed]",
      "text/plain": [
       "<Figure size 640x480 with 1 Axes>"
      ]
     },
     "metadata": {},
     "output_type": "display_data"
    },
    {
     "data": {
      "text/plain": [
       "0.8615808895437534"
      ]
     },
     "execution_count": 42,
     "metadata": {},
     "output_type": "execute_result"
    }
   ],
   "source": [
    "predicted_test_rf_up = best_model_rf_up.predict(features_test)\n",
    "f1_score_rf_up_test = f1_score(target_test, predicted_test_rf_up)\n",
    "print(\"F1:\", f1_score_rf_up_test)\n",
    "\n",
    "roc_auc_graph(best_model_rf_up, features_test, target_test)\n",
    "roc_auc_score_rf_up_test = auc_roc(best_model_rf_up, features_test, target_test)\n",
    "roc_auc_score_rf_up_test"
   ]
  },
  {
   "cell_type": "markdown",
   "metadata": {},
   "source": [
    "Objectively the best model, when tested on the appropriate sample, the result exceeds expectations."
   ]
  },
  {
   "cell_type": "markdown",
   "metadata": {},
   "source": [
    "For comparison, we will test the DT + upsampling model, as the second model in terms of efficiency."
   ]
  },
  {
   "cell_type": "code",
   "execution_count": 43,
   "metadata": {},
   "outputs": [
    {
     "name": "stdout",
     "output_type": "stream",
     "text": [
      "F1: 0.5522682445759368\n"
     ]
    },
    {
     "data": {
      "image/png": "[encoded data removed]",
      "text/plain": [
       "<Figure size 640x480 with 1 Axes>"
      ]
     },
     "metadata": {},
     "output_type": "display_data"
    },
    {
     "data": {
      "text/plain": [
       "0.8276497335317796"
      ]
     },
     "execution_count": 43,
     "metadata": {},
     "output_type": "execute_result"
    }
   ],
   "source": [
    "predicted_test_dt_up = best_model_dt_up.predict(features_test)\n",
    "f1_score_dt_up_test = f1_score(target_test, predicted_test_dt_up)\n",
    "print(\"F1:\", f1_score_dt_up_test)\n",
    "\n",
    "roc_auc_graph(best_model_dt_up, features_test, target_test)\n",
    "roc_auc_score_dt_up_test = auc_roc(best_model_dt_up, features_test, target_test)\n",
    "roc_auc_score_dt_up_test"
   ]
  },
  {
   "cell_type": "markdown",
   "metadata": {},
   "source": [
    "The result is not enough.\n",
    "\n",
    "Accordingly, the best model is a combination of RF and upsampling."
   ]
  }
 ],
 "metadata": {
  "ExecuteTimeLog": [
   {
    "duration": 1889,
    "start_time": "2022-06-27T19:56:03.660Z"
   },
   {
    "duration": 1566,
    "start_time": "2022-06-29T17:44:19.142Z"
   },
   {
    "duration": 68,
    "start_time": "2022-06-29T17:45:23.639Z"
   },
   {
    "duration": 16,
    "start_time": "2022-06-29T17:45:32.198Z"
   },
   {
    "duration": 104,
    "start_time": "2022-06-29T18:03:38.997Z"
   },
   {
    "duration": 13,
    "start_time": "2022-06-29T18:03:43.338Z"
   },
   {
    "duration": 8,
    "start_time": "2022-06-29T18:03:49.466Z"
   },
   {
    "duration": 12,
    "start_time": "2022-06-29T18:04:20.495Z"
   },
   {
    "duration": 5,
    "start_time": "2022-06-29T18:05:27.166Z"
   },
   {
    "duration": 13,
    "start_time": "2022-06-29T18:05:30.622Z"
   },
   {
    "duration": 2,
    "start_time": "2022-06-29T18:07:19.311Z"
   },
   {
    "duration": 9,
    "start_time": "2022-06-29T18:07:21.538Z"
   },
   {
    "duration": 9,
    "start_time": "2022-06-29T18:07:27.087Z"
   },
   {
    "duration": 9,
    "start_time": "2022-06-29T18:08:02.084Z"
   },
   {
    "duration": 10,
    "start_time": "2022-06-29T18:08:11.025Z"
   },
   {
    "duration": 4,
    "start_time": "2022-06-29T18:08:15.010Z"
   },
   {
    "duration": 28,
    "start_time": "2022-06-29T18:08:16.493Z"
   },
   {
    "duration": 15,
    "start_time": "2022-06-29T18:08:17.869Z"
   },
   {
    "duration": 4,
    "start_time": "2022-06-29T18:08:19.822Z"
   },
   {
    "duration": 3,
    "start_time": "2022-06-29T18:08:22.870Z"
   },
   {
    "duration": 13,
    "start_time": "2022-06-29T18:08:30.692Z"
   },
   {
    "duration": 13,
    "start_time": "2022-06-29T18:14:02.177Z"
   },
   {
    "duration": 3,
    "start_time": "2022-06-29T18:29:17.043Z"
   },
   {
    "duration": 45,
    "start_time": "2022-06-29T18:29:17.048Z"
   },
   {
    "duration": 13,
    "start_time": "2022-06-29T18:29:21.710Z"
   },
   {
    "duration": 9,
    "start_time": "2022-06-29T18:29:36.875Z"
   },
   {
    "duration": 10,
    "start_time": "2022-06-29T18:29:46.002Z"
   },
   {
    "duration": 15,
    "start_time": "2022-06-29T18:30:42.996Z"
   },
   {
    "duration": 11,
    "start_time": "2022-06-29T18:30:53.926Z"
   },
   {
    "duration": 15,
    "start_time": "2022-06-29T18:30:57.502Z"
   },
   {
    "duration": 15,
    "start_time": "2022-06-29T18:31:01.612Z"
   },
   {
    "duration": 12,
    "start_time": "2022-06-29T18:32:01.514Z"
   },
   {
    "duration": 11,
    "start_time": "2022-06-29T18:32:39.513Z"
   },
   {
    "duration": 11,
    "start_time": "2022-06-29T18:32:51.970Z"
   },
   {
    "duration": 12,
    "start_time": "2022-06-29T18:32:58.903Z"
   },
   {
    "duration": 3,
    "start_time": "2022-06-29T18:44:42.189Z"
   },
   {
    "duration": 32,
    "start_time": "2022-06-29T18:44:42.194Z"
   },
   {
    "duration": 23,
    "start_time": "2022-06-29T18:44:44.942Z"
   },
   {
    "duration": 13,
    "start_time": "2022-06-29T18:44:47.312Z"
   },
   {
    "duration": 3,
    "start_time": "2022-06-29T18:45:12.474Z"
   },
   {
    "duration": 5,
    "start_time": "2022-06-29T18:45:14.069Z"
   },
   {
    "duration": 12,
    "start_time": "2022-06-29T18:45:22.574Z"
   },
   {
    "duration": 5,
    "start_time": "2022-06-29T18:46:04.072Z"
   },
   {
    "duration": 5,
    "start_time": "2022-06-29T18:46:07.579Z"
   },
   {
    "duration": 5,
    "start_time": "2022-06-29T18:46:26.924Z"
   },
   {
    "duration": 5,
    "start_time": "2022-06-29T18:46:35.677Z"
   },
   {
    "duration": 5,
    "start_time": "2022-06-29T18:46:39.468Z"
   },
   {
    "duration": 4,
    "start_time": "2022-06-29T18:46:45.042Z"
   },
   {
    "duration": 5,
    "start_time": "2022-06-29T18:46:48.321Z"
   },
   {
    "duration": 4,
    "start_time": "2022-06-29T18:46:51.540Z"
   },
   {
    "duration": 28,
    "start_time": "2022-06-29T18:46:55.015Z"
   },
   {
    "duration": 4,
    "start_time": "2022-06-29T18:47:05.468Z"
   },
   {
    "duration": 5,
    "start_time": "2022-06-29T18:48:38.411Z"
   },
   {
    "duration": 5,
    "start_time": "2022-06-29T18:48:45.086Z"
   },
   {
    "duration": 5,
    "start_time": "2022-06-29T18:48:49.884Z"
   },
   {
    "duration": 6,
    "start_time": "2022-06-29T18:48:55.287Z"
   },
   {
    "duration": 5,
    "start_time": "2022-06-29T18:49:07.529Z"
   },
   {
    "duration": 63,
    "start_time": "2022-06-29T18:57:12.040Z"
   },
   {
    "duration": 5,
    "start_time": "2022-06-29T18:57:20.247Z"
   },
   {
    "duration": 22,
    "start_time": "2022-06-29T18:57:50.081Z"
   },
   {
    "duration": 5,
    "start_time": "2022-06-29T18:57:59.087Z"
   },
   {
    "duration": 5,
    "start_time": "2022-06-29T18:58:06.128Z"
   },
   {
    "duration": 20,
    "start_time": "2022-06-29T18:58:52.638Z"
   },
   {
    "duration": 6,
    "start_time": "2022-06-29T18:58:57.587Z"
   },
   {
    "duration": 5,
    "start_time": "2022-06-29T18:59:05.793Z"
   },
   {
    "duration": 12,
    "start_time": "2022-06-29T18:59:15.672Z"
   },
   {
    "duration": 3,
    "start_time": "2022-06-29T18:59:24.627Z"
   },
   {
    "duration": 14,
    "start_time": "2022-06-29T18:59:26.669Z"
   },
   {
    "duration": 1377,
    "start_time": "2022-06-29T18:59:48.025Z"
   },
   {
    "duration": 28,
    "start_time": "2022-06-29T18:59:49.404Z"
   },
   {
    "duration": 16,
    "start_time": "2022-06-29T18:59:49.433Z"
   },
   {
    "duration": 11,
    "start_time": "2022-06-29T18:59:49.452Z"
   },
   {
    "duration": 16,
    "start_time": "2022-06-29T18:59:49.468Z"
   },
   {
    "duration": 107,
    "start_time": "2022-06-29T19:01:29.198Z"
   },
   {
    "duration": 4,
    "start_time": "2022-06-29T19:02:00.637Z"
   },
   {
    "duration": 58,
    "start_time": "2022-06-29T19:02:00.643Z"
   },
   {
    "duration": 17,
    "start_time": "2022-06-29T19:02:00.703Z"
   },
   {
    "duration": 47,
    "start_time": "2022-06-29T19:02:00.721Z"
   },
   {
    "duration": 14,
    "start_time": "2022-06-29T19:02:11.399Z"
   },
   {
    "duration": 25,
    "start_time": "2022-06-29T19:03:01.544Z"
   },
   {
    "duration": 7,
    "start_time": "2022-06-29T19:03:09.609Z"
   },
   {
    "duration": 4,
    "start_time": "2022-06-29T19:04:36.404Z"
   },
   {
    "duration": 95,
    "start_time": "2022-06-29T19:04:45.188Z"
   },
   {
    "duration": 5,
    "start_time": "2022-06-29T19:04:47.845Z"
   },
   {
    "duration": 12,
    "start_time": "2022-06-29T19:05:06.837Z"
   },
   {
    "duration": 141,
    "start_time": "2022-06-29T19:05:09.969Z"
   },
   {
    "duration": 12,
    "start_time": "2022-06-29T19:05:21.270Z"
   },
   {
    "duration": 91,
    "start_time": "2022-06-29T19:07:09.500Z"
   },
   {
    "duration": 217,
    "start_time": "2022-06-29T19:07:16.105Z"
   },
   {
    "duration": 91,
    "start_time": "2022-06-29T19:07:24.265Z"
   },
   {
    "duration": 31,
    "start_time": "2022-06-29T19:13:40.429Z"
   },
   {
    "duration": 13,
    "start_time": "2022-06-29T19:13:56.824Z"
   },
   {
    "duration": 10,
    "start_time": "2022-06-29T19:14:07.114Z"
   },
   {
    "duration": 23,
    "start_time": "2022-06-29T19:14:13.631Z"
   },
   {
    "duration": 21,
    "start_time": "2022-06-29T19:14:31.019Z"
   },
   {
    "duration": 29,
    "start_time": "2022-06-29T19:16:14.238Z"
   },
   {
    "duration": 1554,
    "start_time": "2022-06-30T06:41:18.018Z"
   },
   {
    "duration": 152,
    "start_time": "2022-06-30T06:41:19.574Z"
   },
   {
    "duration": 4,
    "start_time": "2022-06-30T06:41:19.727Z"
   },
   {
    "duration": 76,
    "start_time": "2022-06-30T06:42:08.361Z"
   },
   {
    "duration": 5,
    "start_time": "2022-06-30T06:43:36.875Z"
   },
   {
    "duration": 14,
    "start_time": "2022-06-30T06:43:38.934Z"
   },
   {
    "duration": 10,
    "start_time": "2022-06-30T06:43:42.368Z"
   },
   {
    "duration": 10,
    "start_time": "2022-06-30T06:43:44.089Z"
   },
   {
    "duration": 24,
    "start_time": "2022-06-30T06:43:52.916Z"
   },
   {
    "duration": 5,
    "start_time": "2022-06-30T06:44:55.877Z"
   },
   {
    "duration": 8,
    "start_time": "2022-06-30T06:45:03.169Z"
   },
   {
    "duration": 75,
    "start_time": "2022-06-30T06:47:20.017Z"
   },
   {
    "duration": 83,
    "start_time": "2022-06-30T06:47:23.889Z"
   },
   {
    "duration": 5,
    "start_time": "2022-06-30T06:47:29.055Z"
   },
   {
    "duration": 10,
    "start_time": "2022-06-30T06:47:36.097Z"
   },
   {
    "duration": 3,
    "start_time": "2022-06-30T06:48:04.606Z"
   },
   {
    "duration": 10,
    "start_time": "2022-06-30T06:48:06.222Z"
   },
   {
    "duration": 3,
    "start_time": "2022-06-30T06:48:42.854Z"
   },
   {
    "duration": 42,
    "start_time": "2022-06-30T06:48:42.859Z"
   },
   {
    "duration": 3,
    "start_time": "2022-06-30T06:48:42.902Z"
   },
   {
    "duration": 7,
    "start_time": "2022-06-30T06:48:42.906Z"
   },
   {
    "duration": 12,
    "start_time": "2022-06-30T06:48:42.915Z"
   },
   {
    "duration": 8,
    "start_time": "2022-06-30T06:48:42.928Z"
   },
   {
    "duration": 24,
    "start_time": "2022-06-30T06:48:42.938Z"
   },
   {
    "duration": 5,
    "start_time": "2022-06-30T06:48:42.964Z"
   },
   {
    "duration": 113,
    "start_time": "2022-06-30T06:50:08.111Z"
   },
   {
    "duration": 7,
    "start_time": "2022-06-30T06:50:16.795Z"
   },
   {
    "duration": 10,
    "start_time": "2022-06-30T06:50:18.802Z"
   },
   {
    "duration": 12,
    "start_time": "2022-06-30T06:51:25.807Z"
   },
   {
    "duration": 8,
    "start_time": "2022-06-30T06:55:40.206Z"
   },
   {
    "duration": 10,
    "start_time": "2022-06-30T06:55:51.759Z"
   },
   {
    "duration": 10,
    "start_time": "2022-06-30T06:55:58.675Z"
   },
   {
    "duration": 5,
    "start_time": "2022-06-30T06:56:29.037Z"
   },
   {
    "duration": 4,
    "start_time": "2022-06-30T06:57:37.919Z"
   },
   {
    "duration": 45,
    "start_time": "2022-06-30T06:57:37.925Z"
   },
   {
    "duration": 3,
    "start_time": "2022-06-30T06:57:37.972Z"
   },
   {
    "duration": 9,
    "start_time": "2022-06-30T06:57:37.976Z"
   },
   {
    "duration": 13,
    "start_time": "2022-06-30T06:57:37.986Z"
   },
   {
    "duration": 8,
    "start_time": "2022-06-30T06:57:38.000Z"
   },
   {
    "duration": 7,
    "start_time": "2022-06-30T06:57:38.010Z"
   },
   {
    "duration": 6,
    "start_time": "2022-06-30T06:57:38.018Z"
   },
   {
    "duration": 16,
    "start_time": "2022-06-30T06:57:38.026Z"
   },
   {
    "duration": 5,
    "start_time": "2022-06-30T06:57:40.136Z"
   },
   {
    "duration": 7,
    "start_time": "2022-06-30T06:58:37.830Z"
   },
   {
    "duration": 10,
    "start_time": "2022-06-30T06:58:51.022Z"
   },
   {
    "duration": 4,
    "start_time": "2022-06-30T06:58:59.842Z"
   },
   {
    "duration": 80,
    "start_time": "2022-06-30T06:59:33.745Z"
   },
   {
    "duration": 4,
    "start_time": "2022-06-30T06:59:46.666Z"
   },
   {
    "duration": 49,
    "start_time": "2022-06-30T06:59:46.672Z"
   },
   {
    "duration": 3,
    "start_time": "2022-06-30T06:59:46.724Z"
   },
   {
    "duration": 13,
    "start_time": "2022-06-30T06:59:46.729Z"
   },
   {
    "duration": 18,
    "start_time": "2022-06-30T06:59:46.744Z"
   },
   {
    "duration": 19,
    "start_time": "2022-06-30T06:59:46.764Z"
   },
   {
    "duration": 13,
    "start_time": "2022-06-30T06:59:46.784Z"
   },
   {
    "duration": 5,
    "start_time": "2022-06-30T06:59:46.799Z"
   },
   {
    "duration": 13,
    "start_time": "2022-06-30T06:59:46.806Z"
   },
   {
    "duration": 10,
    "start_time": "2022-06-30T06:59:46.820Z"
   },
   {
    "duration": 9,
    "start_time": "2022-06-30T06:59:46.841Z"
   },
   {
    "duration": 76,
    "start_time": "2022-06-30T06:59:48.219Z"
   },
   {
    "duration": 11,
    "start_time": "2022-06-30T07:00:03.098Z"
   },
   {
    "duration": 87,
    "start_time": "2022-06-30T07:00:21.437Z"
   },
   {
    "duration": 72,
    "start_time": "2022-06-30T07:00:26.016Z"
   },
   {
    "duration": 9,
    "start_time": "2022-06-30T07:00:45.393Z"
   },
   {
    "duration": 10,
    "start_time": "2022-06-30T07:00:54.582Z"
   },
   {
    "duration": 11,
    "start_time": "2022-06-30T07:01:23.935Z"
   },
   {
    "duration": 3,
    "start_time": "2022-06-30T07:08:14.805Z"
   },
   {
    "duration": 40,
    "start_time": "2022-06-30T07:08:14.810Z"
   },
   {
    "duration": 3,
    "start_time": "2022-06-30T07:08:14.852Z"
   },
   {
    "duration": 6,
    "start_time": "2022-06-30T07:08:14.857Z"
   },
   {
    "duration": 14,
    "start_time": "2022-06-30T07:08:14.865Z"
   },
   {
    "duration": 9,
    "start_time": "2022-06-30T07:08:14.881Z"
   },
   {
    "duration": 7,
    "start_time": "2022-06-30T07:08:14.892Z"
   },
   {
    "duration": 6,
    "start_time": "2022-06-30T07:08:14.900Z"
   },
   {
    "duration": 13,
    "start_time": "2022-06-30T07:08:17.083Z"
   },
   {
    "duration": 18,
    "start_time": "2022-06-30T07:08:27.853Z"
   },
   {
    "duration": 13,
    "start_time": "2022-06-30T07:08:45.853Z"
   },
   {
    "duration": 8,
    "start_time": "2022-06-30T07:10:04.039Z"
   },
   {
    "duration": 3,
    "start_time": "2022-06-30T07:10:10.628Z"
   },
   {
    "duration": 44,
    "start_time": "2022-06-30T07:10:10.634Z"
   },
   {
    "duration": 4,
    "start_time": "2022-06-30T07:10:10.680Z"
   },
   {
    "duration": 9,
    "start_time": "2022-06-30T07:10:10.685Z"
   },
   {
    "duration": 14,
    "start_time": "2022-06-30T07:10:10.697Z"
   },
   {
    "duration": 9,
    "start_time": "2022-06-30T07:10:10.713Z"
   },
   {
    "duration": 8,
    "start_time": "2022-06-30T07:10:10.725Z"
   },
   {
    "duration": 5,
    "start_time": "2022-06-30T07:10:10.742Z"
   },
   {
    "duration": 16,
    "start_time": "2022-06-30T07:10:10.749Z"
   },
   {
    "duration": 18,
    "start_time": "2022-06-30T07:10:10.767Z"
   },
   {
    "duration": 9,
    "start_time": "2022-06-30T07:10:19.027Z"
   },
   {
    "duration": 11,
    "start_time": "2022-06-30T07:10:21.090Z"
   },
   {
    "duration": 1512,
    "start_time": "2022-06-30T17:35:48.177Z"
   },
   {
    "duration": 58,
    "start_time": "2022-06-30T17:35:49.691Z"
   },
   {
    "duration": 3,
    "start_time": "2022-06-30T17:35:49.751Z"
   },
   {
    "duration": 8,
    "start_time": "2022-06-30T17:35:49.757Z"
   },
   {
    "duration": 15,
    "start_time": "2022-06-30T17:35:49.767Z"
   },
   {
    "duration": 16,
    "start_time": "2022-06-30T17:35:49.784Z"
   },
   {
    "duration": 7,
    "start_time": "2022-06-30T17:35:49.801Z"
   },
   {
    "duration": 6,
    "start_time": "2022-06-30T17:35:49.809Z"
   },
   {
    "duration": 22,
    "start_time": "2022-06-30T17:35:49.816Z"
   },
   {
    "duration": 19,
    "start_time": "2022-06-30T17:35:49.840Z"
   },
   {
    "duration": 12,
    "start_time": "2022-06-30T17:35:49.860Z"
   },
   {
    "duration": 6,
    "start_time": "2022-06-30T17:35:49.874Z"
   },
   {
    "duration": 12,
    "start_time": "2022-06-30T17:35:49.882Z"
   },
   {
    "duration": 7,
    "start_time": "2022-06-30T17:36:36.288Z"
   },
   {
    "duration": 6,
    "start_time": "2022-06-30T17:36:47.205Z"
   },
   {
    "duration": 4,
    "start_time": "2022-06-30T17:38:26.071Z"
   },
   {
    "duration": 49,
    "start_time": "2022-06-30T17:38:26.078Z"
   },
   {
    "duration": 5,
    "start_time": "2022-06-30T17:38:26.129Z"
   },
   {
    "duration": 7,
    "start_time": "2022-06-30T17:38:26.136Z"
   },
   {
    "duration": 20,
    "start_time": "2022-06-30T17:38:26.146Z"
   },
   {
    "duration": 9,
    "start_time": "2022-06-30T17:38:26.168Z"
   },
   {
    "duration": 8,
    "start_time": "2022-06-30T17:38:26.179Z"
   },
   {
    "duration": 37,
    "start_time": "2022-06-30T17:38:26.189Z"
   },
   {
    "duration": 12,
    "start_time": "2022-06-30T17:38:26.228Z"
   },
   {
    "duration": 16,
    "start_time": "2022-06-30T17:38:26.242Z"
   },
   {
    "duration": 22,
    "start_time": "2022-06-30T17:38:26.260Z"
   },
   {
    "duration": 8,
    "start_time": "2022-06-30T17:38:26.283Z"
   },
   {
    "duration": 11,
    "start_time": "2022-06-30T17:39:04.964Z"
   },
   {
    "duration": 8,
    "start_time": "2022-06-30T17:39:07.829Z"
   },
   {
    "duration": 6,
    "start_time": "2022-06-30T17:39:09.579Z"
   },
   {
    "duration": 110,
    "start_time": "2022-06-30T17:39:27.790Z"
   },
   {
    "duration": 4,
    "start_time": "2022-06-30T17:39:46.015Z"
   },
   {
    "duration": 4,
    "start_time": "2022-06-30T17:39:47.787Z"
   },
   {
    "duration": 7,
    "start_time": "2022-06-30T17:39:54.683Z"
   },
   {
    "duration": 19,
    "start_time": "2022-06-30T18:05:09.326Z"
   },
   {
    "duration": 122,
    "start_time": "2022-06-30T18:05:20.990Z"
   },
   {
    "duration": 946,
    "start_time": "2022-06-30T18:12:53.056Z"
   },
   {
    "duration": 12,
    "start_time": "2022-06-30T18:17:15.933Z"
   },
   {
    "duration": 16,
    "start_time": "2022-06-30T18:18:01.688Z"
   },
   {
    "duration": 5,
    "start_time": "2022-06-30T18:18:03.272Z"
   },
   {
    "duration": 11,
    "start_time": "2022-06-30T18:21:29.034Z"
   },
   {
    "duration": 11,
    "start_time": "2022-06-30T18:23:57.998Z"
   },
   {
    "duration": 1381,
    "start_time": "2022-06-30T18:24:30.884Z"
   },
   {
    "duration": 30,
    "start_time": "2022-06-30T18:24:32.267Z"
   },
   {
    "duration": 5,
    "start_time": "2022-06-30T18:24:32.299Z"
   },
   {
    "duration": 6,
    "start_time": "2022-06-30T18:24:32.306Z"
   },
   {
    "duration": 18,
    "start_time": "2022-06-30T18:24:32.314Z"
   },
   {
    "duration": 9,
    "start_time": "2022-06-30T18:24:32.333Z"
   },
   {
    "duration": 7,
    "start_time": "2022-06-30T18:24:32.344Z"
   },
   {
    "duration": 5,
    "start_time": "2022-06-30T18:24:32.352Z"
   },
   {
    "duration": 16,
    "start_time": "2022-06-30T18:24:32.359Z"
   },
   {
    "duration": 20,
    "start_time": "2022-06-30T18:24:32.377Z"
   },
   {
    "duration": 39,
    "start_time": "2022-06-30T18:24:32.399Z"
   },
   {
    "duration": 7,
    "start_time": "2022-06-30T18:24:32.440Z"
   },
   {
    "duration": 12,
    "start_time": "2022-06-30T18:24:32.449Z"
   },
   {
    "duration": 6,
    "start_time": "2022-06-30T18:24:32.464Z"
   },
   {
    "duration": 5,
    "start_time": "2022-06-30T18:24:32.472Z"
   },
   {
    "duration": 6,
    "start_time": "2022-06-30T18:24:32.479Z"
   },
   {
    "duration": 44,
    "start_time": "2022-06-30T18:24:32.486Z"
   },
   {
    "duration": 5,
    "start_time": "2022-06-30T18:24:32.532Z"
   },
   {
    "duration": 136,
    "start_time": "2022-06-30T18:24:32.539Z"
   },
   {
    "duration": 969,
    "start_time": "2022-06-30T18:24:32.677Z"
   },
   {
    "duration": 13,
    "start_time": "2022-06-30T18:24:33.648Z"
   },
   {
    "duration": 5,
    "start_time": "2022-06-30T18:24:33.663Z"
   },
   {
    "duration": 7,
    "start_time": "2022-06-30T18:24:33.669Z"
   },
   {
    "duration": 68,
    "start_time": "2022-06-30T18:27:06.789Z"
   },
   {
    "duration": 7,
    "start_time": "2022-06-30T18:27:10.827Z"
   },
   {
    "duration": 48,
    "start_time": "2022-07-01T11:35:15.987Z"
   },
   {
    "duration": 1612,
    "start_time": "2022-07-01T11:35:20.895Z"
   },
   {
    "duration": 55,
    "start_time": "2022-07-01T11:35:22.509Z"
   },
   {
    "duration": 3,
    "start_time": "2022-07-01T11:35:22.566Z"
   },
   {
    "duration": 19,
    "start_time": "2022-07-01T11:35:22.571Z"
   },
   {
    "duration": 21,
    "start_time": "2022-07-01T11:35:22.591Z"
   },
   {
    "duration": 15,
    "start_time": "2022-07-01T11:35:22.613Z"
   },
   {
    "duration": 8,
    "start_time": "2022-07-01T11:35:22.630Z"
   },
   {
    "duration": 18,
    "start_time": "2022-07-01T11:35:22.640Z"
   },
   {
    "duration": 25,
    "start_time": "2022-07-01T11:35:22.659Z"
   },
   {
    "duration": 18,
    "start_time": "2022-07-01T11:35:22.688Z"
   },
   {
    "duration": 18,
    "start_time": "2022-07-01T11:35:22.708Z"
   },
   {
    "duration": 6,
    "start_time": "2022-07-01T11:35:22.728Z"
   },
   {
    "duration": 14,
    "start_time": "2022-07-01T11:35:22.736Z"
   },
   {
    "duration": 11,
    "start_time": "2022-07-01T11:35:22.752Z"
   },
   {
    "duration": 12,
    "start_time": "2022-07-01T11:35:22.764Z"
   },
   {
    "duration": 14,
    "start_time": "2022-07-01T11:35:22.777Z"
   },
   {
    "duration": 12,
    "start_time": "2022-07-01T11:35:22.792Z"
   },
   {
    "duration": 9,
    "start_time": "2022-07-01T11:35:22.805Z"
   },
   {
    "duration": 126,
    "start_time": "2022-07-01T11:35:22.815Z"
   },
   {
    "duration": 984,
    "start_time": "2022-07-01T11:35:22.943Z"
   },
   {
    "duration": 15,
    "start_time": "2022-07-01T11:35:23.928Z"
   },
   {
    "duration": 5,
    "start_time": "2022-07-01T11:35:23.945Z"
   },
   {
    "duration": 129,
    "start_time": "2022-07-01T11:35:27.929Z"
   },
   {
    "duration": 124,
    "start_time": "2022-07-01T11:35:53.447Z"
   },
   {
    "duration": 88,
    "start_time": "2022-07-01T11:40:13.425Z"
   },
   {
    "duration": 1366,
    "start_time": "2022-07-01T11:41:02.138Z"
   },
   {
    "duration": 29,
    "start_time": "2022-07-01T11:41:03.506Z"
   },
   {
    "duration": 4,
    "start_time": "2022-07-01T11:41:03.536Z"
   },
   {
    "duration": 47,
    "start_time": "2022-07-01T11:41:03.542Z"
   },
   {
    "duration": 15,
    "start_time": "2022-07-01T11:41:03.590Z"
   },
   {
    "duration": 11,
    "start_time": "2022-07-01T11:41:03.606Z"
   },
   {
    "duration": 8,
    "start_time": "2022-07-01T11:41:03.619Z"
   },
   {
    "duration": 11,
    "start_time": "2022-07-01T11:41:03.629Z"
   },
   {
    "duration": 20,
    "start_time": "2022-07-01T11:41:03.641Z"
   },
   {
    "duration": 17,
    "start_time": "2022-07-01T11:41:03.664Z"
   },
   {
    "duration": 22,
    "start_time": "2022-07-01T11:41:03.683Z"
   },
   {
    "duration": 9,
    "start_time": "2022-07-01T11:41:03.707Z"
   },
   {
    "duration": 15,
    "start_time": "2022-07-01T11:41:03.717Z"
   },
   {
    "duration": 38,
    "start_time": "2022-07-01T11:41:03.734Z"
   },
   {
    "duration": 9,
    "start_time": "2022-07-01T11:41:03.773Z"
   },
   {
    "duration": 8,
    "start_time": "2022-07-01T11:41:03.784Z"
   },
   {
    "duration": 11,
    "start_time": "2022-07-01T11:41:03.794Z"
   },
   {
    "duration": 6,
    "start_time": "2022-07-01T11:41:03.806Z"
   },
   {
    "duration": 128,
    "start_time": "2022-07-01T11:41:03.814Z"
   },
   {
    "duration": 962,
    "start_time": "2022-07-01T11:41:03.944Z"
   },
   {
    "duration": 20,
    "start_time": "2022-07-01T11:41:04.907Z"
   },
   {
    "duration": 19,
    "start_time": "2022-07-01T11:41:04.929Z"
   },
   {
    "duration": 151,
    "start_time": "2022-07-01T11:41:04.950Z"
   },
   {
    "duration": 190,
    "start_time": "2022-07-01T11:41:05.103Z"
   },
   {
    "duration": 43,
    "start_time": "2022-07-01T11:43:59.744Z"
   },
   {
    "duration": 7,
    "start_time": "2022-07-01T11:50:40.591Z"
   },
   {
    "duration": 5,
    "start_time": "2022-07-01T11:51:00.375Z"
   },
   {
    "duration": 122,
    "start_time": "2022-07-01T11:53:15.672Z"
   },
   {
    "duration": 8,
    "start_time": "2022-07-01T11:53:44.035Z"
   },
   {
    "duration": 9,
    "start_time": "2022-07-01T11:53:45.854Z"
   },
   {
    "duration": 1303,
    "start_time": "2022-07-01T11:54:12.479Z"
   },
   {
    "duration": 28,
    "start_time": "2022-07-01T11:54:13.784Z"
   },
   {
    "duration": 4,
    "start_time": "2022-07-01T11:54:13.813Z"
   },
   {
    "duration": 7,
    "start_time": "2022-07-01T11:54:13.818Z"
   },
   {
    "duration": 13,
    "start_time": "2022-07-01T11:54:13.827Z"
   },
   {
    "duration": 9,
    "start_time": "2022-07-01T11:54:13.842Z"
   },
   {
    "duration": 6,
    "start_time": "2022-07-01T11:54:13.852Z"
   },
   {
    "duration": 5,
    "start_time": "2022-07-01T11:54:13.859Z"
   },
   {
    "duration": 15,
    "start_time": "2022-07-01T11:54:13.865Z"
   },
   {
    "duration": 24,
    "start_time": "2022-07-01T11:54:13.882Z"
   },
   {
    "duration": 28,
    "start_time": "2022-07-01T11:54:13.908Z"
   },
   {
    "duration": 10,
    "start_time": "2022-07-01T11:54:13.938Z"
   },
   {
    "duration": 13,
    "start_time": "2022-07-01T11:54:13.950Z"
   },
   {
    "duration": 5,
    "start_time": "2022-07-01T11:54:13.965Z"
   },
   {
    "duration": 6,
    "start_time": "2022-07-01T11:54:13.972Z"
   },
   {
    "duration": 12,
    "start_time": "2022-07-01T11:54:13.980Z"
   },
   {
    "duration": 7,
    "start_time": "2022-07-01T11:54:13.994Z"
   },
   {
    "duration": 7,
    "start_time": "2022-07-01T11:54:14.002Z"
   },
   {
    "duration": 121,
    "start_time": "2022-07-01T11:54:14.027Z"
   },
   {
    "duration": 972,
    "start_time": "2022-07-01T11:54:14.150Z"
   },
   {
    "duration": 14,
    "start_time": "2022-07-01T11:54:15.126Z"
   },
   {
    "duration": 6,
    "start_time": "2022-07-01T11:54:15.142Z"
   },
   {
    "duration": 143,
    "start_time": "2022-07-01T11:54:15.150Z"
   },
   {
    "duration": 187,
    "start_time": "2022-07-01T11:54:15.295Z"
   },
   {
    "duration": 51,
    "start_time": "2022-07-01T11:54:15.484Z"
   },
   {
    "duration": 96,
    "start_time": "2022-07-01T11:54:15.537Z"
   },
   {
    "duration": 199,
    "start_time": "2022-07-01T11:54:15.635Z"
   },
   {
    "duration": 13,
    "start_time": "2022-07-01T11:54:15.835Z"
   },
   {
    "duration": 284,
    "start_time": "2022-07-01T11:54:15.851Z"
   },
   {
    "duration": 1378,
    "start_time": "2022-07-01T11:54:40.647Z"
   },
   {
    "duration": 28,
    "start_time": "2022-07-01T11:54:42.026Z"
   },
   {
    "duration": 10,
    "start_time": "2022-07-01T11:54:42.056Z"
   },
   {
    "duration": 32,
    "start_time": "2022-07-01T11:54:42.067Z"
   },
   {
    "duration": 18,
    "start_time": "2022-07-01T11:54:42.100Z"
   },
   {
    "duration": 16,
    "start_time": "2022-07-01T11:54:42.120Z"
   },
   {
    "duration": 18,
    "start_time": "2022-07-01T11:54:42.138Z"
   },
   {
    "duration": 25,
    "start_time": "2022-07-01T11:54:42.158Z"
   },
   {
    "duration": 29,
    "start_time": "2022-07-01T11:54:42.185Z"
   },
   {
    "duration": 36,
    "start_time": "2022-07-01T11:54:42.217Z"
   },
   {
    "duration": 12,
    "start_time": "2022-07-01T11:54:42.254Z"
   },
   {
    "duration": 12,
    "start_time": "2022-07-01T11:54:42.267Z"
   },
   {
    "duration": 23,
    "start_time": "2022-07-01T11:54:42.280Z"
   },
   {
    "duration": 10,
    "start_time": "2022-07-01T11:54:42.305Z"
   },
   {
    "duration": 13,
    "start_time": "2022-07-01T11:54:42.316Z"
   },
   {
    "duration": 21,
    "start_time": "2022-07-01T11:54:42.330Z"
   },
   {
    "duration": 17,
    "start_time": "2022-07-01T11:54:42.353Z"
   },
   {
    "duration": 9,
    "start_time": "2022-07-01T11:54:42.371Z"
   },
   {
    "duration": 126,
    "start_time": "2022-07-01T11:54:42.381Z"
   },
   {
    "duration": 940,
    "start_time": "2022-07-01T11:54:42.509Z"
   },
   {
    "duration": 14,
    "start_time": "2022-07-01T11:54:43.450Z"
   },
   {
    "duration": 10,
    "start_time": "2022-07-01T11:54:43.465Z"
   },
   {
    "duration": 135,
    "start_time": "2022-07-01T11:54:43.476Z"
   },
   {
    "duration": 186,
    "start_time": "2022-07-01T11:54:43.613Z"
   },
   {
    "duration": 33,
    "start_time": "2022-07-01T11:54:43.801Z"
   },
   {
    "duration": 189,
    "start_time": "2022-07-01T11:54:43.838Z"
   },
   {
    "duration": 5,
    "start_time": "2022-07-01T11:54:44.028Z"
   },
   {
    "duration": 18,
    "start_time": "2022-07-01T11:54:44.126Z"
   },
   {
    "duration": 218,
    "start_time": "2022-07-01T11:54:44.146Z"
   },
   {
    "duration": 64,
    "start_time": "2022-07-01T11:56:15.818Z"
   },
   {
    "duration": 171,
    "start_time": "2022-07-01T11:56:56.360Z"
   },
   {
    "duration": 285,
    "start_time": "2022-07-01T11:57:34.824Z"
   },
   {
    "duration": 1530,
    "start_time": "2022-07-03T18:27:51.698Z"
   },
   {
    "duration": 180,
    "start_time": "2022-07-03T18:27:53.230Z"
   },
   {
    "duration": 3,
    "start_time": "2022-07-03T18:27:53.415Z"
   },
   {
    "duration": 8,
    "start_time": "2022-07-03T18:27:53.420Z"
   },
   {
    "duration": 25,
    "start_time": "2022-07-03T18:27:53.430Z"
   },
   {
    "duration": 10,
    "start_time": "2022-07-03T18:27:53.457Z"
   },
   {
    "duration": 7,
    "start_time": "2022-07-03T18:27:53.469Z"
   },
   {
    "duration": 6,
    "start_time": "2022-07-03T18:27:53.478Z"
   },
   {
    "duration": 18,
    "start_time": "2022-07-03T18:27:53.487Z"
   },
   {
    "duration": 41,
    "start_time": "2022-07-03T18:27:53.507Z"
   },
   {
    "duration": 11,
    "start_time": "2022-07-03T18:27:53.550Z"
   },
   {
    "duration": 7,
    "start_time": "2022-07-03T18:27:53.563Z"
   },
   {
    "duration": 11,
    "start_time": "2022-07-03T18:27:53.572Z"
   },
   {
    "duration": 5,
    "start_time": "2022-07-03T18:27:53.585Z"
   },
   {
    "duration": 5,
    "start_time": "2022-07-03T18:27:53.592Z"
   },
   {
    "duration": 35,
    "start_time": "2022-07-03T18:27:53.599Z"
   },
   {
    "duration": 11,
    "start_time": "2022-07-03T18:27:53.636Z"
   },
   {
    "duration": 7,
    "start_time": "2022-07-03T18:27:53.649Z"
   },
   {
    "duration": 148,
    "start_time": "2022-07-03T18:27:53.657Z"
   },
   {
    "duration": 74,
    "start_time": "2022-07-03T18:27:53.807Z"
   },
   {
    "duration": 5,
    "start_time": "2022-07-03T18:27:53.882Z"
   },
   {
    "duration": 10,
    "start_time": "2022-07-03T18:27:53.889Z"
   },
   {
    "duration": 111132,
    "start_time": "2022-07-03T18:27:53.901Z"
   },
   {
    "duration": 11,
    "start_time": "2022-07-03T18:29:45.039Z"
   },
   {
    "duration": 189,
    "start_time": "2022-07-03T18:29:45.054Z"
   },
   {
    "duration": 974,
    "start_time": "2022-07-03T18:29:45.245Z"
   },
   {
    "duration": 17,
    "start_time": "2022-07-03T18:29:46.225Z"
   },
   {
    "duration": 11,
    "start_time": "2022-07-03T18:29:46.243Z"
   },
   {
    "duration": 143,
    "start_time": "2022-07-03T18:29:46.256Z"
   },
   {
    "duration": 206,
    "start_time": "2022-07-03T18:29:46.401Z"
   },
   {
    "duration": 109,
    "start_time": "2022-07-03T18:29:46.609Z"
   },
   {
    "duration": 46,
    "start_time": "2022-07-03T18:29:46.719Z"
   },
   {
    "duration": 5,
    "start_time": "2022-07-03T18:29:46.767Z"
   },
   {
    "duration": 26,
    "start_time": "2022-07-03T18:29:46.774Z"
   },
   {
    "duration": 295,
    "start_time": "2022-07-03T18:29:46.803Z"
   },
   {
    "duration": 61,
    "start_time": "2022-07-03T18:29:47.100Z"
   },
   {
    "duration": 2080,
    "start_time": "2022-07-03T18:35:10.237Z"
   },
   {
    "duration": 42,
    "start_time": "2022-07-03T18:35:12.319Z"
   },
   {
    "duration": 3,
    "start_time": "2022-07-03T18:35:12.363Z"
   },
   {
    "duration": 8,
    "start_time": "2022-07-03T18:35:12.368Z"
   },
   {
    "duration": 18,
    "start_time": "2022-07-03T18:35:12.377Z"
   },
   {
    "duration": 9,
    "start_time": "2022-07-03T18:35:12.397Z"
   },
   {
    "duration": 9,
    "start_time": "2022-07-03T18:35:12.408Z"
   },
   {
    "duration": 8,
    "start_time": "2022-07-03T18:35:12.418Z"
   },
   {
    "duration": 16,
    "start_time": "2022-07-03T18:35:12.427Z"
   },
   {
    "duration": 19,
    "start_time": "2022-07-03T18:35:12.446Z"
   },
   {
    "duration": 14,
    "start_time": "2022-07-03T18:35:12.467Z"
   },
   {
    "duration": 7,
    "start_time": "2022-07-03T18:35:12.483Z"
   },
   {
    "duration": 38,
    "start_time": "2022-07-03T18:35:12.492Z"
   },
   {
    "duration": 7,
    "start_time": "2022-07-03T18:35:12.532Z"
   },
   {
    "duration": 4,
    "start_time": "2022-07-03T18:35:12.541Z"
   },
   {
    "duration": 5,
    "start_time": "2022-07-03T18:35:12.546Z"
   },
   {
    "duration": 9,
    "start_time": "2022-07-03T18:35:12.553Z"
   },
   {
    "duration": 5,
    "start_time": "2022-07-03T18:35:12.563Z"
   },
   {
    "duration": 138,
    "start_time": "2022-07-03T18:35:12.569Z"
   },
   {
    "duration": 80,
    "start_time": "2022-07-03T18:35:12.709Z"
   },
   {
    "duration": 6,
    "start_time": "2022-07-03T18:35:12.791Z"
   },
   {
    "duration": 8,
    "start_time": "2022-07-03T18:35:12.798Z"
   },
   {
    "duration": 20020,
    "start_time": "2022-07-03T18:35:12.808Z"
   },
   {
    "duration": 5,
    "start_time": "2022-07-03T18:35:32.830Z"
   },
   {
    "duration": 194,
    "start_time": "2022-07-03T18:35:32.839Z"
   },
   {
    "duration": 933,
    "start_time": "2022-07-03T18:35:33.034Z"
   },
   {
    "duration": 16,
    "start_time": "2022-07-03T18:35:33.969Z"
   },
   {
    "duration": 6,
    "start_time": "2022-07-03T18:35:33.988Z"
   },
   {
    "duration": 169,
    "start_time": "2022-07-03T18:35:33.996Z"
   },
   {
    "duration": 185,
    "start_time": "2022-07-03T18:35:34.167Z"
   },
   {
    "duration": 73,
    "start_time": "2022-07-03T18:35:34.354Z"
   },
   {
    "duration": 24,
    "start_time": "2022-07-03T18:35:34.429Z"
   },
   {
    "duration": 3,
    "start_time": "2022-07-03T18:35:34.455Z"
   },
   {
    "duration": 15,
    "start_time": "2022-07-03T18:35:34.459Z"
   },
   {
    "duration": 280,
    "start_time": "2022-07-03T18:35:34.476Z"
   },
   {
    "duration": 69,
    "start_time": "2022-07-03T18:35:34.758Z"
   },
   {
    "duration": 1608,
    "start_time": "2022-07-03T18:36:08.019Z"
   },
   {
    "duration": 5,
    "start_time": "2022-07-03T18:36:52.516Z"
   },
   {
    "duration": 5,
    "start_time": "2022-07-03T18:36:55.793Z"
   },
   {
    "duration": 1767,
    "start_time": "2022-07-03T18:44:48.863Z"
   },
   {
    "duration": 6,
    "start_time": "2022-07-03T18:44:57.740Z"
   },
   {
    "duration": 6,
    "start_time": "2022-07-03T18:44:58.801Z"
   },
   {
    "duration": 86,
    "start_time": "2022-07-03T18:45:33.498Z"
   },
   {
    "duration": 5,
    "start_time": "2022-07-03T18:45:37.972Z"
   },
   {
    "duration": 5,
    "start_time": "2022-07-03T18:45:39.673Z"
   },
   {
    "duration": 250,
    "start_time": "2022-07-03T18:46:52.477Z"
   },
   {
    "duration": 118,
    "start_time": "2022-07-03T18:47:03.620Z"
   },
   {
    "duration": 1350,
    "start_time": "2022-07-03T18:47:09.908Z"
   },
   {
    "duration": 7,
    "start_time": "2022-07-03T18:47:14.908Z"
   },
   {
    "duration": 1968,
    "start_time": "2022-07-03T18:47:30.081Z"
   },
   {
    "duration": 1790,
    "start_time": "2022-07-03T18:47:34.938Z"
   },
   {
    "duration": 6,
    "start_time": "2022-07-03T18:47:38.497Z"
   },
   {
    "duration": 6,
    "start_time": "2022-07-03T18:47:40.578Z"
   },
   {
    "duration": 5,
    "start_time": "2022-07-03T18:47:52.406Z"
   },
   {
    "duration": 5,
    "start_time": "2022-07-03T18:47:54.202Z"
   },
   {
    "duration": 1112,
    "start_time": "2022-07-03T18:48:25.895Z"
   },
   {
    "duration": 16,
    "start_time": "2022-07-03T18:48:38.777Z"
   },
   {
    "duration": 6,
    "start_time": "2022-07-03T18:48:40.165Z"
   },
   {
    "duration": 992,
    "start_time": "2022-07-03T18:48:44.809Z"
   },
   {
    "duration": 15,
    "start_time": "2022-07-03T18:48:46.939Z"
   },
   {
    "duration": 6,
    "start_time": "2022-07-03T18:48:49.077Z"
   },
   {
    "duration": 2255,
    "start_time": "2022-07-03T18:49:09.674Z"
   },
   {
    "duration": 5,
    "start_time": "2022-07-03T18:49:17.636Z"
   },
   {
    "duration": 43,
    "start_time": "2022-07-03T18:49:17.643Z"
   },
   {
    "duration": 4,
    "start_time": "2022-07-03T18:49:17.688Z"
   },
   {
    "duration": 8,
    "start_time": "2022-07-03T18:49:17.693Z"
   },
   {
    "duration": 12,
    "start_time": "2022-07-03T18:49:17.702Z"
   },
   {
    "duration": 8,
    "start_time": "2022-07-03T18:49:17.716Z"
   },
   {
    "duration": 26,
    "start_time": "2022-07-03T18:49:17.725Z"
   },
   {
    "duration": 6,
    "start_time": "2022-07-03T18:49:17.752Z"
   },
   {
    "duration": 13,
    "start_time": "2022-07-03T18:49:17.760Z"
   },
   {
    "duration": 17,
    "start_time": "2022-07-03T18:49:17.774Z"
   },
   {
    "duration": 13,
    "start_time": "2022-07-03T18:49:17.792Z"
   },
   {
    "duration": 7,
    "start_time": "2022-07-03T18:49:17.807Z"
   },
   {
    "duration": 17,
    "start_time": "2022-07-03T18:49:17.830Z"
   },
   {
    "duration": 7,
    "start_time": "2022-07-03T18:49:17.849Z"
   },
   {
    "duration": 6,
    "start_time": "2022-07-03T18:49:17.858Z"
   },
   {
    "duration": 5,
    "start_time": "2022-07-03T18:49:17.866Z"
   },
   {
    "duration": 7,
    "start_time": "2022-07-03T18:49:17.872Z"
   },
   {
    "duration": 4,
    "start_time": "2022-07-03T18:49:17.880Z"
   },
   {
    "duration": 129,
    "start_time": "2022-07-03T18:49:17.885Z"
   },
   {
    "duration": 81,
    "start_time": "2022-07-03T18:49:18.016Z"
   },
   {
    "duration": 5,
    "start_time": "2022-07-03T18:49:18.099Z"
   },
   {
    "duration": 21,
    "start_time": "2022-07-03T18:49:18.105Z"
   },
   {
    "duration": 2693,
    "start_time": "2022-07-03T18:49:18.134Z"
   },
   {
    "duration": 13,
    "start_time": "2022-07-03T18:49:20.830Z"
   },
   {
    "duration": 183,
    "start_time": "2022-07-03T18:49:20.847Z"
   },
   {
    "duration": 1056,
    "start_time": "2022-07-03T18:49:21.034Z"
   },
   {
    "duration": 16,
    "start_time": "2022-07-03T18:49:22.092Z"
   },
   {
    "duration": 18,
    "start_time": "2022-07-03T18:49:22.110Z"
   },
   {
    "duration": 29,
    "start_time": "2022-07-03T18:52:45.112Z"
   },
   {
    "duration": 28,
    "start_time": "2022-07-03T18:53:06.122Z"
   },
   {
    "duration": 191,
    "start_time": "2022-07-03T18:53:08.873Z"
   },
   {
    "duration": 25,
    "start_time": "2022-07-03T18:53:10.414Z"
   },
   {
    "duration": 36,
    "start_time": "2022-07-03T18:53:29.210Z"
   },
   {
    "duration": 4,
    "start_time": "2022-07-03T18:54:44.700Z"
   },
   {
    "duration": 46,
    "start_time": "2022-07-03T18:54:44.705Z"
   },
   {
    "duration": 4,
    "start_time": "2022-07-03T18:54:44.752Z"
   },
   {
    "duration": 6,
    "start_time": "2022-07-03T18:54:44.758Z"
   },
   {
    "duration": 14,
    "start_time": "2022-07-03T18:54:44.766Z"
   },
   {
    "duration": 10,
    "start_time": "2022-07-03T18:54:44.782Z"
   },
   {
    "duration": 15,
    "start_time": "2022-07-03T18:54:44.794Z"
   },
   {
    "duration": 17,
    "start_time": "2022-07-03T18:54:44.811Z"
   },
   {
    "duration": 13,
    "start_time": "2022-07-03T18:54:44.829Z"
   },
   {
    "duration": 15,
    "start_time": "2022-07-03T18:54:44.844Z"
   },
   {
    "duration": 12,
    "start_time": "2022-07-03T18:54:44.860Z"
   },
   {
    "duration": 6,
    "start_time": "2022-07-03T18:54:44.873Z"
   },
   {
    "duration": 11,
    "start_time": "2022-07-03T18:54:44.881Z"
   },
   {
    "duration": 5,
    "start_time": "2022-07-03T18:54:44.925Z"
   },
   {
    "duration": 6,
    "start_time": "2022-07-03T18:54:44.932Z"
   },
   {
    "duration": 4,
    "start_time": "2022-07-03T18:54:44.939Z"
   },
   {
    "duration": 7,
    "start_time": "2022-07-03T18:54:44.945Z"
   },
   {
    "duration": 5,
    "start_time": "2022-07-03T18:54:44.953Z"
   },
   {
    "duration": 138,
    "start_time": "2022-07-03T18:54:44.959Z"
   },
   {
    "duration": 74,
    "start_time": "2022-07-03T18:54:45.099Z"
   },
   {
    "duration": 4,
    "start_time": "2022-07-03T18:54:45.174Z"
   },
   {
    "duration": 7,
    "start_time": "2022-07-03T18:54:45.180Z"
   },
   {
    "duration": 937,
    "start_time": "2022-07-03T18:54:45.189Z"
   },
   {
    "duration": 5,
    "start_time": "2022-07-03T18:54:46.128Z"
   },
   {
    "duration": 96,
    "start_time": "2022-07-03T18:54:46.135Z"
   },
   {
    "duration": 1129,
    "start_time": "2022-07-03T18:54:46.233Z"
   },
   {
    "duration": 13,
    "start_time": "2022-07-03T18:54:47.364Z"
   },
   {
    "duration": 4,
    "start_time": "2022-07-03T18:54:47.379Z"
   },
   {
    "duration": 126,
    "start_time": "2022-07-03T18:54:47.384Z"
   },
   {
    "duration": 31,
    "start_time": "2022-07-03T18:54:47.511Z"
   },
   {
    "duration": 182,
    "start_time": "2022-07-03T18:54:47.543Z"
   },
   {
    "duration": 29,
    "start_time": "2022-07-03T18:54:47.727Z"
   },
   {
    "duration": 75,
    "start_time": "2022-07-03T18:54:47.758Z"
   },
   {
    "duration": 14,
    "start_time": "2022-07-03T18:54:50.397Z"
   },
   {
    "duration": 135,
    "start_time": "2022-07-03T18:56:28.297Z"
   },
   {
    "duration": 5,
    "start_time": "2022-07-03T18:57:35.793Z"
   },
   {
    "duration": 44,
    "start_time": "2022-07-03T18:57:35.800Z"
   },
   {
    "duration": 4,
    "start_time": "2022-07-03T18:57:35.846Z"
   },
   {
    "duration": 10,
    "start_time": "2022-07-03T18:57:35.852Z"
   },
   {
    "duration": 12,
    "start_time": "2022-07-03T18:57:35.865Z"
   },
   {
    "duration": 8,
    "start_time": "2022-07-03T18:57:35.879Z"
   },
   {
    "duration": 6,
    "start_time": "2022-07-03T18:57:35.889Z"
   },
   {
    "duration": 28,
    "start_time": "2022-07-03T18:57:35.897Z"
   },
   {
    "duration": 12,
    "start_time": "2022-07-03T18:57:35.927Z"
   },
   {
    "duration": 16,
    "start_time": "2022-07-03T18:57:35.941Z"
   },
   {
    "duration": 12,
    "start_time": "2022-07-03T18:57:35.958Z"
   },
   {
    "duration": 7,
    "start_time": "2022-07-03T18:57:35.972Z"
   },
   {
    "duration": 14,
    "start_time": "2022-07-03T18:57:35.980Z"
   },
   {
    "duration": 32,
    "start_time": "2022-07-03T18:57:35.996Z"
   },
   {
    "duration": 6,
    "start_time": "2022-07-03T18:57:36.029Z"
   },
   {
    "duration": 5,
    "start_time": "2022-07-03T18:57:36.037Z"
   },
   {
    "duration": 24,
    "start_time": "2022-07-03T18:57:36.043Z"
   },
   {
    "duration": 5,
    "start_time": "2022-07-03T18:57:37.835Z"
   },
   {
    "duration": 4,
    "start_time": "2022-07-03T18:57:44.128Z"
   },
   {
    "duration": 42,
    "start_time": "2022-07-03T18:57:44.133Z"
   },
   {
    "duration": 3,
    "start_time": "2022-07-03T18:57:44.177Z"
   },
   {
    "duration": 7,
    "start_time": "2022-07-03T18:57:44.182Z"
   },
   {
    "duration": 13,
    "start_time": "2022-07-03T18:57:44.191Z"
   },
   {
    "duration": 7,
    "start_time": "2022-07-03T18:57:44.206Z"
   },
   {
    "duration": 14,
    "start_time": "2022-07-03T18:57:44.215Z"
   },
   {
    "duration": 4,
    "start_time": "2022-07-03T18:57:44.230Z"
   },
   {
    "duration": 15,
    "start_time": "2022-07-03T18:57:44.236Z"
   },
   {
    "duration": 16,
    "start_time": "2022-07-03T18:57:44.252Z"
   },
   {
    "duration": 16,
    "start_time": "2022-07-03T18:57:44.270Z"
   },
   {
    "duration": 6,
    "start_time": "2022-07-03T18:57:44.288Z"
   },
   {
    "duration": 33,
    "start_time": "2022-07-03T18:57:44.295Z"
   },
   {
    "duration": 5,
    "start_time": "2022-07-03T18:57:44.329Z"
   },
   {
    "duration": 6,
    "start_time": "2022-07-03T18:57:44.336Z"
   },
   {
    "duration": 8,
    "start_time": "2022-07-03T18:57:44.343Z"
   },
   {
    "duration": 8,
    "start_time": "2022-07-03T18:57:44.352Z"
   },
   {
    "duration": 4,
    "start_time": "2022-07-03T18:57:44.361Z"
   },
   {
    "duration": 4,
    "start_time": "2022-07-03T18:57:44.367Z"
   },
   {
    "duration": 125,
    "start_time": "2022-07-03T18:57:44.373Z"
   },
   {
    "duration": 75,
    "start_time": "2022-07-03T18:57:44.500Z"
   },
   {
    "duration": 4,
    "start_time": "2022-07-03T18:57:44.576Z"
   },
   {
    "duration": 9,
    "start_time": "2022-07-03T18:57:44.582Z"
   },
   {
    "duration": 933,
    "start_time": "2022-07-03T18:57:44.593Z"
   },
   {
    "duration": 5,
    "start_time": "2022-07-03T18:57:45.528Z"
   },
   {
    "duration": 194,
    "start_time": "2022-07-03T18:57:45.535Z"
   },
   {
    "duration": 964,
    "start_time": "2022-07-03T18:57:45.730Z"
   },
   {
    "duration": 15,
    "start_time": "2022-07-03T18:57:46.697Z"
   },
   {
    "duration": 6,
    "start_time": "2022-07-03T18:57:46.725Z"
   },
   {
    "duration": 155,
    "start_time": "2022-07-03T18:57:46.732Z"
   },
   {
    "duration": 24,
    "start_time": "2022-07-03T18:57:46.889Z"
   },
   {
    "duration": 187,
    "start_time": "2022-07-03T18:57:46.915Z"
   },
   {
    "duration": 36,
    "start_time": "2022-07-03T18:57:47.104Z"
   },
   {
    "duration": 65,
    "start_time": "2022-07-03T18:57:47.141Z"
   },
   {
    "duration": 24,
    "start_time": "2022-07-03T18:57:47.208Z"
   },
   {
    "duration": 49,
    "start_time": "2022-07-03T18:57:50.732Z"
   },
   {
    "duration": 35,
    "start_time": "2022-07-03T18:58:08.700Z"
   },
   {
    "duration": 36,
    "start_time": "2022-07-03T18:58:14.170Z"
   },
   {
    "duration": 1937,
    "start_time": "2022-07-05T18:21:00.432Z"
   },
   {
    "duration": 58,
    "start_time": "2022-07-05T18:21:02.372Z"
   },
   {
    "duration": 4,
    "start_time": "2022-07-05T18:21:02.432Z"
   },
   {
    "duration": 16,
    "start_time": "2022-07-05T18:21:02.438Z"
   },
   {
    "duration": 28,
    "start_time": "2022-07-05T18:21:02.457Z"
   },
   {
    "duration": 11,
    "start_time": "2022-07-05T18:21:02.486Z"
   },
   {
    "duration": 8,
    "start_time": "2022-07-05T18:21:02.498Z"
   },
   {
    "duration": 13,
    "start_time": "2022-07-05T18:21:02.508Z"
   },
   {
    "duration": 23,
    "start_time": "2022-07-05T18:21:02.523Z"
   },
   {
    "duration": 24,
    "start_time": "2022-07-05T18:21:02.547Z"
   },
   {
    "duration": 21,
    "start_time": "2022-07-05T18:21:02.573Z"
   },
   {
    "duration": 8,
    "start_time": "2022-07-05T18:21:02.596Z"
   },
   {
    "duration": 23,
    "start_time": "2022-07-05T18:21:02.606Z"
   },
   {
    "duration": 7,
    "start_time": "2022-07-05T18:21:02.645Z"
   },
   {
    "duration": 9,
    "start_time": "2022-07-05T18:21:11.859Z"
   },
   {
    "duration": 6,
    "start_time": "2022-07-05T18:24:36.717Z"
   },
   {
    "duration": 5,
    "start_time": "2022-07-05T18:24:38.204Z"
   },
   {
    "duration": 5,
    "start_time": "2022-07-05T18:24:42.606Z"
   },
   {
    "duration": 6,
    "start_time": "2022-07-05T18:25:24.067Z"
   },
   {
    "duration": 6,
    "start_time": "2022-07-05T18:25:25.575Z"
   },
   {
    "duration": 6,
    "start_time": "2022-07-05T18:25:30.701Z"
   },
   {
    "duration": 3,
    "start_time": "2022-07-05T18:25:31.438Z"
   },
   {
    "duration": 2,
    "start_time": "2022-07-05T18:25:31.705Z"
   },
   {
    "duration": 6,
    "start_time": "2022-07-05T18:25:34.393Z"
   },
   {
    "duration": 126,
    "start_time": "2022-07-05T18:25:34.577Z"
   },
   {
    "duration": 4,
    "start_time": "2022-07-05T18:25:41.896Z"
   },
   {
    "duration": 43,
    "start_time": "2022-07-05T18:25:41.902Z"
   },
   {
    "duration": 4,
    "start_time": "2022-07-05T18:25:41.946Z"
   },
   {
    "duration": 8,
    "start_time": "2022-07-05T18:25:41.952Z"
   },
   {
    "duration": 14,
    "start_time": "2022-07-05T18:25:41.962Z"
   },
   {
    "duration": 11,
    "start_time": "2022-07-05T18:25:41.977Z"
   },
   {
    "duration": 8,
    "start_time": "2022-07-05T18:25:41.990Z"
   },
   {
    "duration": 8,
    "start_time": "2022-07-05T18:25:42.000Z"
   },
   {
    "duration": 39,
    "start_time": "2022-07-05T18:25:42.010Z"
   },
   {
    "duration": 18,
    "start_time": "2022-07-05T18:25:42.051Z"
   },
   {
    "duration": 16,
    "start_time": "2022-07-05T18:25:42.071Z"
   },
   {
    "duration": 19,
    "start_time": "2022-07-05T18:25:42.089Z"
   },
   {
    "duration": 22,
    "start_time": "2022-07-05T18:25:42.110Z"
   },
   {
    "duration": 7,
    "start_time": "2022-07-05T18:25:42.147Z"
   },
   {
    "duration": 29,
    "start_time": "2022-07-05T18:25:42.156Z"
   },
   {
    "duration": 17,
    "start_time": "2022-07-05T18:25:42.186Z"
   },
   {
    "duration": 26,
    "start_time": "2022-07-05T18:25:42.205Z"
   },
   {
    "duration": 19,
    "start_time": "2022-07-05T18:25:42.233Z"
   },
   {
    "duration": 21,
    "start_time": "2022-07-05T18:25:42.255Z"
   },
   {
    "duration": 18,
    "start_time": "2022-07-05T18:25:42.279Z"
   },
   {
    "duration": 127,
    "start_time": "2022-07-05T18:25:42.300Z"
   },
   {
    "duration": 44,
    "start_time": "2022-07-05T18:25:42.429Z"
   },
   {
    "duration": 5,
    "start_time": "2022-07-05T18:25:42.475Z"
   },
   {
    "duration": 18,
    "start_time": "2022-07-05T18:25:42.482Z"
   },
   {
    "duration": 347,
    "start_time": "2022-07-05T18:25:42.502Z"
   },
   {
    "duration": 95,
    "start_time": "2022-07-05T18:25:42.852Z"
   },
   {
    "duration": 114,
    "start_time": "2022-07-05T18:25:42.949Z"
   },
   {
    "duration": 526,
    "start_time": "2022-07-05T18:25:43.066Z"
   },
   {
    "duration": 15,
    "start_time": "2022-07-05T18:25:43.595Z"
   },
   {
    "duration": 26,
    "start_time": "2022-07-05T18:25:43.612Z"
   },
   {
    "duration": 63,
    "start_time": "2022-07-05T18:25:43.640Z"
   },
   {
    "duration": 15,
    "start_time": "2022-07-05T18:25:43.705Z"
   },
   {
    "duration": 89,
    "start_time": "2022-07-05T18:25:43.721Z"
   },
   {
    "duration": 15,
    "start_time": "2022-07-05T18:25:43.812Z"
   },
   {
    "duration": 67,
    "start_time": "2022-07-05T18:25:43.829Z"
   },
   {
    "duration": 14,
    "start_time": "2022-07-05T18:25:43.898Z"
   },
   {
    "duration": 20,
    "start_time": "2022-07-05T18:26:05.353Z"
   },
   {
    "duration": 19,
    "start_time": "2022-07-05T18:26:31.850Z"
   },
   {
    "duration": 21,
    "start_time": "2022-07-05T18:26:36.059Z"
   },
   {
    "duration": 31,
    "start_time": "2022-07-05T18:26:38.910Z"
   },
   {
    "duration": 22,
    "start_time": "2022-07-05T18:26:41.093Z"
   },
   {
    "duration": 31,
    "start_time": "2022-07-05T18:26:44.008Z"
   },
   {
    "duration": 24,
    "start_time": "2022-07-05T18:26:46.571Z"
   },
   {
    "duration": 27,
    "start_time": "2022-07-05T18:26:49.837Z"
   },
   {
    "duration": 14,
    "start_time": "2022-07-05T18:26:54.134Z"
   },
   {
    "duration": 29,
    "start_time": "2022-07-05T18:26:57.266Z"
   },
   {
    "duration": 26,
    "start_time": "2022-07-05T18:27:00.723Z"
   },
   {
    "duration": 51,
    "start_time": "2022-07-05T18:27:38.895Z"
   },
   {
    "duration": 5,
    "start_time": "2022-07-05T18:27:41.878Z"
   },
   {
    "duration": 6,
    "start_time": "2022-07-05T18:27:44.305Z"
   },
   {
    "duration": 472,
    "start_time": "2022-07-05T18:27:51.850Z"
   },
   {
    "duration": 12,
    "start_time": "2022-07-05T18:27:57.024Z"
   },
   {
    "duration": 6,
    "start_time": "2022-07-05T18:27:58.631Z"
   },
   {
    "duration": 62,
    "start_time": "2022-07-05T18:28:04.380Z"
   },
   {
    "duration": 17,
    "start_time": "2022-07-05T18:28:06.242Z"
   },
   {
    "duration": 92,
    "start_time": "2022-07-05T18:28:17.408Z"
   },
   {
    "duration": 16,
    "start_time": "2022-07-05T18:28:57.272Z"
   },
   {
    "duration": 20,
    "start_time": "2022-07-05T18:29:03.885Z"
   },
   {
    "duration": 5,
    "start_time": "2022-07-05T18:29:24.366Z"
   },
   {
    "duration": 18,
    "start_time": "2022-07-05T18:29:34.469Z"
   },
   {
    "duration": 17,
    "start_time": "2022-07-05T18:29:38.528Z"
   },
   {
    "duration": 89,
    "start_time": "2022-07-05T18:29:52.172Z"
   },
   {
    "duration": 58,
    "start_time": "2022-07-05T18:29:56.181Z"
   },
   {
    "duration": 79,
    "start_time": "2022-07-05T18:29:59.325Z"
   },
   {
    "duration": 89,
    "start_time": "2022-07-05T18:30:02.821Z"
   },
   {
    "duration": 71,
    "start_time": "2022-07-05T18:30:05.888Z"
   },
   {
    "duration": 86,
    "start_time": "2022-07-05T18:30:09.277Z"
   },
   {
    "duration": 72,
    "start_time": "2022-07-05T18:30:12.652Z"
   },
   {
    "duration": 81,
    "start_time": "2022-07-05T18:30:16.094Z"
   },
   {
    "duration": 84,
    "start_time": "2022-07-05T18:30:19.862Z"
   },
   {
    "duration": 87,
    "start_time": "2022-07-05T18:30:22.888Z"
   },
   {
    "duration": 98,
    "start_time": "2022-07-05T18:30:25.421Z"
   },
   {
    "duration": 101,
    "start_time": "2022-07-05T18:30:29.721Z"
   },
   {
    "duration": 140,
    "start_time": "2022-07-05T18:30:34.235Z"
   },
   {
    "duration": 167,
    "start_time": "2022-07-05T18:30:38.350Z"
   },
   {
    "duration": 201,
    "start_time": "2022-07-05T18:30:41.872Z"
   },
   {
    "duration": 231,
    "start_time": "2022-07-05T18:30:45.664Z"
   },
   {
    "duration": 274,
    "start_time": "2022-07-05T18:30:50.369Z"
   },
   {
    "duration": 316,
    "start_time": "2022-07-05T18:30:54.496Z"
   },
   {
    "duration": 366,
    "start_time": "2022-07-05T18:30:58.142Z"
   },
   {
    "duration": 281,
    "start_time": "2022-07-05T18:31:01.320Z"
   },
   {
    "duration": 243,
    "start_time": "2022-07-05T18:31:04.493Z"
   },
   {
    "duration": 313,
    "start_time": "2022-07-05T18:31:07.245Z"
   },
   {
    "duration": 449,
    "start_time": "2022-07-05T18:31:12.525Z"
   },
   {
    "duration": 492,
    "start_time": "2022-07-05T18:31:17.345Z"
   },
   {
    "duration": 546,
    "start_time": "2022-07-05T18:31:20.343Z"
   },
   {
    "duration": 579,
    "start_time": "2022-07-05T18:31:26.343Z"
   },
   {
    "duration": 620,
    "start_time": "2022-07-05T18:31:29.230Z"
   },
   {
    "duration": 699,
    "start_time": "2022-07-05T18:31:32.784Z"
   },
   {
    "duration": 58,
    "start_time": "2022-07-05T18:31:38.283Z"
   },
   {
    "duration": 4,
    "start_time": "2022-07-05T18:32:14.271Z"
   },
   {
    "duration": 31,
    "start_time": "2022-07-05T18:32:14.277Z"
   },
   {
    "duration": 3,
    "start_time": "2022-07-05T18:32:14.310Z"
   },
   {
    "duration": 11,
    "start_time": "2022-07-05T18:32:14.316Z"
   },
   {
    "duration": 13,
    "start_time": "2022-07-05T18:32:14.328Z"
   },
   {
    "duration": 10,
    "start_time": "2022-07-05T18:32:14.343Z"
   },
   {
    "duration": 6,
    "start_time": "2022-07-05T18:32:14.355Z"
   },
   {
    "duration": 5,
    "start_time": "2022-07-05T18:32:14.362Z"
   },
   {
    "duration": 16,
    "start_time": "2022-07-05T18:32:14.368Z"
   },
   {
    "duration": 17,
    "start_time": "2022-07-05T18:32:14.387Z"
   },
   {
    "duration": 42,
    "start_time": "2022-07-05T18:32:14.405Z"
   },
   {
    "duration": 7,
    "start_time": "2022-07-05T18:32:14.448Z"
   },
   {
    "duration": 13,
    "start_time": "2022-07-05T18:32:14.457Z"
   },
   {
    "duration": 5,
    "start_time": "2022-07-05T18:32:14.472Z"
   },
   {
    "duration": 10,
    "start_time": "2022-07-05T18:32:14.478Z"
   },
   {
    "duration": 7,
    "start_time": "2022-07-05T18:32:14.489Z"
   },
   {
    "duration": 7,
    "start_time": "2022-07-05T18:32:14.497Z"
   },
   {
    "duration": 7,
    "start_time": "2022-07-05T18:32:14.506Z"
   },
   {
    "duration": 5,
    "start_time": "2022-07-05T18:32:14.515Z"
   },
   {
    "duration": 24,
    "start_time": "2022-07-05T18:32:14.522Z"
   },
   {
    "duration": 203,
    "start_time": "2022-07-05T18:32:14.548Z"
   },
   {
    "duration": 37,
    "start_time": "2022-07-05T18:32:37.050Z"
   },
   {
    "duration": 5,
    "start_time": "2022-07-05T18:32:37.668Z"
   },
   {
    "duration": 6,
    "start_time": "2022-07-05T18:32:38.129Z"
   },
   {
    "duration": 4,
    "start_time": "2022-07-05T18:32:39.137Z"
   },
   {
    "duration": 273,
    "start_time": "2022-07-05T18:32:46.473Z"
   },
   {
    "duration": 9,
    "start_time": "2022-07-05T18:32:46.864Z"
   },
   {
    "duration": 7,
    "start_time": "2022-07-05T18:32:48.977Z"
   },
   {
    "duration": 1508,
    "start_time": "2022-07-05T18:34:33.231Z"
   },
   {
    "duration": 41,
    "start_time": "2022-07-05T18:34:34.741Z"
   },
   {
    "duration": 4,
    "start_time": "2022-07-05T18:34:34.784Z"
   },
   {
    "duration": 22,
    "start_time": "2022-07-05T18:34:34.789Z"
   },
   {
    "duration": 17,
    "start_time": "2022-07-05T18:34:34.813Z"
   },
   {
    "duration": 21,
    "start_time": "2022-07-05T18:34:34.831Z"
   },
   {
    "duration": 20,
    "start_time": "2022-07-05T18:34:34.854Z"
   },
   {
    "duration": 10,
    "start_time": "2022-07-05T18:34:34.875Z"
   },
   {
    "duration": 40,
    "start_time": "2022-07-05T18:34:34.887Z"
   },
   {
    "duration": 20,
    "start_time": "2022-07-05T18:34:34.930Z"
   },
   {
    "duration": 23,
    "start_time": "2022-07-05T18:34:34.952Z"
   },
   {
    "duration": 9,
    "start_time": "2022-07-05T18:34:34.977Z"
   },
   {
    "duration": 22,
    "start_time": "2022-07-05T18:34:34.988Z"
   },
   {
    "duration": 8,
    "start_time": "2022-07-05T18:34:35.013Z"
   },
   {
    "duration": 8,
    "start_time": "2022-07-05T18:34:35.046Z"
   },
   {
    "duration": 30,
    "start_time": "2022-07-05T18:34:35.056Z"
   },
   {
    "duration": 27,
    "start_time": "2022-07-05T18:34:35.088Z"
   },
   {
    "duration": 36,
    "start_time": "2022-07-05T18:34:35.117Z"
   },
   {
    "duration": 15,
    "start_time": "2022-07-05T18:34:35.154Z"
   },
   {
    "duration": 18,
    "start_time": "2022-07-05T18:34:35.171Z"
   },
   {
    "duration": 179,
    "start_time": "2022-07-05T18:34:35.191Z"
   },
   {
    "duration": 36,
    "start_time": "2022-07-05T18:34:35.372Z"
   },
   {
    "duration": 5,
    "start_time": "2022-07-05T18:34:35.410Z"
   },
   {
    "duration": 17,
    "start_time": "2022-07-05T18:34:35.417Z"
   },
   {
    "duration": 12,
    "start_time": "2022-07-05T18:34:35.446Z"
   },
   {
    "duration": 692,
    "start_time": "2022-07-05T18:34:35.459Z"
   },
   {
    "duration": 93,
    "start_time": "2022-07-05T18:34:36.154Z"
   },
   {
    "duration": 119,
    "start_time": "2022-07-05T18:34:36.249Z"
   },
   {
    "duration": 1889,
    "start_time": "2022-07-05T18:35:02.955Z"
   },
   {
    "duration": 30,
    "start_time": "2022-07-05T18:35:04.846Z"
   },
   {
    "duration": 4,
    "start_time": "2022-07-05T18:35:04.878Z"
   },
   {
    "duration": 9,
    "start_time": "2022-07-05T18:35:04.883Z"
   },
   {
    "duration": 18,
    "start_time": "2022-07-05T18:35:04.895Z"
   },
   {
    "duration": 19,
    "start_time": "2022-07-05T18:35:04.915Z"
   },
   {
    "duration": 10,
    "start_time": "2022-07-05T18:35:04.936Z"
   },
   {
    "duration": 5,
    "start_time": "2022-07-05T18:35:04.948Z"
   },
   {
    "duration": 21,
    "start_time": "2022-07-05T18:35:04.957Z"
   },
   {
    "duration": 20,
    "start_time": "2022-07-05T18:35:04.979Z"
   },
   {
    "duration": 12,
    "start_time": "2022-07-05T18:35:05.001Z"
   },
   {
    "duration": 32,
    "start_time": "2022-07-05T18:35:05.015Z"
   },
   {
    "duration": 17,
    "start_time": "2022-07-05T18:35:05.050Z"
   },
   {
    "duration": 6,
    "start_time": "2022-07-05T18:35:05.070Z"
   },
   {
    "duration": 10,
    "start_time": "2022-07-05T18:35:05.077Z"
   },
   {
    "duration": 10,
    "start_time": "2022-07-05T18:35:05.088Z"
   },
   {
    "duration": 11,
    "start_time": "2022-07-05T18:35:05.099Z"
   },
   {
    "duration": 6,
    "start_time": "2022-07-05T18:35:05.111Z"
   },
   {
    "duration": 10,
    "start_time": "2022-07-05T18:35:05.118Z"
   },
   {
    "duration": 6,
    "start_time": "2022-07-05T18:35:05.146Z"
   },
   {
    "duration": 153,
    "start_time": "2022-07-05T18:35:05.154Z"
   },
   {
    "duration": 43,
    "start_time": "2022-07-05T18:35:05.309Z"
   },
   {
    "duration": 5,
    "start_time": "2022-07-05T18:35:05.354Z"
   },
   {
    "duration": 11,
    "start_time": "2022-07-05T18:35:05.361Z"
   },
   {
    "duration": 7,
    "start_time": "2022-07-05T18:35:05.374Z"
   },
   {
    "duration": 363,
    "start_time": "2022-07-05T18:35:05.383Z"
   },
   {
    "duration": 9,
    "start_time": "2022-07-05T18:35:05.748Z"
   },
   {
    "duration": 106,
    "start_time": "2022-07-05T18:35:05.847Z"
   },
   {
    "duration": 1528,
    "start_time": "2022-07-05T18:35:28.399Z"
   },
   {
    "duration": 30,
    "start_time": "2022-07-05T18:35:29.929Z"
   },
   {
    "duration": 3,
    "start_time": "2022-07-05T18:35:29.961Z"
   },
   {
    "duration": 8,
    "start_time": "2022-07-05T18:35:29.966Z"
   },
   {
    "duration": 21,
    "start_time": "2022-07-05T18:35:29.976Z"
   },
   {
    "duration": 24,
    "start_time": "2022-07-05T18:35:29.999Z"
   },
   {
    "duration": 19,
    "start_time": "2022-07-05T18:35:30.028Z"
   },
   {
    "duration": 10,
    "start_time": "2022-07-05T18:35:30.049Z"
   },
   {
    "duration": 20,
    "start_time": "2022-07-05T18:35:30.061Z"
   },
   {
    "duration": 19,
    "start_time": "2022-07-05T18:35:30.083Z"
   },
   {
    "duration": 12,
    "start_time": "2022-07-05T18:35:30.104Z"
   },
   {
    "duration": 32,
    "start_time": "2022-07-05T18:35:30.118Z"
   },
   {
    "duration": 14,
    "start_time": "2022-07-05T18:35:30.152Z"
   },
   {
    "duration": 9,
    "start_time": "2022-07-05T18:35:30.169Z"
   },
   {
    "duration": 12,
    "start_time": "2022-07-05T18:35:30.180Z"
   },
   {
    "duration": 10,
    "start_time": "2022-07-05T18:35:30.194Z"
   },
   {
    "duration": 11,
    "start_time": "2022-07-05T18:35:30.205Z"
   },
   {
    "duration": 30,
    "start_time": "2022-07-05T18:35:30.217Z"
   },
   {
    "duration": 12,
    "start_time": "2022-07-05T18:35:30.249Z"
   },
   {
    "duration": 21,
    "start_time": "2022-07-05T18:35:30.263Z"
   },
   {
    "duration": 154,
    "start_time": "2022-07-05T18:35:30.286Z"
   },
   {
    "duration": 37,
    "start_time": "2022-07-05T18:35:30.446Z"
   },
   {
    "duration": 5,
    "start_time": "2022-07-05T18:35:30.484Z"
   },
   {
    "duration": 28,
    "start_time": "2022-07-05T18:35:30.491Z"
   },
   {
    "duration": 10,
    "start_time": "2022-07-05T18:35:30.521Z"
   },
   {
    "duration": 313,
    "start_time": "2022-07-05T18:35:30.533Z"
   },
   {
    "duration": 99,
    "start_time": "2022-07-05T18:35:30.849Z"
   },
   {
    "duration": 110,
    "start_time": "2022-07-05T18:35:30.951Z"
   },
   {
    "duration": 1415,
    "start_time": "2022-07-05T18:35:42.473Z"
   },
   {
    "duration": 33,
    "start_time": "2022-07-05T18:35:43.891Z"
   },
   {
    "duration": 5,
    "start_time": "2022-07-05T18:35:43.926Z"
   },
   {
    "duration": 12,
    "start_time": "2022-07-05T18:35:43.933Z"
   },
   {
    "duration": 29,
    "start_time": "2022-07-05T18:35:43.948Z"
   },
   {
    "duration": 15,
    "start_time": "2022-07-05T18:35:43.980Z"
   },
   {
    "duration": 10,
    "start_time": "2022-07-05T18:35:43.997Z"
   },
   {
    "duration": 6,
    "start_time": "2022-07-05T18:35:44.009Z"
   },
   {
    "duration": 39,
    "start_time": "2022-07-05T18:35:44.017Z"
   },
   {
    "duration": 30,
    "start_time": "2022-07-05T18:35:44.058Z"
   },
   {
    "duration": 14,
    "start_time": "2022-07-05T18:35:44.090Z"
   },
   {
    "duration": 6,
    "start_time": "2022-07-05T18:35:44.106Z"
   },
   {
    "duration": 40,
    "start_time": "2022-07-05T18:35:44.115Z"
   },
   {
    "duration": 6,
    "start_time": "2022-07-05T18:35:44.158Z"
   },
   {
    "duration": 6,
    "start_time": "2022-07-05T18:35:44.166Z"
   },
   {
    "duration": 8,
    "start_time": "2022-07-05T18:35:44.174Z"
   },
   {
    "duration": 8,
    "start_time": "2022-07-05T18:35:44.183Z"
   },
   {
    "duration": 5,
    "start_time": "2022-07-05T18:35:44.192Z"
   },
   {
    "duration": 6,
    "start_time": "2022-07-05T18:35:44.199Z"
   },
   {
    "duration": 10,
    "start_time": "2022-07-05T18:35:44.206Z"
   },
   {
    "duration": 160,
    "start_time": "2022-07-05T18:35:44.217Z"
   },
   {
    "duration": 38,
    "start_time": "2022-07-05T18:35:44.379Z"
   },
   {
    "duration": 6,
    "start_time": "2022-07-05T18:35:44.419Z"
   },
   {
    "duration": 21,
    "start_time": "2022-07-05T18:35:44.426Z"
   },
   {
    "duration": 5,
    "start_time": "2022-07-05T18:35:44.448Z"
   },
   {
    "duration": 301,
    "start_time": "2022-07-05T18:35:44.455Z"
   },
   {
    "duration": 99,
    "start_time": "2022-07-05T18:35:44.847Z"
   },
   {
    "duration": 104,
    "start_time": "2022-07-05T18:35:44.949Z"
   },
   {
    "duration": 1428,
    "start_time": "2022-07-05T18:36:00.583Z"
   },
   {
    "duration": 32,
    "start_time": "2022-07-05T18:36:02.012Z"
   },
   {
    "duration": 4,
    "start_time": "2022-07-05T18:36:02.046Z"
   },
   {
    "duration": 21,
    "start_time": "2022-07-05T18:36:02.052Z"
   },
   {
    "duration": 35,
    "start_time": "2022-07-05T18:36:02.076Z"
   },
   {
    "duration": 15,
    "start_time": "2022-07-05T18:36:02.113Z"
   },
   {
    "duration": 17,
    "start_time": "2022-07-05T18:36:02.129Z"
   },
   {
    "duration": 9,
    "start_time": "2022-07-05T18:36:02.148Z"
   },
   {
    "duration": 24,
    "start_time": "2022-07-05T18:36:02.158Z"
   },
   {
    "duration": 29,
    "start_time": "2022-07-05T18:36:02.184Z"
   },
   {
    "duration": 13,
    "start_time": "2022-07-05T18:36:02.214Z"
   },
   {
    "duration": 20,
    "start_time": "2022-07-05T18:36:02.228Z"
   },
   {
    "duration": 40,
    "start_time": "2022-07-05T18:36:02.249Z"
   },
   {
    "duration": 18,
    "start_time": "2022-07-05T18:36:02.292Z"
   },
   {
    "duration": 38,
    "start_time": "2022-07-05T18:36:02.312Z"
   },
   {
    "duration": 31,
    "start_time": "2022-07-05T18:36:02.352Z"
   },
   {
    "duration": 29,
    "start_time": "2022-07-05T18:36:02.385Z"
   },
   {
    "duration": 55,
    "start_time": "2022-07-05T18:36:02.416Z"
   },
   {
    "duration": 47,
    "start_time": "2022-07-05T18:36:02.473Z"
   },
   {
    "duration": 30,
    "start_time": "2022-07-05T18:36:02.522Z"
   },
   {
    "duration": 174,
    "start_time": "2022-07-05T18:36:02.554Z"
   },
   {
    "duration": 45,
    "start_time": "2022-07-05T18:36:02.730Z"
   },
   {
    "duration": 4,
    "start_time": "2022-07-05T18:36:02.777Z"
   },
   {
    "duration": 18,
    "start_time": "2022-07-05T18:36:02.783Z"
   },
   {
    "duration": 20,
    "start_time": "2022-07-05T18:36:02.802Z"
   },
   {
    "duration": 132,
    "start_time": "2022-07-05T18:36:02.824Z"
   },
   {
    "duration": 93,
    "start_time": "2022-07-05T18:36:02.958Z"
   },
   {
    "duration": 193,
    "start_time": "2022-07-05T18:36:03.053Z"
   },
   {
    "duration": 3763,
    "start_time": "2022-07-05T18:36:03.248Z"
   },
   {
    "duration": 22,
    "start_time": "2022-07-05T18:36:07.013Z"
   },
   {
    "duration": 12,
    "start_time": "2022-07-05T18:36:07.037Z"
   },
   {
    "duration": 58,
    "start_time": "2022-07-05T18:36:07.050Z"
   },
   {
    "duration": 41,
    "start_time": "2022-07-05T18:36:07.110Z"
   },
   {
    "duration": 57,
    "start_time": "2022-07-05T18:36:07.152Z"
   },
   {
    "duration": 35,
    "start_time": "2022-07-05T18:36:07.211Z"
   },
   {
    "duration": 47,
    "start_time": "2022-07-05T18:36:07.247Z"
   },
   {
    "duration": 12,
    "start_time": "2022-07-05T18:36:07.296Z"
   },
   {
    "duration": 45,
    "start_time": "2022-07-05T18:36:07.310Z"
   },
   {
    "duration": 4,
    "start_time": "2022-07-05T18:36:24.377Z"
   },
   {
    "duration": 131,
    "start_time": "2022-07-05T18:36:33.515Z"
   },
   {
    "duration": 14,
    "start_time": "2022-07-05T18:36:40.760Z"
   },
   {
    "duration": 121,
    "start_time": "2022-07-05T18:36:56.377Z"
   },
   {
    "duration": 14,
    "start_time": "2022-07-05T18:37:04.774Z"
   },
   {
    "duration": 163,
    "start_time": "2022-07-05T18:37:19.917Z"
   },
   {
    "duration": 13,
    "start_time": "2022-07-05T18:37:28.551Z"
   },
   {
    "duration": 17,
    "start_time": "2022-07-05T18:37:43.693Z"
   },
   {
    "duration": 10,
    "start_time": "2022-07-05T18:38:05.029Z"
   },
   {
    "duration": 138,
    "start_time": "2022-07-05T18:38:08.520Z"
   },
   {
    "duration": 1355,
    "start_time": "2022-07-05T18:38:21.203Z"
   },
   {
    "duration": 30,
    "start_time": "2022-07-05T18:38:22.560Z"
   },
   {
    "duration": 3,
    "start_time": "2022-07-05T18:38:22.592Z"
   },
   {
    "duration": 6,
    "start_time": "2022-07-05T18:38:22.597Z"
   },
   {
    "duration": 13,
    "start_time": "2022-07-05T18:38:22.605Z"
   },
   {
    "duration": 11,
    "start_time": "2022-07-05T18:38:22.620Z"
   },
   {
    "duration": 20,
    "start_time": "2022-07-05T18:38:22.632Z"
   },
   {
    "duration": 7,
    "start_time": "2022-07-05T18:38:22.653Z"
   },
   {
    "duration": 16,
    "start_time": "2022-07-05T18:38:22.661Z"
   },
   {
    "duration": 18,
    "start_time": "2022-07-05T18:38:22.679Z"
   },
   {
    "duration": 12,
    "start_time": "2022-07-05T18:38:22.699Z"
   },
   {
    "duration": 37,
    "start_time": "2022-07-05T18:38:22.713Z"
   },
   {
    "duration": 10,
    "start_time": "2022-07-05T18:38:22.752Z"
   },
   {
    "duration": 5,
    "start_time": "2022-07-05T18:38:22.765Z"
   },
   {
    "duration": 8,
    "start_time": "2022-07-05T18:38:22.772Z"
   },
   {
    "duration": 11,
    "start_time": "2022-07-05T18:38:22.782Z"
   },
   {
    "duration": 5,
    "start_time": "2022-07-05T18:38:22.795Z"
   },
   {
    "duration": 4,
    "start_time": "2022-07-05T18:38:22.801Z"
   },
   {
    "duration": 5,
    "start_time": "2022-07-05T18:38:22.806Z"
   },
   {
    "duration": 6,
    "start_time": "2022-07-05T18:38:22.813Z"
   },
   {
    "duration": 142,
    "start_time": "2022-07-05T18:38:22.821Z"
   },
   {
    "duration": 34,
    "start_time": "2022-07-05T18:38:22.965Z"
   },
   {
    "duration": 4,
    "start_time": "2022-07-05T18:38:23.001Z"
   },
   {
    "duration": 9,
    "start_time": "2022-07-05T18:38:23.007Z"
   },
   {
    "duration": 6,
    "start_time": "2022-07-05T18:38:23.018Z"
   },
   {
    "duration": 328,
    "start_time": "2022-07-05T18:38:23.026Z"
   },
   {
    "duration": 8,
    "start_time": "2022-07-05T18:38:23.446Z"
   },
   {
    "duration": 189,
    "start_time": "2022-07-05T18:38:23.457Z"
   },
   {
    "duration": 3823,
    "start_time": "2022-07-05T18:38:23.648Z"
   },
   {
    "duration": 23,
    "start_time": "2022-07-05T18:38:27.472Z"
   },
   {
    "duration": 6,
    "start_time": "2022-07-05T18:38:27.497Z"
   },
   {
    "duration": 8,
    "start_time": "2022-07-05T18:38:27.505Z"
   },
   {
    "duration": 146,
    "start_time": "2022-07-05T18:38:27.515Z"
   },
   {
    "duration": 32,
    "start_time": "2022-07-05T18:38:27.663Z"
   },
   {
    "duration": 10,
    "start_time": "2022-07-05T18:38:27.697Z"
   },
   {
    "duration": 170,
    "start_time": "2022-07-05T18:38:27.709Z"
   },
   {
    "duration": 17,
    "start_time": "2022-07-05T18:38:27.881Z"
   },
   {
    "duration": 62,
    "start_time": "2022-07-05T18:38:27.899Z"
   },
   {
    "duration": 11,
    "start_time": "2022-07-05T18:38:27.963Z"
   },
   {
    "duration": 17,
    "start_time": "2022-07-05T18:38:27.975Z"
   },
   {
    "duration": 1492,
    "start_time": "2022-07-06T13:39:11.700Z"
   },
   {
    "duration": 162,
    "start_time": "2022-07-06T13:39:13.194Z"
   },
   {
    "duration": 4,
    "start_time": "2022-07-06T13:39:13.357Z"
   },
   {
    "duration": 6,
    "start_time": "2022-07-06T13:39:13.362Z"
   },
   {
    "duration": 12,
    "start_time": "2022-07-06T13:39:13.370Z"
   },
   {
    "duration": 9,
    "start_time": "2022-07-06T13:39:13.384Z"
   },
   {
    "duration": 6,
    "start_time": "2022-07-06T13:39:13.395Z"
   },
   {
    "duration": 4,
    "start_time": "2022-07-06T13:39:13.403Z"
   },
   {
    "duration": 16,
    "start_time": "2022-07-06T13:39:13.408Z"
   },
   {
    "duration": 42,
    "start_time": "2022-07-06T13:39:13.427Z"
   },
   {
    "duration": 12,
    "start_time": "2022-07-06T13:39:13.470Z"
   },
   {
    "duration": 6,
    "start_time": "2022-07-06T13:39:13.483Z"
   },
   {
    "duration": 11,
    "start_time": "2022-07-06T13:39:13.490Z"
   },
   {
    "duration": 5,
    "start_time": "2022-07-06T13:39:13.504Z"
   },
   {
    "duration": 5,
    "start_time": "2022-07-06T13:39:13.511Z"
   },
   {
    "duration": 38,
    "start_time": "2022-07-06T13:39:13.517Z"
   },
   {
    "duration": 5,
    "start_time": "2022-07-06T13:39:13.557Z"
   },
   {
    "duration": 4,
    "start_time": "2022-07-06T13:39:13.564Z"
   },
   {
    "duration": 3,
    "start_time": "2022-07-06T13:39:13.570Z"
   },
   {
    "duration": 6,
    "start_time": "2022-07-06T13:39:13.575Z"
   },
   {
    "duration": 144,
    "start_time": "2022-07-06T13:39:13.583Z"
   },
   {
    "duration": 52,
    "start_time": "2022-07-06T13:39:13.729Z"
   },
   {
    "duration": 5,
    "start_time": "2022-07-06T13:39:13.783Z"
   },
   {
    "duration": 8,
    "start_time": "2022-07-06T13:39:13.789Z"
   },
   {
    "duration": 6,
    "start_time": "2022-07-06T13:39:13.799Z"
   },
   {
    "duration": 1149,
    "start_time": "2022-07-06T13:39:13.807Z"
   },
   {
    "duration": 94,
    "start_time": "2022-07-06T13:39:14.958Z"
   },
   {
    "duration": 106,
    "start_time": "2022-07-06T13:39:15.054Z"
   },
   {
    "duration": 3932,
    "start_time": "2022-07-06T13:39:15.162Z"
   },
   {
    "duration": 23,
    "start_time": "2022-07-06T13:39:19.096Z"
   },
   {
    "duration": 6,
    "start_time": "2022-07-06T13:39:19.121Z"
   },
   {
    "duration": 24,
    "start_time": "2022-07-06T13:39:19.129Z"
   },
   {
    "duration": 143,
    "start_time": "2022-07-06T13:39:19.154Z"
   },
   {
    "duration": 32,
    "start_time": "2022-07-06T13:39:19.298Z"
   },
   {
    "duration": 26,
    "start_time": "2022-07-06T13:39:19.331Z"
   },
   {
    "duration": 166,
    "start_time": "2022-07-06T13:39:19.359Z"
   },
   {
    "duration": 15,
    "start_time": "2022-07-06T13:39:19.527Z"
   },
   {
    "duration": 53,
    "start_time": "2022-07-06T13:39:19.543Z"
   },
   {
    "duration": 10,
    "start_time": "2022-07-06T13:39:19.597Z"
   },
   {
    "duration": 19,
    "start_time": "2022-07-06T13:40:13.997Z"
   },
   {
    "duration": 19,
    "start_time": "2022-07-06T13:40:14.976Z"
   },
   {
    "duration": 17,
    "start_time": "2022-07-06T13:40:19.567Z"
   },
   {
    "duration": 109,
    "start_time": "2022-07-06T13:40:41.939Z"
   },
   {
    "duration": 12,
    "start_time": "2022-07-06T13:40:45.708Z"
   },
   {
    "duration": 17,
    "start_time": "2022-07-06T13:41:06.365Z"
   },
   {
    "duration": 21,
    "start_time": "2022-07-06T13:41:10.153Z"
   },
   {
    "duration": 17,
    "start_time": "2022-07-06T13:41:17.919Z"
   },
   {
    "duration": 18,
    "start_time": "2022-07-06T13:41:21.263Z"
   },
   {
    "duration": 17,
    "start_time": "2022-07-06T13:41:24.863Z"
   },
   {
    "duration": 19,
    "start_time": "2022-07-06T13:41:28.478Z"
   },
   {
    "duration": 19,
    "start_time": "2022-07-06T13:41:32.792Z"
   },
   {
    "duration": 19,
    "start_time": "2022-07-06T13:41:35.850Z"
   },
   {
    "duration": 21,
    "start_time": "2022-07-06T13:41:39.962Z"
   },
   {
    "duration": 20,
    "start_time": "2022-07-06T13:41:43.167Z"
   },
   {
    "duration": 20,
    "start_time": "2022-07-06T13:41:48.192Z"
   },
   {
    "duration": 178,
    "start_time": "2022-07-06T13:42:58.766Z"
   },
   {
    "duration": 183,
    "start_time": "2022-07-06T13:43:18.491Z"
   },
   {
    "duration": 173,
    "start_time": "2022-07-06T13:43:21.652Z"
   },
   {
    "duration": 183,
    "start_time": "2022-07-06T13:43:24.651Z"
   },
   {
    "duration": 628,
    "start_time": "2022-07-06T13:43:28.202Z"
   },
   {
    "duration": 180,
    "start_time": "2022-07-06T13:43:33.186Z"
   },
   {
    "duration": 1686,
    "start_time": "2022-07-06T13:43:37.063Z"
   },
   {
    "duration": 1697,
    "start_time": "2022-07-06T13:43:47.347Z"
   },
   {
    "duration": 1868,
    "start_time": "2022-07-06T13:43:52.710Z"
   },
   {
    "duration": 1830,
    "start_time": "2022-07-06T13:43:57.586Z"
   },
   {
    "duration": 1876,
    "start_time": "2022-07-06T13:44:03.387Z"
   },
   {
    "duration": 1857,
    "start_time": "2022-07-06T13:44:09.178Z"
   },
   {
    "duration": 365996,
    "start_time": "2022-07-06T13:44:38.884Z"
   },
   {
    "duration": 83,
    "start_time": "2022-07-06T13:50:56.796Z"
   },
   {
    "duration": 5,
    "start_time": "2022-07-06T13:50:58.535Z"
   },
   {
    "duration": 4,
    "start_time": "2022-07-06T13:51:00.727Z"
   },
   {
    "duration": 810,
    "start_time": "2022-07-06T13:51:08.991Z"
   },
   {
    "duration": 2057,
    "start_time": "2022-07-06T13:51:15.724Z"
   },
   {
    "duration": 5,
    "start_time": "2022-07-06T14:02:23.297Z"
   },
   {
    "duration": 43,
    "start_time": "2022-07-06T14:02:23.303Z"
   },
   {
    "duration": 3,
    "start_time": "2022-07-06T14:02:23.348Z"
   },
   {
    "duration": 13,
    "start_time": "2022-07-06T14:02:23.358Z"
   },
   {
    "duration": 11,
    "start_time": "2022-07-06T14:02:23.373Z"
   },
   {
    "duration": 7,
    "start_time": "2022-07-06T14:02:23.386Z"
   },
   {
    "duration": 8,
    "start_time": "2022-07-06T14:02:23.395Z"
   },
   {
    "duration": 4,
    "start_time": "2022-07-06T14:02:23.404Z"
   },
   {
    "duration": 22,
    "start_time": "2022-07-06T14:02:25.249Z"
   },
   {
    "duration": 18,
    "start_time": "2022-07-06T14:02:39.467Z"
   },
   {
    "duration": 20,
    "start_time": "2022-07-06T14:03:25.014Z"
   },
   {
    "duration": 29,
    "start_time": "2022-07-06T14:03:56.045Z"
   },
   {
    "duration": 4,
    "start_time": "2022-07-06T14:05:03.367Z"
   },
   {
    "duration": 19,
    "start_time": "2022-07-06T14:05:05.490Z"
   },
   {
    "duration": 3,
    "start_time": "2022-07-06T14:05:10.203Z"
   },
   {
    "duration": 21,
    "start_time": "2022-07-06T14:05:15.062Z"
   },
   {
    "duration": 16,
    "start_time": "2022-07-06T14:05:46.639Z"
   },
   {
    "duration": 24,
    "start_time": "2022-07-06T14:05:52.689Z"
   },
   {
    "duration": 24,
    "start_time": "2022-07-06T14:06:02.268Z"
   },
   {
    "duration": 38,
    "start_time": "2022-07-06T14:06:05.437Z"
   },
   {
    "duration": 12,
    "start_time": "2022-07-06T14:06:27.401Z"
   },
   {
    "duration": 9,
    "start_time": "2022-07-06T14:06:53.784Z"
   },
   {
    "duration": 11,
    "start_time": "2022-07-06T14:06:57.967Z"
   },
   {
    "duration": 10,
    "start_time": "2022-07-06T14:07:04.619Z"
   },
   {
    "duration": 9,
    "start_time": "2022-07-06T14:07:12.391Z"
   },
   {
    "duration": 12,
    "start_time": "2022-07-06T14:07:13.810Z"
   },
   {
    "duration": 5,
    "start_time": "2022-07-06T14:07:25.337Z"
   },
   {
    "duration": 4,
    "start_time": "2022-07-06T14:07:27.118Z"
   },
   {
    "duration": 6,
    "start_time": "2022-07-06T14:07:28.459Z"
   },
   {
    "duration": 6,
    "start_time": "2022-07-06T14:07:29.604Z"
   },
   {
    "duration": 3,
    "start_time": "2022-07-06T14:07:33.227Z"
   },
   {
    "duration": 188,
    "start_time": "2022-07-06T14:07:34.436Z"
   },
   {
    "duration": 14,
    "start_time": "2022-07-06T14:08:28.726Z"
   },
   {
    "duration": 18,
    "start_time": "2022-07-06T14:08:30.424Z"
   },
   {
    "duration": 12,
    "start_time": "2022-07-06T14:08:36.693Z"
   },
   {
    "duration": 8,
    "start_time": "2022-07-06T14:08:40.137Z"
   },
   {
    "duration": 12,
    "start_time": "2022-07-06T14:08:43.182Z"
   },
   {
    "duration": 13,
    "start_time": "2022-07-06T14:08:47.653Z"
   },
   {
    "duration": 4,
    "start_time": "2022-07-06T14:08:49.683Z"
   },
   {
    "duration": 5,
    "start_time": "2022-07-06T14:08:51.146Z"
   },
   {
    "duration": 6,
    "start_time": "2022-07-06T14:08:52.667Z"
   },
   {
    "duration": 4,
    "start_time": "2022-07-06T14:13:36.568Z"
   },
   {
    "duration": 44,
    "start_time": "2022-07-06T14:13:36.574Z"
   },
   {
    "duration": 4,
    "start_time": "2022-07-06T14:13:36.619Z"
   },
   {
    "duration": 12,
    "start_time": "2022-07-06T14:13:36.624Z"
   },
   {
    "duration": 26,
    "start_time": "2022-07-06T14:13:36.637Z"
   },
   {
    "duration": 11,
    "start_time": "2022-07-06T14:13:36.665Z"
   },
   {
    "duration": 7,
    "start_time": "2022-07-06T14:13:36.677Z"
   },
   {
    "duration": 4,
    "start_time": "2022-07-06T14:13:36.685Z"
   },
   {
    "duration": 13,
    "start_time": "2022-07-06T14:13:36.690Z"
   },
   {
    "duration": 16,
    "start_time": "2022-07-06T14:13:36.705Z"
   },
   {
    "duration": 10,
    "start_time": "2022-07-06T14:13:36.722Z"
   },
   {
    "duration": 8,
    "start_time": "2022-07-06T14:13:36.752Z"
   },
   {
    "duration": 12,
    "start_time": "2022-07-06T14:13:40.659Z"
   },
   {
    "duration": 17,
    "start_time": "2022-07-06T14:13:50.997Z"
   },
   {
    "duration": 12,
    "start_time": "2022-07-06T14:14:26.200Z"
   },
   {
    "duration": 4,
    "start_time": "2022-07-06T14:14:48.363Z"
   },
   {
    "duration": 44,
    "start_time": "2022-07-06T14:14:48.370Z"
   },
   {
    "duration": 4,
    "start_time": "2022-07-06T14:14:48.415Z"
   },
   {
    "duration": 6,
    "start_time": "2022-07-06T14:14:48.421Z"
   },
   {
    "duration": 11,
    "start_time": "2022-07-06T14:14:48.430Z"
   },
   {
    "duration": 7,
    "start_time": "2022-07-06T14:14:48.442Z"
   },
   {
    "duration": 16,
    "start_time": "2022-07-06T14:14:48.450Z"
   },
   {
    "duration": 10,
    "start_time": "2022-07-06T14:14:48.468Z"
   },
   {
    "duration": 16,
    "start_time": "2022-07-06T14:14:48.480Z"
   },
   {
    "duration": 16,
    "start_time": "2022-07-06T14:14:48.498Z"
   },
   {
    "duration": 13,
    "start_time": "2022-07-06T14:14:48.516Z"
   },
   {
    "duration": 6,
    "start_time": "2022-07-06T14:14:48.531Z"
   },
   {
    "duration": 26,
    "start_time": "2022-07-06T14:14:48.539Z"
   },
   {
    "duration": 5,
    "start_time": "2022-07-06T14:14:48.568Z"
   },
   {
    "duration": 6,
    "start_time": "2022-07-06T14:14:48.574Z"
   },
   {
    "duration": 7,
    "start_time": "2022-07-06T14:14:48.582Z"
   },
   {
    "duration": 6,
    "start_time": "2022-07-06T14:14:48.591Z"
   },
   {
    "duration": 18,
    "start_time": "2022-07-06T14:14:51.195Z"
   },
   {
    "duration": 5,
    "start_time": "2022-07-06T14:14:55.202Z"
   },
   {
    "duration": 138,
    "start_time": "2022-07-06T14:14:56.899Z"
   },
   {
    "duration": 5,
    "start_time": "2022-07-06T15:11:31.564Z"
   },
   {
    "duration": 108,
    "start_time": "2022-07-06T15:11:37.466Z"
   },
   {
    "duration": 37,
    "start_time": "2022-07-06T15:11:39.746Z"
   },
   {
    "duration": 5,
    "start_time": "2022-07-06T15:11:41.184Z"
   },
   {
    "duration": 5,
    "start_time": "2022-07-06T15:11:41.612Z"
   },
   {
    "duration": 3,
    "start_time": "2022-07-06T15:11:43.177Z"
   },
   {
    "duration": 99,
    "start_time": "2022-07-06T15:11:43.960Z"
   },
   {
    "duration": 5,
    "start_time": "2022-07-06T15:11:44.472Z"
   },
   {
    "duration": 6,
    "start_time": "2022-07-06T15:11:44.871Z"
   },
   {
    "duration": 57187,
    "start_time": "2022-07-06T15:11:46.779Z"
   },
   {
    "duration": 87,
    "start_time": "2022-07-06T15:12:43.968Z"
   },
   {
    "duration": 4,
    "start_time": "2022-07-06T15:12:44.057Z"
   },
   {
    "duration": 5,
    "start_time": "2022-07-06T15:12:44.063Z"
   },
   {
    "duration": 12,
    "start_time": "2022-07-06T15:14:06.404Z"
   },
   {
    "duration": 557,
    "start_time": "2022-07-06T15:14:08.482Z"
   },
   {
    "duration": 1316,
    "start_time": "2022-07-06T15:14:18.669Z"
   },
   {
    "duration": 532,
    "start_time": "2022-07-06T15:14:24.674Z"
   },
   {
    "duration": 628,
    "start_time": "2022-07-06T15:15:01.487Z"
   },
   {
    "duration": 10,
    "start_time": "2022-07-06T15:15:06.367Z"
   },
   {
    "duration": 691,
    "start_time": "2022-07-06T15:15:08.520Z"
   },
   {
    "duration": 14,
    "start_time": "2022-07-06T15:15:11.234Z"
   },
   {
    "duration": 54,
    "start_time": "2022-07-06T15:15:27.776Z"
   },
   {
    "duration": 10,
    "start_time": "2022-07-06T15:15:30.657Z"
   },
   {
    "duration": 18,
    "start_time": "2022-07-06T15:15:37.785Z"
   },
   {
    "duration": 1644,
    "start_time": "2022-07-06T15:15:40.540Z"
   },
   {
    "duration": 13,
    "start_time": "2022-07-06T15:16:13.568Z"
   },
   {
    "duration": 17,
    "start_time": "2022-07-06T15:16:15.602Z"
   },
   {
    "duration": 1689,
    "start_time": "2022-07-06T15:16:20.783Z"
   },
   {
    "duration": 13,
    "start_time": "2022-07-06T15:16:33.098Z"
   },
   {
    "duration": 20,
    "start_time": "2022-07-06T15:16:36.100Z"
   },
   {
    "duration": 1756,
    "start_time": "2022-07-06T15:16:38.554Z"
   },
   {
    "duration": 714,
    "start_time": "2022-07-06T15:16:57.717Z"
   },
   {
    "duration": 51,
    "start_time": "2022-07-06T15:17:04.187Z"
   },
   {
    "duration": 72,
    "start_time": "2022-07-06T15:17:08.944Z"
   },
   {
    "duration": 49,
    "start_time": "2022-07-06T15:17:13.431Z"
   },
   {
    "duration": 73,
    "start_time": "2022-07-06T15:17:19.199Z"
   },
   {
    "duration": 17,
    "start_time": "2022-07-06T15:18:38.148Z"
   },
   {
    "duration": 5,
    "start_time": "2022-07-06T15:18:42.195Z"
   },
   {
    "duration": 19,
    "start_time": "2022-07-06T15:18:47.006Z"
   },
   {
    "duration": 90,
    "start_time": "2022-07-06T15:19:20.863Z"
   },
   {
    "duration": 5,
    "start_time": "2022-07-06T15:19:23.640Z"
   },
   {
    "duration": 6,
    "start_time": "2022-07-06T15:19:25.332Z"
   },
   {
    "duration": 297,
    "start_time": "2022-07-06T15:19:59.301Z"
   },
   {
    "duration": 29,
    "start_time": "2022-07-06T15:20:16.026Z"
   },
   {
    "duration": 296,
    "start_time": "2022-07-06T15:20:21.401Z"
   },
   {
    "duration": 9,
    "start_time": "2022-07-06T15:20:37.983Z"
   },
   {
    "duration": 660,
    "start_time": "2022-07-06T15:20:40.360Z"
   },
   {
    "duration": 14,
    "start_time": "2022-07-06T15:20:43.319Z"
   },
   {
    "duration": 351,
    "start_time": "2022-07-06T15:20:49.352Z"
   },
   {
    "duration": 22,
    "start_time": "2022-07-06T15:20:54.146Z"
   },
   {
    "duration": 46,
    "start_time": "2022-07-06T15:21:00.305Z"
   },
   {
    "duration": 248,
    "start_time": "2022-07-06T15:21:06.048Z"
   },
   {
    "duration": 12,
    "start_time": "2022-07-06T15:21:11.236Z"
   },
   {
    "duration": 21,
    "start_time": "2022-07-06T15:21:19.228Z"
   },
   {
    "duration": 70,
    "start_time": "2022-07-06T15:21:26.667Z"
   },
   {
    "duration": 19,
    "start_time": "2022-07-06T15:21:30.229Z"
   },
   {
    "duration": 73,
    "start_time": "2022-07-06T15:21:34.076Z"
   },
   {
    "duration": 44,
    "start_time": "2022-07-06T15:21:46.236Z"
   },
   {
    "duration": 49,
    "start_time": "2022-07-06T15:21:56.128Z"
   },
   {
    "duration": 117,
    "start_time": "2022-07-06T15:21:57.945Z"
   },
   {
    "duration": 1284,
    "start_time": "2022-07-06T15:40:00.502Z"
   },
   {
    "duration": 38,
    "start_time": "2022-07-06T15:40:01.788Z"
   },
   {
    "duration": 4,
    "start_time": "2022-07-06T15:40:01.827Z"
   },
   {
    "duration": 18,
    "start_time": "2022-07-06T15:40:01.832Z"
   },
   {
    "duration": 26,
    "start_time": "2022-07-06T15:40:01.852Z"
   },
   {
    "duration": 18,
    "start_time": "2022-07-06T15:40:01.879Z"
   },
   {
    "duration": 16,
    "start_time": "2022-07-06T15:40:01.898Z"
   },
   {
    "duration": 8,
    "start_time": "2022-07-06T15:40:01.915Z"
   },
   {
    "duration": 14,
    "start_time": "2022-07-06T15:40:01.924Z"
   },
   {
    "duration": 48,
    "start_time": "2022-07-06T15:40:01.940Z"
   },
   {
    "duration": 24,
    "start_time": "2022-07-06T15:40:01.990Z"
   },
   {
    "duration": 24,
    "start_time": "2022-07-06T15:40:02.015Z"
   },
   {
    "duration": 16,
    "start_time": "2022-07-06T15:40:02.040Z"
   },
   {
    "duration": 16,
    "start_time": "2022-07-06T15:40:02.059Z"
   },
   {
    "duration": 39,
    "start_time": "2022-07-06T15:40:02.076Z"
   },
   {
    "duration": 27,
    "start_time": "2022-07-06T15:40:02.116Z"
   },
   {
    "duration": 12,
    "start_time": "2022-07-06T15:40:02.144Z"
   },
   {
    "duration": 18,
    "start_time": "2022-07-06T15:40:02.157Z"
   },
   {
    "duration": 2,
    "start_time": "2022-07-06T15:40:02.176Z"
   },
   {
    "duration": 24,
    "start_time": "2022-07-06T15:40:02.180Z"
   },
   {
    "duration": 111,
    "start_time": "2022-07-06T15:40:02.206Z"
   },
   {
    "duration": 0,
    "start_time": "2022-07-06T15:40:02.318Z"
   },
   {
    "duration": 0,
    "start_time": "2022-07-06T15:40:02.320Z"
   },
   {
    "duration": 0,
    "start_time": "2022-07-06T15:40:02.321Z"
   },
   {
    "duration": 0,
    "start_time": "2022-07-06T15:40:02.322Z"
   },
   {
    "duration": 0,
    "start_time": "2022-07-06T15:40:02.323Z"
   },
   {
    "duration": 0,
    "start_time": "2022-07-06T15:40:02.324Z"
   },
   {
    "duration": 0,
    "start_time": "2022-07-06T15:40:02.325Z"
   },
   {
    "duration": 0,
    "start_time": "2022-07-06T15:40:02.326Z"
   },
   {
    "duration": 0,
    "start_time": "2022-07-06T15:40:02.327Z"
   },
   {
    "duration": 0,
    "start_time": "2022-07-06T15:40:02.328Z"
   },
   {
    "duration": 0,
    "start_time": "2022-07-06T15:40:02.329Z"
   },
   {
    "duration": 0,
    "start_time": "2022-07-06T15:40:02.330Z"
   },
   {
    "duration": 0,
    "start_time": "2022-07-06T15:40:02.331Z"
   },
   {
    "duration": 0,
    "start_time": "2022-07-06T15:40:02.331Z"
   },
   {
    "duration": 0,
    "start_time": "2022-07-06T15:40:02.333Z"
   },
   {
    "duration": 0,
    "start_time": "2022-07-06T15:40:02.352Z"
   },
   {
    "duration": 0,
    "start_time": "2022-07-06T15:40:02.353Z"
   },
   {
    "duration": 0,
    "start_time": "2022-07-06T15:40:02.354Z"
   },
   {
    "duration": 0,
    "start_time": "2022-07-06T15:40:02.355Z"
   },
   {
    "duration": 0,
    "start_time": "2022-07-06T15:40:02.356Z"
   },
   {
    "duration": 0,
    "start_time": "2022-07-06T15:40:02.357Z"
   },
   {
    "duration": 0,
    "start_time": "2022-07-06T15:40:02.358Z"
   },
   {
    "duration": 4,
    "start_time": "2022-07-06T15:40:11.557Z"
   },
   {
    "duration": 126,
    "start_time": "2022-07-06T15:40:13.943Z"
   },
   {
    "duration": 17,
    "start_time": "2022-07-06T15:40:17.166Z"
   },
   {
    "duration": 111,
    "start_time": "2022-07-06T15:40:19.041Z"
   },
   {
    "duration": 98,
    "start_time": "2022-07-06T15:40:20.861Z"
   },
   {
    "duration": 12,
    "start_time": "2022-07-06T15:40:21.346Z"
   },
   {
    "duration": 5,
    "start_time": "2022-07-06T15:40:21.865Z"
   },
   {
    "duration": 284,
    "start_time": "2022-07-06T15:40:30.819Z"
   },
   {
    "duration": 19,
    "start_time": "2022-07-06T15:40:34.193Z"
   },
   {
    "duration": 293,
    "start_time": "2022-07-06T15:40:34.953Z"
   },
   {
    "duration": 10,
    "start_time": "2022-07-06T15:40:37.178Z"
   },
   {
    "duration": 367,
    "start_time": "2022-07-06T15:40:38.657Z"
   },
   {
    "duration": 20,
    "start_time": "2022-07-06T15:40:39.749Z"
   },
   {
    "duration": 187,
    "start_time": "2022-07-06T15:41:02.465Z"
   },
   {
    "duration": 13,
    "start_time": "2022-07-06T15:41:04.105Z"
   },
   {
    "duration": 38,
    "start_time": "2022-07-06T15:41:08.812Z"
   },
   {
    "duration": 116,
    "start_time": "2022-07-06T15:41:10.633Z"
   },
   {
    "duration": 17,
    "start_time": "2022-07-06T15:42:09.019Z"
   },
   {
    "duration": 8,
    "start_time": "2022-07-06T15:42:10.362Z"
   },
   {
    "duration": 4,
    "start_time": "2022-07-06T15:42:30.747Z"
   },
   {
    "duration": 55,
    "start_time": "2022-07-06T15:42:30.754Z"
   },
   {
    "duration": 4,
    "start_time": "2022-07-06T15:42:30.811Z"
   },
   {
    "duration": 20,
    "start_time": "2022-07-06T15:42:30.816Z"
   },
   {
    "duration": 41,
    "start_time": "2022-07-06T15:42:30.839Z"
   },
   {
    "duration": 22,
    "start_time": "2022-07-06T15:42:30.881Z"
   },
   {
    "duration": 27,
    "start_time": "2022-07-06T15:42:30.904Z"
   },
   {
    "duration": 26,
    "start_time": "2022-07-06T15:42:30.933Z"
   },
   {
    "duration": 31,
    "start_time": "2022-07-06T15:42:30.960Z"
   },
   {
    "duration": 42,
    "start_time": "2022-07-06T15:42:30.993Z"
   },
   {
    "duration": 30,
    "start_time": "2022-07-06T15:42:31.037Z"
   },
   {
    "duration": 41,
    "start_time": "2022-07-06T15:42:31.069Z"
   },
   {
    "duration": 31,
    "start_time": "2022-07-06T15:42:31.112Z"
   },
   {
    "duration": 31,
    "start_time": "2022-07-06T15:42:31.146Z"
   },
   {
    "duration": 26,
    "start_time": "2022-07-06T15:42:31.178Z"
   },
   {
    "duration": 19,
    "start_time": "2022-07-06T15:42:31.206Z"
   },
   {
    "duration": 29,
    "start_time": "2022-07-06T15:42:31.227Z"
   },
   {
    "duration": 37,
    "start_time": "2022-07-06T15:42:31.258Z"
   },
   {
    "duration": 11,
    "start_time": "2022-07-06T15:42:31.297Z"
   },
   {
    "duration": 31,
    "start_time": "2022-07-06T15:42:31.310Z"
   },
   {
    "duration": 8,
    "start_time": "2022-07-06T15:42:31.343Z"
   },
   {
    "duration": 121,
    "start_time": "2022-07-06T15:42:31.353Z"
   },
   {
    "duration": 2,
    "start_time": "2022-07-06T15:42:31.476Z"
   },
   {
    "duration": 10,
    "start_time": "2022-07-06T15:42:31.480Z"
   },
   {
    "duration": 14,
    "start_time": "2022-07-06T15:42:31.491Z"
   },
   {
    "duration": 22,
    "start_time": "2022-07-06T15:42:31.507Z"
   },
   {
    "duration": 8,
    "start_time": "2022-07-06T15:42:33.579Z"
   },
   {
    "duration": 9,
    "start_time": "2022-07-06T15:42:38.719Z"
   },
   {
    "duration": 9,
    "start_time": "2022-07-06T15:42:45.041Z"
   },
   {
    "duration": 14,
    "start_time": "2022-07-06T15:43:59.971Z"
   },
   {
    "duration": 4,
    "start_time": "2022-07-06T15:44:24.522Z"
   },
   {
    "duration": 39,
    "start_time": "2022-07-06T15:44:24.528Z"
   },
   {
    "duration": 4,
    "start_time": "2022-07-06T15:44:24.570Z"
   },
   {
    "duration": 10,
    "start_time": "2022-07-06T15:44:24.575Z"
   },
   {
    "duration": 12,
    "start_time": "2022-07-06T15:44:24.587Z"
   },
   {
    "duration": 8,
    "start_time": "2022-07-06T15:44:24.601Z"
   },
   {
    "duration": 5,
    "start_time": "2022-07-06T15:44:24.611Z"
   },
   {
    "duration": 6,
    "start_time": "2022-07-06T15:44:24.618Z"
   },
   {
    "duration": 30,
    "start_time": "2022-07-06T15:44:24.625Z"
   },
   {
    "duration": 15,
    "start_time": "2022-07-06T15:44:24.657Z"
   },
   {
    "duration": 12,
    "start_time": "2022-07-06T15:44:24.674Z"
   },
   {
    "duration": 9,
    "start_time": "2022-07-06T15:44:24.687Z"
   },
   {
    "duration": 11,
    "start_time": "2022-07-06T15:44:24.697Z"
   },
   {
    "duration": 4,
    "start_time": "2022-07-06T15:44:24.710Z"
   },
   {
    "duration": 5,
    "start_time": "2022-07-06T15:44:24.716Z"
   },
   {
    "duration": 30,
    "start_time": "2022-07-06T15:44:24.722Z"
   },
   {
    "duration": 5,
    "start_time": "2022-07-06T15:44:24.753Z"
   },
   {
    "duration": 19,
    "start_time": "2022-07-06T15:44:24.760Z"
   },
   {
    "duration": 2,
    "start_time": "2022-07-06T15:44:24.780Z"
   },
   {
    "duration": 6,
    "start_time": "2022-07-06T15:44:24.784Z"
   },
   {
    "duration": 10,
    "start_time": "2022-07-06T15:44:24.791Z"
   },
   {
    "duration": 108,
    "start_time": "2022-07-06T15:44:24.802Z"
   },
   {
    "duration": 3,
    "start_time": "2022-07-06T15:44:24.911Z"
   },
   {
    "duration": 5,
    "start_time": "2022-07-06T15:44:24.915Z"
   },
   {
    "duration": 4,
    "start_time": "2022-07-06T15:44:24.921Z"
   },
   {
    "duration": 33,
    "start_time": "2022-07-06T15:44:24.927Z"
   },
   {
    "duration": 119,
    "start_time": "2022-07-06T15:44:27.152Z"
   },
   {
    "duration": 7,
    "start_time": "2022-07-06T15:44:31.922Z"
   },
   {
    "duration": 72,
    "start_time": "2022-07-06T15:44:54.588Z"
   },
   {
    "duration": 5,
    "start_time": "2022-07-06T15:44:54.999Z"
   },
   {
    "duration": 5,
    "start_time": "2022-07-06T15:44:55.463Z"
   },
   {
    "duration": 180,
    "start_time": "2022-07-06T15:44:57.816Z"
   },
   {
    "duration": 8,
    "start_time": "2022-07-06T15:44:59.849Z"
   },
   {
    "duration": 9,
    "start_time": "2022-07-06T15:45:52.905Z"
   },
   {
    "duration": 19,
    "start_time": "2022-07-06T15:45:56.871Z"
   },
   {
    "duration": 122,
    "start_time": "2022-07-06T15:45:58.220Z"
   },
   {
    "duration": 8,
    "start_time": "2022-07-06T15:46:02.212Z"
   },
   {
    "duration": 55,
    "start_time": "2022-07-06T15:46:11.203Z"
   },
   {
    "duration": 5,
    "start_time": "2022-07-06T15:46:12.589Z"
   },
   {
    "duration": 5,
    "start_time": "2022-07-06T15:46:13.996Z"
   },
   {
    "duration": 282,
    "start_time": "2022-07-06T15:46:20.172Z"
   },
   {
    "duration": 10,
    "start_time": "2022-07-06T15:46:23.376Z"
   },
   {
    "duration": 12,
    "start_time": "2022-07-06T15:46:51.396Z"
   },
   {
    "duration": 248,
    "start_time": "2022-07-06T15:46:57.989Z"
   },
   {
    "duration": 157,
    "start_time": "2022-07-06T15:46:59.684Z"
   },
   {
    "duration": 47,
    "start_time": "2022-07-06T15:47:17.454Z"
   },
   {
    "duration": 24,
    "start_time": "2022-07-06T15:48:36.039Z"
   },
   {
    "duration": 290,
    "start_time": "2022-07-06T15:48:37.932Z"
   },
   {
    "duration": 11,
    "start_time": "2022-07-06T15:48:44.104Z"
   },
   {
    "duration": 400,
    "start_time": "2022-07-06T15:48:44.608Z"
   },
   {
    "duration": 20,
    "start_time": "2022-07-06T15:48:45.886Z"
   },
   {
    "duration": 185,
    "start_time": "2022-07-06T15:48:49.821Z"
   },
   {
    "duration": 12,
    "start_time": "2022-07-06T15:48:51.261Z"
   },
   {
    "duration": 38,
    "start_time": "2022-07-06T15:49:30.982Z"
   },
   {
    "duration": 114,
    "start_time": "2022-07-06T15:49:42.936Z"
   },
   {
    "duration": 64,
    "start_time": "2022-07-06T15:50:33.951Z"
   },
   {
    "duration": 42,
    "start_time": "2022-07-06T15:50:56.710Z"
   },
   {
    "duration": 127,
    "start_time": "2022-07-06T15:51:10.740Z"
   },
   {
    "duration": 124,
    "start_time": "2022-07-06T15:51:18.623Z"
   },
   {
    "duration": 36,
    "start_time": "2022-07-06T15:51:20.990Z"
   },
   {
    "duration": 116,
    "start_time": "2022-07-06T15:51:22.351Z"
   },
   {
    "duration": 124,
    "start_time": "2022-07-06T15:51:38.215Z"
   },
   {
    "duration": 123,
    "start_time": "2022-07-06T15:51:39.904Z"
   },
   {
    "duration": 1649,
    "start_time": "2022-07-07T03:28:09.250Z"
   },
   {
    "duration": 54,
    "start_time": "2022-07-07T03:28:10.902Z"
   },
   {
    "duration": 3,
    "start_time": "2022-07-07T03:28:10.958Z"
   },
   {
    "duration": 10,
    "start_time": "2022-07-07T03:28:10.963Z"
   },
   {
    "duration": 15,
    "start_time": "2022-07-07T03:28:10.975Z"
   },
   {
    "duration": 9,
    "start_time": "2022-07-07T03:28:10.991Z"
   },
   {
    "duration": 8,
    "start_time": "2022-07-07T03:28:11.002Z"
   },
   {
    "duration": 7,
    "start_time": "2022-07-07T03:28:11.011Z"
   },
   {
    "duration": 18,
    "start_time": "2022-07-07T03:28:11.019Z"
   },
   {
    "duration": 23,
    "start_time": "2022-07-07T03:28:11.038Z"
   },
   {
    "duration": 11,
    "start_time": "2022-07-07T03:28:11.062Z"
   },
   {
    "duration": 27,
    "start_time": "2022-07-07T03:28:11.075Z"
   },
   {
    "duration": 11,
    "start_time": "2022-07-07T03:28:11.104Z"
   },
   {
    "duration": 7,
    "start_time": "2022-07-07T03:28:11.119Z"
   },
   {
    "duration": 15,
    "start_time": "2022-07-07T03:28:11.128Z"
   },
   {
    "duration": 12,
    "start_time": "2022-07-07T03:28:11.144Z"
   },
   {
    "duration": 7,
    "start_time": "2022-07-07T03:28:11.157Z"
   },
   {
    "duration": 39,
    "start_time": "2022-07-07T03:28:11.165Z"
   },
   {
    "duration": 2,
    "start_time": "2022-07-07T03:28:11.206Z"
   },
   {
    "duration": 8,
    "start_time": "2022-07-07T03:28:11.210Z"
   },
   {
    "duration": 8,
    "start_time": "2022-07-07T03:28:11.220Z"
   },
   {
    "duration": 138,
    "start_time": "2022-07-07T03:28:11.229Z"
   },
   {
    "duration": 2,
    "start_time": "2022-07-07T03:28:11.369Z"
   },
   {
    "duration": 7,
    "start_time": "2022-07-07T03:28:11.373Z"
   },
   {
    "duration": 6,
    "start_time": "2022-07-07T03:28:11.381Z"
   },
   {
    "duration": 130,
    "start_time": "2022-07-07T03:28:11.389Z"
   },
   {
    "duration": 0,
    "start_time": "2022-07-07T03:28:11.521Z"
   },
   {
    "duration": 0,
    "start_time": "2022-07-07T03:28:11.523Z"
   },
   {
    "duration": 0,
    "start_time": "2022-07-07T03:28:11.524Z"
   },
   {
    "duration": 0,
    "start_time": "2022-07-07T03:28:11.526Z"
   },
   {
    "duration": 0,
    "start_time": "2022-07-07T03:28:11.527Z"
   },
   {
    "duration": 0,
    "start_time": "2022-07-07T03:28:11.529Z"
   },
   {
    "duration": 0,
    "start_time": "2022-07-07T03:28:11.530Z"
   },
   {
    "duration": 0,
    "start_time": "2022-07-07T03:28:11.531Z"
   },
   {
    "duration": 0,
    "start_time": "2022-07-07T03:28:11.533Z"
   },
   {
    "duration": 0,
    "start_time": "2022-07-07T03:28:11.535Z"
   },
   {
    "duration": 0,
    "start_time": "2022-07-07T03:28:11.536Z"
   },
   {
    "duration": 0,
    "start_time": "2022-07-07T03:28:11.538Z"
   },
   {
    "duration": 0,
    "start_time": "2022-07-07T03:28:11.540Z"
   },
   {
    "duration": 0,
    "start_time": "2022-07-07T03:28:11.541Z"
   },
   {
    "duration": 0,
    "start_time": "2022-07-07T03:28:11.543Z"
   },
   {
    "duration": 0,
    "start_time": "2022-07-07T03:28:11.545Z"
   },
   {
    "duration": 0,
    "start_time": "2022-07-07T03:28:11.547Z"
   },
   {
    "duration": 0,
    "start_time": "2022-07-07T03:28:11.549Z"
   },
   {
    "duration": 0,
    "start_time": "2022-07-07T03:28:11.601Z"
   },
   {
    "duration": 0,
    "start_time": "2022-07-07T03:28:11.603Z"
   },
   {
    "duration": 0,
    "start_time": "2022-07-07T03:28:11.604Z"
   },
   {
    "duration": 0,
    "start_time": "2022-07-07T03:28:11.605Z"
   },
   {
    "duration": 0,
    "start_time": "2022-07-07T03:28:11.606Z"
   },
   {
    "duration": 0,
    "start_time": "2022-07-07T03:28:11.607Z"
   },
   {
    "duration": 0,
    "start_time": "2022-07-07T03:28:11.608Z"
   },
   {
    "duration": 1570,
    "start_time": "2022-07-07T13:51:15.938Z"
   },
   {
    "duration": 54,
    "start_time": "2022-07-07T13:51:17.511Z"
   },
   {
    "duration": 5,
    "start_time": "2022-07-07T13:51:17.567Z"
   },
   {
    "duration": 9,
    "start_time": "2022-07-07T13:51:17.573Z"
   },
   {
    "duration": 17,
    "start_time": "2022-07-07T13:51:17.585Z"
   },
   {
    "duration": 9,
    "start_time": "2022-07-07T13:51:17.604Z"
   },
   {
    "duration": 6,
    "start_time": "2022-07-07T13:51:17.615Z"
   },
   {
    "duration": 6,
    "start_time": "2022-07-07T13:51:17.623Z"
   },
   {
    "duration": 18,
    "start_time": "2022-07-07T13:51:17.630Z"
   },
   {
    "duration": 19,
    "start_time": "2022-07-07T13:51:17.650Z"
   },
   {
    "duration": 13,
    "start_time": "2022-07-07T13:51:17.670Z"
   },
   {
    "duration": 8,
    "start_time": "2022-07-07T13:51:17.684Z"
   },
   {
    "duration": 35,
    "start_time": "2022-07-07T13:51:17.694Z"
   },
   {
    "duration": 7,
    "start_time": "2022-07-07T13:51:17.732Z"
   },
   {
    "duration": 5,
    "start_time": "2022-07-07T13:51:17.741Z"
   },
   {
    "duration": 9,
    "start_time": "2022-07-07T13:51:17.748Z"
   },
   {
    "duration": 6,
    "start_time": "2022-07-07T13:51:17.759Z"
   },
   {
    "duration": 18,
    "start_time": "2022-07-07T13:51:17.766Z"
   },
   {
    "duration": 3,
    "start_time": "2022-07-07T13:51:17.785Z"
   },
   {
    "duration": 11,
    "start_time": "2022-07-07T13:51:17.789Z"
   },
   {
    "duration": 21,
    "start_time": "2022-07-07T13:51:17.802Z"
   },
   {
    "duration": 145,
    "start_time": "2022-07-07T13:51:17.825Z"
   },
   {
    "duration": 2,
    "start_time": "2022-07-07T13:51:17.972Z"
   },
   {
    "duration": 8,
    "start_time": "2022-07-07T13:51:17.976Z"
   },
   {
    "duration": 10,
    "start_time": "2022-07-07T13:51:17.986Z"
   },
   {
    "duration": 135,
    "start_time": "2022-07-07T13:51:17.998Z"
   },
   {
    "duration": 0,
    "start_time": "2022-07-07T13:51:18.135Z"
   },
   {
    "duration": 0,
    "start_time": "2022-07-07T13:51:18.137Z"
   },
   {
    "duration": 0,
    "start_time": "2022-07-07T13:51:18.138Z"
   },
   {
    "duration": 0,
    "start_time": "2022-07-07T13:51:18.139Z"
   },
   {
    "duration": 0,
    "start_time": "2022-07-07T13:51:18.140Z"
   },
   {
    "duration": 0,
    "start_time": "2022-07-07T13:51:18.141Z"
   },
   {
    "duration": 0,
    "start_time": "2022-07-07T13:51:18.142Z"
   },
   {
    "duration": 0,
    "start_time": "2022-07-07T13:51:18.144Z"
   },
   {
    "duration": 0,
    "start_time": "2022-07-07T13:51:18.145Z"
   },
   {
    "duration": 0,
    "start_time": "2022-07-07T13:51:18.146Z"
   },
   {
    "duration": 0,
    "start_time": "2022-07-07T13:51:18.147Z"
   },
   {
    "duration": 0,
    "start_time": "2022-07-07T13:51:18.148Z"
   },
   {
    "duration": 0,
    "start_time": "2022-07-07T13:51:18.149Z"
   },
   {
    "duration": 0,
    "start_time": "2022-07-07T13:51:18.150Z"
   },
   {
    "duration": 0,
    "start_time": "2022-07-07T13:51:18.151Z"
   },
   {
    "duration": 0,
    "start_time": "2022-07-07T13:51:18.153Z"
   },
   {
    "duration": 0,
    "start_time": "2022-07-07T13:51:18.154Z"
   },
   {
    "duration": 0,
    "start_time": "2022-07-07T13:51:18.155Z"
   },
   {
    "duration": 0,
    "start_time": "2022-07-07T13:51:18.156Z"
   },
   {
    "duration": 0,
    "start_time": "2022-07-07T13:51:18.157Z"
   },
   {
    "duration": 0,
    "start_time": "2022-07-07T13:51:18.158Z"
   },
   {
    "duration": 0,
    "start_time": "2022-07-07T13:51:18.159Z"
   },
   {
    "duration": 0,
    "start_time": "2022-07-07T13:51:18.160Z"
   },
   {
    "duration": 0,
    "start_time": "2022-07-07T13:51:18.162Z"
   },
   {
    "duration": 0,
    "start_time": "2022-07-07T13:51:18.163Z"
   },
   {
    "duration": 4,
    "start_time": "2022-07-07T13:51:32.143Z"
   },
   {
    "duration": 46,
    "start_time": "2022-07-07T13:51:32.149Z"
   },
   {
    "duration": 3,
    "start_time": "2022-07-07T13:51:32.197Z"
   },
   {
    "duration": 7,
    "start_time": "2022-07-07T13:51:32.202Z"
   },
   {
    "duration": 14,
    "start_time": "2022-07-07T13:51:32.211Z"
   },
   {
    "duration": 12,
    "start_time": "2022-07-07T13:51:32.227Z"
   },
   {
    "duration": 7,
    "start_time": "2022-07-07T13:51:32.240Z"
   },
   {
    "duration": 6,
    "start_time": "2022-07-07T13:51:44.347Z"
   },
   {
    "duration": 5,
    "start_time": "2022-07-07T13:51:58.888Z"
   },
   {
    "duration": 3,
    "start_time": "2022-07-07T13:53:29.743Z"
   },
   {
    "duration": 927,
    "start_time": "2022-07-07T13:53:43.151Z"
   },
   {
    "duration": 4,
    "start_time": "2022-07-07T13:53:56.548Z"
   },
   {
    "duration": 33,
    "start_time": "2022-07-07T13:53:56.554Z"
   },
   {
    "duration": 3,
    "start_time": "2022-07-07T13:53:56.589Z"
   },
   {
    "duration": 8,
    "start_time": "2022-07-07T13:53:56.593Z"
   },
   {
    "duration": 14,
    "start_time": "2022-07-07T13:53:56.603Z"
   },
   {
    "duration": 9,
    "start_time": "2022-07-07T13:53:56.619Z"
   },
   {
    "duration": 6,
    "start_time": "2022-07-07T13:53:56.630Z"
   },
   {
    "duration": 4,
    "start_time": "2022-07-07T13:53:56.638Z"
   },
   {
    "duration": 8,
    "start_time": "2022-07-07T13:56:47.150Z"
   },
   {
    "duration": 5,
    "start_time": "2022-07-07T13:56:48.652Z"
   },
   {
    "duration": 10,
    "start_time": "2022-07-07T14:01:46.652Z"
   },
   {
    "duration": 18,
    "start_time": "2022-07-07T14:01:49.553Z"
   },
   {
    "duration": 13,
    "start_time": "2022-07-07T14:01:56.897Z"
   },
   {
    "duration": 7,
    "start_time": "2022-07-07T14:02:21.988Z"
   },
   {
    "duration": 11,
    "start_time": "2022-07-07T14:02:24.664Z"
   },
   {
    "duration": 5,
    "start_time": "2022-07-07T14:03:07.784Z"
   },
   {
    "duration": 4,
    "start_time": "2022-07-07T14:05:21.131Z"
   },
   {
    "duration": 6,
    "start_time": "2022-07-07T14:05:56.991Z"
   },
   {
    "duration": 7,
    "start_time": "2022-07-07T14:07:01.831Z"
   },
   {
    "duration": 6,
    "start_time": "2022-07-07T14:07:04.511Z"
   },
   {
    "duration": 5,
    "start_time": "2022-07-07T14:07:08.315Z"
   },
   {
    "duration": 5,
    "start_time": "2022-07-07T14:07:17.250Z"
   },
   {
    "duration": 5,
    "start_time": "2022-07-07T14:07:27.258Z"
   },
   {
    "duration": 1686,
    "start_time": "2022-07-08T09:47:06.182Z"
   },
   {
    "duration": 64,
    "start_time": "2022-07-08T09:47:07.871Z"
   },
   {
    "duration": 4,
    "start_time": "2022-07-08T09:47:07.937Z"
   },
   {
    "duration": 21,
    "start_time": "2022-07-08T09:47:07.943Z"
   },
   {
    "duration": 29,
    "start_time": "2022-07-08T09:47:07.968Z"
   },
   {
    "duration": 15,
    "start_time": "2022-07-08T09:47:07.999Z"
   },
   {
    "duration": 9,
    "start_time": "2022-07-08T09:47:08.016Z"
   },
   {
    "duration": 8,
    "start_time": "2022-07-08T09:47:08.027Z"
   },
   {
    "duration": 18,
    "start_time": "2022-07-08T09:47:08.037Z"
   },
   {
    "duration": 25,
    "start_time": "2022-07-08T09:47:08.058Z"
   },
   {
    "duration": 13,
    "start_time": "2022-07-08T09:47:08.085Z"
   },
   {
    "duration": 12,
    "start_time": "2022-07-08T09:47:08.099Z"
   },
   {
    "duration": 7,
    "start_time": "2022-07-08T09:47:08.124Z"
   },
   {
    "duration": 19,
    "start_time": "2022-07-08T09:47:08.134Z"
   },
   {
    "duration": 5,
    "start_time": "2022-07-08T09:48:01.839Z"
   },
   {
    "duration": 60,
    "start_time": "2022-07-08T09:48:03.402Z"
   },
   {
    "duration": 59,
    "start_time": "2022-07-08T09:48:16.712Z"
   },
   {
    "duration": 9,
    "start_time": "2022-07-08T09:48:25.218Z"
   },
   {
    "duration": 120,
    "start_time": "2022-07-08T09:49:14.239Z"
   },
   {
    "duration": 17,
    "start_time": "2022-07-08T09:49:45.381Z"
   },
   {
    "duration": 10,
    "start_time": "2022-07-08T09:49:48.622Z"
   },
   {
    "duration": 16,
    "start_time": "2022-07-08T09:50:06.367Z"
   },
   {
    "duration": 9,
    "start_time": "2022-07-08T09:50:15.669Z"
   },
   {
    "duration": 5,
    "start_time": "2022-07-08T09:51:05.719Z"
   },
   {
    "duration": 46,
    "start_time": "2022-07-08T09:51:05.726Z"
   },
   {
    "duration": 4,
    "start_time": "2022-07-08T09:51:05.775Z"
   },
   {
    "duration": 10,
    "start_time": "2022-07-08T09:51:05.781Z"
   },
   {
    "duration": 18,
    "start_time": "2022-07-08T09:51:05.794Z"
   },
   {
    "duration": 12,
    "start_time": "2022-07-08T09:51:05.814Z"
   },
   {
    "duration": 8,
    "start_time": "2022-07-08T09:51:05.828Z"
   },
   {
    "duration": 6,
    "start_time": "2022-07-08T09:51:05.838Z"
   },
   {
    "duration": 8,
    "start_time": "2022-07-08T09:51:05.846Z"
   },
   {
    "duration": 44,
    "start_time": "2022-07-08T09:51:05.855Z"
   },
   {
    "duration": 21,
    "start_time": "2022-07-08T09:51:05.900Z"
   },
   {
    "duration": 17,
    "start_time": "2022-07-08T09:51:05.922Z"
   },
   {
    "duration": 18,
    "start_time": "2022-07-08T09:51:05.941Z"
   },
   {
    "duration": 18,
    "start_time": "2022-07-08T09:51:05.963Z"
   },
   {
    "duration": 16,
    "start_time": "2022-07-08T09:51:05.983Z"
   },
   {
    "duration": 24,
    "start_time": "2022-07-08T09:51:06.002Z"
   },
   {
    "duration": 9,
    "start_time": "2022-07-08T09:51:07.471Z"
   },
   {
    "duration": 10,
    "start_time": "2022-07-08T09:51:08.332Z"
   },
   {
    "duration": 3,
    "start_time": "2022-07-08T09:51:45.219Z"
   },
   {
    "duration": 4,
    "start_time": "2022-07-08T09:51:54.108Z"
   },
   {
    "duration": 4,
    "start_time": "2022-07-08T09:52:17.058Z"
   },
   {
    "duration": 5,
    "start_time": "2022-07-08T09:52:20.693Z"
   },
   {
    "duration": 10,
    "start_time": "2022-07-08T09:52:25.830Z"
   },
   {
    "duration": 4,
    "start_time": "2022-07-08T09:52:32.128Z"
   },
   {
    "duration": 4,
    "start_time": "2022-07-08T09:52:36.271Z"
   },
   {
    "duration": 5,
    "start_time": "2022-07-08T09:53:20.117Z"
   },
   {
    "duration": 4,
    "start_time": "2022-07-08T09:53:40.056Z"
   },
   {
    "duration": 8,
    "start_time": "2022-07-08T09:54:13.469Z"
   },
   {
    "duration": 5,
    "start_time": "2022-07-08T09:54:14.454Z"
   },
   {
    "duration": 7,
    "start_time": "2022-07-08T09:54:22.055Z"
   },
   {
    "duration": 4,
    "start_time": "2022-07-08T09:54:23.514Z"
   },
   {
    "duration": 7,
    "start_time": "2022-07-08T09:55:58.035Z"
   },
   {
    "duration": 4,
    "start_time": "2022-07-08T09:56:01.581Z"
   },
   {
    "duration": 9,
    "start_time": "2022-07-08T09:56:18.291Z"
   },
   {
    "duration": 6,
    "start_time": "2022-07-08T09:56:19.628Z"
   },
   {
    "duration": 8,
    "start_time": "2022-07-08T09:56:38.377Z"
   },
   {
    "duration": 6,
    "start_time": "2022-07-08T09:56:39.887Z"
   },
   {
    "duration": 4,
    "start_time": "2022-07-08T10:01:26.192Z"
   },
   {
    "duration": 10,
    "start_time": "2022-07-08T10:01:27.912Z"
   },
   {
    "duration": 6,
    "start_time": "2022-07-08T10:01:29.321Z"
   },
   {
    "duration": 24,
    "start_time": "2022-07-08T10:01:36.204Z"
   },
   {
    "duration": 13,
    "start_time": "2022-07-08T10:02:09.438Z"
   },
   {
    "duration": 5,
    "start_time": "2022-07-08T10:02:10.954Z"
   },
   {
    "duration": 21,
    "start_time": "2022-07-08T10:02:13.594Z"
   },
   {
    "duration": 29,
    "start_time": "2022-07-08T10:03:16.843Z"
   },
   {
    "duration": 4,
    "start_time": "2022-07-08T10:03:26.598Z"
   },
   {
    "duration": 39,
    "start_time": "2022-07-08T10:03:26.605Z"
   },
   {
    "duration": 3,
    "start_time": "2022-07-08T10:03:26.646Z"
   },
   {
    "duration": 8,
    "start_time": "2022-07-08T10:03:26.651Z"
   },
   {
    "duration": 12,
    "start_time": "2022-07-08T10:03:26.662Z"
   },
   {
    "duration": 8,
    "start_time": "2022-07-08T10:03:26.676Z"
   },
   {
    "duration": 7,
    "start_time": "2022-07-08T10:03:26.686Z"
   },
   {
    "duration": 14,
    "start_time": "2022-07-08T10:03:26.722Z"
   },
   {
    "duration": 14,
    "start_time": "2022-07-08T10:03:26.737Z"
   },
   {
    "duration": 13,
    "start_time": "2022-07-08T10:03:26.752Z"
   },
   {
    "duration": 24,
    "start_time": "2022-07-08T10:03:26.766Z"
   },
   {
    "duration": 17,
    "start_time": "2022-07-08T10:03:26.792Z"
   },
   {
    "duration": 7,
    "start_time": "2022-07-08T10:03:26.812Z"
   },
   {
    "duration": 16,
    "start_time": "2022-07-08T10:03:26.821Z"
   },
   {
    "duration": 4,
    "start_time": "2022-07-08T10:03:26.838Z"
   },
   {
    "duration": 15,
    "start_time": "2022-07-08T10:03:26.844Z"
   },
   {
    "duration": 5,
    "start_time": "2022-07-08T10:03:26.861Z"
   },
   {
    "duration": 30,
    "start_time": "2022-07-08T10:03:31.134Z"
   },
   {
    "duration": 18,
    "start_time": "2022-07-08T10:03:50.494Z"
   },
   {
    "duration": 4,
    "start_time": "2022-07-08T10:04:03.145Z"
   },
   {
    "duration": 126,
    "start_time": "2022-07-08T10:04:04.739Z"
   },
   {
    "duration": 59,
    "start_time": "2022-07-08T10:05:14.968Z"
   },
   {
    "duration": 5,
    "start_time": "2022-07-08T10:05:18.064Z"
   },
   {
    "duration": 13,
    "start_time": "2022-07-08T10:05:19.756Z"
   },
   {
    "duration": 8,
    "start_time": "2022-07-08T10:05:27.622Z"
   },
   {
    "duration": 123,
    "start_time": "2022-07-08T10:05:51.840Z"
   },
   {
    "duration": 9,
    "start_time": "2022-07-08T10:05:55.690Z"
   },
   {
    "duration": 340,
    "start_time": "2022-07-08T10:06:05.406Z"
   },
   {
    "duration": 17,
    "start_time": "2022-07-08T10:06:08.742Z"
   },
   {
    "duration": 6,
    "start_time": "2022-07-08T10:06:12.743Z"
   },
   {
    "duration": 287,
    "start_time": "2022-07-08T10:06:16.355Z"
   },
   {
    "duration": 43539,
    "start_time": "2022-07-08T10:07:08.495Z"
   },
   {
    "duration": 7,
    "start_time": "2022-07-08T10:08:54.815Z"
   },
   {
    "duration": 6,
    "start_time": "2022-07-08T10:08:57.112Z"
   },
   {
    "duration": 6,
    "start_time": "2022-07-08T10:09:15.039Z"
   },
   {
    "duration": 12,
    "start_time": "2022-07-08T10:09:21.239Z"
   },
   {
    "duration": 1430,
    "start_time": "2022-07-08T10:10:00.446Z"
   },
   {
    "duration": 31,
    "start_time": "2022-07-08T10:10:01.878Z"
   },
   {
    "duration": 4,
    "start_time": "2022-07-08T10:10:01.911Z"
   },
   {
    "duration": 6,
    "start_time": "2022-07-08T10:10:01.924Z"
   },
   {
    "duration": 25,
    "start_time": "2022-07-08T10:10:01.933Z"
   },
   {
    "duration": 13,
    "start_time": "2022-07-08T10:10:01.961Z"
   },
   {
    "duration": 11,
    "start_time": "2022-07-08T10:10:01.976Z"
   },
   {
    "duration": 15,
    "start_time": "2022-07-08T10:10:01.989Z"
   },
   {
    "duration": 24,
    "start_time": "2022-07-08T10:10:02.024Z"
   },
   {
    "duration": 14,
    "start_time": "2022-07-08T10:10:02.050Z"
   },
   {
    "duration": 24,
    "start_time": "2022-07-08T10:10:02.066Z"
   },
   {
    "duration": 18,
    "start_time": "2022-07-08T10:10:02.091Z"
   },
   {
    "duration": 18,
    "start_time": "2022-07-08T10:10:02.111Z"
   },
   {
    "duration": 36,
    "start_time": "2022-07-08T10:10:02.132Z"
   },
   {
    "duration": 5,
    "start_time": "2022-07-08T10:10:02.170Z"
   },
   {
    "duration": 16,
    "start_time": "2022-07-08T10:10:02.177Z"
   },
   {
    "duration": 5,
    "start_time": "2022-07-08T10:10:02.195Z"
   },
   {
    "duration": 48,
    "start_time": "2022-07-08T10:10:02.201Z"
   },
   {
    "duration": 4,
    "start_time": "2022-07-08T10:10:02.251Z"
   },
   {
    "duration": 203,
    "start_time": "2022-07-08T10:10:02.257Z"
   },
   {
    "duration": 85,
    "start_time": "2022-07-08T10:10:02.462Z"
   },
   {
    "duration": 6,
    "start_time": "2022-07-08T10:10:02.550Z"
   },
   {
    "duration": 11,
    "start_time": "2022-07-08T10:10:02.558Z"
   },
   {
    "duration": 165,
    "start_time": "2022-07-08T10:10:02.571Z"
   },
   {
    "duration": 12,
    "start_time": "2022-07-08T10:10:02.738Z"
   },
   {
    "duration": 1547,
    "start_time": "2022-07-08T10:10:18.292Z"
   },
   {
    "duration": 35,
    "start_time": "2022-07-08T10:10:19.842Z"
   },
   {
    "duration": 4,
    "start_time": "2022-07-08T10:10:19.878Z"
   },
   {
    "duration": 8,
    "start_time": "2022-07-08T10:10:19.885Z"
   },
   {
    "duration": 16,
    "start_time": "2022-07-08T10:10:19.895Z"
   },
   {
    "duration": 20,
    "start_time": "2022-07-08T10:10:19.914Z"
   },
   {
    "duration": 8,
    "start_time": "2022-07-08T10:10:19.936Z"
   },
   {
    "duration": 5,
    "start_time": "2022-07-08T10:10:19.946Z"
   },
   {
    "duration": 13,
    "start_time": "2022-07-08T10:10:19.953Z"
   },
   {
    "duration": 14,
    "start_time": "2022-07-08T10:10:19.970Z"
   },
   {
    "duration": 43,
    "start_time": "2022-07-08T10:10:19.986Z"
   },
   {
    "duration": 14,
    "start_time": "2022-07-08T10:10:20.030Z"
   },
   {
    "duration": 7,
    "start_time": "2022-07-08T10:10:20.046Z"
   },
   {
    "duration": 14,
    "start_time": "2022-07-08T10:10:20.055Z"
   },
   {
    "duration": 6,
    "start_time": "2022-07-08T10:10:20.071Z"
   },
   {
    "duration": 21,
    "start_time": "2022-07-08T10:10:20.079Z"
   },
   {
    "duration": 24,
    "start_time": "2022-07-08T10:10:20.102Z"
   },
   {
    "duration": 35,
    "start_time": "2022-07-08T10:10:20.128Z"
   },
   {
    "duration": 4,
    "start_time": "2022-07-08T10:10:20.165Z"
   },
   {
    "duration": 161,
    "start_time": "2022-07-08T10:10:20.171Z"
   },
   {
    "duration": 61,
    "start_time": "2022-07-08T10:10:20.334Z"
   },
   {
    "duration": 5,
    "start_time": "2022-07-08T10:10:20.397Z"
   },
   {
    "duration": 27,
    "start_time": "2022-07-08T10:10:20.404Z"
   },
   {
    "duration": 137,
    "start_time": "2022-07-08T10:10:20.433Z"
   },
   {
    "duration": 9,
    "start_time": "2022-07-08T10:10:20.572Z"
   },
   {
    "duration": 32643,
    "start_time": "2022-07-08T10:10:20.582Z"
   },
   {
    "duration": 7,
    "start_time": "2022-07-08T10:10:53.227Z"
   },
   {
    "duration": 106,
    "start_time": "2022-07-08T10:10:53.327Z"
   },
   {
    "duration": 139,
    "start_time": "2022-07-08T10:10:53.435Z"
   },
   {
    "duration": 0,
    "start_time": "2022-07-08T10:10:53.576Z"
   },
   {
    "duration": 0,
    "start_time": "2022-07-08T10:10:53.577Z"
   },
   {
    "duration": 0,
    "start_time": "2022-07-08T10:10:53.579Z"
   },
   {
    "duration": 0,
    "start_time": "2022-07-08T10:10:53.580Z"
   },
   {
    "duration": 0,
    "start_time": "2022-07-08T10:10:53.582Z"
   },
   {
    "duration": 0,
    "start_time": "2022-07-08T10:10:53.583Z"
   },
   {
    "duration": 0,
    "start_time": "2022-07-08T10:10:53.584Z"
   },
   {
    "duration": 0,
    "start_time": "2022-07-08T10:10:53.586Z"
   },
   {
    "duration": 0,
    "start_time": "2022-07-08T10:10:53.587Z"
   },
   {
    "duration": 0,
    "start_time": "2022-07-08T10:10:53.588Z"
   },
   {
    "duration": 0,
    "start_time": "2022-07-08T10:10:53.589Z"
   },
   {
    "duration": 0,
    "start_time": "2022-07-08T10:10:53.591Z"
   },
   {
    "duration": 0,
    "start_time": "2022-07-08T10:10:53.592Z"
   },
   {
    "duration": 0,
    "start_time": "2022-07-08T10:10:53.624Z"
   },
   {
    "duration": 0,
    "start_time": "2022-07-08T10:10:53.625Z"
   },
   {
    "duration": 0,
    "start_time": "2022-07-08T10:10:53.626Z"
   },
   {
    "duration": 0,
    "start_time": "2022-07-08T10:10:53.627Z"
   },
   {
    "duration": 0,
    "start_time": "2022-07-08T10:10:53.628Z"
   },
   {
    "duration": 1,
    "start_time": "2022-07-08T10:10:53.629Z"
   },
   {
    "duration": 310,
    "start_time": "2022-07-08T10:12:03.431Z"
   },
   {
    "duration": 14,
    "start_time": "2022-07-08T10:12:09.027Z"
   },
   {
    "duration": 137893,
    "start_time": "2022-07-08T10:12:35.780Z"
   },
   {
    "duration": 38,
    "start_time": "2022-07-08T10:54:14.688Z"
   },
   {
    "duration": 6,
    "start_time": "2022-07-08T10:54:16.536Z"
   },
   {
    "duration": 4,
    "start_time": "2022-07-08T10:54:18.523Z"
   },
   {
    "duration": 43,
    "start_time": "2022-07-08T10:54:40.111Z"
   },
   {
    "duration": 156,
    "start_time": "2022-07-08T10:55:17.024Z"
   },
   {
    "duration": 41,
    "start_time": "2022-07-08T10:55:21.540Z"
   },
   {
    "duration": 1513,
    "start_time": "2022-07-08T10:55:53.697Z"
   },
   {
    "duration": 32,
    "start_time": "2022-07-08T10:55:55.212Z"
   },
   {
    "duration": 5,
    "start_time": "2022-07-08T10:55:55.245Z"
   },
   {
    "duration": 15,
    "start_time": "2022-07-08T10:55:55.252Z"
   },
   {
    "duration": 19,
    "start_time": "2022-07-08T10:55:55.269Z"
   },
   {
    "duration": 15,
    "start_time": "2022-07-08T10:55:55.290Z"
   },
   {
    "duration": 21,
    "start_time": "2022-07-08T10:55:55.307Z"
   },
   {
    "duration": 6,
    "start_time": "2022-07-08T10:55:55.329Z"
   },
   {
    "duration": 14,
    "start_time": "2022-07-08T10:55:55.337Z"
   },
   {
    "duration": 12,
    "start_time": "2022-07-08T10:55:55.354Z"
   },
   {
    "duration": 15,
    "start_time": "2022-07-08T10:55:55.368Z"
   },
   {
    "duration": 48,
    "start_time": "2022-07-08T10:55:55.385Z"
   },
   {
    "duration": 6,
    "start_time": "2022-07-08T10:55:55.435Z"
   },
   {
    "duration": 18,
    "start_time": "2022-07-08T10:55:55.444Z"
   },
   {
    "duration": 6,
    "start_time": "2022-07-08T10:55:55.463Z"
   },
   {
    "duration": 23,
    "start_time": "2022-07-08T10:55:55.471Z"
   },
   {
    "duration": 10,
    "start_time": "2022-07-08T10:55:55.496Z"
   },
   {
    "duration": 31,
    "start_time": "2022-07-08T10:55:55.524Z"
   },
   {
    "duration": 4,
    "start_time": "2022-07-08T10:55:55.556Z"
   },
   {
    "duration": 163,
    "start_time": "2022-07-08T10:55:55.562Z"
   },
   {
    "duration": 58,
    "start_time": "2022-07-08T10:55:55.727Z"
   },
   {
    "duration": 4,
    "start_time": "2022-07-08T10:55:55.787Z"
   },
   {
    "duration": 10,
    "start_time": "2022-07-08T10:55:55.793Z"
   },
   {
    "duration": 133,
    "start_time": "2022-07-08T10:55:55.824Z"
   },
   {
    "duration": 20,
    "start_time": "2022-07-08T10:55:55.958Z"
   },
   {
    "duration": 57464,
    "start_time": "2022-07-08T10:55:55.980Z"
   },
   {
    "duration": 79,
    "start_time": "2022-07-08T10:56:53.446Z"
   },
   {
    "duration": 117,
    "start_time": "2022-07-08T10:56:53.530Z"
   },
   {
    "duration": 287,
    "start_time": "2022-07-08T10:56:53.649Z"
   },
   {
    "duration": 12,
    "start_time": "2022-07-08T10:56:53.938Z"
   },
   {
    "duration": 146437,
    "start_time": "2022-07-08T10:56:53.954Z"
   },
   {
    "duration": 45,
    "start_time": "2022-07-08T10:59:20.393Z"
   },
   {
    "duration": 5,
    "start_time": "2022-07-08T10:59:20.440Z"
   },
   {
    "duration": 7,
    "start_time": "2022-07-08T10:59:20.447Z"
   },
   {
    "duration": 186,
    "start_time": "2022-07-08T10:59:20.455Z"
   },
   {
    "duration": 44,
    "start_time": "2022-07-08T10:59:20.643Z"
   },
   {
    "duration": 65,
    "start_time": "2022-07-08T10:59:20.689Z"
   },
   {
    "duration": 759,
    "start_time": "2022-07-08T10:59:20.755Z"
   },
   {
    "duration": 26,
    "start_time": "2022-07-08T10:59:21.515Z"
   },
   {
    "duration": 1032,
    "start_time": "2022-07-08T10:59:21.544Z"
   },
   {
    "duration": 55,
    "start_time": "2022-07-08T10:59:22.578Z"
   },
   {
    "duration": 342,
    "start_time": "2022-07-08T10:59:22.636Z"
   },
   {
    "duration": 20,
    "start_time": "2022-07-08T10:59:22.980Z"
   },
   {
    "duration": 39,
    "start_time": "2022-07-08T10:59:23.001Z"
   },
   {
    "duration": 153,
    "start_time": "2022-07-08T10:59:23.043Z"
   },
   {
    "duration": 112,
    "start_time": "2022-07-08T10:59:23.198Z"
   },
   {
    "duration": 164,
    "start_time": "2022-07-08T10:59:23.313Z"
   },
   {
    "duration": 1673,
    "start_time": "2022-07-11T18:41:23.142Z"
   },
   {
    "duration": 383,
    "start_time": "2022-07-11T18:41:24.817Z"
   },
   {
    "duration": 4,
    "start_time": "2022-07-11T18:41:25.202Z"
   },
   {
    "duration": 6,
    "start_time": "2022-07-11T18:41:25.209Z"
   },
   {
    "duration": 16,
    "start_time": "2022-07-11T18:41:25.217Z"
   },
   {
    "duration": 10,
    "start_time": "2022-07-11T18:41:25.235Z"
   },
   {
    "duration": 7,
    "start_time": "2022-07-11T18:41:25.247Z"
   },
   {
    "duration": 21,
    "start_time": "2022-07-11T18:41:25.255Z"
   },
   {
    "duration": 9,
    "start_time": "2022-07-11T18:41:25.278Z"
   },
   {
    "duration": 12,
    "start_time": "2022-07-11T18:41:25.289Z"
   },
   {
    "duration": 13,
    "start_time": "2022-07-11T18:41:25.303Z"
   },
   {
    "duration": 11,
    "start_time": "2022-07-11T18:41:25.318Z"
   },
   {
    "duration": 28,
    "start_time": "2022-07-11T18:41:25.330Z"
   },
   {
    "duration": 15,
    "start_time": "2022-07-11T18:41:25.360Z"
   },
   {
    "duration": 6,
    "start_time": "2022-07-11T18:41:25.377Z"
   },
   {
    "duration": 13,
    "start_time": "2022-07-11T18:41:25.384Z"
   },
   {
    "duration": 5,
    "start_time": "2022-07-11T18:41:27.877Z"
   },
   {
    "duration": 29,
    "start_time": "2022-07-11T18:42:20.139Z"
   },
   {
    "duration": 5,
    "start_time": "2022-07-11T18:42:29.263Z"
   },
   {
    "duration": 114,
    "start_time": "2022-07-11T18:42:31.284Z"
   },
   {
    "duration": 103,
    "start_time": "2022-07-11T18:43:34.874Z"
   },
   {
    "duration": 115,
    "start_time": "2022-07-11T18:43:59.980Z"
   },
   {
    "duration": 101,
    "start_time": "2022-07-11T18:44:15.509Z"
   },
   {
    "duration": 51,
    "start_time": "2022-07-11T18:45:15.186Z"
   },
   {
    "duration": 17,
    "start_time": "2022-07-11T18:45:18.848Z"
   },
   {
    "duration": 8,
    "start_time": "2022-07-11T18:45:21.263Z"
   },
   {
    "duration": 180,
    "start_time": "2022-07-11T18:45:32.588Z"
   },
   {
    "duration": 9,
    "start_time": "2022-07-11T18:45:35.411Z"
   },
   {
    "duration": 43312,
    "start_time": "2022-07-11T18:45:47.043Z"
   },
   {
    "duration": 4,
    "start_time": "2022-07-11T18:46:39.969Z"
   },
   {
    "duration": 9,
    "start_time": "2022-07-11T18:46:41.547Z"
   },
   {
    "duration": 212,
    "start_time": "2022-07-11T18:46:43.422Z"
   },
   {
    "duration": 20,
    "start_time": "2022-07-11T18:46:45.652Z"
   },
   {
    "duration": 128556,
    "start_time": "2022-07-11T18:52:39.671Z"
   },
   {
    "duration": 35,
    "start_time": "2022-07-11T18:59:11.142Z"
   },
   {
    "duration": 5,
    "start_time": "2022-07-11T18:59:12.768Z"
   },
   {
    "duration": 1262,
    "start_time": "2022-07-11T18:59:18.326Z"
   },
   {
    "duration": 16,
    "start_time": "2022-07-11T18:59:22.167Z"
   },
   {
    "duration": 5,
    "start_time": "2022-07-11T18:59:23.608Z"
   },
   {
    "duration": 3,
    "start_time": "2022-07-11T18:59:29.764Z"
   },
   {
    "duration": 120,
    "start_time": "2022-07-11T18:59:33.467Z"
   },
   {
    "duration": 20,
    "start_time": "2022-07-11T18:59:37.187Z"
   },
   {
    "duration": 6,
    "start_time": "2022-07-11T19:03:58.967Z"
   },
   {
    "duration": 5,
    "start_time": "2022-07-11T19:04:33.320Z"
   },
   {
    "duration": 6,
    "start_time": "2022-07-11T19:05:09.041Z"
   },
   {
    "duration": 21,
    "start_time": "2022-07-11T19:06:41.386Z"
   },
   {
    "duration": 18,
    "start_time": "2022-07-11T19:06:51.589Z"
   },
   {
    "duration": 19,
    "start_time": "2022-07-11T19:08:19.666Z"
   },
   {
    "duration": 14,
    "start_time": "2022-07-11T19:08:48.719Z"
   },
   {
    "duration": 19,
    "start_time": "2022-07-11T19:09:06.964Z"
   },
   {
    "duration": 13,
    "start_time": "2022-07-11T19:10:06.862Z"
   },
   {
    "duration": 8,
    "start_time": "2022-07-11T19:10:10.163Z"
   },
   {
    "duration": 270,
    "start_time": "2022-07-11T19:10:11.967Z"
   },
   {
    "duration": 21,
    "start_time": "2022-07-11T19:10:53.451Z"
   },
   {
    "duration": 20,
    "start_time": "2022-07-11T19:11:09.115Z"
   },
   {
    "duration": 14,
    "start_time": "2022-07-11T19:11:41.350Z"
   },
   {
    "duration": 10,
    "start_time": "2022-07-11T19:11:45.816Z"
   },
   {
    "duration": 10,
    "start_time": "2022-07-11T19:11:57.559Z"
   },
   {
    "duration": 9,
    "start_time": "2022-07-11T19:12:07.461Z"
   },
   {
    "duration": 4,
    "start_time": "2022-07-11T19:12:13.493Z"
   },
   {
    "duration": 41,
    "start_time": "2022-07-11T19:12:13.499Z"
   },
   {
    "duration": 3,
    "start_time": "2022-07-11T19:12:13.541Z"
   },
   {
    "duration": 8,
    "start_time": "2022-07-11T19:12:13.545Z"
   },
   {
    "duration": 37,
    "start_time": "2022-07-11T19:12:13.555Z"
   },
   {
    "duration": 9,
    "start_time": "2022-07-11T19:12:13.593Z"
   },
   {
    "duration": 9,
    "start_time": "2022-07-11T19:12:13.603Z"
   },
   {
    "duration": 6,
    "start_time": "2022-07-11T19:12:13.614Z"
   },
   {
    "duration": 9,
    "start_time": "2022-07-11T19:12:13.622Z"
   },
   {
    "duration": 27,
    "start_time": "2022-07-11T19:12:13.633Z"
   },
   {
    "duration": 18,
    "start_time": "2022-07-11T19:12:13.662Z"
   },
   {
    "duration": 15,
    "start_time": "2022-07-11T19:12:13.681Z"
   },
   {
    "duration": 6,
    "start_time": "2022-07-11T19:12:13.697Z"
   },
   {
    "duration": 10,
    "start_time": "2022-07-11T19:12:13.705Z"
   },
   {
    "duration": 4,
    "start_time": "2022-07-11T19:12:13.716Z"
   },
   {
    "duration": 46,
    "start_time": "2022-07-11T19:12:13.721Z"
   },
   {
    "duration": 5,
    "start_time": "2022-07-11T19:12:13.770Z"
   },
   {
    "duration": 34,
    "start_time": "2022-07-11T19:12:13.777Z"
   },
   {
    "duration": 5,
    "start_time": "2022-07-11T19:12:13.813Z"
   },
   {
    "duration": 111,
    "start_time": "2022-07-11T19:12:13.819Z"
   },
   {
    "duration": 122,
    "start_time": "2022-07-11T19:12:13.932Z"
   },
   {
    "duration": 119,
    "start_time": "2022-07-11T19:12:14.058Z"
   },
   {
    "duration": 115,
    "start_time": "2022-07-11T19:12:14.179Z"
   },
   {
    "duration": 59,
    "start_time": "2022-07-11T19:12:14.295Z"
   },
   {
    "duration": 9,
    "start_time": "2022-07-11T19:12:14.358Z"
   },
   {
    "duration": 9,
    "start_time": "2022-07-11T19:12:14.369Z"
   },
   {
    "duration": 125,
    "start_time": "2022-07-11T19:12:14.380Z"
   },
   {
    "duration": 8,
    "start_time": "2022-07-11T19:12:14.507Z"
   },
   {
    "duration": 41246,
    "start_time": "2022-07-11T19:12:14.518Z"
   },
   {
    "duration": 7,
    "start_time": "2022-07-11T19:12:55.765Z"
   },
   {
    "duration": 110,
    "start_time": "2022-07-11T19:12:55.854Z"
   },
   {
    "duration": 289,
    "start_time": "2022-07-11T19:12:55.967Z"
   },
   {
    "duration": 31,
    "start_time": "2022-07-11T19:12:56.260Z"
   },
   {
    "duration": 1493,
    "start_time": "2022-07-11T19:12:56.294Z"
   },
   {
    "duration": 17,
    "start_time": "2022-07-11T19:12:57.789Z"
   },
   {
    "duration": 5,
    "start_time": "2022-07-11T19:12:57.808Z"
   },
   {
    "duration": 10,
    "start_time": "2022-07-11T19:12:57.815Z"
   },
   {
    "duration": 145,
    "start_time": "2022-07-11T19:12:57.827Z"
   },
   {
    "duration": 18,
    "start_time": "2022-07-11T19:12:57.974Z"
   },
   {
    "duration": 8,
    "start_time": "2022-07-11T19:13:20.490Z"
   },
   {
    "duration": 6,
    "start_time": "2022-07-11T19:13:46.324Z"
   },
   {
    "duration": 12,
    "start_time": "2022-07-11T19:14:05.561Z"
   },
   {
    "duration": 36,
    "start_time": "2022-07-11T19:14:26.536Z"
   },
   {
    "duration": 624,
    "start_time": "2022-07-11T19:14:29.452Z"
   },
   {
    "duration": 31,
    "start_time": "2022-07-11T19:14:52.611Z"
   },
   {
    "duration": 675,
    "start_time": "2022-07-11T19:15:22.919Z"
   },
   {
    "duration": 37,
    "start_time": "2022-07-11T19:15:36.082Z"
   },
   {
    "duration": 680,
    "start_time": "2022-07-11T19:15:38.827Z"
   },
   {
    "duration": 133,
    "start_time": "2022-07-11T19:16:05.564Z"
   },
   {
    "duration": 20,
    "start_time": "2022-07-11T19:16:33.720Z"
   },
   {
    "duration": 577,
    "start_time": "2022-07-11T19:17:18.280Z"
   },
   {
    "duration": 34,
    "start_time": "2022-07-11T19:17:30.512Z"
   },
   {
    "duration": 242,
    "start_time": "2022-07-11T19:17:32.314Z"
   },
   {
    "duration": 154,
    "start_time": "2022-07-11T19:17:34.407Z"
   },
   {
    "duration": 14,
    "start_time": "2022-07-11T19:17:47.366Z"
   },
   {
    "duration": 211,
    "start_time": "2022-07-11T19:18:36.164Z"
   },
   {
    "duration": 28,
    "start_time": "2022-07-11T19:19:05.675Z"
   },
   {
    "duration": 508,
    "start_time": "2022-07-11T19:19:39.551Z"
   },
   {
    "duration": 314,
    "start_time": "2022-07-11T19:21:10.194Z"
   },
   {
    "duration": 70,
    "start_time": "2022-07-11T19:22:14.422Z"
   },
   {
    "duration": 29,
    "start_time": "2022-07-11T19:22:34.598Z"
   },
   {
    "duration": 655,
    "start_time": "2022-07-11T19:22:49.716Z"
   },
   {
    "duration": 156,
    "start_time": "2022-07-11T19:23:15.176Z"
   },
   {
    "duration": 14,
    "start_time": "2022-07-11T19:23:53.486Z"
   },
   {
    "duration": 674,
    "start_time": "2022-07-11T19:24:32.379Z"
   },
   {
    "duration": 4,
    "start_time": "2022-07-11T19:30:29.391Z"
   },
   {
    "duration": 38,
    "start_time": "2022-07-11T19:30:29.397Z"
   },
   {
    "duration": 4,
    "start_time": "2022-07-11T19:30:29.436Z"
   },
   {
    "duration": 7,
    "start_time": "2022-07-11T19:30:29.441Z"
   },
   {
    "duration": 46,
    "start_time": "2022-07-11T19:30:29.449Z"
   },
   {
    "duration": 9,
    "start_time": "2022-07-11T19:30:29.496Z"
   },
   {
    "duration": 7,
    "start_time": "2022-07-11T19:30:29.506Z"
   },
   {
    "duration": 7,
    "start_time": "2022-07-11T19:30:29.514Z"
   },
   {
    "duration": 7,
    "start_time": "2022-07-11T19:30:29.522Z"
   },
   {
    "duration": 13,
    "start_time": "2022-07-11T19:30:29.530Z"
   },
   {
    "duration": 25,
    "start_time": "2022-07-11T19:30:29.545Z"
   },
   {
    "duration": 24,
    "start_time": "2022-07-11T19:30:29.575Z"
   },
   {
    "duration": 6,
    "start_time": "2022-07-11T19:30:29.602Z"
   },
   {
    "duration": 14,
    "start_time": "2022-07-11T19:30:29.609Z"
   },
   {
    "duration": 4,
    "start_time": "2022-07-11T19:30:29.625Z"
   },
   {
    "duration": 12,
    "start_time": "2022-07-11T19:30:29.630Z"
   },
   {
    "duration": 11,
    "start_time": "2022-07-11T19:30:29.643Z"
   },
   {
    "duration": 80,
    "start_time": "2022-07-11T19:30:29.657Z"
   },
   {
    "duration": 4,
    "start_time": "2022-07-11T19:30:29.739Z"
   },
   {
    "duration": 117,
    "start_time": "2022-07-11T19:30:29.744Z"
   },
   {
    "duration": 191,
    "start_time": "2022-07-11T19:30:29.862Z"
   },
   {
    "duration": 120,
    "start_time": "2022-07-11T19:30:30.062Z"
   },
   {
    "duration": 115,
    "start_time": "2022-07-11T19:30:30.184Z"
   },
   {
    "duration": 75,
    "start_time": "2022-07-11T19:30:30.301Z"
   },
   {
    "duration": 5,
    "start_time": "2022-07-11T19:30:30.380Z"
   },
   {
    "duration": 23,
    "start_time": "2022-07-11T19:30:30.387Z"
   },
   {
    "duration": 119,
    "start_time": "2022-07-11T19:30:30.411Z"
   },
   {
    "duration": 8,
    "start_time": "2022-07-11T19:30:30.532Z"
   },
   {
    "duration": 60520,
    "start_time": "2022-07-11T19:30:30.541Z"
   },
   {
    "duration": 21,
    "start_time": "2022-07-11T19:31:31.063Z"
   },
   {
    "duration": 77,
    "start_time": "2022-07-11T19:31:31.086Z"
   },
   {
    "duration": 380,
    "start_time": "2022-07-11T19:31:31.164Z"
   },
   {
    "duration": 25,
    "start_time": "2022-07-11T19:31:31.545Z"
   },
   {
    "duration": 1617,
    "start_time": "2022-07-11T19:31:31.571Z"
   },
   {
    "duration": 15,
    "start_time": "2022-07-11T19:31:33.191Z"
   },
   {
    "duration": 6,
    "start_time": "2022-07-11T19:31:33.208Z"
   },
   {
    "duration": 3,
    "start_time": "2022-07-11T19:31:33.219Z"
   },
   {
    "duration": 164,
    "start_time": "2022-07-11T19:31:33.224Z"
   },
   {
    "duration": 17,
    "start_time": "2022-07-11T19:31:33.390Z"
   },
   {
    "duration": 9,
    "start_time": "2022-07-11T19:31:33.409Z"
   },
   {
    "duration": 33,
    "start_time": "2022-07-11T19:31:33.422Z"
   },
   {
    "duration": 1018,
    "start_time": "2022-07-11T19:31:33.460Z"
   },
   {
    "duration": 280,
    "start_time": "2022-07-11T19:31:34.480Z"
   },
   {
    "duration": 15,
    "start_time": "2022-07-11T19:31:34.762Z"
   },
   {
    "duration": 35,
    "start_time": "2022-07-11T19:31:34.778Z"
   },
   {
    "duration": 541,
    "start_time": "2022-07-11T19:31:34.816Z"
   },
   {
    "duration": 259,
    "start_time": "2022-07-11T19:31:35.359Z"
   },
   {
    "duration": 78,
    "start_time": "2022-07-11T19:31:35.619Z"
   },
   {
    "duration": 15,
    "start_time": "2022-07-11T19:31:35.699Z"
   },
   {
    "duration": 538,
    "start_time": "2022-07-11T19:31:35.716Z"
   },
   {
    "duration": 112,
    "start_time": "2022-07-11T19:31:40.281Z"
   },
   {
    "duration": 21,
    "start_time": "2022-07-11T19:32:00.777Z"
   },
   {
    "duration": 593,
    "start_time": "2022-07-11T19:32:02.487Z"
   },
   {
    "duration": 83,
    "start_time": "2022-07-11T19:32:19.480Z"
   },
   {
    "duration": 27,
    "start_time": "2022-07-11T19:32:22.159Z"
   },
   {
    "duration": 14,
    "start_time": "2022-07-11T19:32:56.103Z"
   },
   {
    "duration": 61,
    "start_time": "2022-07-11T19:32:59.199Z"
   },
   {
    "duration": 11,
    "start_time": "2022-07-11T19:33:12.698Z"
   },
   {
    "duration": 11,
    "start_time": "2022-07-11T19:35:18.609Z"
   },
   {
    "duration": 98,
    "start_time": "2022-07-11T19:36:30.383Z"
   },
   {
    "duration": 124,
    "start_time": "2022-07-11T19:37:58.964Z"
   },
   {
    "duration": 21,
    "start_time": "2022-07-11T19:39:23.674Z"
   },
   {
    "duration": 95,
    "start_time": "2022-07-11T19:39:27.677Z"
   },
   {
    "duration": 19,
    "start_time": "2022-07-11T19:39:33.963Z"
   },
   {
    "duration": 144,
    "start_time": "2022-07-11T19:39:35.407Z"
   },
   {
    "duration": 1425,
    "start_time": "2022-07-11T19:43:17.615Z"
   },
   {
    "duration": 46,
    "start_time": "2022-07-11T19:43:19.042Z"
   },
   {
    "duration": 3,
    "start_time": "2022-07-11T19:43:19.090Z"
   },
   {
    "duration": 5,
    "start_time": "2022-07-11T19:43:19.095Z"
   },
   {
    "duration": 14,
    "start_time": "2022-07-11T19:43:19.102Z"
   },
   {
    "duration": 12,
    "start_time": "2022-07-11T19:43:19.117Z"
   },
   {
    "duration": 7,
    "start_time": "2022-07-11T19:43:19.131Z"
   },
   {
    "duration": 4,
    "start_time": "2022-07-11T19:43:19.140Z"
   },
   {
    "duration": 17,
    "start_time": "2022-07-11T19:43:19.146Z"
   },
   {
    "duration": 13,
    "start_time": "2022-07-11T19:43:19.168Z"
   },
   {
    "duration": 15,
    "start_time": "2022-07-11T19:43:19.183Z"
   },
   {
    "duration": 10,
    "start_time": "2022-07-11T19:43:19.199Z"
   },
   {
    "duration": 6,
    "start_time": "2022-07-11T19:43:19.210Z"
   },
   {
    "duration": 9,
    "start_time": "2022-07-11T19:43:19.217Z"
   },
   {
    "duration": 6,
    "start_time": "2022-07-11T19:43:19.227Z"
   },
   {
    "duration": 34,
    "start_time": "2022-07-11T19:43:19.235Z"
   },
   {
    "duration": 6,
    "start_time": "2022-07-11T19:43:19.271Z"
   },
   {
    "duration": 28,
    "start_time": "2022-07-11T19:43:19.278Z"
   },
   {
    "duration": 4,
    "start_time": "2022-07-11T19:43:19.307Z"
   },
   {
    "duration": 127,
    "start_time": "2022-07-11T19:43:19.313Z"
   },
   {
    "duration": 113,
    "start_time": "2022-07-11T19:43:19.442Z"
   },
   {
    "duration": 125,
    "start_time": "2022-07-11T19:43:19.556Z"
   },
   {
    "duration": 122,
    "start_time": "2022-07-11T19:43:19.682Z"
   },
   {
    "duration": 60,
    "start_time": "2022-07-11T19:43:19.805Z"
   },
   {
    "duration": 4,
    "start_time": "2022-07-11T19:43:19.867Z"
   },
   {
    "duration": 11,
    "start_time": "2022-07-11T19:43:19.873Z"
   },
   {
    "duration": 186,
    "start_time": "2022-07-11T19:43:19.885Z"
   },
   {
    "duration": 8,
    "start_time": "2022-07-11T19:43:20.075Z"
   },
   {
    "duration": 57577,
    "start_time": "2022-07-11T19:43:20.085Z"
   },
   {
    "duration": 7,
    "start_time": "2022-07-11T19:44:17.666Z"
   },
   {
    "duration": 193,
    "start_time": "2022-07-11T19:44:17.674Z"
   },
   {
    "duration": 268,
    "start_time": "2022-07-11T19:44:17.868Z"
   },
   {
    "duration": 31,
    "start_time": "2022-07-11T19:44:18.138Z"
   },
   {
    "duration": 1446,
    "start_time": "2022-07-11T19:44:18.173Z"
   },
   {
    "duration": 13,
    "start_time": "2022-07-11T19:44:19.621Z"
   },
   {
    "duration": 5,
    "start_time": "2022-07-11T19:44:19.635Z"
   },
   {
    "duration": 13,
    "start_time": "2022-07-11T19:44:19.652Z"
   },
   {
    "duration": 118,
    "start_time": "2022-07-11T19:44:19.669Z"
   },
   {
    "duration": 17,
    "start_time": "2022-07-11T19:44:19.789Z"
   },
   {
    "duration": 8,
    "start_time": "2022-07-11T19:44:19.807Z"
   },
   {
    "duration": 46,
    "start_time": "2022-07-11T19:44:19.816Z"
   },
   {
    "duration": 301,
    "start_time": "2022-07-11T19:44:19.868Z"
   },
   {
    "duration": 304,
    "start_time": "2022-07-11T19:44:20.177Z"
   },
   {
    "duration": 13,
    "start_time": "2022-07-11T19:44:20.483Z"
   },
   {
    "duration": 27,
    "start_time": "2022-07-11T19:44:20.497Z"
   },
   {
    "duration": 825,
    "start_time": "2022-07-11T19:44:20.526Z"
   },
   {
    "duration": 241,
    "start_time": "2022-07-11T19:44:21.357Z"
   },
   {
    "duration": 10,
    "start_time": "2022-07-11T19:44:21.599Z"
   },
   {
    "duration": 67,
    "start_time": "2022-07-11T19:44:21.611Z"
   },
   {
    "duration": 12,
    "start_time": "2022-07-11T19:44:21.679Z"
   },
   {
    "duration": 259,
    "start_time": "2022-07-11T19:44:21.692Z"
   },
   {
    "duration": 14,
    "start_time": "2022-07-11T19:44:21.953Z"
   },
   {
    "duration": 106,
    "start_time": "2022-07-11T19:44:21.971Z"
   },
   {
    "duration": 91,
    "start_time": "2022-07-11T19:44:22.078Z"
   },
   {
    "duration": 16,
    "start_time": "2022-07-11T19:44:22.171Z"
   },
   {
    "duration": 119,
    "start_time": "2022-07-11T19:44:22.188Z"
   },
   {
    "duration": 1649,
    "start_time": "2022-07-11T22:16:21.508Z"
   },
   {
    "duration": 56,
    "start_time": "2022-07-11T22:16:23.159Z"
   },
   {
    "duration": 3,
    "start_time": "2022-07-11T22:16:23.217Z"
   },
   {
    "duration": 29,
    "start_time": "2022-07-11T22:16:23.222Z"
   },
   {
    "duration": 24,
    "start_time": "2022-07-11T22:16:23.252Z"
   },
   {
    "duration": 26,
    "start_time": "2022-07-11T22:16:23.278Z"
   },
   {
    "duration": 18,
    "start_time": "2022-07-11T22:16:23.306Z"
   },
   {
    "duration": 17,
    "start_time": "2022-07-11T22:16:23.326Z"
   },
   {
    "duration": 28,
    "start_time": "2022-07-11T22:16:23.344Z"
   },
   {
    "duration": 20,
    "start_time": "2022-07-11T22:16:23.374Z"
   },
   {
    "duration": 36,
    "start_time": "2022-07-11T22:16:23.395Z"
   },
   {
    "duration": 20,
    "start_time": "2022-07-11T22:16:23.433Z"
   },
   {
    "duration": 18,
    "start_time": "2022-07-11T22:16:23.454Z"
   },
   {
    "duration": 27,
    "start_time": "2022-07-11T22:16:23.473Z"
   },
   {
    "duration": 12,
    "start_time": "2022-07-11T22:16:23.502Z"
   },
   {
    "duration": 35,
    "start_time": "2022-07-11T22:16:23.515Z"
   },
   {
    "duration": 10,
    "start_time": "2022-07-11T22:16:23.551Z"
   },
   {
    "duration": 46,
    "start_time": "2022-07-11T22:16:23.562Z"
   },
   {
    "duration": 4,
    "start_time": "2022-07-11T22:16:23.609Z"
   },
   {
    "duration": 129,
    "start_time": "2022-07-11T22:16:23.614Z"
   },
   {
    "duration": 119,
    "start_time": "2022-07-11T22:16:23.744Z"
   },
   {
    "duration": 119,
    "start_time": "2022-07-11T22:16:23.865Z"
   },
   {
    "duration": 107,
    "start_time": "2022-07-11T22:16:23.985Z"
   },
   {
    "duration": 60,
    "start_time": "2022-07-11T22:16:24.094Z"
   },
   {
    "duration": 4,
    "start_time": "2022-07-11T22:16:24.156Z"
   },
   {
    "duration": 21,
    "start_time": "2022-07-11T22:16:24.162Z"
   },
   {
    "duration": 188,
    "start_time": "2022-07-11T22:16:24.185Z"
   },
   {
    "duration": 8,
    "start_time": "2022-07-11T22:16:24.376Z"
   },
   {
    "duration": 25757,
    "start_time": "2022-07-11T22:16:24.386Z"
   },
   {
    "duration": 107,
    "start_time": "2022-07-11T22:16:50.148Z"
   },
   {
    "duration": 96,
    "start_time": "2022-07-11T22:16:50.258Z"
   },
   {
    "duration": 341,
    "start_time": "2022-07-11T22:16:50.356Z"
   },
   {
    "duration": 45,
    "start_time": "2022-07-11T22:16:50.699Z"
   },
   {
    "duration": 1430,
    "start_time": "2022-07-11T22:16:50.748Z"
   },
   {
    "duration": 15,
    "start_time": "2022-07-11T22:16:52.180Z"
   },
   {
    "duration": 8,
    "start_time": "2022-07-11T22:16:52.196Z"
   },
   {
    "duration": 4,
    "start_time": "2022-07-11T22:16:52.205Z"
   },
   {
    "duration": 140,
    "start_time": "2022-07-11T22:16:52.211Z"
   },
   {
    "duration": 19,
    "start_time": "2022-07-11T22:16:52.353Z"
   },
   {
    "duration": 9,
    "start_time": "2022-07-11T22:16:52.373Z"
   },
   {
    "duration": 29,
    "start_time": "2022-07-11T22:16:52.383Z"
   },
   {
    "duration": 328,
    "start_time": "2022-07-11T22:16:52.414Z"
   },
   {
    "duration": 208,
    "start_time": "2022-07-11T22:16:52.744Z"
   },
   {
    "duration": 13,
    "start_time": "2022-07-11T22:16:52.954Z"
   },
   {
    "duration": 28,
    "start_time": "2022-07-11T22:16:52.969Z"
   },
   {
    "duration": 358,
    "start_time": "2022-07-11T22:16:52.999Z"
   },
   {
    "duration": 252,
    "start_time": "2022-07-11T22:16:53.444Z"
   },
   {
    "duration": 10,
    "start_time": "2022-07-11T22:16:53.697Z"
   },
   {
    "duration": 59,
    "start_time": "2022-07-11T22:16:53.709Z"
   },
   {
    "duration": 13,
    "start_time": "2022-07-11T22:16:53.770Z"
   },
   {
    "duration": 66,
    "start_time": "2022-07-11T22:16:53.785Z"
   },
   {
    "duration": 102,
    "start_time": "2022-07-11T22:16:53.853Z"
   },
   {
    "duration": 13,
    "start_time": "2022-07-11T22:16:54.042Z"
   },
   {
    "duration": 103,
    "start_time": "2022-07-11T22:16:54.057Z"
   },
   {
    "duration": 19,
    "start_time": "2022-07-11T22:16:54.162Z"
   },
   {
    "duration": 130,
    "start_time": "2022-07-11T22:16:54.183Z"
   },
   {
    "duration": 1980,
    "start_time": "2022-07-12T19:00:14.164Z"
   },
   {
    "duration": 208,
    "start_time": "2022-07-12T19:00:16.147Z"
   },
   {
    "duration": 5,
    "start_time": "2022-07-12T19:00:16.357Z"
   },
   {
    "duration": 10,
    "start_time": "2022-07-12T19:00:16.364Z"
   },
   {
    "duration": 40,
    "start_time": "2022-07-12T19:00:16.377Z"
   },
   {
    "duration": 30,
    "start_time": "2022-07-12T19:00:16.419Z"
   },
   {
    "duration": 8,
    "start_time": "2022-07-12T19:00:16.451Z"
   },
   {
    "duration": 18,
    "start_time": "2022-07-12T19:00:16.461Z"
   },
   {
    "duration": 10,
    "start_time": "2022-07-12T19:00:16.481Z"
   },
   {
    "duration": 40,
    "start_time": "2022-07-12T19:00:16.493Z"
   },
   {
    "duration": 18,
    "start_time": "2022-07-12T19:00:16.537Z"
   },
   {
    "duration": 17,
    "start_time": "2022-07-12T19:00:16.556Z"
   },
   {
    "duration": 8,
    "start_time": "2022-07-12T19:00:16.575Z"
   },
   {
    "duration": 25,
    "start_time": "2022-07-12T19:00:16.586Z"
   },
   {
    "duration": 10,
    "start_time": "2022-07-12T19:00:16.621Z"
   },
   {
    "duration": 139,
    "start_time": "2022-07-12T19:00:55.153Z"
   },
   {
    "duration": 13,
    "start_time": "2022-07-12T19:01:26.559Z"
   },
   {
    "duration": 7,
    "start_time": "2022-07-12T19:01:29.186Z"
   },
   {
    "duration": 39,
    "start_time": "2022-07-12T19:02:26.225Z"
   },
   {
    "duration": 6,
    "start_time": "2022-07-12T19:02:36.996Z"
   },
   {
    "duration": 205,
    "start_time": "2022-07-12T19:02:39.051Z"
   },
   {
    "duration": 191,
    "start_time": "2022-07-12T19:02:42.677Z"
   },
   {
    "duration": 132,
    "start_time": "2022-07-12T19:02:45.339Z"
   },
   {
    "duration": 132,
    "start_time": "2022-07-12T19:02:48.043Z"
   },
   {
    "duration": 61,
    "start_time": "2022-07-12T19:03:02.312Z"
   },
   {
    "duration": 6,
    "start_time": "2022-07-12T19:03:04.290Z"
   },
   {
    "duration": 7,
    "start_time": "2022-07-12T19:03:05.021Z"
   },
   {
    "duration": 205,
    "start_time": "2022-07-12T19:03:10.826Z"
   },
   {
    "duration": 14,
    "start_time": "2022-07-12T19:03:14.201Z"
   },
   {
    "duration": 54146,
    "start_time": "2022-07-12T19:03:35.158Z"
   },
   {
    "duration": 6,
    "start_time": "2022-07-12T19:04:31.452Z"
   },
   {
    "duration": 18,
    "start_time": "2022-07-12T19:04:32.994Z"
   },
   {
    "duration": 262,
    "start_time": "2022-07-12T19:04:35.654Z"
   },
   {
    "duration": 33,
    "start_time": "2022-07-12T19:04:38.591Z"
   },
   {
    "duration": 1519,
    "start_time": "2022-07-12T19:04:40.844Z"
   },
   {
    "duration": 10,
    "start_time": "2022-07-12T19:04:44.841Z"
   },
   {
    "duration": 5,
    "start_time": "2022-07-12T19:04:46.471Z"
   },
   {
    "duration": 4,
    "start_time": "2022-07-12T19:05:03.256Z"
   },
   {
    "duration": 145,
    "start_time": "2022-07-12T19:05:12.083Z"
   },
   {
    "duration": 9828,
    "start_time": "2022-07-12T19:05:22.963Z"
   },
   {
    "duration": 34,
    "start_time": "2022-07-12T19:05:35.357Z"
   },
   {
    "duration": 7,
    "start_time": "2022-07-12T19:05:38.984Z"
   },
   {
    "duration": 10,
    "start_time": "2022-07-12T19:05:41.695Z"
   },
   {
    "duration": 172,
    "start_time": "2022-07-12T19:05:44.163Z"
   },
   {
    "duration": 32,
    "start_time": "2022-07-12T19:05:47.405Z"
   },
   {
    "duration": 12,
    "start_time": "2022-07-12T19:05:49.952Z"
   },
   {
    "duration": 27,
    "start_time": "2022-07-12T19:06:06.297Z"
   },
   {
    "duration": 485,
    "start_time": "2022-07-12T19:06:08.527Z"
   },
   {
    "duration": 153,
    "start_time": "2022-07-12T19:06:10.879Z"
   },
   {
    "duration": 6,
    "start_time": "2022-07-12T19:07:58.670Z"
   },
   {
    "duration": 70,
    "start_time": "2022-07-12T19:07:58.678Z"
   },
   {
    "duration": 4,
    "start_time": "2022-07-12T19:07:58.750Z"
   },
   {
    "duration": 12,
    "start_time": "2022-07-12T19:07:58.756Z"
   },
   {
    "duration": 17,
    "start_time": "2022-07-12T19:07:58.769Z"
   },
   {
    "duration": 9,
    "start_time": "2022-07-12T19:07:58.787Z"
   },
   {
    "duration": 16,
    "start_time": "2022-07-12T19:07:58.798Z"
   },
   {
    "duration": 17,
    "start_time": "2022-07-12T19:07:58.820Z"
   },
   {
    "duration": 7,
    "start_time": "2022-07-12T19:07:58.840Z"
   },
   {
    "duration": 10,
    "start_time": "2022-07-12T19:07:58.848Z"
   },
   {
    "duration": 12,
    "start_time": "2022-07-12T19:07:58.860Z"
   },
   {
    "duration": 35,
    "start_time": "2022-07-12T19:07:58.874Z"
   },
   {
    "duration": 37,
    "start_time": "2022-07-12T19:07:58.911Z"
   },
   {
    "duration": 14,
    "start_time": "2022-07-12T19:07:58.950Z"
   },
   {
    "duration": 9,
    "start_time": "2022-07-12T19:07:58.967Z"
   },
   {
    "duration": 25,
    "start_time": "2022-07-12T19:07:58.978Z"
   },
   {
    "duration": 32,
    "start_time": "2022-07-12T19:07:59.004Z"
   },
   {
    "duration": 33,
    "start_time": "2022-07-12T19:07:59.038Z"
   },
   {
    "duration": 4,
    "start_time": "2022-07-12T19:07:59.073Z"
   },
   {
    "duration": 152,
    "start_time": "2022-07-12T19:07:59.079Z"
   },
   {
    "duration": 141,
    "start_time": "2022-07-12T19:07:59.233Z"
   },
   {
    "duration": 143,
    "start_time": "2022-07-12T19:07:59.377Z"
   },
   {
    "duration": 158,
    "start_time": "2022-07-12T19:07:59.522Z"
   },
   {
    "duration": 79,
    "start_time": "2022-07-12T19:07:59.684Z"
   },
   {
    "duration": 6,
    "start_time": "2022-07-12T19:07:59.765Z"
   },
   {
    "duration": 10,
    "start_time": "2022-07-12T19:07:59.773Z"
   },
   {
    "duration": 175,
    "start_time": "2022-07-12T19:08:08.674Z"
   },
   {
    "duration": 6,
    "start_time": "2022-07-12T19:09:59.280Z"
   },
   {
    "duration": 132,
    "start_time": "2022-07-12T19:10:33.761Z"
   },
   {
    "duration": 4,
    "start_time": "2022-07-12T19:12:58.541Z"
   },
   {
    "duration": 181,
    "start_time": "2022-07-12T19:13:23.174Z"
   },
   {
    "duration": 13,
    "start_time": "2022-07-12T19:13:47.626Z"
   },
   {
    "duration": 169,
    "start_time": "2022-07-12T19:13:49.562Z"
   },
   {
    "duration": 165,
    "start_time": "2022-07-12T19:14:34.074Z"
   },
   {
    "duration": 144,
    "start_time": "2022-07-12T19:14:47.790Z"
   },
   {
    "duration": 29,
    "start_time": "2022-07-12T19:14:51.906Z"
   },
   {
    "duration": 4,
    "start_time": "2022-07-12T19:15:23.664Z"
   },
   {
    "duration": 10,
    "start_time": "2022-07-12T19:15:26.454Z"
   },
   {
    "duration": 16,
    "start_time": "2022-07-12T19:16:07.116Z"
   },
   {
    "duration": 172,
    "start_time": "2022-07-12T19:16:18.856Z"
   },
   {
    "duration": 481,
    "start_time": "2022-07-12T19:18:01.422Z"
   },
   {
    "duration": 187,
    "start_time": "2022-07-12T19:18:12.161Z"
   },
   {
    "duration": 271,
    "start_time": "2022-07-12T19:18:17.155Z"
   },
   {
    "duration": 199,
    "start_time": "2022-07-12T19:18:38.422Z"
   },
   {
    "duration": 10,
    "start_time": "2022-07-12T19:18:41.989Z"
   },
   {
    "duration": 6,
    "start_time": "2022-07-12T19:20:30.154Z"
   },
   {
    "duration": 78,
    "start_time": "2022-07-12T19:20:30.162Z"
   },
   {
    "duration": 5,
    "start_time": "2022-07-12T19:20:30.242Z"
   },
   {
    "duration": 39,
    "start_time": "2022-07-12T19:20:30.249Z"
   },
   {
    "duration": 57,
    "start_time": "2022-07-12T19:20:30.292Z"
   },
   {
    "duration": 13,
    "start_time": "2022-07-12T19:20:30.351Z"
   },
   {
    "duration": 29,
    "start_time": "2022-07-12T19:20:30.367Z"
   },
   {
    "duration": 25,
    "start_time": "2022-07-12T19:20:30.402Z"
   },
   {
    "duration": 25,
    "start_time": "2022-07-12T19:20:30.429Z"
   },
   {
    "duration": 81,
    "start_time": "2022-07-12T19:20:30.456Z"
   },
   {
    "duration": 37,
    "start_time": "2022-07-12T19:20:30.539Z"
   },
   {
    "duration": 48,
    "start_time": "2022-07-12T19:20:30.578Z"
   },
   {
    "duration": 30,
    "start_time": "2022-07-12T19:20:30.629Z"
   },
   {
    "duration": 29,
    "start_time": "2022-07-12T19:20:30.661Z"
   },
   {
    "duration": 30,
    "start_time": "2022-07-12T19:20:30.692Z"
   },
   {
    "duration": 54,
    "start_time": "2022-07-12T19:20:30.724Z"
   },
   {
    "duration": 19,
    "start_time": "2022-07-12T19:20:30.780Z"
   },
   {
    "duration": 78,
    "start_time": "2022-07-12T19:20:30.803Z"
   },
   {
    "duration": 5,
    "start_time": "2022-07-12T19:20:30.884Z"
   },
   {
    "duration": 172,
    "start_time": "2022-07-12T19:20:30.892Z"
   },
   {
    "duration": 153,
    "start_time": "2022-07-12T19:20:31.066Z"
   },
   {
    "duration": 140,
    "start_time": "2022-07-12T19:20:31.221Z"
   },
   {
    "duration": 188,
    "start_time": "2022-07-12T19:20:31.363Z"
   },
   {
    "duration": 63,
    "start_time": "2022-07-12T19:20:36.418Z"
   },
   {
    "duration": 5,
    "start_time": "2022-07-12T19:21:46.118Z"
   },
   {
    "duration": 54,
    "start_time": "2022-07-12T19:21:46.126Z"
   },
   {
    "duration": 4,
    "start_time": "2022-07-12T19:21:46.183Z"
   },
   {
    "duration": 9,
    "start_time": "2022-07-12T19:21:46.189Z"
   },
   {
    "duration": 34,
    "start_time": "2022-07-12T19:21:46.201Z"
   },
   {
    "duration": 9,
    "start_time": "2022-07-12T19:21:46.237Z"
   },
   {
    "duration": 8,
    "start_time": "2022-07-12T19:21:46.249Z"
   },
   {
    "duration": 7,
    "start_time": "2022-07-12T19:21:46.259Z"
   },
   {
    "duration": 7,
    "start_time": "2022-07-12T19:21:46.270Z"
   },
   {
    "duration": 27,
    "start_time": "2022-07-12T19:21:46.279Z"
   },
   {
    "duration": 19,
    "start_time": "2022-07-12T19:21:46.313Z"
   },
   {
    "duration": 13,
    "start_time": "2022-07-12T19:21:46.335Z"
   },
   {
    "duration": 9,
    "start_time": "2022-07-12T19:21:46.351Z"
   },
   {
    "duration": 53,
    "start_time": "2022-07-12T19:21:46.363Z"
   },
   {
    "duration": 22,
    "start_time": "2022-07-12T19:21:46.418Z"
   },
   {
    "duration": 13,
    "start_time": "2022-07-12T19:21:46.443Z"
   },
   {
    "duration": 6,
    "start_time": "2022-07-12T19:21:46.459Z"
   },
   {
    "duration": 47,
    "start_time": "2022-07-12T19:21:46.468Z"
   },
   {
    "duration": 6,
    "start_time": "2022-07-12T19:21:46.517Z"
   },
   {
    "duration": 155,
    "start_time": "2022-07-12T19:21:46.525Z"
   },
   {
    "duration": 184,
    "start_time": "2022-07-12T19:21:46.682Z"
   },
   {
    "duration": 162,
    "start_time": "2022-07-12T19:21:46.868Z"
   },
   {
    "duration": 159,
    "start_time": "2022-07-12T19:21:47.032Z"
   },
   {
    "duration": 16,
    "start_time": "2022-07-12T19:21:47.196Z"
   },
   {
    "duration": 25,
    "start_time": "2022-07-12T19:21:47.216Z"
   },
   {
    "duration": 197,
    "start_time": "2022-07-12T19:21:52.165Z"
   },
   {
    "duration": 56394,
    "start_time": "2022-07-12T19:22:32.514Z"
   },
   {
    "duration": 9703,
    "start_time": "2022-07-12T19:23:58.962Z"
   },
   {
    "duration": 18,
    "start_time": "2022-07-12T19:24:21.586Z"
   },
   {
    "duration": 342,
    "start_time": "2022-07-12T19:25:14.026Z"
   },
   {
    "duration": 268,
    "start_time": "2022-07-12T19:25:29.647Z"
   },
   {
    "duration": 286,
    "start_time": "2022-07-12T19:26:18.427Z"
   },
   {
    "duration": 33518,
    "start_time": "2022-07-12T19:27:32.015Z"
   },
   {
    "duration": 9353,
    "start_time": "2022-07-12T19:28:52.459Z"
   },
   {
    "duration": 25,
    "start_time": "2022-07-12T19:31:01.578Z"
   },
   {
    "duration": 318,
    "start_time": "2022-07-12T19:31:05.483Z"
   },
   {
    "duration": 261,
    "start_time": "2022-07-12T19:31:31.616Z"
   },
   {
    "duration": 280,
    "start_time": "2022-07-12T19:32:13.841Z"
   },
   {
    "duration": 231,
    "start_time": "2022-07-12T19:32:41.478Z"
   },
   {
    "duration": 30797,
    "start_time": "2022-07-12T19:32:57.713Z"
   },
   {
    "duration": 9520,
    "start_time": "2022-07-12T19:33:33.810Z"
   },
   {
    "duration": 260,
    "start_time": "2022-07-12T19:35:27.551Z"
   },
   {
    "duration": 37642,
    "start_time": "2022-07-12T19:35:59.864Z"
   },
   {
    "duration": 9957,
    "start_time": "2022-07-12T19:36:55.741Z"
   },
   {
    "duration": 274,
    "start_time": "2022-07-12T19:38:53.853Z"
   },
   {
    "duration": 28,
    "start_time": "2022-07-12T19:39:33.790Z"
   },
   {
    "duration": 5,
    "start_time": "2022-07-12T19:39:42.387Z"
   },
   {
    "duration": 49,
    "start_time": "2022-07-12T19:39:42.395Z"
   },
   {
    "duration": 3,
    "start_time": "2022-07-12T19:39:42.446Z"
   },
   {
    "duration": 8,
    "start_time": "2022-07-12T19:39:42.451Z"
   },
   {
    "duration": 14,
    "start_time": "2022-07-12T19:39:42.462Z"
   },
   {
    "duration": 9,
    "start_time": "2022-07-12T19:39:42.478Z"
   },
   {
    "duration": 9,
    "start_time": "2022-07-12T19:39:42.498Z"
   },
   {
    "duration": 8,
    "start_time": "2022-07-12T19:39:42.508Z"
   },
   {
    "duration": 10,
    "start_time": "2022-07-12T19:39:42.518Z"
   },
   {
    "duration": 12,
    "start_time": "2022-07-12T19:39:42.530Z"
   },
   {
    "duration": 15,
    "start_time": "2022-07-12T19:39:42.544Z"
   },
   {
    "duration": 47,
    "start_time": "2022-07-12T19:39:42.561Z"
   },
   {
    "duration": 6,
    "start_time": "2022-07-12T19:39:42.610Z"
   },
   {
    "duration": 14,
    "start_time": "2022-07-12T19:39:42.619Z"
   },
   {
    "duration": 4,
    "start_time": "2022-07-12T19:39:42.635Z"
   },
   {
    "duration": 15,
    "start_time": "2022-07-12T19:39:42.641Z"
   },
   {
    "duration": 5,
    "start_time": "2022-07-12T19:39:42.659Z"
   },
   {
    "duration": 31,
    "start_time": "2022-07-12T19:39:42.699Z"
   },
   {
    "duration": 5,
    "start_time": "2022-07-12T19:39:42.732Z"
   },
   {
    "duration": 172,
    "start_time": "2022-07-12T19:39:42.738Z"
   },
   {
    "duration": 140,
    "start_time": "2022-07-12T19:39:42.912Z"
   },
   {
    "duration": 262,
    "start_time": "2022-07-12T19:39:43.054Z"
   },
   {
    "duration": 140,
    "start_time": "2022-07-12T19:39:43.318Z"
   },
   {
    "duration": 5,
    "start_time": "2022-07-12T19:39:43.460Z"
   },
   {
    "duration": 12,
    "start_time": "2022-07-12T19:39:43.467Z"
   },
   {
    "duration": 222,
    "start_time": "2022-07-12T19:39:43.481Z"
   },
   {
    "duration": 21292,
    "start_time": "2022-07-12T19:39:43.705Z"
   },
   {
    "duration": 9522,
    "start_time": "2022-07-12T19:40:05.000Z"
   },
   {
    "duration": 10,
    "start_time": "2022-07-12T19:40:14.524Z"
   },
   {
    "duration": 236,
    "start_time": "2022-07-12T19:40:14.536Z"
   },
   {
    "duration": 20746,
    "start_time": "2022-07-12T19:40:14.774Z"
   },
   {
    "duration": 9422,
    "start_time": "2022-07-12T19:40:35.526Z"
   },
   {
    "duration": 20,
    "start_time": "2022-07-12T19:40:44.950Z"
   },
   {
    "duration": 29,
    "start_time": "2022-07-12T19:40:48.492Z"
   },
   {
    "duration": 225,
    "start_time": "2022-07-12T19:42:22.499Z"
   },
   {
    "duration": 5,
    "start_time": "2022-07-12T19:43:21.016Z"
   },
   {
    "duration": 45,
    "start_time": "2022-07-12T19:43:21.024Z"
   },
   {
    "duration": 3,
    "start_time": "2022-07-12T19:43:21.071Z"
   },
   {
    "duration": 9,
    "start_time": "2022-07-12T19:43:21.076Z"
   },
   {
    "duration": 18,
    "start_time": "2022-07-12T19:43:21.087Z"
   },
   {
    "duration": 14,
    "start_time": "2022-07-12T19:43:21.107Z"
   },
   {
    "duration": 8,
    "start_time": "2022-07-12T19:43:21.123Z"
   },
   {
    "duration": 9,
    "start_time": "2022-07-12T19:43:21.133Z"
   },
   {
    "duration": 9,
    "start_time": "2022-07-12T19:43:21.145Z"
   },
   {
    "duration": 48,
    "start_time": "2022-07-12T19:43:21.155Z"
   },
   {
    "duration": 14,
    "start_time": "2022-07-12T19:43:21.206Z"
   },
   {
    "duration": 16,
    "start_time": "2022-07-12T19:43:21.222Z"
   },
   {
    "duration": 7,
    "start_time": "2022-07-12T19:43:21.240Z"
   },
   {
    "duration": 15,
    "start_time": "2022-07-12T19:43:21.249Z"
   },
   {
    "duration": 5,
    "start_time": "2022-07-12T19:43:21.299Z"
   },
   {
    "duration": 25,
    "start_time": "2022-07-12T19:43:21.307Z"
   },
   {
    "duration": 7,
    "start_time": "2022-07-12T19:43:21.335Z"
   },
   {
    "duration": 33,
    "start_time": "2022-07-12T19:43:21.343Z"
   },
   {
    "duration": 5,
    "start_time": "2022-07-12T19:43:21.398Z"
   },
   {
    "duration": 146,
    "start_time": "2022-07-12T19:43:21.405Z"
   },
   {
    "duration": 154,
    "start_time": "2022-07-12T19:43:21.553Z"
   },
   {
    "duration": 152,
    "start_time": "2022-07-12T19:43:21.709Z"
   },
   {
    "duration": 142,
    "start_time": "2022-07-12T19:43:21.863Z"
   },
   {
    "duration": 4,
    "start_time": "2022-07-12T19:43:22.007Z"
   },
   {
    "duration": 6,
    "start_time": "2022-07-12T19:43:22.013Z"
   },
   {
    "duration": 216,
    "start_time": "2022-07-12T19:43:22.021Z"
   },
   {
    "duration": 20587,
    "start_time": "2022-07-12T19:43:22.239Z"
   },
   {
    "duration": 9770,
    "start_time": "2022-07-12T19:43:42.828Z"
   },
   {
    "duration": 13,
    "start_time": "2022-07-12T19:43:52.603Z"
   },
   {
    "duration": 213,
    "start_time": "2022-07-12T19:43:58.416Z"
   },
   {
    "duration": 18195,
    "start_time": "2022-07-12T19:44:51.921Z"
   },
   {
    "duration": 9958,
    "start_time": "2022-07-12T19:45:10.119Z"
   },
   {
    "duration": 16,
    "start_time": "2022-07-12T19:45:29.082Z"
   },
   {
    "duration": 29,
    "start_time": "2022-07-12T19:45:31.576Z"
   },
   {
    "duration": 243,
    "start_time": "2022-07-12T19:45:35.072Z"
   },
   {
    "duration": 20402,
    "start_time": "2022-07-12T19:47:42.113Z"
   },
   {
    "duration": 45097,
    "start_time": "2022-07-12T19:48:44.502Z"
   },
   {
    "duration": 9855,
    "start_time": "2022-07-12T19:50:38.568Z"
   },
   {
    "duration": 9910,
    "start_time": "2022-07-12T19:50:59.054Z"
   },
   {
    "duration": 211,
    "start_time": "2022-07-12T19:51:48.019Z"
   },
   {
    "duration": 54654,
    "start_time": "2022-07-12T19:52:09.155Z"
   },
   {
    "duration": 10102,
    "start_time": "2022-07-12T19:53:03.811Z"
   },
   {
    "duration": 13,
    "start_time": "2022-07-12T19:53:33.373Z"
   },
   {
    "duration": 255,
    "start_time": "2022-07-12T19:53:51.323Z"
   },
   {
    "duration": 68254,
    "start_time": "2022-07-12T19:53:56.050Z"
   },
   {
    "duration": 10377,
    "start_time": "2022-07-12T19:55:04.311Z"
   },
   {
    "duration": 15,
    "start_time": "2022-07-12T19:59:43.321Z"
   },
   {
    "duration": 84,
    "start_time": "2022-07-12T19:59:48.690Z"
   },
   {
    "duration": 9896,
    "start_time": "2022-07-12T20:00:58.218Z"
   },
   {
    "duration": 6,
    "start_time": "2022-07-12T20:02:15.880Z"
   },
   {
    "duration": 57,
    "start_time": "2022-07-12T20:02:15.891Z"
   },
   {
    "duration": 5,
    "start_time": "2022-07-12T20:02:15.950Z"
   },
   {
    "duration": 10,
    "start_time": "2022-07-12T20:02:15.957Z"
   },
   {
    "duration": 20,
    "start_time": "2022-07-12T20:02:15.969Z"
   },
   {
    "duration": 45,
    "start_time": "2022-07-12T20:02:15.992Z"
   },
   {
    "duration": 9,
    "start_time": "2022-07-12T20:02:16.039Z"
   },
   {
    "duration": 5,
    "start_time": "2022-07-12T20:02:16.051Z"
   },
   {
    "duration": 12,
    "start_time": "2022-07-12T20:02:16.058Z"
   },
   {
    "duration": 13,
    "start_time": "2022-07-12T20:02:16.072Z"
   },
   {
    "duration": 35,
    "start_time": "2022-07-12T20:02:16.087Z"
   },
   {
    "duration": 19,
    "start_time": "2022-07-12T20:02:16.125Z"
   },
   {
    "duration": 8,
    "start_time": "2022-07-12T20:02:16.147Z"
   },
   {
    "duration": 13,
    "start_time": "2022-07-12T20:02:16.158Z"
   },
   {
    "duration": 5,
    "start_time": "2022-07-12T20:02:16.173Z"
   },
   {
    "duration": 53,
    "start_time": "2022-07-12T20:02:16.180Z"
   },
   {
    "duration": 5,
    "start_time": "2022-07-12T20:02:16.235Z"
   },
   {
    "duration": 33,
    "start_time": "2022-07-12T20:02:16.241Z"
   },
   {
    "duration": 4,
    "start_time": "2022-07-12T20:02:16.276Z"
   },
   {
    "duration": 183,
    "start_time": "2022-07-12T20:02:16.282Z"
   },
   {
    "duration": 162,
    "start_time": "2022-07-12T20:02:16.467Z"
   },
   {
    "duration": 155,
    "start_time": "2022-07-12T20:02:16.631Z"
   },
   {
    "duration": 205,
    "start_time": "2022-07-12T20:02:16.790Z"
   },
   {
    "duration": 9,
    "start_time": "2022-07-12T20:02:16.999Z"
   },
   {
    "duration": 33,
    "start_time": "2022-07-12T20:02:17.010Z"
   },
   {
    "duration": 300,
    "start_time": "2022-07-12T20:02:17.046Z"
   },
   {
    "duration": 51292,
    "start_time": "2022-07-12T20:02:17.348Z"
   },
   {
    "duration": 10080,
    "start_time": "2022-07-12T20:03:08.643Z"
   },
   {
    "duration": 14,
    "start_time": "2022-07-12T20:03:18.725Z"
   },
   {
    "duration": 242,
    "start_time": "2022-07-12T20:03:18.741Z"
   },
   {
    "duration": 36018,
    "start_time": "2022-07-12T20:03:18.985Z"
   },
   {
    "duration": 11117,
    "start_time": "2022-07-12T20:03:55.008Z"
   },
   {
    "duration": 20,
    "start_time": "2022-07-12T20:04:06.127Z"
   },
   {
    "duration": 261,
    "start_time": "2022-07-12T20:04:06.149Z"
   },
   {
    "duration": 53488,
    "start_time": "2022-07-12T20:04:06.412Z"
   },
   {
    "duration": 13732,
    "start_time": "2022-07-12T20:04:59.906Z"
   },
   {
    "duration": 18,
    "start_time": "2022-07-12T20:08:10.820Z"
   },
   {
    "duration": 5379,
    "start_time": "2022-07-12T20:08:14.849Z"
   },
   {
    "duration": 246,
    "start_time": "2022-07-12T20:09:31.683Z"
   },
   {
    "duration": 200,
    "start_time": "2022-07-12T20:09:50.028Z"
   },
   {
    "duration": 46742,
    "start_time": "2022-07-12T20:11:05.390Z"
   },
   {
    "duration": 12,
    "start_time": "2022-07-12T20:12:00.937Z"
   },
   {
    "duration": 41,
    "start_time": "2022-07-12T20:15:08.575Z"
   },
   {
    "duration": 333,
    "start_time": "2022-07-12T20:15:54.749Z"
   },
   {
    "duration": 160,
    "start_time": "2022-07-12T20:18:07.254Z"
   },
   {
    "duration": 1556,
    "start_time": "2022-07-12T20:19:27.350Z"
   },
   {
    "duration": 50,
    "start_time": "2022-07-12T20:19:28.915Z"
   },
   {
    "duration": 4,
    "start_time": "2022-07-12T20:19:28.967Z"
   },
   {
    "duration": 13,
    "start_time": "2022-07-12T20:19:28.974Z"
   },
   {
    "duration": 19,
    "start_time": "2022-07-12T20:19:28.990Z"
   },
   {
    "duration": 29,
    "start_time": "2022-07-12T20:19:29.011Z"
   },
   {
    "duration": 9,
    "start_time": "2022-07-12T20:19:29.042Z"
   },
   {
    "duration": 7,
    "start_time": "2022-07-12T20:19:29.053Z"
   },
   {
    "duration": 14,
    "start_time": "2022-07-12T20:19:29.062Z"
   },
   {
    "duration": 21,
    "start_time": "2022-07-12T20:19:29.097Z"
   },
   {
    "duration": 21,
    "start_time": "2022-07-12T20:19:29.121Z"
   },
   {
    "duration": 18,
    "start_time": "2022-07-12T20:19:29.144Z"
   },
   {
    "duration": 7,
    "start_time": "2022-07-12T20:19:29.165Z"
   },
   {
    "duration": 30,
    "start_time": "2022-07-12T20:19:29.201Z"
   },
   {
    "duration": 4,
    "start_time": "2022-07-12T20:19:29.233Z"
   },
   {
    "duration": 16,
    "start_time": "2022-07-12T20:19:29.239Z"
   },
   {
    "duration": 5,
    "start_time": "2022-07-12T20:19:29.257Z"
   },
   {
    "duration": 51,
    "start_time": "2022-07-12T20:19:29.264Z"
   },
   {
    "duration": 4,
    "start_time": "2022-07-12T20:19:29.317Z"
   },
   {
    "duration": 160,
    "start_time": "2022-07-12T20:19:29.323Z"
   },
   {
    "duration": 149,
    "start_time": "2022-07-12T20:19:29.485Z"
   },
   {
    "duration": 148,
    "start_time": "2022-07-12T20:19:29.636Z"
   },
   {
    "duration": 151,
    "start_time": "2022-07-12T20:19:29.786Z"
   },
   {
    "duration": 6,
    "start_time": "2022-07-12T20:19:29.939Z"
   },
   {
    "duration": 6,
    "start_time": "2022-07-12T20:19:29.947Z"
   },
   {
    "duration": 301,
    "start_time": "2022-07-12T20:19:29.955Z"
   },
   {
    "duration": 45050,
    "start_time": "2022-07-12T20:19:30.258Z"
   },
   {
    "duration": 9866,
    "start_time": "2022-07-12T20:20:15.319Z"
   },
   {
    "duration": 21,
    "start_time": "2022-07-12T20:20:25.188Z"
   },
   {
    "duration": 261,
    "start_time": "2022-07-12T20:20:25.211Z"
   },
   {
    "duration": 35348,
    "start_time": "2022-07-12T20:20:25.474Z"
   },
   {
    "duration": 9766,
    "start_time": "2022-07-12T20:21:00.824Z"
   },
   {
    "duration": 18,
    "start_time": "2022-07-12T20:21:10.598Z"
   },
   {
    "duration": 247,
    "start_time": "2022-07-12T20:21:10.619Z"
   },
   {
    "duration": 51165,
    "start_time": "2022-07-12T20:21:10.867Z"
   },
   {
    "duration": 13143,
    "start_time": "2022-07-12T20:22:02.034Z"
   },
   {
    "duration": 31,
    "start_time": "2022-07-12T20:22:15.180Z"
   },
   {
    "duration": 5604,
    "start_time": "2022-07-12T20:22:15.214Z"
   },
   {
    "duration": 201,
    "start_time": "2022-07-12T20:22:20.820Z"
   },
   {
    "duration": 141,
    "start_time": "2022-07-12T20:22:21.023Z"
   },
   {
    "duration": 0,
    "start_time": "2022-07-12T20:22:21.167Z"
   },
   {
    "duration": 0,
    "start_time": "2022-07-12T20:22:21.169Z"
   },
   {
    "duration": 0,
    "start_time": "2022-07-12T20:22:21.170Z"
   },
   {
    "duration": 0,
    "start_time": "2022-07-12T20:22:21.171Z"
   },
   {
    "duration": 1589,
    "start_time": "2022-07-12T20:22:51.054Z"
   },
   {
    "duration": 41,
    "start_time": "2022-07-12T20:22:52.646Z"
   },
   {
    "duration": 4,
    "start_time": "2022-07-12T20:22:52.690Z"
   },
   {
    "duration": 25,
    "start_time": "2022-07-12T20:22:52.697Z"
   },
   {
    "duration": 21,
    "start_time": "2022-07-12T20:22:52.724Z"
   },
   {
    "duration": 12,
    "start_time": "2022-07-12T20:22:52.747Z"
   },
   {
    "duration": 12,
    "start_time": "2022-07-12T20:22:52.761Z"
   },
   {
    "duration": 10,
    "start_time": "2022-07-12T20:22:52.775Z"
   },
   {
    "duration": 25,
    "start_time": "2022-07-12T20:22:52.787Z"
   },
   {
    "duration": 16,
    "start_time": "2022-07-12T20:22:52.817Z"
   },
   {
    "duration": 17,
    "start_time": "2022-07-12T20:22:52.835Z"
   },
   {
    "duration": 14,
    "start_time": "2022-07-12T20:22:52.854Z"
   },
   {
    "duration": 8,
    "start_time": "2022-07-12T20:22:52.870Z"
   },
   {
    "duration": 35,
    "start_time": "2022-07-12T20:22:52.880Z"
   },
   {
    "duration": 9,
    "start_time": "2022-07-12T20:22:52.917Z"
   },
   {
    "duration": 22,
    "start_time": "2022-07-12T20:22:52.928Z"
   },
   {
    "duration": 8,
    "start_time": "2022-07-12T20:22:52.953Z"
   },
   {
    "duration": 58,
    "start_time": "2022-07-12T20:22:52.963Z"
   },
   {
    "duration": 6,
    "start_time": "2022-07-12T20:22:53.024Z"
   },
   {
    "duration": 162,
    "start_time": "2022-07-12T20:22:53.032Z"
   },
   {
    "duration": 211,
    "start_time": "2022-07-12T20:22:53.197Z"
   },
   {
    "duration": 149,
    "start_time": "2022-07-12T20:22:53.413Z"
   },
   {
    "duration": 157,
    "start_time": "2022-07-12T20:22:53.563Z"
   },
   {
    "duration": 5,
    "start_time": "2022-07-12T20:22:53.722Z"
   },
   {
    "duration": 9,
    "start_time": "2022-07-12T20:22:53.728Z"
   },
   {
    "duration": 313,
    "start_time": "2022-07-12T20:22:53.749Z"
   },
   {
    "duration": 51554,
    "start_time": "2022-07-12T20:22:54.064Z"
   },
   {
    "duration": 10338,
    "start_time": "2022-07-12T20:23:45.623Z"
   },
   {
    "duration": 10,
    "start_time": "2022-07-12T20:23:55.963Z"
   },
   {
    "duration": 248,
    "start_time": "2022-07-12T20:23:55.977Z"
   },
   {
    "duration": 29003,
    "start_time": "2022-07-12T20:23:56.226Z"
   },
   {
    "duration": 9949,
    "start_time": "2022-07-12T20:24:25.297Z"
   },
   {
    "duration": 19,
    "start_time": "2022-07-12T20:24:35.248Z"
   },
   {
    "duration": 262,
    "start_time": "2022-07-12T20:24:35.271Z"
   },
   {
    "duration": 46070,
    "start_time": "2022-07-12T20:24:35.536Z"
   },
   {
    "duration": 13039,
    "start_time": "2022-07-12T20:25:21.609Z"
   },
   {
    "duration": 14,
    "start_time": "2022-07-12T20:25:34.650Z"
   },
   {
    "duration": 5266,
    "start_time": "2022-07-12T20:25:34.667Z"
   },
   {
    "duration": 203,
    "start_time": "2022-07-12T20:25:39.935Z"
   },
   {
    "duration": 44082,
    "start_time": "2022-07-12T20:25:40.139Z"
   },
   {
    "duration": 92,
    "start_time": "2022-07-12T20:26:24.224Z"
   },
   {
    "duration": 313,
    "start_time": "2022-07-12T20:26:24.319Z"
   },
   {
    "duration": 196,
    "start_time": "2022-07-12T20:26:24.633Z"
   },
   {
    "duration": 54,
    "start_time": "2022-07-13T18:24:45.111Z"
   },
   {
    "duration": 11,
    "start_time": "2022-07-13T18:25:08.433Z"
   },
   {
    "duration": 1959,
    "start_time": "2022-07-13T18:25:16.316Z"
   },
   {
    "duration": 175,
    "start_time": "2022-07-13T18:25:18.278Z"
   },
   {
    "duration": 4,
    "start_time": "2022-07-13T18:25:18.455Z"
   },
   {
    "duration": 13,
    "start_time": "2022-07-13T18:25:18.461Z"
   },
   {
    "duration": 16,
    "start_time": "2022-07-13T18:25:18.477Z"
   },
   {
    "duration": 19,
    "start_time": "2022-07-13T18:25:18.495Z"
   },
   {
    "duration": 18,
    "start_time": "2022-07-13T18:25:18.517Z"
   },
   {
    "duration": 5,
    "start_time": "2022-07-13T18:25:18.537Z"
   },
   {
    "duration": 15,
    "start_time": "2022-07-13T18:25:18.543Z"
   },
   {
    "duration": 12,
    "start_time": "2022-07-13T18:25:18.559Z"
   },
   {
    "duration": 38,
    "start_time": "2022-07-13T18:25:18.573Z"
   },
   {
    "duration": 18,
    "start_time": "2022-07-13T18:25:18.614Z"
   },
   {
    "duration": 8,
    "start_time": "2022-07-13T18:25:18.634Z"
   },
   {
    "duration": 11,
    "start_time": "2022-07-13T18:25:18.645Z"
   },
   {
    "duration": 4,
    "start_time": "2022-07-13T18:25:18.658Z"
   },
   {
    "duration": 21,
    "start_time": "2022-07-13T18:25:18.703Z"
   },
   {
    "duration": 6,
    "start_time": "2022-07-13T18:25:18.726Z"
   },
   {
    "duration": 30,
    "start_time": "2022-07-13T18:25:18.734Z"
   },
   {
    "duration": 4,
    "start_time": "2022-07-13T18:25:18.766Z"
   },
   {
    "duration": 166,
    "start_time": "2022-07-13T18:25:18.801Z"
   },
   {
    "duration": 156,
    "start_time": "2022-07-13T18:25:18.969Z"
   },
   {
    "duration": 148,
    "start_time": "2022-07-13T18:25:19.127Z"
   },
   {
    "duration": 141,
    "start_time": "2022-07-13T18:25:19.277Z"
   },
   {
    "duration": 5,
    "start_time": "2022-07-13T18:25:19.420Z"
   },
   {
    "duration": 9,
    "start_time": "2022-07-13T18:25:19.427Z"
   },
   {
    "duration": 292,
    "start_time": "2022-07-13T18:25:24.180Z"
   },
   {
    "duration": 215,
    "start_time": "2022-07-13T18:25:51.445Z"
   },
   {
    "duration": 239,
    "start_time": "2022-07-13T18:25:56.826Z"
   },
   {
    "duration": 216,
    "start_time": "2022-07-13T18:26:18.574Z"
   },
   {
    "duration": 83160,
    "start_time": "2022-07-13T18:27:25.944Z"
   },
   {
    "duration": 10788,
    "start_time": "2022-07-13T18:29:30.335Z"
   },
   {
    "duration": 106,
    "start_time": "2022-07-13T18:29:47.364Z"
   },
   {
    "duration": 13,
    "start_time": "2022-07-13T18:30:04.822Z"
   },
   {
    "duration": 80,
    "start_time": "2022-07-13T18:31:11.215Z"
   },
   {
    "duration": 212,
    "start_time": "2022-07-13T18:31:19.478Z"
   },
   {
    "duration": 214,
    "start_time": "2022-07-13T18:31:35.958Z"
   },
   {
    "duration": 104,
    "start_time": "2022-07-13T18:33:19.419Z"
   },
   {
    "duration": 90,
    "start_time": "2022-07-13T18:34:55.114Z"
   },
   {
    "duration": 87,
    "start_time": "2022-07-13T18:35:57.846Z"
   },
   {
    "duration": 55127,
    "start_time": "2022-07-13T18:36:47.477Z"
   },
   {
    "duration": 95,
    "start_time": "2022-07-13T18:39:54.782Z"
   },
   {
    "duration": 103,
    "start_time": "2022-07-13T18:40:01.662Z"
   },
   {
    "duration": 96,
    "start_time": "2022-07-13T18:42:37.444Z"
   },
   {
    "duration": 102,
    "start_time": "2022-07-13T18:53:29.697Z"
   },
   {
    "duration": 13,
    "start_time": "2022-07-13T18:59:52.906Z"
   },
   {
    "duration": 84,
    "start_time": "2022-07-13T19:00:00.699Z"
   },
   {
    "duration": 83,
    "start_time": "2022-07-13T19:00:22.698Z"
   },
   {
    "duration": 8976,
    "start_time": "2022-07-13T19:02:26.439Z"
   },
   {
    "duration": 13,
    "start_time": "2022-07-13T19:02:55.078Z"
   },
   {
    "duration": 96,
    "start_time": "2022-07-13T19:03:18.285Z"
   },
   {
    "duration": 220,
    "start_time": "2022-07-13T19:04:27.431Z"
   },
   {
    "duration": 210,
    "start_time": "2022-07-13T19:05:15.109Z"
   },
   {
    "duration": 97,
    "start_time": "2022-07-13T19:05:19.109Z"
   },
   {
    "duration": 27266,
    "start_time": "2022-07-13T19:06:20.656Z"
   },
   {
    "duration": 12320,
    "start_time": "2022-07-13T19:06:53.705Z"
   },
   {
    "duration": 13,
    "start_time": "2022-07-13T19:07:14.191Z"
   },
   {
    "duration": 4879,
    "start_time": "2022-07-13T19:07:44.164Z"
   },
   {
    "duration": 74,
    "start_time": "2022-07-13T19:08:34.803Z"
   },
   {
    "duration": 13458,
    "start_time": "2022-07-13T19:09:00.262Z"
   },
   {
    "duration": 12,
    "start_time": "2022-07-13T19:10:44.678Z"
   },
   {
    "duration": 88,
    "start_time": "2022-07-13T19:11:09.562Z"
   },
   {
    "duration": 18,
    "start_time": "2022-07-13T19:11:13.138Z"
   },
   {
    "duration": 210,
    "start_time": "2022-07-13T19:11:36.169Z"
   },
   {
    "duration": 12,
    "start_time": "2022-07-13T19:11:55.356Z"
   },
   {
    "duration": 83,
    "start_time": "2022-07-13T19:12:54.421Z"
   },
   {
    "duration": 79,
    "start_time": "2022-07-13T19:12:59.091Z"
   },
   {
    "duration": 84,
    "start_time": "2022-07-13T19:13:07.487Z"
   },
   {
    "duration": 170,
    "start_time": "2022-07-13T19:13:15.648Z"
   },
   {
    "duration": 83,
    "start_time": "2022-07-13T19:13:20.184Z"
   },
   {
    "duration": 87,
    "start_time": "2022-07-13T19:13:59.531Z"
   },
   {
    "duration": 74,
    "start_time": "2022-07-13T19:16:55.435Z"
   },
   {
    "duration": 4,
    "start_time": "2022-07-13T19:17:07.900Z"
   },
   {
    "duration": 43,
    "start_time": "2022-07-13T19:17:07.906Z"
   },
   {
    "duration": 3,
    "start_time": "2022-07-13T19:17:07.951Z"
   },
   {
    "duration": 8,
    "start_time": "2022-07-13T19:17:07.956Z"
   },
   {
    "duration": 16,
    "start_time": "2022-07-13T19:17:07.967Z"
   },
   {
    "duration": 15,
    "start_time": "2022-07-13T19:17:07.985Z"
   },
   {
    "duration": 8,
    "start_time": "2022-07-13T19:17:08.001Z"
   },
   {
    "duration": 8,
    "start_time": "2022-07-13T19:17:08.010Z"
   },
   {
    "duration": 11,
    "start_time": "2022-07-13T19:17:08.020Z"
   },
   {
    "duration": 11,
    "start_time": "2022-07-13T19:17:08.033Z"
   },
   {
    "duration": 12,
    "start_time": "2022-07-13T19:17:08.046Z"
   },
   {
    "duration": 48,
    "start_time": "2022-07-13T19:17:08.059Z"
   },
   {
    "duration": 7,
    "start_time": "2022-07-13T19:17:08.109Z"
   },
   {
    "duration": 12,
    "start_time": "2022-07-13T19:17:08.119Z"
   },
   {
    "duration": 4,
    "start_time": "2022-07-13T19:17:08.133Z"
   },
   {
    "duration": 13,
    "start_time": "2022-07-13T19:17:08.139Z"
   },
   {
    "duration": 5,
    "start_time": "2022-07-13T19:17:08.154Z"
   },
   {
    "duration": 28,
    "start_time": "2022-07-13T19:17:08.198Z"
   },
   {
    "duration": 5,
    "start_time": "2022-07-13T19:17:08.228Z"
   },
   {
    "duration": 137,
    "start_time": "2022-07-13T19:17:08.235Z"
   },
   {
    "duration": 133,
    "start_time": "2022-07-13T19:17:08.374Z"
   },
   {
    "duration": 134,
    "start_time": "2022-07-13T19:17:08.509Z"
   },
   {
    "duration": 134,
    "start_time": "2022-07-13T19:17:08.644Z"
   },
   {
    "duration": 5,
    "start_time": "2022-07-13T19:17:08.781Z"
   },
   {
    "duration": 17,
    "start_time": "2022-07-13T19:17:08.787Z"
   },
   {
    "duration": 194,
    "start_time": "2022-07-13T19:17:12.778Z"
   },
   {
    "duration": 22534,
    "start_time": "2022-07-13T19:17:17.590Z"
   },
   {
    "duration": 9105,
    "start_time": "2022-07-13T19:17:40.126Z"
   },
   {
    "duration": 9,
    "start_time": "2022-07-13T19:17:49.232Z"
   },
   {
    "duration": 94,
    "start_time": "2022-07-13T19:18:45.208Z"
   },
   {
    "duration": 104,
    "start_time": "2022-07-13T19:19:04.787Z"
   },
   {
    "duration": 198,
    "start_time": "2022-07-13T19:19:19.181Z"
   },
   {
    "duration": 94,
    "start_time": "2022-07-13T19:19:41.615Z"
   },
   {
    "duration": 77,
    "start_time": "2022-07-13T19:19:53.812Z"
   },
   {
    "duration": 193,
    "start_time": "2022-07-13T19:20:16.422Z"
   },
   {
    "duration": 200,
    "start_time": "2022-07-13T19:20:29.323Z"
   },
   {
    "duration": 82,
    "start_time": "2022-07-13T19:21:45.037Z"
   },
   {
    "duration": 192,
    "start_time": "2022-07-13T19:21:51.195Z"
   },
   {
    "duration": 81,
    "start_time": "2022-07-13T19:22:14.979Z"
   },
   {
    "duration": 230,
    "start_time": "2022-07-13T19:22:25.863Z"
   },
   {
    "duration": 288,
    "start_time": "2022-07-13T19:23:13.574Z"
   },
   {
    "duration": 186,
    "start_time": "2022-07-13T19:23:45.469Z"
   },
   {
    "duration": 17123,
    "start_time": "2022-07-13T19:23:55.706Z"
   },
   {
    "duration": 9146,
    "start_time": "2022-07-13T19:24:12.831Z"
   },
   {
    "duration": 205,
    "start_time": "2022-07-13T19:24:32.918Z"
   },
   {
    "duration": 26046,
    "start_time": "2022-07-13T19:24:41.358Z"
   },
   {
    "duration": 12006,
    "start_time": "2022-07-13T19:25:07.407Z"
   },
   {
    "duration": 1586,
    "start_time": "2022-07-13T19:26:01.879Z"
   },
   {
    "duration": 43,
    "start_time": "2022-07-13T19:26:03.467Z"
   },
   {
    "duration": 3,
    "start_time": "2022-07-13T19:26:03.512Z"
   },
   {
    "duration": 9,
    "start_time": "2022-07-13T19:26:03.518Z"
   },
   {
    "duration": 16,
    "start_time": "2022-07-13T19:26:03.528Z"
   },
   {
    "duration": 11,
    "start_time": "2022-07-13T19:26:03.546Z"
   },
   {
    "duration": 7,
    "start_time": "2022-07-13T19:26:03.559Z"
   },
   {
    "duration": 30,
    "start_time": "2022-07-13T19:26:03.568Z"
   },
   {
    "duration": 11,
    "start_time": "2022-07-13T19:26:03.600Z"
   },
   {
    "duration": 19,
    "start_time": "2022-07-13T19:26:03.614Z"
   },
   {
    "duration": 13,
    "start_time": "2022-07-13T19:26:03.635Z"
   },
   {
    "duration": 13,
    "start_time": "2022-07-13T19:26:03.650Z"
   },
   {
    "duration": 35,
    "start_time": "2022-07-13T19:26:03.665Z"
   },
   {
    "duration": 12,
    "start_time": "2022-07-13T19:26:03.702Z"
   },
   {
    "duration": 4,
    "start_time": "2022-07-13T19:26:03.716Z"
   },
   {
    "duration": 13,
    "start_time": "2022-07-13T19:26:03.721Z"
   },
   {
    "duration": 5,
    "start_time": "2022-07-13T19:26:03.736Z"
   },
   {
    "duration": 61,
    "start_time": "2022-07-13T19:26:03.743Z"
   },
   {
    "duration": 4,
    "start_time": "2022-07-13T19:26:03.805Z"
   },
   {
    "duration": 138,
    "start_time": "2022-07-13T19:26:03.811Z"
   },
   {
    "duration": 166,
    "start_time": "2022-07-13T19:26:03.950Z"
   },
   {
    "duration": 154,
    "start_time": "2022-07-13T19:26:04.118Z"
   },
   {
    "duration": 153,
    "start_time": "2022-07-13T19:26:04.274Z"
   },
   {
    "duration": 4,
    "start_time": "2022-07-13T19:26:04.429Z"
   },
   {
    "duration": 7,
    "start_time": "2022-07-13T19:26:04.435Z"
   },
   {
    "duration": 286,
    "start_time": "2022-07-13T19:26:04.443Z"
   },
   {
    "duration": 22388,
    "start_time": "2022-07-13T19:26:04.731Z"
   },
   {
    "duration": 9042,
    "start_time": "2022-07-13T19:26:27.124Z"
   },
   {
    "duration": 10,
    "start_time": "2022-07-13T19:26:36.168Z"
   },
   {
    "duration": 219,
    "start_time": "2022-07-13T19:26:36.180Z"
   },
   {
    "duration": 18629,
    "start_time": "2022-07-13T19:26:36.401Z"
   },
   {
    "duration": 8960,
    "start_time": "2022-07-13T19:26:55.032Z"
   },
   {
    "duration": 17,
    "start_time": "2022-07-13T19:27:03.998Z"
   },
   {
    "duration": 220,
    "start_time": "2022-07-13T19:27:04.017Z"
   },
   {
    "duration": 27186,
    "start_time": "2022-07-13T19:27:04.239Z"
   },
   {
    "duration": 11882,
    "start_time": "2022-07-13T19:27:31.499Z"
   },
   {
    "duration": 23,
    "start_time": "2022-07-13T19:27:43.383Z"
   },
   {
    "duration": 4882,
    "start_time": "2022-07-13T19:27:43.408Z"
   },
   {
    "duration": 186,
    "start_time": "2022-07-13T19:27:48.297Z"
   },
   {
    "duration": 13130,
    "start_time": "2022-07-13T19:27:48.486Z"
   },
   {
    "duration": 93,
    "start_time": "2022-07-13T19:28:01.618Z"
   },
   {
    "duration": 190,
    "start_time": "2022-07-13T19:28:01.799Z"
   },
   {
    "duration": 152,
    "start_time": "2022-07-13T19:28:01.991Z"
   },
   {
    "duration": 1584,
    "start_time": "2022-07-14T09:32:56.421Z"
   },
   {
    "duration": 98,
    "start_time": "2022-07-14T09:32:58.007Z"
   },
   {
    "duration": 3,
    "start_time": "2022-07-14T09:32:58.110Z"
   },
   {
    "duration": 12,
    "start_time": "2022-07-14T09:32:58.116Z"
   },
   {
    "duration": 20,
    "start_time": "2022-07-14T09:32:58.130Z"
   },
   {
    "duration": 11,
    "start_time": "2022-07-14T09:32:58.152Z"
   },
   {
    "duration": 12,
    "start_time": "2022-07-14T09:32:58.171Z"
   },
   {
    "duration": 8,
    "start_time": "2022-07-14T09:32:58.184Z"
   },
   {
    "duration": 8,
    "start_time": "2022-07-14T09:32:58.195Z"
   },
   {
    "duration": 12,
    "start_time": "2022-07-14T09:32:58.205Z"
   },
   {
    "duration": 15,
    "start_time": "2022-07-14T09:32:58.219Z"
   },
   {
    "duration": 10,
    "start_time": "2022-07-14T09:32:58.236Z"
   },
   {
    "duration": 11,
    "start_time": "2022-07-14T09:32:58.266Z"
   },
   {
    "duration": 11,
    "start_time": "2022-07-14T09:32:58.279Z"
   },
   {
    "duration": 4,
    "start_time": "2022-07-14T09:32:58.292Z"
   },
   {
    "duration": 17,
    "start_time": "2022-07-14T09:32:58.297Z"
   },
   {
    "duration": 5,
    "start_time": "2022-07-14T09:32:58.315Z"
   },
   {
    "duration": 25,
    "start_time": "2022-07-14T09:32:58.321Z"
   },
   {
    "duration": 5,
    "start_time": "2022-07-14T09:32:58.369Z"
   },
   {
    "duration": 131,
    "start_time": "2022-07-14T09:32:58.378Z"
   },
   {
    "duration": 125,
    "start_time": "2022-07-14T09:32:58.511Z"
   },
   {
    "duration": 114,
    "start_time": "2022-07-14T09:32:58.638Z"
   },
   {
    "duration": 131,
    "start_time": "2022-07-14T09:32:58.753Z"
   },
   {
    "duration": 4,
    "start_time": "2022-07-14T09:32:58.886Z"
   },
   {
    "duration": 7,
    "start_time": "2022-07-14T09:32:58.891Z"
   },
   {
    "duration": 268,
    "start_time": "2022-07-14T09:32:58.900Z"
   },
   {
    "duration": 39922,
    "start_time": "2022-07-14T09:32:59.171Z"
   },
   {
    "duration": 8376,
    "start_time": "2022-07-14T09:33:39.096Z"
   },
   {
    "duration": 8,
    "start_time": "2022-07-14T09:33:47.473Z"
   },
   {
    "duration": 174,
    "start_time": "2022-07-14T09:33:47.484Z"
   },
   {
    "duration": 42307,
    "start_time": "2022-07-14T09:33:47.664Z"
   },
   {
    "duration": 8122,
    "start_time": "2022-07-14T09:34:29.973Z"
   },
   {
    "duration": 12,
    "start_time": "2022-07-14T09:34:38.096Z"
   },
   {
    "duration": 201,
    "start_time": "2022-07-14T09:34:38.110Z"
   },
   {
    "duration": 32757,
    "start_time": "2022-07-14T09:34:38.312Z"
   },
   {
    "duration": 10812,
    "start_time": "2022-07-14T09:35:11.072Z"
   },
   {
    "duration": 12,
    "start_time": "2022-07-14T09:35:21.885Z"
   },
   {
    "duration": 4328,
    "start_time": "2022-07-14T09:35:21.899Z"
   },
   {
    "duration": 164,
    "start_time": "2022-07-14T09:35:26.228Z"
   },
   {
    "duration": 16674,
    "start_time": "2022-07-14T09:35:26.394Z"
   },
   {
    "duration": 101,
    "start_time": "2022-07-14T09:35:43.070Z"
   },
   {
    "duration": 167,
    "start_time": "2022-07-14T09:35:43.173Z"
   },
   {
    "duration": 141,
    "start_time": "2022-07-14T09:35:43.342Z"
   }
  ],
  "kernelspec": {
   "display_name": "Python 3 (ipykernel)",
   "language": "python",
   "name": "python3"
  },
  "language_info": {
   "codemirror_mode": {
    "name": "ipython",
    "version": 3
   },
   "file_extension": ".py",
   "mimetype": "text/x-python",
   "name": "python",
   "nbconvert_exporter": "python",
   "pygments_lexer": "ipython3",
   "version": "3.8.16"
  },
  "toc": {
   "base_numbering": 1,
   "nav_menu": {},
   "number_sections": false,
   "sideBar": true,
   "skip_h1_title": false,
   "title_cell": "Содержание",
   "title_sidebar": "Contents",
   "toc_cell": false,
   "toc_position": {
    "height": "448.688px",
    "left": "88.5625px",
    "top": "136.087px",
    "width": "165px"
   },
   "toc_section_display": true,
   "toc_window_display": true
  }
 },
 "nbformat": 4,
 "nbformat_minor": 4
}
