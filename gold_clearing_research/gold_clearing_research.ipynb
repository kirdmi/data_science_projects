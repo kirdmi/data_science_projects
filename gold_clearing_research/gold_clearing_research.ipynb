{
 "cells": [
  {
   "cell_type": "markdown",
   "metadata": {},
   "source": [
    "# Gold Recovery Prediction from Ore"
   ]
  },
  {
   "cell_type": "markdown",
   "metadata": {},
   "source": [
    "Gold Recovery Prediction Model for Industrial Efficiency\n",
    "\n",
    "As a part of our company's solutions to improve the efficiency of industrial enterprises, we aim to develop a machine learning model that can accurately predict the recovery factor of gold from gold ore. This model will serve as an important tool in optimizing production processes and minimizing losses.\n",
    "\n",
    "The project will involve the following steps:\n",
    "\n",
    "- Data Collection: Gathering relevant data on gold ore processing operations, including information on input variables, operational parameters, and gold recovery rates.\n",
    "- Data Preprocessing: Preprocessing the collected data by handling missing values, dealing with outliers, and performing feature engineering to prepare the data for model building.\n",
    "- Feature Selection: Selecting the most important features that have a significant impact on gold recovery, using techniques such as feature importance analysis or correlation analysis.\n",
    "- Model Building: Building and training machine learning models, such as regression, decision trees, or ensemble methods, using the preprocessed data. The models will be optimized to achieve high prediction accuracy.\n",
    "- Model Evaluation: Evaluating the performance of the models using appropriate metrics, such as mean squared error (MSE) or R-squared, and selecting the model with the best performance.\n",
    "- Model Interpretation: Interpreting the results of the chosen model to understand the factors that influence gold recovery and providing recommendations for optimizing production processes based on the model's insights.\n",
    "\n",
    "Libraries: Pandas, NumPy, Matplotlib, Scikit-learn for data preprocessing, model building, and evaluation."
   ]
  },
  {
   "cell_type": "markdown",
   "metadata": {},
   "source": [
    "## Data preparation"
   ]
  },
  {
   "cell_type": "code",
   "execution_count": 1,
   "metadata": {},
   "outputs": [],
   "source": [
    "import pandas as pd\n",
    "import seaborn as sns\n",
    "import matplotlib.pyplot as plt\n",
    "import numpy as np\n",
    "from numpy.random import RandomState\n",
    "from random import sample\n",
    "import re\n",
    "from sklearn.model_selection import train_test_split\n",
    "from sklearn.dummy import DummyClassifier\n",
    "from sklearn.linear_model import LinearRegression\n",
    "from sklearn.tree import DecisionTreeRegressor\n",
    "from sklearn.ensemble import RandomForestRegressor\n",
    "from sklearn.dummy import DummyRegressor\n",
    "from sklearn.model_selection import GridSearchCV\n",
    "from sklearn.model_selection import cross_val_score\n",
    "from sklearn.utils import shuffle\n",
    "from sklearn.preprocessing import StandardScaler\n",
    "from sklearn.metrics import precision_score, recall_score\n",
    "from sklearn.metrics import f1_score\n",
    "from sklearn.metrics import roc_auc_score\n",
    "from sklearn.metrics import roc_curve\n",
    "from sklearn.metrics import mean_squared_error\n",
    "from sklearn.metrics import mean_absolute_error\n",
    "from sklearn.metrics import fbeta_score, make_scorer\n",
    "from sklearn.datasets import make_regression"
   ]
  },
  {
   "cell_type": "code",
   "execution_count": 2,
   "metadata": {},
   "outputs": [],
   "source": [
    "df = pd.read_csv(\"gold_recovery_full_new.csv\")"
   ]
  },
  {
   "cell_type": "code",
   "execution_count": 3,
   "metadata": {},
   "outputs": [],
   "source": [
    "df_train = pd.read_csv(\"gold_recovery_train_new.csv\")"
   ]
  },
  {
   "cell_type": "code",
   "execution_count": 4,
   "metadata": {},
   "outputs": [],
   "source": [
    "df_test = pd.read_csv(\"gold_recovery_test_new.csv\")"
   ]
  },
  {
   "cell_type": "code",
   "execution_count": 5,
   "metadata": {
    "scrolled": true
   },
   "outputs": [
    {
     "data": {
      "text/html": [
       "<div>\n",
       "<style scoped>\n",
       "    .dataframe tbody tr th:only-of-type {\n",
       "        vertical-align: middle;\n",
       "    }\n",
       "\n",
       "    .dataframe tbody tr th {\n",
       "        vertical-align: top;\n",
       "    }\n",
       "\n",
       "    .dataframe thead th {\n",
       "        text-align: right;\n",
       "    }\n",
       "</style>\n",
       "<table border=\"1\" class=\"dataframe\">\n",
       "  <thead>\n",
       "    <tr style=\"text-align: right;\">\n",
       "      <th></th>\n",
       "      <th>date</th>\n",
       "      <th>final.output.concentrate_ag</th>\n",
       "      <th>final.output.concentrate_pb</th>\n",
       "      <th>final.output.concentrate_sol</th>\n",
       "      <th>final.output.concentrate_au</th>\n",
       "      <th>final.output.recovery</th>\n",
       "      <th>final.output.tail_ag</th>\n",
       "      <th>final.output.tail_pb</th>\n",
       "      <th>final.output.tail_sol</th>\n",
       "      <th>final.output.tail_au</th>\n",
       "      <th>...</th>\n",
       "      <th>secondary_cleaner.state.floatbank4_a_air</th>\n",
       "      <th>secondary_cleaner.state.floatbank4_a_level</th>\n",
       "      <th>secondary_cleaner.state.floatbank4_b_air</th>\n",
       "      <th>secondary_cleaner.state.floatbank4_b_level</th>\n",
       "      <th>secondary_cleaner.state.floatbank5_a_air</th>\n",
       "      <th>secondary_cleaner.state.floatbank5_a_level</th>\n",
       "      <th>secondary_cleaner.state.floatbank5_b_air</th>\n",
       "      <th>secondary_cleaner.state.floatbank5_b_level</th>\n",
       "      <th>secondary_cleaner.state.floatbank6_a_air</th>\n",
       "      <th>secondary_cleaner.state.floatbank6_a_level</th>\n",
       "    </tr>\n",
       "  </thead>\n",
       "  <tbody>\n",
       "    <tr>\n",
       "      <th>0</th>\n",
       "      <td>2016-01-15 00:00:00</td>\n",
       "      <td>6.055403</td>\n",
       "      <td>9.889648</td>\n",
       "      <td>5.507324</td>\n",
       "      <td>42.192020</td>\n",
       "      <td>70.541216</td>\n",
       "      <td>10.411962</td>\n",
       "      <td>0.895447</td>\n",
       "      <td>16.904297</td>\n",
       "      <td>2.143149</td>\n",
       "      <td>...</td>\n",
       "      <td>14.016835</td>\n",
       "      <td>-502.488007</td>\n",
       "      <td>12.099931</td>\n",
       "      <td>-504.715942</td>\n",
       "      <td>9.925633</td>\n",
       "      <td>-498.310211</td>\n",
       "      <td>8.079666</td>\n",
       "      <td>-500.470978</td>\n",
       "      <td>14.151341</td>\n",
       "      <td>-605.841980</td>\n",
       "    </tr>\n",
       "    <tr>\n",
       "      <th>1</th>\n",
       "      <td>2016-01-15 01:00:00</td>\n",
       "      <td>6.029369</td>\n",
       "      <td>9.968944</td>\n",
       "      <td>5.257781</td>\n",
       "      <td>42.701629</td>\n",
       "      <td>69.266198</td>\n",
       "      <td>10.462676</td>\n",
       "      <td>0.927452</td>\n",
       "      <td>16.634514</td>\n",
       "      <td>2.224930</td>\n",
       "      <td>...</td>\n",
       "      <td>13.992281</td>\n",
       "      <td>-505.503262</td>\n",
       "      <td>11.950531</td>\n",
       "      <td>-501.331529</td>\n",
       "      <td>10.039245</td>\n",
       "      <td>-500.169983</td>\n",
       "      <td>7.984757</td>\n",
       "      <td>-500.582168</td>\n",
       "      <td>13.998353</td>\n",
       "      <td>-599.787184</td>\n",
       "    </tr>\n",
       "    <tr>\n",
       "      <th>2</th>\n",
       "      <td>2016-01-15 02:00:00</td>\n",
       "      <td>6.055926</td>\n",
       "      <td>10.213995</td>\n",
       "      <td>5.383759</td>\n",
       "      <td>42.657501</td>\n",
       "      <td>68.116445</td>\n",
       "      <td>10.507046</td>\n",
       "      <td>0.953716</td>\n",
       "      <td>16.208849</td>\n",
       "      <td>2.257889</td>\n",
       "      <td>...</td>\n",
       "      <td>14.015015</td>\n",
       "      <td>-502.520901</td>\n",
       "      <td>11.912783</td>\n",
       "      <td>-501.133383</td>\n",
       "      <td>10.070913</td>\n",
       "      <td>-500.129135</td>\n",
       "      <td>8.013877</td>\n",
       "      <td>-500.517572</td>\n",
       "      <td>14.028663</td>\n",
       "      <td>-601.427363</td>\n",
       "    </tr>\n",
       "    <tr>\n",
       "      <th>3</th>\n",
       "      <td>2016-01-15 03:00:00</td>\n",
       "      <td>6.047977</td>\n",
       "      <td>9.977019</td>\n",
       "      <td>4.858634</td>\n",
       "      <td>42.689819</td>\n",
       "      <td>68.347543</td>\n",
       "      <td>10.422762</td>\n",
       "      <td>0.883763</td>\n",
       "      <td>16.532835</td>\n",
       "      <td>2.146849</td>\n",
       "      <td>...</td>\n",
       "      <td>14.036510</td>\n",
       "      <td>-500.857308</td>\n",
       "      <td>11.999550</td>\n",
       "      <td>-501.193686</td>\n",
       "      <td>9.970366</td>\n",
       "      <td>-499.201640</td>\n",
       "      <td>7.977324</td>\n",
       "      <td>-500.255908</td>\n",
       "      <td>14.005551</td>\n",
       "      <td>-599.996129</td>\n",
       "    </tr>\n",
       "    <tr>\n",
       "      <th>4</th>\n",
       "      <td>2016-01-15 04:00:00</td>\n",
       "      <td>6.148599</td>\n",
       "      <td>10.142511</td>\n",
       "      <td>4.939416</td>\n",
       "      <td>42.774141</td>\n",
       "      <td>66.927016</td>\n",
       "      <td>10.360302</td>\n",
       "      <td>0.792826</td>\n",
       "      <td>16.525686</td>\n",
       "      <td>2.055292</td>\n",
       "      <td>...</td>\n",
       "      <td>14.027298</td>\n",
       "      <td>-499.838632</td>\n",
       "      <td>11.953070</td>\n",
       "      <td>-501.053894</td>\n",
       "      <td>9.925709</td>\n",
       "      <td>-501.686727</td>\n",
       "      <td>7.894242</td>\n",
       "      <td>-500.356035</td>\n",
       "      <td>13.996647</td>\n",
       "      <td>-601.496691</td>\n",
       "    </tr>\n",
       "  </tbody>\n",
       "</table>\n",
       "<p>5 rows × 87 columns</p>\n",
       "</div>"
      ],
      "text/plain": [
       "                  date  final.output.concentrate_ag  \\\n",
       "0  2016-01-15 00:00:00                     6.055403   \n",
       "1  2016-01-15 01:00:00                     6.029369   \n",
       "2  2016-01-15 02:00:00                     6.055926   \n",
       "3  2016-01-15 03:00:00                     6.047977   \n",
       "4  2016-01-15 04:00:00                     6.148599   \n",
       "\n",
       "   final.output.concentrate_pb  final.output.concentrate_sol  \\\n",
       "0                     9.889648                      5.507324   \n",
       "1                     9.968944                      5.257781   \n",
       "2                    10.213995                      5.383759   \n",
       "3                     9.977019                      4.858634   \n",
       "4                    10.142511                      4.939416   \n",
       "\n",
       "   final.output.concentrate_au  final.output.recovery  final.output.tail_ag  \\\n",
       "0                    42.192020              70.541216             10.411962   \n",
       "1                    42.701629              69.266198             10.462676   \n",
       "2                    42.657501              68.116445             10.507046   \n",
       "3                    42.689819              68.347543             10.422762   \n",
       "4                    42.774141              66.927016             10.360302   \n",
       "\n",
       "   final.output.tail_pb  final.output.tail_sol  final.output.tail_au  ...  \\\n",
       "0              0.895447              16.904297              2.143149  ...   \n",
       "1              0.927452              16.634514              2.224930  ...   \n",
       "2              0.953716              16.208849              2.257889  ...   \n",
       "3              0.883763              16.532835              2.146849  ...   \n",
       "4              0.792826              16.525686              2.055292  ...   \n",
       "\n",
       "   secondary_cleaner.state.floatbank4_a_air  \\\n",
       "0                                 14.016835   \n",
       "1                                 13.992281   \n",
       "2                                 14.015015   \n",
       "3                                 14.036510   \n",
       "4                                 14.027298   \n",
       "\n",
       "   secondary_cleaner.state.floatbank4_a_level  \\\n",
       "0                                 -502.488007   \n",
       "1                                 -505.503262   \n",
       "2                                 -502.520901   \n",
       "3                                 -500.857308   \n",
       "4                                 -499.838632   \n",
       "\n",
       "   secondary_cleaner.state.floatbank4_b_air  \\\n",
       "0                                 12.099931   \n",
       "1                                 11.950531   \n",
       "2                                 11.912783   \n",
       "3                                 11.999550   \n",
       "4                                 11.953070   \n",
       "\n",
       "   secondary_cleaner.state.floatbank4_b_level  \\\n",
       "0                                 -504.715942   \n",
       "1                                 -501.331529   \n",
       "2                                 -501.133383   \n",
       "3                                 -501.193686   \n",
       "4                                 -501.053894   \n",
       "\n",
       "   secondary_cleaner.state.floatbank5_a_air  \\\n",
       "0                                  9.925633   \n",
       "1                                 10.039245   \n",
       "2                                 10.070913   \n",
       "3                                  9.970366   \n",
       "4                                  9.925709   \n",
       "\n",
       "   secondary_cleaner.state.floatbank5_a_level  \\\n",
       "0                                 -498.310211   \n",
       "1                                 -500.169983   \n",
       "2                                 -500.129135   \n",
       "3                                 -499.201640   \n",
       "4                                 -501.686727   \n",
       "\n",
       "   secondary_cleaner.state.floatbank5_b_air  \\\n",
       "0                                  8.079666   \n",
       "1                                  7.984757   \n",
       "2                                  8.013877   \n",
       "3                                  7.977324   \n",
       "4                                  7.894242   \n",
       "\n",
       "   secondary_cleaner.state.floatbank5_b_level  \\\n",
       "0                                 -500.470978   \n",
       "1                                 -500.582168   \n",
       "2                                 -500.517572   \n",
       "3                                 -500.255908   \n",
       "4                                 -500.356035   \n",
       "\n",
       "   secondary_cleaner.state.floatbank6_a_air  \\\n",
       "0                                 14.151341   \n",
       "1                                 13.998353   \n",
       "2                                 14.028663   \n",
       "3                                 14.005551   \n",
       "4                                 13.996647   \n",
       "\n",
       "   secondary_cleaner.state.floatbank6_a_level  \n",
       "0                                 -605.841980  \n",
       "1                                 -599.787184  \n",
       "2                                 -601.427363  \n",
       "3                                 -599.996129  \n",
       "4                                 -601.496691  \n",
       "\n",
       "[5 rows x 87 columns]"
      ]
     },
     "execution_count": 5,
     "metadata": {},
     "output_type": "execute_result"
    }
   ],
   "source": [
    "df.head(5)"
   ]
  },
  {
   "cell_type": "code",
   "execution_count": 6,
   "metadata": {},
   "outputs": [
    {
     "name": "stdout",
     "output_type": "stream",
     "text": [
      "<class 'pandas.core.frame.DataFrame'>\n",
      "RangeIndex: 19439 entries, 0 to 19438\n",
      "Data columns (total 87 columns):\n",
      " #   Column                                              Non-Null Count  Dtype  \n",
      "---  ------                                              --------------  -----  \n",
      " 0   date                                                19439 non-null  object \n",
      " 1   final.output.concentrate_ag                         19438 non-null  float64\n",
      " 2   final.output.concentrate_pb                         19438 non-null  float64\n",
      " 3   final.output.concentrate_sol                        19228 non-null  float64\n",
      " 4   final.output.concentrate_au                         19439 non-null  float64\n",
      " 5   final.output.recovery                               19439 non-null  float64\n",
      " 6   final.output.tail_ag                                19438 non-null  float64\n",
      " 7   final.output.tail_pb                                19338 non-null  float64\n",
      " 8   final.output.tail_sol                               19433 non-null  float64\n",
      " 9   final.output.tail_au                                19439 non-null  float64\n",
      " 10  primary_cleaner.input.sulfate                       19415 non-null  float64\n",
      " 11  primary_cleaner.input.depressant                    19402 non-null  float64\n",
      " 12  primary_cleaner.input.feed_size                     19439 non-null  float64\n",
      " 13  primary_cleaner.input.xanthate                      19335 non-null  float64\n",
      " 14  primary_cleaner.output.concentrate_ag               19439 non-null  float64\n",
      " 15  primary_cleaner.output.concentrate_pb               19323 non-null  float64\n",
      " 16  primary_cleaner.output.concentrate_sol              19069 non-null  float64\n",
      " 17  primary_cleaner.output.concentrate_au               19439 non-null  float64\n",
      " 18  primary_cleaner.output.tail_ag                      19435 non-null  float64\n",
      " 19  primary_cleaner.output.tail_pb                      19418 non-null  float64\n",
      " 20  primary_cleaner.output.tail_sol                     19377 non-null  float64\n",
      " 21  primary_cleaner.output.tail_au                      19439 non-null  float64\n",
      " 22  primary_cleaner.state.floatbank8_a_air              19435 non-null  float64\n",
      " 23  primary_cleaner.state.floatbank8_a_level            19438 non-null  float64\n",
      " 24  primary_cleaner.state.floatbank8_b_air              19435 non-null  float64\n",
      " 25  primary_cleaner.state.floatbank8_b_level            19438 non-null  float64\n",
      " 26  primary_cleaner.state.floatbank8_c_air              19437 non-null  float64\n",
      " 27  primary_cleaner.state.floatbank8_c_level            19438 non-null  float64\n",
      " 28  primary_cleaner.state.floatbank8_d_air              19436 non-null  float64\n",
      " 29  primary_cleaner.state.floatbank8_d_level            19438 non-null  float64\n",
      " 30  rougher.calculation.sulfate_to_au_concentrate       19437 non-null  float64\n",
      " 31  rougher.calculation.floatbank10_sulfate_to_au_feed  19437 non-null  float64\n",
      " 32  rougher.calculation.floatbank11_sulfate_to_au_feed  19437 non-null  float64\n",
      " 33  rougher.calculation.au_pb_ratio                     19439 non-null  float64\n",
      " 34  rougher.input.feed_ag                               19439 non-null  float64\n",
      " 35  rougher.input.feed_pb                               19339 non-null  float64\n",
      " 36  rougher.input.feed_rate                             19428 non-null  float64\n",
      " 37  rougher.input.feed_size                             19294 non-null  float64\n",
      " 38  rougher.input.feed_sol                              19340 non-null  float64\n",
      " 39  rougher.input.feed_au                               19439 non-null  float64\n",
      " 40  rougher.input.floatbank10_sulfate                   19405 non-null  float64\n",
      " 41  rougher.input.floatbank10_xanthate                  19431 non-null  float64\n",
      " 42  rougher.input.floatbank11_sulfate                   19395 non-null  float64\n",
      " 43  rougher.input.floatbank11_xanthate                  18986 non-null  float64\n",
      " 44  rougher.output.concentrate_ag                       19439 non-null  float64\n",
      " 45  rougher.output.concentrate_pb                       19439 non-null  float64\n",
      " 46  rougher.output.concentrate_sol                      19416 non-null  float64\n",
      " 47  rougher.output.concentrate_au                       19439 non-null  float64\n",
      " 48  rougher.output.recovery                             19439 non-null  float64\n",
      " 49  rougher.output.tail_ag                              19438 non-null  float64\n",
      " 50  rougher.output.tail_pb                              19439 non-null  float64\n",
      " 51  rougher.output.tail_sol                             19439 non-null  float64\n",
      " 52  rougher.output.tail_au                              19439 non-null  float64\n",
      " 53  rougher.state.floatbank10_a_air                     19438 non-null  float64\n",
      " 54  rougher.state.floatbank10_a_level                   19438 non-null  float64\n",
      " 55  rougher.state.floatbank10_b_air                     19438 non-null  float64\n",
      " 56  rougher.state.floatbank10_b_level                   19438 non-null  float64\n",
      " 57  rougher.state.floatbank10_c_air                     19438 non-null  float64\n",
      " 58  rougher.state.floatbank10_c_level                   19438 non-null  float64\n",
      " 59  rougher.state.floatbank10_d_air                     19439 non-null  float64\n",
      " 60  rougher.state.floatbank10_d_level                   19439 non-null  float64\n",
      " 61  rougher.state.floatbank10_e_air                     19003 non-null  float64\n",
      " 62  rougher.state.floatbank10_e_level                   19439 non-null  float64\n",
      " 63  rougher.state.floatbank10_f_air                     19439 non-null  float64\n",
      " 64  rougher.state.floatbank10_f_level                   19439 non-null  float64\n",
      " 65  secondary_cleaner.output.tail_ag                    19437 non-null  float64\n",
      " 66  secondary_cleaner.output.tail_pb                    19427 non-null  float64\n",
      " 67  secondary_cleaner.output.tail_sol                   17691 non-null  float64\n",
      " 68  secondary_cleaner.output.tail_au                    19439 non-null  float64\n",
      " 69  secondary_cleaner.state.floatbank2_a_air            19219 non-null  float64\n",
      " 70  secondary_cleaner.state.floatbank2_a_level          19438 non-null  float64\n",
      " 71  secondary_cleaner.state.floatbank2_b_air            19416 non-null  float64\n",
      " 72  secondary_cleaner.state.floatbank2_b_level          19438 non-null  float64\n",
      " 73  secondary_cleaner.state.floatbank3_a_air            19426 non-null  float64\n",
      " 74  secondary_cleaner.state.floatbank3_a_level          19438 non-null  float64\n",
      " 75  secondary_cleaner.state.floatbank3_b_air            19438 non-null  float64\n",
      " 76  secondary_cleaner.state.floatbank3_b_level          19438 non-null  float64\n",
      " 77  secondary_cleaner.state.floatbank4_a_air            19433 non-null  float64\n",
      " 78  secondary_cleaner.state.floatbank4_a_level          19438 non-null  float64\n",
      " 79  secondary_cleaner.state.floatbank4_b_air            19438 non-null  float64\n",
      " 80  secondary_cleaner.state.floatbank4_b_level          19438 non-null  float64\n",
      " 81  secondary_cleaner.state.floatbank5_a_air            19438 non-null  float64\n",
      " 82  secondary_cleaner.state.floatbank5_a_level          19438 non-null  float64\n",
      " 83  secondary_cleaner.state.floatbank5_b_air            19438 non-null  float64\n",
      " 84  secondary_cleaner.state.floatbank5_b_level          19438 non-null  float64\n",
      " 85  secondary_cleaner.state.floatbank6_a_air            19437 non-null  float64\n",
      " 86  secondary_cleaner.state.floatbank6_a_level          19438 non-null  float64\n",
      "dtypes: float64(86), object(1)\n",
      "memory usage: 12.9+ MB\n"
     ]
    }
   ],
   "source": [
    "df.info()"
   ]
  },
  {
   "cell_type": "code",
   "execution_count": 7,
   "metadata": {},
   "outputs": [
    {
     "data": {
      "text/html": [
       "<div>\n",
       "<style scoped>\n",
       "    .dataframe tbody tr th:only-of-type {\n",
       "        vertical-align: middle;\n",
       "    }\n",
       "\n",
       "    .dataframe tbody tr th {\n",
       "        vertical-align: top;\n",
       "    }\n",
       "\n",
       "    .dataframe thead th {\n",
       "        text-align: right;\n",
       "    }\n",
       "</style>\n",
       "<table border=\"1\" class=\"dataframe\">\n",
       "  <thead>\n",
       "    <tr style=\"text-align: right;\">\n",
       "      <th></th>\n",
       "      <th>date</th>\n",
       "      <th>final.output.concentrate_ag</th>\n",
       "      <th>final.output.concentrate_pb</th>\n",
       "      <th>final.output.concentrate_sol</th>\n",
       "      <th>final.output.concentrate_au</th>\n",
       "      <th>final.output.recovery</th>\n",
       "      <th>final.output.tail_ag</th>\n",
       "      <th>final.output.tail_pb</th>\n",
       "      <th>final.output.tail_sol</th>\n",
       "      <th>final.output.tail_au</th>\n",
       "      <th>...</th>\n",
       "      <th>secondary_cleaner.state.floatbank4_a_air</th>\n",
       "      <th>secondary_cleaner.state.floatbank4_a_level</th>\n",
       "      <th>secondary_cleaner.state.floatbank4_b_air</th>\n",
       "      <th>secondary_cleaner.state.floatbank4_b_level</th>\n",
       "      <th>secondary_cleaner.state.floatbank5_a_air</th>\n",
       "      <th>secondary_cleaner.state.floatbank5_a_level</th>\n",
       "      <th>secondary_cleaner.state.floatbank5_b_air</th>\n",
       "      <th>secondary_cleaner.state.floatbank5_b_level</th>\n",
       "      <th>secondary_cleaner.state.floatbank6_a_air</th>\n",
       "      <th>secondary_cleaner.state.floatbank6_a_level</th>\n",
       "    </tr>\n",
       "  </thead>\n",
       "  <tbody>\n",
       "    <tr>\n",
       "      <th>0</th>\n",
       "      <td>2016-01-15 00:00:00</td>\n",
       "      <td>6.055403</td>\n",
       "      <td>9.889648</td>\n",
       "      <td>5.507324</td>\n",
       "      <td>42.192020</td>\n",
       "      <td>70.541216</td>\n",
       "      <td>10.411962</td>\n",
       "      <td>0.895447</td>\n",
       "      <td>16.904297</td>\n",
       "      <td>2.143149</td>\n",
       "      <td>...</td>\n",
       "      <td>14.016835</td>\n",
       "      <td>-502.488007</td>\n",
       "      <td>12.099931</td>\n",
       "      <td>-504.715942</td>\n",
       "      <td>9.925633</td>\n",
       "      <td>-498.310211</td>\n",
       "      <td>8.079666</td>\n",
       "      <td>-500.470978</td>\n",
       "      <td>14.151341</td>\n",
       "      <td>-605.841980</td>\n",
       "    </tr>\n",
       "    <tr>\n",
       "      <th>1</th>\n",
       "      <td>2016-01-15 01:00:00</td>\n",
       "      <td>6.029369</td>\n",
       "      <td>9.968944</td>\n",
       "      <td>5.257781</td>\n",
       "      <td>42.701629</td>\n",
       "      <td>69.266198</td>\n",
       "      <td>10.462676</td>\n",
       "      <td>0.927452</td>\n",
       "      <td>16.634514</td>\n",
       "      <td>2.224930</td>\n",
       "      <td>...</td>\n",
       "      <td>13.992281</td>\n",
       "      <td>-505.503262</td>\n",
       "      <td>11.950531</td>\n",
       "      <td>-501.331529</td>\n",
       "      <td>10.039245</td>\n",
       "      <td>-500.169983</td>\n",
       "      <td>7.984757</td>\n",
       "      <td>-500.582168</td>\n",
       "      <td>13.998353</td>\n",
       "      <td>-599.787184</td>\n",
       "    </tr>\n",
       "    <tr>\n",
       "      <th>2</th>\n",
       "      <td>2016-01-15 02:00:00</td>\n",
       "      <td>6.055926</td>\n",
       "      <td>10.213995</td>\n",
       "      <td>5.383759</td>\n",
       "      <td>42.657501</td>\n",
       "      <td>68.116445</td>\n",
       "      <td>10.507046</td>\n",
       "      <td>0.953716</td>\n",
       "      <td>16.208849</td>\n",
       "      <td>2.257889</td>\n",
       "      <td>...</td>\n",
       "      <td>14.015015</td>\n",
       "      <td>-502.520901</td>\n",
       "      <td>11.912783</td>\n",
       "      <td>-501.133383</td>\n",
       "      <td>10.070913</td>\n",
       "      <td>-500.129135</td>\n",
       "      <td>8.013877</td>\n",
       "      <td>-500.517572</td>\n",
       "      <td>14.028663</td>\n",
       "      <td>-601.427363</td>\n",
       "    </tr>\n",
       "    <tr>\n",
       "      <th>3</th>\n",
       "      <td>2016-01-15 03:00:00</td>\n",
       "      <td>6.047977</td>\n",
       "      <td>9.977019</td>\n",
       "      <td>4.858634</td>\n",
       "      <td>42.689819</td>\n",
       "      <td>68.347543</td>\n",
       "      <td>10.422762</td>\n",
       "      <td>0.883763</td>\n",
       "      <td>16.532835</td>\n",
       "      <td>2.146849</td>\n",
       "      <td>...</td>\n",
       "      <td>14.036510</td>\n",
       "      <td>-500.857308</td>\n",
       "      <td>11.999550</td>\n",
       "      <td>-501.193686</td>\n",
       "      <td>9.970366</td>\n",
       "      <td>-499.201640</td>\n",
       "      <td>7.977324</td>\n",
       "      <td>-500.255908</td>\n",
       "      <td>14.005551</td>\n",
       "      <td>-599.996129</td>\n",
       "    </tr>\n",
       "    <tr>\n",
       "      <th>4</th>\n",
       "      <td>2016-01-15 04:00:00</td>\n",
       "      <td>6.148599</td>\n",
       "      <td>10.142511</td>\n",
       "      <td>4.939416</td>\n",
       "      <td>42.774141</td>\n",
       "      <td>66.927016</td>\n",
       "      <td>10.360302</td>\n",
       "      <td>0.792826</td>\n",
       "      <td>16.525686</td>\n",
       "      <td>2.055292</td>\n",
       "      <td>...</td>\n",
       "      <td>14.027298</td>\n",
       "      <td>-499.838632</td>\n",
       "      <td>11.953070</td>\n",
       "      <td>-501.053894</td>\n",
       "      <td>9.925709</td>\n",
       "      <td>-501.686727</td>\n",
       "      <td>7.894242</td>\n",
       "      <td>-500.356035</td>\n",
       "      <td>13.996647</td>\n",
       "      <td>-601.496691</td>\n",
       "    </tr>\n",
       "  </tbody>\n",
       "</table>\n",
       "<p>5 rows × 87 columns</p>\n",
       "</div>"
      ],
      "text/plain": [
       "                  date  final.output.concentrate_ag  \\\n",
       "0  2016-01-15 00:00:00                     6.055403   \n",
       "1  2016-01-15 01:00:00                     6.029369   \n",
       "2  2016-01-15 02:00:00                     6.055926   \n",
       "3  2016-01-15 03:00:00                     6.047977   \n",
       "4  2016-01-15 04:00:00                     6.148599   \n",
       "\n",
       "   final.output.concentrate_pb  final.output.concentrate_sol  \\\n",
       "0                     9.889648                      5.507324   \n",
       "1                     9.968944                      5.257781   \n",
       "2                    10.213995                      5.383759   \n",
       "3                     9.977019                      4.858634   \n",
       "4                    10.142511                      4.939416   \n",
       "\n",
       "   final.output.concentrate_au  final.output.recovery  final.output.tail_ag  \\\n",
       "0                    42.192020              70.541216             10.411962   \n",
       "1                    42.701629              69.266198             10.462676   \n",
       "2                    42.657501              68.116445             10.507046   \n",
       "3                    42.689819              68.347543             10.422762   \n",
       "4                    42.774141              66.927016             10.360302   \n",
       "\n",
       "   final.output.tail_pb  final.output.tail_sol  final.output.tail_au  ...  \\\n",
       "0              0.895447              16.904297              2.143149  ...   \n",
       "1              0.927452              16.634514              2.224930  ...   \n",
       "2              0.953716              16.208849              2.257889  ...   \n",
       "3              0.883763              16.532835              2.146849  ...   \n",
       "4              0.792826              16.525686              2.055292  ...   \n",
       "\n",
       "   secondary_cleaner.state.floatbank4_a_air  \\\n",
       "0                                 14.016835   \n",
       "1                                 13.992281   \n",
       "2                                 14.015015   \n",
       "3                                 14.036510   \n",
       "4                                 14.027298   \n",
       "\n",
       "   secondary_cleaner.state.floatbank4_a_level  \\\n",
       "0                                 -502.488007   \n",
       "1                                 -505.503262   \n",
       "2                                 -502.520901   \n",
       "3                                 -500.857308   \n",
       "4                                 -499.838632   \n",
       "\n",
       "   secondary_cleaner.state.floatbank4_b_air  \\\n",
       "0                                 12.099931   \n",
       "1                                 11.950531   \n",
       "2                                 11.912783   \n",
       "3                                 11.999550   \n",
       "4                                 11.953070   \n",
       "\n",
       "   secondary_cleaner.state.floatbank4_b_level  \\\n",
       "0                                 -504.715942   \n",
       "1                                 -501.331529   \n",
       "2                                 -501.133383   \n",
       "3                                 -501.193686   \n",
       "4                                 -501.053894   \n",
       "\n",
       "   secondary_cleaner.state.floatbank5_a_air  \\\n",
       "0                                  9.925633   \n",
       "1                                 10.039245   \n",
       "2                                 10.070913   \n",
       "3                                  9.970366   \n",
       "4                                  9.925709   \n",
       "\n",
       "   secondary_cleaner.state.floatbank5_a_level  \\\n",
       "0                                 -498.310211   \n",
       "1                                 -500.169983   \n",
       "2                                 -500.129135   \n",
       "3                                 -499.201640   \n",
       "4                                 -501.686727   \n",
       "\n",
       "   secondary_cleaner.state.floatbank5_b_air  \\\n",
       "0                                  8.079666   \n",
       "1                                  7.984757   \n",
       "2                                  8.013877   \n",
       "3                                  7.977324   \n",
       "4                                  7.894242   \n",
       "\n",
       "   secondary_cleaner.state.floatbank5_b_level  \\\n",
       "0                                 -500.470978   \n",
       "1                                 -500.582168   \n",
       "2                                 -500.517572   \n",
       "3                                 -500.255908   \n",
       "4                                 -500.356035   \n",
       "\n",
       "   secondary_cleaner.state.floatbank6_a_air  \\\n",
       "0                                 14.151341   \n",
       "1                                 13.998353   \n",
       "2                                 14.028663   \n",
       "3                                 14.005551   \n",
       "4                                 13.996647   \n",
       "\n",
       "   secondary_cleaner.state.floatbank6_a_level  \n",
       "0                                 -605.841980  \n",
       "1                                 -599.787184  \n",
       "2                                 -601.427363  \n",
       "3                                 -599.996129  \n",
       "4                                 -601.496691  \n",
       "\n",
       "[5 rows x 87 columns]"
      ]
     },
     "execution_count": 7,
     "metadata": {},
     "output_type": "execute_result"
    }
   ],
   "source": [
    "df_train.head(5)"
   ]
  },
  {
   "cell_type": "code",
   "execution_count": 8,
   "metadata": {},
   "outputs": [
    {
     "name": "stdout",
     "output_type": "stream",
     "text": [
      "<class 'pandas.core.frame.DataFrame'>\n",
      "RangeIndex: 14149 entries, 0 to 14148\n",
      "Data columns (total 87 columns):\n",
      " #   Column                                              Non-Null Count  Dtype  \n",
      "---  ------                                              --------------  -----  \n",
      " 0   date                                                14149 non-null  object \n",
      " 1   final.output.concentrate_ag                         14148 non-null  float64\n",
      " 2   final.output.concentrate_pb                         14148 non-null  float64\n",
      " 3   final.output.concentrate_sol                        13938 non-null  float64\n",
      " 4   final.output.concentrate_au                         14149 non-null  float64\n",
      " 5   final.output.recovery                               14149 non-null  float64\n",
      " 6   final.output.tail_ag                                14149 non-null  float64\n",
      " 7   final.output.tail_pb                                14049 non-null  float64\n",
      " 8   final.output.tail_sol                               14144 non-null  float64\n",
      " 9   final.output.tail_au                                14149 non-null  float64\n",
      " 10  primary_cleaner.input.sulfate                       14129 non-null  float64\n",
      " 11  primary_cleaner.input.depressant                    14117 non-null  float64\n",
      " 12  primary_cleaner.input.feed_size                     14149 non-null  float64\n",
      " 13  primary_cleaner.input.xanthate                      14049 non-null  float64\n",
      " 14  primary_cleaner.output.concentrate_ag               14149 non-null  float64\n",
      " 15  primary_cleaner.output.concentrate_pb               14063 non-null  float64\n",
      " 16  primary_cleaner.output.concentrate_sol              13863 non-null  float64\n",
      " 17  primary_cleaner.output.concentrate_au               14149 non-null  float64\n",
      " 18  primary_cleaner.output.tail_ag                      14148 non-null  float64\n",
      " 19  primary_cleaner.output.tail_pb                      14134 non-null  float64\n",
      " 20  primary_cleaner.output.tail_sol                     14103 non-null  float64\n",
      " 21  primary_cleaner.output.tail_au                      14149 non-null  float64\n",
      " 22  primary_cleaner.state.floatbank8_a_air              14145 non-null  float64\n",
      " 23  primary_cleaner.state.floatbank8_a_level            14148 non-null  float64\n",
      " 24  primary_cleaner.state.floatbank8_b_air              14145 non-null  float64\n",
      " 25  primary_cleaner.state.floatbank8_b_level            14148 non-null  float64\n",
      " 26  primary_cleaner.state.floatbank8_c_air              14147 non-null  float64\n",
      " 27  primary_cleaner.state.floatbank8_c_level            14148 non-null  float64\n",
      " 28  primary_cleaner.state.floatbank8_d_air              14146 non-null  float64\n",
      " 29  primary_cleaner.state.floatbank8_d_level            14148 non-null  float64\n",
      " 30  rougher.calculation.sulfate_to_au_concentrate       14148 non-null  float64\n",
      " 31  rougher.calculation.floatbank10_sulfate_to_au_feed  14148 non-null  float64\n",
      " 32  rougher.calculation.floatbank11_sulfate_to_au_feed  14148 non-null  float64\n",
      " 33  rougher.calculation.au_pb_ratio                     14149 non-null  float64\n",
      " 34  rougher.input.feed_ag                               14149 non-null  float64\n",
      " 35  rougher.input.feed_pb                               14049 non-null  float64\n",
      " 36  rougher.input.feed_rate                             14141 non-null  float64\n",
      " 37  rougher.input.feed_size                             14005 non-null  float64\n",
      " 38  rougher.input.feed_sol                              14071 non-null  float64\n",
      " 39  rougher.input.feed_au                               14149 non-null  float64\n",
      " 40  rougher.input.floatbank10_sulfate                   14120 non-null  float64\n",
      " 41  rougher.input.floatbank10_xanthate                  14141 non-null  float64\n",
      " 42  rougher.input.floatbank11_sulfate                   14113 non-null  float64\n",
      " 43  rougher.input.floatbank11_xanthate                  13721 non-null  float64\n",
      " 44  rougher.output.concentrate_ag                       14149 non-null  float64\n",
      " 45  rougher.output.concentrate_pb                       14149 non-null  float64\n",
      " 46  rougher.output.concentrate_sol                      14127 non-null  float64\n",
      " 47  rougher.output.concentrate_au                       14149 non-null  float64\n",
      " 48  rougher.output.recovery                             14149 non-null  float64\n",
      " 49  rougher.output.tail_ag                              14148 non-null  float64\n",
      " 50  rougher.output.tail_pb                              14149 non-null  float64\n",
      " 51  rougher.output.tail_sol                             14149 non-null  float64\n",
      " 52  rougher.output.tail_au                              14149 non-null  float64\n",
      " 53  rougher.state.floatbank10_a_air                     14148 non-null  float64\n",
      " 54  rougher.state.floatbank10_a_level                   14148 non-null  float64\n",
      " 55  rougher.state.floatbank10_b_air                     14148 non-null  float64\n",
      " 56  rougher.state.floatbank10_b_level                   14148 non-null  float64\n",
      " 57  rougher.state.floatbank10_c_air                     14148 non-null  float64\n",
      " 58  rougher.state.floatbank10_c_level                   14148 non-null  float64\n",
      " 59  rougher.state.floatbank10_d_air                     14149 non-null  float64\n",
      " 60  rougher.state.floatbank10_d_level                   14149 non-null  float64\n",
      " 61  rougher.state.floatbank10_e_air                     13713 non-null  float64\n",
      " 62  rougher.state.floatbank10_e_level                   14149 non-null  float64\n",
      " 63  rougher.state.floatbank10_f_air                     14149 non-null  float64\n",
      " 64  rougher.state.floatbank10_f_level                   14149 non-null  float64\n",
      " 65  secondary_cleaner.output.tail_ag                    14147 non-null  float64\n",
      " 66  secondary_cleaner.output.tail_pb                    14139 non-null  float64\n",
      " 67  secondary_cleaner.output.tail_sol                   12544 non-null  float64\n",
      " 68  secondary_cleaner.output.tail_au                    14149 non-null  float64\n",
      " 69  secondary_cleaner.state.floatbank2_a_air            13932 non-null  float64\n",
      " 70  secondary_cleaner.state.floatbank2_a_level          14148 non-null  float64\n",
      " 71  secondary_cleaner.state.floatbank2_b_air            14128 non-null  float64\n",
      " 72  secondary_cleaner.state.floatbank2_b_level          14148 non-null  float64\n",
      " 73  secondary_cleaner.state.floatbank3_a_air            14145 non-null  float64\n",
      " 74  secondary_cleaner.state.floatbank3_a_level          14148 non-null  float64\n",
      " 75  secondary_cleaner.state.floatbank3_b_air            14148 non-null  float64\n",
      " 76  secondary_cleaner.state.floatbank3_b_level          14148 non-null  float64\n",
      " 77  secondary_cleaner.state.floatbank4_a_air            14143 non-null  float64\n",
      " 78  secondary_cleaner.state.floatbank4_a_level          14148 non-null  float64\n",
      " 79  secondary_cleaner.state.floatbank4_b_air            14148 non-null  float64\n",
      " 80  secondary_cleaner.state.floatbank4_b_level          14148 non-null  float64\n",
      " 81  secondary_cleaner.state.floatbank5_a_air            14148 non-null  float64\n",
      " 82  secondary_cleaner.state.floatbank5_a_level          14148 non-null  float64\n",
      " 83  secondary_cleaner.state.floatbank5_b_air            14148 non-null  float64\n",
      " 84  secondary_cleaner.state.floatbank5_b_level          14148 non-null  float64\n",
      " 85  secondary_cleaner.state.floatbank6_a_air            14147 non-null  float64\n",
      " 86  secondary_cleaner.state.floatbank6_a_level          14148 non-null  float64\n",
      "dtypes: float64(86), object(1)\n",
      "memory usage: 9.4+ MB\n"
     ]
    }
   ],
   "source": [
    "df_train.info()"
   ]
  },
  {
   "cell_type": "code",
   "execution_count": 9,
   "metadata": {},
   "outputs": [
    {
     "data": {
      "text/html": [
       "<div>\n",
       "<style scoped>\n",
       "    .dataframe tbody tr th:only-of-type {\n",
       "        vertical-align: middle;\n",
       "    }\n",
       "\n",
       "    .dataframe tbody tr th {\n",
       "        vertical-align: top;\n",
       "    }\n",
       "\n",
       "    .dataframe thead th {\n",
       "        text-align: right;\n",
       "    }\n",
       "</style>\n",
       "<table border=\"1\" class=\"dataframe\">\n",
       "  <thead>\n",
       "    <tr style=\"text-align: right;\">\n",
       "      <th></th>\n",
       "      <th>date</th>\n",
       "      <th>primary_cleaner.input.sulfate</th>\n",
       "      <th>primary_cleaner.input.depressant</th>\n",
       "      <th>primary_cleaner.input.feed_size</th>\n",
       "      <th>primary_cleaner.input.xanthate</th>\n",
       "      <th>primary_cleaner.state.floatbank8_a_air</th>\n",
       "      <th>primary_cleaner.state.floatbank8_a_level</th>\n",
       "      <th>primary_cleaner.state.floatbank8_b_air</th>\n",
       "      <th>primary_cleaner.state.floatbank8_b_level</th>\n",
       "      <th>primary_cleaner.state.floatbank8_c_air</th>\n",
       "      <th>...</th>\n",
       "      <th>secondary_cleaner.state.floatbank4_a_air</th>\n",
       "      <th>secondary_cleaner.state.floatbank4_a_level</th>\n",
       "      <th>secondary_cleaner.state.floatbank4_b_air</th>\n",
       "      <th>secondary_cleaner.state.floatbank4_b_level</th>\n",
       "      <th>secondary_cleaner.state.floatbank5_a_air</th>\n",
       "      <th>secondary_cleaner.state.floatbank5_a_level</th>\n",
       "      <th>secondary_cleaner.state.floatbank5_b_air</th>\n",
       "      <th>secondary_cleaner.state.floatbank5_b_level</th>\n",
       "      <th>secondary_cleaner.state.floatbank6_a_air</th>\n",
       "      <th>secondary_cleaner.state.floatbank6_a_level</th>\n",
       "    </tr>\n",
       "  </thead>\n",
       "  <tbody>\n",
       "    <tr>\n",
       "      <th>0</th>\n",
       "      <td>2016-09-01 00:59:59</td>\n",
       "      <td>210.800909</td>\n",
       "      <td>14.993118</td>\n",
       "      <td>8.080000</td>\n",
       "      <td>1.005021</td>\n",
       "      <td>1398.981301</td>\n",
       "      <td>-500.225577</td>\n",
       "      <td>1399.144926</td>\n",
       "      <td>-499.919735</td>\n",
       "      <td>1400.102998</td>\n",
       "      <td>...</td>\n",
       "      <td>12.023554</td>\n",
       "      <td>-497.795834</td>\n",
       "      <td>8.016656</td>\n",
       "      <td>-501.289139</td>\n",
       "      <td>7.946562</td>\n",
       "      <td>-432.317850</td>\n",
       "      <td>4.872511</td>\n",
       "      <td>-500.037437</td>\n",
       "      <td>26.705889</td>\n",
       "      <td>-499.709414</td>\n",
       "    </tr>\n",
       "    <tr>\n",
       "      <th>1</th>\n",
       "      <td>2016-09-01 01:59:59</td>\n",
       "      <td>215.392455</td>\n",
       "      <td>14.987471</td>\n",
       "      <td>8.080000</td>\n",
       "      <td>0.990469</td>\n",
       "      <td>1398.777912</td>\n",
       "      <td>-500.057435</td>\n",
       "      <td>1398.055362</td>\n",
       "      <td>-499.778182</td>\n",
       "      <td>1396.151033</td>\n",
       "      <td>...</td>\n",
       "      <td>12.058140</td>\n",
       "      <td>-498.695773</td>\n",
       "      <td>8.130979</td>\n",
       "      <td>-499.634209</td>\n",
       "      <td>7.958270</td>\n",
       "      <td>-525.839648</td>\n",
       "      <td>4.878850</td>\n",
       "      <td>-500.162375</td>\n",
       "      <td>25.019940</td>\n",
       "      <td>-499.819438</td>\n",
       "    </tr>\n",
       "    <tr>\n",
       "      <th>2</th>\n",
       "      <td>2016-09-01 02:59:59</td>\n",
       "      <td>215.259946</td>\n",
       "      <td>12.884934</td>\n",
       "      <td>7.786667</td>\n",
       "      <td>0.996043</td>\n",
       "      <td>1398.493666</td>\n",
       "      <td>-500.868360</td>\n",
       "      <td>1398.860436</td>\n",
       "      <td>-499.764529</td>\n",
       "      <td>1398.075709</td>\n",
       "      <td>...</td>\n",
       "      <td>11.962366</td>\n",
       "      <td>-498.767484</td>\n",
       "      <td>8.096893</td>\n",
       "      <td>-500.827423</td>\n",
       "      <td>8.071056</td>\n",
       "      <td>-500.801673</td>\n",
       "      <td>4.905125</td>\n",
       "      <td>-499.828510</td>\n",
       "      <td>24.994862</td>\n",
       "      <td>-500.622559</td>\n",
       "    </tr>\n",
       "    <tr>\n",
       "      <th>3</th>\n",
       "      <td>2016-09-01 03:59:59</td>\n",
       "      <td>215.336236</td>\n",
       "      <td>12.006805</td>\n",
       "      <td>7.640000</td>\n",
       "      <td>0.863514</td>\n",
       "      <td>1399.618111</td>\n",
       "      <td>-498.863574</td>\n",
       "      <td>1397.440120</td>\n",
       "      <td>-499.211024</td>\n",
       "      <td>1400.129303</td>\n",
       "      <td>...</td>\n",
       "      <td>12.033091</td>\n",
       "      <td>-498.350935</td>\n",
       "      <td>8.074946</td>\n",
       "      <td>-499.474407</td>\n",
       "      <td>7.897085</td>\n",
       "      <td>-500.868509</td>\n",
       "      <td>4.931400</td>\n",
       "      <td>-499.963623</td>\n",
       "      <td>24.948919</td>\n",
       "      <td>-498.709987</td>\n",
       "    </tr>\n",
       "    <tr>\n",
       "      <th>4</th>\n",
       "      <td>2016-09-01 04:59:59</td>\n",
       "      <td>199.099327</td>\n",
       "      <td>10.682530</td>\n",
       "      <td>7.530000</td>\n",
       "      <td>0.805575</td>\n",
       "      <td>1401.268123</td>\n",
       "      <td>-500.808305</td>\n",
       "      <td>1398.128818</td>\n",
       "      <td>-499.504543</td>\n",
       "      <td>1402.172226</td>\n",
       "      <td>...</td>\n",
       "      <td>12.025367</td>\n",
       "      <td>-500.786497</td>\n",
       "      <td>8.054678</td>\n",
       "      <td>-500.397500</td>\n",
       "      <td>8.107890</td>\n",
       "      <td>-509.526725</td>\n",
       "      <td>4.957674</td>\n",
       "      <td>-500.360026</td>\n",
       "      <td>25.003331</td>\n",
       "      <td>-500.856333</td>\n",
       "    </tr>\n",
       "  </tbody>\n",
       "</table>\n",
       "<p>5 rows × 53 columns</p>\n",
       "</div>"
      ],
      "text/plain": [
       "                  date  primary_cleaner.input.sulfate  \\\n",
       "0  2016-09-01 00:59:59                     210.800909   \n",
       "1  2016-09-01 01:59:59                     215.392455   \n",
       "2  2016-09-01 02:59:59                     215.259946   \n",
       "3  2016-09-01 03:59:59                     215.336236   \n",
       "4  2016-09-01 04:59:59                     199.099327   \n",
       "\n",
       "   primary_cleaner.input.depressant  primary_cleaner.input.feed_size  \\\n",
       "0                         14.993118                         8.080000   \n",
       "1                         14.987471                         8.080000   \n",
       "2                         12.884934                         7.786667   \n",
       "3                         12.006805                         7.640000   \n",
       "4                         10.682530                         7.530000   \n",
       "\n",
       "   primary_cleaner.input.xanthate  primary_cleaner.state.floatbank8_a_air  \\\n",
       "0                        1.005021                             1398.981301   \n",
       "1                        0.990469                             1398.777912   \n",
       "2                        0.996043                             1398.493666   \n",
       "3                        0.863514                             1399.618111   \n",
       "4                        0.805575                             1401.268123   \n",
       "\n",
       "   primary_cleaner.state.floatbank8_a_level  \\\n",
       "0                               -500.225577   \n",
       "1                               -500.057435   \n",
       "2                               -500.868360   \n",
       "3                               -498.863574   \n",
       "4                               -500.808305   \n",
       "\n",
       "   primary_cleaner.state.floatbank8_b_air  \\\n",
       "0                             1399.144926   \n",
       "1                             1398.055362   \n",
       "2                             1398.860436   \n",
       "3                             1397.440120   \n",
       "4                             1398.128818   \n",
       "\n",
       "   primary_cleaner.state.floatbank8_b_level  \\\n",
       "0                               -499.919735   \n",
       "1                               -499.778182   \n",
       "2                               -499.764529   \n",
       "3                               -499.211024   \n",
       "4                               -499.504543   \n",
       "\n",
       "   primary_cleaner.state.floatbank8_c_air  ...  \\\n",
       "0                             1400.102998  ...   \n",
       "1                             1396.151033  ...   \n",
       "2                             1398.075709  ...   \n",
       "3                             1400.129303  ...   \n",
       "4                             1402.172226  ...   \n",
       "\n",
       "   secondary_cleaner.state.floatbank4_a_air  \\\n",
       "0                                 12.023554   \n",
       "1                                 12.058140   \n",
       "2                                 11.962366   \n",
       "3                                 12.033091   \n",
       "4                                 12.025367   \n",
       "\n",
       "   secondary_cleaner.state.floatbank4_a_level  \\\n",
       "0                                 -497.795834   \n",
       "1                                 -498.695773   \n",
       "2                                 -498.767484   \n",
       "3                                 -498.350935   \n",
       "4                                 -500.786497   \n",
       "\n",
       "   secondary_cleaner.state.floatbank4_b_air  \\\n",
       "0                                  8.016656   \n",
       "1                                  8.130979   \n",
       "2                                  8.096893   \n",
       "3                                  8.074946   \n",
       "4                                  8.054678   \n",
       "\n",
       "   secondary_cleaner.state.floatbank4_b_level  \\\n",
       "0                                 -501.289139   \n",
       "1                                 -499.634209   \n",
       "2                                 -500.827423   \n",
       "3                                 -499.474407   \n",
       "4                                 -500.397500   \n",
       "\n",
       "   secondary_cleaner.state.floatbank5_a_air  \\\n",
       "0                                  7.946562   \n",
       "1                                  7.958270   \n",
       "2                                  8.071056   \n",
       "3                                  7.897085   \n",
       "4                                  8.107890   \n",
       "\n",
       "   secondary_cleaner.state.floatbank5_a_level  \\\n",
       "0                                 -432.317850   \n",
       "1                                 -525.839648   \n",
       "2                                 -500.801673   \n",
       "3                                 -500.868509   \n",
       "4                                 -509.526725   \n",
       "\n",
       "   secondary_cleaner.state.floatbank5_b_air  \\\n",
       "0                                  4.872511   \n",
       "1                                  4.878850   \n",
       "2                                  4.905125   \n",
       "3                                  4.931400   \n",
       "4                                  4.957674   \n",
       "\n",
       "   secondary_cleaner.state.floatbank5_b_level  \\\n",
       "0                                 -500.037437   \n",
       "1                                 -500.162375   \n",
       "2                                 -499.828510   \n",
       "3                                 -499.963623   \n",
       "4                                 -500.360026   \n",
       "\n",
       "   secondary_cleaner.state.floatbank6_a_air  \\\n",
       "0                                 26.705889   \n",
       "1                                 25.019940   \n",
       "2                                 24.994862   \n",
       "3                                 24.948919   \n",
       "4                                 25.003331   \n",
       "\n",
       "   secondary_cleaner.state.floatbank6_a_level  \n",
       "0                                 -499.709414  \n",
       "1                                 -499.819438  \n",
       "2                                 -500.622559  \n",
       "3                                 -498.709987  \n",
       "4                                 -500.856333  \n",
       "\n",
       "[5 rows x 53 columns]"
      ]
     },
     "execution_count": 9,
     "metadata": {},
     "output_type": "execute_result"
    }
   ],
   "source": [
    "df_test.head(5)"
   ]
  },
  {
   "cell_type": "code",
   "execution_count": 10,
   "metadata": {
    "scrolled": true
   },
   "outputs": [
    {
     "name": "stdout",
     "output_type": "stream",
     "text": [
      "<class 'pandas.core.frame.DataFrame'>\n",
      "RangeIndex: 5290 entries, 0 to 5289\n",
      "Data columns (total 53 columns):\n",
      " #   Column                                      Non-Null Count  Dtype  \n",
      "---  ------                                      --------------  -----  \n",
      " 0   date                                        5290 non-null   object \n",
      " 1   primary_cleaner.input.sulfate               5286 non-null   float64\n",
      " 2   primary_cleaner.input.depressant            5285 non-null   float64\n",
      " 3   primary_cleaner.input.feed_size             5290 non-null   float64\n",
      " 4   primary_cleaner.input.xanthate              5286 non-null   float64\n",
      " 5   primary_cleaner.state.floatbank8_a_air      5290 non-null   float64\n",
      " 6   primary_cleaner.state.floatbank8_a_level    5290 non-null   float64\n",
      " 7   primary_cleaner.state.floatbank8_b_air      5290 non-null   float64\n",
      " 8   primary_cleaner.state.floatbank8_b_level    5290 non-null   float64\n",
      " 9   primary_cleaner.state.floatbank8_c_air      5290 non-null   float64\n",
      " 10  primary_cleaner.state.floatbank8_c_level    5290 non-null   float64\n",
      " 11  primary_cleaner.state.floatbank8_d_air      5290 non-null   float64\n",
      " 12  primary_cleaner.state.floatbank8_d_level    5290 non-null   float64\n",
      " 13  rougher.input.feed_ag                       5290 non-null   float64\n",
      " 14  rougher.input.feed_pb                       5290 non-null   float64\n",
      " 15  rougher.input.feed_rate                     5287 non-null   float64\n",
      " 16  rougher.input.feed_size                     5289 non-null   float64\n",
      " 17  rougher.input.feed_sol                      5269 non-null   float64\n",
      " 18  rougher.input.feed_au                       5290 non-null   float64\n",
      " 19  rougher.input.floatbank10_sulfate           5285 non-null   float64\n",
      " 20  rougher.input.floatbank10_xanthate          5290 non-null   float64\n",
      " 21  rougher.input.floatbank11_sulfate           5282 non-null   float64\n",
      " 22  rougher.input.floatbank11_xanthate          5265 non-null   float64\n",
      " 23  rougher.state.floatbank10_a_air             5290 non-null   float64\n",
      " 24  rougher.state.floatbank10_a_level           5290 non-null   float64\n",
      " 25  rougher.state.floatbank10_b_air             5290 non-null   float64\n",
      " 26  rougher.state.floatbank10_b_level           5290 non-null   float64\n",
      " 27  rougher.state.floatbank10_c_air             5290 non-null   float64\n",
      " 28  rougher.state.floatbank10_c_level           5290 non-null   float64\n",
      " 29  rougher.state.floatbank10_d_air             5290 non-null   float64\n",
      " 30  rougher.state.floatbank10_d_level           5290 non-null   float64\n",
      " 31  rougher.state.floatbank10_e_air             5290 non-null   float64\n",
      " 32  rougher.state.floatbank10_e_level           5290 non-null   float64\n",
      " 33  rougher.state.floatbank10_f_air             5290 non-null   float64\n",
      " 34  rougher.state.floatbank10_f_level           5290 non-null   float64\n",
      " 35  secondary_cleaner.state.floatbank2_a_air    5287 non-null   float64\n",
      " 36  secondary_cleaner.state.floatbank2_a_level  5290 non-null   float64\n",
      " 37  secondary_cleaner.state.floatbank2_b_air    5288 non-null   float64\n",
      " 38  secondary_cleaner.state.floatbank2_b_level  5290 non-null   float64\n",
      " 39  secondary_cleaner.state.floatbank3_a_air    5281 non-null   float64\n",
      " 40  secondary_cleaner.state.floatbank3_a_level  5290 non-null   float64\n",
      " 41  secondary_cleaner.state.floatbank3_b_air    5290 non-null   float64\n",
      " 42  secondary_cleaner.state.floatbank3_b_level  5290 non-null   float64\n",
      " 43  secondary_cleaner.state.floatbank4_a_air    5290 non-null   float64\n",
      " 44  secondary_cleaner.state.floatbank4_a_level  5290 non-null   float64\n",
      " 45  secondary_cleaner.state.floatbank4_b_air    5290 non-null   float64\n",
      " 46  secondary_cleaner.state.floatbank4_b_level  5290 non-null   float64\n",
      " 47  secondary_cleaner.state.floatbank5_a_air    5290 non-null   float64\n",
      " 48  secondary_cleaner.state.floatbank5_a_level  5290 non-null   float64\n",
      " 49  secondary_cleaner.state.floatbank5_b_air    5290 non-null   float64\n",
      " 50  secondary_cleaner.state.floatbank5_b_level  5290 non-null   float64\n",
      " 51  secondary_cleaner.state.floatbank6_a_air    5290 non-null   float64\n",
      " 52  secondary_cleaner.state.floatbank6_a_level  5290 non-null   float64\n",
      "dtypes: float64(52), object(1)\n",
      "memory usage: 2.1+ MB\n"
     ]
    }
   ],
   "source": [
    "df_test.info()"
   ]
  },
  {
   "cell_type": "markdown",
   "metadata": {},
   "source": [
    "Let's check that the enrichment efficiency is calculated correctly. Let's calculate it on the training sample for the feature rougher.output.recovery. Let's find MAE between calculations and feature value."
   ]
  },
  {
   "cell_type": "code",
   "execution_count": 11,
   "metadata": {},
   "outputs": [
    {
     "data": {
      "text/plain": [
       "0        87.107763\n",
       "1        86.843261\n",
       "2        86.842308\n",
       "3        87.226430\n",
       "4        86.688794\n",
       "           ...    \n",
       "14144    89.574376\n",
       "14145    87.724007\n",
       "14146    88.890579\n",
       "14147    89.858126\n",
       "14148    89.514960\n",
       "Name: rougher.output.recovery, Length: 14149, dtype: float64"
      ]
     },
     "execution_count": 11,
     "metadata": {},
     "output_type": "execute_result"
    }
   ],
   "source": [
    "df_train[\"rougher.output.recovery\"]"
   ]
  },
  {
   "cell_type": "markdown",
   "metadata": {},
   "source": [
    "Let's create a formula for calculating the enrichment efficiency and calculate it again."
   ]
  },
  {
   "cell_type": "code",
   "execution_count": 12,
   "metadata": {},
   "outputs": [],
   "source": [
    "def rougher_output_recovery(\n",
    "    rougher_output_concentrate_au, rougher_input_feed_au, rougher_output_tail_au\n",
    "):\n",
    "    return (\n",
    "        (\n",
    "            rougher_output_concentrate_au\n",
    "            * (rougher_input_feed_au - rougher_output_tail_au)\n",
    "        )\n",
    "        / (\n",
    "            rougher_input_feed_au\n",
    "            * (rougher_output_concentrate_au - rougher_output_tail_au)\n",
    "        )\n",
    "        * 100\n",
    "    )"
   ]
  },
  {
   "cell_type": "code",
   "execution_count": 13,
   "metadata": {},
   "outputs": [],
   "source": [
    "ror_train_recalc = rougher_output_recovery(\n",
    "    df_train[\"rougher.output.concentrate_au\"],\n",
    "    df_train[\"rougher.input.feed_au\"],\n",
    "    df_train[\"rougher.output.tail_au\"],\n",
    ")"
   ]
  },
  {
   "cell_type": "code",
   "execution_count": 14,
   "metadata": {
    "scrolled": true
   },
   "outputs": [
    {
     "name": "stdout",
     "output_type": "stream",
     "text": [
      "MAE= 9.73512347450521e-15\n"
     ]
    }
   ],
   "source": [
    "print(\n",
    "    \"MAE=\", mean_absolute_error(df_train[\"rougher.output.recovery\"], ror_train_recalc)\n",
    ")"
   ]
  },
  {
   "cell_type": "markdown",
   "metadata": {},
   "source": [
    "The value of **MAE** is practically zero, which means that the initial values are calculated correctly."
   ]
  },
  {
   "cell_type": "markdown",
   "metadata": {},
   "source": [
    "Let's analyze the features that are not available in the test sample. What are these parameters? What type are they?"
   ]
  },
  {
   "cell_type": "code",
   "execution_count": 15,
   "metadata": {},
   "outputs": [
    {
     "name": "stdout",
     "output_type": "stream",
     "text": [
      "The number of features missing in the test sample: 34\n",
      "['final.output.concentrate_ag', 'final.output.concentrate_pb', 'final.output.concentrate_sol', 'final.output.concentrate_au', 'final.output.recovery', 'final.output.tail_ag', 'final.output.tail_pb', 'final.output.tail_sol', 'final.output.tail_au', 'primary_cleaner.output.concentrate_ag', 'primary_cleaner.output.concentrate_pb', 'primary_cleaner.output.concentrate_sol', 'primary_cleaner.output.concentrate_au', 'primary_cleaner.output.tail_ag', 'primary_cleaner.output.tail_pb', 'primary_cleaner.output.tail_sol', 'primary_cleaner.output.tail_au', 'rougher.calculation.sulfate_to_au_concentrate', 'rougher.calculation.floatbank10_sulfate_to_au_feed', 'rougher.calculation.floatbank11_sulfate_to_au_feed', 'rougher.calculation.au_pb_ratio', 'rougher.output.concentrate_ag', 'rougher.output.concentrate_pb', 'rougher.output.concentrate_sol', 'rougher.output.concentrate_au', 'rougher.output.recovery', 'rougher.output.tail_ag', 'rougher.output.tail_pb', 'rougher.output.tail_sol', 'rougher.output.tail_au', 'secondary_cleaner.output.tail_ag', 'secondary_cleaner.output.tail_pb', 'secondary_cleaner.output.tail_sol', 'secondary_cleaner.output.tail_au']\n",
      "df_train.columns and df_test.columns lists are different\n"
     ]
    }
   ],
   "source": [
    "res = [x for x in list(df_train.columns) + list(df_test.columns) if x not in list(df_train.columns) or x not in list(df_test.columns)] \n",
    "print('The number of features missing in the test sample:', len(res))\n",
    "print(res)\n",
    "if not res: \n",
    "    print(\"df_train.columns and df_test.columns lists are equal\") \n",
    "else: \n",
    "    print(\"df_train.columns and df_test.columns lists are different\")\n"
   ]
  },
  {
   "cell_type": "markdown",
   "metadata": {},
   "source": [
    "**input** — raw material parameters, **state** — parameters characterizing the current stage state.\n",
    "\n",
    "Accordingly, there are no signs describing **output**(*product parameters*) and **calculation**(*calculated characteristics*) in this sample, only starting indicators and indicators of the processes themselves."
   ]
  },
  {
   "cell_type": "markdown",
   "metadata": {},
   "source": [
    "Let's start preprocessing the data."
   ]
  },
  {
   "cell_type": "code",
   "execution_count": 16,
   "metadata": {},
   "outputs": [],
   "source": [
    "def convert_to_dt(df, column_name):\n",
    "    return pd.to_datetime(df[column_name])"
   ]
  },
  {
   "cell_type": "markdown",
   "metadata": {},
   "source": [
    "We create a function to simplify the conversion."
   ]
  },
  {
   "cell_type": "code",
   "execution_count": 17,
   "metadata": {},
   "outputs": [],
   "source": [
    "df[\"date\"] = convert_to_dt(df, \"date\")"
   ]
  },
  {
   "cell_type": "code",
   "execution_count": 18,
   "metadata": {},
   "outputs": [],
   "source": [
    "df_train[\"date\"] = convert_to_dt(df_train, \"date\")"
   ]
  },
  {
   "cell_type": "code",
   "execution_count": 19,
   "metadata": {},
   "outputs": [],
   "source": [
    "df_test[\"date\"] = convert_to_dt(df_test, \"date\")"
   ]
  },
  {
   "cell_type": "code",
   "execution_count": 20,
   "metadata": {},
   "outputs": [
    {
     "data": {
      "text/plain": [
       "0.0"
      ]
     },
     "execution_count": 20,
     "metadata": {},
     "output_type": "execute_result"
    }
   ],
   "source": [
    "df.duplicated().mean()"
   ]
  },
  {
   "cell_type": "code",
   "execution_count": 21,
   "metadata": {},
   "outputs": [
    {
     "data": {
      "text/plain": [
       "0.0"
      ]
     },
     "execution_count": 21,
     "metadata": {},
     "output_type": "execute_result"
    }
   ],
   "source": [
    "df_train.duplicated().mean()"
   ]
  },
  {
   "cell_type": "code",
   "execution_count": 22,
   "metadata": {},
   "outputs": [
    {
     "data": {
      "text/plain": [
       "0.0"
      ]
     },
     "execution_count": 22,
     "metadata": {},
     "output_type": "execute_result"
    }
   ],
   "source": [
    "df_test.duplicated().mean()"
   ]
  },
  {
   "cell_type": "code",
   "execution_count": 23,
   "metadata": {},
   "outputs": [
    {
     "data": {
      "text/plain": [
       "1748"
      ]
     },
     "execution_count": 23,
     "metadata": {},
     "output_type": "execute_result"
    }
   ],
   "source": [
    "df.isna().sum().max()"
   ]
  },
  {
   "cell_type": "code",
   "execution_count": 24,
   "metadata": {},
   "outputs": [
    {
     "data": {
      "text/plain": [
       "1605"
      ]
     },
     "execution_count": 24,
     "metadata": {},
     "output_type": "execute_result"
    }
   ],
   "source": [
    "df_train.isna().sum().max()"
   ]
  },
  {
   "cell_type": "code",
   "execution_count": 25,
   "metadata": {},
   "outputs": [
    {
     "data": {
      "text/plain": [
       "25"
      ]
     },
     "execution_count": 25,
     "metadata": {},
     "output_type": "execute_result"
    }
   ],
   "source": [
    "df_test.isna().sum().max()"
   ]
  },
  {
   "cell_type": "markdown",
   "metadata": {},
   "source": [
    "In all datasets, there are gaps, in order to eliminate NaN and not lose valuable information, we will use the direct filling method. Let us preliminarily estimate the shares of these omissions."
   ]
  },
  {
   "cell_type": "code",
   "execution_count": 26,
   "metadata": {},
   "outputs": [
    {
     "name": "stdout",
     "output_type": "stream",
     "text": [
      "Percentage of Potentially Deleted Rows: 9.017174635731799 %\n"
     ]
    }
   ],
   "source": [
    "print(\n",
    "    \"Percentage of Potentially Deleted Rows:\",\n",
    "    ((df.isna().sum().max() / df.count()) * 100).mean(),\n",
    "    \"%\",\n",
    ")"
   ]
  },
  {
   "cell_type": "code",
   "execution_count": 27,
   "metadata": {},
   "outputs": [
    {
     "name": "stdout",
     "output_type": "stream",
     "text": [
      "Percentage of Potentially Deleted Rows: 8.27949959402147 %\n"
     ]
    }
   ],
   "source": [
    "print(\n",
    "    \"Percentage of Potentially Deleted Rows:\",\n",
    "    ((df_train.isna().sum().max() / df.count()) * 100).mean(),\n",
    "    \"%\",\n",
    ")"
   ]
  },
  {
   "cell_type": "code",
   "execution_count": 28,
   "metadata": {},
   "outputs": [
    {
     "name": "stdout",
     "output_type": "stream",
     "text": [
      "Percentage of Potentially Deleted Rows: 0.1289641681311756 %\n"
     ]
    }
   ],
   "source": [
    "print(\n",
    "    \"Percentage of Potentially Deleted Rows:\",\n",
    "    ((df_test.isna().sum().max() / df.count()) * 100).mean(),\n",
    "    \"%\",\n",
    ")"
   ]
  },
  {
   "cell_type": "markdown",
   "metadata": {},
   "source": [
    "The share is decent, the removal may affect the subsequent result. We use the direct filling method."
   ]
  },
  {
   "cell_type": "code",
   "execution_count": 29,
   "metadata": {},
   "outputs": [],
   "source": [
    "df = df.ffill()\n",
    "df_train = df_train.ffill()\n",
    "df_test = df_test.ffill()"
   ]
  },
  {
   "cell_type": "code",
   "execution_count": 30,
   "metadata": {},
   "outputs": [
    {
     "data": {
      "text/plain": [
       "0"
      ]
     },
     "execution_count": 30,
     "metadata": {},
     "output_type": "execute_result"
    }
   ],
   "source": [
    "df.isna().sum().max()\n",
    "df_train.isna().sum().max()\n",
    "df_test.isna().sum().max()"
   ]
  },
  {
   "cell_type": "markdown",
   "metadata": {},
   "source": [
    "Passes processed.\n",
    "\n",
    "Let's make the date columns an index of datasets to facilitate interaction between them."
   ]
  },
  {
   "cell_type": "code",
   "execution_count": 31,
   "metadata": {},
   "outputs": [],
   "source": [
    "df = df.set_index(\"date\")\n",
    "df_train = df_train.set_index(\"date\")\n",
    "df_test = df_test.set_index(\"date\")"
   ]
  },
  {
   "cell_type": "markdown",
   "metadata": {},
   "source": [
    "Let's load the missing features from the full dataset into the test one."
   ]
  },
  {
   "cell_type": "code",
   "execution_count": 32,
   "metadata": {
    "scrolled": true
   },
   "outputs": [],
   "source": [
    "df_test_for_slpit = df_test.merge(\n",
    "    df[\n",
    "        [\n",
    "            \"final.output.concentrate_ag\",\n",
    "            \"final.output.concentrate_pb\",\n",
    "            \"final.output.concentrate_sol\",\n",
    "            \"final.output.concentrate_au\",\n",
    "            \"final.output.recovery\",\n",
    "            \"final.output.tail_ag\",\n",
    "            \"final.output.tail_pb\",\n",
    "            \"final.output.tail_sol\",\n",
    "            \"final.output.tail_au\",\n",
    "            \"primary_cleaner.output.concentrate_ag\",\n",
    "            \"primary_cleaner.output.concentrate_pb\",\n",
    "            \"primary_cleaner.output.concentrate_sol\",\n",
    "            \"primary_cleaner.output.concentrate_au\",\n",
    "            \"primary_cleaner.output.tail_ag\",\n",
    "            \"primary_cleaner.output.tail_pb\",\n",
    "            \"primary_cleaner.output.tail_sol\",\n",
    "            \"primary_cleaner.output.tail_au\",\n",
    "            \"rougher.calculation.sulfate_to_au_concentrate\",\n",
    "            \"rougher.calculation.floatbank10_sulfate_to_au_feed\",\n",
    "            \"rougher.calculation.floatbank11_sulfate_to_au_feed\",\n",
    "            \"rougher.calculation.au_pb_ratio\",\n",
    "            \"rougher.output.concentrate_ag\",\n",
    "            \"rougher.output.concentrate_pb\",\n",
    "            \"rougher.output.concentrate_sol\",\n",
    "            \"rougher.output.concentrate_au\",\n",
    "            \"rougher.output.recovery\",\n",
    "            \"rougher.output.tail_ag\",\n",
    "            \"rougher.output.tail_pb\",\n",
    "            \"rougher.output.tail_sol\",\n",
    "            \"rougher.output.tail_au\",\n",
    "            \"secondary_cleaner.output.tail_ag\",\n",
    "            \"secondary_cleaner.output.tail_pb\",\n",
    "            \"secondary_cleaner.output.tail_sol\",\n",
    "            \"secondary_cleaner.output.tail_au\",\n",
    "        ]\n",
    "    ],\n",
    "    left_index=True,\n",
    "    right_index=True,\n",
    ")"
   ]
  },
  {
   "cell_type": "markdown",
   "metadata": {},
   "source": [
    "Let's additionally align the column indexes."
   ]
  },
  {
   "cell_type": "code",
   "execution_count": 33,
   "metadata": {},
   "outputs": [],
   "source": [
    "df_test_for_slpit = df_test_for_slpit.reindex(columns=list(df_train.columns))"
   ]
  },
  {
   "cell_type": "markdown",
   "metadata": {},
   "source": [
    "The data has been processed and is ready for analysis."
   ]
  },
  {
   "cell_type": "markdown",
   "metadata": {},
   "source": [
    "## Data analysis"
   ]
  },
  {
   "cell_type": "markdown",
   "metadata": {},
   "source": [
    "See how the concentration of metals (Au, Ag, Pb) changes at different stages of purification. Describe the findings."
   ]
  },
  {
   "cell_type": "code",
   "execution_count": 34,
   "metadata": {},
   "outputs": [
    {
     "data": {
      "text/plain": [
       "9.568544006770484"
      ]
     },
     "execution_count": 34,
     "metadata": {},
     "output_type": "execute_result"
    }
   ],
   "source": [
    "df_train[\"primary_cleaner.output.concentrate_pb\"].mean()"
   ]
  },
  {
   "cell_type": "code",
   "execution_count": 35,
   "metadata": {},
   "outputs": [
    {
     "data": {
      "text/html": [
       "<div>\n",
       "<style scoped>\n",
       "    .dataframe tbody tr th:only-of-type {\n",
       "        vertical-align: middle;\n",
       "    }\n",
       "\n",
       "    .dataframe tbody tr th {\n",
       "        vertical-align: top;\n",
       "    }\n",
       "\n",
       "    .dataframe thead th {\n",
       "        text-align: right;\n",
       "    }\n",
       "</style>\n",
       "<table border=\"1\" class=\"dataframe\">\n",
       "  <thead>\n",
       "    <tr style=\"text-align: right;\">\n",
       "      <th></th>\n",
       "      <th>flotation</th>\n",
       "      <th>primary cleaning</th>\n",
       "      <th>final features</th>\n",
       "    </tr>\n",
       "  </thead>\n",
       "  <tbody>\n",
       "    <tr>\n",
       "      <th>Ag</th>\n",
       "      <td>11.775812</td>\n",
       "      <td>8.200916</td>\n",
       "      <td>5.141921</td>\n",
       "    </tr>\n",
       "    <tr>\n",
       "      <th>Au</th>\n",
       "      <td>19.439958</td>\n",
       "      <td>32.386836</td>\n",
       "      <td>44.003792</td>\n",
       "    </tr>\n",
       "    <tr>\n",
       "      <th>Pb</th>\n",
       "      <td>7.664555</td>\n",
       "      <td>9.568544</td>\n",
       "      <td>10.132848</td>\n",
       "    </tr>\n",
       "  </tbody>\n",
       "</table>\n",
       "</div>"
      ],
      "text/plain": [
       "    flotation  primary cleaning  final features\n",
       "Ag  11.775812          8.200916        5.141921\n",
       "Au  19.439958         32.386836       44.003792\n",
       "Pb   7.664555          9.568544       10.132848"
      ]
     },
     "metadata": {},
     "output_type": "display_data"
    }
   ],
   "source": [
    "table = [\n",
    "    [\n",
    "        df_train[\"rougher.output.concentrate_ag\"].mean(),\n",
    "        df_train[\"primary_cleaner.output.concentrate_ag\"].mean(),\n",
    "        df_train[\"final.output.concentrate_ag\"].mean(),\n",
    "    ],\n",
    "    [\n",
    "        df_train[\"rougher.output.concentrate_au\"].mean(),\n",
    "        df_train[\"primary_cleaner.output.concentrate_au\"].mean(),\n",
    "        df_train[\"final.output.concentrate_au\"].mean(),\n",
    "    ],\n",
    "    [\n",
    "        df_train[\"rougher.output.concentrate_pb\"].mean(),\n",
    "        df_train[\"primary_cleaner.output.concentrate_pb\"].mean(),\n",
    "        df_train[\"final.output.concentrate_pb\"].mean(),\n",
    "    ],\n",
    "]\n",
    "\n",
    "columns = [\"flotation\", \"primary cleaning\", \"final features\"]\n",
    "index = [\"Ag\", \"Au\", \"Pb\"]\n",
    "table_1 = pd.DataFrame(table, index, columns)\n",
    "display(table_1)"
   ]
  },
  {
   "cell_type": "code",
   "execution_count": 36,
   "metadata": {},
   "outputs": [
    {
     "name": "stderr",
     "output_type": "stream",
     "text": [
      "/tmp/ipykernel_14414/684245112.py:3: UserWarning: \n",
      "\n",
      "`distplot` is a deprecated function and will be removed in seaborn v0.14.0.\n",
      "\n",
      "Please adapt your code to use either `displot` (a figure-level function with\n",
      "similar flexibility) or `histplot` (an axes-level function for histograms).\n",
      "\n",
      "For a guide to updating your code to use the new functions, please see\n",
      "https://gist.github.com/mwaskom/de44147ed2974457ad6372750bbe5751\n",
      "\n",
      "  sns.distplot(df_train[\"rougher.output.concentrate_ag\"], label=\"flotation\", ax=ax)\n",
      "/tmp/ipykernel_14414/684245112.py:4: UserWarning: \n",
      "\n",
      "`distplot` is a deprecated function and will be removed in seaborn v0.14.0.\n",
      "\n",
      "Please adapt your code to use either `displot` (a figure-level function with\n",
      "similar flexibility) or `histplot` (an axes-level function for histograms).\n",
      "\n",
      "For a guide to updating your code to use the new functions, please see\n",
      "https://gist.github.com/mwaskom/de44147ed2974457ad6372750bbe5751\n",
      "\n",
      "  sns.distplot(\n",
      "/tmp/ipykernel_14414/684245112.py:7: UserWarning: \n",
      "\n",
      "`distplot` is a deprecated function and will be removed in seaborn v0.14.0.\n",
      "\n",
      "Please adapt your code to use either `displot` (a figure-level function with\n",
      "similar flexibility) or `histplot` (an axes-level function for histograms).\n",
      "\n",
      "For a guide to updating your code to use the new functions, please see\n",
      "https://gist.github.com/mwaskom/de44147ed2974457ad6372750bbe5751\n",
      "\n",
      "  sns.distplot(df_train[\"final.output.concentrate_ag\"], label=\"final features\", ax=ax)\n"
     ]
    },
    {
     "data": {
      "text/plain": [
       "<matplotlib.legend.Legend at 0x7fd1b53cb550>"
      ]
     },
     "execution_count": 36,
     "metadata": {},
     "output_type": "execute_result"
    },
    {
     "data": {
      "image/png": "[encoded data removed]",
      "text/plain": [
       "<Figure size 640x480 with 1 Axes>"
      ]
     },
     "metadata": {},
     "output_type": "display_data"
    }
   ],
   "source": [
    "f, ax = plt.subplots()\n",
    "\n",
    "sns.distplot(df_train[\"rougher.output.concentrate_ag\"], label=\"flotation\", ax=ax)\n",
    "sns.distplot(\n",
    "    df_train[\"primary_cleaner.output.concentrate_ag\"], label=\"primary cleaning\", ax=ax\n",
    ")\n",
    "sns.distplot(df_train[\"final.output.concentrate_ag\"], label=\"final features\", ax=ax)\n",
    "\n",
    "ax.legend()"
   ]
  },
  {
   "cell_type": "code",
   "execution_count": 37,
   "metadata": {},
   "outputs": [
    {
     "name": "stderr",
     "output_type": "stream",
     "text": [
      "/tmp/ipykernel_14414/3553637576.py:3: UserWarning: \n",
      "\n",
      "`distplot` is a deprecated function and will be removed in seaborn v0.14.0.\n",
      "\n",
      "Please adapt your code to use either `displot` (a figure-level function with\n",
      "similar flexibility) or `histplot` (an axes-level function for histograms).\n",
      "\n",
      "For a guide to updating your code to use the new functions, please see\n",
      "https://gist.github.com/mwaskom/de44147ed2974457ad6372750bbe5751\n",
      "\n",
      "  sns.distplot(df_train[\"rougher.output.concentrate_au\"], label=\"flotation\", ax=ax)\n",
      "/tmp/ipykernel_14414/3553637576.py:4: UserWarning: \n",
      "\n",
      "`distplot` is a deprecated function and will be removed in seaborn v0.14.0.\n",
      "\n",
      "Please adapt your code to use either `displot` (a figure-level function with\n",
      "similar flexibility) or `histplot` (an axes-level function for histograms).\n",
      "\n",
      "For a guide to updating your code to use the new functions, please see\n",
      "https://gist.github.com/mwaskom/de44147ed2974457ad6372750bbe5751\n",
      "\n",
      "  sns.distplot(\n",
      "/tmp/ipykernel_14414/3553637576.py:7: UserWarning: \n",
      "\n",
      "`distplot` is a deprecated function and will be removed in seaborn v0.14.0.\n",
      "\n",
      "Please adapt your code to use either `displot` (a figure-level function with\n",
      "similar flexibility) or `histplot` (an axes-level function for histograms).\n",
      "\n",
      "For a guide to updating your code to use the new functions, please see\n",
      "https://gist.github.com/mwaskom/de44147ed2974457ad6372750bbe5751\n",
      "\n",
      "  sns.distplot(df_train[\"final.output.concentrate_au\"], label=\"final features\", ax=ax)\n"
     ]
    },
    {
     "data": {
      "text/plain": [
       "<matplotlib.legend.Legend at 0x7fd1b518dfd0>"
      ]
     },
     "execution_count": 37,
     "metadata": {},
     "output_type": "execute_result"
    },
    {
     "data": {
      "image/png": "[encoded data removed]",
      "text/plain": [
       "<Figure size 640x480 with 1 Axes>"
      ]
     },
     "metadata": {},
     "output_type": "display_data"
    }
   ],
   "source": [
    "f, ax = plt.subplots()\n",
    "\n",
    "sns.distplot(df_train[\"rougher.output.concentrate_au\"], label=\"flotation\", ax=ax)\n",
    "sns.distplot(\n",
    "    df_train[\"primary_cleaner.output.concentrate_au\"], label=\"primary cleaning\", ax=ax\n",
    ")\n",
    "sns.distplot(df_train[\"final.output.concentrate_au\"], label=\"final features\", ax=ax)\n",
    "\n",
    "ax.legend()"
   ]
  },
  {
   "cell_type": "code",
   "execution_count": 38,
   "metadata": {},
   "outputs": [
    {
     "name": "stderr",
     "output_type": "stream",
     "text": [
      "/tmp/ipykernel_14414/1543383914.py:3: UserWarning: \n",
      "\n",
      "`distplot` is a deprecated function and will be removed in seaborn v0.14.0.\n",
      "\n",
      "Please adapt your code to use either `displot` (a figure-level function with\n",
      "similar flexibility) or `histplot` (an axes-level function for histograms).\n",
      "\n",
      "For a guide to updating your code to use the new functions, please see\n",
      "https://gist.github.com/mwaskom/de44147ed2974457ad6372750bbe5751\n",
      "\n",
      "  sns.distplot(df_train[\"rougher.output.concentrate_pb\"], label=\"flotaion\", ax=ax)\n",
      "/tmp/ipykernel_14414/1543383914.py:4: UserWarning: \n",
      "\n",
      "`distplot` is a deprecated function and will be removed in seaborn v0.14.0.\n",
      "\n",
      "Please adapt your code to use either `displot` (a figure-level function with\n",
      "similar flexibility) or `histplot` (an axes-level function for histograms).\n",
      "\n",
      "For a guide to updating your code to use the new functions, please see\n",
      "https://gist.github.com/mwaskom/de44147ed2974457ad6372750bbe5751\n",
      "\n",
      "  sns.distplot(\n",
      "/tmp/ipykernel_14414/1543383914.py:7: UserWarning: \n",
      "\n",
      "`distplot` is a deprecated function and will be removed in seaborn v0.14.0.\n",
      "\n",
      "Please adapt your code to use either `displot` (a figure-level function with\n",
      "similar flexibility) or `histplot` (an axes-level function for histograms).\n",
      "\n",
      "For a guide to updating your code to use the new functions, please see\n",
      "https://gist.github.com/mwaskom/de44147ed2974457ad6372750bbe5751\n",
      "\n",
      "  sns.distplot(df_train[\"final.output.concentrate_pb\"], label=\"final features\", ax=ax)\n"
     ]
    },
    {
     "data": {
      "text/plain": [
       "<matplotlib.legend.Legend at 0x7fd1b4ede730>"
      ]
     },
     "execution_count": 38,
     "metadata": {},
     "output_type": "execute_result"
    },
    {
     "data": {
      "image/png": "[encoded data removed]",
      "text/plain": [
       "<Figure size 640x480 with 1 Axes>"
      ]
     },
     "metadata": {},
     "output_type": "display_data"
    }
   ],
   "source": [
    "f, ax = plt.subplots()\n",
    "\n",
    "sns.distplot(df_train[\"rougher.output.concentrate_pb\"], label=\"flotaion\", ax=ax)\n",
    "sns.distplot(\n",
    "    df_train[\"primary_cleaner.output.concentrate_pb\"], label=\"primary cleaning\", ax=ax\n",
    ")\n",
    "sns.distplot(df_train[\"final.output.concentrate_pb\"], label=\"final features\", ax=ax)\n",
    "\n",
    "ax.legend()"
   ]
  },
  {
   "cell_type": "markdown",
   "metadata": {},
   "source": [
    "The analysis showed a significant decrease in the concentration of silver, a slight decrease in the concentration of lead and a significant increase in the concentration of gold."
   ]
  },
  {
   "cell_type": "markdown",
   "metadata": {},
   "source": [
    "Let us compare the size distributions of raw material granules on the training and test samples. If the distributions are very different from each other, the estimation of the model will be wrong."
   ]
  },
  {
   "cell_type": "code",
   "execution_count": 39,
   "metadata": {},
   "outputs": [
    {
     "data": {
      "image/png": "[encoded data removed]",
      "text/plain": [
       "<Figure size 1500x600 with 1 Axes>"
      ]
     },
     "metadata": {},
     "output_type": "display_data"
    }
   ],
   "source": [
    "plt.figure(figsize=(15, 6))\n",
    "plt.grid()\n",
    "plt.title(\"Granule sizes on the training and test sets\")\n",
    "\n",
    "tmp = (\n",
    "    df_train[\"rougher.input.feed_size\"]\n",
    "    .sample(200, random_state=1)\n",
    "    .reset_index(drop=True)\n",
    ")\n",
    "tmp.plot(x=\"\", style=\"o-\", label=\"train\", alpha=0.8, grid=True)\n",
    "\n",
    "tmp2 = (\n",
    "    df_test[\"rougher.input.feed_size\"]\n",
    "    .sample(200, random_state=1)\n",
    "    .reset_index(drop=True)\n",
    ")\n",
    "tmp2.plot(x=\"\", style=\"o-\", label=\"train\", alpha=0.8, grid=True)\n",
    "\n",
    "plt.ylabel(\"Granule sizes\")\n",
    "plt.legend()\n",
    "plt.show()"
   ]
  },
  {
   "cell_type": "markdown",
   "metadata": {},
   "source": [
    "The size distributions of raw material granules on the training and test sets do not have strong differences, with the exception of a number of outliers in the training set. Emissions - a conventional name, in fact, these are real data, which in some cases go beyond."
   ]
  },
  {
   "cell_type": "markdown",
   "metadata": {},
   "source": [
    "We investigate the total concentration of all substances at different stages: in raw materials, in roughing and final concentrates."
   ]
  },
  {
   "cell_type": "code",
   "execution_count": 40,
   "metadata": {},
   "outputs": [
    {
     "data": {
      "text/html": [
       "<div>\n",
       "<style scoped>\n",
       "    .dataframe tbody tr th:only-of-type {\n",
       "        vertical-align: middle;\n",
       "    }\n",
       "\n",
       "    .dataframe tbody tr th {\n",
       "        vertical-align: top;\n",
       "    }\n",
       "\n",
       "    .dataframe thead th {\n",
       "        text-align: right;\n",
       "    }\n",
       "</style>\n",
       "<table border=\"1\" class=\"dataframe\">\n",
       "  <thead>\n",
       "    <tr style=\"text-align: right;\">\n",
       "      <th></th>\n",
       "      <th>raw material</th>\n",
       "      <th>crude concentrate</th>\n",
       "      <th>final concentrate</th>\n",
       "    </tr>\n",
       "  </thead>\n",
       "  <tbody>\n",
       "    <tr>\n",
       "      <th>Ag</th>\n",
       "      <td>121387.032837</td>\n",
       "      <td>166615.968436</td>\n",
       "      <td>72753.039166</td>\n",
       "    </tr>\n",
       "    <tr>\n",
       "      <th>Au</th>\n",
       "      <td>111304.195736</td>\n",
       "      <td>275055.963640</td>\n",
       "      <td>622609.647646</td>\n",
       "    </tr>\n",
       "    <tr>\n",
       "      <th>Pb</th>\n",
       "      <td>49598.819723</td>\n",
       "      <td>108445.785179</td>\n",
       "      <td>143369.662930</td>\n",
       "    </tr>\n",
       "    <tr>\n",
       "      <th>Sol</th>\n",
       "      <td>513480.408925</td>\n",
       "      <td>400315.116968</td>\n",
       "      <td>128887.647605</td>\n",
       "    </tr>\n",
       "  </tbody>\n",
       "</table>\n",
       "</div>"
      ],
      "text/plain": [
       "      raw material  crude concentrate  final concentrate\n",
       "Ag   121387.032837      166615.968436       72753.039166\n",
       "Au   111304.195736      275055.963640      622609.647646\n",
       "Pb    49598.819723      108445.785179      143369.662930\n",
       "Sol  513480.408925      400315.116968      128887.647605"
      ]
     },
     "metadata": {},
     "output_type": "display_data"
    }
   ],
   "source": [
    "table = [\n",
    "    [\n",
    "        df_train[\"rougher.input.feed_ag\"].sum(),\n",
    "        df_train[\"rougher.output.concentrate_ag\"].sum(),\n",
    "        df_train[\"final.output.concentrate_ag\"].sum(),\n",
    "    ],\n",
    "    [\n",
    "        df_train[\"rougher.input.feed_au\"].sum(),\n",
    "        df_train[\"rougher.output.concentrate_au\"].sum(),\n",
    "        df_train[\"final.output.concentrate_au\"].sum(),\n",
    "    ],\n",
    "    [\n",
    "        df_train[\"rougher.input.feed_pb\"].sum(),\n",
    "        df_train[\"rougher.output.concentrate_pb\"].sum(),\n",
    "        df_train[\"final.output.concentrate_pb\"].sum(),\n",
    "    ],\n",
    "    [\n",
    "        df_train[\"rougher.input.feed_sol\"].sum(),\n",
    "        df_train[\"rougher.output.concentrate_sol\"].sum(),\n",
    "        df_train[\"final.output.concentrate_sol\"].sum(),\n",
    "    ],\n",
    "]\n",
    "\n",
    "df_train[\"rougher.output.concentrate_sol\"]\n",
    "\n",
    "columns = [\"raw material\", \"crude concentrate\", \"final concentrate\"]\n",
    "index = [\"Ag\", \"Au\", \"Pb\", \"Sol\"]\n",
    "table_1 = pd.DataFrame(table, index, columns)\n",
    "display(table_1)"
   ]
  },
  {
   "cell_type": "code",
   "execution_count": 41,
   "metadata": {},
   "outputs": [
    {
     "name": "stderr",
     "output_type": "stream",
     "text": [
      "/tmp/ipykernel_14414/78199914.py:3: UserWarning: \n",
      "\n",
      "`distplot` is a deprecated function and will be removed in seaborn v0.14.0.\n",
      "\n",
      "Please adapt your code to use either `displot` (a figure-level function with\n",
      "similar flexibility) or `histplot` (an axes-level function for histograms).\n",
      "\n",
      "For a guide to updating your code to use the new functions, please see\n",
      "https://gist.github.com/mwaskom/de44147ed2974457ad6372750bbe5751\n",
      "\n",
      "  sns.distplot(df_train[\"rougher.input.feed_ag\"], label=\"raw material\", ax=ax)\n",
      "/tmp/ipykernel_14414/78199914.py:4: UserWarning: \n",
      "\n",
      "`distplot` is a deprecated function and will be removed in seaborn v0.14.0.\n",
      "\n",
      "Please adapt your code to use either `displot` (a figure-level function with\n",
      "similar flexibility) or `histplot` (an axes-level function for histograms).\n",
      "\n",
      "For a guide to updating your code to use the new functions, please see\n",
      "https://gist.github.com/mwaskom/de44147ed2974457ad6372750bbe5751\n",
      "\n",
      "  sns.distplot(\n",
      "/tmp/ipykernel_14414/78199914.py:7: UserWarning: \n",
      "\n",
      "`distplot` is a deprecated function and will be removed in seaborn v0.14.0.\n",
      "\n",
      "Please adapt your code to use either `displot` (a figure-level function with\n",
      "similar flexibility) or `histplot` (an axes-level function for histograms).\n",
      "\n",
      "For a guide to updating your code to use the new functions, please see\n",
      "https://gist.github.com/mwaskom/de44147ed2974457ad6372750bbe5751\n",
      "\n",
      "  sns.distplot(\n"
     ]
    },
    {
     "data": {
      "text/plain": [
       "<matplotlib.legend.Legend at 0x7fd1b43edc10>"
      ]
     },
     "execution_count": 41,
     "metadata": {},
     "output_type": "execute_result"
    },
    {
     "data": {
      "image/png": "[encoded data removed]",
      "text/plain": [
       "<Figure size 640x480 with 1 Axes>"
      ]
     },
     "metadata": {},
     "output_type": "display_data"
    }
   ],
   "source": [
    "f, ax = plt.subplots()\n",
    "\n",
    "sns.distplot(df_train[\"rougher.input.feed_ag\"], label=\"raw material\", ax=ax)\n",
    "sns.distplot(\n",
    "    df_train[\"rougher.output.concentrate_ag\"], label=\"crude concentrate\", ax=ax\n",
    ")\n",
    "sns.distplot(\n",
    "    df_train[\"final.output.concentrate_ag\"], label=\"final concentrate\", ax=ax\n",
    ")\n",
    "\n",
    "ax.legend()"
   ]
  },
  {
   "cell_type": "code",
   "execution_count": 42,
   "metadata": {},
   "outputs": [
    {
     "name": "stderr",
     "output_type": "stream",
     "text": [
      "/tmp/ipykernel_14414/1097003428.py:3: UserWarning: \n",
      "\n",
      "`distplot` is a deprecated function and will be removed in seaborn v0.14.0.\n",
      "\n",
      "Please adapt your code to use either `displot` (a figure-level function with\n",
      "similar flexibility) or `histplot` (an axes-level function for histograms).\n",
      "\n",
      "For a guide to updating your code to use the new functions, please see\n",
      "https://gist.github.com/mwaskom/de44147ed2974457ad6372750bbe5751\n",
      "\n",
      "  sns.distplot(df_train[\"rougher.input.feed_au\"], label=\"raw material\", ax=ax)\n",
      "/tmp/ipykernel_14414/1097003428.py:4: UserWarning: \n",
      "\n",
      "`distplot` is a deprecated function and will be removed in seaborn v0.14.0.\n",
      "\n",
      "Please adapt your code to use either `displot` (a figure-level function with\n",
      "similar flexibility) or `histplot` (an axes-level function for histograms).\n",
      "\n",
      "For a guide to updating your code to use the new functions, please see\n",
      "https://gist.github.com/mwaskom/de44147ed2974457ad6372750bbe5751\n",
      "\n",
      "  sns.distplot(\n",
      "/tmp/ipykernel_14414/1097003428.py:7: UserWarning: \n",
      "\n",
      "`distplot` is a deprecated function and will be removed in seaborn v0.14.0.\n",
      "\n",
      "Please adapt your code to use either `displot` (a figure-level function with\n",
      "similar flexibility) or `histplot` (an axes-level function for histograms).\n",
      "\n",
      "For a guide to updating your code to use the new functions, please see\n",
      "https://gist.github.com/mwaskom/de44147ed2974457ad6372750bbe5751\n",
      "\n",
      "  sns.distplot(\n"
     ]
    },
    {
     "data": {
      "text/plain": [
       "<matplotlib.legend.Legend at 0x7fd1b41e4d60>"
      ]
     },
     "execution_count": 42,
     "metadata": {},
     "output_type": "execute_result"
    },
    {
     "data": {
      "image/png": "[encoded data removed]",
      "text/plain": [
       "<Figure size 640x480 with 1 Axes>"
      ]
     },
     "metadata": {},
     "output_type": "display_data"
    }
   ],
   "source": [
    "f, ax = plt.subplots()\n",
    "\n",
    "sns.distplot(df_train[\"rougher.input.feed_au\"], label=\"raw material\", ax=ax)\n",
    "sns.distplot(\n",
    "    df_train[\"rougher.output.concentrate_au\"], label=\"crude concentrate\", ax=ax\n",
    ")\n",
    "sns.distplot(\n",
    "    df_train[\"final.output.concentrate_au\"], label=\"final concentrate\", ax=ax\n",
    ")\n",
    "\n",
    "ax.legend()"
   ]
  },
  {
   "cell_type": "code",
   "execution_count": 43,
   "metadata": {},
   "outputs": [
    {
     "name": "stderr",
     "output_type": "stream",
     "text": [
      "/tmp/ipykernel_14414/1992513175.py:3: UserWarning: \n",
      "\n",
      "`distplot` is a deprecated function and will be removed in seaborn v0.14.0.\n",
      "\n",
      "Please adapt your code to use either `displot` (a figure-level function with\n",
      "similar flexibility) or `histplot` (an axes-level function for histograms).\n",
      "\n",
      "For a guide to updating your code to use the new functions, please see\n",
      "https://gist.github.com/mwaskom/de44147ed2974457ad6372750bbe5751\n",
      "\n",
      "  sns.distplot(df_train[\"rougher.input.feed_pb\"], label=\"raw material\", ax=ax)\n",
      "/tmp/ipykernel_14414/1992513175.py:4: UserWarning: \n",
      "\n",
      "`distplot` is a deprecated function and will be removed in seaborn v0.14.0.\n",
      "\n",
      "Please adapt your code to use either `displot` (a figure-level function with\n",
      "similar flexibility) or `histplot` (an axes-level function for histograms).\n",
      "\n",
      "For a guide to updating your code to use the new functions, please see\n",
      "https://gist.github.com/mwaskom/de44147ed2974457ad6372750bbe5751\n",
      "\n",
      "  sns.distplot(\n",
      "/tmp/ipykernel_14414/1992513175.py:7: UserWarning: \n",
      "\n",
      "`distplot` is a deprecated function and will be removed in seaborn v0.14.0.\n",
      "\n",
      "Please adapt your code to use either `displot` (a figure-level function with\n",
      "similar flexibility) or `histplot` (an axes-level function for histograms).\n",
      "\n",
      "For a guide to updating your code to use the new functions, please see\n",
      "https://gist.github.com/mwaskom/de44147ed2974457ad6372750bbe5751\n",
      "\n",
      "  sns.distplot(\n"
     ]
    },
    {
     "data": {
      "text/plain": [
       "<matplotlib.legend.Legend at 0x7fd1b22d41f0>"
      ]
     },
     "execution_count": 43,
     "metadata": {},
     "output_type": "execute_result"
    },
    {
     "data": {
      "image/png": "[encoded data removed]",
      "text/plain": [
       "<Figure size 640x480 with 1 Axes>"
      ]
     },
     "metadata": {},
     "output_type": "display_data"
    }
   ],
   "source": [
    "f, ax = plt.subplots()\n",
    "\n",
    "sns.distplot(df_train[\"rougher.input.feed_pb\"], label=\"raw material\", ax=ax)\n",
    "sns.distplot(\n",
    "    df_train[\"rougher.output.concentrate_pb\"], label=\"crude concentrate\", ax=ax\n",
    ")\n",
    "sns.distplot(\n",
    "    df_train[\"final.output.concentrate_pb\"], label=\"final concentrate\", ax=ax\n",
    ")\n",
    "\n",
    "ax.legend()"
   ]
  },
  {
   "cell_type": "code",
   "execution_count": 44,
   "metadata": {},
   "outputs": [
    {
     "name": "stderr",
     "output_type": "stream",
     "text": [
      "/tmp/ipykernel_14414/1118215432.py:3: UserWarning: \n",
      "\n",
      "`distplot` is a deprecated function and will be removed in seaborn v0.14.0.\n",
      "\n",
      "Please adapt your code to use either `displot` (a figure-level function with\n",
      "similar flexibility) or `histplot` (an axes-level function for histograms).\n",
      "\n",
      "For a guide to updating your code to use the new functions, please see\n",
      "https://gist.github.com/mwaskom/de44147ed2974457ad6372750bbe5751\n",
      "\n",
      "  sns.distplot(df_train[\"rougher.input.feed_sol\"], label=\"raw material\", ax=ax)\n",
      "/tmp/ipykernel_14414/1118215432.py:4: UserWarning: \n",
      "\n",
      "`distplot` is a deprecated function and will be removed in seaborn v0.14.0.\n",
      "\n",
      "Please adapt your code to use either `displot` (a figure-level function with\n",
      "similar flexibility) or `histplot` (an axes-level function for histograms).\n",
      "\n",
      "For a guide to updating your code to use the new functions, please see\n",
      "https://gist.github.com/mwaskom/de44147ed2974457ad6372750bbe5751\n",
      "\n",
      "  sns.distplot(\n",
      "/tmp/ipykernel_14414/1118215432.py:7: UserWarning: \n",
      "\n",
      "`distplot` is a deprecated function and will be removed in seaborn v0.14.0.\n",
      "\n",
      "Please adapt your code to use either `displot` (a figure-level function with\n",
      "similar flexibility) or `histplot` (an axes-level function for histograms).\n",
      "\n",
      "For a guide to updating your code to use the new functions, please see\n",
      "https://gist.github.com/mwaskom/de44147ed2974457ad6372750bbe5751\n",
      "\n",
      "  sns.distplot(\n"
     ]
    },
    {
     "data": {
      "text/plain": [
       "<matplotlib.legend.Legend at 0x7fd1b2122d60>"
      ]
     },
     "execution_count": 44,
     "metadata": {},
     "output_type": "execute_result"
    },
    {
     "data": {
      "image/png": "[encoded data removed]",
      "text/plain": [
       "<Figure size 640x480 with 1 Axes>"
      ]
     },
     "metadata": {},
     "output_type": "display_data"
    }
   ],
   "source": [
    "f, ax = plt.subplots()\n",
    "\n",
    "sns.distplot(df_train[\"rougher.input.feed_sol\"], label=\"raw material\", ax=ax)\n",
    "sns.distplot(\n",
    "    df_train[\"rougher.output.concentrate_sol\"], label=\"crude concentrate\", ax=ax\n",
    ")\n",
    "sns.distplot(\n",
    "    df_train[\"final.output.concentrate_sol\"], label=\"final concentrate\", ax=ax\n",
    ")\n",
    "\n",
    "ax.legend()"
   ]
  },
  {
   "cell_type": "markdown",
   "metadata": {},
   "source": [
    "In the case of all substances, there are outliers - zero values, in some cases - negative, they must be eliminated in order for the model to make qualitative predictions."
   ]
  },
  {
   "cell_type": "code",
   "execution_count": 45,
   "metadata": {},
   "outputs": [],
   "source": [
    "df_train = df_train[df_train[\"primary_cleaner.output.concentrate_au\"] > 0]\n",
    "df_train = df_train[df_train[\"rougher.input.feed_au\"] > 0]\n",
    "df_train = df_train[df_train[\"rougher.output.concentrate_au\"] > 0]\n",
    "df_train = df_train[df_train[\"final.output.concentrate_au\"] > 0]"
   ]
  },
  {
   "cell_type": "code",
   "execution_count": 46,
   "metadata": {},
   "outputs": [],
   "source": [
    "df_train = df_train[df_train[\"primary_cleaner.output.concentrate_ag\"] > 0]\n",
    "df_train = df_train[df_train[\"rougher.input.feed_ag\"] > 0]\n",
    "df_train = df_train[df_train[\"rougher.output.concentrate_ag\"] > 0]\n",
    "df_train = df_train[df_train[\"final.output.concentrate_ag\"] > 0]"
   ]
  },
  {
   "cell_type": "code",
   "execution_count": 47,
   "metadata": {},
   "outputs": [],
   "source": [
    "df_train = df_train[df_train[\"primary_cleaner.output.concentrate_pb\"] > 0]\n",
    "df_train = df_train[df_train[\"rougher.input.feed_pb\"] > 0]\n",
    "df_train = df_train[df_train[\"rougher.output.concentrate_pb\"] > 0]\n",
    "df_train = df_train[df_train[\"final.output.concentrate_pb\"] > 0]"
   ]
  },
  {
   "cell_type": "code",
   "execution_count": 48,
   "metadata": {},
   "outputs": [],
   "source": [
    "df_train = df_train[df_train[\"primary_cleaner.output.concentrate_sol\"] > 0]\n",
    "df_train = df_train[df_train[\"rougher.input.feed_sol\"] > 0]\n",
    "df_train = df_train[df_train[\"rougher.output.concentrate_sol\"] > 0]\n",
    "df_train = df_train[df_train[\"final.output.concentrate_sol\"] > 0]"
   ]
  },
  {
   "cell_type": "markdown",
   "metadata": {},
   "source": [
    "Outliers removed."
   ]
  },
  {
   "cell_type": "markdown",
   "metadata": {},
   "source": [
    "## Model"
   ]
  },
  {
   "cell_type": "markdown",
   "metadata": {},
   "source": [
    "Let's write a function to calculate the final sMAPE."
   ]
  },
  {
   "cell_type": "code",
   "execution_count": 49,
   "metadata": {},
   "outputs": [],
   "source": [
    "def sMAPE_score(rougher_real, rougher_predicted):\n",
    "    return (\n",
    "        np.mean(\n",
    "            abs(rougher_real - rougher_predicted)\n",
    "            / ((abs(rougher_real) + abs(rougher_predicted)) / 2)\n",
    "        )\n",
    "        * 100\n",
    "    )"
   ]
  },
  {
   "cell_type": "code",
   "execution_count": 50,
   "metadata": {},
   "outputs": [],
   "source": [
    "def sMAPE_total_score(\n",
    "    rougher_real,\n",
    "    rougher_predicted,\n",
    "    final_real,\n",
    "    final_predicted,\n",
    "):\n",
    "    rougher_sMAPE = sMAPE_score(rougher_real, rougher_predicted)\n",
    "    final_sMAPE = sMAPE_score(final_real, final_predicted)\n",
    "\n",
    "    return rougher_sMAPE * 0.25 + final_sMAPE * 0.75"
   ]
  },
  {
   "cell_type": "markdown",
   "metadata": {},
   "source": [
    "We will train different models and evaluate their quality by cross-validation. Let's choose the best model and check it on the test set."
   ]
  },
  {
   "cell_type": "code",
   "execution_count": 51,
   "metadata": {},
   "outputs": [],
   "source": [
    "df_train_ml = df_train.reindex(columns=list(df_test.columns))"
   ]
  },
  {
   "cell_type": "code",
   "execution_count": 52,
   "metadata": {},
   "outputs": [],
   "source": [
    "features_train = df_train_ml\n",
    "\n",
    "target_train_rougher = df_train[\"rougher.output.recovery\"]\n",
    "target_train_final = df_train[\"final.output.recovery\"]"
   ]
  },
  {
   "cell_type": "markdown",
   "metadata": {},
   "source": [
    "Let's create a suitable test sample for subsequent use in the model (with the correct number of features, their order, etc.)"
   ]
  },
  {
   "cell_type": "code",
   "execution_count": 53,
   "metadata": {},
   "outputs": [],
   "source": [
    "features_test = df_test\n",
    "target_test_rougher = df_test_for_slpit[\"rougher.output.recovery\"]\n",
    "target_test_final = df_test_for_slpit[\"final.output.recovery\"]"
   ]
  },
  {
   "cell_type": "code",
   "execution_count": 54,
   "metadata": {
    "scrolled": true
   },
   "outputs": [
    {
     "data": {
      "text/html": [
       "<div>\n",
       "<style scoped>\n",
       "    .dataframe tbody tr th:only-of-type {\n",
       "        vertical-align: middle;\n",
       "    }\n",
       "\n",
       "    .dataframe tbody tr th {\n",
       "        vertical-align: top;\n",
       "    }\n",
       "\n",
       "    .dataframe thead th {\n",
       "        text-align: right;\n",
       "    }\n",
       "</style>\n",
       "<table border=\"1\" class=\"dataframe\">\n",
       "  <thead>\n",
       "    <tr style=\"text-align: right;\">\n",
       "      <th></th>\n",
       "      <th>primary_cleaner.input.sulfate</th>\n",
       "      <th>primary_cleaner.input.depressant</th>\n",
       "      <th>primary_cleaner.input.feed_size</th>\n",
       "      <th>primary_cleaner.input.xanthate</th>\n",
       "      <th>primary_cleaner.state.floatbank8_a_air</th>\n",
       "      <th>primary_cleaner.state.floatbank8_a_level</th>\n",
       "      <th>primary_cleaner.state.floatbank8_b_air</th>\n",
       "      <th>primary_cleaner.state.floatbank8_b_level</th>\n",
       "      <th>primary_cleaner.state.floatbank8_c_air</th>\n",
       "      <th>primary_cleaner.state.floatbank8_c_level</th>\n",
       "      <th>...</th>\n",
       "      <th>secondary_cleaner.state.floatbank4_a_air</th>\n",
       "      <th>secondary_cleaner.state.floatbank4_a_level</th>\n",
       "      <th>secondary_cleaner.state.floatbank4_b_air</th>\n",
       "      <th>secondary_cleaner.state.floatbank4_b_level</th>\n",
       "      <th>secondary_cleaner.state.floatbank5_a_air</th>\n",
       "      <th>secondary_cleaner.state.floatbank5_a_level</th>\n",
       "      <th>secondary_cleaner.state.floatbank5_b_air</th>\n",
       "      <th>secondary_cleaner.state.floatbank5_b_level</th>\n",
       "      <th>secondary_cleaner.state.floatbank6_a_air</th>\n",
       "      <th>secondary_cleaner.state.floatbank6_a_level</th>\n",
       "    </tr>\n",
       "    <tr>\n",
       "      <th>date</th>\n",
       "      <th></th>\n",
       "      <th></th>\n",
       "      <th></th>\n",
       "      <th></th>\n",
       "      <th></th>\n",
       "      <th></th>\n",
       "      <th></th>\n",
       "      <th></th>\n",
       "      <th></th>\n",
       "      <th></th>\n",
       "      <th></th>\n",
       "      <th></th>\n",
       "      <th></th>\n",
       "      <th></th>\n",
       "      <th></th>\n",
       "      <th></th>\n",
       "      <th></th>\n",
       "      <th></th>\n",
       "      <th></th>\n",
       "      <th></th>\n",
       "      <th></th>\n",
       "    </tr>\n",
       "  </thead>\n",
       "  <tbody>\n",
       "    <tr>\n",
       "      <th>2016-09-01 00:59:59</th>\n",
       "      <td>210.800909</td>\n",
       "      <td>14.993118</td>\n",
       "      <td>8.08</td>\n",
       "      <td>1.005021</td>\n",
       "      <td>1398.981301</td>\n",
       "      <td>-500.225577</td>\n",
       "      <td>1399.144926</td>\n",
       "      <td>-499.919735</td>\n",
       "      <td>1400.102998</td>\n",
       "      <td>-500.704369</td>\n",
       "      <td>...</td>\n",
       "      <td>12.023554</td>\n",
       "      <td>-497.795834</td>\n",
       "      <td>8.016656</td>\n",
       "      <td>-501.289139</td>\n",
       "      <td>7.946562</td>\n",
       "      <td>-432.317850</td>\n",
       "      <td>4.872511</td>\n",
       "      <td>-500.037437</td>\n",
       "      <td>26.705889</td>\n",
       "      <td>-499.709414</td>\n",
       "    </tr>\n",
       "    <tr>\n",
       "      <th>2016-09-01 01:59:59</th>\n",
       "      <td>215.392455</td>\n",
       "      <td>14.987471</td>\n",
       "      <td>8.08</td>\n",
       "      <td>0.990469</td>\n",
       "      <td>1398.777912</td>\n",
       "      <td>-500.057435</td>\n",
       "      <td>1398.055362</td>\n",
       "      <td>-499.778182</td>\n",
       "      <td>1396.151033</td>\n",
       "      <td>-499.240168</td>\n",
       "      <td>...</td>\n",
       "      <td>12.058140</td>\n",
       "      <td>-498.695773</td>\n",
       "      <td>8.130979</td>\n",
       "      <td>-499.634209</td>\n",
       "      <td>7.958270</td>\n",
       "      <td>-525.839648</td>\n",
       "      <td>4.878850</td>\n",
       "      <td>-500.162375</td>\n",
       "      <td>25.019940</td>\n",
       "      <td>-499.819438</td>\n",
       "    </tr>\n",
       "  </tbody>\n",
       "</table>\n",
       "<p>2 rows × 52 columns</p>\n",
       "</div>"
      ],
      "text/plain": [
       "                     primary_cleaner.input.sulfate  \\\n",
       "date                                                 \n",
       "2016-09-01 00:59:59                     210.800909   \n",
       "2016-09-01 01:59:59                     215.392455   \n",
       "\n",
       "                     primary_cleaner.input.depressant  \\\n",
       "date                                                    \n",
       "2016-09-01 00:59:59                         14.993118   \n",
       "2016-09-01 01:59:59                         14.987471   \n",
       "\n",
       "                     primary_cleaner.input.feed_size  \\\n",
       "date                                                   \n",
       "2016-09-01 00:59:59                             8.08   \n",
       "2016-09-01 01:59:59                             8.08   \n",
       "\n",
       "                     primary_cleaner.input.xanthate  \\\n",
       "date                                                  \n",
       "2016-09-01 00:59:59                        1.005021   \n",
       "2016-09-01 01:59:59                        0.990469   \n",
       "\n",
       "                     primary_cleaner.state.floatbank8_a_air  \\\n",
       "date                                                          \n",
       "2016-09-01 00:59:59                             1398.981301   \n",
       "2016-09-01 01:59:59                             1398.777912   \n",
       "\n",
       "                     primary_cleaner.state.floatbank8_a_level  \\\n",
       "date                                                            \n",
       "2016-09-01 00:59:59                               -500.225577   \n",
       "2016-09-01 01:59:59                               -500.057435   \n",
       "\n",
       "                     primary_cleaner.state.floatbank8_b_air  \\\n",
       "date                                                          \n",
       "2016-09-01 00:59:59                             1399.144926   \n",
       "2016-09-01 01:59:59                             1398.055362   \n",
       "\n",
       "                     primary_cleaner.state.floatbank8_b_level  \\\n",
       "date                                                            \n",
       "2016-09-01 00:59:59                               -499.919735   \n",
       "2016-09-01 01:59:59                               -499.778182   \n",
       "\n",
       "                     primary_cleaner.state.floatbank8_c_air  \\\n",
       "date                                                          \n",
       "2016-09-01 00:59:59                             1400.102998   \n",
       "2016-09-01 01:59:59                             1396.151033   \n",
       "\n",
       "                     primary_cleaner.state.floatbank8_c_level  ...  \\\n",
       "date                                                           ...   \n",
       "2016-09-01 00:59:59                               -500.704369  ...   \n",
       "2016-09-01 01:59:59                               -499.240168  ...   \n",
       "\n",
       "                     secondary_cleaner.state.floatbank4_a_air  \\\n",
       "date                                                            \n",
       "2016-09-01 00:59:59                                 12.023554   \n",
       "2016-09-01 01:59:59                                 12.058140   \n",
       "\n",
       "                     secondary_cleaner.state.floatbank4_a_level  \\\n",
       "date                                                              \n",
       "2016-09-01 00:59:59                                 -497.795834   \n",
       "2016-09-01 01:59:59                                 -498.695773   \n",
       "\n",
       "                     secondary_cleaner.state.floatbank4_b_air  \\\n",
       "date                                                            \n",
       "2016-09-01 00:59:59                                  8.016656   \n",
       "2016-09-01 01:59:59                                  8.130979   \n",
       "\n",
       "                     secondary_cleaner.state.floatbank4_b_level  \\\n",
       "date                                                              \n",
       "2016-09-01 00:59:59                                 -501.289139   \n",
       "2016-09-01 01:59:59                                 -499.634209   \n",
       "\n",
       "                     secondary_cleaner.state.floatbank5_a_air  \\\n",
       "date                                                            \n",
       "2016-09-01 00:59:59                                  7.946562   \n",
       "2016-09-01 01:59:59                                  7.958270   \n",
       "\n",
       "                     secondary_cleaner.state.floatbank5_a_level  \\\n",
       "date                                                              \n",
       "2016-09-01 00:59:59                                 -432.317850   \n",
       "2016-09-01 01:59:59                                 -525.839648   \n",
       "\n",
       "                     secondary_cleaner.state.floatbank5_b_air  \\\n",
       "date                                                            \n",
       "2016-09-01 00:59:59                                  4.872511   \n",
       "2016-09-01 01:59:59                                  4.878850   \n",
       "\n",
       "                     secondary_cleaner.state.floatbank5_b_level  \\\n",
       "date                                                              \n",
       "2016-09-01 00:59:59                                 -500.037437   \n",
       "2016-09-01 01:59:59                                 -500.162375   \n",
       "\n",
       "                     secondary_cleaner.state.floatbank6_a_air  \\\n",
       "date                                                            \n",
       "2016-09-01 00:59:59                                 26.705889   \n",
       "2016-09-01 01:59:59                                 25.019940   \n",
       "\n",
       "                     secondary_cleaner.state.floatbank6_a_level  \n",
       "date                                                             \n",
       "2016-09-01 00:59:59                                 -499.709414  \n",
       "2016-09-01 01:59:59                                 -499.819438  \n",
       "\n",
       "[2 rows x 52 columns]"
      ]
     },
     "execution_count": 54,
     "metadata": {},
     "output_type": "execute_result"
    }
   ],
   "source": [
    "features_test.head(2)"
   ]
  },
  {
   "cell_type": "code",
   "execution_count": 55,
   "metadata": {
    "scrolled": true
   },
   "outputs": [
    {
     "data": {
      "text/html": [
       "<div>\n",
       "<style scoped>\n",
       "    .dataframe tbody tr th:only-of-type {\n",
       "        vertical-align: middle;\n",
       "    }\n",
       "\n",
       "    .dataframe tbody tr th {\n",
       "        vertical-align: top;\n",
       "    }\n",
       "\n",
       "    .dataframe thead th {\n",
       "        text-align: right;\n",
       "    }\n",
       "</style>\n",
       "<table border=\"1\" class=\"dataframe\">\n",
       "  <thead>\n",
       "    <tr style=\"text-align: right;\">\n",
       "      <th></th>\n",
       "      <th>primary_cleaner.input.sulfate</th>\n",
       "      <th>primary_cleaner.input.depressant</th>\n",
       "      <th>primary_cleaner.input.feed_size</th>\n",
       "      <th>primary_cleaner.input.xanthate</th>\n",
       "      <th>primary_cleaner.state.floatbank8_a_air</th>\n",
       "      <th>primary_cleaner.state.floatbank8_a_level</th>\n",
       "      <th>primary_cleaner.state.floatbank8_b_air</th>\n",
       "      <th>primary_cleaner.state.floatbank8_b_level</th>\n",
       "      <th>primary_cleaner.state.floatbank8_c_air</th>\n",
       "      <th>primary_cleaner.state.floatbank8_c_level</th>\n",
       "      <th>...</th>\n",
       "      <th>secondary_cleaner.state.floatbank4_a_air</th>\n",
       "      <th>secondary_cleaner.state.floatbank4_a_level</th>\n",
       "      <th>secondary_cleaner.state.floatbank4_b_air</th>\n",
       "      <th>secondary_cleaner.state.floatbank4_b_level</th>\n",
       "      <th>secondary_cleaner.state.floatbank5_a_air</th>\n",
       "      <th>secondary_cleaner.state.floatbank5_a_level</th>\n",
       "      <th>secondary_cleaner.state.floatbank5_b_air</th>\n",
       "      <th>secondary_cleaner.state.floatbank5_b_level</th>\n",
       "      <th>secondary_cleaner.state.floatbank6_a_air</th>\n",
       "      <th>secondary_cleaner.state.floatbank6_a_level</th>\n",
       "    </tr>\n",
       "    <tr>\n",
       "      <th>date</th>\n",
       "      <th></th>\n",
       "      <th></th>\n",
       "      <th></th>\n",
       "      <th></th>\n",
       "      <th></th>\n",
       "      <th></th>\n",
       "      <th></th>\n",
       "      <th></th>\n",
       "      <th></th>\n",
       "      <th></th>\n",
       "      <th></th>\n",
       "      <th></th>\n",
       "      <th></th>\n",
       "      <th></th>\n",
       "      <th></th>\n",
       "      <th></th>\n",
       "      <th></th>\n",
       "      <th></th>\n",
       "      <th></th>\n",
       "      <th></th>\n",
       "      <th></th>\n",
       "    </tr>\n",
       "  </thead>\n",
       "  <tbody>\n",
       "    <tr>\n",
       "      <th>2016-01-15 00:00:00</th>\n",
       "      <td>127.092003</td>\n",
       "      <td>10.128295</td>\n",
       "      <td>7.25</td>\n",
       "      <td>0.988759</td>\n",
       "      <td>1549.775757</td>\n",
       "      <td>-498.912140</td>\n",
       "      <td>1551.434204</td>\n",
       "      <td>-516.403442</td>\n",
       "      <td>1549.873901</td>\n",
       "      <td>-498.666595</td>\n",
       "      <td>...</td>\n",
       "      <td>14.016835</td>\n",
       "      <td>-502.488007</td>\n",
       "      <td>12.099931</td>\n",
       "      <td>-504.715942</td>\n",
       "      <td>9.925633</td>\n",
       "      <td>-498.310211</td>\n",
       "      <td>8.079666</td>\n",
       "      <td>-500.470978</td>\n",
       "      <td>14.151341</td>\n",
       "      <td>-605.841980</td>\n",
       "    </tr>\n",
       "    <tr>\n",
       "      <th>2016-01-15 01:00:00</th>\n",
       "      <td>125.629232</td>\n",
       "      <td>10.296251</td>\n",
       "      <td>7.25</td>\n",
       "      <td>1.002663</td>\n",
       "      <td>1576.166671</td>\n",
       "      <td>-500.904965</td>\n",
       "      <td>1575.950626</td>\n",
       "      <td>-499.865889</td>\n",
       "      <td>1575.994189</td>\n",
       "      <td>-499.315107</td>\n",
       "      <td>...</td>\n",
       "      <td>13.992281</td>\n",
       "      <td>-505.503262</td>\n",
       "      <td>11.950531</td>\n",
       "      <td>-501.331529</td>\n",
       "      <td>10.039245</td>\n",
       "      <td>-500.169983</td>\n",
       "      <td>7.984757</td>\n",
       "      <td>-500.582168</td>\n",
       "      <td>13.998353</td>\n",
       "      <td>-599.787184</td>\n",
       "    </tr>\n",
       "  </tbody>\n",
       "</table>\n",
       "<p>2 rows × 52 columns</p>\n",
       "</div>"
      ],
      "text/plain": [
       "                     primary_cleaner.input.sulfate  \\\n",
       "date                                                 \n",
       "2016-01-15 00:00:00                     127.092003   \n",
       "2016-01-15 01:00:00                     125.629232   \n",
       "\n",
       "                     primary_cleaner.input.depressant  \\\n",
       "date                                                    \n",
       "2016-01-15 00:00:00                         10.128295   \n",
       "2016-01-15 01:00:00                         10.296251   \n",
       "\n",
       "                     primary_cleaner.input.feed_size  \\\n",
       "date                                                   \n",
       "2016-01-15 00:00:00                             7.25   \n",
       "2016-01-15 01:00:00                             7.25   \n",
       "\n",
       "                     primary_cleaner.input.xanthate  \\\n",
       "date                                                  \n",
       "2016-01-15 00:00:00                        0.988759   \n",
       "2016-01-15 01:00:00                        1.002663   \n",
       "\n",
       "                     primary_cleaner.state.floatbank8_a_air  \\\n",
       "date                                                          \n",
       "2016-01-15 00:00:00                             1549.775757   \n",
       "2016-01-15 01:00:00                             1576.166671   \n",
       "\n",
       "                     primary_cleaner.state.floatbank8_a_level  \\\n",
       "date                                                            \n",
       "2016-01-15 00:00:00                               -498.912140   \n",
       "2016-01-15 01:00:00                               -500.904965   \n",
       "\n",
       "                     primary_cleaner.state.floatbank8_b_air  \\\n",
       "date                                                          \n",
       "2016-01-15 00:00:00                             1551.434204   \n",
       "2016-01-15 01:00:00                             1575.950626   \n",
       "\n",
       "                     primary_cleaner.state.floatbank8_b_level  \\\n",
       "date                                                            \n",
       "2016-01-15 00:00:00                               -516.403442   \n",
       "2016-01-15 01:00:00                               -499.865889   \n",
       "\n",
       "                     primary_cleaner.state.floatbank8_c_air  \\\n",
       "date                                                          \n",
       "2016-01-15 00:00:00                             1549.873901   \n",
       "2016-01-15 01:00:00                             1575.994189   \n",
       "\n",
       "                     primary_cleaner.state.floatbank8_c_level  ...  \\\n",
       "date                                                           ...   \n",
       "2016-01-15 00:00:00                               -498.666595  ...   \n",
       "2016-01-15 01:00:00                               -499.315107  ...   \n",
       "\n",
       "                     secondary_cleaner.state.floatbank4_a_air  \\\n",
       "date                                                            \n",
       "2016-01-15 00:00:00                                 14.016835   \n",
       "2016-01-15 01:00:00                                 13.992281   \n",
       "\n",
       "                     secondary_cleaner.state.floatbank4_a_level  \\\n",
       "date                                                              \n",
       "2016-01-15 00:00:00                                 -502.488007   \n",
       "2016-01-15 01:00:00                                 -505.503262   \n",
       "\n",
       "                     secondary_cleaner.state.floatbank4_b_air  \\\n",
       "date                                                            \n",
       "2016-01-15 00:00:00                                 12.099931   \n",
       "2016-01-15 01:00:00                                 11.950531   \n",
       "\n",
       "                     secondary_cleaner.state.floatbank4_b_level  \\\n",
       "date                                                              \n",
       "2016-01-15 00:00:00                                 -504.715942   \n",
       "2016-01-15 01:00:00                                 -501.331529   \n",
       "\n",
       "                     secondary_cleaner.state.floatbank5_a_air  \\\n",
       "date                                                            \n",
       "2016-01-15 00:00:00                                  9.925633   \n",
       "2016-01-15 01:00:00                                 10.039245   \n",
       "\n",
       "                     secondary_cleaner.state.floatbank5_a_level  \\\n",
       "date                                                              \n",
       "2016-01-15 00:00:00                                 -498.310211   \n",
       "2016-01-15 01:00:00                                 -500.169983   \n",
       "\n",
       "                     secondary_cleaner.state.floatbank5_b_air  \\\n",
       "date                                                            \n",
       "2016-01-15 00:00:00                                  8.079666   \n",
       "2016-01-15 01:00:00                                  7.984757   \n",
       "\n",
       "                     secondary_cleaner.state.floatbank5_b_level  \\\n",
       "date                                                              \n",
       "2016-01-15 00:00:00                                 -500.470978   \n",
       "2016-01-15 01:00:00                                 -500.582168   \n",
       "\n",
       "                     secondary_cleaner.state.floatbank6_a_air  \\\n",
       "date                                                            \n",
       "2016-01-15 00:00:00                                 14.151341   \n",
       "2016-01-15 01:00:00                                 13.998353   \n",
       "\n",
       "                     secondary_cleaner.state.floatbank6_a_level  \n",
       "date                                                             \n",
       "2016-01-15 00:00:00                                 -605.841980  \n",
       "2016-01-15 01:00:00                                 -599.787184  \n",
       "\n",
       "[2 rows x 52 columns]"
      ]
     },
     "execution_count": 55,
     "metadata": {},
     "output_type": "execute_result"
    }
   ],
   "source": [
    "features_train.head(2)"
   ]
  },
  {
   "cell_type": "code",
   "execution_count": 56,
   "metadata": {},
   "outputs": [],
   "source": [
    "state = RandomState(12345)"
   ]
  },
  {
   "cell_type": "code",
   "execution_count": 57,
   "metadata": {},
   "outputs": [],
   "source": [
    "smape = make_scorer(sMAPE_score, greater_is_better=False)"
   ]
  },
  {
   "cell_type": "code",
   "execution_count": 58,
   "metadata": {},
   "outputs": [
    {
     "name": "stdout",
     "output_type": "stream",
     "text": [
      "DecisionTreeRegressor best parameters: {'max_depth': 4}\n"
     ]
    }
   ],
   "source": [
    "params_dtr_grid = {\"max_depth\": range(1, 6)}\n",
    "\n",
    "model_dtr_rougher = DecisionTreeRegressor(random_state=state)\n",
    "\n",
    "grid_dtr_rougher = GridSearchCV(\n",
    "    model_dtr_rougher, param_grid=params_dtr_grid, cv=5, scoring=smape, refit=True\n",
    ")\n",
    "grid_dtr_rougher.fit(features_train, target_train_rougher)\n",
    "params_dtr_grid_rougher = grid_dtr_rougher.best_params_\n",
    "grid_dtr_best_rougher = DecisionTreeRegressor(\n",
    "    **params_dtr_grid_rougher, random_state=state\n",
    ")\n",
    "grid_dtr_best_rougher.fit(features_train, target_train_rougher)\n",
    "\n",
    "print(\"DecisionTreeRegressor best parameters:\", params_dtr_grid_rougher)"
   ]
  },
  {
   "cell_type": "code",
   "execution_count": 59,
   "metadata": {
    "scrolled": true
   },
   "outputs": [
    {
     "name": "stdout",
     "output_type": "stream",
     "text": [
      "Fitting 3 folds for each of 7 candidates, totalling 21 fits\n",
      "RandomForestRegressor  best parameters: {'max_depth': 16}\n"
     ]
    }
   ],
   "source": [
    "params_rfr_grid = {\"max_depth\": range(1, 20, 3)}\n",
    "\n",
    "model_rfr_rougher = RandomForestRegressor(random_state=state)\n",
    "\n",
    "grid_rfr_rougher = GridSearchCV(\n",
    "    model_rfr_rougher, params_rfr_grid, cv=3, n_jobs=-1, verbose=2, scoring=smape\n",
    ")\n",
    "grid_rfr_rougher.fit(features_train, target_train_rougher)\n",
    "params_rfr_grid_rougher = grid_rfr_rougher.best_params_\n",
    "grid_rfr_best_rougher = RandomForestRegressor(\n",
    "    **params_rfr_grid_rougher, random_state=state\n",
    ")\n",
    "grid_rfr_best_rougher.fit(features_train, target_train_rougher)\n",
    "\n",
    "print(\"RandomForestRegressor  best parameters:\", params_rfr_grid_rougher)"
   ]
  },
  {
   "cell_type": "code",
   "execution_count": 60,
   "metadata": {
    "scrolled": true,
    "tags": []
   },
   "outputs": [
    {
     "name": "stdout",
     "output_type": "stream",
     "text": [
      "LinearRegression best parameters: {'fit_intercept': True}\n"
     ]
    },
    {
     "data": {
      "text/plain": [
       "-7.270025499957096"
      ]
     },
     "execution_count": 60,
     "metadata": {},
     "output_type": "execute_result"
    }
   ],
   "source": [
    "model_lr_rougher = LinearRegression()\n",
    "parameters = {\n",
    "    \"fit_intercept\": [True, False]\n",
    "}\n",
    "grid_lr_rougher = GridSearchCV(\n",
    "    model_lr_rougher, param_grid=parameters, cv=5, scoring=smape, refit=True\n",
    ")\n",
    "grid_lr_rougher.fit(features_train, target_train_rougher)\n",
    "params_lr_grid_rougher = grid_lr_rougher.best_params_\n",
    "grid_lr_best_rougher = LinearRegression(**params_lr_grid_rougher)\n",
    "grid_lr_best_rougher.fit(features_train, target_train_rougher)\n",
    "\n",
    "print(\"LinearRegression best parameters:\", params_lr_grid_rougher)\n",
    "grid_lr_rougher.best_score_"
   ]
  },
  {
   "cell_type": "code",
   "execution_count": 61,
   "metadata": {
    "tags": []
   },
   "outputs": [
    {
     "data": {
      "text/html": [
       "<style>#sk-container-id-1 {color: black;background-color: white;}#sk-container-id-1 pre{padding: 0;}#sk-container-id-1 div.sk-toggleable {background-color: white;}#sk-container-id-1 label.sk-toggleable__label {cursor: pointer;display: block;width: 100%;margin-bottom: 0;padding: 0.3em;box-sizing: border-box;text-align: center;}#sk-container-id-1 label.sk-toggleable__label-arrow:before {content: \"▸\";float: left;margin-right: 0.25em;color: #696969;}#sk-container-id-1 label.sk-toggleable__label-arrow:hover:before {color: black;}#sk-container-id-1 div.sk-estimator:hover label.sk-toggleable__label-arrow:before {color: black;}#sk-container-id-1 div.sk-toggleable__content {max-height: 0;max-width: 0;overflow: hidden;text-align: left;background-color: #f0f8ff;}#sk-container-id-1 div.sk-toggleable__content pre {margin: 0.2em;color: black;border-radius: 0.25em;background-color: #f0f8ff;}#sk-container-id-1 input.sk-toggleable__control:checked~div.sk-toggleable__content {max-height: 200px;max-width: 100%;overflow: auto;}#sk-container-id-1 input.sk-toggleable__control:checked~label.sk-toggleable__label-arrow:before {content: \"▾\";}#sk-container-id-1 div.sk-estimator input.sk-toggleable__control:checked~label.sk-toggleable__label {background-color: #d4ebff;}#sk-container-id-1 div.sk-label input.sk-toggleable__control:checked~label.sk-toggleable__label {background-color: #d4ebff;}#sk-container-id-1 input.sk-hidden--visually {border: 0;clip: rect(1px 1px 1px 1px);clip: rect(1px, 1px, 1px, 1px);height: 1px;margin: -1px;overflow: hidden;padding: 0;position: absolute;width: 1px;}#sk-container-id-1 div.sk-estimator {font-family: monospace;background-color: #f0f8ff;border: 1px dotted black;border-radius: 0.25em;box-sizing: border-box;margin-bottom: 0.5em;}#sk-container-id-1 div.sk-estimator:hover {background-color: #d4ebff;}#sk-container-id-1 div.sk-parallel-item::after {content: \"\";width: 100%;border-bottom: 1px solid gray;flex-grow: 1;}#sk-container-id-1 div.sk-label:hover label.sk-toggleable__label {background-color: #d4ebff;}#sk-container-id-1 div.sk-serial::before {content: \"\";position: absolute;border-left: 1px solid gray;box-sizing: border-box;top: 0;bottom: 0;left: 50%;z-index: 0;}#sk-container-id-1 div.sk-serial {display: flex;flex-direction: column;align-items: center;background-color: white;padding-right: 0.2em;padding-left: 0.2em;position: relative;}#sk-container-id-1 div.sk-item {position: relative;z-index: 1;}#sk-container-id-1 div.sk-parallel {display: flex;align-items: stretch;justify-content: center;background-color: white;position: relative;}#sk-container-id-1 div.sk-item::before, #sk-container-id-1 div.sk-parallel-item::before {content: \"\";position: absolute;border-left: 1px solid gray;box-sizing: border-box;top: 0;bottom: 0;left: 50%;z-index: -1;}#sk-container-id-1 div.sk-parallel-item {display: flex;flex-direction: column;z-index: 1;position: relative;background-color: white;}#sk-container-id-1 div.sk-parallel-item:first-child::after {align-self: flex-end;width: 50%;}#sk-container-id-1 div.sk-parallel-item:last-child::after {align-self: flex-start;width: 50%;}#sk-container-id-1 div.sk-parallel-item:only-child::after {width: 0;}#sk-container-id-1 div.sk-dashed-wrapped {border: 1px dashed gray;margin: 0 0.4em 0.5em 0.4em;box-sizing: border-box;padding-bottom: 0.4em;background-color: white;}#sk-container-id-1 div.sk-label label {font-family: monospace;font-weight: bold;display: inline-block;line-height: 1.2em;}#sk-container-id-1 div.sk-label-container {text-align: center;}#sk-container-id-1 div.sk-container {/* jupyter's `normalize.less` sets `[hidden] { display: none; }` but bootstrap.min.css set `[hidden] { display: none !important; }` so we also need the `!important` here to be able to override the default hidden behavior on the sphinx rendered scikit-learn.org. See: https://github.com/scikit-learn/scikit-learn/issues/21755 */display: inline-block !important;position: relative;}#sk-container-id-1 div.sk-text-repr-fallback {display: none;}</style><div id=\"sk-container-id-1\" class=\"sk-top-container\"><div class=\"sk-text-repr-fallback\"><pre>DummyClassifier(strategy=&#x27;most_frequent&#x27;)</pre><b>In a Jupyter environment, please rerun this cell to show the HTML representation or trust the notebook. <br />On GitHub, the HTML representation is unable to render, please try loading this page with nbviewer.org.</b></div><div class=\"sk-container\" hidden><div class=\"sk-item\"><div class=\"sk-estimator sk-toggleable\"><input class=\"sk-toggleable__control sk-hidden--visually\" id=\"sk-estimator-id-1\" type=\"checkbox\" checked><label for=\"sk-estimator-id-1\" class=\"sk-toggleable__label sk-toggleable__label-arrow\">DummyClassifier</label><div class=\"sk-toggleable__content\"><pre>DummyClassifier(strategy=&#x27;most_frequent&#x27;)</pre></div></div></div></div></div>"
      ],
      "text/plain": [
       "DummyClassifier(strategy='most_frequent')"
      ]
     },
     "execution_count": 61,
     "metadata": {},
     "output_type": "execute_result"
    }
   ],
   "source": [
    "dummy_clf = DummyClassifier(strategy=\"most_frequent\")\n",
    "dummy_clf.fit(features_train, target_train_rougher)"
   ]
  },
  {
   "cell_type": "code",
   "execution_count": 62,
   "metadata": {},
   "outputs": [],
   "source": [
    "rougher_predicted_dtr = grid_dtr_best_rougher.predict(features_test)\n",
    "final_predicted_dtr = grid_dtr_best_rougher.predict(features_test)\n",
    "rougher_predicted_rfr = grid_rfr_best_rougher.predict(features_test)\n",
    "final_predicted_rfr = grid_rfr_best_rougher.predict(features_test)\n",
    "rougher_predicted_lr = grid_lr_best_rougher.predict(features_test)\n",
    "final_predicted_lr = grid_lr_best_rougher.predict(features_test)\n",
    "predicted_dummy = dummy_clf.predict(features_test)"
   ]
  },
  {
   "cell_type": "code",
   "execution_count": 63,
   "metadata": {},
   "outputs": [
    {
     "data": {
      "text/html": [
       "<div>\n",
       "<style scoped>\n",
       "    .dataframe tbody tr th:only-of-type {\n",
       "        vertical-align: middle;\n",
       "    }\n",
       "\n",
       "    .dataframe tbody tr th {\n",
       "        vertical-align: top;\n",
       "    }\n",
       "\n",
       "    .dataframe thead th {\n",
       "        text-align: right;\n",
       "    }\n",
       "</style>\n",
       "<table border=\"1\" class=\"dataframe\">\n",
       "  <thead>\n",
       "    <tr style=\"text-align: right;\">\n",
       "      <th></th>\n",
       "      <th>dtr</th>\n",
       "      <th>rfr</th>\n",
       "      <th>lr</th>\n",
       "      <th>dummy</th>\n",
       "    </tr>\n",
       "  </thead>\n",
       "  <tbody>\n",
       "    <tr>\n",
       "      <th>total_SMAPE</th>\n",
       "      <td>19.86271</td>\n",
       "      <td>19.980664</td>\n",
       "      <td>19.51421</td>\n",
       "      <td>33.325326</td>\n",
       "    </tr>\n",
       "  </tbody>\n",
       "</table>\n",
       "</div>"
      ],
      "text/plain": [
       "                  dtr        rfr        lr      dummy\n",
       "total_SMAPE  19.86271  19.980664  19.51421  33.325326"
      ]
     },
     "metadata": {},
     "output_type": "display_data"
    }
   ],
   "source": [
    "table = [\n",
    "    [\n",
    "        sMAPE_total_score(\n",
    "            target_test_rougher,\n",
    "            rougher_predicted_dtr,\n",
    "            target_test_final,\n",
    "            final_predicted_dtr,\n",
    "        ),\n",
    "        sMAPE_total_score(\n",
    "            target_test_rougher,\n",
    "            rougher_predicted_rfr,\n",
    "            target_test_final,\n",
    "            final_predicted_rfr,\n",
    "        ),\n",
    "        sMAPE_total_score(\n",
    "            target_test_rougher,\n",
    "            rougher_predicted_lr,\n",
    "            target_test_final,\n",
    "            final_predicted_lr,\n",
    "        ),\n",
    "        sMAPE_total_score(\n",
    "            target_test_rougher,\n",
    "            predicted_dummy,\n",
    "            target_test_final,\n",
    "            predicted_dummy,\n",
    "        ),\n",
    "    ]\n",
    "]\n",
    "columns = [\"dtr\", \"rfr\", \"lr\", \"dummy\"]\n",
    "index = [\"total_SMAPE\"]\n",
    "table_2 = pd.DataFrame(table, index, columns)\n",
    "display(table_2)"
   ]
  },
  {
   "cell_type": "code",
   "execution_count": 64,
   "metadata": {},
   "outputs": [
    {
     "name": "stdout",
     "output_type": "stream",
     "text": [
      "The most suitable model: LinearRegression()\n"
     ]
    }
   ],
   "source": [
    "print(\"The most suitable model:\", grid_lr_best_rougher)"
   ]
  },
  {
   "cell_type": "markdown",
   "metadata": {},
   "source": [
    "The above model is optimal for the task, as can be seen from the experiment."
   ]
  },
  {
   "cell_type": "markdown",
   "metadata": {},
   "source": [
    "Summary of work done:\n",
    "\n",
    "    1) Pre-processing meant (meaning, in addition to searching for anomalies, duplicates, etc.), including the refinement of the proposed test set, the addition of features from the main dataset, the alignment of the order of features (columns) for the correct selection of the model in the future;\n",
    "    \n",
    "    2) Analysis of the content of the elements indicated in these data at different stages of processing showed:\n",
    "        - a significant decrease in the concentration of silver;\n",
    "        - a slight decrease in the concentration of lead;\n",
    "        - a significant increase in the concentration of gold;\n",
    "        \n",
    "    3) Similar results were obtained in the study of the total concentration of all substances at different stages: in raw materials, in rough and final concentrates;\n",
    "    \n",
    "    4) Models were selected using the sMAPE metric, as a result of which, using the test, the most effective model was determined - RandomForestRegressor with best parameters: {'max_depth': 16}. The metrics scores were compared with the constant model."
   ]
  }
 ],
 "metadata": {
  "ExecuteTimeLog": [
   {
    "duration": 259,
    "start_time": "2022-07-23T12:59:06.728Z"
   },
   {
    "duration": 4375,
    "start_time": "2022-07-23T12:59:14.020Z"
   },
   {
    "duration": 155,
    "start_time": "2022-07-23T12:59:30.771Z"
   },
   {
    "duration": 1427,
    "start_time": "2022-07-23T12:59:41.304Z"
   },
   {
    "duration": 46,
    "start_time": "2022-07-23T13:00:27.804Z"
   },
   {
    "duration": 188,
    "start_time": "2022-07-23T13:00:38.149Z"
   },
   {
    "duration": 590,
    "start_time": "2022-07-23T13:00:54.460Z"
   },
   {
    "duration": 1142,
    "start_time": "2022-07-23T13:01:18.664Z"
   },
   {
    "duration": 184,
    "start_time": "2022-07-23T13:01:30.824Z"
   },
   {
    "duration": 65,
    "start_time": "2022-07-23T13:01:42.355Z"
   },
   {
    "duration": 65,
    "start_time": "2022-07-23T13:01:58.690Z"
   },
   {
    "duration": 55,
    "start_time": "2022-07-23T13:02:10.701Z"
   },
   {
    "duration": 53,
    "start_time": "2022-07-23T13:02:23.109Z"
   },
   {
    "duration": 74,
    "start_time": "2022-07-23T13:02:32.613Z"
   },
   {
    "duration": 69,
    "start_time": "2022-07-23T13:02:40.015Z"
   },
   {
    "duration": 43,
    "start_time": "2022-07-23T13:04:09.364Z"
   },
   {
    "duration": 219,
    "start_time": "2022-07-23T13:04:30.317Z"
   },
   {
    "duration": 40,
    "start_time": "2022-07-23T13:04:38.053Z"
   },
   {
    "duration": 14,
    "start_time": "2022-07-23T13:04:50.116Z"
   },
   {
    "duration": 54,
    "start_time": "2022-07-23T13:04:57.746Z"
   },
   {
    "duration": 10,
    "start_time": "2022-07-23T13:06:43.744Z"
   },
   {
    "duration": 47,
    "start_time": "2022-07-23T13:07:50.366Z"
   },
   {
    "duration": 44,
    "start_time": "2022-07-23T13:08:47.893Z"
   },
   {
    "duration": 47,
    "start_time": "2022-07-23T13:08:52.385Z"
   },
   {
    "duration": 62,
    "start_time": "2022-07-23T13:08:57.448Z"
   },
   {
    "duration": 154,
    "start_time": "2022-07-23T13:09:16.327Z"
   },
   {
    "duration": 157,
    "start_time": "2022-07-23T13:09:18.946Z"
   },
   {
    "duration": 66,
    "start_time": "2022-07-23T13:09:23.727Z"
   },
   {
    "duration": 49,
    "start_time": "2022-07-23T13:09:30.999Z"
   },
   {
    "duration": 69,
    "start_time": "2022-07-23T13:09:35.444Z"
   },
   {
    "duration": 46,
    "start_time": "2022-07-23T13:09:41.145Z"
   },
   {
    "duration": 117,
    "start_time": "2022-07-23T13:10:08.983Z"
   },
   {
    "duration": 49,
    "start_time": "2022-07-23T13:10:19.393Z"
   },
   {
    "duration": 56,
    "start_time": "2022-07-23T13:10:24.753Z"
   },
   {
    "duration": 65,
    "start_time": "2022-07-23T13:11:43.820Z"
   },
   {
    "duration": 47,
    "start_time": "2022-07-23T13:11:48.974Z"
   },
   {
    "duration": 58,
    "start_time": "2022-07-23T13:11:58.873Z"
   },
   {
    "duration": 51,
    "start_time": "2022-07-23T13:12:20.878Z"
   },
   {
    "duration": 57,
    "start_time": "2022-07-23T13:12:32.582Z"
   },
   {
    "duration": 2178,
    "start_time": "2022-07-23T13:12:53.020Z"
   },
   {
    "duration": 40,
    "start_time": "2022-07-23T13:12:55.201Z"
   },
   {
    "duration": 13,
    "start_time": "2022-07-23T13:12:55.243Z"
   },
   {
    "duration": 383,
    "start_time": "2022-07-23T13:12:55.257Z"
   },
   {
    "duration": 273,
    "start_time": "2022-07-23T13:12:55.642Z"
   },
   {
    "duration": 117,
    "start_time": "2022-07-23T13:12:55.916Z"
   },
   {
    "duration": 64,
    "start_time": "2022-07-23T13:12:56.035Z"
   },
   {
    "duration": 62,
    "start_time": "2022-07-23T13:12:56.101Z"
   },
   {
    "duration": 73,
    "start_time": "2022-07-23T13:12:56.165Z"
   },
   {
    "duration": 63,
    "start_time": "2022-07-23T13:12:56.240Z"
   },
   {
    "duration": 63,
    "start_time": "2022-07-23T13:12:56.305Z"
   },
   {
    "duration": 58,
    "start_time": "2022-07-23T13:12:56.371Z"
   },
   {
    "duration": 43,
    "start_time": "2022-07-23T13:12:56.431Z"
   },
   {
    "duration": 42,
    "start_time": "2022-07-23T13:12:56.476Z"
   },
   {
    "duration": 14,
    "start_time": "2022-07-23T13:12:56.519Z"
   },
   {
    "duration": 50,
    "start_time": "2022-07-23T13:12:56.535Z"
   },
   {
    "duration": 23,
    "start_time": "2022-07-23T13:12:56.588Z"
   },
   {
    "duration": 51,
    "start_time": "2022-07-23T13:12:56.613Z"
   },
   {
    "duration": 45,
    "start_time": "2022-07-23T13:12:56.665Z"
   },
   {
    "duration": 46,
    "start_time": "2022-07-23T13:12:56.711Z"
   },
   {
    "duration": 52,
    "start_time": "2022-07-23T13:12:56.758Z"
   },
   {
    "duration": 127,
    "start_time": "2022-07-23T13:12:56.811Z"
   },
   {
    "duration": 147,
    "start_time": "2022-07-23T13:12:56.939Z"
   },
   {
    "duration": 76,
    "start_time": "2022-07-23T13:12:57.088Z"
   },
   {
    "duration": 49,
    "start_time": "2022-07-23T13:12:57.166Z"
   },
   {
    "duration": 44,
    "start_time": "2022-07-23T13:12:57.217Z"
   },
   {
    "duration": 43,
    "start_time": "2022-07-23T13:12:57.263Z"
   },
   {
    "duration": 55,
    "start_time": "2022-07-23T13:12:57.308Z"
   },
   {
    "duration": 56,
    "start_time": "2022-07-23T13:12:57.365Z"
   },
   {
    "duration": 52,
    "start_time": "2022-07-23T13:12:57.423Z"
   },
   {
    "duration": 60,
    "start_time": "2022-07-23T13:12:57.477Z"
   },
   {
    "duration": 56,
    "start_time": "2022-07-23T13:12:57.539Z"
   },
   {
    "duration": 57,
    "start_time": "2022-07-23T13:13:00.555Z"
   },
   {
    "duration": 16,
    "start_time": "2022-07-23T13:13:19.959Z"
   },
   {
    "duration": 45,
    "start_time": "2022-07-23T13:13:52.122Z"
   },
   {
    "duration": 18,
    "start_time": "2022-07-23T13:13:59.344Z"
   },
   {
    "duration": 1126,
    "start_time": "2022-07-23T13:14:05.665Z"
   },
   {
    "duration": 1149,
    "start_time": "2022-07-23T13:14:29.010Z"
   },
   {
    "duration": 1090,
    "start_time": "2022-07-23T13:14:42.554Z"
   },
   {
    "duration": 306,
    "start_time": "2022-07-23T13:15:17.226Z"
   },
   {
    "duration": 20,
    "start_time": "2022-07-23T13:16:42.386Z"
   },
   {
    "duration": 992,
    "start_time": "2022-07-23T13:17:00.009Z"
   },
   {
    "duration": 999,
    "start_time": "2022-07-23T13:17:07.785Z"
   },
   {
    "duration": 1114,
    "start_time": "2022-07-23T13:17:14.044Z"
   },
   {
    "duration": 1244,
    "start_time": "2022-07-23T13:17:24.459Z"
   },
   {
    "duration": 16,
    "start_time": "2022-07-23T13:17:48.182Z"
   },
   {
    "duration": 20,
    "start_time": "2022-07-23T13:17:56.091Z"
   },
   {
    "duration": 16,
    "start_time": "2022-07-23T13:18:01.979Z"
   },
   {
    "duration": 16,
    "start_time": "2022-07-23T13:18:07.395Z"
   },
   {
    "duration": 47,
    "start_time": "2022-07-23T13:19:05.145Z"
   },
   {
    "duration": 44,
    "start_time": "2022-07-23T13:19:40.445Z"
   },
   {
    "duration": 12,
    "start_time": "2022-07-23T13:20:25.823Z"
   },
   {
    "duration": 10,
    "start_time": "2022-07-23T13:20:31.101Z"
   },
   {
    "duration": 82,
    "start_time": "2022-07-23T13:20:37.382Z"
   },
   {
    "duration": 58,
    "start_time": "2022-07-23T13:20:42.340Z"
   },
   {
    "duration": 7362,
    "start_time": "2022-07-23T13:20:48.414Z"
   },
   {
    "duration": 7314,
    "start_time": "2022-07-23T13:20:55.777Z"
   },
   {
    "duration": 1887,
    "start_time": "2022-07-23T13:33:10.082Z"
   },
   {
    "duration": 103,
    "start_time": "2022-07-23T13:33:11.971Z"
   },
   {
    "duration": 1357,
    "start_time": "2022-07-23T13:33:12.076Z"
   },
   {
    "duration": 383,
    "start_time": "2022-07-23T13:33:13.434Z"
   },
   {
    "duration": 261,
    "start_time": "2022-07-23T13:33:13.818Z"
   },
   {
    "duration": 108,
    "start_time": "2022-07-23T13:33:14.082Z"
   },
   {
    "duration": 60,
    "start_time": "2022-07-23T13:33:14.191Z"
   },
   {
    "duration": 60,
    "start_time": "2022-07-23T13:33:14.253Z"
   },
   {
    "duration": 64,
    "start_time": "2022-07-23T13:33:14.315Z"
   },
   {
    "duration": 60,
    "start_time": "2022-07-23T13:33:14.382Z"
   },
   {
    "duration": 64,
    "start_time": "2022-07-23T13:33:14.444Z"
   },
   {
    "duration": 52,
    "start_time": "2022-07-23T13:33:14.510Z"
   },
   {
    "duration": 45,
    "start_time": "2022-07-23T13:33:14.564Z"
   },
   {
    "duration": 44,
    "start_time": "2022-07-23T13:33:14.611Z"
   },
   {
    "duration": 14,
    "start_time": "2022-07-23T13:33:14.657Z"
   },
   {
    "duration": 46,
    "start_time": "2022-07-23T13:33:14.673Z"
   },
   {
    "duration": 13,
    "start_time": "2022-07-23T13:33:14.720Z"
   },
   {
    "duration": 60,
    "start_time": "2022-07-23T13:33:14.735Z"
   },
   {
    "duration": 51,
    "start_time": "2022-07-23T13:33:14.797Z"
   },
   {
    "duration": 43,
    "start_time": "2022-07-23T13:33:14.849Z"
   },
   {
    "duration": 49,
    "start_time": "2022-07-23T13:33:14.894Z"
   },
   {
    "duration": 152,
    "start_time": "2022-07-23T13:33:14.945Z"
   },
   {
    "duration": 170,
    "start_time": "2022-07-23T13:33:15.099Z"
   },
   {
    "duration": 67,
    "start_time": "2022-07-23T13:33:15.271Z"
   },
   {
    "duration": 45,
    "start_time": "2022-07-23T13:33:15.340Z"
   },
   {
    "duration": 43,
    "start_time": "2022-07-23T13:33:15.387Z"
   },
   {
    "duration": 100,
    "start_time": "2022-07-23T13:33:15.432Z"
   },
   {
    "duration": 51,
    "start_time": "2022-07-23T13:33:15.535Z"
   },
   {
    "duration": 49,
    "start_time": "2022-07-23T13:33:15.588Z"
   },
   {
    "duration": 49,
    "start_time": "2022-07-23T13:33:15.638Z"
   },
   {
    "duration": 66,
    "start_time": "2022-07-23T13:33:15.689Z"
   },
   {
    "duration": 93,
    "start_time": "2022-07-23T13:33:15.757Z"
   },
   {
    "duration": 66,
    "start_time": "2022-07-23T13:33:15.851Z"
   },
   {
    "duration": 17,
    "start_time": "2022-07-23T13:33:15.918Z"
   },
   {
    "duration": 41,
    "start_time": "2022-07-23T13:33:15.936Z"
   },
   {
    "duration": 18,
    "start_time": "2022-07-23T13:33:15.979Z"
   },
   {
    "duration": 1054,
    "start_time": "2022-07-23T13:33:15.999Z"
   },
   {
    "duration": 1015,
    "start_time": "2022-07-23T13:33:17.055Z"
   },
   {
    "duration": 963,
    "start_time": "2022-07-23T13:33:18.072Z"
   },
   {
    "duration": 326,
    "start_time": "2022-07-23T13:33:19.037Z"
   },
   {
    "duration": 19,
    "start_time": "2022-07-23T13:33:19.365Z"
   },
   {
    "duration": 1152,
    "start_time": "2022-07-23T13:33:19.385Z"
   },
   {
    "duration": 1190,
    "start_time": "2022-07-23T13:33:20.538Z"
   },
   {
    "duration": 1135,
    "start_time": "2022-07-23T13:33:21.730Z"
   },
   {
    "duration": 1157,
    "start_time": "2022-07-23T13:33:22.866Z"
   },
   {
    "duration": 32,
    "start_time": "2022-07-23T13:33:24.026Z"
   },
   {
    "duration": 20,
    "start_time": "2022-07-23T13:33:24.060Z"
   },
   {
    "duration": 23,
    "start_time": "2022-07-23T13:33:24.082Z"
   },
   {
    "duration": 50,
    "start_time": "2022-07-23T13:33:24.107Z"
   },
   {
    "duration": 42,
    "start_time": "2022-07-23T13:33:24.159Z"
   },
   {
    "duration": 60,
    "start_time": "2022-07-23T13:33:24.203Z"
   },
   {
    "duration": 10,
    "start_time": "2022-07-23T13:33:24.265Z"
   },
   {
    "duration": 15,
    "start_time": "2022-07-23T13:33:24.277Z"
   },
   {
    "duration": 65,
    "start_time": "2022-07-23T13:33:24.295Z"
   },
   {
    "duration": 59,
    "start_time": "2022-07-23T13:33:24.362Z"
   },
   {
    "duration": 7744,
    "start_time": "2022-07-23T13:33:24.424Z"
   },
   {
    "duration": 7131,
    "start_time": "2022-07-23T13:33:32.169Z"
   },
   {
    "duration": 179,
    "start_time": "2022-07-23T13:33:39.301Z"
   },
   {
    "duration": 0,
    "start_time": "2022-07-23T13:33:39.481Z"
   },
   {
    "duration": 0,
    "start_time": "2022-07-23T13:33:39.482Z"
   },
   {
    "duration": 0,
    "start_time": "2022-07-23T13:33:39.483Z"
   },
   {
    "duration": 0,
    "start_time": "2022-07-23T13:33:39.484Z"
   },
   {
    "duration": 0,
    "start_time": "2022-07-23T13:33:39.485Z"
   },
   {
    "duration": 0,
    "start_time": "2022-07-23T13:33:39.485Z"
   },
   {
    "duration": 126,
    "start_time": "2022-07-23T13:34:12.794Z"
   },
   {
    "duration": 23,
    "start_time": "2022-07-23T13:34:48.491Z"
   },
   {
    "duration": 206,
    "start_time": "2022-07-23T13:37:17.574Z"
   },
   {
    "duration": 1876,
    "start_time": "2022-07-23T13:46:42.724Z"
   },
   {
    "duration": 109,
    "start_time": "2022-07-23T13:46:44.602Z"
   },
   {
    "duration": 1425,
    "start_time": "2022-07-23T13:46:44.712Z"
   },
   {
    "duration": 438,
    "start_time": "2022-07-23T13:46:46.140Z"
   },
   {
    "duration": 284,
    "start_time": "2022-07-23T13:46:46.580Z"
   },
   {
    "duration": 122,
    "start_time": "2022-07-23T13:46:46.866Z"
   },
   {
    "duration": 73,
    "start_time": "2022-07-23T13:46:46.989Z"
   },
   {
    "duration": 59,
    "start_time": "2022-07-23T13:46:47.064Z"
   },
   {
    "duration": 61,
    "start_time": "2022-07-23T13:46:47.125Z"
   },
   {
    "duration": 55,
    "start_time": "2022-07-23T13:46:47.188Z"
   },
   {
    "duration": 68,
    "start_time": "2022-07-23T13:46:47.245Z"
   },
   {
    "duration": 54,
    "start_time": "2022-07-23T13:46:47.315Z"
   },
   {
    "duration": 44,
    "start_time": "2022-07-23T13:46:47.371Z"
   },
   {
    "duration": 45,
    "start_time": "2022-07-23T13:46:47.416Z"
   },
   {
    "duration": 13,
    "start_time": "2022-07-23T13:46:47.463Z"
   },
   {
    "duration": 42,
    "start_time": "2022-07-23T13:46:47.477Z"
   },
   {
    "duration": 13,
    "start_time": "2022-07-23T13:46:47.521Z"
   },
   {
    "duration": 49,
    "start_time": "2022-07-23T13:46:47.535Z"
   },
   {
    "duration": 47,
    "start_time": "2022-07-23T13:46:47.586Z"
   },
   {
    "duration": 49,
    "start_time": "2022-07-23T13:46:47.635Z"
   },
   {
    "duration": 44,
    "start_time": "2022-07-23T13:46:47.686Z"
   },
   {
    "duration": 139,
    "start_time": "2022-07-23T13:46:47.731Z"
   },
   {
    "duration": 168,
    "start_time": "2022-07-23T13:46:47.872Z"
   },
   {
    "duration": 62,
    "start_time": "2022-07-23T13:46:48.042Z"
   },
   {
    "duration": 45,
    "start_time": "2022-07-23T13:46:48.106Z"
   },
   {
    "duration": 46,
    "start_time": "2022-07-23T13:46:48.153Z"
   },
   {
    "duration": 120,
    "start_time": "2022-07-23T13:46:48.201Z"
   },
   {
    "duration": 59,
    "start_time": "2022-07-23T13:46:48.324Z"
   },
   {
    "duration": 51,
    "start_time": "2022-07-23T13:46:48.384Z"
   },
   {
    "duration": 50,
    "start_time": "2022-07-23T13:46:48.436Z"
   },
   {
    "duration": 58,
    "start_time": "2022-07-23T13:46:48.487Z"
   },
   {
    "duration": 54,
    "start_time": "2022-07-23T13:46:48.547Z"
   },
   {
    "duration": 59,
    "start_time": "2022-07-23T13:46:48.603Z"
   },
   {
    "duration": 17,
    "start_time": "2022-07-23T13:46:48.663Z"
   },
   {
    "duration": 40,
    "start_time": "2022-07-23T13:46:48.681Z"
   },
   {
    "duration": 18,
    "start_time": "2022-07-23T13:46:48.723Z"
   },
   {
    "duration": 1233,
    "start_time": "2022-07-23T13:46:48.742Z"
   },
   {
    "duration": 1233,
    "start_time": "2022-07-23T13:46:49.977Z"
   },
   {
    "duration": 1064,
    "start_time": "2022-07-23T13:46:51.212Z"
   },
   {
    "duration": 337,
    "start_time": "2022-07-23T13:46:52.278Z"
   },
   {
    "duration": 24,
    "start_time": "2022-07-23T13:46:52.617Z"
   },
   {
    "duration": 987,
    "start_time": "2022-07-23T13:46:52.643Z"
   },
   {
    "duration": 992,
    "start_time": "2022-07-23T13:46:53.631Z"
   },
   {
    "duration": 913,
    "start_time": "2022-07-23T13:46:54.624Z"
   },
   {
    "duration": 1020,
    "start_time": "2022-07-23T13:46:55.539Z"
   },
   {
    "duration": 17,
    "start_time": "2022-07-23T13:46:56.561Z"
   },
   {
    "duration": 17,
    "start_time": "2022-07-23T13:46:56.580Z"
   },
   {
    "duration": 23,
    "start_time": "2022-07-23T13:46:56.599Z"
   },
   {
    "duration": 36,
    "start_time": "2022-07-23T13:46:56.624Z"
   },
   {
    "duration": 42,
    "start_time": "2022-07-23T13:46:56.661Z"
   },
   {
    "duration": 44,
    "start_time": "2022-07-23T13:46:56.705Z"
   },
   {
    "duration": 11,
    "start_time": "2022-07-23T13:46:56.751Z"
   },
   {
    "duration": 15,
    "start_time": "2022-07-23T13:46:56.763Z"
   },
   {
    "duration": 62,
    "start_time": "2022-07-23T13:46:56.780Z"
   },
   {
    "duration": 44,
    "start_time": "2022-07-23T13:46:56.844Z"
   },
   {
    "duration": 6920,
    "start_time": "2022-07-23T13:46:56.889Z"
   },
   {
    "duration": 7121,
    "start_time": "2022-07-23T13:47:03.811Z"
   },
   {
    "duration": 1896,
    "start_time": "2022-07-23T13:58:34.027Z"
   },
   {
    "duration": 104,
    "start_time": "2022-07-23T13:58:35.926Z"
   },
   {
    "duration": 1344,
    "start_time": "2022-07-23T13:58:36.032Z"
   },
   {
    "duration": 344,
    "start_time": "2022-07-23T13:58:37.378Z"
   },
   {
    "duration": 253,
    "start_time": "2022-07-23T13:58:37.724Z"
   },
   {
    "duration": 101,
    "start_time": "2022-07-23T13:58:37.978Z"
   },
   {
    "duration": 57,
    "start_time": "2022-07-23T13:58:38.081Z"
   },
   {
    "duration": 54,
    "start_time": "2022-07-23T13:58:38.140Z"
   },
   {
    "duration": 55,
    "start_time": "2022-07-23T13:58:38.196Z"
   },
   {
    "duration": 53,
    "start_time": "2022-07-23T13:58:38.254Z"
   },
   {
    "duration": 64,
    "start_time": "2022-07-23T13:58:38.310Z"
   },
   {
    "duration": 48,
    "start_time": "2022-07-23T13:58:38.376Z"
   },
   {
    "duration": 44,
    "start_time": "2022-07-23T13:58:38.426Z"
   },
   {
    "duration": 38,
    "start_time": "2022-07-23T13:58:38.471Z"
   },
   {
    "duration": 12,
    "start_time": "2022-07-23T13:58:38.511Z"
   },
   {
    "duration": 40,
    "start_time": "2022-07-23T13:58:38.524Z"
   },
   {
    "duration": 13,
    "start_time": "2022-07-23T13:58:38.565Z"
   },
   {
    "duration": 51,
    "start_time": "2022-07-23T13:58:38.580Z"
   },
   {
    "duration": 42,
    "start_time": "2022-07-23T13:58:38.633Z"
   },
   {
    "duration": 66,
    "start_time": "2022-07-23T13:58:38.677Z"
   },
   {
    "duration": 42,
    "start_time": "2022-07-23T13:58:38.744Z"
   },
   {
    "duration": 132,
    "start_time": "2022-07-23T13:58:38.787Z"
   },
   {
    "duration": 156,
    "start_time": "2022-07-23T13:58:38.921Z"
   },
   {
    "duration": 61,
    "start_time": "2022-07-23T13:58:39.078Z"
   },
   {
    "duration": 45,
    "start_time": "2022-07-23T13:58:39.141Z"
   },
   {
    "duration": 56,
    "start_time": "2022-07-23T13:58:39.188Z"
   },
   {
    "duration": 114,
    "start_time": "2022-07-23T13:58:39.246Z"
   },
   {
    "duration": 52,
    "start_time": "2022-07-23T13:58:39.365Z"
   },
   {
    "duration": 49,
    "start_time": "2022-07-23T13:58:39.419Z"
   },
   {
    "duration": 47,
    "start_time": "2022-07-23T13:58:39.469Z"
   },
   {
    "duration": 56,
    "start_time": "2022-07-23T13:58:39.518Z"
   },
   {
    "duration": 51,
    "start_time": "2022-07-23T13:58:39.576Z"
   },
   {
    "duration": 56,
    "start_time": "2022-07-23T13:58:39.629Z"
   },
   {
    "duration": 16,
    "start_time": "2022-07-23T13:58:39.687Z"
   },
   {
    "duration": 45,
    "start_time": "2022-07-23T13:58:39.705Z"
   },
   {
    "duration": 19,
    "start_time": "2022-07-23T13:58:39.751Z"
   },
   {
    "duration": 1065,
    "start_time": "2022-07-23T13:58:39.772Z"
   },
   {
    "duration": 1038,
    "start_time": "2022-07-23T13:58:40.839Z"
   },
   {
    "duration": 1016,
    "start_time": "2022-07-23T13:58:41.879Z"
   },
   {
    "duration": 310,
    "start_time": "2022-07-23T13:58:42.897Z"
   },
   {
    "duration": 18,
    "start_time": "2022-07-23T13:58:43.209Z"
   },
   {
    "duration": 899,
    "start_time": "2022-07-23T13:58:43.229Z"
   },
   {
    "duration": 1028,
    "start_time": "2022-07-23T13:58:44.130Z"
   },
   {
    "duration": 1224,
    "start_time": "2022-07-23T13:58:45.159Z"
   },
   {
    "duration": 1201,
    "start_time": "2022-07-23T13:58:46.384Z"
   },
   {
    "duration": 21,
    "start_time": "2022-07-23T13:58:47.587Z"
   },
   {
    "duration": 19,
    "start_time": "2022-07-23T13:58:47.610Z"
   },
   {
    "duration": 38,
    "start_time": "2022-07-23T13:58:47.630Z"
   },
   {
    "duration": 16,
    "start_time": "2022-07-23T13:58:47.669Z"
   },
   {
    "duration": 41,
    "start_time": "2022-07-23T13:58:47.687Z"
   },
   {
    "duration": 46,
    "start_time": "2022-07-23T13:58:47.729Z"
   },
   {
    "duration": 9,
    "start_time": "2022-07-23T13:58:47.777Z"
   },
   {
    "duration": 15,
    "start_time": "2022-07-23T13:58:47.788Z"
   },
   {
    "duration": 48,
    "start_time": "2022-07-23T13:58:47.804Z"
   },
   {
    "duration": 39,
    "start_time": "2022-07-23T13:58:47.853Z"
   },
   {
    "duration": 7704,
    "start_time": "2022-07-23T13:58:47.894Z"
   },
   {
    "duration": 7947,
    "start_time": "2022-07-23T13:58:55.599Z"
   },
   {
    "duration": 1930,
    "start_time": "2022-07-23T14:00:37.143Z"
   },
   {
    "duration": 96,
    "start_time": "2022-07-23T14:00:39.075Z"
   },
   {
    "duration": 1330,
    "start_time": "2022-07-23T14:00:39.173Z"
   },
   {
    "duration": 404,
    "start_time": "2022-07-23T14:00:40.504Z"
   },
   {
    "duration": 277,
    "start_time": "2022-07-23T14:00:40.909Z"
   },
   {
    "duration": 109,
    "start_time": "2022-07-23T14:00:41.188Z"
   },
   {
    "duration": 62,
    "start_time": "2022-07-23T14:00:41.299Z"
   },
   {
    "duration": 52,
    "start_time": "2022-07-23T14:00:41.363Z"
   },
   {
    "duration": 59,
    "start_time": "2022-07-23T14:00:41.416Z"
   },
   {
    "duration": 55,
    "start_time": "2022-07-23T14:00:41.477Z"
   },
   {
    "duration": 57,
    "start_time": "2022-07-23T14:00:41.534Z"
   },
   {
    "duration": 51,
    "start_time": "2022-07-23T14:00:41.593Z"
   },
   {
    "duration": 41,
    "start_time": "2022-07-23T14:00:41.646Z"
   },
   {
    "duration": 39,
    "start_time": "2022-07-23T14:00:41.690Z"
   },
   {
    "duration": 11,
    "start_time": "2022-07-23T14:00:41.731Z"
   },
   {
    "duration": 41,
    "start_time": "2022-07-23T14:00:41.743Z"
   },
   {
    "duration": 10,
    "start_time": "2022-07-23T14:00:41.786Z"
   },
   {
    "duration": 40,
    "start_time": "2022-07-23T14:00:41.798Z"
   },
   {
    "duration": 54,
    "start_time": "2022-07-23T14:00:41.840Z"
   },
   {
    "duration": 63,
    "start_time": "2022-07-23T14:00:41.895Z"
   },
   {
    "duration": 49,
    "start_time": "2022-07-23T14:00:41.960Z"
   },
   {
    "duration": 131,
    "start_time": "2022-07-23T14:00:42.011Z"
   },
   {
    "duration": 159,
    "start_time": "2022-07-23T14:00:42.144Z"
   },
   {
    "duration": 128,
    "start_time": "2022-07-23T14:00:42.304Z"
   },
   {
    "duration": 44,
    "start_time": "2022-07-23T14:00:42.434Z"
   },
   {
    "duration": 46,
    "start_time": "2022-07-23T14:00:42.479Z"
   },
   {
    "duration": 40,
    "start_time": "2022-07-23T14:00:42.527Z"
   },
   {
    "duration": 52,
    "start_time": "2022-07-23T14:00:42.568Z"
   },
   {
    "duration": 50,
    "start_time": "2022-07-23T14:00:42.622Z"
   },
   {
    "duration": 51,
    "start_time": "2022-07-23T14:00:42.674Z"
   },
   {
    "duration": 65,
    "start_time": "2022-07-23T14:00:42.727Z"
   },
   {
    "duration": 63,
    "start_time": "2022-07-23T14:00:42.793Z"
   },
   {
    "duration": 72,
    "start_time": "2022-07-23T14:00:42.858Z"
   },
   {
    "duration": 19,
    "start_time": "2022-07-23T14:00:42.932Z"
   },
   {
    "duration": 46,
    "start_time": "2022-07-23T14:00:42.952Z"
   },
   {
    "duration": 25,
    "start_time": "2022-07-23T14:00:42.999Z"
   },
   {
    "duration": 998,
    "start_time": "2022-07-23T14:00:43.026Z"
   },
   {
    "duration": 1232,
    "start_time": "2022-07-23T14:00:44.026Z"
   },
   {
    "duration": 1125,
    "start_time": "2022-07-23T14:00:45.260Z"
   },
   {
    "duration": 365,
    "start_time": "2022-07-23T14:00:46.387Z"
   },
   {
    "duration": 23,
    "start_time": "2022-07-23T14:00:46.756Z"
   },
   {
    "duration": 1159,
    "start_time": "2022-07-23T14:00:46.780Z"
   },
   {
    "duration": 985,
    "start_time": "2022-07-23T14:00:47.940Z"
   },
   {
    "duration": 1171,
    "start_time": "2022-07-23T14:00:48.927Z"
   },
   {
    "duration": 1219,
    "start_time": "2022-07-23T14:00:50.099Z"
   },
   {
    "duration": 33,
    "start_time": "2022-07-23T14:00:51.320Z"
   },
   {
    "duration": 17,
    "start_time": "2022-07-23T14:00:51.355Z"
   },
   {
    "duration": 17,
    "start_time": "2022-07-23T14:00:51.374Z"
   },
   {
    "duration": 16,
    "start_time": "2022-07-23T14:00:51.392Z"
   },
   {
    "duration": 40,
    "start_time": "2022-07-23T14:00:51.410Z"
   },
   {
    "duration": 43,
    "start_time": "2022-07-23T14:00:51.452Z"
   },
   {
    "duration": 9,
    "start_time": "2022-07-23T14:00:51.497Z"
   },
   {
    "duration": 15,
    "start_time": "2022-07-23T14:00:51.508Z"
   },
   {
    "duration": 42,
    "start_time": "2022-07-23T14:00:51.525Z"
   },
   {
    "duration": 41,
    "start_time": "2022-07-23T14:00:51.568Z"
   },
   {
    "duration": 7659,
    "start_time": "2022-07-23T14:00:51.610Z"
   },
   {
    "duration": 7073,
    "start_time": "2022-07-23T14:00:59.270Z"
   },
   {
    "duration": 1307410,
    "start_time": "2022-07-23T14:01:12.494Z"
   },
   {
    "duration": 64,
    "start_time": "2022-07-23T14:29:20.971Z"
   },
   {
    "duration": 214,
    "start_time": "2022-07-23T14:29:26.403Z"
   },
   {
    "duration": 43,
    "start_time": "2022-07-23T14:29:36.789Z"
   },
   {
    "duration": 183,
    "start_time": "2022-07-23T14:29:58.051Z"
   },
   {
    "duration": 86,
    "start_time": "2022-07-23T14:30:02.270Z"
   },
   {
    "duration": 49,
    "start_time": "2022-07-23T14:30:06.147Z"
   },
   {
    "duration": 12,
    "start_time": "2022-07-23T14:30:09.226Z"
   },
   {
    "duration": 8,
    "start_time": "2022-07-23T14:30:10.448Z"
   },
   {
    "duration": 44,
    "start_time": "2022-07-23T14:30:11.971Z"
   },
   {
    "duration": 53,
    "start_time": "2022-07-23T14:30:12.379Z"
   },
   {
    "duration": 7126,
    "start_time": "2022-07-23T14:30:17.609Z"
   },
   {
    "duration": 7093,
    "start_time": "2022-07-23T14:30:27.014Z"
   },
   {
    "duration": 7043,
    "start_time": "2022-07-23T14:31:01.345Z"
   },
   {
    "duration": 2082,
    "start_time": "2022-07-23T14:37:45.573Z"
   },
   {
    "duration": 122,
    "start_time": "2022-07-23T14:37:47.657Z"
   },
   {
    "duration": 1321,
    "start_time": "2022-07-23T14:37:47.781Z"
   },
   {
    "duration": 382,
    "start_time": "2022-07-23T14:37:49.105Z"
   },
   {
    "duration": 289,
    "start_time": "2022-07-23T14:37:49.488Z"
   },
   {
    "duration": 111,
    "start_time": "2022-07-23T14:37:49.779Z"
   },
   {
    "duration": 70,
    "start_time": "2022-07-23T14:37:49.891Z"
   },
   {
    "duration": 62,
    "start_time": "2022-07-23T14:37:49.962Z"
   },
   {
    "duration": 58,
    "start_time": "2022-07-23T14:37:50.025Z"
   },
   {
    "duration": 58,
    "start_time": "2022-07-23T14:37:50.086Z"
   },
   {
    "duration": 59,
    "start_time": "2022-07-23T14:37:50.145Z"
   },
   {
    "duration": 106,
    "start_time": "2022-07-23T14:37:50.206Z"
   },
   {
    "duration": 80,
    "start_time": "2022-07-23T14:37:50.313Z"
   },
   {
    "duration": 47,
    "start_time": "2022-07-23T14:37:50.394Z"
   },
   {
    "duration": 13,
    "start_time": "2022-07-23T14:37:50.443Z"
   },
   {
    "duration": 42,
    "start_time": "2022-07-23T14:37:50.458Z"
   },
   {
    "duration": 11,
    "start_time": "2022-07-23T14:37:50.502Z"
   },
   {
    "duration": 44,
    "start_time": "2022-07-23T14:37:50.515Z"
   },
   {
    "duration": 48,
    "start_time": "2022-07-23T14:37:50.561Z"
   },
   {
    "duration": 43,
    "start_time": "2022-07-23T14:37:50.611Z"
   },
   {
    "duration": 41,
    "start_time": "2022-07-23T14:37:50.656Z"
   },
   {
    "duration": 138,
    "start_time": "2022-07-23T14:37:50.699Z"
   },
   {
    "duration": 154,
    "start_time": "2022-07-23T14:37:50.838Z"
   },
   {
    "duration": 69,
    "start_time": "2022-07-23T14:37:50.993Z"
   },
   {
    "duration": 47,
    "start_time": "2022-07-23T14:37:51.063Z"
   },
   {
    "duration": 54,
    "start_time": "2022-07-23T14:37:51.111Z"
   },
   {
    "duration": 115,
    "start_time": "2022-07-23T14:37:51.166Z"
   },
   {
    "duration": 49,
    "start_time": "2022-07-23T14:37:51.285Z"
   },
   {
    "duration": 49,
    "start_time": "2022-07-23T14:37:51.335Z"
   },
   {
    "duration": 87,
    "start_time": "2022-07-23T14:37:51.386Z"
   },
   {
    "duration": 58,
    "start_time": "2022-07-23T14:37:51.475Z"
   },
   {
    "duration": 62,
    "start_time": "2022-07-23T14:37:51.535Z"
   },
   {
    "duration": 67,
    "start_time": "2022-07-23T14:37:51.599Z"
   },
   {
    "duration": 16,
    "start_time": "2022-07-23T14:37:51.668Z"
   },
   {
    "duration": 49,
    "start_time": "2022-07-23T14:37:51.685Z"
   },
   {
    "duration": 17,
    "start_time": "2022-07-23T14:37:51.735Z"
   },
   {
    "duration": 1089,
    "start_time": "2022-07-23T14:37:51.753Z"
   },
   {
    "duration": 921,
    "start_time": "2022-07-23T14:37:52.844Z"
   },
   {
    "duration": 1090,
    "start_time": "2022-07-23T14:37:53.767Z"
   },
   {
    "duration": 337,
    "start_time": "2022-07-23T14:37:54.859Z"
   },
   {
    "duration": 19,
    "start_time": "2022-07-23T14:37:55.197Z"
   },
   {
    "duration": 982,
    "start_time": "2022-07-23T14:37:55.217Z"
   },
   {
    "duration": 1034,
    "start_time": "2022-07-23T14:37:56.201Z"
   },
   {
    "duration": 1029,
    "start_time": "2022-07-23T14:37:57.237Z"
   },
   {
    "duration": 1181,
    "start_time": "2022-07-23T14:37:58.267Z"
   },
   {
    "duration": 20,
    "start_time": "2022-07-23T14:37:59.452Z"
   },
   {
    "duration": 16,
    "start_time": "2022-07-23T14:37:59.474Z"
   },
   {
    "duration": 15,
    "start_time": "2022-07-23T14:37:59.491Z"
   },
   {
    "duration": 47,
    "start_time": "2022-07-23T14:37:59.508Z"
   },
   {
    "duration": 48,
    "start_time": "2022-07-23T14:37:59.557Z"
   },
   {
    "duration": 50,
    "start_time": "2022-07-23T14:37:59.607Z"
   },
   {
    "duration": 9,
    "start_time": "2022-07-23T14:37:59.659Z"
   },
   {
    "duration": 12,
    "start_time": "2022-07-23T14:37:59.670Z"
   },
   {
    "duration": 49,
    "start_time": "2022-07-23T14:37:59.683Z"
   },
   {
    "duration": 40,
    "start_time": "2022-07-23T14:37:59.734Z"
   },
   {
    "duration": 6959,
    "start_time": "2022-07-23T14:37:59.775Z"
   },
   {
    "duration": 7030,
    "start_time": "2022-07-23T14:38:06.735Z"
   },
   {
    "duration": 599357,
    "start_time": "2022-07-23T14:38:13.768Z"
   },
   {
    "duration": 0,
    "start_time": "2022-07-23T14:48:34.528Z"
   },
   {
    "duration": 3335,
    "start_time": "2022-07-23T14:48:36.093Z"
   },
   {
    "duration": 1584,
    "start_time": "2022-07-23T14:48:42.671Z"
   },
   {
    "duration": 2629,
    "start_time": "2022-07-23T14:48:50.744Z"
   },
   {
    "duration": 5699,
    "start_time": "2022-07-23T14:49:00.444Z"
   },
   {
    "duration": 4705,
    "start_time": "2022-07-23T14:49:49.994Z"
   },
   {
    "duration": 11211,
    "start_time": "2022-07-23T14:50:03.644Z"
   },
   {
    "duration": 46,
    "start_time": "2022-07-23T14:50:27.177Z"
   },
   {
    "duration": 123,
    "start_time": "2022-07-23T14:50:35.803Z"
   },
   {
    "duration": 43,
    "start_time": "2022-07-23T14:51:01.344Z"
   },
   {
    "duration": 44,
    "start_time": "2022-07-23T14:51:16.696Z"
   },
   {
    "duration": 51,
    "start_time": "2022-07-23T14:51:29.142Z"
   },
   {
    "duration": 49,
    "start_time": "2022-07-23T14:51:36.145Z"
   },
   {
    "duration": 44,
    "start_time": "2022-07-23T14:51:40.854Z"
   },
   {
    "duration": 44,
    "start_time": "2022-07-23T14:51:46.963Z"
   },
   {
    "duration": 45,
    "start_time": "2022-07-23T14:51:52.424Z"
   },
   {
    "duration": 49,
    "start_time": "2022-07-23T14:51:55.373Z"
   },
   {
    "duration": 44,
    "start_time": "2022-07-23T14:51:59.446Z"
   },
   {
    "duration": 49,
    "start_time": "2022-07-23T14:52:08.445Z"
   },
   {
    "duration": 91,
    "start_time": "2022-07-23T14:52:18.244Z"
   },
   {
    "duration": 60,
    "start_time": "2022-07-23T14:52:24.092Z"
   },
   {
    "duration": 49,
    "start_time": "2022-07-23T14:52:33.817Z"
   },
   {
    "duration": 53,
    "start_time": "2022-07-23T14:52:42.547Z"
   },
   {
    "duration": 44,
    "start_time": "2022-07-23T14:52:50.485Z"
   },
   {
    "duration": 69,
    "start_time": "2022-07-23T14:53:56.877Z"
   },
   {
    "duration": 42,
    "start_time": "2022-07-23T14:54:10.958Z"
   },
   {
    "duration": 15079,
    "start_time": "2022-07-23T14:54:46.183Z"
   },
   {
    "duration": 14662,
    "start_time": "2022-07-23T14:55:03.293Z"
   },
   {
    "duration": 19,
    "start_time": "2022-07-23T14:55:24.247Z"
   },
   {
    "duration": 17,
    "start_time": "2022-07-23T14:55:27.897Z"
   },
   {
    "duration": 191,
    "start_time": "2022-07-23T15:00:57.561Z"
   },
   {
    "duration": 82,
    "start_time": "2022-07-23T15:01:11.588Z"
   },
   {
    "duration": 36468,
    "start_time": "2022-07-23T15:01:19.825Z"
   },
   {
    "duration": 210355,
    "start_time": "2022-07-23T15:02:06.084Z"
   },
   {
    "duration": 207992,
    "start_time": "2022-07-23T15:08:36.069Z"
   },
   {
    "duration": 18000,
    "start_time": "2022-07-23T15:12:04.064Z"
   },
   {
    "duration": 18694,
    "start_time": "2022-07-23T15:12:22.065Z"
   },
   {
    "duration": 201,
    "start_time": "2022-07-23T15:12:40.761Z"
   },
   {
    "duration": 111,
    "start_time": "2022-07-23T15:12:40.964Z"
   },
   {
    "duration": 6119,
    "start_time": "2022-07-24T04:24:50.469Z"
   },
   {
    "duration": 120,
    "start_time": "2022-07-24T04:24:56.590Z"
   },
   {
    "duration": 1947,
    "start_time": "2022-07-24T04:24:56.713Z"
   },
   {
    "duration": 1999,
    "start_time": "2022-07-24T04:24:58.662Z"
   },
   {
    "duration": 995,
    "start_time": "2022-07-24T04:25:00.664Z"
   },
   {
    "duration": 487,
    "start_time": "2022-07-24T04:25:01.661Z"
   },
   {
    "duration": 119,
    "start_time": "2022-07-24T04:25:02.150Z"
   },
   {
    "duration": 79,
    "start_time": "2022-07-24T04:25:02.271Z"
   },
   {
    "duration": 81,
    "start_time": "2022-07-24T04:25:02.355Z"
   },
   {
    "duration": 108,
    "start_time": "2022-07-24T04:25:02.438Z"
   },
   {
    "duration": 71,
    "start_time": "2022-07-24T04:25:02.547Z"
   },
   {
    "duration": 53,
    "start_time": "2022-07-24T04:25:02.620Z"
   },
   {
    "duration": 62,
    "start_time": "2022-07-24T04:25:02.675Z"
   },
   {
    "duration": 50,
    "start_time": "2022-07-24T04:25:02.741Z"
   },
   {
    "duration": 46,
    "start_time": "2022-07-24T04:25:02.794Z"
   },
   {
    "duration": 47,
    "start_time": "2022-07-24T04:25:02.842Z"
   },
   {
    "duration": 17,
    "start_time": "2022-07-24T04:25:02.892Z"
   },
   {
    "duration": 67,
    "start_time": "2022-07-24T04:25:02.911Z"
   },
   {
    "duration": 88,
    "start_time": "2022-07-24T04:25:02.980Z"
   },
   {
    "duration": 57,
    "start_time": "2022-07-24T04:25:03.071Z"
   },
   {
    "duration": 55,
    "start_time": "2022-07-24T04:25:03.130Z"
   },
   {
    "duration": 153,
    "start_time": "2022-07-24T04:25:03.188Z"
   },
   {
    "duration": 199,
    "start_time": "2022-07-24T04:25:03.344Z"
   },
   {
    "duration": 140,
    "start_time": "2022-07-24T04:25:03.545Z"
   },
   {
    "duration": 62,
    "start_time": "2022-07-24T04:25:03.687Z"
   },
   {
    "duration": 53,
    "start_time": "2022-07-24T04:25:03.752Z"
   },
   {
    "duration": 52,
    "start_time": "2022-07-24T04:25:03.808Z"
   },
   {
    "duration": 64,
    "start_time": "2022-07-24T04:25:03.863Z"
   },
   {
    "duration": 60,
    "start_time": "2022-07-24T04:25:03.930Z"
   },
   {
    "duration": 68,
    "start_time": "2022-07-24T04:25:03.992Z"
   },
   {
    "duration": 70,
    "start_time": "2022-07-24T04:25:04.062Z"
   },
   {
    "duration": 136,
    "start_time": "2022-07-24T04:25:04.133Z"
   },
   {
    "duration": 63,
    "start_time": "2022-07-24T04:25:04.271Z"
   },
   {
    "duration": 18,
    "start_time": "2022-07-24T04:25:04.336Z"
   },
   {
    "duration": 82,
    "start_time": "2022-07-24T04:25:04.356Z"
   },
   {
    "duration": 23,
    "start_time": "2022-07-24T04:25:04.440Z"
   },
   {
    "duration": 1184,
    "start_time": "2022-07-24T04:25:04.466Z"
   },
   {
    "duration": 1254,
    "start_time": "2022-07-24T04:25:05.652Z"
   },
   {
    "duration": 1170,
    "start_time": "2022-07-24T04:25:06.907Z"
   },
   {
    "duration": 389,
    "start_time": "2022-07-24T04:25:08.080Z"
   },
   {
    "duration": 27,
    "start_time": "2022-07-24T04:25:08.474Z"
   },
   {
    "duration": 1165,
    "start_time": "2022-07-24T04:25:08.502Z"
   },
   {
    "duration": 1106,
    "start_time": "2022-07-24T04:25:09.669Z"
   },
   {
    "duration": 1296,
    "start_time": "2022-07-24T04:25:10.778Z"
   },
   {
    "duration": 1477,
    "start_time": "2022-07-24T04:25:12.076Z"
   },
   {
    "duration": 21,
    "start_time": "2022-07-24T04:25:13.555Z"
   },
   {
    "duration": 34,
    "start_time": "2022-07-24T04:25:13.577Z"
   },
   {
    "duration": 30,
    "start_time": "2022-07-24T04:25:13.613Z"
   },
   {
    "duration": 19,
    "start_time": "2022-07-24T04:25:13.645Z"
   },
   {
    "duration": 71,
    "start_time": "2022-07-24T04:25:13.665Z"
   },
   {
    "duration": 47,
    "start_time": "2022-07-24T04:25:13.738Z"
   },
   {
    "duration": 10,
    "start_time": "2022-07-24T04:25:13.787Z"
   },
   {
    "duration": 23,
    "start_time": "2022-07-24T04:25:13.799Z"
   },
   {
    "duration": 50,
    "start_time": "2022-07-24T04:25:13.828Z"
   },
   {
    "duration": 60,
    "start_time": "2022-07-24T04:25:13.880Z"
   },
   {
    "duration": 61,
    "start_time": "2022-07-24T04:25:13.941Z"
   },
   {
    "duration": 20379,
    "start_time": "2022-07-24T04:35:36.836Z"
   },
   {
    "duration": 18762,
    "start_time": "2022-07-24T04:36:08.948Z"
   },
   {
    "duration": 38,
    "start_time": "2022-07-24T04:36:44.576Z"
   },
   {
    "duration": 166,
    "start_time": "2022-07-24T04:37:10.137Z"
   },
   {
    "duration": 49,
    "start_time": "2022-07-24T04:37:50.582Z"
   },
   {
    "duration": 47,
    "start_time": "2022-07-24T04:40:49.512Z"
   },
   {
    "duration": 21879,
    "start_time": "2022-07-24T04:41:25.932Z"
   },
   {
    "duration": 391,
    "start_time": "2022-07-24T04:43:16.782Z"
   },
   {
    "duration": 52,
    "start_time": "2022-07-24T04:43:41.535Z"
   },
   {
    "duration": 45,
    "start_time": "2022-07-24T04:46:19.682Z"
   },
   {
    "duration": 19,
    "start_time": "2022-07-24T04:46:49.802Z"
   },
   {
    "duration": 17819,
    "start_time": "2022-07-24T04:47:10.092Z"
   },
   {
    "duration": 18782,
    "start_time": "2022-07-24T04:47:34.132Z"
   },
   {
    "duration": 198,
    "start_time": "2022-07-24T04:48:24.422Z"
   },
   {
    "duration": 56,
    "start_time": "2022-07-24T04:48:29.523Z"
   },
   {
    "duration": 69,
    "start_time": "2022-07-24T05:30:10.784Z"
   },
   {
    "duration": 66,
    "start_time": "2022-07-24T05:30:15.034Z"
   },
   {
    "duration": 50,
    "start_time": "2022-07-24T06:41:58.181Z"
   },
   {
    "duration": 5258,
    "start_time": "2022-07-24T07:05:39.858Z"
   },
   {
    "duration": 130,
    "start_time": "2022-07-24T07:05:45.121Z"
   },
   {
    "duration": 1778,
    "start_time": "2022-07-24T07:05:45.253Z"
   },
   {
    "duration": 764,
    "start_time": "2022-07-24T07:05:47.034Z"
   },
   {
    "duration": 1160,
    "start_time": "2022-07-24T07:05:47.801Z"
   },
   {
    "duration": 199,
    "start_time": "2022-07-24T07:05:48.963Z"
   },
   {
    "duration": 76,
    "start_time": "2022-07-24T07:05:49.164Z"
   },
   {
    "duration": 81,
    "start_time": "2022-07-24T07:05:49.241Z"
   },
   {
    "duration": 89,
    "start_time": "2022-07-24T07:05:49.324Z"
   },
   {
    "duration": 57,
    "start_time": "2022-07-24T07:05:49.416Z"
   },
   {
    "duration": 59,
    "start_time": "2022-07-24T07:05:49.475Z"
   },
   {
    "duration": 58,
    "start_time": "2022-07-24T07:05:49.536Z"
   },
   {
    "duration": 46,
    "start_time": "2022-07-24T07:05:49.596Z"
   },
   {
    "duration": 68,
    "start_time": "2022-07-24T07:05:49.645Z"
   },
   {
    "duration": 14,
    "start_time": "2022-07-24T07:05:49.715Z"
   },
   {
    "duration": 46,
    "start_time": "2022-07-24T07:05:49.731Z"
   },
   {
    "duration": 12,
    "start_time": "2022-07-24T07:05:49.779Z"
   },
   {
    "duration": 47,
    "start_time": "2022-07-24T07:05:49.793Z"
   },
   {
    "duration": 48,
    "start_time": "2022-07-24T07:05:49.842Z"
   },
   {
    "duration": 45,
    "start_time": "2022-07-24T07:05:49.892Z"
   },
   {
    "duration": 44,
    "start_time": "2022-07-24T07:05:49.939Z"
   },
   {
    "duration": 150,
    "start_time": "2022-07-24T07:05:49.985Z"
   },
   {
    "duration": 196,
    "start_time": "2022-07-24T07:05:50.137Z"
   },
   {
    "duration": 68,
    "start_time": "2022-07-24T07:05:50.335Z"
   },
   {
    "duration": 47,
    "start_time": "2022-07-24T07:05:50.405Z"
   },
   {
    "duration": 48,
    "start_time": "2022-07-24T07:05:50.454Z"
   },
   {
    "duration": 142,
    "start_time": "2022-07-24T07:05:50.504Z"
   },
   {
    "duration": 55,
    "start_time": "2022-07-24T07:05:50.651Z"
   },
   {
    "duration": 57,
    "start_time": "2022-07-24T07:05:50.708Z"
   },
   {
    "duration": 56,
    "start_time": "2022-07-24T07:05:50.768Z"
   },
   {
    "duration": 62,
    "start_time": "2022-07-24T07:05:50.826Z"
   },
   {
    "duration": 58,
    "start_time": "2022-07-24T07:05:50.890Z"
   },
   {
    "duration": 60,
    "start_time": "2022-07-24T07:05:50.950Z"
   },
   {
    "duration": 19,
    "start_time": "2022-07-24T07:05:51.012Z"
   },
   {
    "duration": 14,
    "start_time": "2022-07-24T07:05:56.791Z"
   },
   {
    "duration": 123,
    "start_time": "2022-07-24T07:07:58.712Z"
   },
   {
    "duration": 48,
    "start_time": "2022-07-24T07:08:02.368Z"
   },
   {
    "duration": 102,
    "start_time": "2022-07-24T07:08:15.168Z"
   },
   {
    "duration": 47,
    "start_time": "2022-07-24T07:08:56.537Z"
   },
   {
    "duration": 2411,
    "start_time": "2022-07-24T07:10:52.817Z"
   },
   {
    "duration": 66,
    "start_time": "2022-07-24T07:10:55.230Z"
   },
   {
    "duration": 19,
    "start_time": "2022-07-24T07:10:55.297Z"
   },
   {
    "duration": 436,
    "start_time": "2022-07-24T07:10:55.320Z"
   },
   {
    "duration": 322,
    "start_time": "2022-07-24T07:10:55.758Z"
   },
   {
    "duration": 130,
    "start_time": "2022-07-24T07:10:56.082Z"
   },
   {
    "duration": 68,
    "start_time": "2022-07-24T07:10:56.213Z"
   },
   {
    "duration": 70,
    "start_time": "2022-07-24T07:10:56.283Z"
   },
   {
    "duration": 75,
    "start_time": "2022-07-24T07:10:56.355Z"
   },
   {
    "duration": 59,
    "start_time": "2022-07-24T07:10:56.432Z"
   },
   {
    "duration": 67,
    "start_time": "2022-07-24T07:10:56.493Z"
   },
   {
    "duration": 71,
    "start_time": "2022-07-24T07:10:56.562Z"
   },
   {
    "duration": 47,
    "start_time": "2022-07-24T07:10:56.635Z"
   },
   {
    "duration": 51,
    "start_time": "2022-07-24T07:10:56.686Z"
   },
   {
    "duration": 25,
    "start_time": "2022-07-24T07:10:56.739Z"
   },
   {
    "duration": 54,
    "start_time": "2022-07-24T07:10:56.766Z"
   },
   {
    "duration": 15,
    "start_time": "2022-07-24T07:10:56.821Z"
   },
   {
    "duration": 45,
    "start_time": "2022-07-24T07:10:56.838Z"
   },
   {
    "duration": 51,
    "start_time": "2022-07-24T07:10:56.885Z"
   },
   {
    "duration": 45,
    "start_time": "2022-07-24T07:10:56.937Z"
   },
   {
    "duration": 58,
    "start_time": "2022-07-24T07:10:56.984Z"
   },
   {
    "duration": 141,
    "start_time": "2022-07-24T07:10:57.044Z"
   },
   {
    "duration": 178,
    "start_time": "2022-07-24T07:10:57.186Z"
   },
   {
    "duration": 88,
    "start_time": "2022-07-24T07:10:57.366Z"
   },
   {
    "duration": 80,
    "start_time": "2022-07-24T07:10:57.455Z"
   },
   {
    "duration": 55,
    "start_time": "2022-07-24T07:10:57.536Z"
   },
   {
    "duration": 51,
    "start_time": "2022-07-24T07:10:57.592Z"
   },
   {
    "duration": 58,
    "start_time": "2022-07-24T07:10:57.645Z"
   },
   {
    "duration": 54,
    "start_time": "2022-07-24T07:10:57.709Z"
   },
   {
    "duration": 54,
    "start_time": "2022-07-24T07:10:57.765Z"
   },
   {
    "duration": 61,
    "start_time": "2022-07-24T07:10:57.822Z"
   },
   {
    "duration": 63,
    "start_time": "2022-07-24T07:10:57.885Z"
   },
   {
    "duration": 69,
    "start_time": "2022-07-24T07:10:57.950Z"
   },
   {
    "duration": 16,
    "start_time": "2022-07-24T07:10:58.021Z"
   },
   {
    "duration": 11,
    "start_time": "2022-07-24T07:10:58.039Z"
   },
   {
    "duration": 50,
    "start_time": "2022-07-24T07:10:58.052Z"
   },
   {
    "duration": 50,
    "start_time": "2022-07-24T07:10:58.108Z"
   },
   {
    "duration": 21,
    "start_time": "2022-07-24T07:10:58.160Z"
   },
   {
    "duration": 1203,
    "start_time": "2022-07-24T07:10:58.183Z"
   },
   {
    "duration": 1222,
    "start_time": "2022-07-24T07:10:59.388Z"
   },
   {
    "duration": 1255,
    "start_time": "2022-07-24T07:11:00.617Z"
   },
   {
    "duration": 262,
    "start_time": "2022-07-24T07:11:01.874Z"
   },
   {
    "duration": 22,
    "start_time": "2022-07-24T07:11:02.158Z"
   },
   {
    "duration": 1177,
    "start_time": "2022-07-24T07:11:02.181Z"
   },
   {
    "duration": 1178,
    "start_time": "2022-07-24T07:11:03.360Z"
   },
   {
    "duration": 1119,
    "start_time": "2022-07-24T07:11:04.540Z"
   },
   {
    "duration": 1244,
    "start_time": "2022-07-24T07:11:05.661Z"
   },
   {
    "duration": 18,
    "start_time": "2022-07-24T07:11:06.907Z"
   },
   {
    "duration": 16,
    "start_time": "2022-07-24T07:11:06.927Z"
   },
   {
    "duration": 18,
    "start_time": "2022-07-24T07:11:06.945Z"
   },
   {
    "duration": 46,
    "start_time": "2022-07-24T07:11:06.965Z"
   },
   {
    "duration": 79,
    "start_time": "2022-07-24T07:11:12.634Z"
   },
   {
    "duration": 7,
    "start_time": "2022-07-24T07:12:12.809Z"
   },
   {
    "duration": 11,
    "start_time": "2022-07-24T07:12:25.401Z"
   },
   {
    "duration": 9,
    "start_time": "2022-07-24T07:12:26.850Z"
   },
   {
    "duration": 63,
    "start_time": "2022-07-24T07:12:29.359Z"
   },
   {
    "duration": 71,
    "start_time": "2022-07-24T07:12:30.844Z"
   },
   {
    "duration": 42,
    "start_time": "2022-07-24T07:16:42.803Z"
   },
   {
    "duration": 2343,
    "start_time": "2022-07-24T07:16:48.220Z"
   },
   {
    "duration": 53,
    "start_time": "2022-07-24T07:16:50.565Z"
   },
   {
    "duration": 12,
    "start_time": "2022-07-24T07:16:50.620Z"
   },
   {
    "duration": 458,
    "start_time": "2022-07-24T07:16:50.634Z"
   },
   {
    "duration": 293,
    "start_time": "2022-07-24T07:16:51.094Z"
   },
   {
    "duration": 105,
    "start_time": "2022-07-24T07:16:51.390Z"
   },
   {
    "duration": 61,
    "start_time": "2022-07-24T07:16:51.497Z"
   },
   {
    "duration": 57,
    "start_time": "2022-07-24T07:16:51.559Z"
   },
   {
    "duration": 60,
    "start_time": "2022-07-24T07:16:51.618Z"
   },
   {
    "duration": 54,
    "start_time": "2022-07-24T07:16:51.681Z"
   },
   {
    "duration": 58,
    "start_time": "2022-07-24T07:16:51.737Z"
   },
   {
    "duration": 55,
    "start_time": "2022-07-24T07:16:51.797Z"
   },
   {
    "duration": 104,
    "start_time": "2022-07-24T07:16:51.853Z"
   },
   {
    "duration": 40,
    "start_time": "2022-07-24T07:16:51.959Z"
   },
   {
    "duration": 15,
    "start_time": "2022-07-24T07:16:52.001Z"
   },
   {
    "duration": 48,
    "start_time": "2022-07-24T07:16:52.018Z"
   },
   {
    "duration": 14,
    "start_time": "2022-07-24T07:16:52.068Z"
   },
   {
    "duration": 42,
    "start_time": "2022-07-24T07:16:52.084Z"
   },
   {
    "duration": 50,
    "start_time": "2022-07-24T07:16:52.128Z"
   },
   {
    "duration": 46,
    "start_time": "2022-07-24T07:16:52.180Z"
   },
   {
    "duration": 42,
    "start_time": "2022-07-24T07:16:52.227Z"
   },
   {
    "duration": 142,
    "start_time": "2022-07-24T07:16:52.270Z"
   },
   {
    "duration": 160,
    "start_time": "2022-07-24T07:16:52.414Z"
   },
   {
    "duration": 66,
    "start_time": "2022-07-24T07:16:52.576Z"
   },
   {
    "duration": 45,
    "start_time": "2022-07-24T07:16:52.644Z"
   },
   {
    "duration": 44,
    "start_time": "2022-07-24T07:16:52.691Z"
   },
   {
    "duration": 44,
    "start_time": "2022-07-24T07:16:52.737Z"
   },
   {
    "duration": 52,
    "start_time": "2022-07-24T07:16:52.785Z"
   },
   {
    "duration": 53,
    "start_time": "2022-07-24T07:16:52.839Z"
   },
   {
    "duration": 52,
    "start_time": "2022-07-24T07:16:52.894Z"
   },
   {
    "duration": 55,
    "start_time": "2022-07-24T07:16:52.948Z"
   },
   {
    "duration": 57,
    "start_time": "2022-07-24T07:16:53.004Z"
   },
   {
    "duration": 55,
    "start_time": "2022-07-24T07:16:53.062Z"
   },
   {
    "duration": 16,
    "start_time": "2022-07-24T07:16:53.119Z"
   },
   {
    "duration": 16,
    "start_time": "2022-07-24T07:16:53.137Z"
   },
   {
    "duration": 53,
    "start_time": "2022-07-24T07:16:53.154Z"
   },
   {
    "duration": 43,
    "start_time": "2022-07-24T07:16:53.209Z"
   },
   {
    "duration": 18,
    "start_time": "2022-07-24T07:16:53.254Z"
   },
   {
    "duration": 1068,
    "start_time": "2022-07-24T07:16:53.274Z"
   },
   {
    "duration": 1167,
    "start_time": "2022-07-24T07:16:54.344Z"
   },
   {
    "duration": 1376,
    "start_time": "2022-07-24T07:16:55.514Z"
   },
   {
    "duration": 250,
    "start_time": "2022-07-24T07:16:56.891Z"
   },
   {
    "duration": 21,
    "start_time": "2022-07-24T07:16:57.143Z"
   },
   {
    "duration": 1039,
    "start_time": "2022-07-24T07:16:57.165Z"
   },
   {
    "duration": 1000,
    "start_time": "2022-07-24T07:16:58.206Z"
   },
   {
    "duration": 1185,
    "start_time": "2022-07-24T07:16:59.207Z"
   },
   {
    "duration": 1295,
    "start_time": "2022-07-24T07:17:00.394Z"
   },
   {
    "duration": 22,
    "start_time": "2022-07-24T07:17:01.691Z"
   },
   {
    "duration": 20,
    "start_time": "2022-07-24T07:17:01.716Z"
   },
   {
    "duration": 35,
    "start_time": "2022-07-24T07:17:01.737Z"
   },
   {
    "duration": 31,
    "start_time": "2022-07-24T07:17:01.774Z"
   },
   {
    "duration": 47,
    "start_time": "2022-07-24T07:17:01.806Z"
   },
   {
    "duration": 7,
    "start_time": "2022-07-24T07:17:01.855Z"
   },
   {
    "duration": 25,
    "start_time": "2022-07-24T07:17:01.864Z"
   },
   {
    "duration": 56,
    "start_time": "2022-07-24T07:17:01.891Z"
   },
   {
    "duration": 90,
    "start_time": "2022-07-24T07:17:01.949Z"
   },
   {
    "duration": 60,
    "start_time": "2022-07-24T07:17:02.041Z"
   },
   {
    "duration": 45,
    "start_time": "2022-07-24T07:17:02.104Z"
   },
   {
    "duration": 52,
    "start_time": "2022-07-24T07:17:02.151Z"
   },
   {
    "duration": 2422,
    "start_time": "2022-07-24T07:54:07.966Z"
   },
   {
    "duration": 41,
    "start_time": "2022-07-24T07:54:10.391Z"
   },
   {
    "duration": 12,
    "start_time": "2022-07-24T07:54:10.435Z"
   },
   {
    "duration": 431,
    "start_time": "2022-07-24T07:54:10.450Z"
   },
   {
    "duration": 303,
    "start_time": "2022-07-24T07:54:10.883Z"
   },
   {
    "duration": 108,
    "start_time": "2022-07-24T07:54:11.188Z"
   },
   {
    "duration": 73,
    "start_time": "2022-07-24T07:54:11.298Z"
   },
   {
    "duration": 65,
    "start_time": "2022-07-24T07:54:11.373Z"
   },
   {
    "duration": 64,
    "start_time": "2022-07-24T07:54:11.440Z"
   },
   {
    "duration": 55,
    "start_time": "2022-07-24T07:54:11.507Z"
   },
   {
    "duration": 63,
    "start_time": "2022-07-24T07:54:11.564Z"
   },
   {
    "duration": 55,
    "start_time": "2022-07-24T07:54:11.629Z"
   },
   {
    "duration": 46,
    "start_time": "2022-07-24T07:54:11.686Z"
   },
   {
    "duration": 40,
    "start_time": "2022-07-24T07:54:11.734Z"
   },
   {
    "duration": 23,
    "start_time": "2022-07-24T07:54:11.777Z"
   },
   {
    "duration": 46,
    "start_time": "2022-07-24T07:54:11.801Z"
   },
   {
    "duration": 15,
    "start_time": "2022-07-24T07:54:11.849Z"
   },
   {
    "duration": 48,
    "start_time": "2022-07-24T07:54:11.866Z"
   },
   {
    "duration": 46,
    "start_time": "2022-07-24T07:54:11.916Z"
   },
   {
    "duration": 52,
    "start_time": "2022-07-24T07:54:11.965Z"
   },
   {
    "duration": 45,
    "start_time": "2022-07-24T07:54:12.020Z"
   },
   {
    "duration": 165,
    "start_time": "2022-07-24T07:54:12.068Z"
   },
   {
    "duration": 219,
    "start_time": "2022-07-24T07:54:12.235Z"
   },
   {
    "duration": 129,
    "start_time": "2022-07-24T07:54:12.456Z"
   },
   {
    "duration": 46,
    "start_time": "2022-07-24T07:54:12.587Z"
   },
   {
    "duration": 45,
    "start_time": "2022-07-24T07:54:12.635Z"
   },
   {
    "duration": 65,
    "start_time": "2022-07-24T07:54:12.682Z"
   },
   {
    "duration": 67,
    "start_time": "2022-07-24T07:54:12.752Z"
   },
   {
    "duration": 79,
    "start_time": "2022-07-24T07:54:12.821Z"
   },
   {
    "duration": 58,
    "start_time": "2022-07-24T07:54:12.902Z"
   },
   {
    "duration": 67,
    "start_time": "2022-07-24T07:54:12.962Z"
   },
   {
    "duration": 67,
    "start_time": "2022-07-24T07:54:13.031Z"
   },
   {
    "duration": 57,
    "start_time": "2022-07-24T07:54:13.101Z"
   },
   {
    "duration": 22,
    "start_time": "2022-07-24T07:54:13.161Z"
   },
   {
    "duration": 16,
    "start_time": "2022-07-24T07:54:13.185Z"
   },
   {
    "duration": 51,
    "start_time": "2022-07-24T07:54:13.204Z"
   },
   {
    "duration": 48,
    "start_time": "2022-07-24T07:54:13.257Z"
   },
   {
    "duration": 21,
    "start_time": "2022-07-24T07:54:13.307Z"
   },
   {
    "duration": 1219,
    "start_time": "2022-07-24T07:54:13.329Z"
   },
   {
    "duration": 1406,
    "start_time": "2022-07-24T07:54:14.550Z"
   },
   {
    "duration": 1559,
    "start_time": "2022-07-24T07:54:15.958Z"
   },
   {
    "duration": 284,
    "start_time": "2022-07-24T07:54:17.520Z"
   },
   {
    "duration": 26,
    "start_time": "2022-07-24T07:54:17.805Z"
   },
   {
    "duration": 1487,
    "start_time": "2022-07-24T07:54:17.833Z"
   },
   {
    "duration": 1355,
    "start_time": "2022-07-24T07:54:19.322Z"
   },
   {
    "duration": 1100,
    "start_time": "2022-07-24T07:54:20.678Z"
   },
   {
    "duration": 1432,
    "start_time": "2022-07-24T07:54:21.781Z"
   },
   {
    "duration": 21,
    "start_time": "2022-07-24T07:54:23.215Z"
   },
   {
    "duration": 25,
    "start_time": "2022-07-24T07:54:23.238Z"
   },
   {
    "duration": 42,
    "start_time": "2022-07-24T07:54:23.265Z"
   },
   {
    "duration": 20,
    "start_time": "2022-07-24T07:54:23.309Z"
   },
   {
    "duration": 74,
    "start_time": "2022-07-24T07:54:23.331Z"
   },
   {
    "duration": 7,
    "start_time": "2022-07-24T07:54:23.407Z"
   },
   {
    "duration": 13,
    "start_time": "2022-07-24T07:54:23.415Z"
   },
   {
    "duration": 18,
    "start_time": "2022-07-24T07:54:23.429Z"
   },
   {
    "duration": 66,
    "start_time": "2022-07-24T07:54:23.449Z"
   },
   {
    "duration": 59,
    "start_time": "2022-07-24T07:54:23.517Z"
   },
   {
    "duration": 41,
    "start_time": "2022-07-24T07:54:23.605Z"
   },
   {
    "duration": 40,
    "start_time": "2022-07-24T07:54:23.647Z"
   },
   {
    "duration": 8304,
    "start_time": "2022-07-24T07:54:23.688Z"
   },
   {
    "duration": 231352,
    "start_time": "2022-07-24T07:54:31.994Z"
   },
   {
    "duration": 17066,
    "start_time": "2022-07-24T07:58:23.349Z"
   },
   {
    "duration": 30,
    "start_time": "2022-07-24T07:58:40.504Z"
   },
   {
    "duration": 35,
    "start_time": "2022-07-24T07:59:23.682Z"
   },
   {
    "duration": 6,
    "start_time": "2022-07-24T08:00:23.196Z"
   },
   {
    "duration": 22,
    "start_time": "2022-07-24T08:00:28.266Z"
   },
   {
    "duration": 6,
    "start_time": "2022-07-24T08:01:11.619Z"
   },
   {
    "duration": 23,
    "start_time": "2022-07-24T08:01:17.019Z"
   },
   {
    "duration": 61,
    "start_time": "2022-07-24T08:05:19.572Z"
   },
   {
    "duration": 44,
    "start_time": "2022-07-24T08:05:27.716Z"
   },
   {
    "duration": 52,
    "start_time": "2022-07-24T08:06:22.155Z"
   },
   {
    "duration": 27,
    "start_time": "2022-07-24T08:06:33.828Z"
   },
   {
    "duration": 2364,
    "start_time": "2022-07-24T08:07:12.907Z"
   },
   {
    "duration": 46,
    "start_time": "2022-07-24T08:07:15.273Z"
   },
   {
    "duration": 14,
    "start_time": "2022-07-24T08:07:15.321Z"
   },
   {
    "duration": 434,
    "start_time": "2022-07-24T08:07:15.337Z"
   },
   {
    "duration": 360,
    "start_time": "2022-07-24T08:07:15.772Z"
   },
   {
    "duration": 119,
    "start_time": "2022-07-24T08:07:16.134Z"
   },
   {
    "duration": 76,
    "start_time": "2022-07-24T08:07:16.256Z"
   },
   {
    "duration": 58,
    "start_time": "2022-07-24T08:07:16.334Z"
   },
   {
    "duration": 66,
    "start_time": "2022-07-24T08:07:16.394Z"
   },
   {
    "duration": 64,
    "start_time": "2022-07-24T08:07:16.463Z"
   },
   {
    "duration": 65,
    "start_time": "2022-07-24T08:07:16.529Z"
   },
   {
    "duration": 65,
    "start_time": "2022-07-24T08:07:16.596Z"
   },
   {
    "duration": 57,
    "start_time": "2022-07-24T08:07:16.663Z"
   },
   {
    "duration": 48,
    "start_time": "2022-07-24T08:07:16.722Z"
   },
   {
    "duration": 27,
    "start_time": "2022-07-24T08:07:16.772Z"
   },
   {
    "duration": 86,
    "start_time": "2022-07-24T08:07:16.801Z"
   },
   {
    "duration": 28,
    "start_time": "2022-07-24T08:07:16.889Z"
   },
   {
    "duration": 75,
    "start_time": "2022-07-24T08:07:16.919Z"
   },
   {
    "duration": 84,
    "start_time": "2022-07-24T08:07:16.996Z"
   },
   {
    "duration": 79,
    "start_time": "2022-07-24T08:07:17.082Z"
   },
   {
    "duration": 77,
    "start_time": "2022-07-24T08:07:17.163Z"
   },
   {
    "duration": 143,
    "start_time": "2022-07-24T08:07:17.242Z"
   },
   {
    "duration": 174,
    "start_time": "2022-07-24T08:07:17.387Z"
   },
   {
    "duration": 96,
    "start_time": "2022-07-24T08:07:17.563Z"
   },
   {
    "duration": 56,
    "start_time": "2022-07-24T08:07:17.661Z"
   },
   {
    "duration": 48,
    "start_time": "2022-07-24T08:07:17.719Z"
   },
   {
    "duration": 60,
    "start_time": "2022-07-24T08:07:17.769Z"
   },
   {
    "duration": 55,
    "start_time": "2022-07-24T08:07:17.833Z"
   },
   {
    "duration": 69,
    "start_time": "2022-07-24T08:07:17.890Z"
   },
   {
    "duration": 81,
    "start_time": "2022-07-24T08:07:17.961Z"
   },
   {
    "duration": 75,
    "start_time": "2022-07-24T08:07:18.044Z"
   },
   {
    "duration": 62,
    "start_time": "2022-07-24T08:07:18.121Z"
   },
   {
    "duration": 61,
    "start_time": "2022-07-24T08:07:18.184Z"
   },
   {
    "duration": 18,
    "start_time": "2022-07-24T08:07:18.247Z"
   },
   {
    "duration": 13,
    "start_time": "2022-07-24T08:07:18.266Z"
   },
   {
    "duration": 80,
    "start_time": "2022-07-24T08:07:18.281Z"
   },
   {
    "duration": 56,
    "start_time": "2022-07-24T08:07:18.363Z"
   },
   {
    "duration": 20,
    "start_time": "2022-07-24T08:07:18.421Z"
   },
   {
    "duration": 1188,
    "start_time": "2022-07-24T08:07:18.443Z"
   },
   {
    "duration": 1588,
    "start_time": "2022-07-24T08:07:19.633Z"
   },
   {
    "duration": 1176,
    "start_time": "2022-07-24T08:07:21.222Z"
   },
   {
    "duration": 263,
    "start_time": "2022-07-24T08:07:22.404Z"
   },
   {
    "duration": 39,
    "start_time": "2022-07-24T08:07:22.669Z"
   },
   {
    "duration": 1247,
    "start_time": "2022-07-24T08:07:22.714Z"
   },
   {
    "duration": 1297,
    "start_time": "2022-07-24T08:07:23.963Z"
   },
   {
    "duration": 1210,
    "start_time": "2022-07-24T08:07:25.262Z"
   },
   {
    "duration": 1195,
    "start_time": "2022-07-24T08:07:26.474Z"
   },
   {
    "duration": 21,
    "start_time": "2022-07-24T08:07:27.682Z"
   },
   {
    "duration": 28,
    "start_time": "2022-07-24T08:07:27.705Z"
   },
   {
    "duration": 20,
    "start_time": "2022-07-24T08:07:27.735Z"
   },
   {
    "duration": 20,
    "start_time": "2022-07-24T08:07:27.757Z"
   },
   {
    "duration": 60,
    "start_time": "2022-07-24T08:07:27.806Z"
   },
   {
    "duration": 7,
    "start_time": "2022-07-24T08:07:27.867Z"
   },
   {
    "duration": 14,
    "start_time": "2022-07-24T08:07:27.875Z"
   },
   {
    "duration": 23,
    "start_time": "2022-07-24T08:07:27.890Z"
   },
   {
    "duration": 103,
    "start_time": "2022-07-24T08:07:27.915Z"
   },
   {
    "duration": 98,
    "start_time": "2022-07-24T08:07:28.020Z"
   },
   {
    "duration": 47,
    "start_time": "2022-07-24T08:07:28.120Z"
   },
   {
    "duration": 48,
    "start_time": "2022-07-24T08:07:28.169Z"
   },
   {
    "duration": 8279,
    "start_time": "2022-07-24T08:07:28.219Z"
   },
   {
    "duration": 2384,
    "start_time": "2022-07-24T08:08:18.961Z"
   },
   {
    "duration": 44,
    "start_time": "2022-07-24T08:08:21.348Z"
   },
   {
    "duration": 14,
    "start_time": "2022-07-24T08:08:21.396Z"
   },
   {
    "duration": 395,
    "start_time": "2022-07-24T08:08:21.413Z"
   },
   {
    "duration": 300,
    "start_time": "2022-07-24T08:08:21.810Z"
   },
   {
    "duration": 109,
    "start_time": "2022-07-24T08:08:22.111Z"
   },
   {
    "duration": 68,
    "start_time": "2022-07-24T08:08:22.222Z"
   },
   {
    "duration": 57,
    "start_time": "2022-07-24T08:08:22.292Z"
   },
   {
    "duration": 66,
    "start_time": "2022-07-24T08:08:22.351Z"
   },
   {
    "duration": 63,
    "start_time": "2022-07-24T08:08:22.420Z"
   },
   {
    "duration": 70,
    "start_time": "2022-07-24T08:08:22.484Z"
   },
   {
    "duration": 76,
    "start_time": "2022-07-24T08:08:22.556Z"
   },
   {
    "duration": 139,
    "start_time": "2022-07-24T08:08:22.633Z"
   },
   {
    "duration": 39,
    "start_time": "2022-07-24T08:08:22.774Z"
   },
   {
    "duration": 18,
    "start_time": "2022-07-24T08:08:22.815Z"
   },
   {
    "duration": 43,
    "start_time": "2022-07-24T08:08:22.834Z"
   },
   {
    "duration": 16,
    "start_time": "2022-07-24T08:08:22.878Z"
   },
   {
    "duration": 45,
    "start_time": "2022-07-24T08:08:22.895Z"
   },
   {
    "duration": 47,
    "start_time": "2022-07-24T08:08:22.941Z"
   },
   {
    "duration": 75,
    "start_time": "2022-07-24T08:08:22.989Z"
   },
   {
    "duration": 53,
    "start_time": "2022-07-24T08:08:23.067Z"
   },
   {
    "duration": 176,
    "start_time": "2022-07-24T08:08:23.121Z"
   },
   {
    "duration": 161,
    "start_time": "2022-07-24T08:08:23.298Z"
   },
   {
    "duration": 75,
    "start_time": "2022-07-24T08:08:23.461Z"
   },
   {
    "duration": 49,
    "start_time": "2022-07-24T08:08:23.537Z"
   },
   {
    "duration": 46,
    "start_time": "2022-07-24T08:08:23.588Z"
   },
   {
    "duration": 46,
    "start_time": "2022-07-24T08:08:23.636Z"
   },
   {
    "duration": 52,
    "start_time": "2022-07-24T08:08:23.686Z"
   },
   {
    "duration": 53,
    "start_time": "2022-07-24T08:08:23.739Z"
   },
   {
    "duration": 55,
    "start_time": "2022-07-24T08:08:23.794Z"
   },
   {
    "duration": 55,
    "start_time": "2022-07-24T08:08:23.851Z"
   },
   {
    "duration": 57,
    "start_time": "2022-07-24T08:08:23.908Z"
   },
   {
    "duration": 53,
    "start_time": "2022-07-24T08:08:23.967Z"
   },
   {
    "duration": 15,
    "start_time": "2022-07-24T08:08:24.022Z"
   },
   {
    "duration": 11,
    "start_time": "2022-07-24T08:08:24.039Z"
   },
   {
    "duration": 49,
    "start_time": "2022-07-24T08:08:24.052Z"
   },
   {
    "duration": 43,
    "start_time": "2022-07-24T08:08:24.103Z"
   },
   {
    "duration": 23,
    "start_time": "2022-07-24T08:08:24.148Z"
   },
   {
    "duration": 1097,
    "start_time": "2022-07-24T08:08:24.173Z"
   },
   {
    "duration": 2293,
    "start_time": "2022-07-24T08:08:30.069Z"
   },
   {
    "duration": 107,
    "start_time": "2022-07-24T08:08:32.364Z"
   },
   {
    "duration": 1507,
    "start_time": "2022-07-24T08:08:32.474Z"
   },
   {
    "duration": 400,
    "start_time": "2022-07-24T08:08:33.983Z"
   },
   {
    "duration": 286,
    "start_time": "2022-07-24T08:08:34.385Z"
   },
   {
    "duration": 111,
    "start_time": "2022-07-24T08:08:34.674Z"
   },
   {
    "duration": 68,
    "start_time": "2022-07-24T08:08:34.787Z"
   },
   {
    "duration": 58,
    "start_time": "2022-07-24T08:08:34.856Z"
   },
   {
    "duration": 60,
    "start_time": "2022-07-24T08:08:34.915Z"
   },
   {
    "duration": 57,
    "start_time": "2022-07-24T08:08:34.977Z"
   },
   {
    "duration": 59,
    "start_time": "2022-07-24T08:08:35.036Z"
   },
   {
    "duration": 57,
    "start_time": "2022-07-24T08:08:35.096Z"
   },
   {
    "duration": 44,
    "start_time": "2022-07-24T08:08:35.154Z"
   },
   {
    "duration": 41,
    "start_time": "2022-07-24T08:08:35.200Z"
   },
   {
    "duration": 28,
    "start_time": "2022-07-24T08:08:35.243Z"
   },
   {
    "duration": 44,
    "start_time": "2022-07-24T08:08:35.273Z"
   },
   {
    "duration": 20,
    "start_time": "2022-07-24T08:08:35.319Z"
   },
   {
    "duration": 46,
    "start_time": "2022-07-24T08:08:35.341Z"
   },
   {
    "duration": 64,
    "start_time": "2022-07-24T08:08:35.389Z"
   },
   {
    "duration": 62,
    "start_time": "2022-07-24T08:08:35.455Z"
   },
   {
    "duration": 64,
    "start_time": "2022-07-24T08:08:35.519Z"
   },
   {
    "duration": 198,
    "start_time": "2022-07-24T08:08:35.585Z"
   },
   {
    "duration": 205,
    "start_time": "2022-07-24T08:08:35.785Z"
   },
   {
    "duration": 88,
    "start_time": "2022-07-24T08:08:35.992Z"
   },
   {
    "duration": 48,
    "start_time": "2022-07-24T08:08:36.082Z"
   },
   {
    "duration": 99,
    "start_time": "2022-07-24T08:08:36.132Z"
   },
   {
    "duration": 151,
    "start_time": "2022-07-24T08:08:36.232Z"
   },
   {
    "duration": 69,
    "start_time": "2022-07-24T08:08:36.387Z"
   },
   {
    "duration": 55,
    "start_time": "2022-07-24T08:08:36.458Z"
   },
   {
    "duration": 56,
    "start_time": "2022-07-24T08:08:36.515Z"
   },
   {
    "duration": 89,
    "start_time": "2022-07-24T08:08:36.573Z"
   },
   {
    "duration": 59,
    "start_time": "2022-07-24T08:08:36.664Z"
   },
   {
    "duration": 65,
    "start_time": "2022-07-24T08:08:36.726Z"
   },
   {
    "duration": 17,
    "start_time": "2022-07-24T08:08:36.793Z"
   },
   {
    "duration": 15,
    "start_time": "2022-07-24T08:08:36.812Z"
   },
   {
    "duration": 53,
    "start_time": "2022-07-24T08:08:36.829Z"
   },
   {
    "duration": 49,
    "start_time": "2022-07-24T08:08:36.884Z"
   },
   {
    "duration": 23,
    "start_time": "2022-07-24T08:08:36.935Z"
   },
   {
    "duration": 1086,
    "start_time": "2022-07-24T08:08:36.960Z"
   },
   {
    "duration": 1253,
    "start_time": "2022-07-24T08:08:38.047Z"
   },
   {
    "duration": 1231,
    "start_time": "2022-07-24T08:08:39.305Z"
   },
   {
    "duration": 366,
    "start_time": "2022-07-24T08:08:40.537Z"
   },
   {
    "duration": 21,
    "start_time": "2022-07-24T08:08:40.905Z"
   },
   {
    "duration": 1107,
    "start_time": "2022-07-24T08:08:40.928Z"
   },
   {
    "duration": 1119,
    "start_time": "2022-07-24T08:08:42.037Z"
   },
   {
    "duration": 1125,
    "start_time": "2022-07-24T08:08:43.159Z"
   },
   {
    "duration": 1334,
    "start_time": "2022-07-24T08:08:44.286Z"
   },
   {
    "duration": 21,
    "start_time": "2022-07-24T08:08:45.622Z"
   },
   {
    "duration": 19,
    "start_time": "2022-07-24T08:08:45.645Z"
   },
   {
    "duration": 43,
    "start_time": "2022-07-24T08:08:45.665Z"
   },
   {
    "duration": 19,
    "start_time": "2022-07-24T08:08:45.710Z"
   },
   {
    "duration": 44,
    "start_time": "2022-07-24T08:08:45.731Z"
   },
   {
    "duration": 8,
    "start_time": "2022-07-24T08:08:45.777Z"
   },
   {
    "duration": 13,
    "start_time": "2022-07-24T08:08:45.787Z"
   },
   {
    "duration": 13,
    "start_time": "2022-07-24T08:08:45.801Z"
   },
   {
    "duration": 68,
    "start_time": "2022-07-24T08:08:45.816Z"
   },
   {
    "duration": 69,
    "start_time": "2022-07-24T08:08:45.886Z"
   },
   {
    "duration": 45,
    "start_time": "2022-07-24T08:08:45.957Z"
   },
   {
    "duration": 42,
    "start_time": "2022-07-24T08:08:46.004Z"
   },
   {
    "duration": 7801,
    "start_time": "2022-07-24T08:08:46.048Z"
   },
   {
    "duration": 2255,
    "start_time": "2022-07-24T08:10:45.896Z"
   },
   {
    "duration": 119,
    "start_time": "2022-07-24T08:10:48.153Z"
   },
   {
    "duration": 1596,
    "start_time": "2022-07-24T08:10:48.274Z"
   },
   {
    "duration": 446,
    "start_time": "2022-07-24T08:10:49.872Z"
   },
   {
    "duration": 311,
    "start_time": "2022-07-24T08:10:50.320Z"
   },
   {
    "duration": 120,
    "start_time": "2022-07-24T08:10:50.632Z"
   },
   {
    "duration": 67,
    "start_time": "2022-07-24T08:10:50.754Z"
   },
   {
    "duration": 59,
    "start_time": "2022-07-24T08:10:50.824Z"
   },
   {
    "duration": 65,
    "start_time": "2022-07-24T08:10:50.885Z"
   },
   {
    "duration": 56,
    "start_time": "2022-07-24T08:10:50.952Z"
   },
   {
    "duration": 61,
    "start_time": "2022-07-24T08:10:51.010Z"
   },
   {
    "duration": 54,
    "start_time": "2022-07-24T08:10:51.073Z"
   },
   {
    "duration": 45,
    "start_time": "2022-07-24T08:10:51.129Z"
   },
   {
    "duration": 64,
    "start_time": "2022-07-24T08:10:51.176Z"
   },
   {
    "duration": 14,
    "start_time": "2022-07-24T08:10:51.242Z"
   },
   {
    "duration": 43,
    "start_time": "2022-07-24T08:10:51.258Z"
   },
   {
    "duration": 13,
    "start_time": "2022-07-24T08:10:51.303Z"
   },
   {
    "duration": 45,
    "start_time": "2022-07-24T08:10:51.318Z"
   },
   {
    "duration": 48,
    "start_time": "2022-07-24T08:10:51.365Z"
   },
   {
    "duration": 48,
    "start_time": "2022-07-24T08:10:51.414Z"
   },
   {
    "duration": 44,
    "start_time": "2022-07-24T08:10:51.464Z"
   },
   {
    "duration": 146,
    "start_time": "2022-07-24T08:10:51.510Z"
   },
   {
    "duration": 173,
    "start_time": "2022-07-24T08:10:51.658Z"
   },
   {
    "duration": 63,
    "start_time": "2022-07-24T08:10:51.833Z"
   },
   {
    "duration": 47,
    "start_time": "2022-07-24T08:10:51.897Z"
   },
   {
    "duration": 46,
    "start_time": "2022-07-24T08:10:51.946Z"
   },
   {
    "duration": 118,
    "start_time": "2022-07-24T08:10:51.994Z"
   },
   {
    "duration": 116,
    "start_time": "2022-07-24T08:10:52.116Z"
   },
   {
    "duration": 52,
    "start_time": "2022-07-24T08:10:52.234Z"
   },
   {
    "duration": 69,
    "start_time": "2022-07-24T08:10:52.288Z"
   },
   {
    "duration": 62,
    "start_time": "2022-07-24T08:10:52.359Z"
   },
   {
    "duration": 57,
    "start_time": "2022-07-24T08:10:52.422Z"
   },
   {
    "duration": 58,
    "start_time": "2022-07-24T08:10:52.481Z"
   },
   {
    "duration": 22,
    "start_time": "2022-07-24T08:10:52.540Z"
   },
   {
    "duration": 12,
    "start_time": "2022-07-24T08:10:52.563Z"
   },
   {
    "duration": 52,
    "start_time": "2022-07-24T08:10:52.577Z"
   },
   {
    "duration": 42,
    "start_time": "2022-07-24T08:10:52.631Z"
   },
   {
    "duration": 20,
    "start_time": "2022-07-24T08:10:52.674Z"
   },
   {
    "duration": 1179,
    "start_time": "2022-07-24T08:10:52.695Z"
   },
   {
    "duration": 1110,
    "start_time": "2022-07-24T08:10:53.876Z"
   },
   {
    "duration": 1067,
    "start_time": "2022-07-24T08:10:54.987Z"
   },
   {
    "duration": 371,
    "start_time": "2022-07-24T08:10:56.055Z"
   },
   {
    "duration": 21,
    "start_time": "2022-07-24T08:10:56.428Z"
   },
   {
    "duration": 1203,
    "start_time": "2022-07-24T08:10:56.450Z"
   },
   {
    "duration": 1183,
    "start_time": "2022-07-24T08:10:57.654Z"
   },
   {
    "duration": 1123,
    "start_time": "2022-07-24T08:10:58.839Z"
   },
   {
    "duration": 1390,
    "start_time": "2022-07-24T08:10:59.964Z"
   },
   {
    "duration": 24,
    "start_time": "2022-07-24T08:11:01.355Z"
   },
   {
    "duration": 40,
    "start_time": "2022-07-24T08:11:01.381Z"
   },
   {
    "duration": 40,
    "start_time": "2022-07-24T08:11:01.423Z"
   },
   {
    "duration": 21,
    "start_time": "2022-07-24T08:11:01.465Z"
   },
   {
    "duration": 59,
    "start_time": "2022-07-24T08:11:01.488Z"
   },
   {
    "duration": 36,
    "start_time": "2022-07-24T08:11:01.549Z"
   },
   {
    "duration": 51,
    "start_time": "2022-07-24T08:11:01.586Z"
   },
   {
    "duration": 89,
    "start_time": "2022-07-24T08:11:01.639Z"
   },
   {
    "duration": 108,
    "start_time": "2022-07-24T08:11:01.730Z"
   },
   {
    "duration": 77,
    "start_time": "2022-07-24T08:11:01.839Z"
   },
   {
    "duration": 44,
    "start_time": "2022-07-24T08:11:01.918Z"
   },
   {
    "duration": 47,
    "start_time": "2022-07-24T08:11:01.963Z"
   },
   {
    "duration": 8282,
    "start_time": "2022-07-24T08:11:02.012Z"
   },
   {
    "duration": 760364,
    "start_time": "2022-07-24T08:11:10.296Z"
   },
   {
    "duration": 26250,
    "start_time": "2022-07-24T08:23:50.661Z"
   },
   {
    "duration": 55,
    "start_time": "2022-07-24T08:24:16.913Z"
   },
   {
    "duration": 38,
    "start_time": "2022-07-24T08:24:16.970Z"
   },
   {
    "duration": 105,
    "start_time": "2022-07-24T08:24:17.017Z"
   },
   {
    "duration": 202,
    "start_time": "2022-07-24T08:24:17.123Z"
   },
   {
    "duration": 28,
    "start_time": "2022-07-24T08:25:48.050Z"
   },
   {
    "duration": 14,
    "start_time": "2022-07-24T08:27:48.630Z"
   },
   {
    "duration": 41,
    "start_time": "2022-07-24T08:28:50.371Z"
   },
   {
    "duration": 30,
    "start_time": "2022-07-24T08:28:56.118Z"
   },
   {
    "duration": 59,
    "start_time": "2022-07-24T08:29:14.909Z"
   },
   {
    "duration": 24,
    "start_time": "2022-07-24T08:29:49.922Z"
   },
   {
    "duration": 2448,
    "start_time": "2022-07-24T08:31:31.419Z"
   },
   {
    "duration": 124,
    "start_time": "2022-07-24T08:31:33.870Z"
   },
   {
    "duration": 1762,
    "start_time": "2022-07-24T08:31:33.996Z"
   },
   {
    "duration": 473,
    "start_time": "2022-07-24T08:31:35.759Z"
   },
   {
    "duration": 361,
    "start_time": "2022-07-24T08:31:36.235Z"
   },
   {
    "duration": 166,
    "start_time": "2022-07-24T08:31:36.598Z"
   },
   {
    "duration": 97,
    "start_time": "2022-07-24T08:31:36.766Z"
   },
   {
    "duration": 64,
    "start_time": "2022-07-24T08:31:36.865Z"
   },
   {
    "duration": 69,
    "start_time": "2022-07-24T08:31:36.931Z"
   },
   {
    "duration": 64,
    "start_time": "2022-07-24T08:31:37.002Z"
   },
   {
    "duration": 123,
    "start_time": "2022-07-24T08:31:37.069Z"
   },
   {
    "duration": 73,
    "start_time": "2022-07-24T08:31:37.194Z"
   },
   {
    "duration": 49,
    "start_time": "2022-07-24T08:31:37.269Z"
   },
   {
    "duration": 42,
    "start_time": "2022-07-24T08:31:37.322Z"
   },
   {
    "duration": 18,
    "start_time": "2022-07-24T08:31:37.365Z"
   },
   {
    "duration": 56,
    "start_time": "2022-07-24T08:31:37.384Z"
   },
   {
    "duration": 14,
    "start_time": "2022-07-24T08:31:37.442Z"
   },
   {
    "duration": 46,
    "start_time": "2022-07-24T08:31:37.457Z"
   },
   {
    "duration": 54,
    "start_time": "2022-07-24T08:31:37.505Z"
   },
   {
    "duration": 61,
    "start_time": "2022-07-24T08:31:37.561Z"
   },
   {
    "duration": 51,
    "start_time": "2022-07-24T08:31:37.624Z"
   },
   {
    "duration": 169,
    "start_time": "2022-07-24T08:31:37.676Z"
   },
   {
    "duration": 206,
    "start_time": "2022-07-24T08:31:37.847Z"
   },
   {
    "duration": 175,
    "start_time": "2022-07-24T08:31:38.054Z"
   },
   {
    "duration": 51,
    "start_time": "2022-07-24T08:31:38.231Z"
   },
   {
    "duration": 63,
    "start_time": "2022-07-24T08:31:38.285Z"
   },
   {
    "duration": 56,
    "start_time": "2022-07-24T08:31:38.350Z"
   },
   {
    "duration": 62,
    "start_time": "2022-07-24T08:31:38.408Z"
   },
   {
    "duration": 63,
    "start_time": "2022-07-24T08:31:38.472Z"
   },
   {
    "duration": 57,
    "start_time": "2022-07-24T08:31:38.537Z"
   },
   {
    "duration": 67,
    "start_time": "2022-07-24T08:31:38.596Z"
   },
   {
    "duration": 68,
    "start_time": "2022-07-24T08:31:38.665Z"
   },
   {
    "duration": 71,
    "start_time": "2022-07-24T08:31:38.735Z"
   },
   {
    "duration": 33,
    "start_time": "2022-07-24T08:31:38.808Z"
   },
   {
    "duration": 18,
    "start_time": "2022-07-24T08:31:38.843Z"
   },
   {
    "duration": 86,
    "start_time": "2022-07-24T08:31:38.863Z"
   },
   {
    "duration": 46,
    "start_time": "2022-07-24T08:31:38.951Z"
   },
   {
    "duration": 25,
    "start_time": "2022-07-24T08:31:38.999Z"
   },
   {
    "duration": 1170,
    "start_time": "2022-07-24T08:31:39.026Z"
   },
   {
    "duration": 1223,
    "start_time": "2022-07-24T08:31:40.206Z"
   },
   {
    "duration": 1165,
    "start_time": "2022-07-24T08:31:41.435Z"
   },
   {
    "duration": 422,
    "start_time": "2022-07-24T08:31:42.605Z"
   },
   {
    "duration": 24,
    "start_time": "2022-07-24T08:31:43.029Z"
   },
   {
    "duration": 1157,
    "start_time": "2022-07-24T08:31:43.055Z"
   },
   {
    "duration": 1296,
    "start_time": "2022-07-24T08:31:44.214Z"
   },
   {
    "duration": 1370,
    "start_time": "2022-07-24T08:31:45.517Z"
   },
   {
    "duration": 1371,
    "start_time": "2022-07-24T08:31:46.889Z"
   },
   {
    "duration": 25,
    "start_time": "2022-07-24T08:31:48.261Z"
   },
   {
    "duration": 30,
    "start_time": "2022-07-24T08:31:48.303Z"
   },
   {
    "duration": 21,
    "start_time": "2022-07-24T08:31:48.335Z"
   },
   {
    "duration": 20,
    "start_time": "2022-07-24T08:31:48.358Z"
   },
   {
    "duration": 82,
    "start_time": "2022-07-24T08:31:48.380Z"
   },
   {
    "duration": 9,
    "start_time": "2022-07-24T08:31:48.464Z"
   },
   {
    "duration": 22,
    "start_time": "2022-07-24T08:31:48.475Z"
   },
   {
    "duration": 38,
    "start_time": "2022-07-24T08:31:48.500Z"
   },
   {
    "duration": 64,
    "start_time": "2022-07-24T08:31:48.539Z"
   },
   {
    "duration": 82,
    "start_time": "2022-07-24T08:31:48.604Z"
   },
   {
    "duration": 67,
    "start_time": "2022-07-24T08:31:48.688Z"
   },
   {
    "duration": 66,
    "start_time": "2022-07-24T08:31:48.757Z"
   },
   {
    "duration": 8403,
    "start_time": "2022-07-24T08:31:48.826Z"
   },
   {
    "duration": 835557,
    "start_time": "2022-07-24T08:31:57.231Z"
   },
   {
    "duration": 19226,
    "start_time": "2022-07-24T08:45:52.790Z"
   },
   {
    "duration": 53,
    "start_time": "2022-07-24T08:46:12.104Z"
   },
   {
    "duration": 445,
    "start_time": "2022-07-24T08:46:12.159Z"
   },
   {
    "duration": 105,
    "start_time": "2022-07-24T08:46:12.606Z"
   },
   {
    "duration": 17,
    "start_time": "2022-07-24T08:46:12.712Z"
   },
   {
    "duration": 20,
    "start_time": "2022-07-24T08:50:24.305Z"
   },
   {
    "duration": 4912,
    "start_time": "2022-07-24T10:33:53.367Z"
   },
   {
    "duration": 138,
    "start_time": "2022-07-24T10:33:58.281Z"
   },
   {
    "duration": 1774,
    "start_time": "2022-07-24T10:33:58.420Z"
   },
   {
    "duration": 2095,
    "start_time": "2022-07-24T10:34:00.197Z"
   },
   {
    "duration": 966,
    "start_time": "2022-07-24T10:34:02.294Z"
   },
   {
    "duration": 445,
    "start_time": "2022-07-24T10:34:03.262Z"
   },
   {
    "duration": 80,
    "start_time": "2022-07-24T10:34:03.709Z"
   },
   {
    "duration": 62,
    "start_time": "2022-07-24T10:34:03.791Z"
   },
   {
    "duration": 49,
    "start_time": "2022-07-24T10:34:03.855Z"
   },
   {
    "duration": 55,
    "start_time": "2022-07-24T10:34:03.907Z"
   },
   {
    "duration": 57,
    "start_time": "2022-07-24T10:34:03.964Z"
   },
   {
    "duration": 42,
    "start_time": "2022-07-24T10:34:04.023Z"
   },
   {
    "duration": 32,
    "start_time": "2022-07-24T10:34:04.068Z"
   },
   {
    "duration": 38,
    "start_time": "2022-07-24T10:34:04.102Z"
   },
   {
    "duration": 15,
    "start_time": "2022-07-24T10:34:04.141Z"
   },
   {
    "duration": 41,
    "start_time": "2022-07-24T10:34:04.158Z"
   },
   {
    "duration": 13,
    "start_time": "2022-07-24T10:34:04.201Z"
   },
   {
    "duration": 54,
    "start_time": "2022-07-24T10:34:04.215Z"
   },
   {
    "duration": 39,
    "start_time": "2022-07-24T10:34:04.271Z"
   },
   {
    "duration": 60,
    "start_time": "2022-07-24T10:34:04.312Z"
   },
   {
    "duration": 43,
    "start_time": "2022-07-24T10:34:04.374Z"
   },
   {
    "duration": 138,
    "start_time": "2022-07-24T10:34:04.419Z"
   },
   {
    "duration": 161,
    "start_time": "2022-07-24T10:34:04.558Z"
   },
   {
    "duration": 62,
    "start_time": "2022-07-24T10:34:04.721Z"
   },
   {
    "duration": 36,
    "start_time": "2022-07-24T10:34:04.785Z"
   },
   {
    "duration": 48,
    "start_time": "2022-07-24T10:34:04.823Z"
   },
   {
    "duration": 116,
    "start_time": "2022-07-24T10:34:04.873Z"
   },
   {
    "duration": 59,
    "start_time": "2022-07-24T10:34:04.992Z"
   },
   {
    "duration": 43,
    "start_time": "2022-07-24T10:34:05.052Z"
   },
   {
    "duration": 57,
    "start_time": "2022-07-24T10:34:05.096Z"
   },
   {
    "duration": 51,
    "start_time": "2022-07-24T10:34:05.155Z"
   },
   {
    "duration": 54,
    "start_time": "2022-07-24T10:34:05.208Z"
   },
   {
    "duration": 46,
    "start_time": "2022-07-24T10:34:05.264Z"
   },
   {
    "duration": 17,
    "start_time": "2022-07-24T10:35:09.953Z"
   },
   {
    "duration": 118,
    "start_time": "2022-07-24T10:35:23.575Z"
   },
   {
    "duration": 41,
    "start_time": "2022-07-24T10:35:36.453Z"
   },
   {
    "duration": 40,
    "start_time": "2022-07-24T10:35:47.221Z"
   },
   {
    "duration": 16,
    "start_time": "2022-07-24T10:35:52.380Z"
   },
   {
    "duration": 90,
    "start_time": "2022-07-24T10:35:54.851Z"
   },
   {
    "duration": 15,
    "start_time": "2022-07-24T10:35:59.540Z"
   },
   {
    "duration": 32,
    "start_time": "2022-07-24T10:36:10.087Z"
   },
   {
    "duration": 2428,
    "start_time": "2022-07-24T10:37:36.958Z"
   },
   {
    "duration": 36,
    "start_time": "2022-07-24T10:37:39.389Z"
   },
   {
    "duration": 14,
    "start_time": "2022-07-24T10:37:39.427Z"
   },
   {
    "duration": 422,
    "start_time": "2022-07-24T10:37:39.442Z"
   },
   {
    "duration": 297,
    "start_time": "2022-07-24T10:37:39.867Z"
   },
   {
    "duration": 94,
    "start_time": "2022-07-24T10:37:40.165Z"
   },
   {
    "duration": 45,
    "start_time": "2022-07-24T10:37:40.261Z"
   },
   {
    "duration": 54,
    "start_time": "2022-07-24T10:37:40.308Z"
   },
   {
    "duration": 44,
    "start_time": "2022-07-24T10:37:40.364Z"
   },
   {
    "duration": 45,
    "start_time": "2022-07-24T10:37:40.410Z"
   },
   {
    "duration": 46,
    "start_time": "2022-07-24T10:37:40.457Z"
   },
   {
    "duration": 37,
    "start_time": "2022-07-24T10:37:40.504Z"
   },
   {
    "duration": 31,
    "start_time": "2022-07-24T10:37:40.543Z"
   },
   {
    "duration": 32,
    "start_time": "2022-07-24T10:37:40.578Z"
   },
   {
    "duration": 15,
    "start_time": "2022-07-24T10:37:40.612Z"
   },
   {
    "duration": 31,
    "start_time": "2022-07-24T10:37:40.630Z"
   },
   {
    "duration": 13,
    "start_time": "2022-07-24T10:37:40.663Z"
   },
   {
    "duration": 29,
    "start_time": "2022-07-24T10:37:40.678Z"
   },
   {
    "duration": 40,
    "start_time": "2022-07-24T10:37:40.708Z"
   },
   {
    "duration": 43,
    "start_time": "2022-07-24T10:37:40.750Z"
   },
   {
    "duration": 40,
    "start_time": "2022-07-24T10:37:40.794Z"
   },
   {
    "duration": 148,
    "start_time": "2022-07-24T10:37:40.836Z"
   },
   {
    "duration": 151,
    "start_time": "2022-07-24T10:37:40.985Z"
   },
   {
    "duration": 48,
    "start_time": "2022-07-24T10:37:41.138Z"
   },
   {
    "duration": 33,
    "start_time": "2022-07-24T10:37:41.188Z"
   },
   {
    "duration": 35,
    "start_time": "2022-07-24T10:37:41.222Z"
   },
   {
    "duration": 31,
    "start_time": "2022-07-24T10:37:41.259Z"
   },
   {
    "duration": 43,
    "start_time": "2022-07-24T10:37:41.292Z"
   },
   {
    "duration": 40,
    "start_time": "2022-07-24T10:37:41.337Z"
   },
   {
    "duration": 36,
    "start_time": "2022-07-24T10:37:41.378Z"
   },
   {
    "duration": 43,
    "start_time": "2022-07-24T10:37:41.416Z"
   },
   {
    "duration": 49,
    "start_time": "2022-07-24T10:37:41.461Z"
   },
   {
    "duration": 47,
    "start_time": "2022-07-24T10:37:41.512Z"
   },
   {
    "duration": 15,
    "start_time": "2022-07-24T10:37:41.561Z"
   },
   {
    "duration": 11,
    "start_time": "2022-07-24T10:37:41.578Z"
   },
   {
    "duration": 39,
    "start_time": "2022-07-24T10:37:41.590Z"
   },
   {
    "duration": 32,
    "start_time": "2022-07-24T10:37:41.631Z"
   },
   {
    "duration": 18,
    "start_time": "2022-07-24T10:37:41.664Z"
   },
   {
    "duration": 1085,
    "start_time": "2022-07-24T10:37:41.683Z"
   },
   {
    "duration": 1136,
    "start_time": "2022-07-24T10:37:42.769Z"
   },
   {
    "duration": 1164,
    "start_time": "2022-07-24T10:37:43.909Z"
   },
   {
    "duration": 265,
    "start_time": "2022-07-24T10:37:45.075Z"
   },
   {
    "duration": 21,
    "start_time": "2022-07-24T10:37:45.342Z"
   },
   {
    "duration": 1176,
    "start_time": "2022-07-24T10:37:45.365Z"
   },
   {
    "duration": 1207,
    "start_time": "2022-07-24T10:37:46.544Z"
   },
   {
    "duration": 1095,
    "start_time": "2022-07-24T10:37:47.753Z"
   },
   {
    "duration": 1214,
    "start_time": "2022-07-24T10:37:48.850Z"
   },
   {
    "duration": 19,
    "start_time": "2022-07-24T10:37:50.066Z"
   },
   {
    "duration": 21,
    "start_time": "2022-07-24T10:37:50.087Z"
   },
   {
    "duration": 20,
    "start_time": "2022-07-24T10:37:50.124Z"
   },
   {
    "duration": 18,
    "start_time": "2022-07-24T10:37:50.146Z"
   },
   {
    "duration": 27,
    "start_time": "2022-07-24T10:37:50.165Z"
   },
   {
    "duration": 6,
    "start_time": "2022-07-24T10:37:50.194Z"
   },
   {
    "duration": 9,
    "start_time": "2022-07-24T10:37:54.387Z"
   },
   {
    "duration": 52,
    "start_time": "2022-07-24T10:38:37.354Z"
   },
   {
    "duration": 39,
    "start_time": "2022-07-24T10:38:45.577Z"
   },
   {
    "duration": 52,
    "start_time": "2022-07-24T10:38:57.660Z"
   },
   {
    "duration": 40,
    "start_time": "2022-07-24T10:39:01.740Z"
   },
   {
    "duration": 30,
    "start_time": "2022-07-24T10:39:53.661Z"
   },
   {
    "duration": 43,
    "start_time": "2022-07-24T10:40:04.587Z"
   },
   {
    "duration": 11,
    "start_time": "2022-07-24T10:41:11.564Z"
   },
   {
    "duration": 72,
    "start_time": "2022-07-24T10:41:15.078Z"
   },
   {
    "duration": 52,
    "start_time": "2022-07-24T10:41:17.195Z"
   },
   {
    "duration": 25,
    "start_time": "2022-07-24T10:41:23.779Z"
   },
   {
    "duration": 26,
    "start_time": "2022-07-24T10:41:26.640Z"
   },
   {
    "duration": 2161,
    "start_time": "2022-07-24T10:41:31.142Z"
   },
   {
    "duration": 31,
    "start_time": "2022-07-24T10:41:33.305Z"
   },
   {
    "duration": 12,
    "start_time": "2022-07-24T10:41:33.338Z"
   },
   {
    "duration": 382,
    "start_time": "2022-07-24T10:41:33.351Z"
   },
   {
    "duration": 281,
    "start_time": "2022-07-24T10:41:33.734Z"
   },
   {
    "duration": 96,
    "start_time": "2022-07-24T10:41:34.016Z"
   },
   {
    "duration": 58,
    "start_time": "2022-07-24T10:41:34.114Z"
   },
   {
    "duration": 44,
    "start_time": "2022-07-24T10:41:34.174Z"
   },
   {
    "duration": 51,
    "start_time": "2022-07-24T10:41:34.219Z"
   },
   {
    "duration": 40,
    "start_time": "2022-07-24T10:41:34.272Z"
   },
   {
    "duration": 52,
    "start_time": "2022-07-24T10:41:34.314Z"
   },
   {
    "duration": 37,
    "start_time": "2022-07-24T10:41:34.367Z"
   },
   {
    "duration": 41,
    "start_time": "2022-07-24T10:41:34.406Z"
   },
   {
    "duration": 38,
    "start_time": "2022-07-24T10:41:34.449Z"
   },
   {
    "duration": 14,
    "start_time": "2022-07-24T10:41:34.489Z"
   },
   {
    "duration": 54,
    "start_time": "2022-07-24T10:41:34.504Z"
   },
   {
    "duration": 12,
    "start_time": "2022-07-24T10:41:34.560Z"
   },
   {
    "duration": 30,
    "start_time": "2022-07-24T10:41:34.573Z"
   },
   {
    "duration": 47,
    "start_time": "2022-07-24T10:41:34.605Z"
   },
   {
    "duration": 33,
    "start_time": "2022-07-24T10:41:34.653Z"
   },
   {
    "duration": 32,
    "start_time": "2022-07-24T10:41:34.687Z"
   },
   {
    "duration": 128,
    "start_time": "2022-07-24T10:41:34.721Z"
   },
   {
    "duration": 149,
    "start_time": "2022-07-24T10:41:34.850Z"
   },
   {
    "duration": 65,
    "start_time": "2022-07-24T10:41:35.001Z"
   },
   {
    "duration": 39,
    "start_time": "2022-07-24T10:41:35.067Z"
   },
   {
    "duration": 50,
    "start_time": "2022-07-24T10:41:35.108Z"
   },
   {
    "duration": 33,
    "start_time": "2022-07-24T10:41:35.160Z"
   },
   {
    "duration": 59,
    "start_time": "2022-07-24T10:41:35.197Z"
   },
   {
    "duration": 37,
    "start_time": "2022-07-24T10:41:35.258Z"
   },
   {
    "duration": 49,
    "start_time": "2022-07-24T10:41:35.297Z"
   },
   {
    "duration": 53,
    "start_time": "2022-07-24T10:41:35.348Z"
   },
   {
    "duration": 49,
    "start_time": "2022-07-24T10:41:35.403Z"
   },
   {
    "duration": 37,
    "start_time": "2022-07-24T10:41:35.454Z"
   },
   {
    "duration": 16,
    "start_time": "2022-07-24T10:41:35.493Z"
   },
   {
    "duration": 10,
    "start_time": "2022-07-24T10:41:35.511Z"
   },
   {
    "duration": 47,
    "start_time": "2022-07-24T10:41:35.523Z"
   },
   {
    "duration": 29,
    "start_time": "2022-07-24T10:41:35.572Z"
   },
   {
    "duration": 20,
    "start_time": "2022-07-24T10:41:35.603Z"
   },
   {
    "duration": 1126,
    "start_time": "2022-07-24T10:41:35.625Z"
   },
   {
    "duration": 1164,
    "start_time": "2022-07-24T10:41:36.752Z"
   },
   {
    "duration": 1428,
    "start_time": "2022-07-24T10:41:37.918Z"
   },
   {
    "duration": 223,
    "start_time": "2022-07-24T10:41:39.347Z"
   },
   {
    "duration": 19,
    "start_time": "2022-07-24T10:41:39.572Z"
   },
   {
    "duration": 1048,
    "start_time": "2022-07-24T10:41:39.592Z"
   },
   {
    "duration": 1196,
    "start_time": "2022-07-24T10:41:40.641Z"
   },
   {
    "duration": 1115,
    "start_time": "2022-07-24T10:41:41.839Z"
   },
   {
    "duration": 1293,
    "start_time": "2022-07-24T10:41:42.956Z"
   },
   {
    "duration": 17,
    "start_time": "2022-07-24T10:41:44.250Z"
   },
   {
    "duration": 28,
    "start_time": "2022-07-24T10:41:44.269Z"
   },
   {
    "duration": 18,
    "start_time": "2022-07-24T10:41:44.299Z"
   },
   {
    "duration": 19,
    "start_time": "2022-07-24T10:41:44.323Z"
   },
   {
    "duration": 50,
    "start_time": "2022-07-24T10:41:44.344Z"
   },
   {
    "duration": 6,
    "start_time": "2022-07-24T10:41:44.395Z"
   },
   {
    "duration": 24,
    "start_time": "2022-07-24T10:41:44.403Z"
   },
   {
    "duration": 89,
    "start_time": "2022-07-24T10:41:44.429Z"
   },
   {
    "duration": 14,
    "start_time": "2022-07-24T10:41:44.520Z"
   },
   {
    "duration": 73,
    "start_time": "2022-07-24T10:41:44.536Z"
   },
   {
    "duration": 49,
    "start_time": "2022-07-24T10:41:44.610Z"
   },
   {
    "duration": 35,
    "start_time": "2022-07-24T10:41:44.661Z"
   },
   {
    "duration": 37,
    "start_time": "2022-07-24T10:41:44.697Z"
   },
   {
    "duration": 7442,
    "start_time": "2022-07-24T10:42:01.143Z"
   },
   {
    "duration": 2109,
    "start_time": "2022-07-24T10:42:31.109Z"
   },
   {
    "duration": 34,
    "start_time": "2022-07-24T10:42:33.220Z"
   },
   {
    "duration": 10,
    "start_time": "2022-07-24T10:42:33.255Z"
   },
   {
    "duration": 382,
    "start_time": "2022-07-24T10:42:33.267Z"
   },
   {
    "duration": 297,
    "start_time": "2022-07-24T10:42:33.651Z"
   },
   {
    "duration": 96,
    "start_time": "2022-07-24T10:42:33.949Z"
   },
   {
    "duration": 48,
    "start_time": "2022-07-24T10:42:34.047Z"
   },
   {
    "duration": 69,
    "start_time": "2022-07-24T10:42:34.096Z"
   },
   {
    "duration": 47,
    "start_time": "2022-07-24T10:42:34.167Z"
   },
   {
    "duration": 50,
    "start_time": "2022-07-24T10:42:34.217Z"
   },
   {
    "duration": 45,
    "start_time": "2022-07-24T10:42:34.268Z"
   },
   {
    "duration": 42,
    "start_time": "2022-07-24T10:42:34.315Z"
   },
   {
    "duration": 31,
    "start_time": "2022-07-24T10:42:34.359Z"
   },
   {
    "duration": 27,
    "start_time": "2022-07-24T10:42:34.392Z"
   },
   {
    "duration": 23,
    "start_time": "2022-07-24T10:42:34.420Z"
   },
   {
    "duration": 28,
    "start_time": "2022-07-24T10:42:34.445Z"
   },
   {
    "duration": 12,
    "start_time": "2022-07-24T10:42:34.475Z"
   },
   {
    "duration": 29,
    "start_time": "2022-07-24T10:42:34.489Z"
   },
   {
    "duration": 42,
    "start_time": "2022-07-24T10:42:34.519Z"
   },
   {
    "duration": 30,
    "start_time": "2022-07-24T10:42:34.562Z"
   },
   {
    "duration": 28,
    "start_time": "2022-07-24T10:42:34.594Z"
   },
   {
    "duration": 135,
    "start_time": "2022-07-24T10:42:34.623Z"
   },
   {
    "duration": 141,
    "start_time": "2022-07-24T10:42:34.760Z"
   },
   {
    "duration": 67,
    "start_time": "2022-07-24T10:42:34.903Z"
   },
   {
    "duration": 66,
    "start_time": "2022-07-24T10:42:34.972Z"
   },
   {
    "duration": 45,
    "start_time": "2022-07-24T10:42:35.039Z"
   },
   {
    "duration": 30,
    "start_time": "2022-07-24T10:42:35.085Z"
   },
   {
    "duration": 46,
    "start_time": "2022-07-24T10:42:35.119Z"
   },
   {
    "duration": 40,
    "start_time": "2022-07-24T10:42:35.166Z"
   },
   {
    "duration": 50,
    "start_time": "2022-07-24T10:42:35.208Z"
   },
   {
    "duration": 49,
    "start_time": "2022-07-24T10:42:35.260Z"
   },
   {
    "duration": 53,
    "start_time": "2022-07-24T10:42:35.310Z"
   },
   {
    "duration": 39,
    "start_time": "2022-07-24T10:42:35.365Z"
   },
   {
    "duration": 19,
    "start_time": "2022-07-24T10:42:35.406Z"
   },
   {
    "duration": 14,
    "start_time": "2022-07-24T10:42:35.427Z"
   },
   {
    "duration": 43,
    "start_time": "2022-07-24T10:42:35.444Z"
   },
   {
    "duration": 35,
    "start_time": "2022-07-24T10:42:35.488Z"
   },
   {
    "duration": 21,
    "start_time": "2022-07-24T10:42:35.526Z"
   },
   {
    "duration": 1092,
    "start_time": "2022-07-24T10:42:35.549Z"
   },
   {
    "duration": 1226,
    "start_time": "2022-07-24T10:42:36.643Z"
   },
   {
    "duration": 1114,
    "start_time": "2022-07-24T10:42:37.871Z"
   },
   {
    "duration": 282,
    "start_time": "2022-07-24T10:42:38.987Z"
   },
   {
    "duration": 21,
    "start_time": "2022-07-24T10:42:39.271Z"
   },
   {
    "duration": 1248,
    "start_time": "2022-07-24T10:42:39.293Z"
   },
   {
    "duration": 1107,
    "start_time": "2022-07-24T10:42:40.543Z"
   },
   {
    "duration": 1097,
    "start_time": "2022-07-24T10:42:41.653Z"
   },
   {
    "duration": 1219,
    "start_time": "2022-07-24T10:42:42.751Z"
   },
   {
    "duration": 22,
    "start_time": "2022-07-24T10:42:43.973Z"
   },
   {
    "duration": 35,
    "start_time": "2022-07-24T10:42:43.997Z"
   },
   {
    "duration": 19,
    "start_time": "2022-07-24T10:42:44.033Z"
   },
   {
    "duration": 18,
    "start_time": "2022-07-24T10:42:44.053Z"
   },
   {
    "duration": 36,
    "start_time": "2022-07-24T10:42:44.074Z"
   },
   {
    "duration": 7,
    "start_time": "2022-07-24T10:42:44.111Z"
   },
   {
    "duration": 31,
    "start_time": "2022-07-24T10:42:44.120Z"
   },
   {
    "duration": 30,
    "start_time": "2022-07-24T10:42:44.153Z"
   },
   {
    "duration": 10,
    "start_time": "2022-07-24T10:42:44.184Z"
   },
   {
    "duration": 57,
    "start_time": "2022-07-24T10:42:44.196Z"
   },
   {
    "duration": 57,
    "start_time": "2022-07-24T10:42:44.255Z"
   },
   {
    "duration": 40,
    "start_time": "2022-07-24T10:42:44.313Z"
   },
   {
    "duration": 29,
    "start_time": "2022-07-24T10:42:44.354Z"
   },
   {
    "duration": 7818,
    "start_time": "2022-07-24T10:42:44.385Z"
   },
   {
    "duration": 816288,
    "start_time": "2022-07-24T10:42:52.204Z"
   },
   {
    "duration": 17533,
    "start_time": "2022-07-24T10:56:28.494Z"
   },
   {
    "duration": 96,
    "start_time": "2022-07-24T10:56:46.029Z"
   },
   {
    "duration": 26,
    "start_time": "2022-07-24T10:58:08.768Z"
   },
   {
    "duration": 2390,
    "start_time": "2022-07-24T10:58:23.009Z"
   },
   {
    "duration": 47,
    "start_time": "2022-07-24T10:58:25.401Z"
   },
   {
    "duration": 11,
    "start_time": "2022-07-24T10:58:25.450Z"
   },
   {
    "duration": 407,
    "start_time": "2022-07-24T10:58:25.464Z"
   },
   {
    "duration": 314,
    "start_time": "2022-07-24T10:58:25.873Z"
   },
   {
    "duration": 102,
    "start_time": "2022-07-24T10:58:26.189Z"
   },
   {
    "duration": 61,
    "start_time": "2022-07-24T10:58:26.293Z"
   },
   {
    "duration": 88,
    "start_time": "2022-07-24T10:58:26.355Z"
   },
   {
    "duration": 97,
    "start_time": "2022-07-24T10:58:26.445Z"
   },
   {
    "duration": 72,
    "start_time": "2022-07-24T10:58:26.545Z"
   },
   {
    "duration": 55,
    "start_time": "2022-07-24T10:58:26.619Z"
   },
   {
    "duration": 37,
    "start_time": "2022-07-24T10:58:26.675Z"
   },
   {
    "duration": 44,
    "start_time": "2022-07-24T10:58:26.714Z"
   },
   {
    "duration": 31,
    "start_time": "2022-07-24T10:58:26.760Z"
   },
   {
    "duration": 14,
    "start_time": "2022-07-24T10:58:26.793Z"
   },
   {
    "duration": 37,
    "start_time": "2022-07-24T10:58:26.808Z"
   },
   {
    "duration": 14,
    "start_time": "2022-07-24T10:58:26.847Z"
   },
   {
    "duration": 35,
    "start_time": "2022-07-24T10:58:26.863Z"
   },
   {
    "duration": 58,
    "start_time": "2022-07-24T10:58:26.900Z"
   },
   {
    "duration": 34,
    "start_time": "2022-07-24T10:58:26.960Z"
   },
   {
    "duration": 47,
    "start_time": "2022-07-24T10:58:26.995Z"
   },
   {
    "duration": 126,
    "start_time": "2022-07-24T10:58:27.044Z"
   },
   {
    "duration": 175,
    "start_time": "2022-07-24T10:58:27.173Z"
   },
   {
    "duration": 57,
    "start_time": "2022-07-24T10:58:27.349Z"
   },
   {
    "duration": 50,
    "start_time": "2022-07-24T10:58:27.408Z"
   },
   {
    "duration": 36,
    "start_time": "2022-07-24T10:58:27.460Z"
   },
   {
    "duration": 46,
    "start_time": "2022-07-24T10:58:27.497Z"
   },
   {
    "duration": 47,
    "start_time": "2022-07-24T10:58:27.547Z"
   },
   {
    "duration": 65,
    "start_time": "2022-07-24T10:58:27.596Z"
   },
   {
    "duration": 38,
    "start_time": "2022-07-24T10:58:27.663Z"
   },
   {
    "duration": 63,
    "start_time": "2022-07-24T10:58:27.703Z"
   },
   {
    "duration": 45,
    "start_time": "2022-07-24T10:58:27.767Z"
   },
   {
    "duration": 62,
    "start_time": "2022-07-24T10:58:27.813Z"
   },
   {
    "duration": 17,
    "start_time": "2022-07-24T10:58:27.877Z"
   },
   {
    "duration": 19,
    "start_time": "2022-07-24T10:58:27.896Z"
   },
   {
    "duration": 68,
    "start_time": "2022-07-24T10:58:27.917Z"
   },
   {
    "duration": 30,
    "start_time": "2022-07-24T10:58:27.987Z"
   },
   {
    "duration": 28,
    "start_time": "2022-07-24T10:58:28.018Z"
   },
   {
    "duration": 1217,
    "start_time": "2022-07-24T10:58:28.048Z"
   },
   {
    "duration": 1529,
    "start_time": "2022-07-24T10:58:29.267Z"
   },
   {
    "duration": 1068,
    "start_time": "2022-07-24T10:58:30.799Z"
   },
   {
    "duration": 235,
    "start_time": "2022-07-24T10:58:31.869Z"
   },
   {
    "duration": 40,
    "start_time": "2022-07-24T10:58:32.108Z"
   },
   {
    "duration": 1130,
    "start_time": "2022-07-24T10:58:32.149Z"
   },
   {
    "duration": 1149,
    "start_time": "2022-07-24T10:58:33.281Z"
   },
   {
    "duration": 1283,
    "start_time": "2022-07-24T10:58:34.431Z"
   },
   {
    "duration": 1186,
    "start_time": "2022-07-24T10:58:35.716Z"
   },
   {
    "duration": 27,
    "start_time": "2022-07-24T10:58:36.904Z"
   },
   {
    "duration": 24,
    "start_time": "2022-07-24T10:58:36.933Z"
   },
   {
    "duration": 22,
    "start_time": "2022-07-24T10:58:36.959Z"
   },
   {
    "duration": 50,
    "start_time": "2022-07-24T10:58:36.983Z"
   },
   {
    "duration": 34,
    "start_time": "2022-07-24T10:58:37.040Z"
   },
   {
    "duration": 6,
    "start_time": "2022-07-24T10:58:37.076Z"
   },
   {
    "duration": 56,
    "start_time": "2022-07-24T10:59:53.667Z"
   },
   {
    "duration": 64,
    "start_time": "2022-07-24T11:00:14.201Z"
   },
   {
    "duration": 46,
    "start_time": "2022-07-24T11:00:27.677Z"
   },
   {
    "duration": 63,
    "start_time": "2022-07-24T11:00:35.946Z"
   },
   {
    "duration": 35,
    "start_time": "2022-07-24T11:00:44.046Z"
   },
   {
    "duration": 56,
    "start_time": "2022-07-24T11:00:57.394Z"
   },
   {
    "duration": 2117,
    "start_time": "2022-07-24T11:02:36.481Z"
   },
   {
    "duration": 101,
    "start_time": "2022-07-24T11:02:38.601Z"
   },
   {
    "duration": 1566,
    "start_time": "2022-07-24T11:02:38.704Z"
   },
   {
    "duration": 410,
    "start_time": "2022-07-24T11:02:40.272Z"
   },
   {
    "duration": 320,
    "start_time": "2022-07-24T11:02:40.685Z"
   },
   {
    "duration": 112,
    "start_time": "2022-07-24T11:02:41.007Z"
   },
   {
    "duration": 60,
    "start_time": "2022-07-24T11:02:41.122Z"
   },
   {
    "duration": 66,
    "start_time": "2022-07-24T11:02:41.184Z"
   },
   {
    "duration": 61,
    "start_time": "2022-07-24T11:02:41.252Z"
   },
   {
    "duration": 56,
    "start_time": "2022-07-24T11:02:41.316Z"
   },
   {
    "duration": 75,
    "start_time": "2022-07-24T11:02:41.374Z"
   },
   {
    "duration": 60,
    "start_time": "2022-07-24T11:02:41.451Z"
   },
   {
    "duration": 54,
    "start_time": "2022-07-24T11:02:41.513Z"
   },
   {
    "duration": 30,
    "start_time": "2022-07-24T11:02:41.571Z"
   },
   {
    "duration": 18,
    "start_time": "2022-07-24T11:02:41.603Z"
   },
   {
    "duration": 44,
    "start_time": "2022-07-24T11:02:41.623Z"
   },
   {
    "duration": 13,
    "start_time": "2022-07-24T11:02:41.668Z"
   },
   {
    "duration": 31,
    "start_time": "2022-07-24T11:02:41.683Z"
   },
   {
    "duration": 53,
    "start_time": "2022-07-24T11:02:41.717Z"
   },
   {
    "duration": 49,
    "start_time": "2022-07-24T11:02:41.772Z"
   },
   {
    "duration": 43,
    "start_time": "2022-07-24T11:02:41.822Z"
   },
   {
    "duration": 136,
    "start_time": "2022-07-24T11:02:41.867Z"
   },
   {
    "duration": 168,
    "start_time": "2022-07-24T11:02:42.005Z"
   },
   {
    "duration": 137,
    "start_time": "2022-07-24T11:02:42.174Z"
   },
   {
    "duration": 56,
    "start_time": "2022-07-24T11:02:42.314Z"
   },
   {
    "duration": 39,
    "start_time": "2022-07-24T11:02:42.372Z"
   },
   {
    "duration": 36,
    "start_time": "2022-07-24T11:02:42.413Z"
   },
   {
    "duration": 39,
    "start_time": "2022-07-24T11:02:42.450Z"
   },
   {
    "duration": 44,
    "start_time": "2022-07-24T11:02:42.491Z"
   },
   {
    "duration": 40,
    "start_time": "2022-07-24T11:02:42.537Z"
   },
   {
    "duration": 62,
    "start_time": "2022-07-24T11:02:42.579Z"
   },
   {
    "duration": 47,
    "start_time": "2022-07-24T11:02:42.644Z"
   },
   {
    "duration": 66,
    "start_time": "2022-07-24T11:02:42.693Z"
   },
   {
    "duration": 17,
    "start_time": "2022-07-24T11:02:42.761Z"
   },
   {
    "duration": 12,
    "start_time": "2022-07-24T11:02:42.780Z"
   },
   {
    "duration": 48,
    "start_time": "2022-07-24T11:02:42.793Z"
   },
   {
    "duration": 34,
    "start_time": "2022-07-24T11:02:42.843Z"
   },
   {
    "duration": 27,
    "start_time": "2022-07-24T11:02:42.879Z"
   },
   {
    "duration": 1057,
    "start_time": "2022-07-24T11:02:42.908Z"
   },
   {
    "duration": 1243,
    "start_time": "2022-07-24T11:02:43.967Z"
   },
   {
    "duration": 1169,
    "start_time": "2022-07-24T11:02:45.216Z"
   },
   {
    "duration": 375,
    "start_time": "2022-07-24T11:02:46.387Z"
   },
   {
    "duration": 27,
    "start_time": "2022-07-24T11:02:46.765Z"
   },
   {
    "duration": 950,
    "start_time": "2022-07-24T11:02:46.793Z"
   },
   {
    "duration": 1012,
    "start_time": "2022-07-24T11:02:47.745Z"
   },
   {
    "duration": 1134,
    "start_time": "2022-07-24T11:02:48.760Z"
   },
   {
    "duration": 1422,
    "start_time": "2022-07-24T11:02:49.896Z"
   },
   {
    "duration": 31,
    "start_time": "2022-07-24T11:02:51.322Z"
   },
   {
    "duration": 22,
    "start_time": "2022-07-24T11:02:51.355Z"
   },
   {
    "duration": 45,
    "start_time": "2022-07-24T11:02:51.379Z"
   },
   {
    "duration": 23,
    "start_time": "2022-07-24T11:02:51.426Z"
   },
   {
    "duration": 33,
    "start_time": "2022-07-24T11:02:51.451Z"
   },
   {
    "duration": 9,
    "start_time": "2022-07-24T11:02:51.486Z"
   },
   {
    "duration": 33,
    "start_time": "2022-07-24T11:02:51.497Z"
   },
   {
    "duration": 27,
    "start_time": "2022-07-24T11:02:51.531Z"
   },
   {
    "duration": 137,
    "start_time": "2022-07-24T11:02:51.560Z"
   },
   {
    "duration": 0,
    "start_time": "2022-07-24T11:02:51.699Z"
   },
   {
    "duration": 0,
    "start_time": "2022-07-24T11:02:51.701Z"
   },
   {
    "duration": 0,
    "start_time": "2022-07-24T11:02:51.702Z"
   },
   {
    "duration": 0,
    "start_time": "2022-07-24T11:02:51.704Z"
   },
   {
    "duration": 0,
    "start_time": "2022-07-24T11:02:51.705Z"
   },
   {
    "duration": 0,
    "start_time": "2022-07-24T11:02:51.707Z"
   },
   {
    "duration": 0,
    "start_time": "2022-07-24T11:02:51.723Z"
   },
   {
    "duration": 0,
    "start_time": "2022-07-24T11:02:51.725Z"
   },
   {
    "duration": 0,
    "start_time": "2022-07-24T11:02:51.727Z"
   },
   {
    "duration": 0,
    "start_time": "2022-07-24T11:02:51.729Z"
   },
   {
    "duration": 0,
    "start_time": "2022-07-24T11:02:51.730Z"
   },
   {
    "duration": 45,
    "start_time": "2022-07-24T11:23:54.254Z"
   },
   {
    "duration": 27,
    "start_time": "2022-07-24T11:24:21.472Z"
   },
   {
    "duration": 48,
    "start_time": "2022-07-24T11:24:24.387Z"
   },
   {
    "duration": 48,
    "start_time": "2022-07-24T11:24:56.131Z"
   },
   {
    "duration": 70,
    "start_time": "2022-07-24T11:24:58.047Z"
   },
   {
    "duration": 78,
    "start_time": "2022-07-24T11:25:02.071Z"
   },
   {
    "duration": 71,
    "start_time": "2022-07-24T11:25:02.560Z"
   },
   {
    "duration": 4602,
    "start_time": "2022-07-24T11:25:05.148Z"
   },
   {
    "duration": 518858,
    "start_time": "2022-07-24T11:25:12.154Z"
   },
   {
    "duration": 15119,
    "start_time": "2022-07-24T11:33:51.014Z"
   },
   {
    "duration": 33,
    "start_time": "2022-07-24T11:37:21.252Z"
   },
   {
    "duration": 256,
    "start_time": "2022-07-24T11:37:28.072Z"
   },
   {
    "duration": 33,
    "start_time": "2022-07-24T11:37:30.971Z"
   },
   {
    "duration": 37,
    "start_time": "2022-07-24T11:38:21.427Z"
   },
   {
    "duration": 34,
    "start_time": "2022-07-24T11:38:26.358Z"
   },
   {
    "duration": 30,
    "start_time": "2022-07-24T11:38:39.693Z"
   },
   {
    "duration": 48,
    "start_time": "2022-07-24T11:38:45.011Z"
   },
   {
    "duration": 37,
    "start_time": "2022-07-24T11:38:51.573Z"
   },
   {
    "duration": 40,
    "start_time": "2022-07-24T11:38:55.452Z"
   },
   {
    "duration": 43,
    "start_time": "2022-07-24T11:38:59.308Z"
   },
   {
    "duration": 39,
    "start_time": "2022-07-24T11:39:04.668Z"
   },
   {
    "duration": 36,
    "start_time": "2022-07-24T11:39:09.853Z"
   },
   {
    "duration": 41,
    "start_time": "2022-07-24T11:39:14.538Z"
   },
   {
    "duration": 31,
    "start_time": "2022-07-24T11:39:22.636Z"
   },
   {
    "duration": 29,
    "start_time": "2022-07-24T11:39:42.661Z"
   },
   {
    "duration": 37,
    "start_time": "2022-07-24T11:39:50.828Z"
   },
   {
    "duration": 36,
    "start_time": "2022-07-24T11:40:51.167Z"
   },
   {
    "duration": 59,
    "start_time": "2022-07-24T11:41:24.718Z"
   },
   {
    "duration": 46,
    "start_time": "2022-07-24T11:42:26.356Z"
   },
   {
    "duration": 49,
    "start_time": "2022-07-24T11:42:28.397Z"
   },
   {
    "duration": 123,
    "start_time": "2022-07-24T11:42:44.500Z"
   },
   {
    "duration": 20,
    "start_time": "2022-07-24T11:42:50.580Z"
   },
   {
    "duration": 57,
    "start_time": "2022-07-24T11:43:08.146Z"
   },
   {
    "duration": 35,
    "start_time": "2022-07-24T11:43:10.498Z"
   },
   {
    "duration": 49,
    "start_time": "2022-07-24T11:43:12.479Z"
   },
   {
    "duration": 43,
    "start_time": "2022-07-24T11:43:38.776Z"
   },
   {
    "duration": 53,
    "start_time": "2022-07-24T11:43:44.308Z"
   },
   {
    "duration": 43,
    "start_time": "2022-07-24T11:43:57.638Z"
   },
   {
    "duration": 32,
    "start_time": "2022-07-24T11:44:02.083Z"
   },
   {
    "duration": 29,
    "start_time": "2022-07-24T11:44:07.603Z"
   },
   {
    "duration": 33,
    "start_time": "2022-07-24T11:44:12.283Z"
   },
   {
    "duration": 234,
    "start_time": "2022-07-24T11:44:22.000Z"
   },
   {
    "duration": 35,
    "start_time": "2022-07-24T11:44:24.707Z"
   },
   {
    "duration": 27,
    "start_time": "2022-07-24T11:44:28.506Z"
   },
   {
    "duration": 15,
    "start_time": "2022-07-24T11:44:41.307Z"
   },
   {
    "duration": 2329,
    "start_time": "2022-07-24T11:47:15.625Z"
   },
   {
    "duration": 93,
    "start_time": "2022-07-24T11:47:17.957Z"
   },
   {
    "duration": 1429,
    "start_time": "2022-07-24T11:47:18.053Z"
   },
   {
    "duration": 499,
    "start_time": "2022-07-24T11:47:19.484Z"
   },
   {
    "duration": 283,
    "start_time": "2022-07-24T11:47:19.984Z"
   },
   {
    "duration": 129,
    "start_time": "2022-07-24T11:47:20.269Z"
   },
   {
    "duration": 57,
    "start_time": "2022-07-24T11:47:20.400Z"
   },
   {
    "duration": 60,
    "start_time": "2022-07-24T11:47:20.460Z"
   },
   {
    "duration": 53,
    "start_time": "2022-07-24T11:47:20.522Z"
   },
   {
    "duration": 43,
    "start_time": "2022-07-24T11:47:20.579Z"
   },
   {
    "duration": 54,
    "start_time": "2022-07-24T11:47:20.624Z"
   },
   {
    "duration": 41,
    "start_time": "2022-07-24T11:47:20.679Z"
   },
   {
    "duration": 36,
    "start_time": "2022-07-24T11:47:20.722Z"
   },
   {
    "duration": 27,
    "start_time": "2022-07-24T11:47:20.760Z"
   },
   {
    "duration": 150,
    "start_time": "2022-07-24T11:47:20.790Z"
   },
   {
    "duration": 42,
    "start_time": "2022-07-24T11:47:20.942Z"
   },
   {
    "duration": 19,
    "start_time": "2022-07-24T11:47:20.987Z"
   },
   {
    "duration": 62,
    "start_time": "2022-07-24T11:47:21.009Z"
   },
   {
    "duration": 53,
    "start_time": "2022-07-24T11:47:21.073Z"
   },
   {
    "duration": 34,
    "start_time": "2022-07-24T11:47:21.128Z"
   },
   {
    "duration": 31,
    "start_time": "2022-07-24T11:47:21.165Z"
   },
   {
    "duration": 146,
    "start_time": "2022-07-24T11:47:21.198Z"
   },
   {
    "duration": 174,
    "start_time": "2022-07-24T11:47:21.346Z"
   },
   {
    "duration": 64,
    "start_time": "2022-07-24T11:47:21.522Z"
   },
   {
    "duration": 34,
    "start_time": "2022-07-24T11:47:21.587Z"
   },
   {
    "duration": 35,
    "start_time": "2022-07-24T11:47:21.623Z"
   },
   {
    "duration": 104,
    "start_time": "2022-07-24T11:47:21.659Z"
   },
   {
    "duration": 38,
    "start_time": "2022-07-24T11:47:21.767Z"
   },
   {
    "duration": 41,
    "start_time": "2022-07-24T11:47:21.807Z"
   },
   {
    "duration": 34,
    "start_time": "2022-07-24T11:47:21.849Z"
   },
   {
    "duration": 49,
    "start_time": "2022-07-24T11:47:21.885Z"
   },
   {
    "duration": 40,
    "start_time": "2022-07-24T11:47:21.935Z"
   },
   {
    "duration": 50,
    "start_time": "2022-07-24T11:47:21.977Z"
   },
   {
    "duration": 26,
    "start_time": "2022-07-24T11:47:22.029Z"
   },
   {
    "duration": 33,
    "start_time": "2022-07-24T11:47:22.058Z"
   },
   {
    "duration": 30,
    "start_time": "2022-07-24T11:47:22.093Z"
   },
   {
    "duration": 19,
    "start_time": "2022-07-24T11:47:22.125Z"
   },
   {
    "duration": 1255,
    "start_time": "2022-07-24T11:47:22.146Z"
   },
   {
    "duration": 1271,
    "start_time": "2022-07-24T11:47:23.403Z"
   },
   {
    "duration": 1229,
    "start_time": "2022-07-24T11:47:24.675Z"
   },
   {
    "duration": 447,
    "start_time": "2022-07-24T11:47:25.907Z"
   },
   {
    "duration": 21,
    "start_time": "2022-07-24T11:47:26.356Z"
   },
   {
    "duration": 1189,
    "start_time": "2022-07-24T11:47:26.379Z"
   },
   {
    "duration": 1072,
    "start_time": "2022-07-24T11:47:27.570Z"
   },
   {
    "duration": 1118,
    "start_time": "2022-07-24T11:47:28.645Z"
   },
   {
    "duration": 1332,
    "start_time": "2022-07-24T11:47:29.765Z"
   },
   {
    "duration": 27,
    "start_time": "2022-07-24T11:47:31.099Z"
   },
   {
    "duration": 18,
    "start_time": "2022-07-24T11:47:31.128Z"
   },
   {
    "duration": 19,
    "start_time": "2022-07-24T11:47:31.148Z"
   },
   {
    "duration": 18,
    "start_time": "2022-07-24T11:47:31.168Z"
   },
   {
    "duration": 48,
    "start_time": "2022-07-24T11:47:31.187Z"
   },
   {
    "duration": 6,
    "start_time": "2022-07-24T11:47:31.237Z"
   },
   {
    "duration": 68,
    "start_time": "2022-07-24T11:47:31.245Z"
   },
   {
    "duration": 55,
    "start_time": "2022-07-24T11:47:31.315Z"
   },
   {
    "duration": 42,
    "start_time": "2022-07-24T11:47:31.372Z"
   },
   {
    "duration": 61,
    "start_time": "2022-07-24T11:47:31.416Z"
   },
   {
    "duration": 54,
    "start_time": "2022-07-24T11:47:31.479Z"
   },
   {
    "duration": 30,
    "start_time": "2022-07-24T11:47:31.534Z"
   },
   {
    "duration": 35,
    "start_time": "2022-07-24T11:47:31.566Z"
   },
   {
    "duration": 4517,
    "start_time": "2022-07-24T11:47:31.603Z"
   },
   {
    "duration": 526019,
    "start_time": "2022-07-24T11:47:36.121Z"
   },
   {
    "duration": 12094,
    "start_time": "2022-07-24T11:56:22.142Z"
   },
   {
    "duration": 120,
    "start_time": "2022-07-24T11:56:34.238Z"
   },
   {
    "duration": 264,
    "start_time": "2022-07-24T11:56:34.360Z"
   },
   {
    "duration": 114,
    "start_time": "2022-07-24T11:56:34.626Z"
   },
   {
    "duration": 12,
    "start_time": "2022-07-24T11:56:34.741Z"
   }
  ],
  "kernelspec": {
   "display_name": "Python 3 (ipykernel)",
   "language": "python",
   "name": "python3"
  },
  "language_info": {
   "codemirror_mode": {
    "name": "ipython",
    "version": 3
   },
   "file_extension": ".py",
   "mimetype": "text/x-python",
   "name": "python",
   "nbconvert_exporter": "python",
   "pygments_lexer": "ipython3",
   "version": "3.8.16"
  },
  "toc": {
   "base_numbering": 1,
   "nav_menu": {},
   "number_sections": true,
   "sideBar": false,
   "skip_h1_title": true,
   "title_cell": "Содержание",
   "title_sidebar": "Contents",
   "toc_cell": true,
   "toc_position": {
    "height": "47.6875px",
    "left": "1673px",
    "top": "812.484px",
    "width": "159px"
   },
   "toc_section_display": false,
   "toc_window_display": true
  }
 },
 "nbformat": 4,
 "nbformat_minor": 4
}
